{
  "cells": [
    {
      "cell_type": "code",
      "execution_count": 6,
      "metadata": {
        "colab": {
          "base_uri": "https://localhost:8080/"
        },
        "id": "i3VrcCVAeZd8",
        "outputId": "a40e8eaf-61a9-4e90-9d6f-dd9e2d6ac123"
      },
      "outputs": [
        {
          "name": "stdout",
          "output_type": "stream",
          "text": [
            "Collecting spacy-transformers\n",
            "  Downloading spacy_transformers-1.3.5-cp310-cp310-win_amd64.whl.metadata (7.2 kB)\n",
            "Requirement already satisfied: spacy<4.1.0,>=3.5.0 in c:\\users\\adib\\appdata\\local\\programs\\python\\python310\\lib\\site-packages (from spacy-transformers) (3.7.4)\n",
            "Collecting transformers<4.37.0,>=3.4.0 (from spacy-transformers)\n",
            "  Using cached transformers-4.36.2-py3-none-any.whl.metadata (126 kB)\n",
            "Requirement already satisfied: torch>=1.8.0 in c:\\users\\adib\\appdata\\local\\programs\\python\\python310\\lib\\site-packages (from spacy-transformers) (2.2.2)\n",
            "Requirement already satisfied: srsly<3.0.0,>=2.4.0 in c:\\users\\adib\\appdata\\local\\programs\\python\\python310\\lib\\site-packages (from spacy-transformers) (2.4.8)\n",
            "Collecting spacy-alignments<1.0.0,>=0.7.2 (from spacy-transformers)\n",
            "  Downloading spacy_alignments-0.9.1-cp310-cp310-win_amd64.whl.metadata (2.7 kB)\n",
            "Requirement already satisfied: numpy>=1.19.0 in c:\\users\\adib\\appdata\\local\\programs\\python\\python310\\lib\\site-packages (from spacy-transformers) (1.26.4)\n",
            "Requirement already satisfied: spacy-legacy<3.1.0,>=3.0.11 in c:\\users\\adib\\appdata\\local\\programs\\python\\python310\\lib\\site-packages (from spacy<4.1.0,>=3.5.0->spacy-transformers) (3.0.12)\n",
            "Requirement already satisfied: spacy-loggers<2.0.0,>=1.0.0 in c:\\users\\adib\\appdata\\local\\programs\\python\\python310\\lib\\site-packages (from spacy<4.1.0,>=3.5.0->spacy-transformers) (1.0.5)\n",
            "Requirement already satisfied: murmurhash<1.1.0,>=0.28.0 in c:\\users\\adib\\appdata\\local\\programs\\python\\python310\\lib\\site-packages (from spacy<4.1.0,>=3.5.0->spacy-transformers) (1.0.10)\n",
            "Requirement already satisfied: cymem<2.1.0,>=2.0.2 in c:\\users\\adib\\appdata\\local\\programs\\python\\python310\\lib\\site-packages (from spacy<4.1.0,>=3.5.0->spacy-transformers) (2.0.8)\n",
            "Requirement already satisfied: preshed<3.1.0,>=3.0.2 in c:\\users\\adib\\appdata\\local\\programs\\python\\python310\\lib\\site-packages (from spacy<4.1.0,>=3.5.0->spacy-transformers) (3.0.9)\n",
            "Requirement already satisfied: thinc<8.3.0,>=8.2.2 in c:\\users\\adib\\appdata\\local\\programs\\python\\python310\\lib\\site-packages (from spacy<4.1.0,>=3.5.0->spacy-transformers) (8.2.3)\n",
            "Requirement already satisfied: wasabi<1.2.0,>=0.9.1 in c:\\users\\adib\\appdata\\local\\programs\\python\\python310\\lib\\site-packages (from spacy<4.1.0,>=3.5.0->spacy-transformers) (1.1.2)\n",
            "Requirement already satisfied: catalogue<2.1.0,>=2.0.6 in c:\\users\\adib\\appdata\\local\\programs\\python\\python310\\lib\\site-packages (from spacy<4.1.0,>=3.5.0->spacy-transformers) (2.0.10)\n",
            "Requirement already satisfied: weasel<0.4.0,>=0.1.0 in c:\\users\\adib\\appdata\\local\\programs\\python\\python310\\lib\\site-packages (from spacy<4.1.0,>=3.5.0->spacy-transformers) (0.3.4)\n",
            "Requirement already satisfied: typer<0.10.0,>=0.3.0 in c:\\users\\adib\\appdata\\local\\programs\\python\\python310\\lib\\site-packages (from spacy<4.1.0,>=3.5.0->spacy-transformers) (0.9.4)\n",
            "Requirement already satisfied: smart-open<7.0.0,>=5.2.1 in c:\\users\\adib\\appdata\\local\\programs\\python\\python310\\lib\\site-packages (from spacy<4.1.0,>=3.5.0->spacy-transformers) (6.4.0)\n",
            "Requirement already satisfied: tqdm<5.0.0,>=4.38.0 in c:\\users\\adib\\appdata\\local\\programs\\python\\python310\\lib\\site-packages (from spacy<4.1.0,>=3.5.0->spacy-transformers) (4.66.2)\n",
            "Requirement already satisfied: requests<3.0.0,>=2.13.0 in c:\\users\\adib\\appdata\\local\\programs\\python\\python310\\lib\\site-packages (from spacy<4.1.0,>=3.5.0->spacy-transformers) (2.31.0)\n",
            "Requirement already satisfied: pydantic!=1.8,!=1.8.1,<3.0.0,>=1.7.4 in c:\\users\\adib\\appdata\\local\\programs\\python\\python310\\lib\\site-packages (from spacy<4.1.0,>=3.5.0->spacy-transformers) (2.6.4)\n",
            "Requirement already satisfied: jinja2 in c:\\users\\adib\\appdata\\local\\programs\\python\\python310\\lib\\site-packages (from spacy<4.1.0,>=3.5.0->spacy-transformers) (3.1.3)\n",
            "Requirement already satisfied: setuptools in c:\\users\\adib\\appdata\\local\\programs\\python\\python310\\lib\\site-packages (from spacy<4.1.0,>=3.5.0->spacy-transformers) (69.2.0)\n",
            "Requirement already satisfied: packaging>=20.0 in c:\\users\\adib\\appdata\\roaming\\python\\python310\\site-packages (from spacy<4.1.0,>=3.5.0->spacy-transformers) (24.0)\n",
            "Requirement already satisfied: langcodes<4.0.0,>=3.2.0 in c:\\users\\adib\\appdata\\local\\programs\\python\\python310\\lib\\site-packages (from spacy<4.1.0,>=3.5.0->spacy-transformers) (3.3.0)\n",
            "Requirement already satisfied: filelock in c:\\users\\adib\\appdata\\local\\programs\\python\\python310\\lib\\site-packages (from torch>=1.8.0->spacy-transformers) (3.13.3)\n",
            "Requirement already satisfied: typing-extensions>=4.8.0 in c:\\users\\adib\\appdata\\local\\programs\\python\\python310\\lib\\site-packages (from torch>=1.8.0->spacy-transformers) (4.10.0)\n",
            "Requirement already satisfied: sympy in c:\\users\\adib\\appdata\\local\\programs\\python\\python310\\lib\\site-packages (from torch>=1.8.0->spacy-transformers) (1.12)\n",
            "Requirement already satisfied: networkx in c:\\users\\adib\\appdata\\local\\programs\\python\\python310\\lib\\site-packages (from torch>=1.8.0->spacy-transformers) (3.2.1)\n",
            "Requirement already satisfied: fsspec in c:\\users\\adib\\appdata\\local\\programs\\python\\python310\\lib\\site-packages (from torch>=1.8.0->spacy-transformers) (2024.2.0)\n",
            "Requirement already satisfied: huggingface-hub<1.0,>=0.19.3 in c:\\users\\adib\\appdata\\local\\programs\\python\\python310\\lib\\site-packages (from transformers<4.37.0,>=3.4.0->spacy-transformers) (0.22.2)\n",
            "Requirement already satisfied: pyyaml>=5.1 in c:\\users\\adib\\appdata\\local\\programs\\python\\python310\\lib\\site-packages (from transformers<4.37.0,>=3.4.0->spacy-transformers) (6.0.1)\n",
            "Requirement already satisfied: regex!=2019.12.17 in c:\\users\\adib\\appdata\\local\\programs\\python\\python310\\lib\\site-packages (from transformers<4.37.0,>=3.4.0->spacy-transformers) (2023.12.25)\n",
            "Requirement already satisfied: tokenizers<0.19,>=0.14 in c:\\users\\adib\\appdata\\local\\programs\\python\\python310\\lib\\site-packages (from transformers<4.37.0,>=3.4.0->spacy-transformers) (0.15.2)\n",
            "Requirement already satisfied: safetensors>=0.3.1 in c:\\users\\adib\\appdata\\local\\programs\\python\\python310\\lib\\site-packages (from transformers<4.37.0,>=3.4.0->spacy-transformers) (0.4.2)\n",
            "Requirement already satisfied: annotated-types>=0.4.0 in c:\\users\\adib\\appdata\\local\\programs\\python\\python310\\lib\\site-packages (from pydantic!=1.8,!=1.8.1,<3.0.0,>=1.7.4->spacy<4.1.0,>=3.5.0->spacy-transformers) (0.6.0)\n",
            "Requirement already satisfied: pydantic-core==2.16.3 in c:\\users\\adib\\appdata\\local\\programs\\python\\python310\\lib\\site-packages (from pydantic!=1.8,!=1.8.1,<3.0.0,>=1.7.4->spacy<4.1.0,>=3.5.0->spacy-transformers) (2.16.3)\n",
            "Requirement already satisfied: charset-normalizer<4,>=2 in c:\\users\\adib\\appdata\\local\\programs\\python\\python310\\lib\\site-packages (from requests<3.0.0,>=2.13.0->spacy<4.1.0,>=3.5.0->spacy-transformers) (3.3.2)\n",
            "Requirement already satisfied: idna<4,>=2.5 in c:\\users\\adib\\appdata\\local\\programs\\python\\python310\\lib\\site-packages (from requests<3.0.0,>=2.13.0->spacy<4.1.0,>=3.5.0->spacy-transformers) (3.6)\n",
            "Requirement already satisfied: urllib3<3,>=1.21.1 in c:\\users\\adib\\appdata\\local\\programs\\python\\python310\\lib\\site-packages (from requests<3.0.0,>=2.13.0->spacy<4.1.0,>=3.5.0->spacy-transformers) (2.2.1)\n",
            "Requirement already satisfied: certifi>=2017.4.17 in c:\\users\\adib\\appdata\\local\\programs\\python\\python310\\lib\\site-packages (from requests<3.0.0,>=2.13.0->spacy<4.1.0,>=3.5.0->spacy-transformers) (2024.2.2)\n",
            "Requirement already satisfied: blis<0.8.0,>=0.7.8 in c:\\users\\adib\\appdata\\local\\programs\\python\\python310\\lib\\site-packages (from thinc<8.3.0,>=8.2.2->spacy<4.1.0,>=3.5.0->spacy-transformers) (0.7.11)\n",
            "Requirement already satisfied: confection<1.0.0,>=0.0.1 in c:\\users\\adib\\appdata\\local\\programs\\python\\python310\\lib\\site-packages (from thinc<8.3.0,>=8.2.2->spacy<4.1.0,>=3.5.0->spacy-transformers) (0.1.4)\n",
            "Requirement already satisfied: colorama in c:\\users\\adib\\appdata\\roaming\\python\\python310\\site-packages (from tqdm<5.0.0,>=4.38.0->spacy<4.1.0,>=3.5.0->spacy-transformers) (0.4.6)\n",
            "Requirement already satisfied: click<9.0.0,>=7.1.1 in c:\\users\\adib\\appdata\\local\\programs\\python\\python310\\lib\\site-packages (from typer<0.10.0,>=0.3.0->spacy<4.1.0,>=3.5.0->spacy-transformers) (8.1.7)\n",
            "Requirement already satisfied: cloudpathlib<0.17.0,>=0.7.0 in c:\\users\\adib\\appdata\\local\\programs\\python\\python310\\lib\\site-packages (from weasel<0.4.0,>=0.1.0->spacy<4.1.0,>=3.5.0->spacy-transformers) (0.16.0)\n",
            "Requirement already satisfied: MarkupSafe>=2.0 in c:\\users\\adib\\appdata\\local\\programs\\python\\python310\\lib\\site-packages (from jinja2->spacy<4.1.0,>=3.5.0->spacy-transformers) (2.1.5)\n",
            "Requirement already satisfied: mpmath>=0.19 in c:\\users\\adib\\appdata\\local\\programs\\python\\python310\\lib\\site-packages (from sympy->torch>=1.8.0->spacy-transformers) (1.3.0)\n",
            "Downloading spacy_transformers-1.3.5-cp310-cp310-win_amd64.whl (343 kB)\n",
            "   ---------------------------------------- 0.0/343.2 kB ? eta -:--:--\n",
            "   ------- -------------------------------- 61.4/343.2 kB 3.4 MB/s eta 0:00:01\n",
            "   ------- -------------------------------- 61.4/343.2 kB 3.4 MB/s eta 0:00:01\n",
            "   ------- -------------------------------- 61.4/343.2 kB 3.4 MB/s eta 0:00:01\n",
            "   ------- -------------------------------- 61.4/343.2 kB 3.4 MB/s eta 0:00:01\n",
            "   ------- -------------------------------- 61.4/343.2 kB 3.4 MB/s eta 0:00:01\n",
            "   ------- -------------------------------- 61.4/343.2 kB 3.4 MB/s eta 0:00:01\n",
            "   ------- -------------------------------- 61.4/343.2 kB 3.4 MB/s eta 0:00:01\n",
            "   ---------------------- --------------- 204.8/343.2 kB 541.9 kB/s eta 0:00:01\n",
            "   --------------------------- ---------- 245.8/343.2 kB 580.1 kB/s eta 0:00:01\n",
            "   -------------------------------------  337.9/343.2 kB 723.4 kB/s eta 0:00:01\n",
            "   -------------------------------------- 343.2/343.2 kB 711.4 kB/s eta 0:00:00\n",
            "Downloading spacy_alignments-0.9.1-cp310-cp310-win_amd64.whl (187 kB)\n",
            "   ---------------------------------------- 0.0/187.7 kB ? eta -:--:--\n",
            "   ------------------- -------------------- 92.2/187.7 kB 5.1 MB/s eta 0:00:01\n",
            "   ---------------------------------------- 187.7/187.7 kB 2.8 MB/s eta 0:00:00\n",
            "Using cached transformers-4.36.2-py3-none-any.whl (8.2 MB)\n",
            "Installing collected packages: spacy-alignments, transformers, spacy-transformers\n",
            "  Attempting uninstall: transformers\n",
            "    Found existing installation: transformers 4.37.2\n",
            "    Uninstalling transformers-4.37.2:\n",
            "      Successfully uninstalled transformers-4.37.2\n",
            "Successfully installed spacy-alignments-0.9.1 spacy-transformers-1.3.5 transformers-4.36.2\n",
            "Note: you may need to restart the kernel to use updated packages.\n"
          ]
        },
        {
          "name": "stderr",
          "output_type": "stream",
          "text": [
            "  WARNING: The script transformers-cli.exe is installed in 'c:\\Users\\Adib\\AppData\\Local\\Programs\\Python\\Python310\\Scripts' which is not on PATH.\n",
            "  Consider adding this directory to PATH or, if you prefer to suppress this warning, use --no-warn-script-location.\n"
          ]
        },
        {
          "name": "stdout",
          "output_type": "stream",
          "text": [
            "Requirement already satisfied: gradio in c:\\users\\adib\\appdata\\local\\programs\\python\\python310\\lib\\site-packages (4.25.0)\n",
            "Requirement already satisfied: aiofiles<24.0,>=22.0 in c:\\users\\adib\\appdata\\local\\programs\\python\\python310\\lib\\site-packages (from gradio) (23.2.1)\n",
            "Requirement already satisfied: altair<6.0,>=4.2.0 in c:\\users\\adib\\appdata\\local\\programs\\python\\python310\\lib\\site-packages (from gradio) (5.3.0)\n",
            "Requirement already satisfied: fastapi in c:\\users\\adib\\appdata\\local\\programs\\python\\python310\\lib\\site-packages (from gradio) (0.110.1)\n",
            "Requirement already satisfied: ffmpy in c:\\users\\adib\\appdata\\local\\programs\\python\\python310\\lib\\site-packages (from gradio) (0.3.2)\n",
            "Requirement already satisfied: gradio-client==0.15.0 in c:\\users\\adib\\appdata\\local\\programs\\python\\python310\\lib\\site-packages (from gradio) (0.15.0)\n",
            "Requirement already satisfied: httpx>=0.24.1 in c:\\users\\adib\\appdata\\local\\programs\\python\\python310\\lib\\site-packages (from gradio) (0.27.0)\n",
            "Requirement already satisfied: huggingface-hub>=0.19.3 in c:\\users\\adib\\appdata\\local\\programs\\python\\python310\\lib\\site-packages (from gradio) (0.22.2)\n",
            "Requirement already satisfied: importlib-resources<7.0,>=1.3 in c:\\users\\adib\\appdata\\local\\programs\\python\\python310\\lib\\site-packages (from gradio) (6.4.0)\n",
            "Requirement already satisfied: jinja2<4.0 in c:\\users\\adib\\appdata\\local\\programs\\python\\python310\\lib\\site-packages (from gradio) (3.1.3)\n",
            "Requirement already satisfied: markupsafe~=2.0 in c:\\users\\adib\\appdata\\local\\programs\\python\\python310\\lib\\site-packages (from gradio) (2.1.5)\n",
            "Requirement already satisfied: matplotlib~=3.0 in c:\\users\\adib\\appdata\\local\\programs\\python\\python310\\lib\\site-packages (from gradio) (3.8.3)\n",
            "Requirement already satisfied: numpy~=1.0 in c:\\users\\adib\\appdata\\local\\programs\\python\\python310\\lib\\site-packages (from gradio) (1.26.4)\n",
            "Requirement already satisfied: orjson~=3.0 in c:\\users\\adib\\appdata\\local\\programs\\python\\python310\\lib\\site-packages (from gradio) (3.10.0)\n",
            "Requirement already satisfied: packaging in c:\\users\\adib\\appdata\\roaming\\python\\python310\\site-packages (from gradio) (24.0)\n",
            "Requirement already satisfied: pandas<3.0,>=1.0 in c:\\users\\adib\\appdata\\local\\programs\\python\\python310\\lib\\site-packages (from gradio) (2.2.1)\n",
            "Requirement already satisfied: pillow<11.0,>=8.0 in c:\\users\\adib\\appdata\\local\\programs\\python\\python310\\lib\\site-packages (from gradio) (9.0.0)\n",
            "Requirement already satisfied: pydantic>=2.0 in c:\\users\\adib\\appdata\\local\\programs\\python\\python310\\lib\\site-packages (from gradio) (2.6.4)\n",
            "Requirement already satisfied: pydub in c:\\users\\adib\\appdata\\local\\programs\\python\\python310\\lib\\site-packages (from gradio) (0.25.1)\n",
            "Requirement already satisfied: python-multipart>=0.0.9 in c:\\users\\adib\\appdata\\local\\programs\\python\\python310\\lib\\site-packages (from gradio) (0.0.9)\n",
            "Requirement already satisfied: pyyaml<7.0,>=5.0 in c:\\users\\adib\\appdata\\local\\programs\\python\\python310\\lib\\site-packages (from gradio) (6.0.1)\n",
            "Requirement already satisfied: ruff>=0.2.2 in c:\\users\\adib\\appdata\\local\\programs\\python\\python310\\lib\\site-packages (from gradio) (0.3.5)\n",
            "Requirement already satisfied: semantic-version~=2.0 in c:\\users\\adib\\appdata\\local\\programs\\python\\python310\\lib\\site-packages (from gradio) (2.10.0)\n",
            "Requirement already satisfied: tomlkit==0.12.0 in c:\\users\\adib\\appdata\\local\\programs\\python\\python310\\lib\\site-packages (from gradio) (0.12.0)\n",
            "Requirement already satisfied: typer<1.0,>=0.9 in c:\\users\\adib\\appdata\\local\\programs\\python\\python310\\lib\\site-packages (from typer[all]<1.0,>=0.9; sys_platform != \"emscripten\"->gradio) (0.9.4)\n",
            "Requirement already satisfied: typing-extensions~=4.0 in c:\\users\\adib\\appdata\\local\\programs\\python\\python310\\lib\\site-packages (from gradio) (4.10.0)\n",
            "Requirement already satisfied: uvicorn>=0.14.0 in c:\\users\\adib\\appdata\\local\\programs\\python\\python310\\lib\\site-packages (from gradio) (0.29.0)\n",
            "Requirement already satisfied: fsspec in c:\\users\\adib\\appdata\\local\\programs\\python\\python310\\lib\\site-packages (from gradio-client==0.15.0->gradio) (2024.2.0)\n",
            "Requirement already satisfied: websockets<12.0,>=10.0 in c:\\users\\adib\\appdata\\local\\programs\\python\\python310\\lib\\site-packages (from gradio-client==0.15.0->gradio) (11.0.3)\n",
            "Requirement already satisfied: jsonschema>=3.0 in c:\\users\\adib\\appdata\\local\\programs\\python\\python310\\lib\\site-packages (from altair<6.0,>=4.2.0->gradio) (4.21.1)\n",
            "Requirement already satisfied: toolz in c:\\users\\adib\\appdata\\local\\programs\\python\\python310\\lib\\site-packages (from altair<6.0,>=4.2.0->gradio) (0.12.1)\n",
            "Requirement already satisfied: anyio in c:\\users\\adib\\appdata\\local\\programs\\python\\python310\\lib\\site-packages (from httpx>=0.24.1->gradio) (4.3.0)\n",
            "Requirement already satisfied: certifi in c:\\users\\adib\\appdata\\local\\programs\\python\\python310\\lib\\site-packages (from httpx>=0.24.1->gradio) (2024.2.2)\n",
            "Requirement already satisfied: httpcore==1.* in c:\\users\\adib\\appdata\\local\\programs\\python\\python310\\lib\\site-packages (from httpx>=0.24.1->gradio) (1.0.5)\n",
            "Requirement already satisfied: idna in c:\\users\\adib\\appdata\\local\\programs\\python\\python310\\lib\\site-packages (from httpx>=0.24.1->gradio) (3.6)\n",
            "Requirement already satisfied: sniffio in c:\\users\\adib\\appdata\\local\\programs\\python\\python310\\lib\\site-packages (from httpx>=0.24.1->gradio) (1.3.1)\n",
            "Requirement already satisfied: h11<0.15,>=0.13 in c:\\users\\adib\\appdata\\local\\programs\\python\\python310\\lib\\site-packages (from httpcore==1.*->httpx>=0.24.1->gradio) (0.14.0)\n",
            "Requirement already satisfied: filelock in c:\\users\\adib\\appdata\\local\\programs\\python\\python310\\lib\\site-packages (from huggingface-hub>=0.19.3->gradio) (3.13.3)\n",
            "Requirement already satisfied: requests in c:\\users\\adib\\appdata\\local\\programs\\python\\python310\\lib\\site-packages (from huggingface-hub>=0.19.3->gradio) (2.31.0)\n",
            "Requirement already satisfied: tqdm>=4.42.1 in c:\\users\\adib\\appdata\\local\\programs\\python\\python310\\lib\\site-packages (from huggingface-hub>=0.19.3->gradio) (4.66.2)\n",
            "Requirement already satisfied: contourpy>=1.0.1 in c:\\users\\adib\\appdata\\local\\programs\\python\\python310\\lib\\site-packages (from matplotlib~=3.0->gradio) (1.2.1)\n",
            "Requirement already satisfied: cycler>=0.10 in c:\\users\\adib\\appdata\\local\\programs\\python\\python310\\lib\\site-packages (from matplotlib~=3.0->gradio) (0.12.1)\n",
            "Requirement already satisfied: fonttools>=4.22.0 in c:\\users\\adib\\appdata\\local\\programs\\python\\python310\\lib\\site-packages (from matplotlib~=3.0->gradio) (4.50.0)\n",
            "Requirement already satisfied: kiwisolver>=1.3.1 in c:\\users\\adib\\appdata\\local\\programs\\python\\python310\\lib\\site-packages (from matplotlib~=3.0->gradio) (1.4.5)\n",
            "Requirement already satisfied: pyparsing>=2.3.1 in c:\\users\\adib\\appdata\\local\\programs\\python\\python310\\lib\\site-packages (from matplotlib~=3.0->gradio) (3.1.2)\n",
            "Requirement already satisfied: python-dateutil>=2.7 in c:\\users\\adib\\appdata\\roaming\\python\\python310\\site-packages (from matplotlib~=3.0->gradio) (2.9.0.post0)\n",
            "Requirement already satisfied: pytz>=2020.1 in c:\\users\\adib\\appdata\\local\\programs\\python\\python310\\lib\\site-packages (from pandas<3.0,>=1.0->gradio) (2024.1)\n",
            "Requirement already satisfied: tzdata>=2022.7 in c:\\users\\adib\\appdata\\local\\programs\\python\\python310\\lib\\site-packages (from pandas<3.0,>=1.0->gradio) (2024.1)\n",
            "Requirement already satisfied: annotated-types>=0.4.0 in c:\\users\\adib\\appdata\\local\\programs\\python\\python310\\lib\\site-packages (from pydantic>=2.0->gradio) (0.6.0)\n",
            "Requirement already satisfied: pydantic-core==2.16.3 in c:\\users\\adib\\appdata\\local\\programs\\python\\python310\\lib\\site-packages (from pydantic>=2.0->gradio) (2.16.3)\n",
            "Requirement already satisfied: click<9.0.0,>=7.1.1 in c:\\users\\adib\\appdata\\local\\programs\\python\\python310\\lib\\site-packages (from typer<1.0,>=0.9->typer[all]<1.0,>=0.9; sys_platform != \"emscripten\"->gradio) (8.1.7)\n",
            "Requirement already satisfied: colorama<0.5.0,>=0.4.3 in c:\\users\\adib\\appdata\\roaming\\python\\python310\\site-packages (from typer[all]<1.0,>=0.9; sys_platform != \"emscripten\"->gradio) (0.4.6)\n",
            "Requirement already satisfied: shellingham<2.0.0,>=1.3.0 in c:\\users\\adib\\appdata\\local\\programs\\python\\python310\\lib\\site-packages (from typer[all]<1.0,>=0.9; sys_platform != \"emscripten\"->gradio) (1.5.4)\n",
            "Requirement already satisfied: rich<14.0.0,>=10.11.0 in c:\\users\\adib\\appdata\\local\\programs\\python\\python310\\lib\\site-packages (from typer[all]<1.0,>=0.9; sys_platform != \"emscripten\"->gradio) (13.7.1)\n",
            "Requirement already satisfied: starlette<0.38.0,>=0.37.2 in c:\\users\\adib\\appdata\\local\\programs\\python\\python310\\lib\\site-packages (from fastapi->gradio) (0.37.2)\n",
            "Requirement already satisfied: attrs>=22.2.0 in c:\\users\\adib\\appdata\\local\\programs\\python\\python310\\lib\\site-packages (from jsonschema>=3.0->altair<6.0,>=4.2.0->gradio) (23.2.0)\n",
            "Requirement already satisfied: jsonschema-specifications>=2023.03.6 in c:\\users\\adib\\appdata\\local\\programs\\python\\python310\\lib\\site-packages (from jsonschema>=3.0->altair<6.0,>=4.2.0->gradio) (2023.12.1)\n",
            "Requirement already satisfied: referencing>=0.28.4 in c:\\users\\adib\\appdata\\local\\programs\\python\\python310\\lib\\site-packages (from jsonschema>=3.0->altair<6.0,>=4.2.0->gradio) (0.34.0)\n",
            "Requirement already satisfied: rpds-py>=0.7.1 in c:\\users\\adib\\appdata\\local\\programs\\python\\python310\\lib\\site-packages (from jsonschema>=3.0->altair<6.0,>=4.2.0->gradio) (0.18.0)\n",
            "Requirement already satisfied: six>=1.5 in c:\\users\\adib\\appdata\\roaming\\python\\python310\\site-packages (from python-dateutil>=2.7->matplotlib~=3.0->gradio) (1.16.0)\n",
            "Requirement already satisfied: markdown-it-py>=2.2.0 in c:\\users\\adib\\appdata\\local\\programs\\python\\python310\\lib\\site-packages (from rich<14.0.0,>=10.11.0->typer[all]<1.0,>=0.9; sys_platform != \"emscripten\"->gradio) (3.0.0)\n",
            "Requirement already satisfied: pygments<3.0.0,>=2.13.0 in c:\\users\\adib\\appdata\\roaming\\python\\python310\\site-packages (from rich<14.0.0,>=10.11.0->typer[all]<1.0,>=0.9; sys_platform != \"emscripten\"->gradio) (2.17.2)\n",
            "Requirement already satisfied: exceptiongroup>=1.0.2 in c:\\users\\adib\\appdata\\roaming\\python\\python310\\site-packages (from anyio->httpx>=0.24.1->gradio) (1.2.0)\n",
            "Requirement already satisfied: charset-normalizer<4,>=2 in c:\\users\\adib\\appdata\\local\\programs\\python\\python310\\lib\\site-packages (from requests->huggingface-hub>=0.19.3->gradio) (3.3.2)\n",
            "Requirement already satisfied: urllib3<3,>=1.21.1 in c:\\users\\adib\\appdata\\local\\programs\\python\\python310\\lib\\site-packages (from requests->huggingface-hub>=0.19.3->gradio) (2.2.1)\n",
            "Requirement already satisfied: mdurl~=0.1 in c:\\users\\adib\\appdata\\local\\programs\\python\\python310\\lib\\site-packages (from markdown-it-py>=2.2.0->rich<14.0.0,>=10.11.0->typer[all]<1.0,>=0.9; sys_platform != \"emscripten\"->gradio) (0.1.2)\n",
            "Note: you may need to restart the kernel to use updated packages.\n",
            "Requirement already satisfied: haystack-ai in c:\\users\\adib\\appdata\\local\\programs\\python\\python310\\lib\\site-packages (2.1.0)\n",
            "Requirement already satisfied: accelerate in c:\\users\\adib\\appdata\\local\\programs\\python\\python310\\lib\\site-packages (0.28.0)\n",
            "Requirement already satisfied: sentence-transformers in c:\\users\\adib\\appdata\\local\\programs\\python\\python310\\lib\\site-packages (2.6.1)\n",
            "Requirement already satisfied: boilerpy3 in c:\\users\\adib\\appdata\\local\\programs\\python\\python310\\lib\\site-packages (from haystack-ai) (1.0.7)\n",
            "Requirement already satisfied: haystack-bm25 in c:\\users\\adib\\appdata\\local\\programs\\python\\python310\\lib\\site-packages (from haystack-ai) (1.0.2)\n",
            "Requirement already satisfied: jinja2 in c:\\users\\adib\\appdata\\local\\programs\\python\\python310\\lib\\site-packages (from haystack-ai) (3.1.3)\n",
            "Requirement already satisfied: lazy-imports in c:\\users\\adib\\appdata\\local\\programs\\python\\python310\\lib\\site-packages (from haystack-ai) (0.3.1)\n",
            "Requirement already satisfied: more-itertools in c:\\users\\adib\\appdata\\local\\programs\\python\\python310\\lib\\site-packages (from haystack-ai) (10.2.0)\n",
            "Requirement already satisfied: networkx in c:\\users\\adib\\appdata\\local\\programs\\python\\python310\\lib\\site-packages (from haystack-ai) (3.2.1)\n",
            "Requirement already satisfied: numpy in c:\\users\\adib\\appdata\\local\\programs\\python\\python310\\lib\\site-packages (from haystack-ai) (1.26.4)\n",
            "Requirement already satisfied: openai>=1.1.0 in c:\\users\\adib\\appdata\\local\\programs\\python\\python310\\lib\\site-packages (from haystack-ai) (1.14.3)\n",
            "Requirement already satisfied: pandas in c:\\users\\adib\\appdata\\local\\programs\\python\\python310\\lib\\site-packages (from haystack-ai) (2.2.1)\n",
            "Requirement already satisfied: posthog in c:\\users\\adib\\appdata\\local\\programs\\python\\python310\\lib\\site-packages (from haystack-ai) (3.5.0)\n",
            "Requirement already satisfied: python-dateutil in c:\\users\\adib\\appdata\\roaming\\python\\python310\\site-packages (from haystack-ai) (2.9.0.post0)\n",
            "Requirement already satisfied: pyyaml in c:\\users\\adib\\appdata\\local\\programs\\python\\python310\\lib\\site-packages (from haystack-ai) (6.0.1)\n",
            "Requirement already satisfied: requests in c:\\users\\adib\\appdata\\local\\programs\\python\\python310\\lib\\site-packages (from haystack-ai) (2.31.0)\n",
            "Requirement already satisfied: tenacity in c:\\users\\adib\\appdata\\local\\programs\\python\\python310\\lib\\site-packages (from haystack-ai) (8.2.3)\n",
            "Requirement already satisfied: tqdm in c:\\users\\adib\\appdata\\local\\programs\\python\\python310\\lib\\site-packages (from haystack-ai) (4.66.2)\n",
            "Requirement already satisfied: typing-extensions>=4.7 in c:\\users\\adib\\appdata\\local\\programs\\python\\python310\\lib\\site-packages (from haystack-ai) (4.10.0)\n",
            "Requirement already satisfied: packaging>=20.0 in c:\\users\\adib\\appdata\\roaming\\python\\python310\\site-packages (from accelerate) (24.0)\n",
            "Requirement already satisfied: psutil in c:\\users\\adib\\appdata\\roaming\\python\\python310\\site-packages (from accelerate) (5.9.8)\n",
            "Requirement already satisfied: torch>=1.10.0 in c:\\users\\adib\\appdata\\local\\programs\\python\\python310\\lib\\site-packages (from accelerate) (2.2.2)\n",
            "Requirement already satisfied: huggingface-hub in c:\\users\\adib\\appdata\\local\\programs\\python\\python310\\lib\\site-packages (from accelerate) (0.22.2)\n",
            "Requirement already satisfied: safetensors>=0.3.1 in c:\\users\\adib\\appdata\\local\\programs\\python\\python310\\lib\\site-packages (from accelerate) (0.4.2)\n",
            "Requirement already satisfied: transformers<5.0.0,>=4.32.0 in c:\\users\\adib\\appdata\\local\\programs\\python\\python310\\lib\\site-packages (from sentence-transformers) (4.36.2)\n",
            "Requirement already satisfied: scikit-learn in c:\\users\\adib\\appdata\\local\\programs\\python\\python310\\lib\\site-packages (from sentence-transformers) (1.4.1.post1)\n",
            "Requirement already satisfied: scipy in c:\\users\\adib\\appdata\\local\\programs\\python\\python310\\lib\\site-packages (from sentence-transformers) (1.12.0)\n",
            "Requirement already satisfied: Pillow in c:\\users\\adib\\appdata\\local\\programs\\python\\python310\\lib\\site-packages (from sentence-transformers) (9.0.0)\n",
            "Requirement already satisfied: filelock in c:\\users\\adib\\appdata\\local\\programs\\python\\python310\\lib\\site-packages (from huggingface-hub->accelerate) (3.13.3)\n",
            "Requirement already satisfied: fsspec>=2023.5.0 in c:\\users\\adib\\appdata\\local\\programs\\python\\python310\\lib\\site-packages (from huggingface-hub->accelerate) (2024.2.0)\n",
            "Requirement already satisfied: anyio<5,>=3.5.0 in c:\\users\\adib\\appdata\\local\\programs\\python\\python310\\lib\\site-packages (from openai>=1.1.0->haystack-ai) (4.3.0)\n",
            "Requirement already satisfied: distro<2,>=1.7.0 in c:\\users\\adib\\appdata\\local\\programs\\python\\python310\\lib\\site-packages (from openai>=1.1.0->haystack-ai) (1.9.0)\n",
            "Requirement already satisfied: httpx<1,>=0.23.0 in c:\\users\\adib\\appdata\\local\\programs\\python\\python310\\lib\\site-packages (from openai>=1.1.0->haystack-ai) (0.27.0)\n",
            "Requirement already satisfied: pydantic<3,>=1.9.0 in c:\\users\\adib\\appdata\\local\\programs\\python\\python310\\lib\\site-packages (from openai>=1.1.0->haystack-ai) (2.6.4)\n",
            "Requirement already satisfied: sniffio in c:\\users\\adib\\appdata\\local\\programs\\python\\python310\\lib\\site-packages (from openai>=1.1.0->haystack-ai) (1.3.1)\n",
            "Requirement already satisfied: sympy in c:\\users\\adib\\appdata\\local\\programs\\python\\python310\\lib\\site-packages (from torch>=1.10.0->accelerate) (1.12)\n",
            "Requirement already satisfied: colorama in c:\\users\\adib\\appdata\\roaming\\python\\python310\\site-packages (from tqdm->haystack-ai) (0.4.6)\n",
            "Requirement already satisfied: regex!=2019.12.17 in c:\\users\\adib\\appdata\\local\\programs\\python\\python310\\lib\\site-packages (from transformers<5.0.0,>=4.32.0->sentence-transformers) (2023.12.25)\n",
            "Requirement already satisfied: tokenizers<0.19,>=0.14 in c:\\users\\adib\\appdata\\local\\programs\\python\\python310\\lib\\site-packages (from transformers<5.0.0,>=4.32.0->sentence-transformers) (0.15.2)\n",
            "Requirement already satisfied: MarkupSafe>=2.0 in c:\\users\\adib\\appdata\\local\\programs\\python\\python310\\lib\\site-packages (from jinja2->haystack-ai) (2.1.5)\n",
            "Requirement already satisfied: pytz>=2020.1 in c:\\users\\adib\\appdata\\local\\programs\\python\\python310\\lib\\site-packages (from pandas->haystack-ai) (2024.1)\n",
            "Requirement already satisfied: tzdata>=2022.7 in c:\\users\\adib\\appdata\\local\\programs\\python\\python310\\lib\\site-packages (from pandas->haystack-ai) (2024.1)\n",
            "Requirement already satisfied: six>=1.5 in c:\\users\\adib\\appdata\\roaming\\python\\python310\\site-packages (from python-dateutil->haystack-ai) (1.16.0)\n",
            "Requirement already satisfied: monotonic>=1.5 in c:\\users\\adib\\appdata\\local\\programs\\python\\python310\\lib\\site-packages (from posthog->haystack-ai) (1.6)\n",
            "Requirement already satisfied: backoff>=1.10.0 in c:\\users\\adib\\appdata\\local\\programs\\python\\python310\\lib\\site-packages (from posthog->haystack-ai) (2.2.1)\n",
            "Requirement already satisfied: charset-normalizer<4,>=2 in c:\\users\\adib\\appdata\\local\\programs\\python\\python310\\lib\\site-packages (from requests->haystack-ai) (3.3.2)\n",
            "Requirement already satisfied: idna<4,>=2.5 in c:\\users\\adib\\appdata\\local\\programs\\python\\python310\\lib\\site-packages (from requests->haystack-ai) (3.6)\n",
            "Requirement already satisfied: urllib3<3,>=1.21.1 in c:\\users\\adib\\appdata\\local\\programs\\python\\python310\\lib\\site-packages (from requests->haystack-ai) (2.2.1)\n",
            "Requirement already satisfied: certifi>=2017.4.17 in c:\\users\\adib\\appdata\\local\\programs\\python\\python310\\lib\\site-packages (from requests->haystack-ai) (2024.2.2)\n",
            "Requirement already satisfied: joblib>=1.2.0 in c:\\users\\adib\\appdata\\local\\programs\\python\\python310\\lib\\site-packages (from scikit-learn->sentence-transformers) (1.3.2)\n",
            "Requirement already satisfied: threadpoolctl>=2.0.0 in c:\\users\\adib\\appdata\\local\\programs\\python\\python310\\lib\\site-packages (from scikit-learn->sentence-transformers) (3.4.0)\n",
            "Requirement already satisfied: exceptiongroup>=1.0.2 in c:\\users\\adib\\appdata\\roaming\\python\\python310\\site-packages (from anyio<5,>=3.5.0->openai>=1.1.0->haystack-ai) (1.2.0)\n",
            "Requirement already satisfied: httpcore==1.* in c:\\users\\adib\\appdata\\local\\programs\\python\\python310\\lib\\site-packages (from httpx<1,>=0.23.0->openai>=1.1.0->haystack-ai) (1.0.5)\n",
            "Requirement already satisfied: h11<0.15,>=0.13 in c:\\users\\adib\\appdata\\local\\programs\\python\\python310\\lib\\site-packages (from httpcore==1.*->httpx<1,>=0.23.0->openai>=1.1.0->haystack-ai) (0.14.0)\n",
            "Requirement already satisfied: annotated-types>=0.4.0 in c:\\users\\adib\\appdata\\local\\programs\\python\\python310\\lib\\site-packages (from pydantic<3,>=1.9.0->openai>=1.1.0->haystack-ai) (0.6.0)\n",
            "Requirement already satisfied: pydantic-core==2.16.3 in c:\\users\\adib\\appdata\\local\\programs\\python\\python310\\lib\\site-packages (from pydantic<3,>=1.9.0->openai>=1.1.0->haystack-ai) (2.16.3)\n",
            "Requirement already satisfied: mpmath>=0.19 in c:\\users\\adib\\appdata\\local\\programs\\python\\python310\\lib\\site-packages (from sympy->torch>=1.10.0->accelerate) (1.3.0)\n",
            "Note: you may need to restart the kernel to use updated packages.\n",
            "Note: you may need to restart the kernel to use updated packages.\n"
          ]
        },
        {
          "name": "stderr",
          "output_type": "stream",
          "text": [
            "ERROR: Invalid requirement: \"'sentence-transformers\"\n"
          ]
        }
      ],
      "source": [
        "%pip install spacy-transformers\n",
        "%pip install gradio\n",
        "%pip install haystack-ai accelerate sentence-transformers\n",
        "%pip install 'sentence-transformers>=2.2.0'"
      ]
    },
    {
      "cell_type": "code",
      "execution_count": 18,
      "metadata": {},
      "outputs": [
        {
          "name": "stdout",
          "output_type": "stream",
          "text": [
            "Collecting en-core-web-sm==3.7.1\n",
            "  Downloading https://github.com/explosion/spacy-models/releases/download/en_core_web_sm-3.7.1/en_core_web_sm-3.7.1-py3-none-any.whl (12.8 MB)\n",
            "     ---------------------------------------- 0.0/12.8 MB ? eta -:--:--\n",
            "     ---------------------------------------- 0.1/12.8 MB 5.1 MB/s eta 0:00:03\n",
            "     ---------------------------------------- 0.1/12.8 MB 2.1 MB/s eta 0:00:06\n",
            "      --------------------------------------- 0.2/12.8 MB 1.6 MB/s eta 0:00:09\n",
            "      --------------------------------------- 0.3/12.8 MB 1.7 MB/s eta 0:00:08\n",
            "     - -------------------------------------- 0.4/12.8 MB 1.6 MB/s eta 0:00:08\n",
            "     - -------------------------------------- 0.5/12.8 MB 1.7 MB/s eta 0:00:08\n",
            "     -- ------------------------------------- 0.7/12.8 MB 2.1 MB/s eta 0:00:06\n",
            "     -- ------------------------------------- 0.8/12.8 MB 2.1 MB/s eta 0:00:06\n",
            "     -- ------------------------------------- 0.9/12.8 MB 2.2 MB/s eta 0:00:06\n",
            "     --- ------------------------------------ 1.1/12.8 MB 2.2 MB/s eta 0:00:06\n",
            "     --- ------------------------------------ 1.3/12.8 MB 2.5 MB/s eta 0:00:05\n",
            "     ---- ----------------------------------- 1.4/12.8 MB 2.6 MB/s eta 0:00:05\n",
            "     ----- ---------------------------------- 1.6/12.8 MB 2.8 MB/s eta 0:00:05\n",
            "     ----- ---------------------------------- 1.7/12.8 MB 2.6 MB/s eta 0:00:05\n",
            "     ----- ---------------------------------- 1.8/12.8 MB 2.5 MB/s eta 0:00:05\n",
            "     ------ --------------------------------- 1.9/12.8 MB 2.6 MB/s eta 0:00:05\n",
            "     ------ --------------------------------- 2.2/12.8 MB 2.7 MB/s eta 0:00:04\n",
            "     ------- -------------------------------- 2.4/12.8 MB 2.9 MB/s eta 0:00:04\n",
            "     ------- -------------------------------- 2.5/12.8 MB 2.8 MB/s eta 0:00:04\n",
            "     -------- ------------------------------- 2.7/12.8 MB 2.9 MB/s eta 0:00:04\n",
            "     --------- ------------------------------ 2.9/12.8 MB 2.9 MB/s eta 0:00:04\n",
            "     --------- ------------------------------ 3.2/12.8 MB 3.1 MB/s eta 0:00:04\n",
            "     ---------- ----------------------------- 3.4/12.8 MB 3.2 MB/s eta 0:00:03\n",
            "     ----------- ---------------------------- 3.6/12.8 MB 3.2 MB/s eta 0:00:03\n",
            "     ----------- ---------------------------- 3.8/12.8 MB 3.3 MB/s eta 0:00:03\n",
            "     ------------ --------------------------- 4.1/12.8 MB 3.4 MB/s eta 0:00:03\n",
            "     ------------- -------------------------- 4.4/12.8 MB 3.5 MB/s eta 0:00:03\n",
            "     -------------- ------------------------- 4.6/12.8 MB 3.5 MB/s eta 0:00:03\n",
            "     --------------- ------------------------ 4.9/12.8 MB 3.6 MB/s eta 0:00:03\n",
            "     --------------- ------------------------ 4.9/12.8 MB 3.6 MB/s eta 0:00:03\n",
            "     --------------- ------------------------ 5.0/12.8 MB 3.5 MB/s eta 0:00:03\n",
            "     ---------------- ----------------------- 5.3/12.8 MB 3.6 MB/s eta 0:00:03\n",
            "     ---------------- ----------------------- 5.4/12.8 MB 3.5 MB/s eta 0:00:03\n",
            "     ----------------- ---------------------- 5.5/12.8 MB 3.5 MB/s eta 0:00:03\n",
            "     ------------------ --------------------- 5.9/12.8 MB 3.6 MB/s eta 0:00:02\n",
            "     ------------------- -------------------- 6.2/12.8 MB 3.7 MB/s eta 0:00:02\n",
            "     -------------------- ------------------- 6.4/12.8 MB 3.7 MB/s eta 0:00:02\n",
            "     -------------------- ------------------- 6.7/12.8 MB 3.8 MB/s eta 0:00:02\n",
            "     --------------------- ------------------ 6.9/12.8 MB 3.8 MB/s eta 0:00:02\n",
            "     ---------------------- ----------------- 7.1/12.8 MB 3.8 MB/s eta 0:00:02\n",
            "     ---------------------- ----------------- 7.3/12.8 MB 3.9 MB/s eta 0:00:02\n",
            "     ----------------------- ---------------- 7.5/12.8 MB 3.9 MB/s eta 0:00:02\n",
            "     ------------------------ --------------- 7.7/12.8 MB 3.9 MB/s eta 0:00:02\n",
            "     ------------------------ --------------- 7.8/12.8 MB 3.8 MB/s eta 0:00:02\n",
            "     ------------------------ --------------- 7.8/12.8 MB 3.7 MB/s eta 0:00:02\n",
            "     ------------------------ --------------- 7.8/12.8 MB 3.7 MB/s eta 0:00:02\n",
            "     ------------------------- -------------- 8.1/12.8 MB 3.7 MB/s eta 0:00:02\n",
            "     -------------------------- ------------- 8.4/12.8 MB 3.8 MB/s eta 0:00:02\n",
            "     -------------------------- ------------- 8.6/12.8 MB 3.7 MB/s eta 0:00:02\n",
            "     --------------------------- ------------ 8.8/12.8 MB 3.8 MB/s eta 0:00:02\n",
            "     --------------------------- ------------ 8.9/12.8 MB 3.8 MB/s eta 0:00:02\n",
            "     ---------------------------- ----------- 9.1/12.8 MB 3.7 MB/s eta 0:00:01\n",
            "     ---------------------------- ----------- 9.2/12.8 MB 3.7 MB/s eta 0:00:01\n",
            "     ----------------------------- ---------- 9.3/12.8 MB 3.7 MB/s eta 0:00:01\n",
            "     ----------------------------- ---------- 9.5/12.8 MB 3.7 MB/s eta 0:00:01\n",
            "     ----------------------------- ---------- 9.5/12.8 MB 3.7 MB/s eta 0:00:01\n",
            "     ----------------------------- ---------- 9.5/12.8 MB 3.7 MB/s eta 0:00:01\n",
            "     ----------------------------- ---------- 9.5/12.8 MB 3.7 MB/s eta 0:00:01\n",
            "     ----------------------------- ---------- 9.5/12.8 MB 3.7 MB/s eta 0:00:01\n",
            "     ----------------------------- ---------- 9.5/12.8 MB 3.7 MB/s eta 0:00:01\n",
            "     ----------------------------- ---------- 9.6/12.8 MB 3.4 MB/s eta 0:00:01\n",
            "     ------------------------------ --------- 9.7/12.8 MB 3.4 MB/s eta 0:00:01\n",
            "     ------------------------------ --------- 9.8/12.8 MB 3.3 MB/s eta 0:00:01\n",
            "     ------------------------------- -------- 10.0/12.8 MB 3.3 MB/s eta 0:00:01\n",
            "     ------------------------------- -------- 10.1/12.8 MB 3.4 MB/s eta 0:00:01\n",
            "     -------------------------------- ------- 10.4/12.8 MB 3.4 MB/s eta 0:00:01\n",
            "     -------------------------------- ------- 10.5/12.8 MB 3.4 MB/s eta 0:00:01\n",
            "     -------------------------------- ------- 10.5/12.8 MB 3.4 MB/s eta 0:00:01\n",
            "     --------------------------------- ------ 10.6/12.8 MB 3.4 MB/s eta 0:00:01\n",
            "     --------------------------------- ------ 10.6/12.8 MB 3.4 MB/s eta 0:00:01\n",
            "     --------------------------------- ------ 10.7/12.8 MB 3.4 MB/s eta 0:00:01\n",
            "     --------------------------------- ------ 10.8/12.8 MB 3.3 MB/s eta 0:00:01\n",
            "     ---------------------------------- ----- 10.9/12.8 MB 3.3 MB/s eta 0:00:01\n",
            "     ---------------------------------- ----- 11.0/12.8 MB 3.3 MB/s eta 0:00:01\n",
            "     ---------------------------------- ----- 11.1/12.8 MB 3.3 MB/s eta 0:00:01\n",
            "     ---------------------------------- ----- 11.1/12.8 MB 3.3 MB/s eta 0:00:01\n",
            "     ----------------------------------- ---- 11.2/12.8 MB 3.3 MB/s eta 0:00:01\n",
            "     ----------------------------------- ---- 11.3/12.8 MB 3.2 MB/s eta 0:00:01\n",
            "     ----------------------------------- ---- 11.4/12.8 MB 3.2 MB/s eta 0:00:01\n",
            "     ----------------------------------- ---- 11.4/12.8 MB 3.2 MB/s eta 0:00:01\n",
            "     ----------------------------------- ---- 11.4/12.8 MB 3.2 MB/s eta 0:00:01\n",
            "     ----------------------------------- ---- 11.4/12.8 MB 3.1 MB/s eta 0:00:01\n",
            "     ----------------------------------- ---- 11.4/12.8 MB 3.0 MB/s eta 0:00:01\n",
            "     ----------------------------------- ---- 11.4/12.8 MB 3.0 MB/s eta 0:00:01\n",
            "     ----------------------------------- ---- 11.5/12.8 MB 3.0 MB/s eta 0:00:01\n",
            "     ------------------------------------ --- 11.6/12.8 MB 2.9 MB/s eta 0:00:01\n",
            "     ------------------------------------ --- 11.6/12.8 MB 2.9 MB/s eta 0:00:01\n",
            "     ------------------------------------ --- 11.6/12.8 MB 2.9 MB/s eta 0:00:01\n",
            "     ------------------------------------ --- 11.6/12.8 MB 2.9 MB/s eta 0:00:01\n",
            "     ------------------------------------ --- 11.7/12.8 MB 2.8 MB/s eta 0:00:01\n",
            "     ------------------------------------ --- 11.8/12.8 MB 2.8 MB/s eta 0:00:01\n",
            "     ------------------------------------- -- 11.9/12.8 MB 2.8 MB/s eta 0:00:01\n",
            "     ------------------------------------- -- 12.1/12.8 MB 2.8 MB/s eta 0:00:01\n",
            "     -------------------------------------- - 12.2/12.8 MB 2.8 MB/s eta 0:00:01\n",
            "     -------------------------------------- - 12.3/12.8 MB 2.8 MB/s eta 0:00:01\n",
            "     -------------------------------------- - 12.4/12.8 MB 2.8 MB/s eta 0:00:01\n",
            "     ---------------------------------------  12.6/12.8 MB 2.8 MB/s eta 0:00:01\n",
            "     ---------------------------------------  12.7/12.8 MB 2.8 MB/s eta 0:00:01\n",
            "     ---------------------------------------  12.7/12.8 MB 2.7 MB/s eta 0:00:01\n",
            "     ---------------------------------------- 12.8/12.8 MB 2.7 MB/s eta 0:00:00\n",
            "Requirement already satisfied: spacy<3.8.0,>=3.7.2 in c:\\users\\adib\\appdata\\local\\programs\\python\\python310\\lib\\site-packages (from en-core-web-sm==3.7.1) (3.7.4)\n",
            "Requirement already satisfied: spacy-legacy<3.1.0,>=3.0.11 in c:\\users\\adib\\appdata\\local\\programs\\python\\python310\\lib\\site-packages (from spacy<3.8.0,>=3.7.2->en-core-web-sm==3.7.1) (3.0.12)\n",
            "Requirement already satisfied: spacy-loggers<2.0.0,>=1.0.0 in c:\\users\\adib\\appdata\\local\\programs\\python\\python310\\lib\\site-packages (from spacy<3.8.0,>=3.7.2->en-core-web-sm==3.7.1) (1.0.5)\n",
            "Requirement already satisfied: murmurhash<1.1.0,>=0.28.0 in c:\\users\\adib\\appdata\\local\\programs\\python\\python310\\lib\\site-packages (from spacy<3.8.0,>=3.7.2->en-core-web-sm==3.7.1) (1.0.10)\n",
            "Requirement already satisfied: cymem<2.1.0,>=2.0.2 in c:\\users\\adib\\appdata\\local\\programs\\python\\python310\\lib\\site-packages (from spacy<3.8.0,>=3.7.2->en-core-web-sm==3.7.1) (2.0.8)\n",
            "Requirement already satisfied: preshed<3.1.0,>=3.0.2 in c:\\users\\adib\\appdata\\local\\programs\\python\\python310\\lib\\site-packages (from spacy<3.8.0,>=3.7.2->en-core-web-sm==3.7.1) (3.0.9)\n",
            "Requirement already satisfied: thinc<8.3.0,>=8.2.2 in c:\\users\\adib\\appdata\\local\\programs\\python\\python310\\lib\\site-packages (from spacy<3.8.0,>=3.7.2->en-core-web-sm==3.7.1) (8.2.3)\n",
            "Requirement already satisfied: wasabi<1.2.0,>=0.9.1 in c:\\users\\adib\\appdata\\local\\programs\\python\\python310\\lib\\site-packages (from spacy<3.8.0,>=3.7.2->en-core-web-sm==3.7.1) (1.1.2)\n",
            "Requirement already satisfied: srsly<3.0.0,>=2.4.3 in c:\\users\\adib\\appdata\\local\\programs\\python\\python310\\lib\\site-packages (from spacy<3.8.0,>=3.7.2->en-core-web-sm==3.7.1) (2.4.8)\n",
            "Requirement already satisfied: catalogue<2.1.0,>=2.0.6 in c:\\users\\adib\\appdata\\local\\programs\\python\\python310\\lib\\site-packages (from spacy<3.8.0,>=3.7.2->en-core-web-sm==3.7.1) (2.0.10)\n",
            "Requirement already satisfied: weasel<0.4.0,>=0.1.0 in c:\\users\\adib\\appdata\\local\\programs\\python\\python310\\lib\\site-packages (from spacy<3.8.0,>=3.7.2->en-core-web-sm==3.7.1) (0.3.4)\n",
            "Requirement already satisfied: typer<0.10.0,>=0.3.0 in c:\\users\\adib\\appdata\\local\\programs\\python\\python310\\lib\\site-packages (from spacy<3.8.0,>=3.7.2->en-core-web-sm==3.7.1) (0.9.4)\n",
            "Requirement already satisfied: smart-open<7.0.0,>=5.2.1 in c:\\users\\adib\\appdata\\local\\programs\\python\\python310\\lib\\site-packages (from spacy<3.8.0,>=3.7.2->en-core-web-sm==3.7.1) (6.4.0)\n",
            "Requirement already satisfied: tqdm<5.0.0,>=4.38.0 in c:\\users\\adib\\appdata\\local\\programs\\python\\python310\\lib\\site-packages (from spacy<3.8.0,>=3.7.2->en-core-web-sm==3.7.1) (4.66.2)\n",
            "Requirement already satisfied: requests<3.0.0,>=2.13.0 in c:\\users\\adib\\appdata\\local\\programs\\python\\python310\\lib\\site-packages (from spacy<3.8.0,>=3.7.2->en-core-web-sm==3.7.1) (2.31.0)\n",
            "Requirement already satisfied: pydantic!=1.8,!=1.8.1,<3.0.0,>=1.7.4 in c:\\users\\adib\\appdata\\local\\programs\\python\\python310\\lib\\site-packages (from spacy<3.8.0,>=3.7.2->en-core-web-sm==3.7.1) (2.6.4)\n",
            "Requirement already satisfied: jinja2 in c:\\users\\adib\\appdata\\local\\programs\\python\\python310\\lib\\site-packages (from spacy<3.8.0,>=3.7.2->en-core-web-sm==3.7.1) (3.1.3)\n",
            "Requirement already satisfied: setuptools in c:\\users\\adib\\appdata\\local\\programs\\python\\python310\\lib\\site-packages (from spacy<3.8.0,>=3.7.2->en-core-web-sm==3.7.1) (69.2.0)\n",
            "Requirement already satisfied: packaging>=20.0 in c:\\users\\adib\\appdata\\roaming\\python\\python310\\site-packages (from spacy<3.8.0,>=3.7.2->en-core-web-sm==3.7.1) (24.0)\n",
            "Requirement already satisfied: langcodes<4.0.0,>=3.2.0 in c:\\users\\adib\\appdata\\local\\programs\\python\\python310\\lib\\site-packages (from spacy<3.8.0,>=3.7.2->en-core-web-sm==3.7.1) (3.3.0)\n",
            "Requirement already satisfied: numpy>=1.19.0 in c:\\users\\adib\\appdata\\local\\programs\\python\\python310\\lib\\site-packages (from spacy<3.8.0,>=3.7.2->en-core-web-sm==3.7.1) (1.26.4)\n",
            "Requirement already satisfied: annotated-types>=0.4.0 in c:\\users\\adib\\appdata\\local\\programs\\python\\python310\\lib\\site-packages (from pydantic!=1.8,!=1.8.1,<3.0.0,>=1.7.4->spacy<3.8.0,>=3.7.2->en-core-web-sm==3.7.1) (0.6.0)\n",
            "Requirement already satisfied: pydantic-core==2.16.3 in c:\\users\\adib\\appdata\\local\\programs\\python\\python310\\lib\\site-packages (from pydantic!=1.8,!=1.8.1,<3.0.0,>=1.7.4->spacy<3.8.0,>=3.7.2->en-core-web-sm==3.7.1) (2.16.3)\n",
            "Requirement already satisfied: typing-extensions>=4.6.1 in c:\\users\\adib\\appdata\\local\\programs\\python\\python310\\lib\\site-packages (from pydantic!=1.8,!=1.8.1,<3.0.0,>=1.7.4->spacy<3.8.0,>=3.7.2->en-core-web-sm==3.7.1) (4.10.0)\n",
            "Requirement already satisfied: charset-normalizer<4,>=2 in c:\\users\\adib\\appdata\\local\\programs\\python\\python310\\lib\\site-packages (from requests<3.0.0,>=2.13.0->spacy<3.8.0,>=3.7.2->en-core-web-sm==3.7.1) (3.3.2)\n",
            "Requirement already satisfied: idna<4,>=2.5 in c:\\users\\adib\\appdata\\local\\programs\\python\\python310\\lib\\site-packages (from requests<3.0.0,>=2.13.0->spacy<3.8.0,>=3.7.2->en-core-web-sm==3.7.1) (3.6)\n",
            "Requirement already satisfied: urllib3<3,>=1.21.1 in c:\\users\\adib\\appdata\\local\\programs\\python\\python310\\lib\\site-packages (from requests<3.0.0,>=2.13.0->spacy<3.8.0,>=3.7.2->en-core-web-sm==3.7.1) (2.2.1)\n",
            "Requirement already satisfied: certifi>=2017.4.17 in c:\\users\\adib\\appdata\\local\\programs\\python\\python310\\lib\\site-packages (from requests<3.0.0,>=2.13.0->spacy<3.8.0,>=3.7.2->en-core-web-sm==3.7.1) (2024.2.2)\n",
            "Requirement already satisfied: blis<0.8.0,>=0.7.8 in c:\\users\\adib\\appdata\\local\\programs\\python\\python310\\lib\\site-packages (from thinc<8.3.0,>=8.2.2->spacy<3.8.0,>=3.7.2->en-core-web-sm==3.7.1) (0.7.11)\n",
            "Requirement already satisfied: confection<1.0.0,>=0.0.1 in c:\\users\\adib\\appdata\\local\\programs\\python\\python310\\lib\\site-packages (from thinc<8.3.0,>=8.2.2->spacy<3.8.0,>=3.7.2->en-core-web-sm==3.7.1) (0.1.4)\n",
            "Requirement already satisfied: colorama in c:\\users\\adib\\appdata\\roaming\\python\\python310\\site-packages (from tqdm<5.0.0,>=4.38.0->spacy<3.8.0,>=3.7.2->en-core-web-sm==3.7.1) (0.4.6)\n",
            "Requirement already satisfied: click<9.0.0,>=7.1.1 in c:\\users\\adib\\appdata\\local\\programs\\python\\python310\\lib\\site-packages (from typer<0.10.0,>=0.3.0->spacy<3.8.0,>=3.7.2->en-core-web-sm==3.7.1) (8.1.7)\n",
            "Requirement already satisfied: cloudpathlib<0.17.0,>=0.7.0 in c:\\users\\adib\\appdata\\local\\programs\\python\\python310\\lib\\site-packages (from weasel<0.4.0,>=0.1.0->spacy<3.8.0,>=3.7.2->en-core-web-sm==3.7.1) (0.16.0)\n",
            "Requirement already satisfied: MarkupSafe>=2.0 in c:\\users\\adib\\appdata\\local\\programs\\python\\python310\\lib\\site-packages (from jinja2->spacy<3.8.0,>=3.7.2->en-core-web-sm==3.7.1) (2.1.5)\n",
            "Installing collected packages: en-core-web-sm\n",
            "Successfully installed en-core-web-sm-3.7.1\n",
            "\u001b[38;5;2m✔ Download and installation successful\u001b[0m\n",
            "You can now load the package via spacy.load('en_core_web_sm')\n"
          ]
        }
      ],
      "source": [
        "!python -m spacy download en_core_web_sm"
      ]
    },
    {
      "cell_type": "markdown",
      "metadata": {
        "id": "SjDUoyPwc4lQ"
      },
      "source": [
        "NER MODEL:\n",
        "First we generate questions ->\n",
        "Create the annotated dataset ->\n",
        "Train the Model"
      ]
    },
    {
      "cell_type": "code",
      "execution_count": null,
      "metadata": {
        "colab": {
          "base_uri": "https://localhost:8080/"
        },
        "id": "zYCM-t6HanRj",
        "outputId": "2ab29bde-020c-43ef-c5f8-596d5965eedd"
      },
      "outputs": [
        {
          "name": "stdout",
          "output_type": "stream",
          "text": [
            "Dataset generation complete.\n"
          ]
        }
      ],
      "source": [
        "import json\n",
        "import requests\n",
        "import random\n",
        "\n",
        "# Fetch book data from the URL\n",
        "url = 'https://raw.githubusercontent.com/adibmenchali/bookworm/master/open_library_books.json'\n",
        "response = requests.get(url)\n",
        "books_data = response.json()\n",
        "\n",
        "# Fetch questions from the URL\n",
        "questions_url = 'https://raw.githubusercontent.com/adibmenchali/bookworm/master/questions.txt'\n",
        "questions_response = requests.get(questions_url)\n",
        "questions_lines = questions_response.text.strip().split('\\n')\n",
        "\n",
        "# Sample 10% of book titles\n",
        "sampled_books = random.sample(books_data, k=int(0.10 * len(books_data)))\n",
        "\n",
        "# Generate dataset\n",
        "dataset = []\n",
        "\n",
        "for book in sampled_books:\n",
        "    title = book.get(\"title\", \"Unknown Title\").lower()  # Convert title to lowercase so the model is no case sensitive\n",
        "    for question_line in questions_lines:\n",
        "        # Replace {title} with the book title\n",
        "        question = question_line.format(title=title)\n",
        "        # Create annotation for the question\n",
        "        start_index = question.find(title)\n",
        "        end_index = start_index + len(title)\n",
        "        annotation = {\"entities\": [(start_index, end_index, \"BOOK_TITLE\")]}\n",
        "        # Add annotated question and annotation to dataset\n",
        "        dataset.append({\"question\": question, \"annotation\": annotation})\n",
        "\n",
        "with open('annotated_dataset.json', 'w') as f:\n",
        "    json.dump(dataset, f, indent=4)\n",
        "\n",
        "print(\"Dataset generation complete.\")"
      ]
    },
    {
      "cell_type": "markdown",
      "metadata": {
        "id": "6F5RAINpdh3H"
      },
      "source": [
        "Train the model (takes a while to run that's why I saved it so I can just load it when needed)"
      ]
    },
    {
      "cell_type": "code",
      "execution_count": 1,
      "metadata": {
        "id": "7z2GnqT_c30F"
      },
      "outputs": [
        {
          "ename": "KeyboardInterrupt",
          "evalue": "",
          "output_type": "error",
          "traceback": [
            "\u001b[1;31m---------------------------------------------------------------------------\u001b[0m",
            "\u001b[1;31mKeyboardInterrupt\u001b[0m                         Traceback (most recent call last)",
            "Cell \u001b[1;32mIn[1], line 1\u001b[0m\n\u001b[1;32m----> 1\u001b[0m \u001b[38;5;28;01mimport\u001b[39;00m \u001b[38;5;21;01mspacy\u001b[39;00m\n\u001b[0;32m      2\u001b[0m \u001b[38;5;28;01mfrom\u001b[39;00m \u001b[38;5;21;01mspacy\u001b[39;00m\u001b[38;5;21;01m.\u001b[39;00m\u001b[38;5;21;01mtraining\u001b[39;00m\u001b[38;5;21;01m.\u001b[39;00m\u001b[38;5;21;01mexample\u001b[39;00m \u001b[38;5;28;01mimport\u001b[39;00m Example\n\u001b[0;32m      3\u001b[0m \u001b[38;5;28;01mimport\u001b[39;00m \u001b[38;5;21;01mjson\u001b[39;00m\n",
            "File \u001b[1;32mc:\\Users\\Adib\\AppData\\Local\\Programs\\Python\\Python310\\lib\\site-packages\\spacy\\__init__.py:6\u001b[0m\n\u001b[0;32m      3\u001b[0m \u001b[38;5;28;01mfrom\u001b[39;00m \u001b[38;5;21;01mtyping\u001b[39;00m \u001b[38;5;28;01mimport\u001b[39;00m Any, Dict, Iterable, Union\n\u001b[0;32m      5\u001b[0m \u001b[38;5;66;03m# set library-specific custom warning handling before doing anything else\u001b[39;00m\n\u001b[1;32m----> 6\u001b[0m \u001b[38;5;28;01mfrom\u001b[39;00m \u001b[38;5;21;01m.\u001b[39;00m\u001b[38;5;21;01merrors\u001b[39;00m \u001b[38;5;28;01mimport\u001b[39;00m setup_default_warnings\n\u001b[0;32m      8\u001b[0m setup_default_warnings()  \u001b[38;5;66;03m# noqa: E402\u001b[39;00m\n\u001b[0;32m     10\u001b[0m \u001b[38;5;66;03m# These are imported as part of the API\u001b[39;00m\n",
            "File \u001b[1;32mc:\\Users\\Adib\\AppData\\Local\\Programs\\Python\\Python310\\lib\\site-packages\\spacy\\errors.py:3\u001b[0m\n\u001b[0;32m      1\u001b[0m \u001b[38;5;28;01mimport\u001b[39;00m \u001b[38;5;21;01mwarnings\u001b[39;00m\n\u001b[1;32m----> 3\u001b[0m \u001b[38;5;28;01mfrom\u001b[39;00m \u001b[38;5;21;01m.\u001b[39;00m\u001b[38;5;21;01mcompat\u001b[39;00m \u001b[38;5;28;01mimport\u001b[39;00m Literal\n\u001b[0;32m      6\u001b[0m \u001b[38;5;28;01mclass\u001b[39;00m \u001b[38;5;21;01mErrorsWithCodes\u001b[39;00m(\u001b[38;5;28mtype\u001b[39m):\n\u001b[0;32m      7\u001b[0m     \u001b[38;5;28;01mdef\u001b[39;00m \u001b[38;5;21m__getattribute__\u001b[39m(\u001b[38;5;28mself\u001b[39m, code):\n",
            "File \u001b[1;32mc:\\Users\\Adib\\AppData\\Local\\Programs\\Python\\Python310\\lib\\site-packages\\spacy\\compat.py:4\u001b[0m\n\u001b[0;32m      1\u001b[0m \u001b[38;5;124;03m\"\"\"Helpers for Python and platform compatibility.\"\"\"\u001b[39;00m\n\u001b[0;32m      2\u001b[0m \u001b[38;5;28;01mimport\u001b[39;00m \u001b[38;5;21;01msys\u001b[39;00m\n\u001b[1;32m----> 4\u001b[0m \u001b[38;5;28;01mfrom\u001b[39;00m \u001b[38;5;21;01mthinc\u001b[39;00m\u001b[38;5;21;01m.\u001b[39;00m\u001b[38;5;21;01mutil\u001b[39;00m \u001b[38;5;28;01mimport\u001b[39;00m copy_array\n\u001b[0;32m      6\u001b[0m \u001b[38;5;28;01mtry\u001b[39;00m:\n\u001b[0;32m      7\u001b[0m     \u001b[38;5;28;01mimport\u001b[39;00m \u001b[38;5;21;01mcPickle\u001b[39;00m \u001b[38;5;28;01mas\u001b[39;00m \u001b[38;5;21;01mpickle\u001b[39;00m\n",
            "File \u001b[1;32mc:\\Users\\Adib\\AppData\\Local\\Programs\\Python\\Python310\\lib\\site-packages\\thinc\\__init__.py:5\u001b[0m\n\u001b[0;32m      2\u001b[0m \u001b[38;5;28;01mimport\u001b[39;00m \u001b[38;5;21;01mnumpy\u001b[39;00m\n\u001b[0;32m      4\u001b[0m \u001b[38;5;28;01mfrom\u001b[39;00m \u001b[38;5;21;01m.\u001b[39;00m\u001b[38;5;21;01mabout\u001b[39;00m \u001b[38;5;28;01mimport\u001b[39;00m __version__\n\u001b[1;32m----> 5\u001b[0m \u001b[38;5;28;01mfrom\u001b[39;00m \u001b[38;5;21;01m.\u001b[39;00m\u001b[38;5;21;01mconfig\u001b[39;00m \u001b[38;5;28;01mimport\u001b[39;00m registry\n\u001b[0;32m      7\u001b[0m \u001b[38;5;66;03m# fmt: off\u001b[39;00m\n\u001b[0;32m      8\u001b[0m __all__ \u001b[38;5;241m=\u001b[39m [\n\u001b[0;32m      9\u001b[0m     \u001b[38;5;124m\"\u001b[39m\u001b[38;5;124mregistry\u001b[39m\u001b[38;5;124m\"\u001b[39m,\n\u001b[0;32m     10\u001b[0m     \u001b[38;5;124m\"\u001b[39m\u001b[38;5;124m__version__\u001b[39m\u001b[38;5;124m\"\u001b[39m,\n\u001b[0;32m     11\u001b[0m ]\n",
            "File \u001b[1;32mc:\\Users\\Adib\\AppData\\Local\\Programs\\Python\\Python310\\lib\\site-packages\\thinc\\config.py:5\u001b[0m\n\u001b[0;32m      2\u001b[0m \u001b[38;5;28;01mimport\u001b[39;00m \u001b[38;5;21;01mconfection\u001b[39;00m\n\u001b[0;32m      3\u001b[0m \u001b[38;5;28;01mfrom\u001b[39;00m \u001b[38;5;21;01mconfection\u001b[39;00m \u001b[38;5;28;01mimport\u001b[39;00m VARIABLE_RE, Config, ConfigValidationError, Promise\n\u001b[1;32m----> 5\u001b[0m \u001b[38;5;28;01mfrom\u001b[39;00m \u001b[38;5;21;01m.\u001b[39;00m\u001b[38;5;21;01mtypes\u001b[39;00m \u001b[38;5;28;01mimport\u001b[39;00m Decorator\n\u001b[0;32m      8\u001b[0m \u001b[38;5;28;01mclass\u001b[39;00m \u001b[38;5;21;01mregistry\u001b[39;00m(confection\u001b[38;5;241m.\u001b[39mregistry):\n\u001b[0;32m      9\u001b[0m     \u001b[38;5;66;03m# fmt: off\u001b[39;00m\n\u001b[0;32m     10\u001b[0m     optimizers: Decorator \u001b[38;5;241m=\u001b[39m catalogue\u001b[38;5;241m.\u001b[39mcreate(\u001b[38;5;124m\"\u001b[39m\u001b[38;5;124mthinc\u001b[39m\u001b[38;5;124m\"\u001b[39m, \u001b[38;5;124m\"\u001b[39m\u001b[38;5;124moptimizers\u001b[39m\u001b[38;5;124m\"\u001b[39m, entry_points\u001b[38;5;241m=\u001b[39m\u001b[38;5;28;01mTrue\u001b[39;00m)\n",
            "File \u001b[1;32mc:\\Users\\Adib\\AppData\\Local\\Programs\\Python\\Python310\\lib\\site-packages\\thinc\\types.py:25\u001b[0m\n\u001b[0;32m      4\u001b[0m \u001b[38;5;28;01mfrom\u001b[39;00m \u001b[38;5;21;01mtyping\u001b[39;00m \u001b[38;5;28;01mimport\u001b[39;00m (\n\u001b[0;32m      5\u001b[0m     Any,\n\u001b[0;32m      6\u001b[0m     Callable,\n\u001b[1;32m   (...)\u001b[0m\n\u001b[0;32m     20\u001b[0m     overload,\n\u001b[0;32m     21\u001b[0m )\n\u001b[0;32m     23\u001b[0m \u001b[38;5;28;01mimport\u001b[39;00m \u001b[38;5;21;01mnumpy\u001b[39;00m\n\u001b[1;32m---> 25\u001b[0m \u001b[38;5;28;01mfrom\u001b[39;00m \u001b[38;5;21;01m.\u001b[39;00m\u001b[38;5;21;01mcompat\u001b[39;00m \u001b[38;5;28;01mimport\u001b[39;00m cupy, has_cupy\n\u001b[0;32m     27\u001b[0m \u001b[38;5;28;01mif\u001b[39;00m has_cupy:\n\u001b[0;32m     28\u001b[0m     get_array_module \u001b[38;5;241m=\u001b[39m cupy\u001b[38;5;241m.\u001b[39mget_array_module\n",
            "File \u001b[1;32mc:\\Users\\Adib\\AppData\\Local\\Programs\\Python\\Python310\\lib\\site-packages\\thinc\\compat.py:35\u001b[0m\n\u001b[0;32m     31\u001b[0m     has_cupy_gpu \u001b[38;5;241m=\u001b[39m \u001b[38;5;28;01mFalse\u001b[39;00m\n\u001b[0;32m     34\u001b[0m \u001b[38;5;28;01mtry\u001b[39;00m:  \u001b[38;5;66;03m# pragma: no cover\u001b[39;00m\n\u001b[1;32m---> 35\u001b[0m     \u001b[38;5;28;01mimport\u001b[39;00m \u001b[38;5;21;01mtorch\u001b[39;00m\n\u001b[0;32m     36\u001b[0m     \u001b[38;5;28;01mimport\u001b[39;00m \u001b[38;5;21;01mtorch\u001b[39;00m\u001b[38;5;21;01m.\u001b[39;00m\u001b[38;5;21;01mutils\u001b[39;00m\u001b[38;5;21;01m.\u001b[39;00m\u001b[38;5;21;01mdlpack\u001b[39;00m\n\u001b[0;32m     38\u001b[0m     has_torch \u001b[38;5;241m=\u001b[39m \u001b[38;5;28;01mTrue\u001b[39;00m\n",
            "File \u001b[1;32mc:\\Users\\Adib\\AppData\\Local\\Programs\\Python\\Python310\\lib\\site-packages\\torch\\__init__.py:1854\u001b[0m\n\u001b[0;32m   1852\u001b[0m \u001b[38;5;28;01mfrom\u001b[39;00m \u001b[38;5;21;01m.\u001b[39;00m \u001b[38;5;28;01mimport\u001b[39;00m library\n\u001b[0;32m   1853\u001b[0m \u001b[38;5;28;01mif\u001b[39;00m \u001b[38;5;129;01mnot\u001b[39;00m TYPE_CHECKING:\n\u001b[1;32m-> 1854\u001b[0m     \u001b[38;5;28;01mfrom\u001b[39;00m \u001b[38;5;21;01m.\u001b[39;00m \u001b[38;5;28;01mimport\u001b[39;00m _meta_registrations\n\u001b[0;32m   1856\u001b[0m \u001b[38;5;66;03m# Enable CUDA Sanitizer\u001b[39;00m\n\u001b[0;32m   1857\u001b[0m \u001b[38;5;28;01mif\u001b[39;00m \u001b[38;5;124m'\u001b[39m\u001b[38;5;124mTORCH_CUDA_SANITIZER\u001b[39m\u001b[38;5;124m'\u001b[39m \u001b[38;5;129;01min\u001b[39;00m os\u001b[38;5;241m.\u001b[39menviron:\n",
            "File \u001b[1;32mc:\\Users\\Adib\\AppData\\Local\\Programs\\Python\\Python310\\lib\\site-packages\\torch\\_meta_registrations.py:9\u001b[0m\n\u001b[0;32m      7\u001b[0m \u001b[38;5;28;01mimport\u001b[39;00m \u001b[38;5;21;01mtorch\u001b[39;00m\u001b[38;5;21;01m.\u001b[39;00m\u001b[38;5;21;01m_prims_common\u001b[39;00m \u001b[38;5;28;01mas\u001b[39;00m \u001b[38;5;21;01mutils\u001b[39;00m\n\u001b[0;32m      8\u001b[0m \u001b[38;5;28;01mfrom\u001b[39;00m \u001b[38;5;21;01mtorch\u001b[39;00m \u001b[38;5;28;01mimport\u001b[39;00m SymBool, SymFloat, Tensor\n\u001b[1;32m----> 9\u001b[0m \u001b[38;5;28;01mfrom\u001b[39;00m \u001b[38;5;21;01mtorch\u001b[39;00m\u001b[38;5;21;01m.\u001b[39;00m\u001b[38;5;21;01m_decomp\u001b[39;00m \u001b[38;5;28;01mimport\u001b[39;00m (\n\u001b[0;32m     10\u001b[0m     _add_op_to_registry,\n\u001b[0;32m     11\u001b[0m     _convert_out_params,\n\u001b[0;32m     12\u001b[0m     global_decomposition_table,\n\u001b[0;32m     13\u001b[0m     meta_table,\n\u001b[0;32m     14\u001b[0m )\n\u001b[0;32m     15\u001b[0m \u001b[38;5;28;01mfrom\u001b[39;00m \u001b[38;5;21;01mtorch\u001b[39;00m\u001b[38;5;21;01m.\u001b[39;00m\u001b[38;5;21;01m_ops\u001b[39;00m \u001b[38;5;28;01mimport\u001b[39;00m OpOverload\n\u001b[0;32m     16\u001b[0m \u001b[38;5;28;01mfrom\u001b[39;00m \u001b[38;5;21;01mtorch\u001b[39;00m\u001b[38;5;21;01m.\u001b[39;00m\u001b[38;5;21;01m_prims\u001b[39;00m \u001b[38;5;28;01mimport\u001b[39;00m _prim_elementwise_meta, ELEMENTWISE_PRIM_TYPE_PROMOTION_KIND\n",
            "File \u001b[1;32mc:\\Users\\Adib\\AppData\\Local\\Programs\\Python\\Python310\\lib\\site-packages\\torch\\_decomp\\__init__.py:243\u001b[0m\n\u001b[0;32m    239\u001b[0m             decompositions\u001b[38;5;241m.\u001b[39mpop(op, \u001b[38;5;28;01mNone\u001b[39;00m)\n\u001b[0;32m    242\u001b[0m \u001b[38;5;66;03m# populate the table\u001b[39;00m\n\u001b[1;32m--> 243\u001b[0m \u001b[38;5;28;01mimport\u001b[39;00m \u001b[38;5;21;01mtorch\u001b[39;00m\u001b[38;5;21;01m.\u001b[39;00m\u001b[38;5;21;01m_decomp\u001b[39;00m\u001b[38;5;21;01m.\u001b[39;00m\u001b[38;5;21;01mdecompositions\u001b[39;00m\n\u001b[0;32m    244\u001b[0m \u001b[38;5;28;01mimport\u001b[39;00m \u001b[38;5;21;01mtorch\u001b[39;00m\u001b[38;5;21;01m.\u001b[39;00m\u001b[38;5;21;01m_refs\u001b[39;00m\n\u001b[0;32m    247\u001b[0m \u001b[38;5;66;03m# See NOTE [Core ATen Ops]\u001b[39;00m\n\u001b[0;32m    248\u001b[0m \u001b[38;5;66;03m#\u001b[39;00m\n\u001b[0;32m    249\u001b[0m \u001b[38;5;66;03m# list was copied from torch/_inductor/decomposition.py\u001b[39;00m\n\u001b[0;32m    250\u001b[0m \u001b[38;5;66;03m# excluding decompositions that results in prim ops\u001b[39;00m\n\u001b[0;32m    251\u001b[0m \u001b[38;5;66;03m# Resulting opset of decomposition is core aten ops\u001b[39;00m\n",
            "File \u001b[1;32mc:\\Users\\Adib\\AppData\\Local\\Programs\\Python\\Python310\\lib\\site-packages\\torch\\_decomp\\decompositions.py:11\u001b[0m\n\u001b[0;32m      8\u001b[0m \u001b[38;5;28;01mfrom\u001b[39;00m \u001b[38;5;21;01mtyping\u001b[39;00m \u001b[38;5;28;01mimport\u001b[39;00m Callable, cast, Iterable, List, Optional, Tuple, Union\n\u001b[0;32m     10\u001b[0m \u001b[38;5;28;01mimport\u001b[39;00m \u001b[38;5;21;01mtorch\u001b[39;00m\n\u001b[1;32m---> 11\u001b[0m \u001b[38;5;28;01mimport\u001b[39;00m \u001b[38;5;21;01mtorch\u001b[39;00m\u001b[38;5;21;01m.\u001b[39;00m\u001b[38;5;21;01m_prims\u001b[39;00m \u001b[38;5;28;01mas\u001b[39;00m \u001b[38;5;21;01mprims\u001b[39;00m\n\u001b[0;32m     12\u001b[0m \u001b[38;5;28;01mimport\u001b[39;00m \u001b[38;5;21;01mtorch\u001b[39;00m\u001b[38;5;21;01m.\u001b[39;00m\u001b[38;5;21;01m_prims_common\u001b[39;00m \u001b[38;5;28;01mas\u001b[39;00m \u001b[38;5;21;01mutils\u001b[39;00m\n\u001b[0;32m     13\u001b[0m \u001b[38;5;28;01mimport\u001b[39;00m \u001b[38;5;21;01mtorch\u001b[39;00m\u001b[38;5;21;01m.\u001b[39;00m\u001b[38;5;21;01mnn\u001b[39;00m\u001b[38;5;21;01m.\u001b[39;00m\u001b[38;5;21;01mfunctional\u001b[39;00m \u001b[38;5;28;01mas\u001b[39;00m \u001b[38;5;21;01mF\u001b[39;00m\n",
            "File \u001b[1;32mc:\\Users\\Adib\\AppData\\Local\\Programs\\Python\\Python310\\lib\\site-packages\\torch\\_prims\\__init__.py:2997\u001b[0m\n\u001b[0;32m   2988\u001b[0m fft_c2r \u001b[38;5;241m=\u001b[39m _make_prim(\n\u001b[0;32m   2989\u001b[0m     schema\u001b[38;5;241m=\u001b[39m\u001b[38;5;124m\"\u001b[39m\u001b[38;5;124mfft_c2r(Tensor self, *, int[] dim, SymInt last_dim_size) -> Tensor\u001b[39m\u001b[38;5;124m\"\u001b[39m,\n\u001b[0;32m   2990\u001b[0m     meta\u001b[38;5;241m=\u001b[39m_fft_c2r_meta,\n\u001b[1;32m   (...)\u001b[0m\n\u001b[0;32m   2993\u001b[0m     doc\u001b[38;5;241m=\u001b[39m_fft_c2r_doc,\n\u001b[0;32m   2994\u001b[0m )\n\u001b[0;32m   2996\u001b[0m register_rng_prims()\n\u001b[1;32m-> 2997\u001b[0m \u001b[43mregister_debug_prims\u001b[49m\u001b[43m(\u001b[49m\u001b[43m)\u001b[49m\n",
            "File \u001b[1;32mc:\\Users\\Adib\\AppData\\Local\\Programs\\Python\\Python310\\lib\\site-packages\\torch\\_prims\\debug_prims.py:41\u001b[0m, in \u001b[0;36mregister_debug_prims\u001b[1;34m()\u001b[0m\n\u001b[0;32m     29\u001b[0m \u001b[38;5;129m@custom_op\u001b[39m(\u001b[38;5;124m\"\u001b[39m\u001b[38;5;124mdebugprims::load_tensor\u001b[39m\u001b[38;5;124m\"\u001b[39m)\n\u001b[0;32m     30\u001b[0m \u001b[38;5;28;01mdef\u001b[39;00m \u001b[38;5;21mload_tensor\u001b[39m(  \u001b[38;5;66;03m# type: ignore[empty-body]\u001b[39;00m\n\u001b[0;32m     31\u001b[0m     name: \u001b[38;5;28mstr\u001b[39m,\n\u001b[1;32m   (...)\u001b[0m\n\u001b[0;32m     36\u001b[0m     device: torch\u001b[38;5;241m.\u001b[39mdevice,\n\u001b[0;32m     37\u001b[0m ) \u001b[38;5;241m-\u001b[39m\u001b[38;5;241m>\u001b[39m torch\u001b[38;5;241m.\u001b[39mTensor:\n\u001b[0;32m     38\u001b[0m     \u001b[38;5;241m.\u001b[39m\u001b[38;5;241m.\u001b[39m\u001b[38;5;241m.\u001b[39m\n\u001b[0;32m     40\u001b[0m \u001b[43m\u001b[49m\u001b[38;5;129;43m@load_tensor\u001b[39;49m\u001b[38;5;241;43m.\u001b[39;49m\u001b[43mimpl_factory\u001b[49m\u001b[43m(\u001b[49m\u001b[43m)\u001b[49m\n\u001b[1;32m---> 41\u001b[0m \u001b[43m\u001b[49m\u001b[38;5;28;43;01mdef\u001b[39;49;00m\u001b[43m \u001b[49m\u001b[38;5;21;43mload_tensor_factory\u001b[39;49m\u001b[43m(\u001b[49m\u001b[43mname\u001b[49m\u001b[43m,\u001b[49m\u001b[43m \u001b[49m\u001b[43msize\u001b[49m\u001b[43m,\u001b[49m\u001b[43m \u001b[49m\u001b[43mstride\u001b[49m\u001b[43m,\u001b[49m\u001b[43m \u001b[49m\u001b[43mdtype\u001b[49m\u001b[43m,\u001b[49m\u001b[43m \u001b[49m\u001b[43mdevice\u001b[49m\u001b[43m)\u001b[49m\u001b[43m:\u001b[49m\n\u001b[0;32m     42\u001b[0m \u001b[43m    \u001b[49m\u001b[38;5;28;43;01mif\u001b[39;49;00m\u001b[43m \u001b[49m\u001b[43mLOAD_TENSOR_READER\u001b[49m\u001b[43m \u001b[49m\u001b[38;5;129;43;01mis\u001b[39;49;00m\u001b[43m \u001b[49m\u001b[38;5;28;43;01mNone\u001b[39;49;00m\u001b[43m:\u001b[49m\n\u001b[0;32m     43\u001b[0m \u001b[43m        \u001b[49m\u001b[38;5;28;43;01mfrom\u001b[39;49;00m\u001b[43m \u001b[49m\u001b[38;5;21;43;01mtorch\u001b[39;49;00m\u001b[38;5;21;43;01m.\u001b[39;49;00m\u001b[38;5;21;43;01m_dynamo\u001b[39;49;00m\u001b[38;5;21;43;01m.\u001b[39;49;00m\u001b[38;5;21;43;01mtesting\u001b[39;49;00m\u001b[43m \u001b[49m\u001b[38;5;28;43;01mimport\u001b[39;49;00m\u001b[43m \u001b[49m\u001b[43mrand_strided\u001b[49m\n",
            "File \u001b[1;32mc:\\Users\\Adib\\AppData\\Local\\Programs\\Python\\Python310\\lib\\site-packages\\torch\\_custom_op\\impl.py:333\u001b[0m, in \u001b[0;36mCustomOp.impl_factory.<locals>.inner\u001b[1;34m(f)\u001b[0m\n\u001b[0;32m    332\u001b[0m \u001b[38;5;28;01mdef\u001b[39;00m \u001b[38;5;21minner\u001b[39m(f):\n\u001b[1;32m--> 333\u001b[0m     \u001b[38;5;28;43mself\u001b[39;49m\u001b[38;5;241;43m.\u001b[39;49m\u001b[43m_register_impl\u001b[49m\u001b[43m(\u001b[49m\u001b[38;5;124;43m\"\u001b[39;49m\u001b[38;5;124;43mfactory\u001b[39;49m\u001b[38;5;124;43m\"\u001b[39;49m\u001b[43m,\u001b[49m\u001b[43m \u001b[49m\u001b[43mf\u001b[49m\u001b[43m)\u001b[49m\n\u001b[0;32m    334\u001b[0m     library\u001b[38;5;241m.\u001b[39mimpl(\u001b[38;5;28mself\u001b[39m\u001b[38;5;241m.\u001b[39m_lib, \u001b[38;5;28mself\u001b[39m\u001b[38;5;241m.\u001b[39m_opname, \u001b[38;5;124m\"\u001b[39m\u001b[38;5;124mBackendSelect\u001b[39m\u001b[38;5;124m\"\u001b[39m)(f)\n\u001b[0;32m    335\u001b[0m     \u001b[38;5;28;01mreturn\u001b[39;00m f\n",
            "File \u001b[1;32mc:\\Users\\Adib\\AppData\\Local\\Programs\\Python\\Python310\\lib\\site-packages\\torch\\_custom_op\\impl.py:223\u001b[0m, in \u001b[0;36mCustomOp._register_impl\u001b[1;34m(self, kind, func, stacklevel)\u001b[0m\n\u001b[0;32m    217\u001b[0m     location \u001b[38;5;241m=\u001b[39m func_and_location\u001b[38;5;241m.\u001b[39mlocation\n\u001b[0;32m    218\u001b[0m     \u001b[38;5;28;01mraise\u001b[39;00m \u001b[38;5;167;01mRuntimeError\u001b[39;00m(\n\u001b[0;32m    219\u001b[0m         \u001b[38;5;124mf\u001b[39m\u001b[38;5;124m\"\u001b[39m\u001b[38;5;124mAttempting to register a \u001b[39m\u001b[38;5;132;01m{\u001b[39;00mkind\u001b[38;5;132;01m}\u001b[39;00m\u001b[38;5;124m impl for operator \u001b[39m\u001b[38;5;132;01m{\u001b[39;00m\u001b[38;5;28mself\u001b[39m\u001b[38;5;241m.\u001b[39m_qualname\u001b[38;5;132;01m}\u001b[39;00m\u001b[38;5;124m \u001b[39m\u001b[38;5;124m\"\u001b[39m\n\u001b[0;32m    220\u001b[0m         \u001b[38;5;124mf\u001b[39m\u001b[38;5;124m\"\u001b[39m\u001b[38;5;124mthat already has a \u001b[39m\u001b[38;5;132;01m{\u001b[39;00mkind\u001b[38;5;132;01m}\u001b[39;00m\u001b[38;5;124m impl registered from Python at \u001b[39m\u001b[38;5;124m\"\u001b[39m\n\u001b[0;32m    221\u001b[0m         \u001b[38;5;124mf\u001b[39m\u001b[38;5;124m\"\u001b[39m\u001b[38;5;132;01m{\u001b[39;00mlocation\u001b[38;5;132;01m}\u001b[39;00m\u001b[38;5;124m. This is not supported.\u001b[39m\u001b[38;5;124m\"\u001b[39m\n\u001b[0;32m    222\u001b[0m     )\n\u001b[1;32m--> 223\u001b[0m frame \u001b[38;5;241m=\u001b[39m \u001b[43minspect\u001b[49m\u001b[38;5;241;43m.\u001b[39;49m\u001b[43mgetframeinfo\u001b[49m\u001b[43m(\u001b[49m\u001b[43msys\u001b[49m\u001b[38;5;241;43m.\u001b[39;49m\u001b[43m_getframe\u001b[49m\u001b[43m(\u001b[49m\u001b[43mstacklevel\u001b[49m\u001b[43m)\u001b[49m\u001b[43m)\u001b[49m\n\u001b[0;32m    224\u001b[0m location \u001b[38;5;241m=\u001b[39m \u001b[38;5;124mf\u001b[39m\u001b[38;5;124m\"\u001b[39m\u001b[38;5;132;01m{\u001b[39;00mframe\u001b[38;5;241m.\u001b[39mfilename\u001b[38;5;132;01m}\u001b[39;00m\u001b[38;5;124m:\u001b[39m\u001b[38;5;132;01m{\u001b[39;00mframe\u001b[38;5;241m.\u001b[39mlineno\u001b[38;5;132;01m}\u001b[39;00m\u001b[38;5;124m\"\u001b[39m\n\u001b[0;32m    225\u001b[0m \u001b[38;5;28mself\u001b[39m\u001b[38;5;241m.\u001b[39m_impls[kind] \u001b[38;5;241m=\u001b[39m FuncAndLocation(func, location)\n",
            "File \u001b[1;32mc:\\Users\\Adib\\AppData\\Local\\Programs\\Python\\Python310\\lib\\inspect.py:1627\u001b[0m, in \u001b[0;36mgetframeinfo\u001b[1;34m(frame, context)\u001b[0m\n\u001b[0;32m   1625\u001b[0m start \u001b[38;5;241m=\u001b[39m lineno \u001b[38;5;241m-\u001b[39m \u001b[38;5;241m1\u001b[39m \u001b[38;5;241m-\u001b[39m context\u001b[38;5;241m/\u001b[39m\u001b[38;5;241m/\u001b[39m\u001b[38;5;241m2\u001b[39m\n\u001b[0;32m   1626\u001b[0m \u001b[38;5;28;01mtry\u001b[39;00m:\n\u001b[1;32m-> 1627\u001b[0m     lines, lnum \u001b[38;5;241m=\u001b[39m \u001b[43mfindsource\u001b[49m\u001b[43m(\u001b[49m\u001b[43mframe\u001b[49m\u001b[43m)\u001b[49m\n\u001b[0;32m   1628\u001b[0m \u001b[38;5;28;01mexcept\u001b[39;00m \u001b[38;5;167;01mOSError\u001b[39;00m:\n\u001b[0;32m   1629\u001b[0m     lines \u001b[38;5;241m=\u001b[39m index \u001b[38;5;241m=\u001b[39m \u001b[38;5;28;01mNone\u001b[39;00m\n",
            "File \u001b[1;32mc:\\Users\\Adib\\AppData\\Local\\Programs\\Python\\Python310\\lib\\inspect.py:952\u001b[0m, in \u001b[0;36mfindsource\u001b[1;34m(object)\u001b[0m\n\u001b[0;32m    949\u001b[0m     \u001b[38;5;28;01mif\u001b[39;00m \u001b[38;5;129;01mnot\u001b[39;00m (file\u001b[38;5;241m.\u001b[39mstartswith(\u001b[38;5;124m'\u001b[39m\u001b[38;5;124m<\u001b[39m\u001b[38;5;124m'\u001b[39m) \u001b[38;5;129;01mand\u001b[39;00m file\u001b[38;5;241m.\u001b[39mendswith(\u001b[38;5;124m'\u001b[39m\u001b[38;5;124m>\u001b[39m\u001b[38;5;124m'\u001b[39m)):\n\u001b[0;32m    950\u001b[0m         \u001b[38;5;28;01mraise\u001b[39;00m \u001b[38;5;167;01mOSError\u001b[39;00m(\u001b[38;5;124m'\u001b[39m\u001b[38;5;124msource code not available\u001b[39m\u001b[38;5;124m'\u001b[39m)\n\u001b[1;32m--> 952\u001b[0m module \u001b[38;5;241m=\u001b[39m \u001b[43mgetmodule\u001b[49m\u001b[43m(\u001b[49m\u001b[38;5;28;43mobject\u001b[39;49m\u001b[43m,\u001b[49m\u001b[43m \u001b[49m\u001b[43mfile\u001b[49m\u001b[43m)\u001b[49m\n\u001b[0;32m    953\u001b[0m \u001b[38;5;28;01mif\u001b[39;00m module:\n\u001b[0;32m    954\u001b[0m     lines \u001b[38;5;241m=\u001b[39m linecache\u001b[38;5;241m.\u001b[39mgetlines(file, module\u001b[38;5;241m.\u001b[39m\u001b[38;5;18m__dict__\u001b[39m)\n",
            "File \u001b[1;32mc:\\Users\\Adib\\AppData\\Local\\Programs\\Python\\Python310\\lib\\inspect.py:878\u001b[0m, in \u001b[0;36mgetmodule\u001b[1;34m(object, _filename)\u001b[0m\n\u001b[0;32m    875\u001b[0m         f \u001b[38;5;241m=\u001b[39m getabsfile(module)\n\u001b[0;32m    876\u001b[0m         \u001b[38;5;66;03m# Always map to the name the module knows itself by\u001b[39;00m\n\u001b[0;32m    877\u001b[0m         modulesbyfile[f] \u001b[38;5;241m=\u001b[39m modulesbyfile[\n\u001b[1;32m--> 878\u001b[0m             \u001b[43mos\u001b[49m\u001b[38;5;241;43m.\u001b[39;49m\u001b[43mpath\u001b[49m\u001b[38;5;241;43m.\u001b[39;49m\u001b[43mrealpath\u001b[49m\u001b[43m(\u001b[49m\u001b[43mf\u001b[49m\u001b[43m)\u001b[49m] \u001b[38;5;241m=\u001b[39m module\u001b[38;5;241m.\u001b[39m\u001b[38;5;18m__name__\u001b[39m\n\u001b[0;32m    879\u001b[0m \u001b[38;5;28;01mif\u001b[39;00m file \u001b[38;5;129;01min\u001b[39;00m modulesbyfile:\n\u001b[0;32m    880\u001b[0m     \u001b[38;5;28;01mreturn\u001b[39;00m sys\u001b[38;5;241m.\u001b[39mmodules\u001b[38;5;241m.\u001b[39mget(modulesbyfile[file])\n",
            "File \u001b[1;32mc:\\Users\\Adib\\AppData\\Local\\Programs\\Python\\Python310\\lib\\ntpath.py:660\u001b[0m, in \u001b[0;36mrealpath\u001b[1;34m(path, strict)\u001b[0m\n\u001b[0;32m    658\u001b[0m     path \u001b[38;5;241m=\u001b[39m join(cwd, path)\n\u001b[0;32m    659\u001b[0m \u001b[38;5;28;01mtry\u001b[39;00m:\n\u001b[1;32m--> 660\u001b[0m     path \u001b[38;5;241m=\u001b[39m \u001b[43m_getfinalpathname\u001b[49m\u001b[43m(\u001b[49m\u001b[43mpath\u001b[49m\u001b[43m)\u001b[49m\n\u001b[0;32m    661\u001b[0m     initial_winerror \u001b[38;5;241m=\u001b[39m \u001b[38;5;241m0\u001b[39m\n\u001b[0;32m    662\u001b[0m \u001b[38;5;28;01mexcept\u001b[39;00m \u001b[38;5;167;01mOSError\u001b[39;00m \u001b[38;5;28;01mas\u001b[39;00m ex:\n",
            "\u001b[1;31mKeyboardInterrupt\u001b[0m: "
          ]
        }
      ],
      "source": [
        "import spacy\n",
        "from spacy.training.example import Example\n",
        "import json\n",
        "from transformers import pipeline\n",
        "\n",
        "# Load the BERT-based model from Hugging Face's Transformers library\n",
        "nlp = pipeline(\"ner\", model=\"distilbert-base-uncased\", tokenizer=\"distilbert-base-uncased\")\n",
        "\n",
        "# Load the annotated dataset from a JSON file\n",
        "def load_dataset_from_json(file_path):\n",
        "    with open(file_path, 'r') as file:\n",
        "        dataset = json.load(file)\n",
        "    return dataset\n",
        "\n",
        "# Convert annotations to SpaCy format\n",
        "def convert_to_spacy_format(dataset):\n",
        "    spacy_data = []\n",
        "    for item in dataset:\n",
        "        text = item['question'].lower()\n",
        "        entities = item['annotation']['entities']\n",
        "        spacy_entities = [(int(start), int(end), label) for start, end, label in entities]\n",
        "        spacy_data.append((text, {\"entities\": spacy_entities}))\n",
        "    return spacy_data\n",
        "\n",
        "# Convert the annotated dataset to SpaCy format\n",
        "def prepare_training_data(dataset):\n",
        "    TRAIN_DATA = convert_to_spacy_format(dataset)\n",
        "    return TRAIN_DATA\n",
        "\n",
        "# Train the NER model\n",
        "def train_ner_model(TRAIN_DATA):\n",
        "    # Initialize a blank English model\n",
        "    nlp_spacy = spacy.blank('en')\n",
        "\n",
        "    # Add NER component to the pipeline\n",
        "    ner = nlp_spacy.add_pipe('ner')\n",
        "\n",
        "    # Add BOOK_TITLE as a new entity label\n",
        "    ner.add_label('BOOK_TITLE')\n",
        "\n",
        "    # Convert the SpaCy training data to Example objects\n",
        "    examples = []\n",
        "    for text, annotations in TRAIN_DATA:\n",
        "        doc = nlp_spacy.make_doc(text)\n",
        "        example = Example.from_dict(doc, annotations)\n",
        "        examples.append(example)\n",
        "\n",
        "    # Train the NER model\n",
        "    nlp_spacy.begin_training()\n",
        "    num_epochs = 10  # Number of training epochs\n",
        "    print(f\"Training the NER model for {num_epochs} epochs...\")\n",
        "    for epoch in range(num_epochs):\n",
        "        print(f\"Epoch {epoch + 1}/{num_epochs}\")\n",
        "        losses = {}\n",
        "        for example in examples:\n",
        "            nlp_spacy.update([example], drop=0.5, losses=losses)  # Adjust dropout as needed\n",
        "        print(\"Losses:\", losses)\n",
        "\n",
        "    return nlp_spacy\n",
        "\n",
        "# Save the trained model\n",
        "def save_model(nlp_spacy, output_dir):\n",
        "    nlp_spacy.to_disk(output_dir)\n",
        "\n",
        "# Main function\n",
        "def main():\n",
        "    # Load the annotated dataset\n",
        "    dataset = load_dataset_from_json('annotated_dataset.json')\n",
        "\n",
        "    # Prepare the training data\n",
        "    TRAIN_DATA = prepare_training_data(dataset)\n",
        "\n",
        "    # Train the NER model\n",
        "    nlp_spacy = train_ner_model(TRAIN_DATA)\n",
        "\n",
        "    # Save the trained model (optional)\n",
        "    save_model(nlp_spacy, \"custom_ner_model_with_bert\")\n",
        "\n",
        "    print(\"Custom NER model trained and saved with BERT embeddings.\")\n",
        "\n",
        "if __name__ == \"__main__\":\n",
        "    main()"
      ]
    },
    {
      "cell_type": "markdown",
      "metadata": {},
      "source": [
        "This is an example test:"
      ]
    },
    {
      "cell_type": "code",
      "execution_count": 34,
      "metadata": {
        "id": "OgsO09cldX44"
      },
      "outputs": [],
      "source": [
        "import spacy\n",
        "# Load the trained SpaCy NER model\n",
        "nlp = spacy.load(\"custom_ner_model_with_bert\")\n",
        "\n",
        "# Example text to test the NER model\n",
        "text = \"who is the author of the martian?\"\n",
        "\n",
        "# Process the text with the NER model\n",
        "doc = nlp(text)\n",
        "\n",
        "# Print the detected entities\n",
        "for ent in doc.ents:\n",
        "    print(f\"Entity: {ent.text}, Label: {ent.label_}\")\n"
      ]
    },
    {
      "cell_type": "markdown",
      "metadata": {
        "id": "HTPVBomGfOBY"
      },
      "source": [
        "This is the chatbot integration, to make the code cleaner I put the question answering and recommendation model in different files which I imported here. I did the same thing for the NER model but I put it in this notebook to clarify the process..."
      ]
    },
    {
      "cell_type": "code",
      "execution_count": 4,
      "metadata": {
        "id": "r1Pg0VjdfMxV"
      },
      "outputs": [
        {
          "name": "stderr",
          "output_type": "stream",
          "text": [
            "c:\\Users\\Adib\\AppData\\Local\\Programs\\Python\\Python310\\lib\\site-packages\\transformers\\utils\\generic.py:309: UserWarning: torch.utils._pytree._register_pytree_node is deprecated. Please use torch.utils._pytree.register_pytree_node instead.\n",
            "  _torch_pytree._register_pytree_node(\n",
            "[nltk_data] Downloading package punkt to\n",
            "[nltk_data]     C:\\Users\\Adib\\AppData\\Roaming\\nltk_data...\n",
            "[nltk_data]   Package punkt is already up-to-date!\n",
            "[nltk_data] Downloading package stopwords to\n",
            "[nltk_data]     C:\\Users\\Adib\\AppData\\Roaming\\nltk_data...\n",
            "[nltk_data]   Package stopwords is already up-to-date!\n",
            "[nltk_data] Downloading package wordnet to\n",
            "[nltk_data]     C:\\Users\\Adib\\AppData\\Roaming\\nltk_data...\n",
            "[nltk_data]   Package wordnet is already up-to-date!\n"
          ]
        },
        {
          "name": "stdout",
          "output_type": "stream",
          "text": [
            "Running on local URL:  http://127.0.0.1:7860\n",
            "IMPORTANT: You are using gradio version 4.25.0, however version 4.29.0 is available, please upgrade.\n",
            "--------\n",
            "\n",
            "To create a public link, set `share=True` in `launch()`.\n"
          ]
        },
        {
          "data": {
            "text/html": [
              "<div><iframe src=\"http://127.0.0.1:7860/\" width=\"100%\" height=\"500\" allow=\"autoplay; camera; microphone; clipboard-read; clipboard-write;\" frameborder=\"0\" allowfullscreen></iframe></div>"
            ],
            "text/plain": [
              "<IPython.core.display.HTML object>"
            ]
          },
          "metadata": {},
          "output_type": "display_data"
        },
        {
          "data": {
            "text/plain": []
          },
          "execution_count": 4,
          "metadata": {},
          "output_type": "execute_result"
        },
        {
          "name": "stdout",
          "output_type": "stream",
          "text": [
            "book title is the lonely polygamist\n"
          ]
        },
        {
          "data": {
            "application/vnd.jupyter.widget-view+json": {
              "model_id": "4d2e78c3e45044e8ba96a36e4bf0351f",
              "version_major": 2,
              "version_minor": 0
            },
            "text/plain": [
              "Batches:   0%|          | 0/1 [00:00<?, ?it/s]"
            ]
          },
          "metadata": {},
          "output_type": "display_data"
        },
        {
          "data": {
            "application/vnd.jupyter.widget-view+json": {
              "model_id": "db2d3b43566542cf9802c9ecae5353e7",
              "version_major": 2,
              "version_minor": 0
            },
            "text/plain": [
              "Batches:   0%|          | 0/1 [00:00<?, ?it/s]"
            ]
          },
          "metadata": {},
          "output_type": "display_data"
        },
        {
          "name": "stdout",
          "output_type": "stream",
          "text": [
            "ExtractedAnswer(query='who wrote the lonely polygamist?', score=0.7816624641418457, data='Brady Udall', document=Document(id=65ad1f0d548da496434f2ce036cb53c953522f6b6ba735b57a82e83ff61203f3, content: 'Title: The Lonely Polygamist;\n",
            "Writer/Author: Brady Udall;\n",
            "Topic: Golden Richards is a normal dad. Bu...', meta: {'title': 'The Lonely Polygamist', 'authors': 'Brady Udall', 'publisher': 'Random House', 'publishedDate': '2013-03-31', 'industryIdentifiers': \"{'type': 'ISBN_13', 'identifier': '9781446477670'}, {'type': 'ISBN_10', 'identifier': '1446477673'}\", 'readingModes': {'text': True, 'image': False}, 'pageCount': 608, 'printType': 'BOOK', 'categories': 'Fiction', 'maturityRating': 'NOT_MATURE', 'allowAnonLogging': True, 'contentVersion': '1.5.5.0.preview.2', 'panelizationSummary': {'containsEpubBubbles': False, 'containsImageBubbles': False}, 'imageLinks': {'smallThumbnail': 'http://books.google.com/books/content?id=j0FSHpXsaf0C&printsec=frontcover&img=1&zoom=5&edge=curl&source=gbs_api', 'thumbnail': 'http://books.google.com/books/content?id=j0FSHpXsaf0C&printsec=frontcover&img=1&zoom=1&edge=curl&source=gbs_api'}, 'language': 'en', 'previewLink': 'http://books.google.it/books?id=j0FSHpXsaf0C&printsec=frontcover&dq=intitle:the+lonely+polygamist&hl=&cd=1&source=gbs_api', 'infoLink': 'https://play.google.com/store/books/details?id=j0FSHpXsaf0C&source=gbs_api', 'canonicalVolumeLink': 'https://play.google.com/store/books/details?id=j0FSHpXsaf0C', 'subtitle': 'Not available', 'averageRating': 'Not available', 'ratingsCount': 'Not available', 'seriesInfo': 'Not available'}, score: 0.7020021255812294), context=None, document_offset=ExtractedAnswer.Span(start=45, end=56), context_offset=None, meta={}) \n",
            "\n",
            "ExtractedAnswer(query='who wrote the lonely polygamist?', score=0.2183375358581543, data=None, document=None, context=None, document_offset=None, context_offset=None, meta={}) \n",
            "\n"
          ]
        }
      ],
      "source": [
        "import gradio as gr\n",
        "import os\n",
        "import time\n",
        "from bookworm_ai import setup_indexing_pipeline, fetch_book_data, extract_book_title, create_document_objects, setup_qa_pipeline, get_best_answer\n",
        "import spacy\n",
        "import bookworm_recommender as rec\n",
        "\n",
        "\n",
        "def print_like_dislike(x: gr.LikeData):\n",
        "    print(x.index, x.value, x.liked)\n",
        "\n",
        "def main(user_question):\n",
        "\n",
        "    # Setup indexing pipeline\n",
        "    indexing_pipeline, document_store = setup_indexing_pipeline()\n",
        "\n",
        "    # Load the NER model\n",
        "    nlp = spacy.load(\"custom_ner_model_with_bert\")\n",
        "\n",
        "    # Extract book title from user input\n",
        "    book_title = extract_book_title(user_question, nlp)\n",
        "    print(\"book title is\", book_title)\n",
        "    if book_title == user_question:\n",
        "        # Call the recommendation system function\n",
        "        book_df = rec.load_book_data('book_data.csv')\n",
        "        print(\"book_df done\")\n",
        "        similar_books = rec.get_similar_books(book_df, book_title)\n",
        "        formatted_books = \"These are the recommended books:\\n\"\n",
        "        for book in similar_books:\n",
        "\n",
        "            formatted_books += f\"{book['title']} by \"\n",
        "            formatted_books += \"{}\\n\".format(book['author'].replace('[','').replace(']','').replace('\\'',''))\n",
        "            #formatted_books += f\"Description: {book['description']}\\n\"\n",
        "            #formatted_books += f\"Similarity Score: {book['similarity_score']}\\n\\n\"\n",
        "        return formatted_books\n",
        "\n",
        "    else:\n",
        "\n",
        "        book_items = fetch_book_data(book_title)\n",
        "        # Create document objects for each book item and aggregate descriptions\n",
        "        documents = create_document_objects(book_items)\n",
        "\n",
        "        if documents:\n",
        "            indexing_pipeline.run({\"documents\": documents})\n",
        "        else:\n",
        "            print(\"Book data not found.\")\n",
        "\n",
        "        # Setup QA pipeline\n",
        "        qa_pipeline = setup_qa_pipeline(document_store)\n",
        "\n",
        "        # Get best answer\n",
        "        best_answer = get_best_answer(qa_pipeline, user_question)\n",
        "\n",
        "        return(best_answer)\n",
        "\n",
        "def add_message(history, message):\n",
        "    for x in message[\"files\"]:\n",
        "        history.append(((x,), None))\n",
        "    if message[\"text\"] is not None:\n",
        "        history.append((message[\"text\"], None))\n",
        "    return history, gr.MultimodalTextbox(value=None, interactive=False)\n",
        "\n",
        "def bot(history):\n",
        "    user_input = history[-1][0]\n",
        "    response = main(user_input)\n",
        "    history[-1][1] = \"\"\n",
        "    for character in response:\n",
        "        history[-1][1] += character\n",
        "        time.sleep(0.05)\n",
        "        yield history\n",
        "\n",
        "with gr.Blocks() as demo:\n",
        "    chatbot = gr.Chatbot(\n",
        "        [],\n",
        "        elem_id=\"chatbot\",\n",
        "        bubble_full_width=False,\n",
        "    )\n",
        "\n",
        "    chat_input = gr.MultimodalTextbox(interactive=True, file_types=[\"image\"], placeholder=\"Ask a question about a book (To use the recommender system simply type a book title)...\", show_label=False)\n",
        "\n",
        "    chat_msg = chat_input.submit(add_message, [chatbot, chat_input], [chatbot, chat_input])\n",
        "    bot_msg = chat_msg.then(bot, chatbot, chatbot, api_name=\"bot_response\")\n",
        "    bot_msg.then(lambda: gr.MultimodalTextbox(interactive=True), None, [chat_input])\n",
        "\n",
        "    chatbot.like(print_like_dislike, None, None)\n",
        "\n",
        "demo.queue()\n",
        "demo.launch()"
      ]
    },
    {
      "cell_type": "markdown",
      "metadata": {
        "id": "sAIHM-Svh3ce"
      },
      "source": [
        "## NER Evaluation"
      ]
    },
    {
      "cell_type": "code",
      "execution_count": 4,
      "metadata": {
        "id": "aKJ84GWzh4gF"
      },
      "outputs": [],
      "source": [
        "import pandas as pd\n",
        "\n",
        "# Load the dataset into a pandas DataFrame\n",
        "df = pd.read_csv('Best_Book_21st.csv')"
      ]
    },
    {
      "cell_type": "code",
      "execution_count": 5,
      "metadata": {
        "id": "UMNKypZWiLiJ"
      },
      "outputs": [],
      "source": [
        "df.set_index('id',inplace=True)"
      ]
    },
    {
      "cell_type": "code",
      "execution_count": 21,
      "metadata": {
        "colab": {
          "base_uri": "https://localhost:8080/"
        },
        "id": "aPa6OSVMiMUc",
        "outputId": "e0b3b5d4-3a78-427d-d611-491ce8f2aebd"
      },
      "outputs": [
        {
          "data": {
            "text/plain": [
              "[['The Martian', 'Andy Weir'],\n",
              " ['Under the Banner of Heaven: A Story of Violent Faith', 'Jon Krakauer'],\n",
              " ['Cutting for Stone', 'Abraham   Verghese'],\n",
              " ['We Need to Talk About Kevin', 'Lionel Shriver'],\n",
              " ['The Immortal Life of Henrietta Lacks', 'Rebecca Skloot'],\n",
              " ['Eragon (The Inheritance Cycle, #1)', 'Christopher Paolini'],\n",
              " ['Unaccustomed Earth', 'Jhumpa Lahiri'],\n",
              " ['A Dance with Dragons (A Song of Ice and Fire, #5)', 'George R.R. Martin'],\n",
              " ['The Outlands  (The Outlands Saga #1)', 'Tyler Edwards'],\n",
              " ['Clockwork Angel (The Infernal Devices, #1)', 'Cassandra Clare'],\n",
              " ['World Without End (Kingsbridge, #2)', 'Ken Follett'],\n",
              " ['Animal, Vegetable, Miracle: A Year of Food Life',\n",
              "  'Barbara Kingsolver,Steven L. Hopp,Camille Kingsolver,Richard A. Houser'],\n",
              " ['The Five People You Meet in Heaven', 'Mitch Albom'],\n",
              " ['On Beauty', 'Zadie Smith'],\n",
              " ['Shantaram', 'Gregory David Roberts'],\n",
              " ['Seabiscuit: An American Legend', 'Laura Hillenbrand'],\n",
              " [\"The Titan's Curse (Percy Jackson and the Olympians, #3)\",\n",
              "  'Rick Riordan,Cẩm Chi'],\n",
              " ['Shadow Kiss (Vampire Academy, #3)', 'Richelle Mead'],\n",
              " ['The Battle of the Labyrinth (Percy Jackson and the Olympians, #4)',\n",
              "  'Rick Riordan'],\n",
              " ['2666', 'Roberto Bolaño'],\n",
              " ['Frostbite (Vampire Academy, #2)', 'Richelle Mead'],\n",
              " ['The Lost Symbol (Robert Langdon, #3)', 'Dan Brown'],\n",
              " ['Olive Kitteridge (Olive Kitteridge, #1)', 'Elizabeth Strout'],\n",
              " ['The Last Lecture', 'Randy Pausch,Jeffrey Zaslow'],\n",
              " [\"Miss Peregrine's Home for Peculiar Children (Miss Peregrine's Peculiar Children, #1)\",\n",
              "  'Ransom Riggs'],\n",
              " ['Me Before You (Me Before You, #1)', 'Jojo Moyes'],\n",
              " ['The Tales of Beedle the Bard', 'J.K. Rowling,Lý Lan'],\n",
              " ['Reading Lolita in Tehran: A Memoir in Books', 'Azar Nafisi'],\n",
              " ['The Plot Against America', 'Philip Roth'],\n",
              " ['The Ocean at the End of the Lane', 'Neil Gaiman'],\n",
              " ['Wolf Hall (Thomas Cromwell, #1)', 'Hilary Mantel'],\n",
              " ['Uglies (Uglies, #1)', 'Scott Westerfeld'],\n",
              " ['Hush, Hush (Hush, Hush, #1)', 'Becca Fitzpatrick'],\n",
              " ['A Visit from the Goon Squad', 'Jennifer Egan'],\n",
              " ['City of Fallen Angels (The Mortal Instruments, #4)', 'Cassandra Clare'],\n",
              " ['Inkheart (Inkworld, #1)', 'Cornelia Funke,Anthea Bell'],\n",
              " ['Blood Promise (Vampire Academy, #4)', 'Richelle Mead'],\n",
              " ['Peace Like a River', 'Leif Enger'],\n",
              " ['Dead Until Dark (Sookie Stackhouse, #1)', 'Charlaine Harris'],\n",
              " ['Let the Great World Spin', 'Colum McCann'],\n",
              " [\"The Yiddish Policemen's Union\", 'Michael Chabon'],\n",
              " ['Nickel and Dimed: On (Not) Getting by in America', 'Barbara Ehrenreich'],\n",
              " ['Running with Scissors', 'Augusten Burroughs'],\n",
              " ['1Q84 (1Q84 #1-3)', 'Haruki Murakami,Jay Rubin,Philip Gabriel'],\n",
              " ['The Invention of Hugo Cabret', 'Brian Selznick'],\n",
              " ['The Lost Hero (The Heroes of Olympus, #1)', 'Rick Riordan'],\n",
              " ['Phantom Wolf (Phantom Wolf, #1)', 'Kia Carrington-Russell'],\n",
              " ['Saving CeeCee Honeycutt', 'Beth Hoffman,Jenna Lamia'],\n",
              " ['Life Expectancy', 'Dean Koontz'],\n",
              " ['Trust: A New Beginning (Trust Trilogy, #1)', 'Cristiane Serruya'],\n",
              " ['Hard Eight (Stephanie Plum, #8)', 'Janet Evanovich,Lorelei King'],\n",
              " ['Six of Crows (Six of Crows, #1)', 'Leigh Bardugo'],\n",
              " ['Across the Nightingale Floor (Tales of the Otori, #1)', 'Lian Hearn'],\n",
              " ['Bossypants', 'Tina Fey'],\n",
              " ['Dead Witch Walking (The Hollows, #1)', 'Kim Harrison'],\n",
              " ['Iron Kissed (Mercy Thompson, #3)', 'Patricia Briggs'],\n",
              " ['Duma Key', 'Stephen King'],\n",
              " ['The Children of Húrin',\n",
              "  'J.R.R. Tolkien,Christopher Tolkien,Alan       Lee'],\n",
              " ['The Nix', 'Nathan  Hill'],\n",
              " ['Lirael (Abhorsen, #2)', 'Garth Nix'],\n",
              " ['Peony in Love', 'Lisa See'],\n",
              " ['The Purpose Driven Life: What on Earth Am I Here for?', 'Rick Warren'],\n",
              " ['Half the Sky: Turning Oppression Into Opportunity for Women Worldwide',\n",
              "  'Nicholas D. Kristof,Sheryl WuDunn'],\n",
              " ['The Devil Wears Prada (The Devil Wears Prada, #1)', 'Lauren Weisberger'],\n",
              " ['Wolves of the Calla (The Dark Tower, #5)', 'Stephen King,Bernie Wrightson'],\n",
              " ['American Born Chinese', 'Gene Luen Yang'],\n",
              " ['The Lace Reader', 'Brunonia Barry'],\n",
              " [\"Heaven is for Real: A Little Boy's Astounding Story of His Trip to Heaven and Back\",\n",
              "  'Todd Burpo,Lynn Vincent'],\n",
              " ['Throne of Novoxos (Van Laven Chronicles #1)', 'Tyler Chase'],\n",
              " ['The Lost City of Z: A Tale of Deadly Obsession in the Amazon',\n",
              "  'David Grann'],\n",
              " ['Child 44 (Leo Demidov, #1)', 'Tom Rob Smith'],\n",
              " ['The Silver Linings Playbook', 'Matthew Quick'],\n",
              " ['The People of Paper', 'Salvador Plascencia'],\n",
              " ['Lover Eternal (Black Dagger Brotherhood, #2)', 'J.R. Ward'],\n",
              " ['A Court of Mist and Fury (A Court of Thorns and Roses, #2)',\n",
              "  'Sarah J. Maas'],\n",
              " ['Hotel on the Corner of Bitter and Sweet', 'Jamie Ford'],\n",
              " ['Oblivion: Stories', 'David Foster Wallace'],\n",
              " ['Suite Française', 'Irène Némirovsky,Sandra Smith'],\n",
              " ['The Passage (The Passage, #1)', 'Justin Cronin'],\n",
              " ['Mystic River', 'Dennis Lehane'],\n",
              " ['The Trigger: Hunting the Assassin Who Brought the World to War',\n",
              "  'Tim Butcher'],\n",
              " ['The Book of Salt', 'Monique Truong'],\n",
              " ['Half of a Yellow Sun', 'Chimamanda Ngozi Adichie'],\n",
              " ['Shutter Island', 'Dennis Lehane'],\n",
              " ['One Day', 'David Nicholls'],\n",
              " ['The Eyre Affair (Thursday Next, #1)', 'Jasper Fforde'],\n",
              " ['Black Swan Green', 'David Mitchell'],\n",
              " [\"The Wise Man's Fear (The Kingkiller Chronicle, #2)\", 'Patrick Rothfuss'],\n",
              " ['Spirit Bound (Vampire Academy, #5)', 'Richelle Mead'],\n",
              " ['The Girl on the Train', 'Paula Hawkins'],\n",
              " ['The Forgotten Garden', 'Kate Morton'],\n",
              " ['Fast Food Nation: The Dark Side of the All-American Meal',\n",
              "  'Eric Schlosser'],\n",
              " ['Little Bee', 'Chris Cleave'],\n",
              " ['Fingersmith', 'Sarah Waters'],\n",
              " ['Let the Right One In', 'John Ajvide Lindqvist'],\n",
              " ['Delirium (Delirium, #1)', 'Lauren Oliver'],\n",
              " ['The Final Empire (Mistborn, #1)', 'Brandon Sanderson'],\n",
              " ['Fifty Shades of Grey (Fifty Shades, #1)', 'E.L. James'],\n",
              " ['Clockwork Prince (The Infernal Devices, #2)', 'Cassandra Clare'],\n",
              " ['Saturday', 'Ian McEwan']]"
            ]
          },
          "execution_count": 21,
          "metadata": {},
          "output_type": "execute_result"
        }
      ],
      "source": [
        "# Filter out rows with null values in the 'author' column\n",
        "df_filtered = df.dropna(subset=['author'])\n",
        "\n",
        "# Extract unique titles and authors from the filtered DataFrame\n",
        "unique_titles_and_authors = df_filtered[['title', 'author']].drop_duplicates().iloc[:100].values.tolist()\n",
        "\n",
        "unique_titles_and_authors\n"
      ]
    },
    {
      "cell_type": "code",
      "execution_count": 66,
      "metadata": {
        "id": "CikFIK3jlc1j"
      },
      "outputs": [],
      "source": [
        "from bookworm_ai import setup_indexing_pipeline, fetch_book_data, extract_book_title, create_document_objects, setup_qa_pipeline, get_best_answer\n",
        "\n",
        "book_titles = []\n",
        "def main(user_question,ner):\n",
        "    global book_titles\n",
        "    # Setup indexing pipeline\n",
        "    indexing_pipeline, document_store = setup_indexing_pipeline()\n",
        "\n",
        "    # Load the NER model\n",
        "    nlp = spacy.load(ner)\n",
        "\n",
        "    # Extract book title from user input\n",
        "    book_title = extract_book_title(user_question, nlp)\n",
        "    book_titles.append(book_title)\n",
        "    print(book_titles)\n",
        "    print(\"book title is\", book_title)\n",
        "\n",
        "    book_items = fetch_book_data(book_title)\n",
        "    # Create document objects for each book item and aggregate descriptions\n",
        "    documents = create_document_objects(book_items)\n",
        "\n",
        "    if documents:\n",
        "        indexing_pipeline.run({\"documents\": documents})\n",
        "    else:\n",
        "        print(\"Book data not found.\")\n",
        "\n",
        "    # Setup QA pipeline\n",
        "    qa_pipeline = setup_qa_pipeline(document_store)\n",
        "\n",
        "    # Get best answer\n",
        "    best_answer = get_best_answer(qa_pipeline, user_question)\n",
        "\n",
        "    return(best_answer)\n"
      ]
    },
    {
      "cell_type": "code",
      "execution_count": 67,
      "metadata": {},
      "outputs": [],
      "source": [
        "#THIS IS TO TEST THE STANDARD NER MODEL (used for evaluation only). This is not duplicated, I created this because the standard NER model\n",
        "# doesn't recognize the book_title label.\n",
        "\n",
        "def extract_entity(question, ner_model):\n",
        "    global last_extracted_entity\n",
        "    \n",
        "    entities = ner_model(question)\n",
        "    for ent in entities.ents:  # Iterate over recognized entities\n",
        "        if ent.text.lower() == \"it\" and last_extracted_entity:\n",
        "            return last_extracted_entity\n",
        "        else:\n",
        "            last_extracted_entity = ent.text\n",
        "            return ent.text\n",
        "    return None\n",
        "\n",
        "book_titles = []\n",
        "def main(user_question,ner):\n",
        "    global book_titles\n",
        "    # Setup indexing pipeline\n",
        "    indexing_pipeline, document_store = setup_indexing_pipeline()\n",
        "\n",
        "    # Load the NER model\n",
        "    nlp = spacy.load(ner)\n",
        "\n",
        "    # Extract book title from user input\n",
        "    book_title = extract_entity(user_question, nlp)\n",
        "    book_titles.append(book_title)\n",
        "    print(book_titles)\n",
        "    print(\"book title is\", book_title)\n",
        "\n",
        "    book_items = fetch_book_data(book_title)\n",
        "    # Create document objects for each book item and aggregate descriptions\n",
        "    documents = create_document_objects(book_items)\n",
        "\n",
        "    if documents:\n",
        "        indexing_pipeline.run({\"documents\": documents})\n",
        "    else:\n",
        "        print(\"Book data not found.\")\n",
        "\n",
        "    # Setup QA pipeline\n",
        "    qa_pipeline = setup_qa_pipeline(document_store)\n",
        "\n",
        "    # Get best answer\n",
        "    best_answer = get_best_answer(qa_pipeline, user_question)\n",
        "\n",
        "    return(best_answer)\n"
      ]
    },
    {
      "cell_type": "markdown",
      "metadata": {},
      "source": [
        "The following code block runs the NER model and displays the predictions.\n",
        "It's important to set the model to \"en_core_web_sm\" to test the standard NER model, otherwise \"custom_ner_model_with_bert\"."
      ]
    },
    {
      "cell_type": "code",
      "execution_count": 68,
      "metadata": {
        "id": "O7ilqUBeiXfT"
      },
      "outputs": [
        {
          "name": "stdout",
          "output_type": "stream",
          "text": [
            "['martian']\n",
            "book title is martian\n"
          ]
        },
        {
          "data": {
            "application/vnd.jupyter.widget-view+json": {
              "model_id": "8f0d4a3678694319b2e089eaad23cc2f",
              "version_major": 2,
              "version_minor": 0
            },
            "text/plain": [
              "Batches:   0%|          | 0/1 [00:00<?, ?it/s]"
            ]
          },
          "metadata": {},
          "output_type": "display_data"
        },
        {
          "data": {
            "application/vnd.jupyter.widget-view+json": {
              "model_id": "feae41df75fa47ea9b14e0a6179d2be3",
              "version_major": 2,
              "version_minor": 0
            },
            "text/plain": [
              "Batches:   0%|          | 0/1 [00:00<?, ?it/s]"
            ]
          },
          "metadata": {},
          "output_type": "display_data"
        },
        {
          "name": "stdout",
          "output_type": "stream",
          "text": [
            "ExtractedAnswer(query='Who is the author of the martian?', score=0.7729896306991577, data='Andy Weir', document=Document(id=752f22e6ddd48180b86903ed2c2243922f8dea1660e18807cb436b90c87f1c33, content: 'Title: Sopravvissuto - The Martian;\n",
            "Writer/Author: Andy Weir;\n",
            "Topic: Da questo romanzo il grande fil...', meta: {'title': 'Sopravvissuto - The Martian', 'authors': 'Andy Weir', 'publisher': 'Newton Compton Editori', 'publishedDate': '2014-10-23', 'industryIdentifiers': \"{'type': 'ISBN_13', 'identifier': '9788854170520'}, {'type': 'ISBN_10', 'identifier': '8854170526'}\", 'readingModes': {'text': True, 'image': True}, 'pageCount': 384, 'printType': 'BOOK', 'categories': 'Fiction', 'averageRating': 5, 'ratingsCount': 3, 'maturityRating': 'NOT_MATURE', 'allowAnonLogging': True, 'contentVersion': '1.11.13.0.preview.3', 'panelizationSummary': {'containsEpubBubbles': False, 'containsImageBubbles': False}, 'imageLinks': {'smallThumbnail': 'http://books.google.com/books/content?id=XWMGBAAAQBAJ&printsec=frontcover&img=1&zoom=5&edge=curl&source=gbs_api', 'thumbnail': 'http://books.google.com/books/content?id=XWMGBAAAQBAJ&printsec=frontcover&img=1&zoom=1&edge=curl&source=gbs_api'}, 'language': 'it', 'previewLink': 'http://books.google.it/books?id=XWMGBAAAQBAJ&printsec=frontcover&dq=intitle:martian&hl=&cd=1&source=gbs_api', 'infoLink': 'https://play.google.com/store/books/details?id=XWMGBAAAQBAJ&source=gbs_api', 'canonicalVolumeLink': 'https://play.google.com/store/books/details?id=XWMGBAAAQBAJ', 'subtitle': 'Not available', 'seriesInfo': 'Not available'}, score: 0.4086956061647136), context=None, document_offset=ExtractedAnswer.Span(start=51, end=60), context_offset=None, meta={}) \n",
            "\n",
            "ExtractedAnswer(query='Who is the author of the martian?', score=0.6687771081924438, data='Andy Weir', document=Document(id=752f22e6ddd48180b86903ed2c2243922f8dea1660e18807cb436b90c87f1c33, content: 'Title: Sopravvissuto - The Martian;\n",
            "Writer/Author: Andy Weir;\n",
            "Topic: Da questo romanzo il grande fil...', meta: {'title': 'Sopravvissuto - The Martian', 'authors': 'Andy Weir', 'publisher': 'Newton Compton Editori', 'publishedDate': '2014-10-23', 'industryIdentifiers': \"{'type': 'ISBN_13', 'identifier': '9788854170520'}, {'type': 'ISBN_10', 'identifier': '8854170526'}\", 'readingModes': {'text': True, 'image': True}, 'pageCount': 384, 'printType': 'BOOK', 'categories': 'Fiction', 'averageRating': 5, 'ratingsCount': 3, 'maturityRating': 'NOT_MATURE', 'allowAnonLogging': True, 'contentVersion': '1.11.13.0.preview.3', 'panelizationSummary': {'containsEpubBubbles': False, 'containsImageBubbles': False}, 'imageLinks': {'smallThumbnail': 'http://books.google.com/books/content?id=XWMGBAAAQBAJ&printsec=frontcover&img=1&zoom=5&edge=curl&source=gbs_api', 'thumbnail': 'http://books.google.com/books/content?id=XWMGBAAAQBAJ&printsec=frontcover&img=1&zoom=1&edge=curl&source=gbs_api'}, 'language': 'it', 'previewLink': 'http://books.google.it/books?id=XWMGBAAAQBAJ&printsec=frontcover&dq=intitle:martian&hl=&cd=1&source=gbs_api', 'infoLink': 'https://play.google.com/store/books/details?id=XWMGBAAAQBAJ&source=gbs_api', 'canonicalVolumeLink': 'https://play.google.com/store/books/details?id=XWMGBAAAQBAJ', 'subtitle': 'Not available', 'seriesInfo': 'Not available'}, score: 0.4086956061647136), context=None, document_offset=ExtractedAnswer.Span(start=1680, end=1689), context_offset=None, meta={}) \n",
            "\n",
            "ExtractedAnswer(query='Who is the author of the martian?', score=0.6011122465133667, data='Andy Weir', document=Document(id=752f22e6ddd48180b86903ed2c2243922f8dea1660e18807cb436b90c87f1c33, content: 'Title: Sopravvissuto - The Martian;\n",
            "Writer/Author: Andy Weir;\n",
            "Topic: Da questo romanzo il grande fil...', meta: {'title': 'Sopravvissuto - The Martian', 'authors': 'Andy Weir', 'publisher': 'Newton Compton Editori', 'publishedDate': '2014-10-23', 'industryIdentifiers': \"{'type': 'ISBN_13', 'identifier': '9788854170520'}, {'type': 'ISBN_10', 'identifier': '8854170526'}\", 'readingModes': {'text': True, 'image': True}, 'pageCount': 384, 'printType': 'BOOK', 'categories': 'Fiction', 'averageRating': 5, 'ratingsCount': 3, 'maturityRating': 'NOT_MATURE', 'allowAnonLogging': True, 'contentVersion': '1.11.13.0.preview.3', 'panelizationSummary': {'containsEpubBubbles': False, 'containsImageBubbles': False}, 'imageLinks': {'smallThumbnail': 'http://books.google.com/books/content?id=XWMGBAAAQBAJ&printsec=frontcover&img=1&zoom=5&edge=curl&source=gbs_api', 'thumbnail': 'http://books.google.com/books/content?id=XWMGBAAAQBAJ&printsec=frontcover&img=1&zoom=1&edge=curl&source=gbs_api'}, 'language': 'it', 'previewLink': 'http://books.google.it/books?id=XWMGBAAAQBAJ&printsec=frontcover&dq=intitle:martian&hl=&cd=1&source=gbs_api', 'infoLink': 'https://play.google.com/store/books/details?id=XWMGBAAAQBAJ&source=gbs_api', 'canonicalVolumeLink': 'https://play.google.com/store/books/details?id=XWMGBAAAQBAJ', 'subtitle': 'Not available', 'seriesInfo': 'Not available'}, score: 0.4086956061647136), context=None, document_offset=ExtractedAnswer.Span(start=1199, end=1208), context_offset=None, meta={}) \n",
            "\n",
            "ExtractedAnswer(query='Who is the author of the martian?', score=0.029992781433995284, data=None, document=None, context=None, document_offset=None, context_offset=None, meta={}) \n",
            "\n",
            "['martian', None]\n",
            "book title is None\n"
          ]
        },
        {
          "data": {
            "application/vnd.jupyter.widget-view+json": {
              "model_id": "542083dc3718406cb051c575ac1e4d69",
              "version_major": 2,
              "version_minor": 0
            },
            "text/plain": [
              "Batches:   0%|          | 0/1 [00:00<?, ?it/s]"
            ]
          },
          "metadata": {},
          "output_type": "display_data"
        },
        {
          "data": {
            "application/vnd.jupyter.widget-view+json": {
              "model_id": "e76f74479cd54effb53b4f5118811cdd",
              "version_major": 2,
              "version_minor": 0
            },
            "text/plain": [
              "Batches:   0%|          | 0/1 [00:00<?, ?it/s]"
            ]
          },
          "metadata": {},
          "output_type": "display_data"
        },
        {
          "name": "stdout",
          "output_type": "stream",
          "text": [
            "ExtractedAnswer(query='Who is the author of under the banner of heaven: a story of violent faith?', score=0.4045487642288208, data='And Then There Were None', document=Document(id=e7589d9912517481ba7ca4862f0c2cedfa4c8a9fc11b30265e1d8c95fa8b4cdf, content: 'Title: And Then There Were None / И никого не стало. Книга для чтения на английском языке;\n",
            "Writer/Au...', meta: {'title': 'And Then There Were None / И никого не стало. Книга для чтения на английском языке', 'authors': 'Агата Кристи', 'publisher': 'Litres', 'publishedDate': '2018-10-09', 'industryIdentifiers': \"{'type': 'ISBN_13', 'identifier': '9785041375676'}, {'type': 'ISBN_10', 'identifier': '5041375674'}\", 'readingModes': {'text': True, 'image': True}, 'pageCount': 469, 'printType': 'BOOK', 'categories': 'Foreign Language Study', 'maturityRating': 'NOT_MATURE', 'allowAnonLogging': True, 'contentVersion': '1.6.6.0.preview.3', 'panelizationSummary': {'containsEpubBubbles': False, 'containsImageBubbles': False}, 'imageLinks': {'smallThumbnail': 'http://books.google.com/books/content?id=qS9yDwAAQBAJ&printsec=frontcover&img=1&zoom=5&edge=curl&source=gbs_api', 'thumbnail': 'http://books.google.com/books/content?id=qS9yDwAAQBAJ&printsec=frontcover&img=1&zoom=1&edge=curl&source=gbs_api'}, 'language': 'en', 'previewLink': 'http://books.google.it/books?id=qS9yDwAAQBAJ&printsec=frontcover&dq=intitle:None&hl=&cd=1&source=gbs_api', 'infoLink': 'http://books.google.it/books?id=qS9yDwAAQBAJ&dq=intitle:None&hl=&source=gbs_api', 'canonicalVolumeLink': 'https://books.google.com/books/about/And_Then_There_Were_None_%D0%98_%D0%BD%D0%B8%D0%BA%D0%BE%D0%B3%D0%BE.html?hl=&id=qS9yDwAAQBAJ', 'subtitle': 'Not available', 'averageRating': 'Not available', 'ratingsCount': 'Not available', 'seriesInfo': 'Not available'}, score: 0.11589477734952428), context=None, document_offset=ExtractedAnswer.Span(start=7, end=31), context_offset=None, meta={}) \n",
            "\n",
            "ExtractedAnswer(query='Who is the author of under the banner of heaven: a story of violent faith?', score=0.39836183190345764, data='Агата Кристи', document=Document(id=e7589d9912517481ba7ca4862f0c2cedfa4c8a9fc11b30265e1d8c95fa8b4cdf, content: 'Title: And Then There Were None / И никого не стало. Книга для чтения на английском языке;\n",
            "Writer/Au...', meta: {'title': 'And Then There Were None / И никого не стало. Книга для чтения на английском языке', 'authors': 'Агата Кристи', 'publisher': 'Litres', 'publishedDate': '2018-10-09', 'industryIdentifiers': \"{'type': 'ISBN_13', 'identifier': '9785041375676'}, {'type': 'ISBN_10', 'identifier': '5041375674'}\", 'readingModes': {'text': True, 'image': True}, 'pageCount': 469, 'printType': 'BOOK', 'categories': 'Foreign Language Study', 'maturityRating': 'NOT_MATURE', 'allowAnonLogging': True, 'contentVersion': '1.6.6.0.preview.3', 'panelizationSummary': {'containsEpubBubbles': False, 'containsImageBubbles': False}, 'imageLinks': {'smallThumbnail': 'http://books.google.com/books/content?id=qS9yDwAAQBAJ&printsec=frontcover&img=1&zoom=5&edge=curl&source=gbs_api', 'thumbnail': 'http://books.google.com/books/content?id=qS9yDwAAQBAJ&printsec=frontcover&img=1&zoom=1&edge=curl&source=gbs_api'}, 'language': 'en', 'previewLink': 'http://books.google.it/books?id=qS9yDwAAQBAJ&printsec=frontcover&dq=intitle:None&hl=&cd=1&source=gbs_api', 'infoLink': 'http://books.google.it/books?id=qS9yDwAAQBAJ&dq=intitle:None&hl=&source=gbs_api', 'canonicalVolumeLink': 'https://books.google.com/books/about/And_Then_There_Were_None_%D0%98_%D0%BD%D0%B8%D0%BA%D0%BE%D0%B3%D0%BE.html?hl=&id=qS9yDwAAQBAJ', 'subtitle': 'Not available', 'averageRating': 'Not available', 'ratingsCount': 'Not available', 'seriesInfo': 'Not available'}, score: 0.11589477734952428), context=None, document_offset=ExtractedAnswer.Span(start=106, end=118), context_offset=None, meta={}) \n",
            "\n",
            "ExtractedAnswer(query='Who is the author of under the banner of heaven: a story of violent faith?', score=0.3349699378013611, data='Foreign Language Study;\\nNumber of pages: 469;\\nPublished by: Litres', document=Document(id=e7589d9912517481ba7ca4862f0c2cedfa4c8a9fc11b30265e1d8c95fa8b4cdf, content: 'Title: And Then There Were None / И никого не стало. Книга для чтения на английском языке;\n",
            "Writer/Au...', meta: {'title': 'And Then There Were None / И никого не стало. Книга для чтения на английском языке', 'authors': 'Агата Кристи', 'publisher': 'Litres', 'publishedDate': '2018-10-09', 'industryIdentifiers': \"{'type': 'ISBN_13', 'identifier': '9785041375676'}, {'type': 'ISBN_10', 'identifier': '5041375674'}\", 'readingModes': {'text': True, 'image': True}, 'pageCount': 469, 'printType': 'BOOK', 'categories': 'Foreign Language Study', 'maturityRating': 'NOT_MATURE', 'allowAnonLogging': True, 'contentVersion': '1.6.6.0.preview.3', 'panelizationSummary': {'containsEpubBubbles': False, 'containsImageBubbles': False}, 'imageLinks': {'smallThumbnail': 'http://books.google.com/books/content?id=qS9yDwAAQBAJ&printsec=frontcover&img=1&zoom=5&edge=curl&source=gbs_api', 'thumbnail': 'http://books.google.com/books/content?id=qS9yDwAAQBAJ&printsec=frontcover&img=1&zoom=1&edge=curl&source=gbs_api'}, 'language': 'en', 'previewLink': 'http://books.google.it/books?id=qS9yDwAAQBAJ&printsec=frontcover&dq=intitle:None&hl=&cd=1&source=gbs_api', 'infoLink': 'http://books.google.it/books?id=qS9yDwAAQBAJ&dq=intitle:None&hl=&source=gbs_api', 'canonicalVolumeLink': 'https://books.google.com/books/about/And_Then_There_Were_None_%D0%98_%D0%BD%D0%B8%D0%BA%D0%BE%D0%B3%D0%BE.html?hl=&id=qS9yDwAAQBAJ', 'subtitle': 'Not available', 'averageRating': 'Not available', 'ratingsCount': 'Not available', 'seriesInfo': 'Not available'}, score: 0.11589477734952428), context=None, document_offset=ExtractedAnswer.Span(start=498, end=564), context_offset=None, meta={}) \n",
            "\n",
            "ExtractedAnswer(query='Who is the author of under the banner of heaven: a story of violent faith?', score=0.23824448647047528, data=None, document=None, context=None, document_offset=None, context_offset=None, meta={}) \n",
            "\n",
            "['martian', None, None]\n",
            "book title is None\n"
          ]
        },
        {
          "data": {
            "application/vnd.jupyter.widget-view+json": {
              "model_id": "852e3ea29d6c4de78eafbf72862d0419",
              "version_major": 2,
              "version_minor": 0
            },
            "text/plain": [
              "Batches:   0%|          | 0/1 [00:00<?, ?it/s]"
            ]
          },
          "metadata": {},
          "output_type": "display_data"
        },
        {
          "data": {
            "application/vnd.jupyter.widget-view+json": {
              "model_id": "cb3589b789fc4e42856036008d97d6c8",
              "version_major": 2,
              "version_minor": 0
            },
            "text/plain": [
              "Batches:   0%|          | 0/1 [00:00<?, ?it/s]"
            ]
          },
          "metadata": {},
          "output_type": "display_data"
        },
        {
          "name": "stdout",
          "output_type": "stream",
          "text": [
            "ExtractedAnswer(query='Who is the author of cutting for stone?', score=0.41680672764778137, data='Агата Кристи', document=Document(id=e7589d9912517481ba7ca4862f0c2cedfa4c8a9fc11b30265e1d8c95fa8b4cdf, content: 'Title: And Then There Were None / И никого не стало. Книга для чтения на английском языке;\n",
            "Writer/Au...', meta: {'title': 'And Then There Were None / И никого не стало. Книга для чтения на английском языке', 'authors': 'Агата Кристи', 'publisher': 'Litres', 'publishedDate': '2018-10-09', 'industryIdentifiers': \"{'type': 'ISBN_13', 'identifier': '9785041375676'}, {'type': 'ISBN_10', 'identifier': '5041375674'}\", 'readingModes': {'text': True, 'image': True}, 'pageCount': 469, 'printType': 'BOOK', 'categories': 'Foreign Language Study', 'maturityRating': 'NOT_MATURE', 'allowAnonLogging': True, 'contentVersion': '1.6.6.0.preview.3', 'panelizationSummary': {'containsEpubBubbles': False, 'containsImageBubbles': False}, 'imageLinks': {'smallThumbnail': 'http://books.google.com/books/content?id=qS9yDwAAQBAJ&printsec=frontcover&img=1&zoom=5&edge=curl&source=gbs_api', 'thumbnail': 'http://books.google.com/books/content?id=qS9yDwAAQBAJ&printsec=frontcover&img=1&zoom=1&edge=curl&source=gbs_api'}, 'language': 'en', 'previewLink': 'http://books.google.it/books?id=qS9yDwAAQBAJ&printsec=frontcover&dq=intitle:None&hl=&cd=1&source=gbs_api', 'infoLink': 'http://books.google.it/books?id=qS9yDwAAQBAJ&dq=intitle:None&hl=&source=gbs_api', 'canonicalVolumeLink': 'https://books.google.com/books/about/And_Then_There_Were_None_%D0%98_%D0%BD%D0%B8%D0%BA%D0%BE%D0%B3%D0%BE.html?hl=&id=qS9yDwAAQBAJ', 'subtitle': 'Not available', 'averageRating': 'Not available', 'ratingsCount': 'Not available', 'seriesInfo': 'Not available'}, score: 0.09317487710192153), context=None, document_offset=ExtractedAnswer.Span(start=106, end=118), context_offset=None, meta={}) \n",
            "\n",
            "ExtractedAnswer(query='Who is the author of cutting for stone?', score=0.33994826674461365, data='Foreign Language Study;\\nNumber of pages: 469;\\nPublished by: Litres', document=Document(id=e7589d9912517481ba7ca4862f0c2cedfa4c8a9fc11b30265e1d8c95fa8b4cdf, content: 'Title: And Then There Were None / И никого не стало. Книга для чтения на английском языке;\n",
            "Writer/Au...', meta: {'title': 'And Then There Were None / И никого не стало. Книга для чтения на английском языке', 'authors': 'Агата Кристи', 'publisher': 'Litres', 'publishedDate': '2018-10-09', 'industryIdentifiers': \"{'type': 'ISBN_13', 'identifier': '9785041375676'}, {'type': 'ISBN_10', 'identifier': '5041375674'}\", 'readingModes': {'text': True, 'image': True}, 'pageCount': 469, 'printType': 'BOOK', 'categories': 'Foreign Language Study', 'maturityRating': 'NOT_MATURE', 'allowAnonLogging': True, 'contentVersion': '1.6.6.0.preview.3', 'panelizationSummary': {'containsEpubBubbles': False, 'containsImageBubbles': False}, 'imageLinks': {'smallThumbnail': 'http://books.google.com/books/content?id=qS9yDwAAQBAJ&printsec=frontcover&img=1&zoom=5&edge=curl&source=gbs_api', 'thumbnail': 'http://books.google.com/books/content?id=qS9yDwAAQBAJ&printsec=frontcover&img=1&zoom=1&edge=curl&source=gbs_api'}, 'language': 'en', 'previewLink': 'http://books.google.it/books?id=qS9yDwAAQBAJ&printsec=frontcover&dq=intitle:None&hl=&cd=1&source=gbs_api', 'infoLink': 'http://books.google.it/books?id=qS9yDwAAQBAJ&dq=intitle:None&hl=&source=gbs_api', 'canonicalVolumeLink': 'https://books.google.com/books/about/And_Then_There_Were_None_%D0%98_%D0%BD%D0%B8%D0%BA%D0%BE%D0%B3%D0%BE.html?hl=&id=qS9yDwAAQBAJ', 'subtitle': 'Not available', 'averageRating': 'Not available', 'ratingsCount': 'Not available', 'seriesInfo': 'Not available'}, score: 0.09317487710192153), context=None, document_offset=ExtractedAnswer.Span(start=498, end=564), context_offset=None, meta={}) \n",
            "\n",
            "ExtractedAnswer(query='Who is the author of cutting for stone?', score=0.3023532032966614, data='2018-10-09', document=Document(id=e7589d9912517481ba7ca4862f0c2cedfa4c8a9fc11b30265e1d8c95fa8b4cdf, content: 'Title: And Then There Were None / И никого не стало. Книга для чтения на английском языке;\n",
            "Writer/Au...', meta: {'title': 'And Then There Were None / И никого не стало. Книга для чтения на английском языке', 'authors': 'Агата Кристи', 'publisher': 'Litres', 'publishedDate': '2018-10-09', 'industryIdentifiers': \"{'type': 'ISBN_13', 'identifier': '9785041375676'}, {'type': 'ISBN_10', 'identifier': '5041375674'}\", 'readingModes': {'text': True, 'image': True}, 'pageCount': 469, 'printType': 'BOOK', 'categories': 'Foreign Language Study', 'maturityRating': 'NOT_MATURE', 'allowAnonLogging': True, 'contentVersion': '1.6.6.0.preview.3', 'panelizationSummary': {'containsEpubBubbles': False, 'containsImageBubbles': False}, 'imageLinks': {'smallThumbnail': 'http://books.google.com/books/content?id=qS9yDwAAQBAJ&printsec=frontcover&img=1&zoom=5&edge=curl&source=gbs_api', 'thumbnail': 'http://books.google.com/books/content?id=qS9yDwAAQBAJ&printsec=frontcover&img=1&zoom=1&edge=curl&source=gbs_api'}, 'language': 'en', 'previewLink': 'http://books.google.it/books?id=qS9yDwAAQBAJ&printsec=frontcover&dq=intitle:None&hl=&cd=1&source=gbs_api', 'infoLink': 'http://books.google.it/books?id=qS9yDwAAQBAJ&dq=intitle:None&hl=&source=gbs_api', 'canonicalVolumeLink': 'https://books.google.com/books/about/And_Then_There_Were_None_%D0%98_%D0%BD%D0%B8%D0%BA%D0%BE%D0%B3%D0%BE.html?hl=&id=qS9yDwAAQBAJ', 'subtitle': 'Not available', 'averageRating': 'Not available', 'ratingsCount': 'Not available', 'seriesInfo': 'Not available'}, score: 0.09317487710192153), context=None, document_offset=ExtractedAnswer.Span(start=578, end=588), context_offset=None, meta={}) \n",
            "\n",
            "ExtractedAnswer(query='Who is the author of cutting for stone?', score=0.26855057443146607, data=None, document=None, context=None, document_offset=None, context_offset=None, meta={}) \n",
            "\n",
            "['martian', None, None, 'kevin']\n",
            "book title is kevin\n"
          ]
        },
        {
          "data": {
            "application/vnd.jupyter.widget-view+json": {
              "model_id": "6848f808ee314142ae470d347c6eddb3",
              "version_major": 2,
              "version_minor": 0
            },
            "text/plain": [
              "Batches:   0%|          | 0/1 [00:00<?, ?it/s]"
            ]
          },
          "metadata": {},
          "output_type": "display_data"
        },
        {
          "data": {
            "application/vnd.jupyter.widget-view+json": {
              "model_id": "24f94cc215a24c549b9a68770f1cbba9",
              "version_major": 2,
              "version_minor": 0
            },
            "text/plain": [
              "Batches:   0%|          | 0/1 [00:00<?, ?it/s]"
            ]
          },
          "metadata": {},
          "output_type": "display_data"
        },
        {
          "name": "stdout",
          "output_type": "stream",
          "text": [
            "ExtractedAnswer(query='Who is the author of we need to talk about kevin?', score=0.758540689945221, data='Lionel Shriver', document=Document(id=4b6f2f938fc465da148f9deb52d557dd7ce3436ff9b38c0d053958b1cac942f5, content: 'Title: ...e ora parliamo di Kevin;\n",
            "Writer/Author: Lionel Shriver;\n",
            "Topic: Quell'8 aprile era un giove...', meta: {'title': '...e ora parliamo di Kevin', 'authors': 'Lionel Shriver', 'publisher': 'Edizioni Piemme', 'publishedDate': '2012-02-07', 'industryIdentifiers': \"{'type': 'ISBN_13', 'identifier': '9788858505984'}, {'type': 'ISBN_10', 'identifier': '8858505980'}\", 'readingModes': {'text': True, 'image': True}, 'pageCount': 472, 'printType': 'BOOK', 'categories': 'Fiction', 'averageRating': 3.5, 'ratingsCount': 2, 'maturityRating': 'NOT_MATURE', 'allowAnonLogging': True, 'contentVersion': '2.2.3.0.preview.3', 'panelizationSummary': {'containsEpubBubbles': False, 'containsImageBubbles': False}, 'imageLinks': {'smallThumbnail': 'http://books.google.com/books/content?id=8qujZFMxt_oC&printsec=frontcover&img=1&zoom=5&edge=curl&source=gbs_api', 'thumbnail': 'http://books.google.com/books/content?id=8qujZFMxt_oC&printsec=frontcover&img=1&zoom=1&edge=curl&source=gbs_api'}, 'language': 'it', 'previewLink': 'http://books.google.it/books?id=8qujZFMxt_oC&printsec=frontcover&dq=intitle:kevin&hl=&cd=1&source=gbs_api', 'infoLink': 'http://books.google.it/books?id=8qujZFMxt_oC&dq=intitle:kevin&hl=&source=gbs_api', 'canonicalVolumeLink': 'https://books.google.com/books/about/e_ora_parliamo_di_Kevin.html?hl=&id=8qujZFMxt_oC', 'subtitle': 'Not available', 'seriesInfo': 'Not available'}, score: 0.30145684237156894), context=None, document_offset=ExtractedAnswer.Span(start=50, end=64), context_offset=None, meta={}) \n",
            "\n",
            "ExtractedAnswer(query='Who is the author of we need to talk about kevin?', score=0.42067956924438477, data='Eva', document=Document(id=4b6f2f938fc465da148f9deb52d557dd7ce3436ff9b38c0d053958b1cac942f5, content: 'Title: ...e ora parliamo di Kevin;\n",
            "Writer/Author: Lionel Shriver;\n",
            "Topic: Quell'8 aprile era un giove...', meta: {'title': '...e ora parliamo di Kevin', 'authors': 'Lionel Shriver', 'publisher': 'Edizioni Piemme', 'publishedDate': '2012-02-07', 'industryIdentifiers': \"{'type': 'ISBN_13', 'identifier': '9788858505984'}, {'type': 'ISBN_10', 'identifier': '8858505980'}\", 'readingModes': {'text': True, 'image': True}, 'pageCount': 472, 'printType': 'BOOK', 'categories': 'Fiction', 'averageRating': 3.5, 'ratingsCount': 2, 'maturityRating': 'NOT_MATURE', 'allowAnonLogging': True, 'contentVersion': '2.2.3.0.preview.3', 'panelizationSummary': {'containsEpubBubbles': False, 'containsImageBubbles': False}, 'imageLinks': {'smallThumbnail': 'http://books.google.com/books/content?id=8qujZFMxt_oC&printsec=frontcover&img=1&zoom=5&edge=curl&source=gbs_api', 'thumbnail': 'http://books.google.com/books/content?id=8qujZFMxt_oC&printsec=frontcover&img=1&zoom=1&edge=curl&source=gbs_api'}, 'language': 'it', 'previewLink': 'http://books.google.it/books?id=8qujZFMxt_oC&printsec=frontcover&dq=intitle:kevin&hl=&cd=1&source=gbs_api', 'infoLink': 'http://books.google.it/books?id=8qujZFMxt_oC&dq=intitle:kevin&hl=&source=gbs_api', 'canonicalVolumeLink': 'https://books.google.com/books/about/e_ora_parliamo_di_Kevin.html?hl=&id=8qujZFMxt_oC', 'subtitle': 'Not available', 'seriesInfo': 'Not available'}, score: 0.30145684237156894), context=None, document_offset=ExtractedAnswer.Span(start=753, end=756), context_offset=None, meta={}) \n",
            "\n",
            "ExtractedAnswer(query='Who is the author of we need to talk about kevin?', score=0.39625945687294006, data='Fiction;\\nNumber of pages: 472;\\nPublished by: Edizioni Piemme', document=Document(id=4b6f2f938fc465da148f9deb52d557dd7ce3436ff9b38c0d053958b1cac942f5, content: 'Title: ...e ora parliamo di Kevin;\n",
            "Writer/Author: Lionel Shriver;\n",
            "Topic: Quell'8 aprile era un giove...', meta: {'title': '...e ora parliamo di Kevin', 'authors': 'Lionel Shriver', 'publisher': 'Edizioni Piemme', 'publishedDate': '2012-02-07', 'industryIdentifiers': \"{'type': 'ISBN_13', 'identifier': '9788858505984'}, {'type': 'ISBN_10', 'identifier': '8858505980'}\", 'readingModes': {'text': True, 'image': True}, 'pageCount': 472, 'printType': 'BOOK', 'categories': 'Fiction', 'averageRating': 3.5, 'ratingsCount': 2, 'maturityRating': 'NOT_MATURE', 'allowAnonLogging': True, 'contentVersion': '2.2.3.0.preview.3', 'panelizationSummary': {'containsEpubBubbles': False, 'containsImageBubbles': False}, 'imageLinks': {'smallThumbnail': 'http://books.google.com/books/content?id=8qujZFMxt_oC&printsec=frontcover&img=1&zoom=5&edge=curl&source=gbs_api', 'thumbnail': 'http://books.google.com/books/content?id=8qujZFMxt_oC&printsec=frontcover&img=1&zoom=1&edge=curl&source=gbs_api'}, 'language': 'it', 'previewLink': 'http://books.google.it/books?id=8qujZFMxt_oC&printsec=frontcover&dq=intitle:kevin&hl=&cd=1&source=gbs_api', 'infoLink': 'http://books.google.it/books?id=8qujZFMxt_oC&dq=intitle:kevin&hl=&source=gbs_api', 'canonicalVolumeLink': 'https://books.google.com/books/about/e_ora_parliamo_di_Kevin.html?hl=&id=8qujZFMxt_oC', 'subtitle': 'Not available', 'seriesInfo': 'Not available'}, score: 0.30145684237156894), context=None, document_offset=ExtractedAnswer.Span(start=1457, end=1517), context_offset=None, meta={}) \n",
            "\n",
            "ExtractedAnswer(query='Who is the author of we need to talk about kevin?', score=0.08445262272545226, data=None, document=None, context=None, document_offset=None, context_offset=None, meta={}) \n",
            "\n",
            "['martian', None, None, 'kevin', None]\n",
            "book title is None\n"
          ]
        },
        {
          "data": {
            "application/vnd.jupyter.widget-view+json": {
              "model_id": "5bfabf2474444560946e80923cc65273",
              "version_major": 2,
              "version_minor": 0
            },
            "text/plain": [
              "Batches:   0%|          | 0/1 [00:00<?, ?it/s]"
            ]
          },
          "metadata": {},
          "output_type": "display_data"
        },
        {
          "data": {
            "application/vnd.jupyter.widget-view+json": {
              "model_id": "a76c00e2565f4f85a60985959376d89a",
              "version_major": 2,
              "version_minor": 0
            },
            "text/plain": [
              "Batches:   0%|          | 0/1 [00:00<?, ?it/s]"
            ]
          },
          "metadata": {},
          "output_type": "display_data"
        },
        {
          "name": "stdout",
          "output_type": "stream",
          "text": [
            "ExtractedAnswer(query='Who is the author of the immortal life of henrietta lacks?', score=0.4619791805744171, data='None', document=Document(id=e7589d9912517481ba7ca4862f0c2cedfa4c8a9fc11b30265e1d8c95fa8b4cdf, content: 'Title: And Then There Were None / И никого не стало. Книга для чтения на английском языке;\n",
            "Writer/Au...', meta: {'title': 'And Then There Were None / И никого не стало. Книга для чтения на английском языке', 'authors': 'Агата Кристи', 'publisher': 'Litres', 'publishedDate': '2018-10-09', 'industryIdentifiers': \"{'type': 'ISBN_13', 'identifier': '9785041375676'}, {'type': 'ISBN_10', 'identifier': '5041375674'}\", 'readingModes': {'text': True, 'image': True}, 'pageCount': 469, 'printType': 'BOOK', 'categories': 'Foreign Language Study', 'maturityRating': 'NOT_MATURE', 'allowAnonLogging': True, 'contentVersion': '1.6.6.0.preview.3', 'panelizationSummary': {'containsEpubBubbles': False, 'containsImageBubbles': False}, 'imageLinks': {'smallThumbnail': 'http://books.google.com/books/content?id=qS9yDwAAQBAJ&printsec=frontcover&img=1&zoom=5&edge=curl&source=gbs_api', 'thumbnail': 'http://books.google.com/books/content?id=qS9yDwAAQBAJ&printsec=frontcover&img=1&zoom=1&edge=curl&source=gbs_api'}, 'language': 'en', 'previewLink': 'http://books.google.it/books?id=qS9yDwAAQBAJ&printsec=frontcover&dq=intitle:None&hl=&cd=1&source=gbs_api', 'infoLink': 'http://books.google.it/books?id=qS9yDwAAQBAJ&dq=intitle:None&hl=&source=gbs_api', 'canonicalVolumeLink': 'https://books.google.com/books/about/And_Then_There_Were_None_%D0%98_%D0%BD%D0%B8%D0%BA%D0%BE%D0%B3%D0%BE.html?hl=&id=qS9yDwAAQBAJ', 'subtitle': 'Not available', 'averageRating': 'Not available', 'ratingsCount': 'Not available', 'seriesInfo': 'Not available'}, score: 0.08995162977447121), context=None, document_offset=ExtractedAnswer.Span(start=27, end=31), context_offset=None, meta={}) \n",
            "\n",
            "ExtractedAnswer(query='Who is the author of the immortal life of henrietta lacks?', score=0.39779555797576904, data='Foreign Language Study;\\nNumber of pages: 469;\\nPublished by: Litres', document=Document(id=e7589d9912517481ba7ca4862f0c2cedfa4c8a9fc11b30265e1d8c95fa8b4cdf, content: 'Title: And Then There Were None / И никого не стало. Книга для чтения на английском языке;\n",
            "Writer/Au...', meta: {'title': 'And Then There Were None / И никого не стало. Книга для чтения на английском языке', 'authors': 'Агата Кристи', 'publisher': 'Litres', 'publishedDate': '2018-10-09', 'industryIdentifiers': \"{'type': 'ISBN_13', 'identifier': '9785041375676'}, {'type': 'ISBN_10', 'identifier': '5041375674'}\", 'readingModes': {'text': True, 'image': True}, 'pageCount': 469, 'printType': 'BOOK', 'categories': 'Foreign Language Study', 'maturityRating': 'NOT_MATURE', 'allowAnonLogging': True, 'contentVersion': '1.6.6.0.preview.3', 'panelizationSummary': {'containsEpubBubbles': False, 'containsImageBubbles': False}, 'imageLinks': {'smallThumbnail': 'http://books.google.com/books/content?id=qS9yDwAAQBAJ&printsec=frontcover&img=1&zoom=5&edge=curl&source=gbs_api', 'thumbnail': 'http://books.google.com/books/content?id=qS9yDwAAQBAJ&printsec=frontcover&img=1&zoom=1&edge=curl&source=gbs_api'}, 'language': 'en', 'previewLink': 'http://books.google.it/books?id=qS9yDwAAQBAJ&printsec=frontcover&dq=intitle:None&hl=&cd=1&source=gbs_api', 'infoLink': 'http://books.google.it/books?id=qS9yDwAAQBAJ&dq=intitle:None&hl=&source=gbs_api', 'canonicalVolumeLink': 'https://books.google.com/books/about/And_Then_There_Were_None_%D0%98_%D0%BD%D0%B8%D0%BA%D0%BE%D0%B3%D0%BE.html?hl=&id=qS9yDwAAQBAJ', 'subtitle': 'Not available', 'averageRating': 'Not available', 'ratingsCount': 'Not available', 'seriesInfo': 'Not available'}, score: 0.08995162977447121), context=None, document_offset=ExtractedAnswer.Span(start=498, end=564), context_offset=None, meta={}) \n",
            "\n",
            "ExtractedAnswer(query='Who is the author of the immortal life of henrietta lacks?', score=0.38127678632736206, data='Writer/Author: Агата Кристи', document=Document(id=e7589d9912517481ba7ca4862f0c2cedfa4c8a9fc11b30265e1d8c95fa8b4cdf, content: 'Title: And Then There Were None / И никого не стало. Книга для чтения на английском языке;\n",
            "Writer/Au...', meta: {'title': 'And Then There Were None / И никого не стало. Книга для чтения на английском языке', 'authors': 'Агата Кристи', 'publisher': 'Litres', 'publishedDate': '2018-10-09', 'industryIdentifiers': \"{'type': 'ISBN_13', 'identifier': '9785041375676'}, {'type': 'ISBN_10', 'identifier': '5041375674'}\", 'readingModes': {'text': True, 'image': True}, 'pageCount': 469, 'printType': 'BOOK', 'categories': 'Foreign Language Study', 'maturityRating': 'NOT_MATURE', 'allowAnonLogging': True, 'contentVersion': '1.6.6.0.preview.3', 'panelizationSummary': {'containsEpubBubbles': False, 'containsImageBubbles': False}, 'imageLinks': {'smallThumbnail': 'http://books.google.com/books/content?id=qS9yDwAAQBAJ&printsec=frontcover&img=1&zoom=5&edge=curl&source=gbs_api', 'thumbnail': 'http://books.google.com/books/content?id=qS9yDwAAQBAJ&printsec=frontcover&img=1&zoom=1&edge=curl&source=gbs_api'}, 'language': 'en', 'previewLink': 'http://books.google.it/books?id=qS9yDwAAQBAJ&printsec=frontcover&dq=intitle:None&hl=&cd=1&source=gbs_api', 'infoLink': 'http://books.google.it/books?id=qS9yDwAAQBAJ&dq=intitle:None&hl=&source=gbs_api', 'canonicalVolumeLink': 'https://books.google.com/books/about/And_Then_There_Were_None_%D0%98_%D0%BD%D0%B8%D0%BA%D0%BE%D0%B3%D0%BE.html?hl=&id=qS9yDwAAQBAJ', 'subtitle': 'Not available', 'averageRating': 'Not available', 'ratingsCount': 'Not available', 'seriesInfo': 'Not available'}, score: 0.08995162977447121), context=None, document_offset=ExtractedAnswer.Span(start=91, end=118), context_offset=None, meta={}) \n",
            "\n",
            "ExtractedAnswer(query='Who is the author of the immortal life of henrietta lacks?', score=0.20046541007313548, data=None, document=None, context=None, document_offset=None, context_offset=None, meta={}) \n",
            "\n",
            "['martian', None, None, 'kevin', None, 'eragon']\n",
            "book title is eragon\n"
          ]
        },
        {
          "data": {
            "application/vnd.jupyter.widget-view+json": {
              "model_id": "0e6b9b611efc49d19c44091390177bd1",
              "version_major": 2,
              "version_minor": 0
            },
            "text/plain": [
              "Batches:   0%|          | 0/1 [00:00<?, ?it/s]"
            ]
          },
          "metadata": {},
          "output_type": "display_data"
        },
        {
          "data": {
            "application/vnd.jupyter.widget-view+json": {
              "model_id": "a1451c309c8b41e79f982e8693872567",
              "version_major": 2,
              "version_minor": 0
            },
            "text/plain": [
              "Batches:   0%|          | 0/1 [00:00<?, ?it/s]"
            ]
          },
          "metadata": {},
          "output_type": "display_data"
        },
        {
          "name": "stdout",
          "output_type": "stream",
          "text": [
            "ExtractedAnswer(query='Who is the author of eragon (the inheritance cycle, #1)?', score=0.773949921131134, data='Christopher Paolini', document=Document(id=9b01409b2f9d7c918624c378e3881c6d13d4f5c499e69a95b4b45e021eee3c1c, content: 'Title: Eragon;\n",
            "Writer/Author: Christopher Paolini;\n",
            "Topic: Quando Eragon trova una pietra blu nella f...', meta: {'title': 'Eragon', 'authors': 'Christopher Paolini', 'publisher': 'Rizzoli', 'publishedDate': '2012-10-01', 'industryIdentifiers': \"{'type': 'ISBN_13', 'identifier': '9788858623473'}, {'type': 'ISBN_10', 'identifier': '8858623479'}\", 'readingModes': {'text': True, 'image': True}, 'pageCount': 486, 'printType': 'BOOK', 'categories': 'Fiction', 'averageRating': 4.5, 'ratingsCount': 43, 'maturityRating': 'NOT_MATURE', 'allowAnonLogging': True, 'contentVersion': '1.49.49.0.preview.3', 'panelizationSummary': {'containsEpubBubbles': False, 'containsImageBubbles': False}, 'imageLinks': {'smallThumbnail': 'http://books.google.com/books/content?id=pC1eANxeRbsC&printsec=frontcover&img=1&zoom=5&edge=curl&source=gbs_api', 'thumbnail': 'http://books.google.com/books/content?id=pC1eANxeRbsC&printsec=frontcover&img=1&zoom=1&edge=curl&source=gbs_api'}, 'language': 'it', 'previewLink': 'http://books.google.it/books?id=pC1eANxeRbsC&printsec=frontcover&dq=intitle:eragon&hl=&cd=1&source=gbs_api', 'infoLink': 'https://play.google.com/store/books/details?id=pC1eANxeRbsC&source=gbs_api', 'canonicalVolumeLink': 'https://play.google.com/store/books/details?id=pC1eANxeRbsC', 'subtitle': 'Not available', 'seriesInfo': 'Not available'}, score: 0.386457419685769), context=None, document_offset=ExtractedAnswer.Span(start=30, end=49), context_offset=None, meta={}) \n",
            "\n",
            "ExtractedAnswer(query='Who is the author of eragon (the inheritance cycle, #1)?', score=0.22605007886886597, data=None, document=None, context=None, document_offset=None, context_offset=None, meta={}) \n",
            "\n",
            "['martian', None, None, 'kevin', None, 'eragon', None]\n",
            "book title is None\n"
          ]
        },
        {
          "data": {
            "application/vnd.jupyter.widget-view+json": {
              "model_id": "857408a6639d493ba4d707d215028eb2",
              "version_major": 2,
              "version_minor": 0
            },
            "text/plain": [
              "Batches:   0%|          | 0/1 [00:00<?, ?it/s]"
            ]
          },
          "metadata": {},
          "output_type": "display_data"
        },
        {
          "data": {
            "application/vnd.jupyter.widget-view+json": {
              "model_id": "8fd1b089edc24baf84e7506d28a0683d",
              "version_major": 2,
              "version_minor": 0
            },
            "text/plain": [
              "Batches:   0%|          | 0/1 [00:00<?, ?it/s]"
            ]
          },
          "metadata": {},
          "output_type": "display_data"
        },
        {
          "name": "stdout",
          "output_type": "stream",
          "text": [
            "ExtractedAnswer(query='Who is the author of unaccustomed earth?', score=0.3540982388792443, data=None, document=None, context=None, document_offset=None, context_offset=None, meta={}) \n",
            "\n",
            "ExtractedAnswer(query='Who is the author of unaccustomed earth?', score=0.3117159903049469, data='Агата Кристи', document=Document(id=e7589d9912517481ba7ca4862f0c2cedfa4c8a9fc11b30265e1d8c95fa8b4cdf, content: 'Title: And Then There Were None / И никого не стало. Книга для чтения на английском языке;\n",
            "Writer/Au...', meta: {'title': 'And Then There Were None / И никого не стало. Книга для чтения на английском языке', 'authors': 'Агата Кристи', 'publisher': 'Litres', 'publishedDate': '2018-10-09', 'industryIdentifiers': \"{'type': 'ISBN_13', 'identifier': '9785041375676'}, {'type': 'ISBN_10', 'identifier': '5041375674'}\", 'readingModes': {'text': True, 'image': True}, 'pageCount': 469, 'printType': 'BOOK', 'categories': 'Foreign Language Study', 'maturityRating': 'NOT_MATURE', 'allowAnonLogging': True, 'contentVersion': '1.6.6.0.preview.3', 'panelizationSummary': {'containsEpubBubbles': False, 'containsImageBubbles': False}, 'imageLinks': {'smallThumbnail': 'http://books.google.com/books/content?id=qS9yDwAAQBAJ&printsec=frontcover&img=1&zoom=5&edge=curl&source=gbs_api', 'thumbnail': 'http://books.google.com/books/content?id=qS9yDwAAQBAJ&printsec=frontcover&img=1&zoom=1&edge=curl&source=gbs_api'}, 'language': 'en', 'previewLink': 'http://books.google.it/books?id=qS9yDwAAQBAJ&printsec=frontcover&dq=intitle:None&hl=&cd=1&source=gbs_api', 'infoLink': 'http://books.google.it/books?id=qS9yDwAAQBAJ&dq=intitle:None&hl=&source=gbs_api', 'canonicalVolumeLink': 'https://books.google.com/books/about/And_Then_There_Were_None_%D0%98_%D0%BD%D0%B8%D0%BA%D0%BE%D0%B3%D0%BE.html?hl=&id=qS9yDwAAQBAJ', 'subtitle': 'Not available', 'averageRating': 'Not available', 'ratingsCount': 'Not available', 'seriesInfo': 'Not available'}, score: 0.18559410759175998), context=None, document_offset=ExtractedAnswer.Span(start=106, end=118), context_offset=None, meta={}) \n",
            "\n",
            "ExtractedAnswer(query='Who is the author of unaccustomed earth?', score=0.29795342683792114, data='Foreign Language Study;\\nNumber of pages: 469;\\nPublished by: Litres', document=Document(id=e7589d9912517481ba7ca4862f0c2cedfa4c8a9fc11b30265e1d8c95fa8b4cdf, content: 'Title: And Then There Were None / И никого не стало. Книга для чтения на английском языке;\n",
            "Writer/Au...', meta: {'title': 'And Then There Were None / И никого не стало. Книга для чтения на английском языке', 'authors': 'Агата Кристи', 'publisher': 'Litres', 'publishedDate': '2018-10-09', 'industryIdentifiers': \"{'type': 'ISBN_13', 'identifier': '9785041375676'}, {'type': 'ISBN_10', 'identifier': '5041375674'}\", 'readingModes': {'text': True, 'image': True}, 'pageCount': 469, 'printType': 'BOOK', 'categories': 'Foreign Language Study', 'maturityRating': 'NOT_MATURE', 'allowAnonLogging': True, 'contentVersion': '1.6.6.0.preview.3', 'panelizationSummary': {'containsEpubBubbles': False, 'containsImageBubbles': False}, 'imageLinks': {'smallThumbnail': 'http://books.google.com/books/content?id=qS9yDwAAQBAJ&printsec=frontcover&img=1&zoom=5&edge=curl&source=gbs_api', 'thumbnail': 'http://books.google.com/books/content?id=qS9yDwAAQBAJ&printsec=frontcover&img=1&zoom=1&edge=curl&source=gbs_api'}, 'language': 'en', 'previewLink': 'http://books.google.it/books?id=qS9yDwAAQBAJ&printsec=frontcover&dq=intitle:None&hl=&cd=1&source=gbs_api', 'infoLink': 'http://books.google.it/books?id=qS9yDwAAQBAJ&dq=intitle:None&hl=&source=gbs_api', 'canonicalVolumeLink': 'https://books.google.com/books/about/And_Then_There_Were_None_%D0%98_%D0%BD%D0%B8%D0%BA%D0%BE%D0%B3%D0%BE.html?hl=&id=qS9yDwAAQBAJ', 'subtitle': 'Not available', 'averageRating': 'Not available', 'ratingsCount': 'Not available', 'seriesInfo': 'Not available'}, score: 0.18559410759175998), context=None, document_offset=ExtractedAnswer.Span(start=498, end=564), context_offset=None, meta={}) \n",
            "\n",
            "ExtractedAnswer(query='Who is the author of unaccustomed earth?', score=0.2671920657157898, data='2018-10-09', document=Document(id=e7589d9912517481ba7ca4862f0c2cedfa4c8a9fc11b30265e1d8c95fa8b4cdf, content: 'Title: And Then There Were None / И никого не стало. Книга для чтения на английском языке;\n",
            "Writer/Au...', meta: {'title': 'And Then There Were None / И никого не стало. Книга для чтения на английском языке', 'authors': 'Агата Кристи', 'publisher': 'Litres', 'publishedDate': '2018-10-09', 'industryIdentifiers': \"{'type': 'ISBN_13', 'identifier': '9785041375676'}, {'type': 'ISBN_10', 'identifier': '5041375674'}\", 'readingModes': {'text': True, 'image': True}, 'pageCount': 469, 'printType': 'BOOK', 'categories': 'Foreign Language Study', 'maturityRating': 'NOT_MATURE', 'allowAnonLogging': True, 'contentVersion': '1.6.6.0.preview.3', 'panelizationSummary': {'containsEpubBubbles': False, 'containsImageBubbles': False}, 'imageLinks': {'smallThumbnail': 'http://books.google.com/books/content?id=qS9yDwAAQBAJ&printsec=frontcover&img=1&zoom=5&edge=curl&source=gbs_api', 'thumbnail': 'http://books.google.com/books/content?id=qS9yDwAAQBAJ&printsec=frontcover&img=1&zoom=1&edge=curl&source=gbs_api'}, 'language': 'en', 'previewLink': 'http://books.google.it/books?id=qS9yDwAAQBAJ&printsec=frontcover&dq=intitle:None&hl=&cd=1&source=gbs_api', 'infoLink': 'http://books.google.it/books?id=qS9yDwAAQBAJ&dq=intitle:None&hl=&source=gbs_api', 'canonicalVolumeLink': 'https://books.google.com/books/about/And_Then_There_Were_None_%D0%98_%D0%BD%D0%B8%D0%BA%D0%BE%D0%B3%D0%BE.html?hl=&id=qS9yDwAAQBAJ', 'subtitle': 'Not available', 'averageRating': 'Not available', 'ratingsCount': 'Not available', 'seriesInfo': 'Not available'}, score: 0.18559410759175998), context=None, document_offset=ExtractedAnswer.Span(start=578, end=588), context_offset=None, meta={}) \n",
            "\n",
            "['martian', None, None, 'kevin', None, 'eragon', None, '5']\n",
            "book title is 5\n"
          ]
        },
        {
          "data": {
            "application/vnd.jupyter.widget-view+json": {
              "model_id": "0750c281498e4ab9bc630eaa415cf539",
              "version_major": 2,
              "version_minor": 0
            },
            "text/plain": [
              "Batches:   0%|          | 0/1 [00:00<?, ?it/s]"
            ]
          },
          "metadata": {},
          "output_type": "display_data"
        },
        {
          "data": {
            "application/vnd.jupyter.widget-view+json": {
              "model_id": "8fb16a4c92094976a50e4140dbe99c06",
              "version_major": 2,
              "version_minor": 0
            },
            "text/plain": [
              "Batches:   0%|          | 0/1 [00:00<?, ?it/s]"
            ]
          },
          "metadata": {},
          "output_type": "display_data"
        },
        {
          "name": "stdout",
          "output_type": "stream",
          "text": [
            "ExtractedAnswer(query='Who is the author of a dance with dragons (a song of ice and fire, #5)?', score=0.6295976638793945, data='Kurt Vonnegut', document=Document(id=98c92c1bcc606939cebfb213e46b9f100fbddb6ec7ffddaefdce568feeb4e6e8, content: 'Title: Mattatoio n. 5;\n",
            "Writer/Author: Kurt Vonnegut;\n",
            "Topic: Sorry, I am unable to answer your query ...', meta: {'title': 'Mattatoio n. 5', 'authors': 'Kurt Vonnegut', 'publisher': 'Feltrinelli Editore', 'publishedDate': '2003', 'industryIdentifiers': \"{'type': 'ISBN_10', 'identifier': '8807016370'}, {'type': 'ISBN_13', 'identifier': '9788807016370'}\", 'readingModes': {'text': False, 'image': True}, 'pageCount': 208, 'printType': 'BOOK', 'categories': 'Fiction', 'averageRating': 5, 'ratingsCount': 4, 'maturityRating': 'NOT_MATURE', 'allowAnonLogging': False, 'contentVersion': '1.4.5.0.preview.1', 'panelizationSummary': {'containsEpubBubbles': False, 'containsImageBubbles': False}, 'imageLinks': {'smallThumbnail': 'http://books.google.com/books/content?id=gRwULyui60QC&printsec=frontcover&img=1&zoom=5&edge=curl&source=gbs_api', 'thumbnail': 'http://books.google.com/books/content?id=gRwULyui60QC&printsec=frontcover&img=1&zoom=1&edge=curl&source=gbs_api'}, 'language': 'it', 'previewLink': 'http://books.google.it/books?id=gRwULyui60QC&printsec=frontcover&dq=intitle:5&hl=&cd=1&source=gbs_api', 'infoLink': 'http://books.google.it/books?id=gRwULyui60QC&dq=intitle:5&hl=&source=gbs_api', 'canonicalVolumeLink': 'https://books.google.com/books/about/Mattatoio_n_5.html?hl=&id=gRwULyui60QC', 'subtitle': 'Not available', 'seriesInfo': 'Not available'}, score: 0.29164461415898535), context=None, document_offset=ExtractedAnswer.Span(start=38, end=51), context_offset=None, meta={}) \n",
            "\n",
            "ExtractedAnswer(query='Who is the author of a dance with dragons (a song of ice and fire, #5)?', score=0.37040233612060547, data=None, document=None, context=None, document_offset=None, context_offset=None, meta={}) \n",
            "\n",
            "['martian', None, None, 'kevin', None, 'eragon', None, '5', '1']\n",
            "book title is 1\n"
          ]
        },
        {
          "data": {
            "application/vnd.jupyter.widget-view+json": {
              "model_id": "2239315a233b4a558b95ddb2629b06ae",
              "version_major": 2,
              "version_minor": 0
            },
            "text/plain": [
              "Batches:   0%|          | 0/1 [00:00<?, ?it/s]"
            ]
          },
          "metadata": {},
          "output_type": "display_data"
        },
        {
          "data": {
            "application/vnd.jupyter.widget-view+json": {
              "model_id": "6db8c431238b46e792c14e82541f455e",
              "version_major": 2,
              "version_minor": 0
            },
            "text/plain": [
              "Batches:   0%|          | 0/1 [00:00<?, ?it/s]"
            ]
          },
          "metadata": {},
          "output_type": "display_data"
        },
        {
          "name": "stdout",
          "output_type": "stream",
          "text": [
            "ExtractedAnswer(query='Who is the author of the outlands  (the outlands saga #1)?', score=0.7441965937614441, data='Giacomo Leopardi', document=Document(id=48eb59a7ddf02190e2da31a36a83e22189b0595bc280eb603ae9f4ea74c47f36, content: 'Title: Opere Di Giacomo Leopardi, Vol. 1 (Classic Reprint);\n",
            "Writer/Author: Giacomo Leopardi;\n",
            "Topic: ...', meta: {'title': 'Opere Di Giacomo Leopardi, Vol. 1 (Classic Reprint)', 'authors': 'Giacomo Leopardi', 'publisher': 'Forgotten Books', 'publishedDate': '2017-10-16', 'industryIdentifiers': \"{'type': 'ISBN_10', 'identifier': '0265393299'}, {'type': 'ISBN_13', 'identifier': '9780265393291'}\", 'readingModes': {'text': False, 'image': False}, 'pageCount': 366, 'printType': 'BOOK', 'categories': 'Poetry', 'maturityRating': 'NOT_MATURE', 'allowAnonLogging': False, 'contentVersion': 'preview-1.0.0', 'panelizationSummary': {'containsEpubBubbles': False, 'containsImageBubbles': False}, 'imageLinks': {'smallThumbnail': 'http://books.google.com/books/content?id=vcA9swEACAAJ&printsec=frontcover&img=1&zoom=5&source=gbs_api', 'thumbnail': 'http://books.google.com/books/content?id=vcA9swEACAAJ&printsec=frontcover&img=1&zoom=1&source=gbs_api'}, 'language': 'it', 'previewLink': 'http://books.google.it/books?id=vcA9swEACAAJ&dq=intitle:1&hl=&cd=1&source=gbs_api', 'infoLink': 'http://books.google.it/books?id=vcA9swEACAAJ&dq=intitle:1&hl=&source=gbs_api', 'canonicalVolumeLink': 'https://books.google.com/books/about/Opere_Di_Giacomo_Leopardi_Vol_1_Classic.html?hl=&id=vcA9swEACAAJ', 'subtitle': 'Not available', 'averageRating': 'Not available', 'ratingsCount': 'Not available', 'seriesInfo': 'Not available'}, score: 0.008080811632334779), context=None, document_offset=ExtractedAnswer.Span(start=75, end=91), context_offset=None, meta={}) \n",
            "\n",
            "ExtractedAnswer(query='Who is the author of the outlands  (the outlands saga #1)?', score=0.6145846843719482, data='Opere Di Giacomo Leopardi', document=Document(id=48eb59a7ddf02190e2da31a36a83e22189b0595bc280eb603ae9f4ea74c47f36, content: 'Title: Opere Di Giacomo Leopardi, Vol. 1 (Classic Reprint);\n",
            "Writer/Author: Giacomo Leopardi;\n",
            "Topic: ...', meta: {'title': 'Opere Di Giacomo Leopardi, Vol. 1 (Classic Reprint)', 'authors': 'Giacomo Leopardi', 'publisher': 'Forgotten Books', 'publishedDate': '2017-10-16', 'industryIdentifiers': \"{'type': 'ISBN_10', 'identifier': '0265393299'}, {'type': 'ISBN_13', 'identifier': '9780265393291'}\", 'readingModes': {'text': False, 'image': False}, 'pageCount': 366, 'printType': 'BOOK', 'categories': 'Poetry', 'maturityRating': 'NOT_MATURE', 'allowAnonLogging': False, 'contentVersion': 'preview-1.0.0', 'panelizationSummary': {'containsEpubBubbles': False, 'containsImageBubbles': False}, 'imageLinks': {'smallThumbnail': 'http://books.google.com/books/content?id=vcA9swEACAAJ&printsec=frontcover&img=1&zoom=5&source=gbs_api', 'thumbnail': 'http://books.google.com/books/content?id=vcA9swEACAAJ&printsec=frontcover&img=1&zoom=1&source=gbs_api'}, 'language': 'it', 'previewLink': 'http://books.google.it/books?id=vcA9swEACAAJ&dq=intitle:1&hl=&cd=1&source=gbs_api', 'infoLink': 'http://books.google.it/books?id=vcA9swEACAAJ&dq=intitle:1&hl=&source=gbs_api', 'canonicalVolumeLink': 'https://books.google.com/books/about/Opere_Di_Giacomo_Leopardi_Vol_1_Classic.html?hl=&id=vcA9swEACAAJ', 'subtitle': 'Not available', 'averageRating': 'Not available', 'ratingsCount': 'Not available', 'seriesInfo': 'Not available'}, score: 0.008080811632334779), context=None, document_offset=ExtractedAnswer.Span(start=7, end=32), context_offset=None, meta={}) \n",
            "\n",
            "ExtractedAnswer(query='Who is the author of the outlands  (the outlands saga #1)?', score=0.4535922408103943, data='Paolo Lasinio', document=Document(id=48eb59a7ddf02190e2da31a36a83e22189b0595bc280eb603ae9f4ea74c47f36, content: 'Title: Opere Di Giacomo Leopardi, Vol. 1 (Classic Reprint);\n",
            "Writer/Author: Giacomo Leopardi;\n",
            "Topic: ...', meta: {'title': 'Opere Di Giacomo Leopardi, Vol. 1 (Classic Reprint)', 'authors': 'Giacomo Leopardi', 'publisher': 'Forgotten Books', 'publishedDate': '2017-10-16', 'industryIdentifiers': \"{'type': 'ISBN_10', 'identifier': '0265393299'}, {'type': 'ISBN_13', 'identifier': '9780265393291'}\", 'readingModes': {'text': False, 'image': False}, 'pageCount': 366, 'printType': 'BOOK', 'categories': 'Poetry', 'maturityRating': 'NOT_MATURE', 'allowAnonLogging': False, 'contentVersion': 'preview-1.0.0', 'panelizationSummary': {'containsEpubBubbles': False, 'containsImageBubbles': False}, 'imageLinks': {'smallThumbnail': 'http://books.google.com/books/content?id=vcA9swEACAAJ&printsec=frontcover&img=1&zoom=5&source=gbs_api', 'thumbnail': 'http://books.google.com/books/content?id=vcA9swEACAAJ&printsec=frontcover&img=1&zoom=1&source=gbs_api'}, 'language': 'it', 'previewLink': 'http://books.google.it/books?id=vcA9swEACAAJ&dq=intitle:1&hl=&cd=1&source=gbs_api', 'infoLink': 'http://books.google.it/books?id=vcA9swEACAAJ&dq=intitle:1&hl=&source=gbs_api', 'canonicalVolumeLink': 'https://books.google.com/books/about/Opere_Di_Giacomo_Leopardi_Vol_1_Classic.html?hl=&id=vcA9swEACAAJ', 'subtitle': 'Not available', 'averageRating': 'Not available', 'ratingsCount': 'Not available', 'seriesInfo': 'Not available'}, score: 0.008080811632334779), context=None, document_offset=ExtractedAnswer.Span(start=906, end=919), context_offset=None, meta={}) \n",
            "\n",
            "ExtractedAnswer(query='Who is the author of the outlands  (the outlands saga #1)?', score=0.05387064180557016, data=None, document=None, context=None, document_offset=None, context_offset=None, meta={}) \n",
            "\n",
            "['martian', None, None, 'kevin', None, 'eragon', None, '5', '1', '1']\n",
            "book title is 1\n"
          ]
        },
        {
          "data": {
            "application/vnd.jupyter.widget-view+json": {
              "model_id": "64c183ee66094915aae54681beea9e29",
              "version_major": 2,
              "version_minor": 0
            },
            "text/plain": [
              "Batches:   0%|          | 0/1 [00:00<?, ?it/s]"
            ]
          },
          "metadata": {},
          "output_type": "display_data"
        },
        {
          "data": {
            "application/vnd.jupyter.widget-view+json": {
              "model_id": "17096dc31b7a4b2cabe68372f015722a",
              "version_major": 2,
              "version_minor": 0
            },
            "text/plain": [
              "Batches:   0%|          | 0/1 [00:00<?, ?it/s]"
            ]
          },
          "metadata": {},
          "output_type": "display_data"
        },
        {
          "name": "stdout",
          "output_type": "stream",
          "text": [
            "ExtractedAnswer(query='Who is the author of clockwork angel (the infernal devices, #1)?', score=0.618685245513916, data='Giacomo Leopardi', document=Document(id=48eb59a7ddf02190e2da31a36a83e22189b0595bc280eb603ae9f4ea74c47f36, content: 'Title: Opere Di Giacomo Leopardi, Vol. 1 (Classic Reprint);\n",
            "Writer/Author: Giacomo Leopardi;\n",
            "Topic: ...', meta: {'title': 'Opere Di Giacomo Leopardi, Vol. 1 (Classic Reprint)', 'authors': 'Giacomo Leopardi', 'publisher': 'Forgotten Books', 'publishedDate': '2017-10-16', 'industryIdentifiers': \"{'type': 'ISBN_10', 'identifier': '0265393299'}, {'type': 'ISBN_13', 'identifier': '9780265393291'}\", 'readingModes': {'text': False, 'image': False}, 'pageCount': 366, 'printType': 'BOOK', 'categories': 'Poetry', 'maturityRating': 'NOT_MATURE', 'allowAnonLogging': False, 'contentVersion': 'preview-1.0.0', 'panelizationSummary': {'containsEpubBubbles': False, 'containsImageBubbles': False}, 'imageLinks': {'smallThumbnail': 'http://books.google.com/books/content?id=vcA9swEACAAJ&printsec=frontcover&img=1&zoom=5&source=gbs_api', 'thumbnail': 'http://books.google.com/books/content?id=vcA9swEACAAJ&printsec=frontcover&img=1&zoom=1&source=gbs_api'}, 'language': 'it', 'previewLink': 'http://books.google.it/books?id=vcA9swEACAAJ&dq=intitle:1&hl=&cd=1&source=gbs_api', 'infoLink': 'http://books.google.it/books?id=vcA9swEACAAJ&dq=intitle:1&hl=&source=gbs_api', 'canonicalVolumeLink': 'https://books.google.com/books/about/Opere_Di_Giacomo_Leopardi_Vol_1_Classic.html?hl=&id=vcA9swEACAAJ', 'subtitle': 'Not available', 'averageRating': 'Not available', 'ratingsCount': 'Not available', 'seriesInfo': 'Not available'}, score: 0.10962961266309076), context=None, document_offset=ExtractedAnswer.Span(start=75, end=91), context_offset=None, meta={}) \n",
            "\n",
            "ExtractedAnswer(query='Who is the author of clockwork angel (the infernal devices, #1)?', score=0.5112709403038025, data='Opere Di Giacomo Leopardi', document=Document(id=48eb59a7ddf02190e2da31a36a83e22189b0595bc280eb603ae9f4ea74c47f36, content: 'Title: Opere Di Giacomo Leopardi, Vol. 1 (Classic Reprint);\n",
            "Writer/Author: Giacomo Leopardi;\n",
            "Topic: ...', meta: {'title': 'Opere Di Giacomo Leopardi, Vol. 1 (Classic Reprint)', 'authors': 'Giacomo Leopardi', 'publisher': 'Forgotten Books', 'publishedDate': '2017-10-16', 'industryIdentifiers': \"{'type': 'ISBN_10', 'identifier': '0265393299'}, {'type': 'ISBN_13', 'identifier': '9780265393291'}\", 'readingModes': {'text': False, 'image': False}, 'pageCount': 366, 'printType': 'BOOK', 'categories': 'Poetry', 'maturityRating': 'NOT_MATURE', 'allowAnonLogging': False, 'contentVersion': 'preview-1.0.0', 'panelizationSummary': {'containsEpubBubbles': False, 'containsImageBubbles': False}, 'imageLinks': {'smallThumbnail': 'http://books.google.com/books/content?id=vcA9swEACAAJ&printsec=frontcover&img=1&zoom=5&source=gbs_api', 'thumbnail': 'http://books.google.com/books/content?id=vcA9swEACAAJ&printsec=frontcover&img=1&zoom=1&source=gbs_api'}, 'language': 'it', 'previewLink': 'http://books.google.it/books?id=vcA9swEACAAJ&dq=intitle:1&hl=&cd=1&source=gbs_api', 'infoLink': 'http://books.google.it/books?id=vcA9swEACAAJ&dq=intitle:1&hl=&source=gbs_api', 'canonicalVolumeLink': 'https://books.google.com/books/about/Opere_Di_Giacomo_Leopardi_Vol_1_Classic.html?hl=&id=vcA9swEACAAJ', 'subtitle': 'Not available', 'averageRating': 'Not available', 'ratingsCount': 'Not available', 'seriesInfo': 'Not available'}, score: 0.10962961266309076), context=None, document_offset=ExtractedAnswer.Span(start=7, end=32), context_offset=None, meta={}) \n",
            "\n",
            "ExtractedAnswer(query='Who is the author of clockwork angel (the infernal devices, #1)?', score=0.3988211154937744, data='Paolo Lasinio', document=Document(id=48eb59a7ddf02190e2da31a36a83e22189b0595bc280eb603ae9f4ea74c47f36, content: 'Title: Opere Di Giacomo Leopardi, Vol. 1 (Classic Reprint);\n",
            "Writer/Author: Giacomo Leopardi;\n",
            "Topic: ...', meta: {'title': 'Opere Di Giacomo Leopardi, Vol. 1 (Classic Reprint)', 'authors': 'Giacomo Leopardi', 'publisher': 'Forgotten Books', 'publishedDate': '2017-10-16', 'industryIdentifiers': \"{'type': 'ISBN_10', 'identifier': '0265393299'}, {'type': 'ISBN_13', 'identifier': '9780265393291'}\", 'readingModes': {'text': False, 'image': False}, 'pageCount': 366, 'printType': 'BOOK', 'categories': 'Poetry', 'maturityRating': 'NOT_MATURE', 'allowAnonLogging': False, 'contentVersion': 'preview-1.0.0', 'panelizationSummary': {'containsEpubBubbles': False, 'containsImageBubbles': False}, 'imageLinks': {'smallThumbnail': 'http://books.google.com/books/content?id=vcA9swEACAAJ&printsec=frontcover&img=1&zoom=5&source=gbs_api', 'thumbnail': 'http://books.google.com/books/content?id=vcA9swEACAAJ&printsec=frontcover&img=1&zoom=1&source=gbs_api'}, 'language': 'it', 'previewLink': 'http://books.google.it/books?id=vcA9swEACAAJ&dq=intitle:1&hl=&cd=1&source=gbs_api', 'infoLink': 'http://books.google.it/books?id=vcA9swEACAAJ&dq=intitle:1&hl=&source=gbs_api', 'canonicalVolumeLink': 'https://books.google.com/books/about/Opere_Di_Giacomo_Leopardi_Vol_1_Classic.html?hl=&id=vcA9swEACAAJ', 'subtitle': 'Not available', 'averageRating': 'Not available', 'ratingsCount': 'Not available', 'seriesInfo': 'Not available'}, score: 0.10962961266309076), context=None, document_offset=ExtractedAnswer.Span(start=906, end=919), context_offset=None, meta={}) \n",
            "\n",
            "ExtractedAnswer(query='Who is the author of clockwork angel (the infernal devices, #1)?', score=0.11203545729164872, data=None, document=None, context=None, document_offset=None, context_offset=None, meta={}) \n",
            "\n",
            "['martian', None, None, 'kevin', None, 'eragon', None, '5', '1', '1', '2']\n",
            "book title is 2\n"
          ]
        },
        {
          "data": {
            "application/vnd.jupyter.widget-view+json": {
              "model_id": "4c84e959b7314c198dea56795dc09e46",
              "version_major": 2,
              "version_minor": 0
            },
            "text/plain": [
              "Batches:   0%|          | 0/1 [00:00<?, ?it/s]"
            ]
          },
          "metadata": {},
          "output_type": "display_data"
        },
        {
          "data": {
            "application/vnd.jupyter.widget-view+json": {
              "model_id": "2553312449ba4deaad4497ec31f951da",
              "version_major": 2,
              "version_minor": 0
            },
            "text/plain": [
              "Batches:   0%|          | 0/1 [00:00<?, ?it/s]"
            ]
          },
          "metadata": {},
          "output_type": "display_data"
        },
        {
          "name": "stdout",
          "output_type": "stream",
          "text": [
            "ExtractedAnswer(query='Who is the author of world without end (kingsbridge, #2)?', score=0.6584550738334656, data='Angelo Pezzana', document=Document(id=01cdab9394850832927c46cc52f8160140eb174ce94b3c6b714e0705fa7c6b14, content: 'Title: Storia della citta di Parma continuata;\n",
            "Writer/Author: Angelo Pezzana;\n",
            "Topic: Sorry, I am una...', meta: {'title': 'Storia della citta di Parma continuata', 'subtitle': '1401 - 1449. 2', 'authors': 'Angelo Pezzana', 'publishedDate': '1842', 'industryIdentifiers': \"{'type': 'OTHER', 'identifier': 'ONB:+Z168004004'}\", 'readingModes': {'text': False, 'image': True}, 'pageCount': 882, 'printType': 'BOOK', 'maturityRating': 'NOT_MATURE', 'allowAnonLogging': False, 'contentVersion': '0.6.5.0.full.1', 'panelizationSummary': {'containsEpubBubbles': False, 'containsImageBubbles': False}, 'imageLinks': {'smallThumbnail': 'http://books.google.com/books/content?id=pc9TAAAAcAAJ&printsec=frontcover&img=1&zoom=5&edge=curl&source=gbs_api', 'thumbnail': 'http://books.google.com/books/content?id=pc9TAAAAcAAJ&printsec=frontcover&img=1&zoom=1&edge=curl&source=gbs_api'}, 'language': 'it', 'previewLink': 'http://books.google.it/books?id=pc9TAAAAcAAJ&printsec=frontcover&dq=intitle:2&hl=&cd=1&source=gbs_api', 'infoLink': 'https://play.google.com/store/books/details?id=pc9TAAAAcAAJ&source=gbs_api', 'canonicalVolumeLink': 'https://play.google.com/store/books/details?id=pc9TAAAAcAAJ', 'publisher': 'Not available', 'categories': 'Not available', 'averageRating': 'Not available', 'ratingsCount': 'Not available', 'seriesInfo': 'Not available'}, score: 0.24330950534389545), context=None, document_offset=ExtractedAnswer.Span(start=62, end=76), context_offset=None, meta={}) \n",
            "\n",
            "ExtractedAnswer(query='Who is the author of world without end (kingsbridge, #2)?', score=0.3415449261665344, data=None, document=None, context=None, document_offset=None, context_offset=None, meta={}) \n",
            "\n",
            "['martian', None, None, 'kevin', None, 'eragon', None, '5', '1', '1', '2', None]\n",
            "book title is None\n"
          ]
        },
        {
          "data": {
            "application/vnd.jupyter.widget-view+json": {
              "model_id": "6b5698be97084263803396c4727641d7",
              "version_major": 2,
              "version_minor": 0
            },
            "text/plain": [
              "Batches:   0%|          | 0/1 [00:00<?, ?it/s]"
            ]
          },
          "metadata": {},
          "output_type": "display_data"
        },
        {
          "data": {
            "application/vnd.jupyter.widget-view+json": {
              "model_id": "2b8c35b1c76549598779b7726a90ed7c",
              "version_major": 2,
              "version_minor": 0
            },
            "text/plain": [
              "Batches:   0%|          | 0/1 [00:00<?, ?it/s]"
            ]
          },
          "metadata": {},
          "output_type": "display_data"
        },
        {
          "name": "stdout",
          "output_type": "stream",
          "text": [
            "ExtractedAnswer(query='Who is the author of animal, vegetable, miracle: a year of food life?', score=0.4303204417228699, data='Агата Кристи', document=Document(id=e7589d9912517481ba7ca4862f0c2cedfa4c8a9fc11b30265e1d8c95fa8b4cdf, content: 'Title: And Then There Were None / И никого не стало. Книга для чтения на английском языке;\n",
            "Writer/Au...', meta: {'title': 'And Then There Were None / И никого не стало. Книга для чтения на английском языке', 'authors': 'Агата Кристи', 'publisher': 'Litres', 'publishedDate': '2018-10-09', 'industryIdentifiers': \"{'type': 'ISBN_13', 'identifier': '9785041375676'}, {'type': 'ISBN_10', 'identifier': '5041375674'}\", 'readingModes': {'text': True, 'image': True}, 'pageCount': 469, 'printType': 'BOOK', 'categories': 'Foreign Language Study', 'maturityRating': 'NOT_MATURE', 'allowAnonLogging': True, 'contentVersion': '1.6.6.0.preview.3', 'panelizationSummary': {'containsEpubBubbles': False, 'containsImageBubbles': False}, 'imageLinks': {'smallThumbnail': 'http://books.google.com/books/content?id=qS9yDwAAQBAJ&printsec=frontcover&img=1&zoom=5&edge=curl&source=gbs_api', 'thumbnail': 'http://books.google.com/books/content?id=qS9yDwAAQBAJ&printsec=frontcover&img=1&zoom=1&edge=curl&source=gbs_api'}, 'language': 'en', 'previewLink': 'http://books.google.it/books?id=qS9yDwAAQBAJ&printsec=frontcover&dq=intitle:None&hl=&cd=1&source=gbs_api', 'infoLink': 'http://books.google.it/books?id=qS9yDwAAQBAJ&dq=intitle:None&hl=&source=gbs_api', 'canonicalVolumeLink': 'https://books.google.com/books/about/And_Then_There_Were_None_%D0%98_%D0%BD%D0%B8%D0%BA%D0%BE%D0%B3%D0%BE.html?hl=&id=qS9yDwAAQBAJ', 'subtitle': 'Not available', 'averageRating': 'Not available', 'ratingsCount': 'Not available', 'seriesInfo': 'Not available'}, score: 0.08807954193656017), context=None, document_offset=ExtractedAnswer.Span(start=106, end=118), context_offset=None, meta={}) \n",
            "\n",
            "ExtractedAnswer(query='Who is the author of animal, vegetable, miracle: a year of food life?', score=0.3615889549255371, data='2018-10-09', document=Document(id=e7589d9912517481ba7ca4862f0c2cedfa4c8a9fc11b30265e1d8c95fa8b4cdf, content: 'Title: And Then There Were None / И никого не стало. Книга для чтения на английском языке;\n",
            "Writer/Au...', meta: {'title': 'And Then There Were None / И никого не стало. Книга для чтения на английском языке', 'authors': 'Агата Кристи', 'publisher': 'Litres', 'publishedDate': '2018-10-09', 'industryIdentifiers': \"{'type': 'ISBN_13', 'identifier': '9785041375676'}, {'type': 'ISBN_10', 'identifier': '5041375674'}\", 'readingModes': {'text': True, 'image': True}, 'pageCount': 469, 'printType': 'BOOK', 'categories': 'Foreign Language Study', 'maturityRating': 'NOT_MATURE', 'allowAnonLogging': True, 'contentVersion': '1.6.6.0.preview.3', 'panelizationSummary': {'containsEpubBubbles': False, 'containsImageBubbles': False}, 'imageLinks': {'smallThumbnail': 'http://books.google.com/books/content?id=qS9yDwAAQBAJ&printsec=frontcover&img=1&zoom=5&edge=curl&source=gbs_api', 'thumbnail': 'http://books.google.com/books/content?id=qS9yDwAAQBAJ&printsec=frontcover&img=1&zoom=1&edge=curl&source=gbs_api'}, 'language': 'en', 'previewLink': 'http://books.google.it/books?id=qS9yDwAAQBAJ&printsec=frontcover&dq=intitle:None&hl=&cd=1&source=gbs_api', 'infoLink': 'http://books.google.it/books?id=qS9yDwAAQBAJ&dq=intitle:None&hl=&source=gbs_api', 'canonicalVolumeLink': 'https://books.google.com/books/about/And_Then_There_Were_None_%D0%98_%D0%BD%D0%B8%D0%BA%D0%BE%D0%B3%D0%BE.html?hl=&id=qS9yDwAAQBAJ', 'subtitle': 'Not available', 'averageRating': 'Not available', 'ratingsCount': 'Not available', 'seriesInfo': 'Not available'}, score: 0.08807954193656017), context=None, document_offset=ExtractedAnswer.Span(start=578, end=588), context_offset=None, meta={}) \n",
            "\n",
            "ExtractedAnswer(query='Who is the author of animal, vegetable, miracle: a year of food life?', score=0.34469473361968994, data='Litres', document=Document(id=e7589d9912517481ba7ca4862f0c2cedfa4c8a9fc11b30265e1d8c95fa8b4cdf, content: 'Title: And Then There Were None / И никого не стало. Книга для чтения на английском языке;\n",
            "Writer/Au...', meta: {'title': 'And Then There Were None / И никого не стало. Книга для чтения на английском языке', 'authors': 'Агата Кристи', 'publisher': 'Litres', 'publishedDate': '2018-10-09', 'industryIdentifiers': \"{'type': 'ISBN_13', 'identifier': '9785041375676'}, {'type': 'ISBN_10', 'identifier': '5041375674'}\", 'readingModes': {'text': True, 'image': True}, 'pageCount': 469, 'printType': 'BOOK', 'categories': 'Foreign Language Study', 'maturityRating': 'NOT_MATURE', 'allowAnonLogging': True, 'contentVersion': '1.6.6.0.preview.3', 'panelizationSummary': {'containsEpubBubbles': False, 'containsImageBubbles': False}, 'imageLinks': {'smallThumbnail': 'http://books.google.com/books/content?id=qS9yDwAAQBAJ&printsec=frontcover&img=1&zoom=5&edge=curl&source=gbs_api', 'thumbnail': 'http://books.google.com/books/content?id=qS9yDwAAQBAJ&printsec=frontcover&img=1&zoom=1&edge=curl&source=gbs_api'}, 'language': 'en', 'previewLink': 'http://books.google.it/books?id=qS9yDwAAQBAJ&printsec=frontcover&dq=intitle:None&hl=&cd=1&source=gbs_api', 'infoLink': 'http://books.google.it/books?id=qS9yDwAAQBAJ&dq=intitle:None&hl=&source=gbs_api', 'canonicalVolumeLink': 'https://books.google.com/books/about/And_Then_There_Were_None_%D0%98_%D0%BD%D0%B8%D0%BA%D0%BE%D0%B3%D0%BE.html?hl=&id=qS9yDwAAQBAJ', 'subtitle': 'Not available', 'averageRating': 'Not available', 'ratingsCount': 'Not available', 'seriesInfo': 'Not available'}, score: 0.08807954193656017), context=None, document_offset=ExtractedAnswer.Span(start=558, end=564), context_offset=None, meta={}) \n",
            "\n",
            "ExtractedAnswer(query='Who is the author of animal, vegetable, miracle: a year of food life?', score=0.2383277902580449, data=None, document=None, context=None, document_offset=None, context_offset=None, meta={}) \n",
            "\n",
            "['martian', None, None, 'kevin', None, 'eragon', None, '5', '1', '1', '2', None, 'five']\n",
            "book title is five\n"
          ]
        },
        {
          "data": {
            "application/vnd.jupyter.widget-view+json": {
              "model_id": "1a00eec5da9c4a3e906b246dd22d2e7c",
              "version_major": 2,
              "version_minor": 0
            },
            "text/plain": [
              "Batches:   0%|          | 0/1 [00:00<?, ?it/s]"
            ]
          },
          "metadata": {},
          "output_type": "display_data"
        },
        {
          "data": {
            "application/vnd.jupyter.widget-view+json": {
              "model_id": "0a553ff2fd38446dad7ee48b60b9a393",
              "version_major": 2,
              "version_minor": 0
            },
            "text/plain": [
              "Batches:   0%|          | 0/1 [00:00<?, ?it/s]"
            ]
          },
          "metadata": {},
          "output_type": "display_data"
        },
        {
          "name": "stdout",
          "output_type": "stream",
          "text": [
            "ExtractedAnswer(query='Who is the author of the five people you meet in heaven?', score=0.7001120448112488, data='Alexandre Dumas', document=Document(id=88e06f5aa413c2a282bbe3dc8c22273620f784fe2e99db265da7ed0e6d0df815, content: 'Title: The forty-five guardsmen;\n",
            "Writer/Author: Alexandre Dumas;\n",
            "Topic: Sorry, I am unable to answer...', meta: {'title': 'The forty-five guardsmen', 'authors': 'Alexandre Dumas', 'publishedDate': '1862', 'industryIdentifiers': \"{'type': 'OTHER', 'identifier': 'OXFORD:600069923'}\", 'readingModes': {'text': False, 'image': True}, 'pageCount': 464, 'printType': 'BOOK', 'maturityRating': 'NOT_MATURE', 'allowAnonLogging': False, 'contentVersion': '0.6.8.0.full.1', 'panelizationSummary': {'containsEpubBubbles': False, 'containsImageBubbles': False}, 'imageLinks': {'smallThumbnail': 'http://books.google.com/books/content?id=8sgBAAAAQAAJ&printsec=frontcover&img=1&zoom=5&edge=curl&source=gbs_api', 'thumbnail': 'http://books.google.com/books/content?id=8sgBAAAAQAAJ&printsec=frontcover&img=1&zoom=1&edge=curl&source=gbs_api'}, 'language': 'en', 'previewLink': 'http://books.google.it/books?id=8sgBAAAAQAAJ&printsec=frontcover&dq=intitle:five&hl=&cd=1&source=gbs_api', 'infoLink': 'https://play.google.com/store/books/details?id=8sgBAAAAQAAJ&source=gbs_api', 'canonicalVolumeLink': 'https://play.google.com/store/books/details?id=8sgBAAAAQAAJ', 'subtitle': 'Not available', 'publisher': 'Not available', 'categories': 'Not available', 'averageRating': 'Not available', 'ratingsCount': 'Not available', 'seriesInfo': 'Not available'}, score: 0.322568997179259), context=None, document_offset=ExtractedAnswer.Span(start=48, end=63), context_offset=None, meta={}) \n",
            "\n",
            "ExtractedAnswer(query='Who is the author of the five people you meet in heaven?', score=0.2998879551887512, data=None, document=None, context=None, document_offset=None, context_offset=None, meta={}) \n",
            "\n",
            "['martian', None, None, 'kevin', None, 'eragon', None, '5', '1', '1', '2', None, 'five', None]\n",
            "book title is None\n"
          ]
        },
        {
          "data": {
            "application/vnd.jupyter.widget-view+json": {
              "model_id": "c0488794e8bc490581365a863c429d17",
              "version_major": 2,
              "version_minor": 0
            },
            "text/plain": [
              "Batches:   0%|          | 0/1 [00:00<?, ?it/s]"
            ]
          },
          "metadata": {},
          "output_type": "display_data"
        },
        {
          "data": {
            "application/vnd.jupyter.widget-view+json": {
              "model_id": "fd71afd21f0f48e5a2eb0835661d3226",
              "version_major": 2,
              "version_minor": 0
            },
            "text/plain": [
              "Batches:   0%|          | 0/1 [00:00<?, ?it/s]"
            ]
          },
          "metadata": {},
          "output_type": "display_data"
        },
        {
          "name": "stdout",
          "output_type": "stream",
          "text": [
            "ExtractedAnswer(query='Who is the author of on beauty?', score=0.4292095899581909, data='Агата Кристи', document=Document(id=e7589d9912517481ba7ca4862f0c2cedfa4c8a9fc11b30265e1d8c95fa8b4cdf, content: 'Title: And Then There Were None / И никого не стало. Книга для чтения на английском языке;\n",
            "Writer/Au...', meta: {'title': 'And Then There Were None / И никого не стало. Книга для чтения на английском языке', 'authors': 'Агата Кристи', 'publisher': 'Litres', 'publishedDate': '2018-10-09', 'industryIdentifiers': \"{'type': 'ISBN_13', 'identifier': '9785041375676'}, {'type': 'ISBN_10', 'identifier': '5041375674'}\", 'readingModes': {'text': True, 'image': True}, 'pageCount': 469, 'printType': 'BOOK', 'categories': 'Foreign Language Study', 'maturityRating': 'NOT_MATURE', 'allowAnonLogging': True, 'contentVersion': '1.6.6.0.preview.3', 'panelizationSummary': {'containsEpubBubbles': False, 'containsImageBubbles': False}, 'imageLinks': {'smallThumbnail': 'http://books.google.com/books/content?id=qS9yDwAAQBAJ&printsec=frontcover&img=1&zoom=5&edge=curl&source=gbs_api', 'thumbnail': 'http://books.google.com/books/content?id=qS9yDwAAQBAJ&printsec=frontcover&img=1&zoom=1&edge=curl&source=gbs_api'}, 'language': 'en', 'previewLink': 'http://books.google.it/books?id=qS9yDwAAQBAJ&printsec=frontcover&dq=intitle:None&hl=&cd=1&source=gbs_api', 'infoLink': 'http://books.google.it/books?id=qS9yDwAAQBAJ&dq=intitle:None&hl=&source=gbs_api', 'canonicalVolumeLink': 'https://books.google.com/books/about/And_Then_There_Were_None_%D0%98_%D0%BD%D0%B8%D0%BA%D0%BE%D0%B3%D0%BE.html?hl=&id=qS9yDwAAQBAJ', 'subtitle': 'Not available', 'averageRating': 'Not available', 'ratingsCount': 'Not available', 'seriesInfo': 'Not available'}, score: 0.13340234144366325), context=None, document_offset=ExtractedAnswer.Span(start=106, end=118), context_offset=None, meta={}) \n",
            "\n",
            "ExtractedAnswer(query='Who is the author of on beauty?', score=0.3893722593784332, data='And Then There Were None', document=Document(id=e7589d9912517481ba7ca4862f0c2cedfa4c8a9fc11b30265e1d8c95fa8b4cdf, content: 'Title: And Then There Were None / И никого не стало. Книга для чтения на английском языке;\n",
            "Writer/Au...', meta: {'title': 'And Then There Were None / И никого не стало. Книга для чтения на английском языке', 'authors': 'Агата Кристи', 'publisher': 'Litres', 'publishedDate': '2018-10-09', 'industryIdentifiers': \"{'type': 'ISBN_13', 'identifier': '9785041375676'}, {'type': 'ISBN_10', 'identifier': '5041375674'}\", 'readingModes': {'text': True, 'image': True}, 'pageCount': 469, 'printType': 'BOOK', 'categories': 'Foreign Language Study', 'maturityRating': 'NOT_MATURE', 'allowAnonLogging': True, 'contentVersion': '1.6.6.0.preview.3', 'panelizationSummary': {'containsEpubBubbles': False, 'containsImageBubbles': False}, 'imageLinks': {'smallThumbnail': 'http://books.google.com/books/content?id=qS9yDwAAQBAJ&printsec=frontcover&img=1&zoom=5&edge=curl&source=gbs_api', 'thumbnail': 'http://books.google.com/books/content?id=qS9yDwAAQBAJ&printsec=frontcover&img=1&zoom=1&edge=curl&source=gbs_api'}, 'language': 'en', 'previewLink': 'http://books.google.it/books?id=qS9yDwAAQBAJ&printsec=frontcover&dq=intitle:None&hl=&cd=1&source=gbs_api', 'infoLink': 'http://books.google.it/books?id=qS9yDwAAQBAJ&dq=intitle:None&hl=&source=gbs_api', 'canonicalVolumeLink': 'https://books.google.com/books/about/And_Then_There_Were_None_%D0%98_%D0%BD%D0%B8%D0%BA%D0%BE%D0%B3%D0%BE.html?hl=&id=qS9yDwAAQBAJ', 'subtitle': 'Not available', 'averageRating': 'Not available', 'ratingsCount': 'Not available', 'seriesInfo': 'Not available'}, score: 0.13340234144366325), context=None, document_offset=ExtractedAnswer.Span(start=7, end=31), context_offset=None, meta={}) \n",
            "\n",
            "ExtractedAnswer(query='Who is the author of on beauty?', score=0.37124356627464294, data='Foreign Language Study;\\nNumber of pages: 469;\\nPublished by: Litres', document=Document(id=e7589d9912517481ba7ca4862f0c2cedfa4c8a9fc11b30265e1d8c95fa8b4cdf, content: 'Title: And Then There Were None / И никого не стало. Книга для чтения на английском языке;\n",
            "Writer/Au...', meta: {'title': 'And Then There Were None / И никого не стало. Книга для чтения на английском языке', 'authors': 'Агата Кристи', 'publisher': 'Litres', 'publishedDate': '2018-10-09', 'industryIdentifiers': \"{'type': 'ISBN_13', 'identifier': '9785041375676'}, {'type': 'ISBN_10', 'identifier': '5041375674'}\", 'readingModes': {'text': True, 'image': True}, 'pageCount': 469, 'printType': 'BOOK', 'categories': 'Foreign Language Study', 'maturityRating': 'NOT_MATURE', 'allowAnonLogging': True, 'contentVersion': '1.6.6.0.preview.3', 'panelizationSummary': {'containsEpubBubbles': False, 'containsImageBubbles': False}, 'imageLinks': {'smallThumbnail': 'http://books.google.com/books/content?id=qS9yDwAAQBAJ&printsec=frontcover&img=1&zoom=5&edge=curl&source=gbs_api', 'thumbnail': 'http://books.google.com/books/content?id=qS9yDwAAQBAJ&printsec=frontcover&img=1&zoom=1&edge=curl&source=gbs_api'}, 'language': 'en', 'previewLink': 'http://books.google.it/books?id=qS9yDwAAQBAJ&printsec=frontcover&dq=intitle:None&hl=&cd=1&source=gbs_api', 'infoLink': 'http://books.google.it/books?id=qS9yDwAAQBAJ&dq=intitle:None&hl=&source=gbs_api', 'canonicalVolumeLink': 'https://books.google.com/books/about/And_Then_There_Were_None_%D0%98_%D0%BD%D0%B8%D0%BA%D0%BE%D0%B3%D0%BE.html?hl=&id=qS9yDwAAQBAJ', 'subtitle': 'Not available', 'averageRating': 'Not available', 'ratingsCount': 'Not available', 'seriesInfo': 'Not available'}, score: 0.13340234144366325), context=None, document_offset=ExtractedAnswer.Span(start=498, end=564), context_offset=None, meta={}) \n",
            "\n",
            "ExtractedAnswer(query='Who is the author of on beauty?', score=0.2191470556654613, data=None, document=None, context=None, document_offset=None, context_offset=None, meta={}) \n",
            "\n",
            "['martian', None, None, 'kevin', None, 'eragon', None, '5', '1', '1', '2', None, 'five', None, None]\n",
            "book title is None\n"
          ]
        },
        {
          "data": {
            "application/vnd.jupyter.widget-view+json": {
              "model_id": "b6babdde8c534d909fc438e23d94af20",
              "version_major": 2,
              "version_minor": 0
            },
            "text/plain": [
              "Batches:   0%|          | 0/1 [00:00<?, ?it/s]"
            ]
          },
          "metadata": {},
          "output_type": "display_data"
        },
        {
          "data": {
            "application/vnd.jupyter.widget-view+json": {
              "model_id": "75e830b4f0cc481e946ab43c88371e9d",
              "version_major": 2,
              "version_minor": 0
            },
            "text/plain": [
              "Batches:   0%|          | 0/1 [00:00<?, ?it/s]"
            ]
          },
          "metadata": {},
          "output_type": "display_data"
        },
        {
          "name": "stdout",
          "output_type": "stream",
          "text": [
            "ExtractedAnswer(query='Who is the author of shantaram?', score=0.49057403206825256, data='Агата Кристи', document=Document(id=e7589d9912517481ba7ca4862f0c2cedfa4c8a9fc11b30265e1d8c95fa8b4cdf, content: 'Title: And Then There Were None / И никого не стало. Книга для чтения на английском языке;\n",
            "Writer/Au...', meta: {'title': 'And Then There Were None / И никого не стало. Книга для чтения на английском языке', 'authors': 'Агата Кристи', 'publisher': 'Litres', 'publishedDate': '2018-10-09', 'industryIdentifiers': \"{'type': 'ISBN_13', 'identifier': '9785041375676'}, {'type': 'ISBN_10', 'identifier': '5041375674'}\", 'readingModes': {'text': True, 'image': True}, 'pageCount': 469, 'printType': 'BOOK', 'categories': 'Foreign Language Study', 'maturityRating': 'NOT_MATURE', 'allowAnonLogging': True, 'contentVersion': '1.6.6.0.preview.3', 'panelizationSummary': {'containsEpubBubbles': False, 'containsImageBubbles': False}, 'imageLinks': {'smallThumbnail': 'http://books.google.com/books/content?id=qS9yDwAAQBAJ&printsec=frontcover&img=1&zoom=5&edge=curl&source=gbs_api', 'thumbnail': 'http://books.google.com/books/content?id=qS9yDwAAQBAJ&printsec=frontcover&img=1&zoom=1&edge=curl&source=gbs_api'}, 'language': 'en', 'previewLink': 'http://books.google.it/books?id=qS9yDwAAQBAJ&printsec=frontcover&dq=intitle:None&hl=&cd=1&source=gbs_api', 'infoLink': 'http://books.google.it/books?id=qS9yDwAAQBAJ&dq=intitle:None&hl=&source=gbs_api', 'canonicalVolumeLink': 'https://books.google.com/books/about/And_Then_There_Were_None_%D0%98_%D0%BD%D0%B8%D0%BA%D0%BE%D0%B3%D0%BE.html?hl=&id=qS9yDwAAQBAJ', 'subtitle': 'Not available', 'averageRating': 'Not available', 'ratingsCount': 'Not available', 'seriesInfo': 'Not available'}, score: 0.16021771817223043), context=None, document_offset=ExtractedAnswer.Span(start=106, end=118), context_offset=None, meta={}) \n",
            "\n",
            "ExtractedAnswer(query='Who is the author of shantaram?', score=0.4003339409828186, data='Foreign Language Study;\\nNumber of pages: 469;\\nPublished by: Litres', document=Document(id=e7589d9912517481ba7ca4862f0c2cedfa4c8a9fc11b30265e1d8c95fa8b4cdf, content: 'Title: And Then There Were None / И никого не стало. Книга для чтения на английском языке;\n",
            "Writer/Au...', meta: {'title': 'And Then There Were None / И никого не стало. Книга для чтения на английском языке', 'authors': 'Агата Кристи', 'publisher': 'Litres', 'publishedDate': '2018-10-09', 'industryIdentifiers': \"{'type': 'ISBN_13', 'identifier': '9785041375676'}, {'type': 'ISBN_10', 'identifier': '5041375674'}\", 'readingModes': {'text': True, 'image': True}, 'pageCount': 469, 'printType': 'BOOK', 'categories': 'Foreign Language Study', 'maturityRating': 'NOT_MATURE', 'allowAnonLogging': True, 'contentVersion': '1.6.6.0.preview.3', 'panelizationSummary': {'containsEpubBubbles': False, 'containsImageBubbles': False}, 'imageLinks': {'smallThumbnail': 'http://books.google.com/books/content?id=qS9yDwAAQBAJ&printsec=frontcover&img=1&zoom=5&edge=curl&source=gbs_api', 'thumbnail': 'http://books.google.com/books/content?id=qS9yDwAAQBAJ&printsec=frontcover&img=1&zoom=1&edge=curl&source=gbs_api'}, 'language': 'en', 'previewLink': 'http://books.google.it/books?id=qS9yDwAAQBAJ&printsec=frontcover&dq=intitle:None&hl=&cd=1&source=gbs_api', 'infoLink': 'http://books.google.it/books?id=qS9yDwAAQBAJ&dq=intitle:None&hl=&source=gbs_api', 'canonicalVolumeLink': 'https://books.google.com/books/about/And_Then_There_Were_None_%D0%98_%D0%BD%D0%B8%D0%BA%D0%BE%D0%B3%D0%BE.html?hl=&id=qS9yDwAAQBAJ', 'subtitle': 'Not available', 'averageRating': 'Not available', 'ratingsCount': 'Not available', 'seriesInfo': 'Not available'}, score: 0.16021771817223043), context=None, document_offset=ExtractedAnswer.Span(start=498, end=564), context_offset=None, meta={}) \n",
            "\n",
            "ExtractedAnswer(query='Who is the author of shantaram?', score=0.35047703981399536, data='2018-10-09', document=Document(id=e7589d9912517481ba7ca4862f0c2cedfa4c8a9fc11b30265e1d8c95fa8b4cdf, content: 'Title: And Then There Were None / И никого не стало. Книга для чтения на английском языке;\n",
            "Writer/Au...', meta: {'title': 'And Then There Were None / И никого не стало. Книга для чтения на английском языке', 'authors': 'Агата Кристи', 'publisher': 'Litres', 'publishedDate': '2018-10-09', 'industryIdentifiers': \"{'type': 'ISBN_13', 'identifier': '9785041375676'}, {'type': 'ISBN_10', 'identifier': '5041375674'}\", 'readingModes': {'text': True, 'image': True}, 'pageCount': 469, 'printType': 'BOOK', 'categories': 'Foreign Language Study', 'maturityRating': 'NOT_MATURE', 'allowAnonLogging': True, 'contentVersion': '1.6.6.0.preview.3', 'panelizationSummary': {'containsEpubBubbles': False, 'containsImageBubbles': False}, 'imageLinks': {'smallThumbnail': 'http://books.google.com/books/content?id=qS9yDwAAQBAJ&printsec=frontcover&img=1&zoom=5&edge=curl&source=gbs_api', 'thumbnail': 'http://books.google.com/books/content?id=qS9yDwAAQBAJ&printsec=frontcover&img=1&zoom=1&edge=curl&source=gbs_api'}, 'language': 'en', 'previewLink': 'http://books.google.it/books?id=qS9yDwAAQBAJ&printsec=frontcover&dq=intitle:None&hl=&cd=1&source=gbs_api', 'infoLink': 'http://books.google.it/books?id=qS9yDwAAQBAJ&dq=intitle:None&hl=&source=gbs_api', 'canonicalVolumeLink': 'https://books.google.com/books/about/And_Then_There_Were_None_%D0%98_%D0%BD%D0%B8%D0%BA%D0%BE%D0%B3%D0%BE.html?hl=&id=qS9yDwAAQBAJ', 'subtitle': 'Not available', 'averageRating': 'Not available', 'ratingsCount': 'Not available', 'seriesInfo': 'Not available'}, score: 0.16021771817223043), context=None, document_offset=ExtractedAnswer.Span(start=578, end=588), context_offset=None, meta={}) \n",
            "\n",
            "ExtractedAnswer(query='Who is the author of shantaram?', score=0.19841982192968516, data=None, document=None, context=None, document_offset=None, context_offset=None, meta={}) \n",
            "\n",
            "['martian', None, None, 'kevin', None, 'eragon', None, '5', '1', '1', '2', None, 'five', None, None, 'american']\n",
            "book title is american\n"
          ]
        },
        {
          "data": {
            "application/vnd.jupyter.widget-view+json": {
              "model_id": "ce770d82779a4030a58b7ade0559fed4",
              "version_major": 2,
              "version_minor": 0
            },
            "text/plain": [
              "Batches:   0%|          | 0/1 [00:00<?, ?it/s]"
            ]
          },
          "metadata": {},
          "output_type": "display_data"
        },
        {
          "data": {
            "application/vnd.jupyter.widget-view+json": {
              "model_id": "fa848c02090d431b8cd9c676500de01f",
              "version_major": 2,
              "version_minor": 0
            },
            "text/plain": [
              "Batches:   0%|          | 0/1 [00:00<?, ?it/s]"
            ]
          },
          "metadata": {},
          "output_type": "display_data"
        },
        {
          "name": "stdout",
          "output_type": "stream",
          "text": [
            "ExtractedAnswer(query='Who is the author of seabiscuit: an american legend?', score=0.5557498335838318, data='Alfred Dupont Chandler', document=Document(id=2535afc2f4eb1053c632815aef6e6f04572b236a945fb38695659c7b3e895e50, content: 'Title: The Visible Hand;\n",
            "Writer/Author: Alfred Dupont Chandler;\n",
            "Topic: The role of large-scale busin...', meta: {'title': 'The Visible Hand', 'authors': 'Alfred Dupont Chandler', 'publisher': 'Harvard University Press', 'publishedDate': '1977', 'industryIdentifiers': \"{'type': 'ISBN_10', 'identifier': '0674940520'}, {'type': 'ISBN_13', 'identifier': '9780674940529'}\", 'readingModes': {'text': False, 'image': True}, 'pageCount': 628, 'printType': 'BOOK', 'categories': 'Business & Economics', 'maturityRating': 'NOT_MATURE', 'allowAnonLogging': False, 'contentVersion': '0.6.3.0.preview.1', 'panelizationSummary': {'containsEpubBubbles': False, 'containsImageBubbles': False}, 'imageLinks': {'smallThumbnail': 'http://books.google.com/books/content?id=hUkqx76sF6oC&printsec=frontcover&img=1&zoom=5&edge=curl&source=gbs_api', 'thumbnail': 'http://books.google.com/books/content?id=hUkqx76sF6oC&printsec=frontcover&img=1&zoom=1&edge=curl&source=gbs_api'}, 'language': 'en', 'previewLink': 'http://books.google.it/books?id=hUkqx76sF6oC&printsec=frontcover&dq=intitle:american&hl=&cd=1&source=gbs_api', 'infoLink': 'http://books.google.it/books?id=hUkqx76sF6oC&dq=intitle:american&hl=&source=gbs_api', 'canonicalVolumeLink': 'https://books.google.com/books/about/The_Visible_Hand.html?hl=&id=hUkqx76sF6oC', 'subtitle': 'Not available', 'averageRating': 'Not available', 'ratingsCount': 'Not available', 'seriesInfo': 'Not available'}, score: 0.2265345976719244), context=None, document_offset=ExtractedAnswer.Span(start=40, end=62), context_offset=None, meta={}) \n",
            "\n",
            "ExtractedAnswer(query='Who is the author of seabiscuit: an american legend?', score=0.4729718565940857, data='Alfred Chandler, Jr.,', document=Document(id=2535afc2f4eb1053c632815aef6e6f04572b236a945fb38695659c7b3e895e50, content: 'Title: The Visible Hand;\n",
            "Writer/Author: Alfred Dupont Chandler;\n",
            "Topic: The role of large-scale busin...', meta: {'title': 'The Visible Hand', 'authors': 'Alfred Dupont Chandler', 'publisher': 'Harvard University Press', 'publishedDate': '1977', 'industryIdentifiers': \"{'type': 'ISBN_10', 'identifier': '0674940520'}, {'type': 'ISBN_13', 'identifier': '9780674940529'}\", 'readingModes': {'text': False, 'image': True}, 'pageCount': 628, 'printType': 'BOOK', 'categories': 'Business & Economics', 'maturityRating': 'NOT_MATURE', 'allowAnonLogging': False, 'contentVersion': '0.6.3.0.preview.1', 'panelizationSummary': {'containsEpubBubbles': False, 'containsImageBubbles': False}, 'imageLinks': {'smallThumbnail': 'http://books.google.com/books/content?id=hUkqx76sF6oC&printsec=frontcover&img=1&zoom=5&edge=curl&source=gbs_api', 'thumbnail': 'http://books.google.com/books/content?id=hUkqx76sF6oC&printsec=frontcover&img=1&zoom=1&edge=curl&source=gbs_api'}, 'language': 'en', 'previewLink': 'http://books.google.it/books?id=hUkqx76sF6oC&printsec=frontcover&dq=intitle:american&hl=&cd=1&source=gbs_api', 'infoLink': 'http://books.google.it/books?id=hUkqx76sF6oC&dq=intitle:american&hl=&source=gbs_api', 'canonicalVolumeLink': 'https://books.google.com/books/about/The_Visible_Hand.html?hl=&id=hUkqx76sF6oC', 'subtitle': 'Not available', 'averageRating': 'Not available', 'ratingsCount': 'Not available', 'seriesInfo': 'Not available'}, score: 0.2265345976719244), context=None, document_offset=ExtractedAnswer.Span(start=247, end=268), context_offset=None, meta={}) \n",
            "\n",
            "ExtractedAnswer(query='Who is the author of seabiscuit: an american legend?', score=0.2341323404140816, data=None, document=None, context=None, document_offset=None, context_offset=None, meta={}) \n",
            "\n",
            "['martian', None, None, 'kevin', None, 'eragon', None, '5', '1', '1', '2', None, 'five', None, None, 'american', 'titan']\n",
            "book title is titan\n"
          ]
        },
        {
          "data": {
            "application/vnd.jupyter.widget-view+json": {
              "model_id": "fc6f94ed0d2347a48b2e656c5b95b966",
              "version_major": 2,
              "version_minor": 0
            },
            "text/plain": [
              "Batches:   0%|          | 0/1 [00:00<?, ?it/s]"
            ]
          },
          "metadata": {},
          "output_type": "display_data"
        },
        {
          "data": {
            "application/vnd.jupyter.widget-view+json": {
              "model_id": "af9b93e4316b4f3b9c7c5b29149c891d",
              "version_major": 2,
              "version_minor": 0
            },
            "text/plain": [
              "Batches:   0%|          | 0/1 [00:00<?, ?it/s]"
            ]
          },
          "metadata": {},
          "output_type": "display_data"
        },
        {
          "name": "stdout",
          "output_type": "stream",
          "text": [
            "ExtractedAnswer(query=\"Who is the author of the titan's curse (percy jackson and the olympians, #3)?\", score=0.6989428997039795, data='Jean Paul', document=Document(id=1702f77794ebf5aff9b7ec205ad86b91b7ff039b63e976f48f532e9701280322, content: 'Title: Titan;\n",
            "Writer/Author: Jean Paul;\n",
            "Topic: Sorry, I am unable to answer your query right now;\n",
            "Ge...', meta: {'title': 'Titan', 'authors': 'Jean Paul', 'publishedDate': '1800', 'industryIdentifiers': \"{'type': 'OTHER', 'identifier': 'OXFORD:N11139643'}\", 'readingModes': {'text': False, 'image': True}, 'pageCount': 686, 'printType': 'BOOK', 'maturityRating': 'NOT_MATURE', 'allowAnonLogging': False, 'contentVersion': '3.10.15.0.full.1', 'panelizationSummary': {'containsEpubBubbles': False, 'containsImageBubbles': False}, 'imageLinks': {'smallThumbnail': 'http://books.google.com/books/content?id=_EIHAAAAQAAJ&printsec=frontcover&img=1&zoom=5&edge=curl&source=gbs_api', 'thumbnail': 'http://books.google.com/books/content?id=_EIHAAAAQAAJ&printsec=frontcover&img=1&zoom=1&edge=curl&source=gbs_api'}, 'language': 'de', 'previewLink': 'http://books.google.it/books?id=_EIHAAAAQAAJ&printsec=frontcover&dq=intitle:titan&hl=&cd=1&source=gbs_api', 'infoLink': 'https://play.google.com/store/books/details?id=_EIHAAAAQAAJ&source=gbs_api', 'canonicalVolumeLink': 'https://play.google.com/store/books/details?id=_EIHAAAAQAAJ', 'subtitle': 'Not available', 'publisher': 'Not available', 'categories': 'Not available', 'averageRating': 'Not available', 'ratingsCount': 'Not available', 'seriesInfo': 'Not available'}, score: 0.3956092430854462), context=None, document_offset=ExtractedAnswer.Span(start=29, end=38), context_offset=None, meta={}) \n",
            "\n",
            "ExtractedAnswer(query=\"Who is the author of the titan's curse (percy jackson and the olympians, #3)?\", score=0.3010571002960205, data=None, document=None, context=None, document_offset=None, context_offset=None, meta={}) \n",
            "\n",
            "['martian', None, None, 'kevin', None, 'eragon', None, '5', '1', '1', '2', None, 'five', None, None, 'american', 'titan', '3']\n",
            "book title is 3\n"
          ]
        },
        {
          "data": {
            "application/vnd.jupyter.widget-view+json": {
              "model_id": "2eabc712f02041058d01959e3c049a5c",
              "version_major": 2,
              "version_minor": 0
            },
            "text/plain": [
              "Batches:   0%|          | 0/1 [00:00<?, ?it/s]"
            ]
          },
          "metadata": {},
          "output_type": "display_data"
        },
        {
          "data": {
            "application/vnd.jupyter.widget-view+json": {
              "model_id": "5e1f240a255d49ce941653ce3ef3d458",
              "version_major": 2,
              "version_minor": 0
            },
            "text/plain": [
              "Batches:   0%|          | 0/1 [00:00<?, ?it/s]"
            ]
          },
          "metadata": {},
          "output_type": "display_data"
        },
        {
          "name": "stdout",
          "output_type": "stream",
          "text": [
            "ExtractedAnswer(query='Who is the author of shadow kiss (vampire academy, #3)?', score=0.5962812900543213, data='Dante Allighieri', document=Document(id=aa06dfbc4c5d03246a622d6ec290471ee48b24adde1cbcafc851a1d54bc98596, content: 'Title: La Commedia di Dante Allighieri;\n",
            "Writer/Author: Not available;\n",
            "Topic: Sorry, I am unable to a...', meta: {'title': 'La Commedia di Dante Allighieri', 'subtitle': '3', 'publishedDate': '1843', 'industryIdentifiers': \"{'type': 'OTHER', 'identifier': 'IBSC:SC400009718'}\", 'readingModes': {'text': False, 'image': True}, 'pageCount': 582, 'printType': 'BOOK', 'maturityRating': 'NOT_MATURE', 'allowAnonLogging': False, 'contentVersion': '0.4.4.0.full.1', 'panelizationSummary': {'containsEpubBubbles': False, 'containsImageBubbles': False}, 'imageLinks': {'smallThumbnail': 'http://books.google.com/books/content?id=wn3wfZ3JB-sC&printsec=frontcover&img=1&zoom=5&edge=curl&source=gbs_api', 'thumbnail': 'http://books.google.com/books/content?id=wn3wfZ3JB-sC&printsec=frontcover&img=1&zoom=1&edge=curl&source=gbs_api'}, 'language': 'it', 'previewLink': 'http://books.google.it/books?id=wn3wfZ3JB-sC&printsec=frontcover&dq=intitle:3&hl=&cd=1&source=gbs_api', 'infoLink': 'https://play.google.com/store/books/details?id=wn3wfZ3JB-sC&source=gbs_api', 'canonicalVolumeLink': 'https://play.google.com/store/books/details?id=wn3wfZ3JB-sC', 'authors': 'Not available', 'publisher': 'Not available', 'categories': 'Not available', 'averageRating': 'Not available', 'ratingsCount': 'Not available', 'seriesInfo': 'Not available'}, score: 0.27850746794073267), context=None, document_offset=ExtractedAnswer.Span(start=22, end=38), context_offset=None, meta={}) \n",
            "\n",
            "ExtractedAnswer(query='Who is the author of shadow kiss (vampire academy, #3)?', score=0.4037187099456787, data=None, document=None, context=None, document_offset=None, context_offset=None, meta={}) \n",
            "\n",
            "['martian', None, None, 'kevin', None, 'eragon', None, '5', '1', '1', '2', None, 'five', None, None, 'american', 'titan', '3', 'percy jackson']\n",
            "book title is percy jackson\n"
          ]
        },
        {
          "data": {
            "application/vnd.jupyter.widget-view+json": {
              "model_id": "d71d10691f334e989ceb4b37722763fa",
              "version_major": 2,
              "version_minor": 0
            },
            "text/plain": [
              "Batches:   0%|          | 0/1 [00:00<?, ?it/s]"
            ]
          },
          "metadata": {},
          "output_type": "display_data"
        },
        {
          "data": {
            "application/vnd.jupyter.widget-view+json": {
              "model_id": "f23b6155477e42f7b87ccbc60fdef2f5",
              "version_major": 2,
              "version_minor": 0
            },
            "text/plain": [
              "Batches:   0%|          | 0/1 [00:00<?, ?it/s]"
            ]
          },
          "metadata": {},
          "output_type": "display_data"
        },
        {
          "name": "stdout",
          "output_type": "stream",
          "text": [
            "ExtractedAnswer(query='Who is the author of the battle of the labyrinth (percy jackson and the olympians, #4)?', score=0.7440169453620911, data='Rick Riordan', document=Document(id=51f56f9db661c5d79d7d13363716a78f6e9cf9df61af7d329ef3cb0fa9d10328, content: 'Title: Percy Jackson e gli Dei dell'Olimpo - 1. Il Ladro di Fulmini;\n",
            "Writer/Author: Rick Riordan;\n",
            "To...', meta: {'title': \"Percy Jackson e gli Dei dell'Olimpo - 1. Il Ladro di Fulmini\", 'authors': 'Rick Riordan', 'publisher': 'Edizioni Mondadori', 'publishedDate': '2010-11-15', 'industryIdentifiers': \"{'type': 'ISBN_13', 'identifier': '9788852017308'}, {'type': 'ISBN_10', 'identifier': '8852017305'}\", 'readingModes': {'text': True, 'image': True}, 'pageCount': 281, 'printType': 'BOOK', 'categories': 'Juvenile Fiction', 'averageRating': 4.5, 'ratingsCount': 67, 'maturityRating': 'NOT_MATURE', 'allowAnonLogging': True, 'contentVersion': '2.28.28.0.preview.3', 'panelizationSummary': {'containsEpubBubbles': False, 'containsImageBubbles': False}, 'imageLinks': {'smallThumbnail': 'http://books.google.com/books/content?id=jItjUT9W4sAC&printsec=frontcover&img=1&zoom=5&edge=curl&source=gbs_api', 'thumbnail': 'http://books.google.com/books/content?id=jItjUT9W4sAC&printsec=frontcover&img=1&zoom=1&edge=curl&source=gbs_api'}, 'language': 'it', 'previewLink': 'http://books.google.it/books?id=jItjUT9W4sAC&printsec=frontcover&dq=intitle:percy+jackson&hl=&cd=1&source=gbs_api', 'infoLink': 'https://play.google.com/store/books/details?id=jItjUT9W4sAC&source=gbs_api', 'canonicalVolumeLink': 'https://play.google.com/store/books/details?id=jItjUT9W4sAC', 'subtitle': 'Not available', 'seriesInfo': 'Not available'}, score: 0.5357301766155256), context=None, document_offset=ExtractedAnswer.Span(start=84, end=96), context_offset=None, meta={}) \n",
            "\n",
            "ExtractedAnswer(query='Who is the author of the battle of the labyrinth (percy jackson and the olympians, #4)?', score=0.48112693428993225, data='Edizioni Mondadori', document=Document(id=51f56f9db661c5d79d7d13363716a78f6e9cf9df61af7d329ef3cb0fa9d10328, content: 'Title: Percy Jackson e gli Dei dell'Olimpo - 1. Il Ladro di Fulmini;\n",
            "Writer/Author: Rick Riordan;\n",
            "To...', meta: {'title': \"Percy Jackson e gli Dei dell'Olimpo - 1. Il Ladro di Fulmini\", 'authors': 'Rick Riordan', 'publisher': 'Edizioni Mondadori', 'publishedDate': '2010-11-15', 'industryIdentifiers': \"{'type': 'ISBN_13', 'identifier': '9788852017308'}, {'type': 'ISBN_10', 'identifier': '8852017305'}\", 'readingModes': {'text': True, 'image': True}, 'pageCount': 281, 'printType': 'BOOK', 'categories': 'Juvenile Fiction', 'averageRating': 4.5, 'ratingsCount': 67, 'maturityRating': 'NOT_MATURE', 'allowAnonLogging': True, 'contentVersion': '2.28.28.0.preview.3', 'panelizationSummary': {'containsEpubBubbles': False, 'containsImageBubbles': False}, 'imageLinks': {'smallThumbnail': 'http://books.google.com/books/content?id=jItjUT9W4sAC&printsec=frontcover&img=1&zoom=5&edge=curl&source=gbs_api', 'thumbnail': 'http://books.google.com/books/content?id=jItjUT9W4sAC&printsec=frontcover&img=1&zoom=1&edge=curl&source=gbs_api'}, 'language': 'it', 'previewLink': 'http://books.google.it/books?id=jItjUT9W4sAC&printsec=frontcover&dq=intitle:percy+jackson&hl=&cd=1&source=gbs_api', 'infoLink': 'https://play.google.com/store/books/details?id=jItjUT9W4sAC&source=gbs_api', 'canonicalVolumeLink': 'https://play.google.com/store/books/details?id=jItjUT9W4sAC', 'subtitle': 'Not available', 'seriesInfo': 'Not available'}, score: 0.5357301766155256), context=None, document_offset=ExtractedAnswer.Span(start=1086, end=1104), context_offset=None, meta={}) \n",
            "\n",
            "ExtractedAnswer(query='Who is the author of the battle of the labyrinth (percy jackson and the olympians, #4)?', score=0.13282271232979959, data=None, document=None, context=None, document_offset=None, context_offset=None, meta={}) \n",
            "\n",
            "['martian', None, None, 'kevin', None, 'eragon', None, '5', '1', '1', '2', None, 'five', None, None, 'american', 'titan', '3', 'percy jackson', '2666']\n",
            "book title is 2666\n"
          ]
        },
        {
          "data": {
            "application/vnd.jupyter.widget-view+json": {
              "model_id": "4f0c1a98533b47c1af2c298af426c525",
              "version_major": 2,
              "version_minor": 0
            },
            "text/plain": [
              "Batches:   0%|          | 0/1 [00:00<?, ?it/s]"
            ]
          },
          "metadata": {},
          "output_type": "display_data"
        },
        {
          "data": {
            "application/vnd.jupyter.widget-view+json": {
              "model_id": "4eeb06aa9da54bdca04539982af03a9b",
              "version_major": 2,
              "version_minor": 0
            },
            "text/plain": [
              "Batches:   0%|          | 0/1 [00:00<?, ?it/s]"
            ]
          },
          "metadata": {},
          "output_type": "display_data"
        },
        {
          "name": "stdout",
          "output_type": "stream",
          "text": [
            "ExtractedAnswer(query='Who is the author of 2666?', score=0.8299435377120972, data='Roberto Bolaño', document=Document(id=0f58686f60307c318f7a35a1ebe17041129eabfd7a5068bb559f662e49f742dc, content: 'Title: 2666;\n",
            "Writer/Author: Roberto Bolaño;\n",
            "Topic: Delle molte leggende alla cui nascita Bolaño stes...', meta: {'title': '2666', 'authors': 'Roberto Bolaño', 'publisher': 'Adelphi Edizioni spa', 'publishedDate': '2013-02-13T00:00:00+01:00', 'industryIdentifiers': \"{'type': 'ISBN_13', 'identifier': '9788845972829'}, {'type': 'ISBN_10', 'identifier': '8845972828'}\", 'readingModes': {'text': True, 'image': True}, 'pageCount': 936, 'printType': 'BOOK', 'categories': 'Fiction', 'maturityRating': 'NOT_MATURE', 'allowAnonLogging': True, 'contentVersion': '1.18.18.0.preview.3', 'panelizationSummary': {'containsEpubBubbles': False, 'containsImageBubbles': False}, 'imageLinks': {'smallThumbnail': 'http://books.google.com/books/content?id=HUyTJL8TSfsC&printsec=frontcover&img=1&zoom=5&edge=curl&source=gbs_api', 'thumbnail': 'http://books.google.com/books/content?id=HUyTJL8TSfsC&printsec=frontcover&img=1&zoom=1&edge=curl&source=gbs_api'}, 'language': 'it', 'previewLink': 'http://books.google.it/books?id=HUyTJL8TSfsC&printsec=frontcover&dq=intitle:2666&hl=&cd=1&source=gbs_api', 'infoLink': 'https://play.google.com/store/books/details?id=HUyTJL8TSfsC&source=gbs_api', 'canonicalVolumeLink': 'https://play.google.com/store/books/details?id=HUyTJL8TSfsC', 'subtitle': 'Not available', 'averageRating': 'Not available', 'ratingsCount': 'Not available', 'seriesInfo': 'Not available'}, score: 0.2878548542640957), context=None, document_offset=ExtractedAnswer.Span(start=28, end=42), context_offset=None, meta={}) \n",
            "\n",
            "ExtractedAnswer(query='Who is the author of 2666?', score=0.43997618556022644, data='un ingresso qualsiasi', document=Document(id=0f58686f60307c318f7a35a1ebe17041129eabfd7a5068bb559f662e49f742dc, content: 'Title: 2666;\n",
            "Writer/Author: Roberto Bolaño;\n",
            "Topic: Delle molte leggende alla cui nascita Bolaño stes...', meta: {'title': '2666', 'authors': 'Roberto Bolaño', 'publisher': 'Adelphi Edizioni spa', 'publishedDate': '2013-02-13T00:00:00+01:00', 'industryIdentifiers': \"{'type': 'ISBN_13', 'identifier': '9788845972829'}, {'type': 'ISBN_10', 'identifier': '8845972828'}\", 'readingModes': {'text': True, 'image': True}, 'pageCount': 936, 'printType': 'BOOK', 'categories': 'Fiction', 'maturityRating': 'NOT_MATURE', 'allowAnonLogging': True, 'contentVersion': '1.18.18.0.preview.3', 'panelizationSummary': {'containsEpubBubbles': False, 'containsImageBubbles': False}, 'imageLinks': {'smallThumbnail': 'http://books.google.com/books/content?id=HUyTJL8TSfsC&printsec=frontcover&img=1&zoom=5&edge=curl&source=gbs_api', 'thumbnail': 'http://books.google.com/books/content?id=HUyTJL8TSfsC&printsec=frontcover&img=1&zoom=1&edge=curl&source=gbs_api'}, 'language': 'it', 'previewLink': 'http://books.google.it/books?id=HUyTJL8TSfsC&printsec=frontcover&dq=intitle:2666&hl=&cd=1&source=gbs_api', 'infoLink': 'https://play.google.com/store/books/details?id=HUyTJL8TSfsC&source=gbs_api', 'canonicalVolumeLink': 'https://play.google.com/store/books/details?id=HUyTJL8TSfsC', 'subtitle': 'Not available', 'averageRating': 'Not available', 'ratingsCount': 'Not available', 'seriesInfo': 'Not available'}, score: 0.2878548542640957), context=None, document_offset=ExtractedAnswer.Span(start=889, end=910), context_offset=None, meta={}) \n",
            "\n",
            "ExtractedAnswer(query='Who is the author of 2666?', score=0.09523566868060485, data=None, document=None, context=None, document_offset=None, context_offset=None, meta={}) \n",
            "\n",
            "['martian', None, None, 'kevin', None, 'eragon', None, '5', '1', '1', '2', None, 'five', None, None, 'american', 'titan', '3', 'percy jackson', '2666', '2']\n",
            "book title is 2\n"
          ]
        },
        {
          "data": {
            "application/vnd.jupyter.widget-view+json": {
              "model_id": "840366feea834605a610f5b5511527c6",
              "version_major": 2,
              "version_minor": 0
            },
            "text/plain": [
              "Batches:   0%|          | 0/1 [00:00<?, ?it/s]"
            ]
          },
          "metadata": {},
          "output_type": "display_data"
        },
        {
          "data": {
            "application/vnd.jupyter.widget-view+json": {
              "model_id": "e4ed75498c8243e8b54d85a0e13a5dfd",
              "version_major": 2,
              "version_minor": 0
            },
            "text/plain": [
              "Batches:   0%|          | 0/1 [00:00<?, ?it/s]"
            ]
          },
          "metadata": {},
          "output_type": "display_data"
        },
        {
          "name": "stdout",
          "output_type": "stream",
          "text": [
            "ExtractedAnswer(query='Who is the author of frostbite (vampire academy, #2)?', score=0.6628978252410889, data='Angelo Pezzana', document=Document(id=01cdab9394850832927c46cc52f8160140eb174ce94b3c6b714e0705fa7c6b14, content: 'Title: Storia della citta di Parma continuata;\n",
            "Writer/Author: Angelo Pezzana;\n",
            "Topic: Sorry, I am una...', meta: {'title': 'Storia della citta di Parma continuata', 'subtitle': '1401 - 1449. 2', 'authors': 'Angelo Pezzana', 'publishedDate': '1842', 'industryIdentifiers': \"{'type': 'OTHER', 'identifier': 'ONB:+Z168004004'}\", 'readingModes': {'text': False, 'image': True}, 'pageCount': 882, 'printType': 'BOOK', 'maturityRating': 'NOT_MATURE', 'allowAnonLogging': False, 'contentVersion': '0.6.5.0.full.1', 'panelizationSummary': {'containsEpubBubbles': False, 'containsImageBubbles': False}, 'imageLinks': {'smallThumbnail': 'http://books.google.com/books/content?id=pc9TAAAAcAAJ&printsec=frontcover&img=1&zoom=5&edge=curl&source=gbs_api', 'thumbnail': 'http://books.google.com/books/content?id=pc9TAAAAcAAJ&printsec=frontcover&img=1&zoom=1&edge=curl&source=gbs_api'}, 'language': 'it', 'previewLink': 'http://books.google.it/books?id=pc9TAAAAcAAJ&printsec=frontcover&dq=intitle:2&hl=&cd=1&source=gbs_api', 'infoLink': 'https://play.google.com/store/books/details?id=pc9TAAAAcAAJ&source=gbs_api', 'canonicalVolumeLink': 'https://play.google.com/store/books/details?id=pc9TAAAAcAAJ', 'publisher': 'Not available', 'categories': 'Not available', 'averageRating': 'Not available', 'ratingsCount': 'Not available', 'seriesInfo': 'Not available'}, score: 0.3314299280795703), context=None, document_offset=ExtractedAnswer.Span(start=62, end=76), context_offset=None, meta={}) \n",
            "\n",
            "ExtractedAnswer(query='Who is the author of frostbite (vampire academy, #2)?', score=0.33710217475891113, data=None, document=None, context=None, document_offset=None, context_offset=None, meta={}) \n",
            "\n",
            "['martian', None, None, 'kevin', None, 'eragon', None, '5', '1', '1', '2', None, 'five', None, None, 'american', 'titan', '3', 'percy jackson', '2666', '2', 'robert langdon']\n",
            "book title is robert langdon\n"
          ]
        },
        {
          "data": {
            "application/vnd.jupyter.widget-view+json": {
              "model_id": "e89519ab947545bca68a7a5b15ce8c10",
              "version_major": 2,
              "version_minor": 0
            },
            "text/plain": [
              "Batches:   0%|          | 0/1 [00:00<?, ?it/s]"
            ]
          },
          "metadata": {},
          "output_type": "display_data"
        },
        {
          "data": {
            "application/vnd.jupyter.widget-view+json": {
              "model_id": "f76e044390cb4878af1633d8e1959ad7",
              "version_major": 2,
              "version_minor": 0
            },
            "text/plain": [
              "Batches:   0%|          | 0/1 [00:00<?, ?it/s]"
            ]
          },
          "metadata": {},
          "output_type": "display_data"
        },
        {
          "name": "stdout",
          "output_type": "stream",
          "text": [
            "ExtractedAnswer(query='Who is the author of the lost symbol (robert langdon, #3)?', score=0.6931883692741394, data='Dan Brown', document=Document(id=9d9552f0ee326c82538836cb0152c2d502b222602da44c0904c83952080a9f93, content: 'Title: Le indagini di Robert Langdon: Angeli e demoni-Il Codice da Vinci-Il simbolo perduto;\n",
            "Writer/...', meta: {'title': 'Le indagini di Robert Langdon: Angeli e demoni-Il Codice da Vinci-Il simbolo perduto', 'authors': 'Dan Brown', 'publishedDate': '2013', 'industryIdentifiers': \"{'type': 'ISBN_10', 'identifier': '880462793X'}, {'type': 'ISBN_13', 'identifier': '9788804627937'}\", 'readingModes': {'text': False, 'image': False}, 'pageCount': 1479, 'printType': 'BOOK', 'categories': 'Fiction', 'maturityRating': 'NOT_MATURE', 'allowAnonLogging': False, 'contentVersion': 'preview-1.0.0', 'imageLinks': {'smallThumbnail': 'http://books.google.com/books/content?id=fmXFNAEACAAJ&printsec=frontcover&img=1&zoom=5&source=gbs_api', 'thumbnail': 'http://books.google.com/books/content?id=fmXFNAEACAAJ&printsec=frontcover&img=1&zoom=1&source=gbs_api'}, 'language': 'it', 'previewLink': 'http://books.google.it/books?id=fmXFNAEACAAJ&dq=intitle:robert+langdon&hl=&cd=1&source=gbs_api', 'infoLink': 'http://books.google.it/books?id=fmXFNAEACAAJ&dq=intitle:robert+langdon&hl=&source=gbs_api', 'canonicalVolumeLink': 'https://books.google.com/books/about/Le_indagini_di_Robert_Langdon_Angeli_e_d.html?hl=&id=fmXFNAEACAAJ', 'subtitle': 'Not available', 'publisher': 'Not available', 'averageRating': 'Not available', 'ratingsCount': 'Not available', 'panelizationSummary': 'Not available', 'seriesInfo': 'Not available'}, score: 0.6699762251894517), context=None, document_offset=ExtractedAnswer.Span(start=108, end=117), context_offset=None, meta={}) \n",
            "\n",
            "ExtractedAnswer(query='Who is the author of the lost symbol (robert langdon, #3)?', score=0.3068116307258606, data=None, document=None, context=None, document_offset=None, context_offset=None, meta={}) \n",
            "\n",
            "['martian', None, None, 'kevin', None, 'eragon', None, '5', '1', '1', '2', None, 'five', None, None, 'american', 'titan', '3', 'percy jackson', '2666', '2', 'robert langdon', 'olive kitteridge']\n",
            "book title is olive kitteridge\n"
          ]
        },
        {
          "data": {
            "application/vnd.jupyter.widget-view+json": {
              "model_id": "1be2ac36cba9432c9a9719eb99df93bd",
              "version_major": 2,
              "version_minor": 0
            },
            "text/plain": [
              "Batches:   0%|          | 0/1 [00:00<?, ?it/s]"
            ]
          },
          "metadata": {},
          "output_type": "display_data"
        },
        {
          "data": {
            "application/vnd.jupyter.widget-view+json": {
              "model_id": "f07b5083f4474a74b9e86d7d850590d2",
              "version_major": 2,
              "version_minor": 0
            },
            "text/plain": [
              "Batches:   0%|          | 0/1 [00:00<?, ?it/s]"
            ]
          },
          "metadata": {},
          "output_type": "display_data"
        },
        {
          "name": "stdout",
          "output_type": "stream",
          "text": [
            "ExtractedAnswer(query='Who is the author of olive kitteridge (olive kitteridge, #1)?', score=0.7978143692016602, data='Elizabeth Strout', document=Document(id=a2ac60c051f7754610e985e9bd6f61a994053e5c1836121005faff4618e87b1e, content: 'Title: Olive Kitteridge;\n",
            "Writer/Author: Elizabeth Strout;\n",
            "Topic: Premio Pulitzer, 2009 Premio Bancar...', meta: {'title': 'Olive Kitteridge', 'authors': 'Elizabeth Strout', 'publisher': 'Fazi Editore', 'publishedDate': '2014-11-27T00:00:00+01:00', 'industryIdentifiers': \"{'type': 'ISBN_13', 'identifier': '9788876257407'}, {'type': 'ISBN_10', 'identifier': '8876257403'}\", 'readingModes': {'text': True, 'image': True}, 'pageCount': 254, 'printType': 'BOOK', 'categories': 'Fiction', 'maturityRating': 'NOT_MATURE', 'allowAnonLogging': True, 'contentVersion': '1.10.10.0.preview.3', 'panelizationSummary': {'containsEpubBubbles': False, 'containsImageBubbles': False}, 'imageLinks': {'smallThumbnail': 'http://books.google.com/books/content?id=96mbBQAAQBAJ&printsec=frontcover&img=1&zoom=5&edge=curl&source=gbs_api', 'thumbnail': 'http://books.google.com/books/content?id=96mbBQAAQBAJ&printsec=frontcover&img=1&zoom=1&edge=curl&source=gbs_api'}, 'language': 'it', 'previewLink': 'http://books.google.it/books?id=96mbBQAAQBAJ&printsec=frontcover&dq=intitle:olive+kitteridge&hl=&cd=1&source=gbs_api', 'infoLink': 'https://play.google.com/store/books/details?id=96mbBQAAQBAJ&source=gbs_api', 'canonicalVolumeLink': 'https://play.google.com/store/books/details?id=96mbBQAAQBAJ', 'subtitle': 'Not available', 'averageRating': 'Not available', 'ratingsCount': 'Not available', 'seriesInfo': 'Not available'}, score: 0.5509085305929299), context=None, document_offset=ExtractedAnswer.Span(start=40, end=56), context_offset=None, meta={}) \n",
            "\n",
            "ExtractedAnswer(query='Who is the author of olive kitteridge (olive kitteridge, #1)?', score=0.6483710408210754, data='Elizabeth Strout', document=Document(id=a2ac60c051f7754610e985e9bd6f61a994053e5c1836121005faff4618e87b1e, content: 'Title: Olive Kitteridge;\n",
            "Writer/Author: Elizabeth Strout;\n",
            "Topic: Premio Pulitzer, 2009 Premio Bancar...', meta: {'title': 'Olive Kitteridge', 'authors': 'Elizabeth Strout', 'publisher': 'Fazi Editore', 'publishedDate': '2014-11-27T00:00:00+01:00', 'industryIdentifiers': \"{'type': 'ISBN_13', 'identifier': '9788876257407'}, {'type': 'ISBN_10', 'identifier': '8876257403'}\", 'readingModes': {'text': True, 'image': True}, 'pageCount': 254, 'printType': 'BOOK', 'categories': 'Fiction', 'maturityRating': 'NOT_MATURE', 'allowAnonLogging': True, 'contentVersion': '1.10.10.0.preview.3', 'panelizationSummary': {'containsEpubBubbles': False, 'containsImageBubbles': False}, 'imageLinks': {'smallThumbnail': 'http://books.google.com/books/content?id=96mbBQAAQBAJ&printsec=frontcover&img=1&zoom=5&edge=curl&source=gbs_api', 'thumbnail': 'http://books.google.com/books/content?id=96mbBQAAQBAJ&printsec=frontcover&img=1&zoom=1&edge=curl&source=gbs_api'}, 'language': 'it', 'previewLink': 'http://books.google.it/books?id=96mbBQAAQBAJ&printsec=frontcover&dq=intitle:olive+kitteridge&hl=&cd=1&source=gbs_api', 'infoLink': 'https://play.google.com/store/books/details?id=96mbBQAAQBAJ&source=gbs_api', 'canonicalVolumeLink': 'https://play.google.com/store/books/details?id=96mbBQAAQBAJ', 'subtitle': 'Not available', 'averageRating': 'Not available', 'ratingsCount': 'Not available', 'seriesInfo': 'Not available'}, score: 0.5509085305929299), context=None, document_offset=ExtractedAnswer.Span(start=1641, end=1657), context_offset=None, meta={}) \n",
            "\n",
            "ExtractedAnswer(query='Who is the author of olive kitteridge (olive kitteridge, #1)?', score=0.4910461902618408, data='John Steinbeck', document=Document(id=a2ac60c051f7754610e985e9bd6f61a994053e5c1836121005faff4618e87b1e, content: 'Title: Olive Kitteridge;\n",
            "Writer/Author: Elizabeth Strout;\n",
            "Topic: Premio Pulitzer, 2009 Premio Bancar...', meta: {'title': 'Olive Kitteridge', 'authors': 'Elizabeth Strout', 'publisher': 'Fazi Editore', 'publishedDate': '2014-11-27T00:00:00+01:00', 'industryIdentifiers': \"{'type': 'ISBN_13', 'identifier': '9788876257407'}, {'type': 'ISBN_10', 'identifier': '8876257403'}\", 'readingModes': {'text': True, 'image': True}, 'pageCount': 254, 'printType': 'BOOK', 'categories': 'Fiction', 'maturityRating': 'NOT_MATURE', 'allowAnonLogging': True, 'contentVersion': '1.10.10.0.preview.3', 'panelizationSummary': {'containsEpubBubbles': False, 'containsImageBubbles': False}, 'imageLinks': {'smallThumbnail': 'http://books.google.com/books/content?id=96mbBQAAQBAJ&printsec=frontcover&img=1&zoom=5&edge=curl&source=gbs_api', 'thumbnail': 'http://books.google.com/books/content?id=96mbBQAAQBAJ&printsec=frontcover&img=1&zoom=1&edge=curl&source=gbs_api'}, 'language': 'it', 'previewLink': 'http://books.google.it/books?id=96mbBQAAQBAJ&printsec=frontcover&dq=intitle:olive+kitteridge&hl=&cd=1&source=gbs_api', 'infoLink': 'https://play.google.com/store/books/details?id=96mbBQAAQBAJ&source=gbs_api', 'canonicalVolumeLink': 'https://play.google.com/store/books/details?id=96mbBQAAQBAJ', 'subtitle': 'Not available', 'averageRating': 'Not available', 'ratingsCount': 'Not available', 'seriesInfo': 'Not available'}, score: 0.5509085305929299), context=None, document_offset=ExtractedAnswer.Span(start=2122, end=2136), context_offset=None, meta={}) \n",
            "\n",
            "ExtractedAnswer(query='Who is the author of olive kitteridge (olive kitteridge, #1)?', score=0.036183726500153265, data=None, document=None, context=None, document_offset=None, context_offset=None, meta={}) \n",
            "\n",
            "['martian', None, None, 'kevin', None, 'eragon', None, '5', '1', '1', '2', None, 'five', None, None, 'american', 'titan', '3', 'percy jackson', '2666', '2', 'robert langdon', 'olive kitteridge', None]\n",
            "book title is None\n"
          ]
        },
        {
          "data": {
            "application/vnd.jupyter.widget-view+json": {
              "model_id": "dee5ecf9e37e479eaf59964d2df09c54",
              "version_major": 2,
              "version_minor": 0
            },
            "text/plain": [
              "Batches:   0%|          | 0/1 [00:00<?, ?it/s]"
            ]
          },
          "metadata": {},
          "output_type": "display_data"
        },
        {
          "data": {
            "application/vnd.jupyter.widget-view+json": {
              "model_id": "6a4c79e22439400fb49701455209403c",
              "version_major": 2,
              "version_minor": 0
            },
            "text/plain": [
              "Batches:   0%|          | 0/1 [00:00<?, ?it/s]"
            ]
          },
          "metadata": {},
          "output_type": "display_data"
        },
        {
          "name": "stdout",
          "output_type": "stream",
          "text": [
            "ExtractedAnswer(query='Who is the author of the last lecture?', score=0.396714985370636, data='Агата Кристи', document=Document(id=e7589d9912517481ba7ca4862f0c2cedfa4c8a9fc11b30265e1d8c95fa8b4cdf, content: 'Title: And Then There Were None / И никого не стало. Книга для чтения на английском языке;\n",
            "Writer/Au...', meta: {'title': 'And Then There Were None / И никого не стало. Книга для чтения на английском языке', 'authors': 'Агата Кристи', 'publisher': 'Litres', 'publishedDate': '2018-10-09', 'industryIdentifiers': \"{'type': 'ISBN_13', 'identifier': '9785041375676'}, {'type': 'ISBN_10', 'identifier': '5041375674'}\", 'readingModes': {'text': True, 'image': True}, 'pageCount': 469, 'printType': 'BOOK', 'categories': 'Foreign Language Study', 'maturityRating': 'NOT_MATURE', 'allowAnonLogging': True, 'contentVersion': '1.6.6.0.preview.3', 'panelizationSummary': {'containsEpubBubbles': False, 'containsImageBubbles': False}, 'imageLinks': {'smallThumbnail': 'http://books.google.com/books/content?id=qS9yDwAAQBAJ&printsec=frontcover&img=1&zoom=5&edge=curl&source=gbs_api', 'thumbnail': 'http://books.google.com/books/content?id=qS9yDwAAQBAJ&printsec=frontcover&img=1&zoom=1&edge=curl&source=gbs_api'}, 'language': 'en', 'previewLink': 'http://books.google.it/books?id=qS9yDwAAQBAJ&printsec=frontcover&dq=intitle:None&hl=&cd=1&source=gbs_api', 'infoLink': 'http://books.google.it/books?id=qS9yDwAAQBAJ&dq=intitle:None&hl=&source=gbs_api', 'canonicalVolumeLink': 'https://books.google.com/books/about/And_Then_There_Were_None_%D0%98_%D0%BD%D0%B8%D0%BA%D0%BE%D0%B3%D0%BE.html?hl=&id=qS9yDwAAQBAJ', 'subtitle': 'Not available', 'averageRating': 'Not available', 'ratingsCount': 'Not available', 'seriesInfo': 'Not available'}, score: 0.15787228014738372), context=None, document_offset=ExtractedAnswer.Span(start=106, end=118), context_offset=None, meta={}) \n",
            "\n",
            "ExtractedAnswer(query='Who is the author of the last lecture?', score=0.3001850203545343, data=None, document=None, context=None, document_offset=None, context_offset=None, meta={}) \n",
            "\n",
            "ExtractedAnswer(query='Who is the author of the last lecture?', score=0.2962154746055603, data='Foreign Language Study;\\nNumber of pages: 469;\\nPublished by: Litres', document=Document(id=e7589d9912517481ba7ca4862f0c2cedfa4c8a9fc11b30265e1d8c95fa8b4cdf, content: 'Title: And Then There Were None / И никого не стало. Книга для чтения на английском языке;\n",
            "Writer/Au...', meta: {'title': 'And Then There Were None / И никого не стало. Книга для чтения на английском языке', 'authors': 'Агата Кристи', 'publisher': 'Litres', 'publishedDate': '2018-10-09', 'industryIdentifiers': \"{'type': 'ISBN_13', 'identifier': '9785041375676'}, {'type': 'ISBN_10', 'identifier': '5041375674'}\", 'readingModes': {'text': True, 'image': True}, 'pageCount': 469, 'printType': 'BOOK', 'categories': 'Foreign Language Study', 'maturityRating': 'NOT_MATURE', 'allowAnonLogging': True, 'contentVersion': '1.6.6.0.preview.3', 'panelizationSummary': {'containsEpubBubbles': False, 'containsImageBubbles': False}, 'imageLinks': {'smallThumbnail': 'http://books.google.com/books/content?id=qS9yDwAAQBAJ&printsec=frontcover&img=1&zoom=5&edge=curl&source=gbs_api', 'thumbnail': 'http://books.google.com/books/content?id=qS9yDwAAQBAJ&printsec=frontcover&img=1&zoom=1&edge=curl&source=gbs_api'}, 'language': 'en', 'previewLink': 'http://books.google.it/books?id=qS9yDwAAQBAJ&printsec=frontcover&dq=intitle:None&hl=&cd=1&source=gbs_api', 'infoLink': 'http://books.google.it/books?id=qS9yDwAAQBAJ&dq=intitle:None&hl=&source=gbs_api', 'canonicalVolumeLink': 'https://books.google.com/books/about/And_Then_There_Were_None_%D0%98_%D0%BD%D0%B8%D0%BA%D0%BE%D0%B3%D0%BE.html?hl=&id=qS9yDwAAQBAJ', 'subtitle': 'Not available', 'averageRating': 'Not available', 'ratingsCount': 'Not available', 'seriesInfo': 'Not available'}, score: 0.15787228014738372), context=None, document_offset=ExtractedAnswer.Span(start=498, end=564), context_offset=None, meta={}) \n",
            "\n",
            "ExtractedAnswer(query='Who is the author of the last lecture?', score=0.29298803210258484, data='2018-10-09', document=Document(id=e7589d9912517481ba7ca4862f0c2cedfa4c8a9fc11b30265e1d8c95fa8b4cdf, content: 'Title: And Then There Were None / И никого не стало. Книга для чтения на английском языке;\n",
            "Writer/Au...', meta: {'title': 'And Then There Were None / И никого не стало. Книга для чтения на английском языке', 'authors': 'Агата Кристи', 'publisher': 'Litres', 'publishedDate': '2018-10-09', 'industryIdentifiers': \"{'type': 'ISBN_13', 'identifier': '9785041375676'}, {'type': 'ISBN_10', 'identifier': '5041375674'}\", 'readingModes': {'text': True, 'image': True}, 'pageCount': 469, 'printType': 'BOOK', 'categories': 'Foreign Language Study', 'maturityRating': 'NOT_MATURE', 'allowAnonLogging': True, 'contentVersion': '1.6.6.0.preview.3', 'panelizationSummary': {'containsEpubBubbles': False, 'containsImageBubbles': False}, 'imageLinks': {'smallThumbnail': 'http://books.google.com/books/content?id=qS9yDwAAQBAJ&printsec=frontcover&img=1&zoom=5&edge=curl&source=gbs_api', 'thumbnail': 'http://books.google.com/books/content?id=qS9yDwAAQBAJ&printsec=frontcover&img=1&zoom=1&edge=curl&source=gbs_api'}, 'language': 'en', 'previewLink': 'http://books.google.it/books?id=qS9yDwAAQBAJ&printsec=frontcover&dq=intitle:None&hl=&cd=1&source=gbs_api', 'infoLink': 'http://books.google.it/books?id=qS9yDwAAQBAJ&dq=intitle:None&hl=&source=gbs_api', 'canonicalVolumeLink': 'https://books.google.com/books/about/And_Then_There_Were_None_%D0%98_%D0%BD%D0%B8%D0%BA%D0%BE%D0%B3%D0%BE.html?hl=&id=qS9yDwAAQBAJ', 'subtitle': 'Not available', 'averageRating': 'Not available', 'ratingsCount': 'Not available', 'seriesInfo': 'Not available'}, score: 0.15787228014738372), context=None, document_offset=ExtractedAnswer.Span(start=578, end=588), context_offset=None, meta={}) \n",
            "\n",
            "['martian', None, None, 'kevin', None, 'eragon', None, '5', '1', '1', '2', None, 'five', None, None, 'american', 'titan', '3', 'percy jackson', '2666', '2', 'robert langdon', 'olive kitteridge', None, '1']\n",
            "book title is 1\n"
          ]
        },
        {
          "data": {
            "application/vnd.jupyter.widget-view+json": {
              "model_id": "cba3fc32574a4f0da25942a0195cd2be",
              "version_major": 2,
              "version_minor": 0
            },
            "text/plain": [
              "Batches:   0%|          | 0/1 [00:00<?, ?it/s]"
            ]
          },
          "metadata": {},
          "output_type": "display_data"
        },
        {
          "data": {
            "application/vnd.jupyter.widget-view+json": {
              "model_id": "47f67f7e99ce430bbf6b81afcdbfa164",
              "version_major": 2,
              "version_minor": 0
            },
            "text/plain": [
              "Batches:   0%|          | 0/1 [00:00<?, ?it/s]"
            ]
          },
          "metadata": {},
          "output_type": "display_data"
        },
        {
          "name": "stdout",
          "output_type": "stream",
          "text": [
            "ExtractedAnswer(query=\"Who is the author of miss peregrine's home for peculiar children (miss peregrine's peculiar children, #1)?\", score=0.6732924580574036, data='Giacomo Leopardi', document=Document(id=48eb59a7ddf02190e2da31a36a83e22189b0595bc280eb603ae9f4ea74c47f36, content: 'Title: Opere Di Giacomo Leopardi, Vol. 1 (Classic Reprint);\n",
            "Writer/Author: Giacomo Leopardi;\n",
            "Topic: ...', meta: {'title': 'Opere Di Giacomo Leopardi, Vol. 1 (Classic Reprint)', 'authors': 'Giacomo Leopardi', 'publisher': 'Forgotten Books', 'publishedDate': '2017-10-16', 'industryIdentifiers': \"{'type': 'ISBN_10', 'identifier': '0265393299'}, {'type': 'ISBN_13', 'identifier': '9780265393291'}\", 'readingModes': {'text': False, 'image': False}, 'pageCount': 366, 'printType': 'BOOK', 'categories': 'Poetry', 'maturityRating': 'NOT_MATURE', 'allowAnonLogging': False, 'contentVersion': 'preview-1.0.0', 'panelizationSummary': {'containsEpubBubbles': False, 'containsImageBubbles': False}, 'imageLinks': {'smallThumbnail': 'http://books.google.com/books/content?id=vcA9swEACAAJ&printsec=frontcover&img=1&zoom=5&source=gbs_api', 'thumbnail': 'http://books.google.com/books/content?id=vcA9swEACAAJ&printsec=frontcover&img=1&zoom=1&source=gbs_api'}, 'language': 'it', 'previewLink': 'http://books.google.it/books?id=vcA9swEACAAJ&dq=intitle:1&hl=&cd=1&source=gbs_api', 'infoLink': 'http://books.google.it/books?id=vcA9swEACAAJ&dq=intitle:1&hl=&source=gbs_api', 'canonicalVolumeLink': 'https://books.google.com/books/about/Opere_Di_Giacomo_Leopardi_Vol_1_Classic.html?hl=&id=vcA9swEACAAJ', 'subtitle': 'Not available', 'averageRating': 'Not available', 'ratingsCount': 'Not available', 'seriesInfo': 'Not available'}, score: 0.186418237319973), context=None, document_offset=ExtractedAnswer.Span(start=75, end=91), context_offset=None, meta={}) \n",
            "\n",
            "ExtractedAnswer(query=\"Who is the author of miss peregrine's home for peculiar children (miss peregrine's peculiar children, #1)?\", score=0.5297988653182983, data='Opere Di Giacomo Leopardi', document=Document(id=48eb59a7ddf02190e2da31a36a83e22189b0595bc280eb603ae9f4ea74c47f36, content: 'Title: Opere Di Giacomo Leopardi, Vol. 1 (Classic Reprint);\n",
            "Writer/Author: Giacomo Leopardi;\n",
            "Topic: ...', meta: {'title': 'Opere Di Giacomo Leopardi, Vol. 1 (Classic Reprint)', 'authors': 'Giacomo Leopardi', 'publisher': 'Forgotten Books', 'publishedDate': '2017-10-16', 'industryIdentifiers': \"{'type': 'ISBN_10', 'identifier': '0265393299'}, {'type': 'ISBN_13', 'identifier': '9780265393291'}\", 'readingModes': {'text': False, 'image': False}, 'pageCount': 366, 'printType': 'BOOK', 'categories': 'Poetry', 'maturityRating': 'NOT_MATURE', 'allowAnonLogging': False, 'contentVersion': 'preview-1.0.0', 'panelizationSummary': {'containsEpubBubbles': False, 'containsImageBubbles': False}, 'imageLinks': {'smallThumbnail': 'http://books.google.com/books/content?id=vcA9swEACAAJ&printsec=frontcover&img=1&zoom=5&source=gbs_api', 'thumbnail': 'http://books.google.com/books/content?id=vcA9swEACAAJ&printsec=frontcover&img=1&zoom=1&source=gbs_api'}, 'language': 'it', 'previewLink': 'http://books.google.it/books?id=vcA9swEACAAJ&dq=intitle:1&hl=&cd=1&source=gbs_api', 'infoLink': 'http://books.google.it/books?id=vcA9swEACAAJ&dq=intitle:1&hl=&source=gbs_api', 'canonicalVolumeLink': 'https://books.google.com/books/about/Opere_Di_Giacomo_Leopardi_Vol_1_Classic.html?hl=&id=vcA9swEACAAJ', 'subtitle': 'Not available', 'averageRating': 'Not available', 'ratingsCount': 'Not available', 'seriesInfo': 'Not available'}, score: 0.186418237319973), context=None, document_offset=ExtractedAnswer.Span(start=7, end=32), context_offset=None, meta={}) \n",
            "\n",
            "ExtractedAnswer(query=\"Who is the author of miss peregrine's home for peculiar children (miss peregrine's peculiar children, #1)?\", score=0.4234791696071625, data='Michele Ruggiero', document=Document(id=48eb59a7ddf02190e2da31a36a83e22189b0595bc280eb603ae9f4ea74c47f36, content: 'Title: Opere Di Giacomo Leopardi, Vol. 1 (Classic Reprint);\n",
            "Writer/Author: Giacomo Leopardi;\n",
            "Topic: ...', meta: {'title': 'Opere Di Giacomo Leopardi, Vol. 1 (Classic Reprint)', 'authors': 'Giacomo Leopardi', 'publisher': 'Forgotten Books', 'publishedDate': '2017-10-16', 'industryIdentifiers': \"{'type': 'ISBN_10', 'identifier': '0265393299'}, {'type': 'ISBN_13', 'identifier': '9780265393291'}\", 'readingModes': {'text': False, 'image': False}, 'pageCount': 366, 'printType': 'BOOK', 'categories': 'Poetry', 'maturityRating': 'NOT_MATURE', 'allowAnonLogging': False, 'contentVersion': 'preview-1.0.0', 'panelizationSummary': {'containsEpubBubbles': False, 'containsImageBubbles': False}, 'imageLinks': {'smallThumbnail': 'http://books.google.com/books/content?id=vcA9swEACAAJ&printsec=frontcover&img=1&zoom=5&source=gbs_api', 'thumbnail': 'http://books.google.com/books/content?id=vcA9swEACAAJ&printsec=frontcover&img=1&zoom=1&source=gbs_api'}, 'language': 'it', 'previewLink': 'http://books.google.it/books?id=vcA9swEACAAJ&dq=intitle:1&hl=&cd=1&source=gbs_api', 'infoLink': 'http://books.google.it/books?id=vcA9swEACAAJ&dq=intitle:1&hl=&source=gbs_api', 'canonicalVolumeLink': 'https://books.google.com/books/about/Opere_Di_Giacomo_Leopardi_Vol_1_Classic.html?hl=&id=vcA9swEACAAJ', 'subtitle': 'Not available', 'averageRating': 'Not available', 'ratingsCount': 'Not available', 'seriesInfo': 'Not available'}, score: 0.186418237319973), context=None, document_offset=ExtractedAnswer.Span(start=822, end=838), context_offset=None, meta={}) \n",
            "\n",
            "ExtractedAnswer(query=\"Who is the author of miss peregrine's home for peculiar children (miss peregrine's peculiar children, #1)?\", score=0.08856412504905972, data=None, document=None, context=None, document_offset=None, context_offset=None, meta={}) \n",
            "\n",
            "['martian', None, None, 'kevin', None, 'eragon', None, '5', '1', '1', '2', None, 'five', None, None, 'american', 'titan', '3', 'percy jackson', '2666', '2', 'robert langdon', 'olive kitteridge', None, '1', '1']\n",
            "book title is 1\n"
          ]
        },
        {
          "data": {
            "application/vnd.jupyter.widget-view+json": {
              "model_id": "be8c41f786da44d6ad4fd36cb9a42059",
              "version_major": 2,
              "version_minor": 0
            },
            "text/plain": [
              "Batches:   0%|          | 0/1 [00:00<?, ?it/s]"
            ]
          },
          "metadata": {},
          "output_type": "display_data"
        },
        {
          "data": {
            "application/vnd.jupyter.widget-view+json": {
              "model_id": "6098c186482f4405929df46ff4eaa98a",
              "version_major": 2,
              "version_minor": 0
            },
            "text/plain": [
              "Batches:   0%|          | 0/1 [00:00<?, ?it/s]"
            ]
          },
          "metadata": {},
          "output_type": "display_data"
        },
        {
          "name": "stdout",
          "output_type": "stream",
          "text": [
            "ExtractedAnswer(query='Who is the author of me before you (me before you, #1)?', score=0.6821052432060242, data='Giacomo Leopardi', document=Document(id=48eb59a7ddf02190e2da31a36a83e22189b0595bc280eb603ae9f4ea74c47f36, content: 'Title: Opere Di Giacomo Leopardi, Vol. 1 (Classic Reprint);\n",
            "Writer/Author: Giacomo Leopardi;\n",
            "Topic: ...', meta: {'title': 'Opere Di Giacomo Leopardi, Vol. 1 (Classic Reprint)', 'authors': 'Giacomo Leopardi', 'publisher': 'Forgotten Books', 'publishedDate': '2017-10-16', 'industryIdentifiers': \"{'type': 'ISBN_10', 'identifier': '0265393299'}, {'type': 'ISBN_13', 'identifier': '9780265393291'}\", 'readingModes': {'text': False, 'image': False}, 'pageCount': 366, 'printType': 'BOOK', 'categories': 'Poetry', 'maturityRating': 'NOT_MATURE', 'allowAnonLogging': False, 'contentVersion': 'preview-1.0.0', 'panelizationSummary': {'containsEpubBubbles': False, 'containsImageBubbles': False}, 'imageLinks': {'smallThumbnail': 'http://books.google.com/books/content?id=vcA9swEACAAJ&printsec=frontcover&img=1&zoom=5&source=gbs_api', 'thumbnail': 'http://books.google.com/books/content?id=vcA9swEACAAJ&printsec=frontcover&img=1&zoom=1&source=gbs_api'}, 'language': 'it', 'previewLink': 'http://books.google.it/books?id=vcA9swEACAAJ&dq=intitle:1&hl=&cd=1&source=gbs_api', 'infoLink': 'http://books.google.it/books?id=vcA9swEACAAJ&dq=intitle:1&hl=&source=gbs_api', 'canonicalVolumeLink': 'https://books.google.com/books/about/Opere_Di_Giacomo_Leopardi_Vol_1_Classic.html?hl=&id=vcA9swEACAAJ', 'subtitle': 'Not available', 'averageRating': 'Not available', 'ratingsCount': 'Not available', 'seriesInfo': 'Not available'}, score: 0.22213942527676334), context=None, document_offset=ExtractedAnswer.Span(start=75, end=91), context_offset=None, meta={}) \n",
            "\n",
            "ExtractedAnswer(query='Who is the author of me before you (me before you, #1)?', score=0.5493059754371643, data='Opere Di Giacomo Leopardi', document=Document(id=48eb59a7ddf02190e2da31a36a83e22189b0595bc280eb603ae9f4ea74c47f36, content: 'Title: Opere Di Giacomo Leopardi, Vol. 1 (Classic Reprint);\n",
            "Writer/Author: Giacomo Leopardi;\n",
            "Topic: ...', meta: {'title': 'Opere Di Giacomo Leopardi, Vol. 1 (Classic Reprint)', 'authors': 'Giacomo Leopardi', 'publisher': 'Forgotten Books', 'publishedDate': '2017-10-16', 'industryIdentifiers': \"{'type': 'ISBN_10', 'identifier': '0265393299'}, {'type': 'ISBN_13', 'identifier': '9780265393291'}\", 'readingModes': {'text': False, 'image': False}, 'pageCount': 366, 'printType': 'BOOK', 'categories': 'Poetry', 'maturityRating': 'NOT_MATURE', 'allowAnonLogging': False, 'contentVersion': 'preview-1.0.0', 'panelizationSummary': {'containsEpubBubbles': False, 'containsImageBubbles': False}, 'imageLinks': {'smallThumbnail': 'http://books.google.com/books/content?id=vcA9swEACAAJ&printsec=frontcover&img=1&zoom=5&source=gbs_api', 'thumbnail': 'http://books.google.com/books/content?id=vcA9swEACAAJ&printsec=frontcover&img=1&zoom=1&source=gbs_api'}, 'language': 'it', 'previewLink': 'http://books.google.it/books?id=vcA9swEACAAJ&dq=intitle:1&hl=&cd=1&source=gbs_api', 'infoLink': 'http://books.google.it/books?id=vcA9swEACAAJ&dq=intitle:1&hl=&source=gbs_api', 'canonicalVolumeLink': 'https://books.google.com/books/about/Opere_Di_Giacomo_Leopardi_Vol_1_Classic.html?hl=&id=vcA9swEACAAJ', 'subtitle': 'Not available', 'averageRating': 'Not available', 'ratingsCount': 'Not available', 'seriesInfo': 'Not available'}, score: 0.22213942527676334), context=None, document_offset=ExtractedAnswer.Span(start=7, end=32), context_offset=None, meta={}) \n",
            "\n",
            "ExtractedAnswer(query='Who is the author of me before you (me before you, #1)?', score=0.4772149324417114, data='Michele Ruggiero', document=Document(id=48eb59a7ddf02190e2da31a36a83e22189b0595bc280eb603ae9f4ea74c47f36, content: 'Title: Opere Di Giacomo Leopardi, Vol. 1 (Classic Reprint);\n",
            "Writer/Author: Giacomo Leopardi;\n",
            "Topic: ...', meta: {'title': 'Opere Di Giacomo Leopardi, Vol. 1 (Classic Reprint)', 'authors': 'Giacomo Leopardi', 'publisher': 'Forgotten Books', 'publishedDate': '2017-10-16', 'industryIdentifiers': \"{'type': 'ISBN_10', 'identifier': '0265393299'}, {'type': 'ISBN_13', 'identifier': '9780265393291'}\", 'readingModes': {'text': False, 'image': False}, 'pageCount': 366, 'printType': 'BOOK', 'categories': 'Poetry', 'maturityRating': 'NOT_MATURE', 'allowAnonLogging': False, 'contentVersion': 'preview-1.0.0', 'panelizationSummary': {'containsEpubBubbles': False, 'containsImageBubbles': False}, 'imageLinks': {'smallThumbnail': 'http://books.google.com/books/content?id=vcA9swEACAAJ&printsec=frontcover&img=1&zoom=5&source=gbs_api', 'thumbnail': 'http://books.google.com/books/content?id=vcA9swEACAAJ&printsec=frontcover&img=1&zoom=1&source=gbs_api'}, 'language': 'it', 'previewLink': 'http://books.google.it/books?id=vcA9swEACAAJ&dq=intitle:1&hl=&cd=1&source=gbs_api', 'infoLink': 'http://books.google.it/books?id=vcA9swEACAAJ&dq=intitle:1&hl=&source=gbs_api', 'canonicalVolumeLink': 'https://books.google.com/books/about/Opere_Di_Giacomo_Leopardi_Vol_1_Classic.html?hl=&id=vcA9swEACAAJ', 'subtitle': 'Not available', 'averageRating': 'Not available', 'ratingsCount': 'Not available', 'seriesInfo': 'Not available'}, score: 0.22213942527676334), context=None, document_offset=ExtractedAnswer.Span(start=822, end=838), context_offset=None, meta={}) \n",
            "\n",
            "ExtractedAnswer(query='Who is the author of me before you (me before you, #1)?', score=0.07490112473879058, data=None, document=None, context=None, document_offset=None, context_offset=None, meta={}) \n",
            "\n",
            "['martian', None, None, 'kevin', None, 'eragon', None, '5', '1', '1', '2', None, 'five', None, None, 'american', 'titan', '3', 'percy jackson', '2666', '2', 'robert langdon', 'olive kitteridge', None, '1', '1', None]\n",
            "book title is None\n"
          ]
        },
        {
          "data": {
            "application/vnd.jupyter.widget-view+json": {
              "model_id": "71063fb178f546659d42589a43a31910",
              "version_major": 2,
              "version_minor": 0
            },
            "text/plain": [
              "Batches:   0%|          | 0/1 [00:00<?, ?it/s]"
            ]
          },
          "metadata": {},
          "output_type": "display_data"
        },
        {
          "data": {
            "application/vnd.jupyter.widget-view+json": {
              "model_id": "ebc30c805c7040e184c2f81005ef6c19",
              "version_major": 2,
              "version_minor": 0
            },
            "text/plain": [
              "Batches:   0%|          | 0/1 [00:00<?, ?it/s]"
            ]
          },
          "metadata": {},
          "output_type": "display_data"
        },
        {
          "name": "stdout",
          "output_type": "stream",
          "text": [
            "ExtractedAnswer(query='Who is the author of the tales of beedle the bard?', score=0.4811408519744873, data='Writer/Author: Агата Кристи', document=Document(id=e7589d9912517481ba7ca4862f0c2cedfa4c8a9fc11b30265e1d8c95fa8b4cdf, content: 'Title: And Then There Were None / И никого не стало. Книга для чтения на английском языке;\n",
            "Writer/Au...', meta: {'title': 'And Then There Were None / И никого не стало. Книга для чтения на английском языке', 'authors': 'Агата Кристи', 'publisher': 'Litres', 'publishedDate': '2018-10-09', 'industryIdentifiers': \"{'type': 'ISBN_13', 'identifier': '9785041375676'}, {'type': 'ISBN_10', 'identifier': '5041375674'}\", 'readingModes': {'text': True, 'image': True}, 'pageCount': 469, 'printType': 'BOOK', 'categories': 'Foreign Language Study', 'maturityRating': 'NOT_MATURE', 'allowAnonLogging': True, 'contentVersion': '1.6.6.0.preview.3', 'panelizationSummary': {'containsEpubBubbles': False, 'containsImageBubbles': False}, 'imageLinks': {'smallThumbnail': 'http://books.google.com/books/content?id=qS9yDwAAQBAJ&printsec=frontcover&img=1&zoom=5&edge=curl&source=gbs_api', 'thumbnail': 'http://books.google.com/books/content?id=qS9yDwAAQBAJ&printsec=frontcover&img=1&zoom=1&edge=curl&source=gbs_api'}, 'language': 'en', 'previewLink': 'http://books.google.it/books?id=qS9yDwAAQBAJ&printsec=frontcover&dq=intitle:None&hl=&cd=1&source=gbs_api', 'infoLink': 'http://books.google.it/books?id=qS9yDwAAQBAJ&dq=intitle:None&hl=&source=gbs_api', 'canonicalVolumeLink': 'https://books.google.com/books/about/And_Then_There_Were_None_%D0%98_%D0%BD%D0%B8%D0%BA%D0%BE%D0%B3%D0%BE.html?hl=&id=qS9yDwAAQBAJ', 'subtitle': 'Not available', 'averageRating': 'Not available', 'ratingsCount': 'Not available', 'seriesInfo': 'Not available'}, score: 0.09938598728201817), context=None, document_offset=ExtractedAnswer.Span(start=91, end=118), context_offset=None, meta={}) \n",
            "\n",
            "ExtractedAnswer(query='Who is the author of the tales of beedle the bard?', score=0.3589017987251282, data='Foreign Language Study;\\nNumber of pages: 469;\\nPublished by: Litres', document=Document(id=e7589d9912517481ba7ca4862f0c2cedfa4c8a9fc11b30265e1d8c95fa8b4cdf, content: 'Title: And Then There Were None / И никого не стало. Книга для чтения на английском языке;\n",
            "Writer/Au...', meta: {'title': 'And Then There Were None / И никого не стало. Книга для чтения на английском языке', 'authors': 'Агата Кристи', 'publisher': 'Litres', 'publishedDate': '2018-10-09', 'industryIdentifiers': \"{'type': 'ISBN_13', 'identifier': '9785041375676'}, {'type': 'ISBN_10', 'identifier': '5041375674'}\", 'readingModes': {'text': True, 'image': True}, 'pageCount': 469, 'printType': 'BOOK', 'categories': 'Foreign Language Study', 'maturityRating': 'NOT_MATURE', 'allowAnonLogging': True, 'contentVersion': '1.6.6.0.preview.3', 'panelizationSummary': {'containsEpubBubbles': False, 'containsImageBubbles': False}, 'imageLinks': {'smallThumbnail': 'http://books.google.com/books/content?id=qS9yDwAAQBAJ&printsec=frontcover&img=1&zoom=5&edge=curl&source=gbs_api', 'thumbnail': 'http://books.google.com/books/content?id=qS9yDwAAQBAJ&printsec=frontcover&img=1&zoom=1&edge=curl&source=gbs_api'}, 'language': 'en', 'previewLink': 'http://books.google.it/books?id=qS9yDwAAQBAJ&printsec=frontcover&dq=intitle:None&hl=&cd=1&source=gbs_api', 'infoLink': 'http://books.google.it/books?id=qS9yDwAAQBAJ&dq=intitle:None&hl=&source=gbs_api', 'canonicalVolumeLink': 'https://books.google.com/books/about/And_Then_There_Were_None_%D0%98_%D0%BD%D0%B8%D0%BA%D0%BE%D0%B3%D0%BE.html?hl=&id=qS9yDwAAQBAJ', 'subtitle': 'Not available', 'averageRating': 'Not available', 'ratingsCount': 'Not available', 'seriesInfo': 'Not available'}, score: 0.09938598728201817), context=None, document_offset=ExtractedAnswer.Span(start=498, end=564), context_offset=None, meta={}) \n",
            "\n",
            "ExtractedAnswer(query='Who is the author of the tales of beedle the bard?', score=0.3165622651576996, data='2018-10-09', document=Document(id=e7589d9912517481ba7ca4862f0c2cedfa4c8a9fc11b30265e1d8c95fa8b4cdf, content: 'Title: And Then There Were None / И никого не стало. Книга для чтения на английском языке;\n",
            "Writer/Au...', meta: {'title': 'And Then There Were None / И никого не стало. Книга для чтения на английском языке', 'authors': 'Агата Кристи', 'publisher': 'Litres', 'publishedDate': '2018-10-09', 'industryIdentifiers': \"{'type': 'ISBN_13', 'identifier': '9785041375676'}, {'type': 'ISBN_10', 'identifier': '5041375674'}\", 'readingModes': {'text': True, 'image': True}, 'pageCount': 469, 'printType': 'BOOK', 'categories': 'Foreign Language Study', 'maturityRating': 'NOT_MATURE', 'allowAnonLogging': True, 'contentVersion': '1.6.6.0.preview.3', 'panelizationSummary': {'containsEpubBubbles': False, 'containsImageBubbles': False}, 'imageLinks': {'smallThumbnail': 'http://books.google.com/books/content?id=qS9yDwAAQBAJ&printsec=frontcover&img=1&zoom=5&edge=curl&source=gbs_api', 'thumbnail': 'http://books.google.com/books/content?id=qS9yDwAAQBAJ&printsec=frontcover&img=1&zoom=1&edge=curl&source=gbs_api'}, 'language': 'en', 'previewLink': 'http://books.google.it/books?id=qS9yDwAAQBAJ&printsec=frontcover&dq=intitle:None&hl=&cd=1&source=gbs_api', 'infoLink': 'http://books.google.it/books?id=qS9yDwAAQBAJ&dq=intitle:None&hl=&source=gbs_api', 'canonicalVolumeLink': 'https://books.google.com/books/about/And_Then_There_Were_None_%D0%98_%D0%BD%D0%B8%D0%BA%D0%BE%D0%B3%D0%BE.html?hl=&id=qS9yDwAAQBAJ', 'subtitle': 'Not available', 'averageRating': 'Not available', 'ratingsCount': 'Not available', 'seriesInfo': 'Not available'}, score: 0.09938598728201817), context=None, document_offset=ExtractedAnswer.Span(start=578, end=588), context_offset=None, meta={}) \n",
            "\n",
            "ExtractedAnswer(query='Who is the author of the tales of beedle the bard?', score=0.22733850020114163, data=None, document=None, context=None, document_offset=None, context_offset=None, meta={}) \n",
            "\n",
            "['martian', None, None, 'kevin', None, 'eragon', None, '5', '1', '1', '2', None, 'five', None, None, 'american', 'titan', '3', 'percy jackson', '2666', '2', 'robert langdon', 'olive kitteridge', None, '1', '1', None, 'tehran']\n",
            "book title is tehran\n"
          ]
        },
        {
          "data": {
            "application/vnd.jupyter.widget-view+json": {
              "model_id": "2c7a43bd7f2d44918ba257783b5e1952",
              "version_major": 2,
              "version_minor": 0
            },
            "text/plain": [
              "Batches:   0%|          | 0/1 [00:00<?, ?it/s]"
            ]
          },
          "metadata": {},
          "output_type": "display_data"
        },
        {
          "data": {
            "application/vnd.jupyter.widget-view+json": {
              "model_id": "1dd479b1b5a8409ea4770db4cdd83219",
              "version_major": 2,
              "version_minor": 0
            },
            "text/plain": [
              "Batches:   0%|          | 0/1 [00:00<?, ?it/s]"
            ]
          },
          "metadata": {},
          "output_type": "display_data"
        },
        {
          "name": "stdout",
          "output_type": "stream",
          "text": [
            "ExtractedAnswer(query='Who is the author of reading lolita in tehran: a memoir in books?', score=0.6498147249221802, data=\"Zahra 'Abdi\", document=Document(id=bbc39ba60d2b695d6ee5feda800a12e6e80d2b12b6efe3437de4ff563f41dad3, content: 'Title: A Tehran le lumache fanno rumore;\n",
            "Writer/Author: Zahra 'Abdi;\n",
            "Topic: In una frenetica Tehran ...', meta: {'title': 'A Tehran le lumache fanno rumore', 'authors': \"Zahra 'Abdi\", 'publisher': 'Francesco Brioschi Editore', 'publishedDate': '2017-10-25', 'industryIdentifiers': \"{'type': 'ISBN_13', 'identifier': '9788899612153'}, {'type': 'ISBN_10', 'identifier': '8899612153'}\", 'readingModes': {'text': True, 'image': True}, 'pageCount': 173, 'printType': 'BOOK', 'categories': 'Fiction', 'maturityRating': 'NOT_MATURE', 'allowAnonLogging': False, 'contentVersion': '1.20.13.0.preview.3', 'panelizationSummary': {'containsEpubBubbles': False, 'containsImageBubbles': False}, 'imageLinks': {'smallThumbnail': 'http://books.google.com/books/content?id=5RXdEAAAQBAJ&printsec=frontcover&img=1&zoom=5&edge=curl&source=gbs_api', 'thumbnail': 'http://books.google.com/books/content?id=5RXdEAAAQBAJ&printsec=frontcover&img=1&zoom=1&edge=curl&source=gbs_api'}, 'language': 'it', 'previewLink': 'http://books.google.it/books?id=5RXdEAAAQBAJ&printsec=frontcover&dq=intitle:tehran&hl=&cd=1&source=gbs_api', 'infoLink': 'https://play.google.com/store/books/details?id=5RXdEAAAQBAJ&source=gbs_api', 'canonicalVolumeLink': 'https://play.google.com/store/books/details?id=5RXdEAAAQBAJ', 'subtitle': 'Not available', 'averageRating': 'Not available', 'ratingsCount': 'Not available', 'seriesInfo': 'Not available'}, score: 0.4160856174688484), context=None, document_offset=ExtractedAnswer.Span(start=56, end=67), context_offset=None, meta={}) \n",
            "\n",
            "ExtractedAnswer(query='Who is the author of reading lolita in tehran: a memoir in books?', score=0.5708982944488525, data='Francesco Brioschi', document=Document(id=bbc39ba60d2b695d6ee5feda800a12e6e80d2b12b6efe3437de4ff563f41dad3, content: 'Title: A Tehran le lumache fanno rumore;\n",
            "Writer/Author: Zahra 'Abdi;\n",
            "Topic: In una frenetica Tehran ...', meta: {'title': 'A Tehran le lumache fanno rumore', 'authors': \"Zahra 'Abdi\", 'publisher': 'Francesco Brioschi Editore', 'publishedDate': '2017-10-25', 'industryIdentifiers': \"{'type': 'ISBN_13', 'identifier': '9788899612153'}, {'type': 'ISBN_10', 'identifier': '8899612153'}\", 'readingModes': {'text': True, 'image': True}, 'pageCount': 173, 'printType': 'BOOK', 'categories': 'Fiction', 'maturityRating': 'NOT_MATURE', 'allowAnonLogging': False, 'contentVersion': '1.20.13.0.preview.3', 'panelizationSummary': {'containsEpubBubbles': False, 'containsImageBubbles': False}, 'imageLinks': {'smallThumbnail': 'http://books.google.com/books/content?id=5RXdEAAAQBAJ&printsec=frontcover&img=1&zoom=5&edge=curl&source=gbs_api', 'thumbnail': 'http://books.google.com/books/content?id=5RXdEAAAQBAJ&printsec=frontcover&img=1&zoom=1&edge=curl&source=gbs_api'}, 'language': 'it', 'previewLink': 'http://books.google.it/books?id=5RXdEAAAQBAJ&printsec=frontcover&dq=intitle:tehran&hl=&cd=1&source=gbs_api', 'infoLink': 'https://play.google.com/store/books/details?id=5RXdEAAAQBAJ&source=gbs_api', 'canonicalVolumeLink': 'https://play.google.com/store/books/details?id=5RXdEAAAQBAJ', 'subtitle': 'Not available', 'averageRating': 'Not available', 'ratingsCount': 'Not available', 'seriesInfo': 'Not available'}, score: 0.4160856174688484), context=None, document_offset=ExtractedAnswer.Span(start=1061, end=1079), context_offset=None, meta={}) \n",
            "\n",
            "ExtractedAnswer(query='Who is the author of reading lolita in tehran: a memoir in books?', score=0.44941622018814087, data='l’autrice', document=Document(id=bbc39ba60d2b695d6ee5feda800a12e6e80d2b12b6efe3437de4ff563f41dad3, content: 'Title: A Tehran le lumache fanno rumore;\n",
            "Writer/Author: Zahra 'Abdi;\n",
            "Topic: In una frenetica Tehran ...', meta: {'title': 'A Tehran le lumache fanno rumore', 'authors': \"Zahra 'Abdi\", 'publisher': 'Francesco Brioschi Editore', 'publishedDate': '2017-10-25', 'industryIdentifiers': \"{'type': 'ISBN_13', 'identifier': '9788899612153'}, {'type': 'ISBN_10', 'identifier': '8899612153'}\", 'readingModes': {'text': True, 'image': True}, 'pageCount': 173, 'printType': 'BOOK', 'categories': 'Fiction', 'maturityRating': 'NOT_MATURE', 'allowAnonLogging': False, 'contentVersion': '1.20.13.0.preview.3', 'panelizationSummary': {'containsEpubBubbles': False, 'containsImageBubbles': False}, 'imageLinks': {'smallThumbnail': 'http://books.google.com/books/content?id=5RXdEAAAQBAJ&printsec=frontcover&img=1&zoom=5&edge=curl&source=gbs_api', 'thumbnail': 'http://books.google.com/books/content?id=5RXdEAAAQBAJ&printsec=frontcover&img=1&zoom=1&edge=curl&source=gbs_api'}, 'language': 'it', 'previewLink': 'http://books.google.it/books?id=5RXdEAAAQBAJ&printsec=frontcover&dq=intitle:tehran&hl=&cd=1&source=gbs_api', 'infoLink': 'https://play.google.com/store/books/details?id=5RXdEAAAQBAJ&source=gbs_api', 'canonicalVolumeLink': 'https://play.google.com/store/books/details?id=5RXdEAAAQBAJ', 'subtitle': 'Not available', 'averageRating': 'Not available', 'ratingsCount': 'Not available', 'seriesInfo': 'Not available'}, score: 0.4160856174688484), context=None, document_offset=ExtractedAnswer.Span(start=823, end=832), context_offset=None, meta={}) \n",
            "\n",
            "ExtractedAnswer(query='Who is the author of reading lolita in tehran: a memoir in books?', score=0.08273352606823804, data=None, document=None, context=None, document_offset=None, context_offset=None, meta={}) \n",
            "\n",
            "['martian', None, None, 'kevin', None, 'eragon', None, '5', '1', '1', '2', None, 'five', None, None, 'american', 'titan', '3', 'percy jackson', '2666', '2', 'robert langdon', 'olive kitteridge', None, '1', '1', None, 'tehran', 'america']\n",
            "book title is america\n"
          ]
        },
        {
          "data": {
            "application/vnd.jupyter.widget-view+json": {
              "model_id": "5a425f0ce9a04b34938abc2063d0a853",
              "version_major": 2,
              "version_minor": 0
            },
            "text/plain": [
              "Batches:   0%|          | 0/1 [00:00<?, ?it/s]"
            ]
          },
          "metadata": {},
          "output_type": "display_data"
        },
        {
          "data": {
            "application/vnd.jupyter.widget-view+json": {
              "model_id": "c03289ed53ef48879d9ea8d7e8f5b47f",
              "version_major": 2,
              "version_minor": 0
            },
            "text/plain": [
              "Batches:   0%|          | 0/1 [00:00<?, ?it/s]"
            ]
          },
          "metadata": {},
          "output_type": "display_data"
        },
        {
          "name": "stdout",
          "output_type": "stream",
          "text": [
            "ExtractedAnswer(query='Who is the author of the plot against america?', score=0.7265326380729675, data='Beppe Severgnini', document=Document(id=987c66195a250f6d6acbcf30cd36cfa25a7aa99e01856674a166c5f27fe7611d, content: 'Title: Un italiano in America;\n",
            "Writer/Author: Beppe Severgnini;\n",
            "Topic: È vero che gli americani impa...', meta: {'title': 'Un italiano in America', 'authors': 'Beppe Severgnini', 'publisher': 'Bur', 'publishedDate': '2011-05-31', 'industryIdentifiers': \"{'type': 'ISBN_13', 'identifier': '9788858610619'}, {'type': 'ISBN_10', 'identifier': '885861061X'}\", 'readingModes': {'text': True, 'image': True}, 'pageCount': 221, 'printType': 'BOOK', 'categories': 'Humor', 'averageRating': 5, 'ratingsCount': 3, 'maturityRating': 'NOT_MATURE', 'allowAnonLogging': True, 'contentVersion': '4.41.38.0.preview.3', 'panelizationSummary': {'containsEpubBubbles': False, 'containsImageBubbles': False}, 'imageLinks': {'smallThumbnail': 'http://books.google.com/books/content?id=hUod4lQoBUYC&printsec=frontcover&img=1&zoom=5&edge=curl&source=gbs_api', 'thumbnail': 'http://books.google.com/books/content?id=hUod4lQoBUYC&printsec=frontcover&img=1&zoom=1&edge=curl&source=gbs_api'}, 'language': 'it', 'previewLink': 'http://books.google.it/books?id=hUod4lQoBUYC&printsec=frontcover&dq=intitle:america&hl=&cd=1&source=gbs_api', 'infoLink': 'https://play.google.com/store/books/details?id=hUod4lQoBUYC&source=gbs_api', 'canonicalVolumeLink': 'https://play.google.com/store/books/details?id=hUod4lQoBUYC', 'subtitle': 'Not available', 'seriesInfo': 'Not available'}, score: 0.26656574405846795), context=None, document_offset=ExtractedAnswer.Span(start=46, end=62), context_offset=None, meta={}) \n",
            "\n",
            "ExtractedAnswer(query='Who is the author of the plot against america?', score=0.5662639141082764, data='Beppe Severgnini', document=Document(id=987c66195a250f6d6acbcf30cd36cfa25a7aa99e01856674a166c5f27fe7611d, content: 'Title: Un italiano in America;\n",
            "Writer/Author: Beppe Severgnini;\n",
            "Topic: È vero che gli americani impa...', meta: {'title': 'Un italiano in America', 'authors': 'Beppe Severgnini', 'publisher': 'Bur', 'publishedDate': '2011-05-31', 'industryIdentifiers': \"{'type': 'ISBN_13', 'identifier': '9788858610619'}, {'type': 'ISBN_10', 'identifier': '885861061X'}\", 'readingModes': {'text': True, 'image': True}, 'pageCount': 221, 'printType': 'BOOK', 'categories': 'Humor', 'averageRating': 5, 'ratingsCount': 3, 'maturityRating': 'NOT_MATURE', 'allowAnonLogging': True, 'contentVersion': '4.41.38.0.preview.3', 'panelizationSummary': {'containsEpubBubbles': False, 'containsImageBubbles': False}, 'imageLinks': {'smallThumbnail': 'http://books.google.com/books/content?id=hUod4lQoBUYC&printsec=frontcover&img=1&zoom=5&edge=curl&source=gbs_api', 'thumbnail': 'http://books.google.com/books/content?id=hUod4lQoBUYC&printsec=frontcover&img=1&zoom=1&edge=curl&source=gbs_api'}, 'language': 'it', 'previewLink': 'http://books.google.it/books?id=hUod4lQoBUYC&printsec=frontcover&dq=intitle:america&hl=&cd=1&source=gbs_api', 'infoLink': 'https://play.google.com/store/books/details?id=hUod4lQoBUYC&source=gbs_api', 'canonicalVolumeLink': 'https://play.google.com/store/books/details?id=hUod4lQoBUYC', 'subtitle': 'Not available', 'seriesInfo': 'Not available'}, score: 0.26656574405846795), context=None, document_offset=ExtractedAnswer.Span(start=234, end=250), context_offset=None, meta={}) \n",
            "\n",
            "ExtractedAnswer(query='Who is the author of the plot against america?', score=0.11861266318136643, data=None, document=None, context=None, document_offset=None, context_offset=None, meta={}) \n",
            "\n",
            "['martian', None, None, 'kevin', None, 'eragon', None, '5', '1', '1', '2', None, 'five', None, None, 'american', 'titan', '3', 'percy jackson', '2666', '2', 'robert langdon', 'olive kitteridge', None, '1', '1', None, 'tehran', 'america', None]\n",
            "book title is None\n"
          ]
        },
        {
          "data": {
            "application/vnd.jupyter.widget-view+json": {
              "model_id": "efe528abbe794b73a1b9177a04302e1f",
              "version_major": 2,
              "version_minor": 0
            },
            "text/plain": [
              "Batches:   0%|          | 0/1 [00:00<?, ?it/s]"
            ]
          },
          "metadata": {},
          "output_type": "display_data"
        },
        {
          "data": {
            "application/vnd.jupyter.widget-view+json": {
              "model_id": "b306bdf4b3734239aac398407205a3b3",
              "version_major": 2,
              "version_minor": 0
            },
            "text/plain": [
              "Batches:   0%|          | 0/1 [00:00<?, ?it/s]"
            ]
          },
          "metadata": {},
          "output_type": "display_data"
        },
        {
          "name": "stdout",
          "output_type": "stream",
          "text": [
            "ExtractedAnswer(query='Who is the author of the ocean at the end of the lane?', score=0.45145517587661743, data='Агата Кристи', document=Document(id=e7589d9912517481ba7ca4862f0c2cedfa4c8a9fc11b30265e1d8c95fa8b4cdf, content: 'Title: And Then There Were None / И никого не стало. Книга для чтения на английском языке;\n",
            "Writer/Au...', meta: {'title': 'And Then There Were None / И никого не стало. Книга для чтения на английском языке', 'authors': 'Агата Кристи', 'publisher': 'Litres', 'publishedDate': '2018-10-09', 'industryIdentifiers': \"{'type': 'ISBN_13', 'identifier': '9785041375676'}, {'type': 'ISBN_10', 'identifier': '5041375674'}\", 'readingModes': {'text': True, 'image': True}, 'pageCount': 469, 'printType': 'BOOK', 'categories': 'Foreign Language Study', 'maturityRating': 'NOT_MATURE', 'allowAnonLogging': True, 'contentVersion': '1.6.6.0.preview.3', 'panelizationSummary': {'containsEpubBubbles': False, 'containsImageBubbles': False}, 'imageLinks': {'smallThumbnail': 'http://books.google.com/books/content?id=qS9yDwAAQBAJ&printsec=frontcover&img=1&zoom=5&edge=curl&source=gbs_api', 'thumbnail': 'http://books.google.com/books/content?id=qS9yDwAAQBAJ&printsec=frontcover&img=1&zoom=1&edge=curl&source=gbs_api'}, 'language': 'en', 'previewLink': 'http://books.google.it/books?id=qS9yDwAAQBAJ&printsec=frontcover&dq=intitle:None&hl=&cd=1&source=gbs_api', 'infoLink': 'http://books.google.it/books?id=qS9yDwAAQBAJ&dq=intitle:None&hl=&source=gbs_api', 'canonicalVolumeLink': 'https://books.google.com/books/about/And_Then_There_Were_None_%D0%98_%D0%BD%D0%B8%D0%BA%D0%BE%D0%B3%D0%BE.html?hl=&id=qS9yDwAAQBAJ', 'subtitle': 'Not available', 'averageRating': 'Not available', 'ratingsCount': 'Not available', 'seriesInfo': 'Not available'}, score: 0.04317438161413662), context=None, document_offset=ExtractedAnswer.Span(start=106, end=118), context_offset=None, meta={}) \n",
            "\n",
            "ExtractedAnswer(query='Who is the author of the ocean at the end of the lane?', score=0.325003057718277, data='Foreign Language Study;\\nNumber of pages: 469;\\nPublished by: Litres', document=Document(id=e7589d9912517481ba7ca4862f0c2cedfa4c8a9fc11b30265e1d8c95fa8b4cdf, content: 'Title: And Then There Were None / И никого не стало. Книга для чтения на английском языке;\n",
            "Writer/Au...', meta: {'title': 'And Then There Were None / И никого не стало. Книга для чтения на английском языке', 'authors': 'Агата Кристи', 'publisher': 'Litres', 'publishedDate': '2018-10-09', 'industryIdentifiers': \"{'type': 'ISBN_13', 'identifier': '9785041375676'}, {'type': 'ISBN_10', 'identifier': '5041375674'}\", 'readingModes': {'text': True, 'image': True}, 'pageCount': 469, 'printType': 'BOOK', 'categories': 'Foreign Language Study', 'maturityRating': 'NOT_MATURE', 'allowAnonLogging': True, 'contentVersion': '1.6.6.0.preview.3', 'panelizationSummary': {'containsEpubBubbles': False, 'containsImageBubbles': False}, 'imageLinks': {'smallThumbnail': 'http://books.google.com/books/content?id=qS9yDwAAQBAJ&printsec=frontcover&img=1&zoom=5&edge=curl&source=gbs_api', 'thumbnail': 'http://books.google.com/books/content?id=qS9yDwAAQBAJ&printsec=frontcover&img=1&zoom=1&edge=curl&source=gbs_api'}, 'language': 'en', 'previewLink': 'http://books.google.it/books?id=qS9yDwAAQBAJ&printsec=frontcover&dq=intitle:None&hl=&cd=1&source=gbs_api', 'infoLink': 'http://books.google.it/books?id=qS9yDwAAQBAJ&dq=intitle:None&hl=&source=gbs_api', 'canonicalVolumeLink': 'https://books.google.com/books/about/And_Then_There_Were_None_%D0%98_%D0%BD%D0%B8%D0%BA%D0%BE%D0%B3%D0%BE.html?hl=&id=qS9yDwAAQBAJ', 'subtitle': 'Not available', 'averageRating': 'Not available', 'ratingsCount': 'Not available', 'seriesInfo': 'Not available'}, score: 0.04317438161413662), context=None, document_offset=ExtractedAnswer.Span(start=498, end=564), context_offset=None, meta={}) \n",
            "\n",
            "ExtractedAnswer(query='Who is the author of the ocean at the end of the lane?', score=0.290788859128952, data='2018-10-09', document=Document(id=e7589d9912517481ba7ca4862f0c2cedfa4c8a9fc11b30265e1d8c95fa8b4cdf, content: 'Title: And Then There Were None / И никого не стало. Книга для чтения на английском языке;\n",
            "Writer/Au...', meta: {'title': 'And Then There Were None / И никого не стало. Книга для чтения на английском языке', 'authors': 'Агата Кристи', 'publisher': 'Litres', 'publishedDate': '2018-10-09', 'industryIdentifiers': \"{'type': 'ISBN_13', 'identifier': '9785041375676'}, {'type': 'ISBN_10', 'identifier': '5041375674'}\", 'readingModes': {'text': True, 'image': True}, 'pageCount': 469, 'printType': 'BOOK', 'categories': 'Foreign Language Study', 'maturityRating': 'NOT_MATURE', 'allowAnonLogging': True, 'contentVersion': '1.6.6.0.preview.3', 'panelizationSummary': {'containsEpubBubbles': False, 'containsImageBubbles': False}, 'imageLinks': {'smallThumbnail': 'http://books.google.com/books/content?id=qS9yDwAAQBAJ&printsec=frontcover&img=1&zoom=5&edge=curl&source=gbs_api', 'thumbnail': 'http://books.google.com/books/content?id=qS9yDwAAQBAJ&printsec=frontcover&img=1&zoom=1&edge=curl&source=gbs_api'}, 'language': 'en', 'previewLink': 'http://books.google.it/books?id=qS9yDwAAQBAJ&printsec=frontcover&dq=intitle:None&hl=&cd=1&source=gbs_api', 'infoLink': 'http://books.google.it/books?id=qS9yDwAAQBAJ&dq=intitle:None&hl=&source=gbs_api', 'canonicalVolumeLink': 'https://books.google.com/books/about/And_Then_There_Were_None_%D0%98_%D0%BD%D0%B8%D0%BA%D0%BE%D0%B3%D0%BE.html?hl=&id=qS9yDwAAQBAJ', 'subtitle': 'Not available', 'averageRating': 'Not available', 'ratingsCount': 'Not available', 'seriesInfo': 'Not available'}, score: 0.04317438161413662), context=None, document_offset=ExtractedAnswer.Span(start=578, end=588), context_offset=None, meta={}) \n",
            "\n",
            "ExtractedAnswer(query='Who is the author of the ocean at the end of the lane?', score=0.2625968283047509, data=None, document=None, context=None, document_offset=None, context_offset=None, meta={}) \n",
            "\n",
            "['martian', None, None, 'kevin', None, 'eragon', None, '5', '1', '1', '2', None, 'five', None, None, 'american', 'titan', '3', 'percy jackson', '2666', '2', 'robert langdon', 'olive kitteridge', None, '1', '1', None, 'tehran', 'america', None, 'wolf hall']\n",
            "book title is wolf hall\n"
          ]
        },
        {
          "data": {
            "application/vnd.jupyter.widget-view+json": {
              "model_id": "42039b337b3e4659a1df8b7af4612293",
              "version_major": 2,
              "version_minor": 0
            },
            "text/plain": [
              "Batches:   0%|          | 0/1 [00:00<?, ?it/s]"
            ]
          },
          "metadata": {},
          "output_type": "display_data"
        },
        {
          "data": {
            "application/vnd.jupyter.widget-view+json": {
              "model_id": "717e4e33c132410f912d905e41c226b4",
              "version_major": 2,
              "version_minor": 0
            },
            "text/plain": [
              "Batches:   0%|          | 0/1 [00:00<?, ?it/s]"
            ]
          },
          "metadata": {},
          "output_type": "display_data"
        },
        {
          "name": "stdout",
          "output_type": "stream",
          "text": [
            "ExtractedAnswer(query='Who is the author of wolf hall (thomas cromwell, #1)?', score=0.6885048151016235, data='Hilary Mantel', document=Document(id=613da0521ca4106af80af49ce8b21396b8f6e5b13092d7768a6c186d00f43e94, content: 'Title: Il mondo di Wolf Hall;\n",
            "Writer/Author: Hilary Mantel;\n",
            "Topic: «La vostra vita è appesa al batti...', meta: {'title': 'Il mondo di Wolf Hall', 'subtitle': 'Guida alla lettura di «Wolf Hall» e «Anna Bolena, una questione di famiglia»', 'authors': 'Hilary Mantel', 'publisher': 'Fazi Editore', 'publishedDate': '2020-10-06T00:00:00+02:00', 'industryIdentifiers': \"{'type': 'ISBN_13', 'identifier': '9788893258708'}, {'type': 'ISBN_10', 'identifier': '8893258706'}\", 'readingModes': {'text': True, 'image': True}, 'pageCount': 41, 'printType': 'BOOK', 'categories': 'Fiction', 'maturityRating': 'NOT_MATURE', 'allowAnonLogging': True, 'contentVersion': '0.1.1.0.preview.3', 'panelizationSummary': {'containsEpubBubbles': False, 'containsImageBubbles': False}, 'imageLinks': {'smallThumbnail': 'http://books.google.com/books/content?id=hocBEAAAQBAJ&printsec=frontcover&img=1&zoom=5&edge=curl&source=gbs_api', 'thumbnail': 'http://books.google.com/books/content?id=hocBEAAAQBAJ&printsec=frontcover&img=1&zoom=1&edge=curl&source=gbs_api'}, 'language': 'it', 'previewLink': 'http://books.google.it/books?id=hocBEAAAQBAJ&printsec=frontcover&dq=intitle:wolf+hall&hl=&cd=1&source=gbs_api', 'infoLink': 'https://play.google.com/store/books/details?id=hocBEAAAQBAJ&source=gbs_api', 'canonicalVolumeLink': 'https://play.google.com/store/books/details?id=hocBEAAAQBAJ', 'averageRating': 'Not available', 'ratingsCount': 'Not available', 'seriesInfo': 'Not available'}, score: 0.3705625690158544), context=None, document_offset=ExtractedAnswer.Span(start=45, end=58), context_offset=None, meta={}) \n",
            "\n",
            "ExtractedAnswer(query='Who is the author of wolf hall (thomas cromwell, #1)?', score=0.44296795129776, data='Cromwell', document=Document(id=613da0521ca4106af80af49ce8b21396b8f6e5b13092d7768a6c186d00f43e94, content: 'Title: Il mondo di Wolf Hall;\n",
            "Writer/Author: Hilary Mantel;\n",
            "Topic: «La vostra vita è appesa al batti...', meta: {'title': 'Il mondo di Wolf Hall', 'subtitle': 'Guida alla lettura di «Wolf Hall» e «Anna Bolena, una questione di famiglia»', 'authors': 'Hilary Mantel', 'publisher': 'Fazi Editore', 'publishedDate': '2020-10-06T00:00:00+02:00', 'industryIdentifiers': \"{'type': 'ISBN_13', 'identifier': '9788893258708'}, {'type': 'ISBN_10', 'identifier': '8893258706'}\", 'readingModes': {'text': True, 'image': True}, 'pageCount': 41, 'printType': 'BOOK', 'categories': 'Fiction', 'maturityRating': 'NOT_MATURE', 'allowAnonLogging': True, 'contentVersion': '0.1.1.0.preview.3', 'panelizationSummary': {'containsEpubBubbles': False, 'containsImageBubbles': False}, 'imageLinks': {'smallThumbnail': 'http://books.google.com/books/content?id=hocBEAAAQBAJ&printsec=frontcover&img=1&zoom=5&edge=curl&source=gbs_api', 'thumbnail': 'http://books.google.com/books/content?id=hocBEAAAQBAJ&printsec=frontcover&img=1&zoom=1&edge=curl&source=gbs_api'}, 'language': 'it', 'previewLink': 'http://books.google.it/books?id=hocBEAAAQBAJ&printsec=frontcover&dq=intitle:wolf+hall&hl=&cd=1&source=gbs_api', 'infoLink': 'https://play.google.com/store/books/details?id=hocBEAAAQBAJ&source=gbs_api', 'canonicalVolumeLink': 'https://play.google.com/store/books/details?id=hocBEAAAQBAJ', 'averageRating': 'Not available', 'ratingsCount': 'Not available', 'seriesInfo': 'Not available'}, score: 0.3705625690158544), context=None, document_offset=ExtractedAnswer.Span(start=941, end=949), context_offset=None, meta={}) \n",
            "\n",
            "ExtractedAnswer(query='Who is the author of wolf hall (thomas cromwell, #1)?', score=0.4303508400917053, data='Fazi Editore', document=Document(id=613da0521ca4106af80af49ce8b21396b8f6e5b13092d7768a6c186d00f43e94, content: 'Title: Il mondo di Wolf Hall;\n",
            "Writer/Author: Hilary Mantel;\n",
            "Topic: «La vostra vita è appesa al batti...', meta: {'title': 'Il mondo di Wolf Hall', 'subtitle': 'Guida alla lettura di «Wolf Hall» e «Anna Bolena, una questione di famiglia»', 'authors': 'Hilary Mantel', 'publisher': 'Fazi Editore', 'publishedDate': '2020-10-06T00:00:00+02:00', 'industryIdentifiers': \"{'type': 'ISBN_13', 'identifier': '9788893258708'}, {'type': 'ISBN_10', 'identifier': '8893258706'}\", 'readingModes': {'text': True, 'image': True}, 'pageCount': 41, 'printType': 'BOOK', 'categories': 'Fiction', 'maturityRating': 'NOT_MATURE', 'allowAnonLogging': True, 'contentVersion': '0.1.1.0.preview.3', 'panelizationSummary': {'containsEpubBubbles': False, 'containsImageBubbles': False}, 'imageLinks': {'smallThumbnail': 'http://books.google.com/books/content?id=hocBEAAAQBAJ&printsec=frontcover&img=1&zoom=5&edge=curl&source=gbs_api', 'thumbnail': 'http://books.google.com/books/content?id=hocBEAAAQBAJ&printsec=frontcover&img=1&zoom=1&edge=curl&source=gbs_api'}, 'language': 'it', 'previewLink': 'http://books.google.it/books?id=hocBEAAAQBAJ&printsec=frontcover&dq=intitle:wolf+hall&hl=&cd=1&source=gbs_api', 'infoLink': 'https://play.google.com/store/books/details?id=hocBEAAAQBAJ&source=gbs_api', 'canonicalVolumeLink': 'https://play.google.com/store/books/details?id=hocBEAAAQBAJ', 'averageRating': 'Not available', 'ratingsCount': 'Not available', 'seriesInfo': 'Not available'}, score: 0.3705625690158544), context=None, document_offset=ExtractedAnswer.Span(start=1159, end=1171), context_offset=None, meta={}) \n",
            "\n",
            "ExtractedAnswer(query='Who is the author of wolf hall (thomas cromwell, #1)?', score=0.09884142132573406, data=None, document=None, context=None, document_offset=None, context_offset=None, meta={}) \n",
            "\n",
            "['martian', None, None, 'kevin', None, 'eragon', None, '5', '1', '1', '2', None, 'five', None, None, 'american', 'titan', '3', 'percy jackson', '2666', '2', 'robert langdon', 'olive kitteridge', None, '1', '1', None, 'tehran', 'america', None, 'wolf hall', '1']\n",
            "book title is 1\n"
          ]
        },
        {
          "data": {
            "application/vnd.jupyter.widget-view+json": {
              "model_id": "d705942b3798443698ca50e3f02a8260",
              "version_major": 2,
              "version_minor": 0
            },
            "text/plain": [
              "Batches:   0%|          | 0/1 [00:00<?, ?it/s]"
            ]
          },
          "metadata": {},
          "output_type": "display_data"
        },
        {
          "data": {
            "application/vnd.jupyter.widget-view+json": {
              "model_id": "118568c8fa384d3991c0278ff7f56a82",
              "version_major": 2,
              "version_minor": 0
            },
            "text/plain": [
              "Batches:   0%|          | 0/1 [00:00<?, ?it/s]"
            ]
          },
          "metadata": {},
          "output_type": "display_data"
        },
        {
          "name": "stdout",
          "output_type": "stream",
          "text": [
            "ExtractedAnswer(query='Who is the author of uglies (uglies, #1)?', score=0.6733209490776062, data='Giacomo Leopardi', document=Document(id=48eb59a7ddf02190e2da31a36a83e22189b0595bc280eb603ae9f4ea74c47f36, content: 'Title: Opere Di Giacomo Leopardi, Vol. 1 (Classic Reprint);\n",
            "Writer/Author: Giacomo Leopardi;\n",
            "Topic: ...', meta: {'title': 'Opere Di Giacomo Leopardi, Vol. 1 (Classic Reprint)', 'authors': 'Giacomo Leopardi', 'publisher': 'Forgotten Books', 'publishedDate': '2017-10-16', 'industryIdentifiers': \"{'type': 'ISBN_10', 'identifier': '0265393299'}, {'type': 'ISBN_13', 'identifier': '9780265393291'}\", 'readingModes': {'text': False, 'image': False}, 'pageCount': 366, 'printType': 'BOOK', 'categories': 'Poetry', 'maturityRating': 'NOT_MATURE', 'allowAnonLogging': False, 'contentVersion': 'preview-1.0.0', 'panelizationSummary': {'containsEpubBubbles': False, 'containsImageBubbles': False}, 'imageLinks': {'smallThumbnail': 'http://books.google.com/books/content?id=vcA9swEACAAJ&printsec=frontcover&img=1&zoom=5&source=gbs_api', 'thumbnail': 'http://books.google.com/books/content?id=vcA9swEACAAJ&printsec=frontcover&img=1&zoom=1&source=gbs_api'}, 'language': 'it', 'previewLink': 'http://books.google.it/books?id=vcA9swEACAAJ&dq=intitle:1&hl=&cd=1&source=gbs_api', 'infoLink': 'http://books.google.it/books?id=vcA9swEACAAJ&dq=intitle:1&hl=&source=gbs_api', 'canonicalVolumeLink': 'https://books.google.com/books/about/Opere_Di_Giacomo_Leopardi_Vol_1_Classic.html?hl=&id=vcA9swEACAAJ', 'subtitle': 'Not available', 'averageRating': 'Not available', 'ratingsCount': 'Not available', 'seriesInfo': 'Not available'}, score: 0.13133573030692947), context=None, document_offset=ExtractedAnswer.Span(start=75, end=91), context_offset=None, meta={}) \n",
            "\n",
            "ExtractedAnswer(query='Who is the author of uglies (uglies, #1)?', score=0.5280960202217102, data='Opere Di Giacomo Leopardi', document=Document(id=48eb59a7ddf02190e2da31a36a83e22189b0595bc280eb603ae9f4ea74c47f36, content: 'Title: Opere Di Giacomo Leopardi, Vol. 1 (Classic Reprint);\n",
            "Writer/Author: Giacomo Leopardi;\n",
            "Topic: ...', meta: {'title': 'Opere Di Giacomo Leopardi, Vol. 1 (Classic Reprint)', 'authors': 'Giacomo Leopardi', 'publisher': 'Forgotten Books', 'publishedDate': '2017-10-16', 'industryIdentifiers': \"{'type': 'ISBN_10', 'identifier': '0265393299'}, {'type': 'ISBN_13', 'identifier': '9780265393291'}\", 'readingModes': {'text': False, 'image': False}, 'pageCount': 366, 'printType': 'BOOK', 'categories': 'Poetry', 'maturityRating': 'NOT_MATURE', 'allowAnonLogging': False, 'contentVersion': 'preview-1.0.0', 'panelizationSummary': {'containsEpubBubbles': False, 'containsImageBubbles': False}, 'imageLinks': {'smallThumbnail': 'http://books.google.com/books/content?id=vcA9swEACAAJ&printsec=frontcover&img=1&zoom=5&source=gbs_api', 'thumbnail': 'http://books.google.com/books/content?id=vcA9swEACAAJ&printsec=frontcover&img=1&zoom=1&source=gbs_api'}, 'language': 'it', 'previewLink': 'http://books.google.it/books?id=vcA9swEACAAJ&dq=intitle:1&hl=&cd=1&source=gbs_api', 'infoLink': 'http://books.google.it/books?id=vcA9swEACAAJ&dq=intitle:1&hl=&source=gbs_api', 'canonicalVolumeLink': 'https://books.google.com/books/about/Opere_Di_Giacomo_Leopardi_Vol_1_Classic.html?hl=&id=vcA9swEACAAJ', 'subtitle': 'Not available', 'averageRating': 'Not available', 'ratingsCount': 'Not available', 'seriesInfo': 'Not available'}, score: 0.13133573030692947), context=None, document_offset=ExtractedAnswer.Span(start=7, end=32), context_offset=None, meta={}) \n",
            "\n",
            "ExtractedAnswer(query='Who is the author of uglies (uglies, #1)?', score=0.4532938003540039, data='Poetry', document=Document(id=48eb59a7ddf02190e2da31a36a83e22189b0595bc280eb603ae9f4ea74c47f36, content: 'Title: Opere Di Giacomo Leopardi, Vol. 1 (Classic Reprint);\n",
            "Writer/Author: Giacomo Leopardi;\n",
            "Topic: ...', meta: {'title': 'Opere Di Giacomo Leopardi, Vol. 1 (Classic Reprint)', 'authors': 'Giacomo Leopardi', 'publisher': 'Forgotten Books', 'publishedDate': '2017-10-16', 'industryIdentifiers': \"{'type': 'ISBN_10', 'identifier': '0265393299'}, {'type': 'ISBN_13', 'identifier': '9780265393291'}\", 'readingModes': {'text': False, 'image': False}, 'pageCount': 366, 'printType': 'BOOK', 'categories': 'Poetry', 'maturityRating': 'NOT_MATURE', 'allowAnonLogging': False, 'contentVersion': 'preview-1.0.0', 'panelizationSummary': {'containsEpubBubbles': False, 'containsImageBubbles': False}, 'imageLinks': {'smallThumbnail': 'http://books.google.com/books/content?id=vcA9swEACAAJ&printsec=frontcover&img=1&zoom=5&source=gbs_api', 'thumbnail': 'http://books.google.com/books/content?id=vcA9swEACAAJ&printsec=frontcover&img=1&zoom=1&source=gbs_api'}, 'language': 'it', 'previewLink': 'http://books.google.it/books?id=vcA9swEACAAJ&dq=intitle:1&hl=&cd=1&source=gbs_api', 'infoLink': 'http://books.google.it/books?id=vcA9swEACAAJ&dq=intitle:1&hl=&source=gbs_api', 'canonicalVolumeLink': 'https://books.google.com/books/about/Opere_Di_Giacomo_Leopardi_Vol_1_Classic.html?hl=&id=vcA9swEACAAJ', 'subtitle': 'Not available', 'averageRating': 'Not available', 'ratingsCount': 'Not available', 'seriesInfo': 'Not available'}, score: 0.13133573030692947), context=None, document_offset=ExtractedAnswer.Span(start=1797, end=1803), context_offset=None, meta={}) \n",
            "\n",
            "ExtractedAnswer(query='Who is the author of uglies (uglies, #1)?', score=0.08428085330078681, data=None, document=None, context=None, document_offset=None, context_offset=None, meta={}) \n",
            "\n",
            "['martian', None, None, 'kevin', None, 'eragon', None, '5', '1', '1', '2', None, 'five', None, None, 'american', 'titan', '3', 'percy jackson', '2666', '2', 'robert langdon', 'olive kitteridge', None, '1', '1', None, 'tehran', 'america', None, 'wolf hall', '1', 'hush']\n",
            "book title is hush\n"
          ]
        },
        {
          "data": {
            "application/vnd.jupyter.widget-view+json": {
              "model_id": "b3ae203d7085482caf010df13b222641",
              "version_major": 2,
              "version_minor": 0
            },
            "text/plain": [
              "Batches:   0%|          | 0/1 [00:00<?, ?it/s]"
            ]
          },
          "metadata": {},
          "output_type": "display_data"
        },
        {
          "data": {
            "application/vnd.jupyter.widget-view+json": {
              "model_id": "3848ff072073497388e3632712c70488",
              "version_major": 2,
              "version_minor": 0
            },
            "text/plain": [
              "Batches:   0%|          | 0/1 [00:00<?, ?it/s]"
            ]
          },
          "metadata": {},
          "output_type": "display_data"
        },
        {
          "name": "stdout",
          "output_type": "stream",
          "text": [
            "ExtractedAnswer(query='Who is the author of hush, hush (hush, hush, #1)?', score=0.8027365207672119, data='Becca Fitzpatrick', document=Document(id=dd03f4bd0a8ba12e0686e4cfabf2a5a832b040dbdd0c6849315b5ccabedeb65f, content: 'Title: Hush, Hush;\n",
            "Writer/Author: Becca Fitzpatrick;\n",
            "Topic: Nora Grey is responsible and smart and n...', meta: {'title': 'Hush, Hush', 'authors': 'Becca Fitzpatrick', 'publisher': 'Simon and Schuster', 'publishedDate': '2012-05-22', 'industryIdentifiers': \"{'type': 'ISBN_13', 'identifier': '9781442465138'}, {'type': 'ISBN_10', 'identifier': '1442465131'}\", 'readingModes': {'text': False, 'image': False}, 'pageCount': 420, 'printType': 'BOOK', 'categories': 'Fiction', 'averageRating': 4, 'ratingsCount': 10, 'maturityRating': 'NOT_MATURE', 'allowAnonLogging': False, 'contentVersion': '0.1.1.0.preview.0', 'panelizationSummary': {'containsEpubBubbles': False, 'containsImageBubbles': False}, 'imageLinks': {'smallThumbnail': 'http://books.google.com/books/content?id=Oi3AFS3H6JYC&printsec=frontcover&img=1&zoom=5&edge=curl&source=gbs_api', 'thumbnail': 'http://books.google.com/books/content?id=Oi3AFS3H6JYC&printsec=frontcover&img=1&zoom=1&edge=curl&source=gbs_api'}, 'language': 'en', 'previewLink': 'http://books.google.it/books?id=Oi3AFS3H6JYC&printsec=frontcover&dq=intitle:hush&hl=&cd=1&source=gbs_api', 'infoLink': 'http://books.google.it/books?id=Oi3AFS3H6JYC&dq=intitle:hush&hl=&source=gbs_api', 'canonicalVolumeLink': 'https://books.google.com/books/about/Hush_Hush.html?hl=&id=Oi3AFS3H6JYC', 'subtitle': 'Not available', 'seriesInfo': 'Not available'}, score: 0.450890968549351), context=None, document_offset=ExtractedAnswer.Span(start=34, end=51), context_offset=None, meta={}) \n",
            "\n",
            "ExtractedAnswer(query='Who is the author of hush, hush (hush, hush, #1)?', score=0.19726347923278809, data=None, document=None, context=None, document_offset=None, context_offset=None, meta={}) \n",
            "\n",
            "['martian', None, None, 'kevin', None, 'eragon', None, '5', '1', '1', '2', None, 'five', None, None, 'american', 'titan', '3', 'percy jackson', '2666', '2', 'robert langdon', 'olive kitteridge', None, '1', '1', None, 'tehran', 'america', None, 'wolf hall', '1', 'hush', None]\n",
            "book title is None\n"
          ]
        },
        {
          "data": {
            "application/vnd.jupyter.widget-view+json": {
              "model_id": "c9eb92dbd6864bae877c45a012d29a16",
              "version_major": 2,
              "version_minor": 0
            },
            "text/plain": [
              "Batches:   0%|          | 0/1 [00:00<?, ?it/s]"
            ]
          },
          "metadata": {},
          "output_type": "display_data"
        },
        {
          "data": {
            "application/vnd.jupyter.widget-view+json": {
              "model_id": "737ae38934fe4d74996a718db4c73397",
              "version_major": 2,
              "version_minor": 0
            },
            "text/plain": [
              "Batches:   0%|          | 0/1 [00:00<?, ?it/s]"
            ]
          },
          "metadata": {},
          "output_type": "display_data"
        },
        {
          "name": "stdout",
          "output_type": "stream",
          "text": [
            "ExtractedAnswer(query='Who is the author of a visit from the goon squad?', score=0.4864412844181061, data='Агата Кристи', document=Document(id=e7589d9912517481ba7ca4862f0c2cedfa4c8a9fc11b30265e1d8c95fa8b4cdf, content: 'Title: And Then There Were None / И никого не стало. Книга для чтения на английском языке;\n",
            "Writer/Au...', meta: {'title': 'And Then There Were None / И никого не стало. Книга для чтения на английском языке', 'authors': 'Агата Кристи', 'publisher': 'Litres', 'publishedDate': '2018-10-09', 'industryIdentifiers': \"{'type': 'ISBN_13', 'identifier': '9785041375676'}, {'type': 'ISBN_10', 'identifier': '5041375674'}\", 'readingModes': {'text': True, 'image': True}, 'pageCount': 469, 'printType': 'BOOK', 'categories': 'Foreign Language Study', 'maturityRating': 'NOT_MATURE', 'allowAnonLogging': True, 'contentVersion': '1.6.6.0.preview.3', 'panelizationSummary': {'containsEpubBubbles': False, 'containsImageBubbles': False}, 'imageLinks': {'smallThumbnail': 'http://books.google.com/books/content?id=qS9yDwAAQBAJ&printsec=frontcover&img=1&zoom=5&edge=curl&source=gbs_api', 'thumbnail': 'http://books.google.com/books/content?id=qS9yDwAAQBAJ&printsec=frontcover&img=1&zoom=1&edge=curl&source=gbs_api'}, 'language': 'en', 'previewLink': 'http://books.google.it/books?id=qS9yDwAAQBAJ&printsec=frontcover&dq=intitle:None&hl=&cd=1&source=gbs_api', 'infoLink': 'http://books.google.it/books?id=qS9yDwAAQBAJ&dq=intitle:None&hl=&source=gbs_api', 'canonicalVolumeLink': 'https://books.google.com/books/about/And_Then_There_Were_None_%D0%98_%D0%BD%D0%B8%D0%BA%D0%BE%D0%B3%D0%BE.html?hl=&id=qS9yDwAAQBAJ', 'subtitle': 'Not available', 'averageRating': 'Not available', 'ratingsCount': 'Not available', 'seriesInfo': 'Not available'}, score: 0.11031754442260147), context=None, document_offset=ExtractedAnswer.Span(start=106, end=118), context_offset=None, meta={}) \n",
            "\n",
            "ExtractedAnswer(query='Who is the author of a visit from the goon squad?', score=0.32984086871147156, data='Foreign Language Study', document=Document(id=e7589d9912517481ba7ca4862f0c2cedfa4c8a9fc11b30265e1d8c95fa8b4cdf, content: 'Title: And Then There Were None / И никого не стало. Книга для чтения на английском языке;\n",
            "Writer/Au...', meta: {'title': 'And Then There Were None / И никого не стало. Книга для чтения на английском языке', 'authors': 'Агата Кристи', 'publisher': 'Litres', 'publishedDate': '2018-10-09', 'industryIdentifiers': \"{'type': 'ISBN_13', 'identifier': '9785041375676'}, {'type': 'ISBN_10', 'identifier': '5041375674'}\", 'readingModes': {'text': True, 'image': True}, 'pageCount': 469, 'printType': 'BOOK', 'categories': 'Foreign Language Study', 'maturityRating': 'NOT_MATURE', 'allowAnonLogging': True, 'contentVersion': '1.6.6.0.preview.3', 'panelizationSummary': {'containsEpubBubbles': False, 'containsImageBubbles': False}, 'imageLinks': {'smallThumbnail': 'http://books.google.com/books/content?id=qS9yDwAAQBAJ&printsec=frontcover&img=1&zoom=5&edge=curl&source=gbs_api', 'thumbnail': 'http://books.google.com/books/content?id=qS9yDwAAQBAJ&printsec=frontcover&img=1&zoom=1&edge=curl&source=gbs_api'}, 'language': 'en', 'previewLink': 'http://books.google.it/books?id=qS9yDwAAQBAJ&printsec=frontcover&dq=intitle:None&hl=&cd=1&source=gbs_api', 'infoLink': 'http://books.google.it/books?id=qS9yDwAAQBAJ&dq=intitle:None&hl=&source=gbs_api', 'canonicalVolumeLink': 'https://books.google.com/books/about/And_Then_There_Were_None_%D0%98_%D0%BD%D0%B8%D0%BA%D0%BE%D0%B3%D0%BE.html?hl=&id=qS9yDwAAQBAJ', 'subtitle': 'Not available', 'averageRating': 'Not available', 'ratingsCount': 'Not available', 'seriesInfo': 'Not available'}, score: 0.11031754442260147), context=None, document_offset=ExtractedAnswer.Span(start=498, end=520), context_offset=None, meta={}) \n",
            "\n",
            "ExtractedAnswer(query='Who is the author of a visit from the goon squad?', score=0.2983885705471039, data='2018-10-09', document=Document(id=e7589d9912517481ba7ca4862f0c2cedfa4c8a9fc11b30265e1d8c95fa8b4cdf, content: 'Title: And Then There Were None / И никого не стало. Книга для чтения на английском языке;\n",
            "Writer/Au...', meta: {'title': 'And Then There Were None / И никого не стало. Книга для чтения на английском языке', 'authors': 'Агата Кристи', 'publisher': 'Litres', 'publishedDate': '2018-10-09', 'industryIdentifiers': \"{'type': 'ISBN_13', 'identifier': '9785041375676'}, {'type': 'ISBN_10', 'identifier': '5041375674'}\", 'readingModes': {'text': True, 'image': True}, 'pageCount': 469, 'printType': 'BOOK', 'categories': 'Foreign Language Study', 'maturityRating': 'NOT_MATURE', 'allowAnonLogging': True, 'contentVersion': '1.6.6.0.preview.3', 'panelizationSummary': {'containsEpubBubbles': False, 'containsImageBubbles': False}, 'imageLinks': {'smallThumbnail': 'http://books.google.com/books/content?id=qS9yDwAAQBAJ&printsec=frontcover&img=1&zoom=5&edge=curl&source=gbs_api', 'thumbnail': 'http://books.google.com/books/content?id=qS9yDwAAQBAJ&printsec=frontcover&img=1&zoom=1&edge=curl&source=gbs_api'}, 'language': 'en', 'previewLink': 'http://books.google.it/books?id=qS9yDwAAQBAJ&printsec=frontcover&dq=intitle:None&hl=&cd=1&source=gbs_api', 'infoLink': 'http://books.google.it/books?id=qS9yDwAAQBAJ&dq=intitle:None&hl=&source=gbs_api', 'canonicalVolumeLink': 'https://books.google.com/books/about/And_Then_There_Were_None_%D0%98_%D0%BD%D0%B8%D0%BA%D0%BE%D0%B3%D0%BE.html?hl=&id=qS9yDwAAQBAJ', 'subtitle': 'Not available', 'averageRating': 'Not available', 'ratingsCount': 'Not available', 'seriesInfo': 'Not available'}, score: 0.11031754442260147), context=None, document_offset=ExtractedAnswer.Span(start=578, end=588), context_offset=None, meta={}) \n",
            "\n",
            "ExtractedAnswer(query='Who is the author of a visit from the goon squad?', score=0.24147084322013224, data=None, document=None, context=None, document_offset=None, context_offset=None, meta={}) \n",
            "\n",
            "['martian', None, None, 'kevin', None, 'eragon', None, '5', '1', '1', '2', None, 'five', None, None, 'american', 'titan', '3', 'percy jackson', '2666', '2', 'robert langdon', 'olive kitteridge', None, '1', '1', None, 'tehran', 'america', None, 'wolf hall', '1', 'hush', None, '4']\n",
            "book title is 4\n"
          ]
        },
        {
          "data": {
            "application/vnd.jupyter.widget-view+json": {
              "model_id": "6b1146cd0ad147aa9fb3984192cd1129",
              "version_major": 2,
              "version_minor": 0
            },
            "text/plain": [
              "Batches:   0%|          | 0/1 [00:00<?, ?it/s]"
            ]
          },
          "metadata": {},
          "output_type": "display_data"
        },
        {
          "data": {
            "application/vnd.jupyter.widget-view+json": {
              "model_id": "157e5c191d1f4378b74cebea46c8df25",
              "version_major": 2,
              "version_minor": 0
            },
            "text/plain": [
              "Batches:   0%|          | 0/1 [00:00<?, ?it/s]"
            ]
          },
          "metadata": {},
          "output_type": "display_data"
        },
        {
          "name": "stdout",
          "output_type": "stream",
          "text": [
            "ExtractedAnswer(query='Who is the author of city of fallen angels (the mortal instruments, #4)?', score=0.6911444067955017, data='Cassandra Clare', document=Document(id=3e04e8be60d6d571e77ea405ea34f59ab52fa6a0aef1ac14464a02c912abffb8, content: 'Title: Shadowhunters - 4. Città degli angeli caduti;\n",
            "Writer/Author: Cassandra Clare;\n",
            "Topic: La guerr...', meta: {'title': 'Shadowhunters - 4. Città degli angeli caduti', 'authors': 'Cassandra Clare', 'publisher': 'Edizioni Mondadori', 'publishedDate': '2012-05-10', 'industryIdentifiers': \"{'type': 'ISBN_13', 'identifier': '9788852026416'}, {'type': 'ISBN_10', 'identifier': '885202641X'}\", 'readingModes': {'text': True, 'image': True}, 'pageCount': 359, 'printType': 'BOOK', 'categories': 'Juvenile Fiction', 'averageRating': 5, 'ratingsCount': 1, 'maturityRating': 'NOT_MATURE', 'allowAnonLogging': True, 'contentVersion': '2.38.40.0.preview.3', 'panelizationSummary': {'containsEpubBubbles': False, 'containsImageBubbles': False}, 'imageLinks': {'smallThumbnail': 'http://books.google.com/books/content?id=UqC1wBginggC&printsec=frontcover&img=1&zoom=5&edge=curl&source=gbs_api', 'thumbnail': 'http://books.google.com/books/content?id=UqC1wBginggC&printsec=frontcover&img=1&zoom=1&edge=curl&source=gbs_api'}, 'language': 'it', 'previewLink': 'http://books.google.it/books?id=UqC1wBginggC&printsec=frontcover&dq=intitle:4&hl=&cd=1&source=gbs_api', 'infoLink': 'https://play.google.com/store/books/details?id=UqC1wBginggC&source=gbs_api', 'canonicalVolumeLink': 'https://play.google.com/store/books/details?id=UqC1wBginggC', 'subtitle': 'Not available', 'seriesInfo': 'Not available'}, score: 0.3407449170176826), context=None, document_offset=ExtractedAnswer.Span(start=68, end=83), context_offset=None, meta={}) \n",
            "\n",
            "ExtractedAnswer(query='Who is the author of city of fallen angels (the mortal instruments, #4)?', score=0.3088555932044983, data=None, document=None, context=None, document_offset=None, context_offset=None, meta={}) \n",
            "\n",
            "['martian', None, None, 'kevin', None, 'eragon', None, '5', '1', '1', '2', None, 'five', None, None, 'american', 'titan', '3', 'percy jackson', '2666', '2', 'robert langdon', 'olive kitteridge', None, '1', '1', None, 'tehran', 'america', None, 'wolf hall', '1', 'hush', None, '4', '1']\n",
            "book title is 1\n"
          ]
        },
        {
          "data": {
            "application/vnd.jupyter.widget-view+json": {
              "model_id": "fc751296349346b096c65fc4587c7fee",
              "version_major": 2,
              "version_minor": 0
            },
            "text/plain": [
              "Batches:   0%|          | 0/1 [00:00<?, ?it/s]"
            ]
          },
          "metadata": {},
          "output_type": "display_data"
        },
        {
          "data": {
            "application/vnd.jupyter.widget-view+json": {
              "model_id": "95995426bc924ebb889525824b0949be",
              "version_major": 2,
              "version_minor": 0
            },
            "text/plain": [
              "Batches:   0%|          | 0/1 [00:00<?, ?it/s]"
            ]
          },
          "metadata": {},
          "output_type": "display_data"
        },
        {
          "name": "stdout",
          "output_type": "stream",
          "text": [
            "ExtractedAnswer(query='Who is the author of inkheart (inkworld, #1)?', score=0.593612790107727, data='Giacomo Leopardi', document=Document(id=48eb59a7ddf02190e2da31a36a83e22189b0595bc280eb603ae9f4ea74c47f36, content: 'Title: Opere Di Giacomo Leopardi, Vol. 1 (Classic Reprint);\n",
            "Writer/Author: Giacomo Leopardi;\n",
            "Topic: ...', meta: {'title': 'Opere Di Giacomo Leopardi, Vol. 1 (Classic Reprint)', 'authors': 'Giacomo Leopardi', 'publisher': 'Forgotten Books', 'publishedDate': '2017-10-16', 'industryIdentifiers': \"{'type': 'ISBN_10', 'identifier': '0265393299'}, {'type': 'ISBN_13', 'identifier': '9780265393291'}\", 'readingModes': {'text': False, 'image': False}, 'pageCount': 366, 'printType': 'BOOK', 'categories': 'Poetry', 'maturityRating': 'NOT_MATURE', 'allowAnonLogging': False, 'contentVersion': 'preview-1.0.0', 'panelizationSummary': {'containsEpubBubbles': False, 'containsImageBubbles': False}, 'imageLinks': {'smallThumbnail': 'http://books.google.com/books/content?id=vcA9swEACAAJ&printsec=frontcover&img=1&zoom=5&source=gbs_api', 'thumbnail': 'http://books.google.com/books/content?id=vcA9swEACAAJ&printsec=frontcover&img=1&zoom=1&source=gbs_api'}, 'language': 'it', 'previewLink': 'http://books.google.it/books?id=vcA9swEACAAJ&dq=intitle:1&hl=&cd=1&source=gbs_api', 'infoLink': 'http://books.google.it/books?id=vcA9swEACAAJ&dq=intitle:1&hl=&source=gbs_api', 'canonicalVolumeLink': 'https://books.google.com/books/about/Opere_Di_Giacomo_Leopardi_Vol_1_Classic.html?hl=&id=vcA9swEACAAJ', 'subtitle': 'Not available', 'averageRating': 'Not available', 'ratingsCount': 'Not available', 'seriesInfo': 'Not available'}, score: 0.058567941829307815), context=None, document_offset=ExtractedAnswer.Span(start=75, end=91), context_offset=None, meta={}) \n",
            "\n",
            "ExtractedAnswer(query='Who is the author of inkheart (inkworld, #1)?', score=0.4356231987476349, data='Opere Di Giacomo Leopardi', document=Document(id=48eb59a7ddf02190e2da31a36a83e22189b0595bc280eb603ae9f4ea74c47f36, content: 'Title: Opere Di Giacomo Leopardi, Vol. 1 (Classic Reprint);\n",
            "Writer/Author: Giacomo Leopardi;\n",
            "Topic: ...', meta: {'title': 'Opere Di Giacomo Leopardi, Vol. 1 (Classic Reprint)', 'authors': 'Giacomo Leopardi', 'publisher': 'Forgotten Books', 'publishedDate': '2017-10-16', 'industryIdentifiers': \"{'type': 'ISBN_10', 'identifier': '0265393299'}, {'type': 'ISBN_13', 'identifier': '9780265393291'}\", 'readingModes': {'text': False, 'image': False}, 'pageCount': 366, 'printType': 'BOOK', 'categories': 'Poetry', 'maturityRating': 'NOT_MATURE', 'allowAnonLogging': False, 'contentVersion': 'preview-1.0.0', 'panelizationSummary': {'containsEpubBubbles': False, 'containsImageBubbles': False}, 'imageLinks': {'smallThumbnail': 'http://books.google.com/books/content?id=vcA9swEACAAJ&printsec=frontcover&img=1&zoom=5&source=gbs_api', 'thumbnail': 'http://books.google.com/books/content?id=vcA9swEACAAJ&printsec=frontcover&img=1&zoom=1&source=gbs_api'}, 'language': 'it', 'previewLink': 'http://books.google.it/books?id=vcA9swEACAAJ&dq=intitle:1&hl=&cd=1&source=gbs_api', 'infoLink': 'http://books.google.it/books?id=vcA9swEACAAJ&dq=intitle:1&hl=&source=gbs_api', 'canonicalVolumeLink': 'https://books.google.com/books/about/Opere_Di_Giacomo_Leopardi_Vol_1_Classic.html?hl=&id=vcA9swEACAAJ', 'subtitle': 'Not available', 'averageRating': 'Not available', 'ratingsCount': 'Not available', 'seriesInfo': 'Not available'}, score: 0.058567941829307815), context=None, document_offset=ExtractedAnswer.Span(start=7, end=32), context_offset=None, meta={}) \n",
            "\n",
            "ExtractedAnswer(query='Who is the author of inkheart (inkworld, #1)?', score=0.38281840085983276, data='Poetry', document=Document(id=48eb59a7ddf02190e2da31a36a83e22189b0595bc280eb603ae9f4ea74c47f36, content: 'Title: Opere Di Giacomo Leopardi, Vol. 1 (Classic Reprint);\n",
            "Writer/Author: Giacomo Leopardi;\n",
            "Topic: ...', meta: {'title': 'Opere Di Giacomo Leopardi, Vol. 1 (Classic Reprint)', 'authors': 'Giacomo Leopardi', 'publisher': 'Forgotten Books', 'publishedDate': '2017-10-16', 'industryIdentifiers': \"{'type': 'ISBN_10', 'identifier': '0265393299'}, {'type': 'ISBN_13', 'identifier': '9780265393291'}\", 'readingModes': {'text': False, 'image': False}, 'pageCount': 366, 'printType': 'BOOK', 'categories': 'Poetry', 'maturityRating': 'NOT_MATURE', 'allowAnonLogging': False, 'contentVersion': 'preview-1.0.0', 'panelizationSummary': {'containsEpubBubbles': False, 'containsImageBubbles': False}, 'imageLinks': {'smallThumbnail': 'http://books.google.com/books/content?id=vcA9swEACAAJ&printsec=frontcover&img=1&zoom=5&source=gbs_api', 'thumbnail': 'http://books.google.com/books/content?id=vcA9swEACAAJ&printsec=frontcover&img=1&zoom=1&source=gbs_api'}, 'language': 'it', 'previewLink': 'http://books.google.it/books?id=vcA9swEACAAJ&dq=intitle:1&hl=&cd=1&source=gbs_api', 'infoLink': 'http://books.google.it/books?id=vcA9swEACAAJ&dq=intitle:1&hl=&source=gbs_api', 'canonicalVolumeLink': 'https://books.google.com/books/about/Opere_Di_Giacomo_Leopardi_Vol_1_Classic.html?hl=&id=vcA9swEACAAJ', 'subtitle': 'Not available', 'averageRating': 'Not available', 'ratingsCount': 'Not available', 'seriesInfo': 'Not available'}, score: 0.058567941829307815), context=None, document_offset=ExtractedAnswer.Span(start=1797, end=1803), context_offset=None, meta={}) \n",
            "\n",
            "ExtractedAnswer(query='Who is the author of inkheart (inkworld, #1)?', score=0.14155400264839593, data=None, document=None, context=None, document_offset=None, context_offset=None, meta={}) \n",
            "\n",
            "['martian', None, None, 'kevin', None, 'eragon', None, '5', '1', '1', '2', None, 'five', None, None, 'american', 'titan', '3', 'percy jackson', '2666', '2', 'robert langdon', 'olive kitteridge', None, '1', '1', None, 'tehran', 'america', None, 'wolf hall', '1', 'hush', None, '4', '1', '4']\n",
            "book title is 4\n"
          ]
        },
        {
          "data": {
            "application/vnd.jupyter.widget-view+json": {
              "model_id": "bbe8f737d5fb4fa49b557b3f8b71d64d",
              "version_major": 2,
              "version_minor": 0
            },
            "text/plain": [
              "Batches:   0%|          | 0/1 [00:00<?, ?it/s]"
            ]
          },
          "metadata": {},
          "output_type": "display_data"
        },
        {
          "data": {
            "application/vnd.jupyter.widget-view+json": {
              "model_id": "eb7a4a2c6da6419e842a8192e9fa244e",
              "version_major": 2,
              "version_minor": 0
            },
            "text/plain": [
              "Batches:   0%|          | 0/1 [00:00<?, ?it/s]"
            ]
          },
          "metadata": {},
          "output_type": "display_data"
        },
        {
          "name": "stdout",
          "output_type": "stream",
          "text": [
            "ExtractedAnswer(query='Who is the author of blood promise (vampire academy, #4)?', score=0.6853929758071899, data='Cassandra Clare', document=Document(id=3e04e8be60d6d571e77ea405ea34f59ab52fa6a0aef1ac14464a02c912abffb8, content: 'Title: Shadowhunters - 4. Città degli angeli caduti;\n",
            "Writer/Author: Cassandra Clare;\n",
            "Topic: La guerr...', meta: {'title': 'Shadowhunters - 4. Città degli angeli caduti', 'authors': 'Cassandra Clare', 'publisher': 'Edizioni Mondadori', 'publishedDate': '2012-05-10', 'industryIdentifiers': \"{'type': 'ISBN_13', 'identifier': '9788852026416'}, {'type': 'ISBN_10', 'identifier': '885202641X'}\", 'readingModes': {'text': True, 'image': True}, 'pageCount': 359, 'printType': 'BOOK', 'categories': 'Juvenile Fiction', 'averageRating': 5, 'ratingsCount': 1, 'maturityRating': 'NOT_MATURE', 'allowAnonLogging': True, 'contentVersion': '2.38.40.0.preview.3', 'panelizationSummary': {'containsEpubBubbles': False, 'containsImageBubbles': False}, 'imageLinks': {'smallThumbnail': 'http://books.google.com/books/content?id=UqC1wBginggC&printsec=frontcover&img=1&zoom=5&edge=curl&source=gbs_api', 'thumbnail': 'http://books.google.com/books/content?id=UqC1wBginggC&printsec=frontcover&img=1&zoom=1&edge=curl&source=gbs_api'}, 'language': 'it', 'previewLink': 'http://books.google.it/books?id=UqC1wBginggC&printsec=frontcover&dq=intitle:4&hl=&cd=1&source=gbs_api', 'infoLink': 'https://play.google.com/store/books/details?id=UqC1wBginggC&source=gbs_api', 'canonicalVolumeLink': 'https://play.google.com/store/books/details?id=UqC1wBginggC', 'subtitle': 'Not available', 'seriesInfo': 'Not available'}, score: 0.4253344110422958), context=None, document_offset=ExtractedAnswer.Span(start=68, end=83), context_offset=None, meta={}) \n",
            "\n",
            "ExtractedAnswer(query='Who is the author of blood promise (vampire academy, #4)?', score=0.31460702419281006, data=None, document=None, context=None, document_offset=None, context_offset=None, meta={}) \n",
            "\n",
            "['martian', None, None, 'kevin', None, 'eragon', None, '5', '1', '1', '2', None, 'five', None, None, 'american', 'titan', '3', 'percy jackson', '2666', '2', 'robert langdon', 'olive kitteridge', None, '1', '1', None, 'tehran', 'america', None, 'wolf hall', '1', 'hush', None, '4', '1', '4', None]\n",
            "book title is None\n"
          ]
        },
        {
          "data": {
            "application/vnd.jupyter.widget-view+json": {
              "model_id": "c4750a042c2c4b748c772c7f7cd83047",
              "version_major": 2,
              "version_minor": 0
            },
            "text/plain": [
              "Batches:   0%|          | 0/1 [00:00<?, ?it/s]"
            ]
          },
          "metadata": {},
          "output_type": "display_data"
        },
        {
          "data": {
            "application/vnd.jupyter.widget-view+json": {
              "model_id": "ff1b6f9d21a74f9fa33de0178c9eb39d",
              "version_major": 2,
              "version_minor": 0
            },
            "text/plain": [
              "Batches:   0%|          | 0/1 [00:00<?, ?it/s]"
            ]
          },
          "metadata": {},
          "output_type": "display_data"
        },
        {
          "name": "stdout",
          "output_type": "stream",
          "text": [
            "ExtractedAnswer(query='Who is the author of peace like a river?', score=0.37571537494659424, data='Агата Кристи', document=Document(id=e7589d9912517481ba7ca4862f0c2cedfa4c8a9fc11b30265e1d8c95fa8b4cdf, content: 'Title: And Then There Were None / И никого не стало. Книга для чтения на английском языке;\n",
            "Writer/Au...', meta: {'title': 'And Then There Were None / И никого не стало. Книга для чтения на английском языке', 'authors': 'Агата Кристи', 'publisher': 'Litres', 'publishedDate': '2018-10-09', 'industryIdentifiers': \"{'type': 'ISBN_13', 'identifier': '9785041375676'}, {'type': 'ISBN_10', 'identifier': '5041375674'}\", 'readingModes': {'text': True, 'image': True}, 'pageCount': 469, 'printType': 'BOOK', 'categories': 'Foreign Language Study', 'maturityRating': 'NOT_MATURE', 'allowAnonLogging': True, 'contentVersion': '1.6.6.0.preview.3', 'panelizationSummary': {'containsEpubBubbles': False, 'containsImageBubbles': False}, 'imageLinks': {'smallThumbnail': 'http://books.google.com/books/content?id=qS9yDwAAQBAJ&printsec=frontcover&img=1&zoom=5&edge=curl&source=gbs_api', 'thumbnail': 'http://books.google.com/books/content?id=qS9yDwAAQBAJ&printsec=frontcover&img=1&zoom=1&edge=curl&source=gbs_api'}, 'language': 'en', 'previewLink': 'http://books.google.it/books?id=qS9yDwAAQBAJ&printsec=frontcover&dq=intitle:None&hl=&cd=1&source=gbs_api', 'infoLink': 'http://books.google.it/books?id=qS9yDwAAQBAJ&dq=intitle:None&hl=&source=gbs_api', 'canonicalVolumeLink': 'https://books.google.com/books/about/And_Then_There_Were_None_%D0%98_%D0%BD%D0%B8%D0%BA%D0%BE%D0%B3%D0%BE.html?hl=&id=qS9yDwAAQBAJ', 'subtitle': 'Not available', 'averageRating': 'Not available', 'ratingsCount': 'Not available', 'seriesInfo': 'Not available'}, score: 0.09964605197172394), context=None, document_offset=ExtractedAnswer.Span(start=106, end=118), context_offset=None, meta={}) \n",
            "\n",
            "ExtractedAnswer(query='Who is the author of peace like a river?', score=0.31317209938407525, data=None, document=None, context=None, document_offset=None, context_offset=None, meta={}) \n",
            "\n",
            "ExtractedAnswer(query='Who is the author of peace like a river?', score=0.302994966506958, data='Foreign Language Study;\\nNumber of pages: 469;\\nPublished by: Litres', document=Document(id=e7589d9912517481ba7ca4862f0c2cedfa4c8a9fc11b30265e1d8c95fa8b4cdf, content: 'Title: And Then There Were None / И никого не стало. Книга для чтения на английском языке;\n",
            "Writer/Au...', meta: {'title': 'And Then There Were None / И никого не стало. Книга для чтения на английском языке', 'authors': 'Агата Кристи', 'publisher': 'Litres', 'publishedDate': '2018-10-09', 'industryIdentifiers': \"{'type': 'ISBN_13', 'identifier': '9785041375676'}, {'type': 'ISBN_10', 'identifier': '5041375674'}\", 'readingModes': {'text': True, 'image': True}, 'pageCount': 469, 'printType': 'BOOK', 'categories': 'Foreign Language Study', 'maturityRating': 'NOT_MATURE', 'allowAnonLogging': True, 'contentVersion': '1.6.6.0.preview.3', 'panelizationSummary': {'containsEpubBubbles': False, 'containsImageBubbles': False}, 'imageLinks': {'smallThumbnail': 'http://books.google.com/books/content?id=qS9yDwAAQBAJ&printsec=frontcover&img=1&zoom=5&edge=curl&source=gbs_api', 'thumbnail': 'http://books.google.com/books/content?id=qS9yDwAAQBAJ&printsec=frontcover&img=1&zoom=1&edge=curl&source=gbs_api'}, 'language': 'en', 'previewLink': 'http://books.google.it/books?id=qS9yDwAAQBAJ&printsec=frontcover&dq=intitle:None&hl=&cd=1&source=gbs_api', 'infoLink': 'http://books.google.it/books?id=qS9yDwAAQBAJ&dq=intitle:None&hl=&source=gbs_api', 'canonicalVolumeLink': 'https://books.google.com/books/about/And_Then_There_Were_None_%D0%98_%D0%BD%D0%B8%D0%BA%D0%BE%D0%B3%D0%BE.html?hl=&id=qS9yDwAAQBAJ', 'subtitle': 'Not available', 'averageRating': 'Not available', 'ratingsCount': 'Not available', 'seriesInfo': 'Not available'}, score: 0.09964605197172394), context=None, document_offset=ExtractedAnswer.Span(start=498, end=564), context_offset=None, meta={}) \n",
            "\n",
            "ExtractedAnswer(query='Who is the author of peace like a river?', score=0.28027844429016113, data='2018-10-09', document=Document(id=e7589d9912517481ba7ca4862f0c2cedfa4c8a9fc11b30265e1d8c95fa8b4cdf, content: 'Title: And Then There Were None / И никого не стало. Книга для чтения на английском языке;\n",
            "Writer/Au...', meta: {'title': 'And Then There Were None / И никого не стало. Книга для чтения на английском языке', 'authors': 'Агата Кристи', 'publisher': 'Litres', 'publishedDate': '2018-10-09', 'industryIdentifiers': \"{'type': 'ISBN_13', 'identifier': '9785041375676'}, {'type': 'ISBN_10', 'identifier': '5041375674'}\", 'readingModes': {'text': True, 'image': True}, 'pageCount': 469, 'printType': 'BOOK', 'categories': 'Foreign Language Study', 'maturityRating': 'NOT_MATURE', 'allowAnonLogging': True, 'contentVersion': '1.6.6.0.preview.3', 'panelizationSummary': {'containsEpubBubbles': False, 'containsImageBubbles': False}, 'imageLinks': {'smallThumbnail': 'http://books.google.com/books/content?id=qS9yDwAAQBAJ&printsec=frontcover&img=1&zoom=5&edge=curl&source=gbs_api', 'thumbnail': 'http://books.google.com/books/content?id=qS9yDwAAQBAJ&printsec=frontcover&img=1&zoom=1&edge=curl&source=gbs_api'}, 'language': 'en', 'previewLink': 'http://books.google.it/books?id=qS9yDwAAQBAJ&printsec=frontcover&dq=intitle:None&hl=&cd=1&source=gbs_api', 'infoLink': 'http://books.google.it/books?id=qS9yDwAAQBAJ&dq=intitle:None&hl=&source=gbs_api', 'canonicalVolumeLink': 'https://books.google.com/books/about/And_Then_There_Were_None_%D0%98_%D0%BD%D0%B8%D0%BA%D0%BE%D0%B3%D0%BE.html?hl=&id=qS9yDwAAQBAJ', 'subtitle': 'Not available', 'averageRating': 'Not available', 'ratingsCount': 'Not available', 'seriesInfo': 'Not available'}, score: 0.09964605197172394), context=None, document_offset=ExtractedAnswer.Span(start=578, end=588), context_offset=None, meta={}) \n",
            "\n",
            "['martian', None, None, 'kevin', None, 'eragon', None, '5', '1', '1', '2', None, 'five', None, None, 'american', 'titan', '3', 'percy jackson', '2666', '2', 'robert langdon', 'olive kitteridge', None, '1', '1', None, 'tehran', 'america', None, 'wolf hall', '1', 'hush', None, '4', '1', '4', None, '1']\n",
            "book title is 1\n"
          ]
        },
        {
          "data": {
            "application/vnd.jupyter.widget-view+json": {
              "model_id": "f518e0a884d44f718c773d6c7be6d38d",
              "version_major": 2,
              "version_minor": 0
            },
            "text/plain": [
              "Batches:   0%|          | 0/1 [00:00<?, ?it/s]"
            ]
          },
          "metadata": {},
          "output_type": "display_data"
        },
        {
          "data": {
            "application/vnd.jupyter.widget-view+json": {
              "model_id": "83a86bee3365483896fdaf8683781486",
              "version_major": 2,
              "version_minor": 0
            },
            "text/plain": [
              "Batches:   0%|          | 0/1 [00:00<?, ?it/s]"
            ]
          },
          "metadata": {},
          "output_type": "display_data"
        },
        {
          "name": "stdout",
          "output_type": "stream",
          "text": [
            "ExtractedAnswer(query='Who is the author of dead until dark (sookie stackhouse, #1)?', score=0.5200695395469666, data='Giacomo Leopardi', document=Document(id=48eb59a7ddf02190e2da31a36a83e22189b0595bc280eb603ae9f4ea74c47f36, content: 'Title: Opere Di Giacomo Leopardi, Vol. 1 (Classic Reprint);\n",
            "Writer/Author: Giacomo Leopardi;\n",
            "Topic: ...', meta: {'title': 'Opere Di Giacomo Leopardi, Vol. 1 (Classic Reprint)', 'authors': 'Giacomo Leopardi', 'publisher': 'Forgotten Books', 'publishedDate': '2017-10-16', 'industryIdentifiers': \"{'type': 'ISBN_10', 'identifier': '0265393299'}, {'type': 'ISBN_13', 'identifier': '9780265393291'}\", 'readingModes': {'text': False, 'image': False}, 'pageCount': 366, 'printType': 'BOOK', 'categories': 'Poetry', 'maturityRating': 'NOT_MATURE', 'allowAnonLogging': False, 'contentVersion': 'preview-1.0.0', 'panelizationSummary': {'containsEpubBubbles': False, 'containsImageBubbles': False}, 'imageLinks': {'smallThumbnail': 'http://books.google.com/books/content?id=vcA9swEACAAJ&printsec=frontcover&img=1&zoom=5&source=gbs_api', 'thumbnail': 'http://books.google.com/books/content?id=vcA9swEACAAJ&printsec=frontcover&img=1&zoom=1&source=gbs_api'}, 'language': 'it', 'previewLink': 'http://books.google.it/books?id=vcA9swEACAAJ&dq=intitle:1&hl=&cd=1&source=gbs_api', 'infoLink': 'http://books.google.it/books?id=vcA9swEACAAJ&dq=intitle:1&hl=&source=gbs_api', 'canonicalVolumeLink': 'https://books.google.com/books/about/Opere_Di_Giacomo_Leopardi_Vol_1_Classic.html?hl=&id=vcA9swEACAAJ', 'subtitle': 'Not available', 'averageRating': 'Not available', 'ratingsCount': 'Not available', 'seriesInfo': 'Not available'}, score: 0.051608237689676525), context=None, document_offset=ExtractedAnswer.Span(start=75, end=91), context_offset=None, meta={}) \n",
            "\n",
            "ExtractedAnswer(query='Who is the author of dead until dark (sookie stackhouse, #1)?', score=0.43310365080833435, data='Opere Di Giacomo Leopardi', document=Document(id=48eb59a7ddf02190e2da31a36a83e22189b0595bc280eb603ae9f4ea74c47f36, content: 'Title: Opere Di Giacomo Leopardi, Vol. 1 (Classic Reprint);\n",
            "Writer/Author: Giacomo Leopardi;\n",
            "Topic: ...', meta: {'title': 'Opere Di Giacomo Leopardi, Vol. 1 (Classic Reprint)', 'authors': 'Giacomo Leopardi', 'publisher': 'Forgotten Books', 'publishedDate': '2017-10-16', 'industryIdentifiers': \"{'type': 'ISBN_10', 'identifier': '0265393299'}, {'type': 'ISBN_13', 'identifier': '9780265393291'}\", 'readingModes': {'text': False, 'image': False}, 'pageCount': 366, 'printType': 'BOOK', 'categories': 'Poetry', 'maturityRating': 'NOT_MATURE', 'allowAnonLogging': False, 'contentVersion': 'preview-1.0.0', 'panelizationSummary': {'containsEpubBubbles': False, 'containsImageBubbles': False}, 'imageLinks': {'smallThumbnail': 'http://books.google.com/books/content?id=vcA9swEACAAJ&printsec=frontcover&img=1&zoom=5&source=gbs_api', 'thumbnail': 'http://books.google.com/books/content?id=vcA9swEACAAJ&printsec=frontcover&img=1&zoom=1&source=gbs_api'}, 'language': 'it', 'previewLink': 'http://books.google.it/books?id=vcA9swEACAAJ&dq=intitle:1&hl=&cd=1&source=gbs_api', 'infoLink': 'http://books.google.it/books?id=vcA9swEACAAJ&dq=intitle:1&hl=&source=gbs_api', 'canonicalVolumeLink': 'https://books.google.com/books/about/Opere_Di_Giacomo_Leopardi_Vol_1_Classic.html?hl=&id=vcA9swEACAAJ', 'subtitle': 'Not available', 'averageRating': 'Not available', 'ratingsCount': 'Not available', 'seriesInfo': 'Not available'}, score: 0.051608237689676525), context=None, document_offset=ExtractedAnswer.Span(start=7, end=32), context_offset=None, meta={}) \n",
            "\n",
            "ExtractedAnswer(query='Who is the author of dead until dark (sookie stackhouse, #1)?', score=0.3476109206676483, data='Paolo Lasinio', document=Document(id=48eb59a7ddf02190e2da31a36a83e22189b0595bc280eb603ae9f4ea74c47f36, content: 'Title: Opere Di Giacomo Leopardi, Vol. 1 (Classic Reprint);\n",
            "Writer/Author: Giacomo Leopardi;\n",
            "Topic: ...', meta: {'title': 'Opere Di Giacomo Leopardi, Vol. 1 (Classic Reprint)', 'authors': 'Giacomo Leopardi', 'publisher': 'Forgotten Books', 'publishedDate': '2017-10-16', 'industryIdentifiers': \"{'type': 'ISBN_10', 'identifier': '0265393299'}, {'type': 'ISBN_13', 'identifier': '9780265393291'}\", 'readingModes': {'text': False, 'image': False}, 'pageCount': 366, 'printType': 'BOOK', 'categories': 'Poetry', 'maturityRating': 'NOT_MATURE', 'allowAnonLogging': False, 'contentVersion': 'preview-1.0.0', 'panelizationSummary': {'containsEpubBubbles': False, 'containsImageBubbles': False}, 'imageLinks': {'smallThumbnail': 'http://books.google.com/books/content?id=vcA9swEACAAJ&printsec=frontcover&img=1&zoom=5&source=gbs_api', 'thumbnail': 'http://books.google.com/books/content?id=vcA9swEACAAJ&printsec=frontcover&img=1&zoom=1&source=gbs_api'}, 'language': 'it', 'previewLink': 'http://books.google.it/books?id=vcA9swEACAAJ&dq=intitle:1&hl=&cd=1&source=gbs_api', 'infoLink': 'http://books.google.it/books?id=vcA9swEACAAJ&dq=intitle:1&hl=&source=gbs_api', 'canonicalVolumeLink': 'https://books.google.com/books/about/Opere_Di_Giacomo_Leopardi_Vol_1_Classic.html?hl=&id=vcA9swEACAAJ', 'subtitle': 'Not available', 'averageRating': 'Not available', 'ratingsCount': 'Not available', 'seriesInfo': 'Not available'}, score: 0.051608237689676525), context=None, document_offset=ExtractedAnswer.Span(start=906, end=919), context_offset=None, meta={}) \n",
            "\n",
            "ExtractedAnswer(query='Who is the author of dead until dark (sookie stackhouse, #1)?', score=0.17749603561994048, data=None, document=None, context=None, document_offset=None, context_offset=None, meta={}) \n",
            "\n",
            "['martian', None, None, 'kevin', None, 'eragon', None, '5', '1', '1', '2', None, 'five', None, None, 'american', 'titan', '3', 'percy jackson', '2666', '2', 'robert langdon', 'olive kitteridge', None, '1', '1', None, 'tehran', 'america', None, 'wolf hall', '1', 'hush', None, '4', '1', '4', None, '1', None]\n",
            "book title is None\n"
          ]
        },
        {
          "data": {
            "application/vnd.jupyter.widget-view+json": {
              "model_id": "121755bf336040f3bd23d4847fc10851",
              "version_major": 2,
              "version_minor": 0
            },
            "text/plain": [
              "Batches:   0%|          | 0/1 [00:00<?, ?it/s]"
            ]
          },
          "metadata": {},
          "output_type": "display_data"
        },
        {
          "data": {
            "application/vnd.jupyter.widget-view+json": {
              "model_id": "a54f482cfcad4c6981df0b216480f2b5",
              "version_major": 2,
              "version_minor": 0
            },
            "text/plain": [
              "Batches:   0%|          | 0/1 [00:00<?, ?it/s]"
            ]
          },
          "metadata": {},
          "output_type": "display_data"
        },
        {
          "name": "stdout",
          "output_type": "stream",
          "text": [
            "ExtractedAnswer(query='Who is the author of let the great world spin?', score=0.4129016697406769, data='Агата Кристи', document=Document(id=e7589d9912517481ba7ca4862f0c2cedfa4c8a9fc11b30265e1d8c95fa8b4cdf, content: 'Title: And Then There Were None / И никого не стало. Книга для чтения на английском языке;\n",
            "Writer/Au...', meta: {'title': 'And Then There Were None / И никого не стало. Книга для чтения на английском языке', 'authors': 'Агата Кристи', 'publisher': 'Litres', 'publishedDate': '2018-10-09', 'industryIdentifiers': \"{'type': 'ISBN_13', 'identifier': '9785041375676'}, {'type': 'ISBN_10', 'identifier': '5041375674'}\", 'readingModes': {'text': True, 'image': True}, 'pageCount': 469, 'printType': 'BOOK', 'categories': 'Foreign Language Study', 'maturityRating': 'NOT_MATURE', 'allowAnonLogging': True, 'contentVersion': '1.6.6.0.preview.3', 'panelizationSummary': {'containsEpubBubbles': False, 'containsImageBubbles': False}, 'imageLinks': {'smallThumbnail': 'http://books.google.com/books/content?id=qS9yDwAAQBAJ&printsec=frontcover&img=1&zoom=5&edge=curl&source=gbs_api', 'thumbnail': 'http://books.google.com/books/content?id=qS9yDwAAQBAJ&printsec=frontcover&img=1&zoom=1&edge=curl&source=gbs_api'}, 'language': 'en', 'previewLink': 'http://books.google.it/books?id=qS9yDwAAQBAJ&printsec=frontcover&dq=intitle:None&hl=&cd=1&source=gbs_api', 'infoLink': 'http://books.google.it/books?id=qS9yDwAAQBAJ&dq=intitle:None&hl=&source=gbs_api', 'canonicalVolumeLink': 'https://books.google.com/books/about/And_Then_There_Were_None_%D0%98_%D0%BD%D0%B8%D0%BA%D0%BE%D0%B3%D0%BE.html?hl=&id=qS9yDwAAQBAJ', 'subtitle': 'Not available', 'averageRating': 'Not available', 'ratingsCount': 'Not available', 'seriesInfo': 'Not available'}, score: 0.10357747967504168), context=None, document_offset=ExtractedAnswer.Span(start=106, end=118), context_offset=None, meta={}) \n",
            "\n",
            "ExtractedAnswer(query='Who is the author of let the great world spin?', score=0.3594253957271576, data='And Then There Were None', document=Document(id=e7589d9912517481ba7ca4862f0c2cedfa4c8a9fc11b30265e1d8c95fa8b4cdf, content: 'Title: And Then There Were None / И никого не стало. Книга для чтения на английском языке;\n",
            "Writer/Au...', meta: {'title': 'And Then There Were None / И никого не стало. Книга для чтения на английском языке', 'authors': 'Агата Кристи', 'publisher': 'Litres', 'publishedDate': '2018-10-09', 'industryIdentifiers': \"{'type': 'ISBN_13', 'identifier': '9785041375676'}, {'type': 'ISBN_10', 'identifier': '5041375674'}\", 'readingModes': {'text': True, 'image': True}, 'pageCount': 469, 'printType': 'BOOK', 'categories': 'Foreign Language Study', 'maturityRating': 'NOT_MATURE', 'allowAnonLogging': True, 'contentVersion': '1.6.6.0.preview.3', 'panelizationSummary': {'containsEpubBubbles': False, 'containsImageBubbles': False}, 'imageLinks': {'smallThumbnail': 'http://books.google.com/books/content?id=qS9yDwAAQBAJ&printsec=frontcover&img=1&zoom=5&edge=curl&source=gbs_api', 'thumbnail': 'http://books.google.com/books/content?id=qS9yDwAAQBAJ&printsec=frontcover&img=1&zoom=1&edge=curl&source=gbs_api'}, 'language': 'en', 'previewLink': 'http://books.google.it/books?id=qS9yDwAAQBAJ&printsec=frontcover&dq=intitle:None&hl=&cd=1&source=gbs_api', 'infoLink': 'http://books.google.it/books?id=qS9yDwAAQBAJ&dq=intitle:None&hl=&source=gbs_api', 'canonicalVolumeLink': 'https://books.google.com/books/about/And_Then_There_Were_None_%D0%98_%D0%BD%D0%B8%D0%BA%D0%BE%D0%B3%D0%BE.html?hl=&id=qS9yDwAAQBAJ', 'subtitle': 'Not available', 'averageRating': 'Not available', 'ratingsCount': 'Not available', 'seriesInfo': 'Not available'}, score: 0.10357747967504168), context=None, document_offset=ExtractedAnswer.Span(start=7, end=31), context_offset=None, meta={}) \n",
            "\n",
            "ExtractedAnswer(query='Who is the author of let the great world spin?', score=0.3334578275680542, data='Foreign Language Study;\\nNumber of pages: 469;\\nPublished by: Litres', document=Document(id=e7589d9912517481ba7ca4862f0c2cedfa4c8a9fc11b30265e1d8c95fa8b4cdf, content: 'Title: And Then There Were None / И никого не стало. Книга для чтения на английском языке;\n",
            "Writer/Au...', meta: {'title': 'And Then There Were None / И никого не стало. Книга для чтения на английском языке', 'authors': 'Агата Кристи', 'publisher': 'Litres', 'publishedDate': '2018-10-09', 'industryIdentifiers': \"{'type': 'ISBN_13', 'identifier': '9785041375676'}, {'type': 'ISBN_10', 'identifier': '5041375674'}\", 'readingModes': {'text': True, 'image': True}, 'pageCount': 469, 'printType': 'BOOK', 'categories': 'Foreign Language Study', 'maturityRating': 'NOT_MATURE', 'allowAnonLogging': True, 'contentVersion': '1.6.6.0.preview.3', 'panelizationSummary': {'containsEpubBubbles': False, 'containsImageBubbles': False}, 'imageLinks': {'smallThumbnail': 'http://books.google.com/books/content?id=qS9yDwAAQBAJ&printsec=frontcover&img=1&zoom=5&edge=curl&source=gbs_api', 'thumbnail': 'http://books.google.com/books/content?id=qS9yDwAAQBAJ&printsec=frontcover&img=1&zoom=1&edge=curl&source=gbs_api'}, 'language': 'en', 'previewLink': 'http://books.google.it/books?id=qS9yDwAAQBAJ&printsec=frontcover&dq=intitle:None&hl=&cd=1&source=gbs_api', 'infoLink': 'http://books.google.it/books?id=qS9yDwAAQBAJ&dq=intitle:None&hl=&source=gbs_api', 'canonicalVolumeLink': 'https://books.google.com/books/about/And_Then_There_Were_None_%D0%98_%D0%BD%D0%B8%D0%BA%D0%BE%D0%B3%D0%BE.html?hl=&id=qS9yDwAAQBAJ', 'subtitle': 'Not available', 'averageRating': 'Not available', 'ratingsCount': 'Not available', 'seriesInfo': 'Not available'}, score: 0.10357747967504168), context=None, document_offset=ExtractedAnswer.Span(start=498, end=564), context_offset=None, meta={}) \n",
            "\n",
            "ExtractedAnswer(query='Who is the author of let the great world spin?', score=0.25067336722335115, data=None, document=None, context=None, document_offset=None, context_offset=None, meta={}) \n",
            "\n",
            "['martian', None, None, 'kevin', None, 'eragon', None, '5', '1', '1', '2', None, 'five', None, None, 'american', 'titan', '3', 'percy jackson', '2666', '2', 'robert langdon', 'olive kitteridge', None, '1', '1', None, 'tehran', 'america', None, 'wolf hall', '1', 'hush', None, '4', '1', '4', None, '1', None, None]\n",
            "book title is None\n"
          ]
        },
        {
          "data": {
            "application/vnd.jupyter.widget-view+json": {
              "model_id": "e561a8f04bbd4446af28e187a423e925",
              "version_major": 2,
              "version_minor": 0
            },
            "text/plain": [
              "Batches:   0%|          | 0/1 [00:00<?, ?it/s]"
            ]
          },
          "metadata": {},
          "output_type": "display_data"
        },
        {
          "data": {
            "application/vnd.jupyter.widget-view+json": {
              "model_id": "111e511a04f047499b51574566cad97c",
              "version_major": 2,
              "version_minor": 0
            },
            "text/plain": [
              "Batches:   0%|          | 0/1 [00:00<?, ?it/s]"
            ]
          },
          "metadata": {},
          "output_type": "display_data"
        },
        {
          "name": "stdout",
          "output_type": "stream",
          "text": [
            "ExtractedAnswer(query=\"Who is the author of the yiddish policemen's union?\", score=0.49719637632369995, data='Агата Кристи', document=Document(id=e7589d9912517481ba7ca4862f0c2cedfa4c8a9fc11b30265e1d8c95fa8b4cdf, content: 'Title: And Then There Were None / И никого не стало. Книга для чтения на английском языке;\n",
            "Writer/Au...', meta: {'title': 'And Then There Were None / И никого не стало. Книга для чтения на английском языке', 'authors': 'Агата Кристи', 'publisher': 'Litres', 'publishedDate': '2018-10-09', 'industryIdentifiers': \"{'type': 'ISBN_13', 'identifier': '9785041375676'}, {'type': 'ISBN_10', 'identifier': '5041375674'}\", 'readingModes': {'text': True, 'image': True}, 'pageCount': 469, 'printType': 'BOOK', 'categories': 'Foreign Language Study', 'maturityRating': 'NOT_MATURE', 'allowAnonLogging': True, 'contentVersion': '1.6.6.0.preview.3', 'panelizationSummary': {'containsEpubBubbles': False, 'containsImageBubbles': False}, 'imageLinks': {'smallThumbnail': 'http://books.google.com/books/content?id=qS9yDwAAQBAJ&printsec=frontcover&img=1&zoom=5&edge=curl&source=gbs_api', 'thumbnail': 'http://books.google.com/books/content?id=qS9yDwAAQBAJ&printsec=frontcover&img=1&zoom=1&edge=curl&source=gbs_api'}, 'language': 'en', 'previewLink': 'http://books.google.it/books?id=qS9yDwAAQBAJ&printsec=frontcover&dq=intitle:None&hl=&cd=1&source=gbs_api', 'infoLink': 'http://books.google.it/books?id=qS9yDwAAQBAJ&dq=intitle:None&hl=&source=gbs_api', 'canonicalVolumeLink': 'https://books.google.com/books/about/And_Then_There_Were_None_%D0%98_%D0%BD%D0%B8%D0%BA%D0%BE%D0%B3%D0%BE.html?hl=&id=qS9yDwAAQBAJ', 'subtitle': 'Not available', 'averageRating': 'Not available', 'ratingsCount': 'Not available', 'seriesInfo': 'Not available'}, score: 0.26538898983763776), context=None, document_offset=ExtractedAnswer.Span(start=106, end=118), context_offset=None, meta={}) \n",
            "\n",
            "ExtractedAnswer(query=\"Who is the author of the yiddish policemen's union?\", score=0.34317415952682495, data='Foreign Language Study;\\nNumber of pages: 469;\\nPublished by: Litres', document=Document(id=e7589d9912517481ba7ca4862f0c2cedfa4c8a9fc11b30265e1d8c95fa8b4cdf, content: 'Title: And Then There Were None / И никого не стало. Книга для чтения на английском языке;\n",
            "Writer/Au...', meta: {'title': 'And Then There Were None / И никого не стало. Книга для чтения на английском языке', 'authors': 'Агата Кристи', 'publisher': 'Litres', 'publishedDate': '2018-10-09', 'industryIdentifiers': \"{'type': 'ISBN_13', 'identifier': '9785041375676'}, {'type': 'ISBN_10', 'identifier': '5041375674'}\", 'readingModes': {'text': True, 'image': True}, 'pageCount': 469, 'printType': 'BOOK', 'categories': 'Foreign Language Study', 'maturityRating': 'NOT_MATURE', 'allowAnonLogging': True, 'contentVersion': '1.6.6.0.preview.3', 'panelizationSummary': {'containsEpubBubbles': False, 'containsImageBubbles': False}, 'imageLinks': {'smallThumbnail': 'http://books.google.com/books/content?id=qS9yDwAAQBAJ&printsec=frontcover&img=1&zoom=5&edge=curl&source=gbs_api', 'thumbnail': 'http://books.google.com/books/content?id=qS9yDwAAQBAJ&printsec=frontcover&img=1&zoom=1&edge=curl&source=gbs_api'}, 'language': 'en', 'previewLink': 'http://books.google.it/books?id=qS9yDwAAQBAJ&printsec=frontcover&dq=intitle:None&hl=&cd=1&source=gbs_api', 'infoLink': 'http://books.google.it/books?id=qS9yDwAAQBAJ&dq=intitle:None&hl=&source=gbs_api', 'canonicalVolumeLink': 'https://books.google.com/books/about/And_Then_There_Were_None_%D0%98_%D0%BD%D0%B8%D0%BA%D0%BE%D0%B3%D0%BE.html?hl=&id=qS9yDwAAQBAJ', 'subtitle': 'Not available', 'averageRating': 'Not available', 'ratingsCount': 'Not available', 'seriesInfo': 'Not available'}, score: 0.26538898983763776), context=None, document_offset=ExtractedAnswer.Span(start=498, end=564), context_offset=None, meta={}) \n",
            "\n",
            "ExtractedAnswer(query=\"Who is the author of the yiddish policemen's union?\", score=0.31415876746177673, data='2018-10-09', document=Document(id=e7589d9912517481ba7ca4862f0c2cedfa4c8a9fc11b30265e1d8c95fa8b4cdf, content: 'Title: And Then There Were None / И никого не стало. Книга для чтения на английском языке;\n",
            "Writer/Au...', meta: {'title': 'And Then There Were None / И никого не стало. Книга для чтения на английском языке', 'authors': 'Агата Кристи', 'publisher': 'Litres', 'publishedDate': '2018-10-09', 'industryIdentifiers': \"{'type': 'ISBN_13', 'identifier': '9785041375676'}, {'type': 'ISBN_10', 'identifier': '5041375674'}\", 'readingModes': {'text': True, 'image': True}, 'pageCount': 469, 'printType': 'BOOK', 'categories': 'Foreign Language Study', 'maturityRating': 'NOT_MATURE', 'allowAnonLogging': True, 'contentVersion': '1.6.6.0.preview.3', 'panelizationSummary': {'containsEpubBubbles': False, 'containsImageBubbles': False}, 'imageLinks': {'smallThumbnail': 'http://books.google.com/books/content?id=qS9yDwAAQBAJ&printsec=frontcover&img=1&zoom=5&edge=curl&source=gbs_api', 'thumbnail': 'http://books.google.com/books/content?id=qS9yDwAAQBAJ&printsec=frontcover&img=1&zoom=1&edge=curl&source=gbs_api'}, 'language': 'en', 'previewLink': 'http://books.google.it/books?id=qS9yDwAAQBAJ&printsec=frontcover&dq=intitle:None&hl=&cd=1&source=gbs_api', 'infoLink': 'http://books.google.it/books?id=qS9yDwAAQBAJ&dq=intitle:None&hl=&source=gbs_api', 'canonicalVolumeLink': 'https://books.google.com/books/about/And_Then_There_Were_None_%D0%98_%D0%BD%D0%B8%D0%BA%D0%BE%D0%B3%D0%BE.html?hl=&id=qS9yDwAAQBAJ', 'subtitle': 'Not available', 'averageRating': 'Not available', 'ratingsCount': 'Not available', 'seriesInfo': 'Not available'}, score: 0.26538898983763776), context=None, document_offset=ExtractedAnswer.Span(start=578, end=588), context_offset=None, meta={}) \n",
            "\n",
            "ExtractedAnswer(query=\"Who is the author of the yiddish policemen's union?\", score=0.22650209346705547, data=None, document=None, context=None, document_offset=None, context_offset=None, meta={}) \n",
            "\n",
            "['martian', None, None, 'kevin', None, 'eragon', None, '5', '1', '1', '2', None, 'five', None, None, 'american', 'titan', '3', 'percy jackson', '2666', '2', 'robert langdon', 'olive kitteridge', None, '1', '1', None, 'tehran', 'america', None, 'wolf hall', '1', 'hush', None, '4', '1', '4', None, '1', None, None, 'america']\n",
            "book title is america\n"
          ]
        },
        {
          "data": {
            "application/vnd.jupyter.widget-view+json": {
              "model_id": "74fca07b78534466ad0d0cff4e5fadf5",
              "version_major": 2,
              "version_minor": 0
            },
            "text/plain": [
              "Batches:   0%|          | 0/1 [00:00<?, ?it/s]"
            ]
          },
          "metadata": {},
          "output_type": "display_data"
        },
        {
          "data": {
            "application/vnd.jupyter.widget-view+json": {
              "model_id": "68c6ca3bb3a14833bab06f23ae50c5ed",
              "version_major": 2,
              "version_minor": 0
            },
            "text/plain": [
              "Batches:   0%|          | 0/1 [00:00<?, ?it/s]"
            ]
          },
          "metadata": {},
          "output_type": "display_data"
        },
        {
          "name": "stdout",
          "output_type": "stream",
          "text": [
            "ExtractedAnswer(query='Who is the author of nickel and dimed: on (not) getting by in america?', score=0.6236956715583801, data='Beppe Severgnini', document=Document(id=987c66195a250f6d6acbcf30cd36cfa25a7aa99e01856674a166c5f27fe7611d, content: 'Title: Un italiano in America;\n",
            "Writer/Author: Beppe Severgnini;\n",
            "Topic: È vero che gli americani impa...', meta: {'title': 'Un italiano in America', 'authors': 'Beppe Severgnini', 'publisher': 'Bur', 'publishedDate': '2011-05-31', 'industryIdentifiers': \"{'type': 'ISBN_13', 'identifier': '9788858610619'}, {'type': 'ISBN_10', 'identifier': '885861061X'}\", 'readingModes': {'text': True, 'image': True}, 'pageCount': 221, 'printType': 'BOOK', 'categories': 'Humor', 'averageRating': 5, 'ratingsCount': 3, 'maturityRating': 'NOT_MATURE', 'allowAnonLogging': True, 'contentVersion': '4.41.38.0.preview.3', 'panelizationSummary': {'containsEpubBubbles': False, 'containsImageBubbles': False}, 'imageLinks': {'smallThumbnail': 'http://books.google.com/books/content?id=hUod4lQoBUYC&printsec=frontcover&img=1&zoom=5&edge=curl&source=gbs_api', 'thumbnail': 'http://books.google.com/books/content?id=hUod4lQoBUYC&printsec=frontcover&img=1&zoom=1&edge=curl&source=gbs_api'}, 'language': 'it', 'previewLink': 'http://books.google.it/books?id=hUod4lQoBUYC&printsec=frontcover&dq=intitle:america&hl=&cd=1&source=gbs_api', 'infoLink': 'https://play.google.com/store/books/details?id=hUod4lQoBUYC&source=gbs_api', 'canonicalVolumeLink': 'https://play.google.com/store/books/details?id=hUod4lQoBUYC', 'subtitle': 'Not available', 'seriesInfo': 'Not available'}, score: 0.16054871684267794), context=None, document_offset=ExtractedAnswer.Span(start=46, end=62), context_offset=None, meta={}) \n",
            "\n",
            "ExtractedAnswer(query='Who is the author of nickel and dimed: on (not) getting by in america?', score=0.5004159212112427, data='Beppe Severgnini', document=Document(id=987c66195a250f6d6acbcf30cd36cfa25a7aa99e01856674a166c5f27fe7611d, content: 'Title: Un italiano in America;\n",
            "Writer/Author: Beppe Severgnini;\n",
            "Topic: È vero che gli americani impa...', meta: {'title': 'Un italiano in America', 'authors': 'Beppe Severgnini', 'publisher': 'Bur', 'publishedDate': '2011-05-31', 'industryIdentifiers': \"{'type': 'ISBN_13', 'identifier': '9788858610619'}, {'type': 'ISBN_10', 'identifier': '885861061X'}\", 'readingModes': {'text': True, 'image': True}, 'pageCount': 221, 'printType': 'BOOK', 'categories': 'Humor', 'averageRating': 5, 'ratingsCount': 3, 'maturityRating': 'NOT_MATURE', 'allowAnonLogging': True, 'contentVersion': '4.41.38.0.preview.3', 'panelizationSummary': {'containsEpubBubbles': False, 'containsImageBubbles': False}, 'imageLinks': {'smallThumbnail': 'http://books.google.com/books/content?id=hUod4lQoBUYC&printsec=frontcover&img=1&zoom=5&edge=curl&source=gbs_api', 'thumbnail': 'http://books.google.com/books/content?id=hUod4lQoBUYC&printsec=frontcover&img=1&zoom=1&edge=curl&source=gbs_api'}, 'language': 'it', 'previewLink': 'http://books.google.it/books?id=hUod4lQoBUYC&printsec=frontcover&dq=intitle:america&hl=&cd=1&source=gbs_api', 'infoLink': 'https://play.google.com/store/books/details?id=hUod4lQoBUYC&source=gbs_api', 'canonicalVolumeLink': 'https://play.google.com/store/books/details?id=hUod4lQoBUYC', 'subtitle': 'Not available', 'seriesInfo': 'Not available'}, score: 0.16054871684267794), context=None, document_offset=ExtractedAnswer.Span(start=234, end=250), context_offset=None, meta={}) \n",
            "\n",
            "ExtractedAnswer(query='Who is the author of nickel and dimed: on (not) getting by in america?', score=0.18799565126872864, data=None, document=None, context=None, document_offset=None, context_offset=None, meta={}) \n",
            "\n",
            "['martian', None, None, 'kevin', None, 'eragon', None, '5', '1', '1', '2', None, 'five', None, None, 'american', 'titan', '3', 'percy jackson', '2666', '2', 'robert langdon', 'olive kitteridge', None, '1', '1', None, 'tehran', 'america', None, 'wolf hall', '1', 'hush', None, '4', '1', '4', None, '1', None, None, 'america', None]\n",
            "book title is None\n"
          ]
        },
        {
          "data": {
            "application/vnd.jupyter.widget-view+json": {
              "model_id": "5df70b49527b47e6a0a89f4e60ea3820",
              "version_major": 2,
              "version_minor": 0
            },
            "text/plain": [
              "Batches:   0%|          | 0/1 [00:00<?, ?it/s]"
            ]
          },
          "metadata": {},
          "output_type": "display_data"
        },
        {
          "data": {
            "application/vnd.jupyter.widget-view+json": {
              "model_id": "9b890c4cc0744268ad8ab1b1699fa00b",
              "version_major": 2,
              "version_minor": 0
            },
            "text/plain": [
              "Batches:   0%|          | 0/1 [00:00<?, ?it/s]"
            ]
          },
          "metadata": {},
          "output_type": "display_data"
        },
        {
          "name": "stdout",
          "output_type": "stream",
          "text": [
            "ExtractedAnswer(query='Who is the author of running with scissors?', score=0.3347867429256439, data='Агата Кристи', document=Document(id=e7589d9912517481ba7ca4862f0c2cedfa4c8a9fc11b30265e1d8c95fa8b4cdf, content: 'Title: And Then There Were None / И никого не стало. Книга для чтения на английском языке;\n",
            "Writer/Au...', meta: {'title': 'And Then There Were None / И никого не стало. Книга для чтения на английском языке', 'authors': 'Агата Кристи', 'publisher': 'Litres', 'publishedDate': '2018-10-09', 'industryIdentifiers': \"{'type': 'ISBN_13', 'identifier': '9785041375676'}, {'type': 'ISBN_10', 'identifier': '5041375674'}\", 'readingModes': {'text': True, 'image': True}, 'pageCount': 469, 'printType': 'BOOK', 'categories': 'Foreign Language Study', 'maturityRating': 'NOT_MATURE', 'allowAnonLogging': True, 'contentVersion': '1.6.6.0.preview.3', 'panelizationSummary': {'containsEpubBubbles': False, 'containsImageBubbles': False}, 'imageLinks': {'smallThumbnail': 'http://books.google.com/books/content?id=qS9yDwAAQBAJ&printsec=frontcover&img=1&zoom=5&edge=curl&source=gbs_api', 'thumbnail': 'http://books.google.com/books/content?id=qS9yDwAAQBAJ&printsec=frontcover&img=1&zoom=1&edge=curl&source=gbs_api'}, 'language': 'en', 'previewLink': 'http://books.google.it/books?id=qS9yDwAAQBAJ&printsec=frontcover&dq=intitle:None&hl=&cd=1&source=gbs_api', 'infoLink': 'http://books.google.it/books?id=qS9yDwAAQBAJ&dq=intitle:None&hl=&source=gbs_api', 'canonicalVolumeLink': 'https://books.google.com/books/about/And_Then_There_Were_None_%D0%98_%D0%BD%D0%B8%D0%BA%D0%BE%D0%B3%D0%BE.html?hl=&id=qS9yDwAAQBAJ', 'subtitle': 'Not available', 'averageRating': 'Not available', 'ratingsCount': 'Not available', 'seriesInfo': 'Not available'}, score: 0.10699295482283917), context=None, document_offset=ExtractedAnswer.Span(start=106, end=118), context_offset=None, meta={}) \n",
            "\n",
            "ExtractedAnswer(query='Who is the author of running with scissors?', score=0.32297539710998535, data='Foreign Language Study;\\nNumber of pages: 469;\\nPublished by: Litres', document=Document(id=e7589d9912517481ba7ca4862f0c2cedfa4c8a9fc11b30265e1d8c95fa8b4cdf, content: 'Title: And Then There Were None / И никого не стало. Книга для чтения на английском языке;\n",
            "Writer/Au...', meta: {'title': 'And Then There Were None / И никого не стало. Книга для чтения на английском языке', 'authors': 'Агата Кристи', 'publisher': 'Litres', 'publishedDate': '2018-10-09', 'industryIdentifiers': \"{'type': 'ISBN_13', 'identifier': '9785041375676'}, {'type': 'ISBN_10', 'identifier': '5041375674'}\", 'readingModes': {'text': True, 'image': True}, 'pageCount': 469, 'printType': 'BOOK', 'categories': 'Foreign Language Study', 'maturityRating': 'NOT_MATURE', 'allowAnonLogging': True, 'contentVersion': '1.6.6.0.preview.3', 'panelizationSummary': {'containsEpubBubbles': False, 'containsImageBubbles': False}, 'imageLinks': {'smallThumbnail': 'http://books.google.com/books/content?id=qS9yDwAAQBAJ&printsec=frontcover&img=1&zoom=5&edge=curl&source=gbs_api', 'thumbnail': 'http://books.google.com/books/content?id=qS9yDwAAQBAJ&printsec=frontcover&img=1&zoom=1&edge=curl&source=gbs_api'}, 'language': 'en', 'previewLink': 'http://books.google.it/books?id=qS9yDwAAQBAJ&printsec=frontcover&dq=intitle:None&hl=&cd=1&source=gbs_api', 'infoLink': 'http://books.google.it/books?id=qS9yDwAAQBAJ&dq=intitle:None&hl=&source=gbs_api', 'canonicalVolumeLink': 'https://books.google.com/books/about/And_Then_There_Were_None_%D0%98_%D0%BD%D0%B8%D0%BA%D0%BE%D0%B3%D0%BE.html?hl=&id=qS9yDwAAQBAJ', 'subtitle': 'Not available', 'averageRating': 'Not available', 'ratingsCount': 'Not available', 'seriesInfo': 'Not available'}, score: 0.10699295482283917), context=None, document_offset=ExtractedAnswer.Span(start=498, end=564), context_offset=None, meta={}) \n",
            "\n",
            "ExtractedAnswer(query='Who is the author of running with scissors?', score=0.3180264639905659, data=None, document=None, context=None, document_offset=None, context_offset=None, meta={}) \n",
            "\n",
            "ExtractedAnswer(query='Who is the author of running with scissors?', score=0.29384845495224, data='2018-10-09', document=Document(id=e7589d9912517481ba7ca4862f0c2cedfa4c8a9fc11b30265e1d8c95fa8b4cdf, content: 'Title: And Then There Were None / И никого не стало. Книга для чтения на английском языке;\n",
            "Writer/Au...', meta: {'title': 'And Then There Were None / И никого не стало. Книга для чтения на английском языке', 'authors': 'Агата Кристи', 'publisher': 'Litres', 'publishedDate': '2018-10-09', 'industryIdentifiers': \"{'type': 'ISBN_13', 'identifier': '9785041375676'}, {'type': 'ISBN_10', 'identifier': '5041375674'}\", 'readingModes': {'text': True, 'image': True}, 'pageCount': 469, 'printType': 'BOOK', 'categories': 'Foreign Language Study', 'maturityRating': 'NOT_MATURE', 'allowAnonLogging': True, 'contentVersion': '1.6.6.0.preview.3', 'panelizationSummary': {'containsEpubBubbles': False, 'containsImageBubbles': False}, 'imageLinks': {'smallThumbnail': 'http://books.google.com/books/content?id=qS9yDwAAQBAJ&printsec=frontcover&img=1&zoom=5&edge=curl&source=gbs_api', 'thumbnail': 'http://books.google.com/books/content?id=qS9yDwAAQBAJ&printsec=frontcover&img=1&zoom=1&edge=curl&source=gbs_api'}, 'language': 'en', 'previewLink': 'http://books.google.it/books?id=qS9yDwAAQBAJ&printsec=frontcover&dq=intitle:None&hl=&cd=1&source=gbs_api', 'infoLink': 'http://books.google.it/books?id=qS9yDwAAQBAJ&dq=intitle:None&hl=&source=gbs_api', 'canonicalVolumeLink': 'https://books.google.com/books/about/And_Then_There_Were_None_%D0%98_%D0%BD%D0%B8%D0%BA%D0%BE%D0%B3%D0%BE.html?hl=&id=qS9yDwAAQBAJ', 'subtitle': 'Not available', 'averageRating': 'Not available', 'ratingsCount': 'Not available', 'seriesInfo': 'Not available'}, score: 0.10699295482283917), context=None, document_offset=ExtractedAnswer.Span(start=578, end=588), context_offset=None, meta={}) \n",
            "\n",
            "['martian', None, None, 'kevin', None, 'eragon', None, '5', '1', '1', '2', None, 'five', None, None, 'american', 'titan', '3', 'percy jackson', '2666', '2', 'robert langdon', 'olive kitteridge', None, '1', '1', None, 'tehran', 'america', None, 'wolf hall', '1', 'hush', None, '4', '1', '4', None, '1', None, None, 'america', None, '1q84']\n",
            "book title is 1q84\n"
          ]
        },
        {
          "data": {
            "application/vnd.jupyter.widget-view+json": {
              "model_id": "229094804a8a431ba15863af347d52ca",
              "version_major": 2,
              "version_minor": 0
            },
            "text/plain": [
              "Batches:   0%|          | 0/1 [00:00<?, ?it/s]"
            ]
          },
          "metadata": {},
          "output_type": "display_data"
        },
        {
          "data": {
            "application/vnd.jupyter.widget-view+json": {
              "model_id": "441d2116bdf54048a432b2f997848bf7",
              "version_major": 2,
              "version_minor": 0
            },
            "text/plain": [
              "Batches:   0%|          | 0/1 [00:00<?, ?it/s]"
            ]
          },
          "metadata": {},
          "output_type": "display_data"
        },
        {
          "name": "stdout",
          "output_type": "stream",
          "text": [
            "ExtractedAnswer(query='Who is the author of 1q84 (1q84 #1-3)?', score=0.6771168112754822, data='Murakami Haruki', document=Document(id=93947567edd32d25e72e2205b062037b90d1790427a56e969a559815be15dfdd, content: 'Title: 1Q84 - Libro 1 e 2 (Versione italiana);\n",
            "Writer/Author: Murakami Haruki,;\n",
            "Topic: Aomame è spie...', meta: {'title': '1Q84 - Libro 1 e 2 (Versione italiana)', 'authors': 'Murakami Haruki,', 'publisher': 'Giulio Einaudi Editore', 'publishedDate': '2011-11-08', 'industryIdentifiers': \"{'type': 'ISBN_13', 'identifier': '9788858405093'}, {'type': 'ISBN_10', 'identifier': '8858405099'}\", 'readingModes': {'text': True, 'image': True}, 'pageCount': 728, 'printType': 'BOOK', 'categories': 'Fiction', 'averageRating': 4, 'ratingsCount': 9, 'maturityRating': 'NOT_MATURE', 'allowAnonLogging': True, 'contentVersion': '4.27.27.0.preview.3', 'panelizationSummary': {'containsEpubBubbles': False, 'containsImageBubbles': False}, 'imageLinks': {'smallThumbnail': 'http://books.google.com/books/content?id=jaL5UCfLmfcC&printsec=frontcover&img=1&zoom=5&edge=curl&source=gbs_api', 'thumbnail': 'http://books.google.com/books/content?id=jaL5UCfLmfcC&printsec=frontcover&img=1&zoom=1&edge=curl&source=gbs_api'}, 'language': 'it', 'previewLink': 'http://books.google.it/books?id=jaL5UCfLmfcC&printsec=frontcover&dq=intitle:1q84&hl=&cd=1&source=gbs_api', 'infoLink': 'https://play.google.com/store/books/details?id=jaL5UCfLmfcC&source=gbs_api', 'canonicalVolumeLink': 'https://play.google.com/store/books/details?id=jaL5UCfLmfcC', 'subtitle': 'Not available', 'seriesInfo': 'Not available'}, score: 0.218038640509692), context=None, document_offset=ExtractedAnswer.Span(start=62, end=77), context_offset=None, meta={}) \n",
            "\n",
            "ExtractedAnswer(query='Who is the author of 1q84 (1q84 #1-3)?', score=0.5031300187110901, data='Murakami', document=Document(id=93947567edd32d25e72e2205b062037b90d1790427a56e969a559815be15dfdd, content: 'Title: 1Q84 - Libro 1 e 2 (Versione italiana);\n",
            "Writer/Author: Murakami Haruki,;\n",
            "Topic: Aomame è spie...', meta: {'title': '1Q84 - Libro 1 e 2 (Versione italiana)', 'authors': 'Murakami Haruki,', 'publisher': 'Giulio Einaudi Editore', 'publishedDate': '2011-11-08', 'industryIdentifiers': \"{'type': 'ISBN_13', 'identifier': '9788858405093'}, {'type': 'ISBN_10', 'identifier': '8858405099'}\", 'readingModes': {'text': True, 'image': True}, 'pageCount': 728, 'printType': 'BOOK', 'categories': 'Fiction', 'averageRating': 4, 'ratingsCount': 9, 'maturityRating': 'NOT_MATURE', 'allowAnonLogging': True, 'contentVersion': '4.27.27.0.preview.3', 'panelizationSummary': {'containsEpubBubbles': False, 'containsImageBubbles': False}, 'imageLinks': {'smallThumbnail': 'http://books.google.com/books/content?id=jaL5UCfLmfcC&printsec=frontcover&img=1&zoom=5&edge=curl&source=gbs_api', 'thumbnail': 'http://books.google.com/books/content?id=jaL5UCfLmfcC&printsec=frontcover&img=1&zoom=1&edge=curl&source=gbs_api'}, 'language': 'it', 'previewLink': 'http://books.google.it/books?id=jaL5UCfLmfcC&printsec=frontcover&dq=intitle:1q84&hl=&cd=1&source=gbs_api', 'infoLink': 'https://play.google.com/store/books/details?id=jaL5UCfLmfcC&source=gbs_api', 'canonicalVolumeLink': 'https://play.google.com/store/books/details?id=jaL5UCfLmfcC', 'subtitle': 'Not available', 'seriesInfo': 'Not available'}, score: 0.218038640509692), context=None, document_offset=ExtractedAnswer.Span(start=596, end=604), context_offset=None, meta={}) \n",
            "\n",
            "ExtractedAnswer(query='Who is the author of 1q84 (1q84 #1-3)?', score=0.16043096394005474, data=None, document=None, context=None, document_offset=None, context_offset=None, meta={}) \n",
            "\n",
            "['martian', None, None, 'kevin', None, 'eragon', None, '5', '1', '1', '2', None, 'five', None, None, 'american', 'titan', '3', 'percy jackson', '2666', '2', 'robert langdon', 'olive kitteridge', None, '1', '1', None, 'tehran', 'america', None, 'wolf hall', '1', 'hush', None, '4', '1', '4', None, '1', None, None, 'america', None, '1q84', 'hugo']\n",
            "book title is hugo\n"
          ]
        },
        {
          "data": {
            "application/vnd.jupyter.widget-view+json": {
              "model_id": "a9f1f6a59e1c4bffa673872e879eef51",
              "version_major": 2,
              "version_minor": 0
            },
            "text/plain": [
              "Batches:   0%|          | 0/1 [00:00<?, ?it/s]"
            ]
          },
          "metadata": {},
          "output_type": "display_data"
        },
        {
          "data": {
            "application/vnd.jupyter.widget-view+json": {
              "model_id": "e10fd6d8d5d64241b99ba76851931752",
              "version_major": 2,
              "version_minor": 0
            },
            "text/plain": [
              "Batches:   0%|          | 0/1 [00:00<?, ?it/s]"
            ]
          },
          "metadata": {},
          "output_type": "display_data"
        },
        {
          "name": "stdout",
          "output_type": "stream",
          "text": [
            "ExtractedAnswer(query='Who is the author of the invention of hugo cabret?', score=0.7222036123275757, data='Taylor Jenkins Reid', document=Document(id=37b02b6396c4b3d6d5f0f0c4bd75ecc483f2405ddbf6f9c4e3ce699b37b3e8da, content: 'Title: I sette mariti di Evelyn Hugo;\n",
            "Writer/Author: Taylor Jenkins Reid;\n",
            "Topic: Dopo anni vissuti l...', meta: {'title': 'I sette mariti di Evelyn Hugo', 'authors': 'Taylor Jenkins Reid', 'publisher': 'Edizioni Mondadori', 'publishedDate': '2021-09-07', 'industryIdentifiers': \"{'type': 'ISBN_13', 'identifier': '9788835712169'}, {'type': 'ISBN_10', 'identifier': '8835712165'}\", 'readingModes': {'text': True, 'image': True}, 'pageCount': 413, 'printType': 'BOOK', 'categories': 'Fiction', 'maturityRating': 'NOT_MATURE', 'allowAnonLogging': True, 'contentVersion': '0.2.2.0.preview.3', 'panelizationSummary': {'containsEpubBubbles': False, 'containsImageBubbles': False}, 'imageLinks': {'smallThumbnail': 'http://books.google.com/books/content?id=yCA6EAAAQBAJ&printsec=frontcover&img=1&zoom=5&edge=curl&source=gbs_api', 'thumbnail': 'http://books.google.com/books/content?id=yCA6EAAAQBAJ&printsec=frontcover&img=1&zoom=1&edge=curl&source=gbs_api'}, 'language': 'it', 'previewLink': 'http://books.google.it/books?id=yCA6EAAAQBAJ&printsec=frontcover&dq=intitle:hugo&hl=&cd=1&source=gbs_api', 'infoLink': 'https://play.google.com/store/books/details?id=yCA6EAAAQBAJ&source=gbs_api', 'canonicalVolumeLink': 'https://play.google.com/store/books/details?id=yCA6EAAAQBAJ', 'subtitle': 'Not available', 'averageRating': 'Not available', 'ratingsCount': 'Not available', 'seriesInfo': 'Not available'}, score: 0.18990916139828706), context=None, document_offset=ExtractedAnswer.Span(start=53, end=72), context_offset=None, meta={}) \n",
            "\n",
            "ExtractedAnswer(query='Who is the author of the invention of hugo cabret?', score=0.6592004895210266, data='Evelyn Hugo', document=Document(id=37b02b6396c4b3d6d5f0f0c4bd75ecc483f2405ddbf6f9c4e3ce699b37b3e8da, content: 'Title: I sette mariti di Evelyn Hugo;\n",
            "Writer/Author: Taylor Jenkins Reid;\n",
            "Topic: Dopo anni vissuti l...', meta: {'title': 'I sette mariti di Evelyn Hugo', 'authors': 'Taylor Jenkins Reid', 'publisher': 'Edizioni Mondadori', 'publishedDate': '2021-09-07', 'industryIdentifiers': \"{'type': 'ISBN_13', 'identifier': '9788835712169'}, {'type': 'ISBN_10', 'identifier': '8835712165'}\", 'readingModes': {'text': True, 'image': True}, 'pageCount': 413, 'printType': 'BOOK', 'categories': 'Fiction', 'maturityRating': 'NOT_MATURE', 'allowAnonLogging': True, 'contentVersion': '0.2.2.0.preview.3', 'panelizationSummary': {'containsEpubBubbles': False, 'containsImageBubbles': False}, 'imageLinks': {'smallThumbnail': 'http://books.google.com/books/content?id=yCA6EAAAQBAJ&printsec=frontcover&img=1&zoom=5&edge=curl&source=gbs_api', 'thumbnail': 'http://books.google.com/books/content?id=yCA6EAAAQBAJ&printsec=frontcover&img=1&zoom=1&edge=curl&source=gbs_api'}, 'language': 'it', 'previewLink': 'http://books.google.it/books?id=yCA6EAAAQBAJ&printsec=frontcover&dq=intitle:hugo&hl=&cd=1&source=gbs_api', 'infoLink': 'https://play.google.com/store/books/details?id=yCA6EAAAQBAJ&source=gbs_api', 'canonicalVolumeLink': 'https://play.google.com/store/books/details?id=yCA6EAAAQBAJ', 'subtitle': 'Not available', 'averageRating': 'Not available', 'ratingsCount': 'Not available', 'seriesInfo': 'Not available'}, score: 0.18990916139828706), context=None, document_offset=ExtractedAnswer.Span(start=696, end=707), context_offset=None, meta={}) \n",
            "\n",
            "ExtractedAnswer(query='Who is the author of the invention of hugo cabret?', score=0.5111380219459534, data='Monique Grant', document=Document(id=37b02b6396c4b3d6d5f0f0c4bd75ecc483f2405ddbf6f9c4e3ce699b37b3e8da, content: 'Title: I sette mariti di Evelyn Hugo;\n",
            "Writer/Author: Taylor Jenkins Reid;\n",
            "Topic: Dopo anni vissuti l...', meta: {'title': 'I sette mariti di Evelyn Hugo', 'authors': 'Taylor Jenkins Reid', 'publisher': 'Edizioni Mondadori', 'publishedDate': '2021-09-07', 'industryIdentifiers': \"{'type': 'ISBN_13', 'identifier': '9788835712169'}, {'type': 'ISBN_10', 'identifier': '8835712165'}\", 'readingModes': {'text': True, 'image': True}, 'pageCount': 413, 'printType': 'BOOK', 'categories': 'Fiction', 'maturityRating': 'NOT_MATURE', 'allowAnonLogging': True, 'contentVersion': '0.2.2.0.preview.3', 'panelizationSummary': {'containsEpubBubbles': False, 'containsImageBubbles': False}, 'imageLinks': {'smallThumbnail': 'http://books.google.com/books/content?id=yCA6EAAAQBAJ&printsec=frontcover&img=1&zoom=5&edge=curl&source=gbs_api', 'thumbnail': 'http://books.google.com/books/content?id=yCA6EAAAQBAJ&printsec=frontcover&img=1&zoom=1&edge=curl&source=gbs_api'}, 'language': 'it', 'previewLink': 'http://books.google.it/books?id=yCA6EAAAQBAJ&printsec=frontcover&dq=intitle:hugo&hl=&cd=1&source=gbs_api', 'infoLink': 'https://play.google.com/store/books/details?id=yCA6EAAAQBAJ&source=gbs_api', 'canonicalVolumeLink': 'https://play.google.com/store/books/details?id=yCA6EAAAQBAJ', 'subtitle': 'Not available', 'averageRating': 'Not available', 'ratingsCount': 'Not available', 'seriesInfo': 'Not available'}, score: 0.18990916139828706), context=None, document_offset=ExtractedAnswer.Span(start=321, end=334), context_offset=None, meta={}) \n",
            "\n",
            "ExtractedAnswer(query='Who is the author of the invention of hugo cabret?', score=0.046281967929396164, data=None, document=None, context=None, document_offset=None, context_offset=None, meta={}) \n",
            "\n",
            "['martian', None, None, 'kevin', None, 'eragon', None, '5', '1', '1', '2', None, 'five', None, None, 'american', 'titan', '3', 'percy jackson', '2666', '2', 'robert langdon', 'olive kitteridge', None, '1', '1', None, 'tehran', 'america', None, 'wolf hall', '1', 'hush', None, '4', '1', '4', None, '1', None, None, 'america', None, '1q84', 'hugo', '1']\n",
            "book title is 1\n"
          ]
        },
        {
          "data": {
            "application/vnd.jupyter.widget-view+json": {
              "model_id": "fef4310da5d34e589591c079b86fef89",
              "version_major": 2,
              "version_minor": 0
            },
            "text/plain": [
              "Batches:   0%|          | 0/1 [00:00<?, ?it/s]"
            ]
          },
          "metadata": {},
          "output_type": "display_data"
        },
        {
          "data": {
            "application/vnd.jupyter.widget-view+json": {
              "model_id": "8cca64a7f4b0470ba82f749729cacd20",
              "version_major": 2,
              "version_minor": 0
            },
            "text/plain": [
              "Batches:   0%|          | 0/1 [00:00<?, ?it/s]"
            ]
          },
          "metadata": {},
          "output_type": "display_data"
        },
        {
          "name": "stdout",
          "output_type": "stream",
          "text": [
            "ExtractedAnswer(query='Who is the author of the lost hero (the heroes of olympus, #1)?', score=0.693556010723114, data='Giacomo Leopardi', document=Document(id=48eb59a7ddf02190e2da31a36a83e22189b0595bc280eb603ae9f4ea74c47f36, content: 'Title: Opere Di Giacomo Leopardi, Vol. 1 (Classic Reprint);\n",
            "Writer/Author: Giacomo Leopardi;\n",
            "Topic: ...', meta: {'title': 'Opere Di Giacomo Leopardi, Vol. 1 (Classic Reprint)', 'authors': 'Giacomo Leopardi', 'publisher': 'Forgotten Books', 'publishedDate': '2017-10-16', 'industryIdentifiers': \"{'type': 'ISBN_10', 'identifier': '0265393299'}, {'type': 'ISBN_13', 'identifier': '9780265393291'}\", 'readingModes': {'text': False, 'image': False}, 'pageCount': 366, 'printType': 'BOOK', 'categories': 'Poetry', 'maturityRating': 'NOT_MATURE', 'allowAnonLogging': False, 'contentVersion': 'preview-1.0.0', 'panelizationSummary': {'containsEpubBubbles': False, 'containsImageBubbles': False}, 'imageLinks': {'smallThumbnail': 'http://books.google.com/books/content?id=vcA9swEACAAJ&printsec=frontcover&img=1&zoom=5&source=gbs_api', 'thumbnail': 'http://books.google.com/books/content?id=vcA9swEACAAJ&printsec=frontcover&img=1&zoom=1&source=gbs_api'}, 'language': 'it', 'previewLink': 'http://books.google.it/books?id=vcA9swEACAAJ&dq=intitle:1&hl=&cd=1&source=gbs_api', 'infoLink': 'http://books.google.it/books?id=vcA9swEACAAJ&dq=intitle:1&hl=&source=gbs_api', 'canonicalVolumeLink': 'https://books.google.com/books/about/Opere_Di_Giacomo_Leopardi_Vol_1_Classic.html?hl=&id=vcA9swEACAAJ', 'subtitle': 'Not available', 'averageRating': 'Not available', 'ratingsCount': 'Not available', 'seriesInfo': 'Not available'}, score: 0.1376671101079443), context=None, document_offset=ExtractedAnswer.Span(start=75, end=91), context_offset=None, meta={}) \n",
            "\n",
            "ExtractedAnswer(query='Who is the author of the lost hero (the heroes of olympus, #1)?', score=0.5833905935287476, data='Opere Di Giacomo Leopardi', document=Document(id=48eb59a7ddf02190e2da31a36a83e22189b0595bc280eb603ae9f4ea74c47f36, content: 'Title: Opere Di Giacomo Leopardi, Vol. 1 (Classic Reprint);\n",
            "Writer/Author: Giacomo Leopardi;\n",
            "Topic: ...', meta: {'title': 'Opere Di Giacomo Leopardi, Vol. 1 (Classic Reprint)', 'authors': 'Giacomo Leopardi', 'publisher': 'Forgotten Books', 'publishedDate': '2017-10-16', 'industryIdentifiers': \"{'type': 'ISBN_10', 'identifier': '0265393299'}, {'type': 'ISBN_13', 'identifier': '9780265393291'}\", 'readingModes': {'text': False, 'image': False}, 'pageCount': 366, 'printType': 'BOOK', 'categories': 'Poetry', 'maturityRating': 'NOT_MATURE', 'allowAnonLogging': False, 'contentVersion': 'preview-1.0.0', 'panelizationSummary': {'containsEpubBubbles': False, 'containsImageBubbles': False}, 'imageLinks': {'smallThumbnail': 'http://books.google.com/books/content?id=vcA9swEACAAJ&printsec=frontcover&img=1&zoom=5&source=gbs_api', 'thumbnail': 'http://books.google.com/books/content?id=vcA9swEACAAJ&printsec=frontcover&img=1&zoom=1&source=gbs_api'}, 'language': 'it', 'previewLink': 'http://books.google.it/books?id=vcA9swEACAAJ&dq=intitle:1&hl=&cd=1&source=gbs_api', 'infoLink': 'http://books.google.it/books?id=vcA9swEACAAJ&dq=intitle:1&hl=&source=gbs_api', 'canonicalVolumeLink': 'https://books.google.com/books/about/Opere_Di_Giacomo_Leopardi_Vol_1_Classic.html?hl=&id=vcA9swEACAAJ', 'subtitle': 'Not available', 'averageRating': 'Not available', 'ratingsCount': 'Not available', 'seriesInfo': 'Not available'}, score: 0.1376671101079443), context=None, document_offset=ExtractedAnswer.Span(start=7, end=32), context_offset=None, meta={}) \n",
            "\n",
            "ExtractedAnswer(query='Who is the author of the lost hero (the heroes of olympus, #1)?', score=0.5031504034996033, data='Michele Ruggiero', document=Document(id=48eb59a7ddf02190e2da31a36a83e22189b0595bc280eb603ae9f4ea74c47f36, content: 'Title: Opere Di Giacomo Leopardi, Vol. 1 (Classic Reprint);\n",
            "Writer/Author: Giacomo Leopardi;\n",
            "Topic: ...', meta: {'title': 'Opere Di Giacomo Leopardi, Vol. 1 (Classic Reprint)', 'authors': 'Giacomo Leopardi', 'publisher': 'Forgotten Books', 'publishedDate': '2017-10-16', 'industryIdentifiers': \"{'type': 'ISBN_10', 'identifier': '0265393299'}, {'type': 'ISBN_13', 'identifier': '9780265393291'}\", 'readingModes': {'text': False, 'image': False}, 'pageCount': 366, 'printType': 'BOOK', 'categories': 'Poetry', 'maturityRating': 'NOT_MATURE', 'allowAnonLogging': False, 'contentVersion': 'preview-1.0.0', 'panelizationSummary': {'containsEpubBubbles': False, 'containsImageBubbles': False}, 'imageLinks': {'smallThumbnail': 'http://books.google.com/books/content?id=vcA9swEACAAJ&printsec=frontcover&img=1&zoom=5&source=gbs_api', 'thumbnail': 'http://books.google.com/books/content?id=vcA9swEACAAJ&printsec=frontcover&img=1&zoom=1&source=gbs_api'}, 'language': 'it', 'previewLink': 'http://books.google.it/books?id=vcA9swEACAAJ&dq=intitle:1&hl=&cd=1&source=gbs_api', 'infoLink': 'http://books.google.it/books?id=vcA9swEACAAJ&dq=intitle:1&hl=&source=gbs_api', 'canonicalVolumeLink': 'https://books.google.com/books/about/Opere_Di_Giacomo_Leopardi_Vol_1_Classic.html?hl=&id=vcA9swEACAAJ', 'subtitle': 'Not available', 'averageRating': 'Not available', 'ratingsCount': 'Not available', 'seriesInfo': 'Not available'}, score: 0.1376671101079443), context=None, document_offset=ExtractedAnswer.Span(start=822, end=838), context_offset=None, meta={}) \n",
            "\n",
            "ExtractedAnswer(query='Who is the author of the lost hero (the heroes of olympus, #1)?', score=0.06343152026815696, data=None, document=None, context=None, document_offset=None, context_offset=None, meta={}) \n",
            "\n",
            "['martian', None, None, 'kevin', None, 'eragon', None, '5', '1', '1', '2', None, 'five', None, None, 'american', 'titan', '3', 'percy jackson', '2666', '2', 'robert langdon', 'olive kitteridge', None, '1', '1', None, 'tehran', 'america', None, 'wolf hall', '1', 'hush', None, '4', '1', '4', None, '1', None, None, 'america', None, '1q84', 'hugo', '1', 'wolf']\n",
            "book title is wolf\n"
          ]
        },
        {
          "data": {
            "application/vnd.jupyter.widget-view+json": {
              "model_id": "bb5dc06ba0e94358ae690de87fd459b7",
              "version_major": 2,
              "version_minor": 0
            },
            "text/plain": [
              "Batches:   0%|          | 0/1 [00:00<?, ?it/s]"
            ]
          },
          "metadata": {},
          "output_type": "display_data"
        },
        {
          "data": {
            "application/vnd.jupyter.widget-view+json": {
              "model_id": "1944f8b62f56439999da9ff394c5b1f6",
              "version_major": 2,
              "version_minor": 0
            },
            "text/plain": [
              "Batches:   0%|          | 0/1 [00:00<?, ?it/s]"
            ]
          },
          "metadata": {},
          "output_type": "display_data"
        },
        {
          "name": "stdout",
          "output_type": "stream",
          "text": [
            "ExtractedAnswer(query='Who is the author of phantom wolf (phantom wolf, #1)?', score=0.7727503776550293, data='Hilary Mantel', document=Document(id=0e9169ddd64ea19ae8dfa46f68d68526b76c250c82845a5b29fa9828ac2d0238, content: 'Title: Wolf Hall;\n",
            "Writer/Author: Hilary Mantel;\n",
            "Topic: \" Ele se sente em casa num tribunal ou num ca...', meta: {'title': 'Wolf Hall', 'authors': 'Hilary Mantel', 'publisher': 'Todavia', 'publishedDate': '2020-09-10', 'industryIdentifiers': \"{'type': 'ISBN_13', 'identifier': '9786556920627'}, {'type': 'ISBN_10', 'identifier': '6556920622'}\", 'readingModes': {'text': True, 'image': True}, 'pageCount': 738, 'printType': 'BOOK', 'categories': 'Fiction', 'maturityRating': 'NOT_MATURE', 'allowAnonLogging': True, 'contentVersion': '1.2.2.0.preview.3', 'panelizationSummary': {'containsEpubBubbles': False, 'containsImageBubbles': False}, 'imageLinks': {'smallThumbnail': 'http://books.google.com/books/content?id=zgz2DwAAQBAJ&printsec=frontcover&img=1&zoom=5&edge=curl&source=gbs_api', 'thumbnail': 'http://books.google.com/books/content?id=zgz2DwAAQBAJ&printsec=frontcover&img=1&zoom=1&edge=curl&source=gbs_api'}, 'language': 'pt-BR', 'previewLink': 'http://books.google.it/books?id=zgz2DwAAQBAJ&printsec=frontcover&dq=intitle:wolf&hl=&cd=1&source=gbs_api', 'infoLink': 'https://play.google.com/store/books/details?id=zgz2DwAAQBAJ&source=gbs_api', 'canonicalVolumeLink': 'https://play.google.com/store/books/details?id=zgz2DwAAQBAJ', 'subtitle': 'Not available', 'averageRating': 'Not available', 'ratingsCount': 'Not available', 'seriesInfo': 'Not available'}, score: 0.2764709478331323), context=None, document_offset=ExtractedAnswer.Span(start=33, end=46), context_offset=None, meta={}) \n",
            "\n",
            "ExtractedAnswer(query='Who is the author of phantom wolf (phantom wolf, #1)?', score=0.764700710773468, data='Hilary Mantel', document=Document(id=0e9169ddd64ea19ae8dfa46f68d68526b76c250c82845a5b29fa9828ac2d0238, content: 'Title: Wolf Hall;\n",
            "Writer/Author: Hilary Mantel;\n",
            "Topic: \" Ele se sente em casa num tribunal ou num ca...', meta: {'title': 'Wolf Hall', 'authors': 'Hilary Mantel', 'publisher': 'Todavia', 'publishedDate': '2020-09-10', 'industryIdentifiers': \"{'type': 'ISBN_13', 'identifier': '9786556920627'}, {'type': 'ISBN_10', 'identifier': '6556920622'}\", 'readingModes': {'text': True, 'image': True}, 'pageCount': 738, 'printType': 'BOOK', 'categories': 'Fiction', 'maturityRating': 'NOT_MATURE', 'allowAnonLogging': True, 'contentVersion': '1.2.2.0.preview.3', 'panelizationSummary': {'containsEpubBubbles': False, 'containsImageBubbles': False}, 'imageLinks': {'smallThumbnail': 'http://books.google.com/books/content?id=zgz2DwAAQBAJ&printsec=frontcover&img=1&zoom=5&edge=curl&source=gbs_api', 'thumbnail': 'http://books.google.com/books/content?id=zgz2DwAAQBAJ&printsec=frontcover&img=1&zoom=1&edge=curl&source=gbs_api'}, 'language': 'pt-BR', 'previewLink': 'http://books.google.it/books?id=zgz2DwAAQBAJ&printsec=frontcover&dq=intitle:wolf&hl=&cd=1&source=gbs_api', 'infoLink': 'https://play.google.com/store/books/details?id=zgz2DwAAQBAJ&source=gbs_api', 'canonicalVolumeLink': 'https://play.google.com/store/books/details?id=zgz2DwAAQBAJ', 'subtitle': 'Not available', 'averageRating': 'Not available', 'ratingsCount': 'Not available', 'seriesInfo': 'Not available'}, score: 0.2764709478331323), context=None, document_offset=ExtractedAnswer.Span(start=1356, end=1369), context_offset=None, meta={}) \n",
            "\n",
            "ExtractedAnswer(query='Who is the author of phantom wolf (phantom wolf, #1)?', score=0.6919478178024292, data='Thomas Cromwell', document=Document(id=0e9169ddd64ea19ae8dfa46f68d68526b76c250c82845a5b29fa9828ac2d0238, content: 'Title: Wolf Hall;\n",
            "Writer/Author: Hilary Mantel;\n",
            "Topic: \" Ele se sente em casa num tribunal ou num ca...', meta: {'title': 'Wolf Hall', 'authors': 'Hilary Mantel', 'publisher': 'Todavia', 'publishedDate': '2020-09-10', 'industryIdentifiers': \"{'type': 'ISBN_13', 'identifier': '9786556920627'}, {'type': 'ISBN_10', 'identifier': '6556920622'}\", 'readingModes': {'text': True, 'image': True}, 'pageCount': 738, 'printType': 'BOOK', 'categories': 'Fiction', 'maturityRating': 'NOT_MATURE', 'allowAnonLogging': True, 'contentVersion': '1.2.2.0.preview.3', 'panelizationSummary': {'containsEpubBubbles': False, 'containsImageBubbles': False}, 'imageLinks': {'smallThumbnail': 'http://books.google.com/books/content?id=zgz2DwAAQBAJ&printsec=frontcover&img=1&zoom=5&edge=curl&source=gbs_api', 'thumbnail': 'http://books.google.com/books/content?id=zgz2DwAAQBAJ&printsec=frontcover&img=1&zoom=1&edge=curl&source=gbs_api'}, 'language': 'pt-BR', 'previewLink': 'http://books.google.it/books?id=zgz2DwAAQBAJ&printsec=frontcover&dq=intitle:wolf&hl=&cd=1&source=gbs_api', 'infoLink': 'https://play.google.com/store/books/details?id=zgz2DwAAQBAJ&source=gbs_api', 'canonicalVolumeLink': 'https://play.google.com/store/books/details?id=zgz2DwAAQBAJ', 'subtitle': 'Not available', 'averageRating': 'Not available', 'ratingsCount': 'Not available', 'seriesInfo': 'Not available'}, score: 0.2764709478331323), context=None, document_offset=ExtractedAnswer.Span(start=671, end=686), context_offset=None, meta={}) \n",
            "\n",
            "ExtractedAnswer(query='Who is the author of phantom wolf (phantom wolf, #1)?', score=0.016472066050838174, data=None, document=None, context=None, document_offset=None, context_offset=None, meta={}) \n",
            "\n",
            "['martian', None, None, 'kevin', None, 'eragon', None, '5', '1', '1', '2', None, 'five', None, None, 'american', 'titan', '3', 'percy jackson', '2666', '2', 'robert langdon', 'olive kitteridge', None, '1', '1', None, 'tehran', 'america', None, 'wolf hall', '1', 'hush', None, '4', '1', '4', None, '1', None, None, 'america', None, '1q84', 'hugo', '1', 'wolf', None]\n",
            "book title is None\n"
          ]
        },
        {
          "data": {
            "application/vnd.jupyter.widget-view+json": {
              "model_id": "4d1e1e9685f342fba13320d7656d7c90",
              "version_major": 2,
              "version_minor": 0
            },
            "text/plain": [
              "Batches:   0%|          | 0/1 [00:00<?, ?it/s]"
            ]
          },
          "metadata": {},
          "output_type": "display_data"
        },
        {
          "data": {
            "application/vnd.jupyter.widget-view+json": {
              "model_id": "45cd9f9dfcc34eb8b87f07210d00c2ac",
              "version_major": 2,
              "version_minor": 0
            },
            "text/plain": [
              "Batches:   0%|          | 0/1 [00:00<?, ?it/s]"
            ]
          },
          "metadata": {},
          "output_type": "display_data"
        },
        {
          "name": "stdout",
          "output_type": "stream",
          "text": [
            "ExtractedAnswer(query='Who is the author of saving ceecee honeycutt?', score=0.4525330066680908, data='Writer/Author: Агата Кристи', document=Document(id=e7589d9912517481ba7ca4862f0c2cedfa4c8a9fc11b30265e1d8c95fa8b4cdf, content: 'Title: And Then There Were None / И никого не стало. Книга для чтения на английском языке;\n",
            "Writer/Au...', meta: {'title': 'And Then There Were None / И никого не стало. Книга для чтения на английском языке', 'authors': 'Агата Кристи', 'publisher': 'Litres', 'publishedDate': '2018-10-09', 'industryIdentifiers': \"{'type': 'ISBN_13', 'identifier': '9785041375676'}, {'type': 'ISBN_10', 'identifier': '5041375674'}\", 'readingModes': {'text': True, 'image': True}, 'pageCount': 469, 'printType': 'BOOK', 'categories': 'Foreign Language Study', 'maturityRating': 'NOT_MATURE', 'allowAnonLogging': True, 'contentVersion': '1.6.6.0.preview.3', 'panelizationSummary': {'containsEpubBubbles': False, 'containsImageBubbles': False}, 'imageLinks': {'smallThumbnail': 'http://books.google.com/books/content?id=qS9yDwAAQBAJ&printsec=frontcover&img=1&zoom=5&edge=curl&source=gbs_api', 'thumbnail': 'http://books.google.com/books/content?id=qS9yDwAAQBAJ&printsec=frontcover&img=1&zoom=1&edge=curl&source=gbs_api'}, 'language': 'en', 'previewLink': 'http://books.google.it/books?id=qS9yDwAAQBAJ&printsec=frontcover&dq=intitle:None&hl=&cd=1&source=gbs_api', 'infoLink': 'http://books.google.it/books?id=qS9yDwAAQBAJ&dq=intitle:None&hl=&source=gbs_api', 'canonicalVolumeLink': 'https://books.google.com/books/about/And_Then_There_Were_None_%D0%98_%D0%BD%D0%B8%D0%BA%D0%BE%D0%B3%D0%BE.html?hl=&id=qS9yDwAAQBAJ', 'subtitle': 'Not available', 'averageRating': 'Not available', 'ratingsCount': 'Not available', 'seriesInfo': 'Not available'}, score: 0.09071821372905828), context=None, document_offset=ExtractedAnswer.Span(start=91, end=118), context_offset=None, meta={}) \n",
            "\n",
            "ExtractedAnswer(query='Who is the author of saving ceecee honeycutt?', score=0.3708250820636749, data='Foreign Language Study;\\nNumber of pages: 469;\\nPublished by: Litres', document=Document(id=e7589d9912517481ba7ca4862f0c2cedfa4c8a9fc11b30265e1d8c95fa8b4cdf, content: 'Title: And Then There Were None / И никого не стало. Книга для чтения на английском языке;\n",
            "Writer/Au...', meta: {'title': 'And Then There Were None / И никого не стало. Книга для чтения на английском языке', 'authors': 'Агата Кристи', 'publisher': 'Litres', 'publishedDate': '2018-10-09', 'industryIdentifiers': \"{'type': 'ISBN_13', 'identifier': '9785041375676'}, {'type': 'ISBN_10', 'identifier': '5041375674'}\", 'readingModes': {'text': True, 'image': True}, 'pageCount': 469, 'printType': 'BOOK', 'categories': 'Foreign Language Study', 'maturityRating': 'NOT_MATURE', 'allowAnonLogging': True, 'contentVersion': '1.6.6.0.preview.3', 'panelizationSummary': {'containsEpubBubbles': False, 'containsImageBubbles': False}, 'imageLinks': {'smallThumbnail': 'http://books.google.com/books/content?id=qS9yDwAAQBAJ&printsec=frontcover&img=1&zoom=5&edge=curl&source=gbs_api', 'thumbnail': 'http://books.google.com/books/content?id=qS9yDwAAQBAJ&printsec=frontcover&img=1&zoom=1&edge=curl&source=gbs_api'}, 'language': 'en', 'previewLink': 'http://books.google.it/books?id=qS9yDwAAQBAJ&printsec=frontcover&dq=intitle:None&hl=&cd=1&source=gbs_api', 'infoLink': 'http://books.google.it/books?id=qS9yDwAAQBAJ&dq=intitle:None&hl=&source=gbs_api', 'canonicalVolumeLink': 'https://books.google.com/books/about/And_Then_There_Were_None_%D0%98_%D0%BD%D0%B8%D0%BA%D0%BE%D0%B3%D0%BE.html?hl=&id=qS9yDwAAQBAJ', 'subtitle': 'Not available', 'averageRating': 'Not available', 'ratingsCount': 'Not available', 'seriesInfo': 'Not available'}, score: 0.09071821372905828), context=None, document_offset=ExtractedAnswer.Span(start=498, end=564), context_offset=None, meta={}) \n",
            "\n",
            "ExtractedAnswer(query='Who is the author of saving ceecee honeycutt?', score=0.3188771605491638, data='2018-10-09', document=Document(id=e7589d9912517481ba7ca4862f0c2cedfa4c8a9fc11b30265e1d8c95fa8b4cdf, content: 'Title: And Then There Were None / И никого не стало. Книга для чтения на английском языке;\n",
            "Writer/Au...', meta: {'title': 'And Then There Were None / И никого не стало. Книга для чтения на английском языке', 'authors': 'Агата Кристи', 'publisher': 'Litres', 'publishedDate': '2018-10-09', 'industryIdentifiers': \"{'type': 'ISBN_13', 'identifier': '9785041375676'}, {'type': 'ISBN_10', 'identifier': '5041375674'}\", 'readingModes': {'text': True, 'image': True}, 'pageCount': 469, 'printType': 'BOOK', 'categories': 'Foreign Language Study', 'maturityRating': 'NOT_MATURE', 'allowAnonLogging': True, 'contentVersion': '1.6.6.0.preview.3', 'panelizationSummary': {'containsEpubBubbles': False, 'containsImageBubbles': False}, 'imageLinks': {'smallThumbnail': 'http://books.google.com/books/content?id=qS9yDwAAQBAJ&printsec=frontcover&img=1&zoom=5&edge=curl&source=gbs_api', 'thumbnail': 'http://books.google.com/books/content?id=qS9yDwAAQBAJ&printsec=frontcover&img=1&zoom=1&edge=curl&source=gbs_api'}, 'language': 'en', 'previewLink': 'http://books.google.it/books?id=qS9yDwAAQBAJ&printsec=frontcover&dq=intitle:None&hl=&cd=1&source=gbs_api', 'infoLink': 'http://books.google.it/books?id=qS9yDwAAQBAJ&dq=intitle:None&hl=&source=gbs_api', 'canonicalVolumeLink': 'https://books.google.com/books/about/And_Then_There_Were_None_%D0%98_%D0%BD%D0%B8%D0%BA%D0%BE%D0%B3%D0%BE.html?hl=&id=qS9yDwAAQBAJ', 'subtitle': 'Not available', 'averageRating': 'Not available', 'ratingsCount': 'Not available', 'seriesInfo': 'Not available'}, score: 0.09071821372905828), context=None, document_offset=ExtractedAnswer.Span(start=578, end=588), context_offset=None, meta={}) \n",
            "\n",
            "ExtractedAnswer(query='Who is the author of saving ceecee honeycutt?', score=0.234614465266282, data=None, document=None, context=None, document_offset=None, context_offset=None, meta={}) \n",
            "\n",
            "['martian', None, None, 'kevin', None, 'eragon', None, '5', '1', '1', '2', None, 'five', None, None, 'american', 'titan', '3', 'percy jackson', '2666', '2', 'robert langdon', 'olive kitteridge', None, '1', '1', None, 'tehran', 'america', None, 'wolf hall', '1', 'hush', None, '4', '1', '4', None, '1', None, None, 'america', None, '1q84', 'hugo', '1', 'wolf', None, None]\n",
            "book title is None\n"
          ]
        },
        {
          "data": {
            "application/vnd.jupyter.widget-view+json": {
              "model_id": "1804724074a24c4a8d2227a40383c790",
              "version_major": 2,
              "version_minor": 0
            },
            "text/plain": [
              "Batches:   0%|          | 0/1 [00:00<?, ?it/s]"
            ]
          },
          "metadata": {},
          "output_type": "display_data"
        },
        {
          "data": {
            "application/vnd.jupyter.widget-view+json": {
              "model_id": "f9afd89d9bad44d6a0ab366fe152ba4f",
              "version_major": 2,
              "version_minor": 0
            },
            "text/plain": [
              "Batches:   0%|          | 0/1 [00:00<?, ?it/s]"
            ]
          },
          "metadata": {},
          "output_type": "display_data"
        },
        {
          "name": "stdout",
          "output_type": "stream",
          "text": [
            "ExtractedAnswer(query='Who is the author of life expectancy?', score=0.45370495319366455, data='Агата Кристи', document=Document(id=e7589d9912517481ba7ca4862f0c2cedfa4c8a9fc11b30265e1d8c95fa8b4cdf, content: 'Title: And Then There Were None / И никого не стало. Книга для чтения на английском языке;\n",
            "Writer/Au...', meta: {'title': 'And Then There Were None / И никого не стало. Книга для чтения на английском языке', 'authors': 'Агата Кристи', 'publisher': 'Litres', 'publishedDate': '2018-10-09', 'industryIdentifiers': \"{'type': 'ISBN_13', 'identifier': '9785041375676'}, {'type': 'ISBN_10', 'identifier': '5041375674'}\", 'readingModes': {'text': True, 'image': True}, 'pageCount': 469, 'printType': 'BOOK', 'categories': 'Foreign Language Study', 'maturityRating': 'NOT_MATURE', 'allowAnonLogging': True, 'contentVersion': '1.6.6.0.preview.3', 'panelizationSummary': {'containsEpubBubbles': False, 'containsImageBubbles': False}, 'imageLinks': {'smallThumbnail': 'http://books.google.com/books/content?id=qS9yDwAAQBAJ&printsec=frontcover&img=1&zoom=5&edge=curl&source=gbs_api', 'thumbnail': 'http://books.google.com/books/content?id=qS9yDwAAQBAJ&printsec=frontcover&img=1&zoom=1&edge=curl&source=gbs_api'}, 'language': 'en', 'previewLink': 'http://books.google.it/books?id=qS9yDwAAQBAJ&printsec=frontcover&dq=intitle:None&hl=&cd=1&source=gbs_api', 'infoLink': 'http://books.google.it/books?id=qS9yDwAAQBAJ&dq=intitle:None&hl=&source=gbs_api', 'canonicalVolumeLink': 'https://books.google.com/books/about/And_Then_There_Were_None_%D0%98_%D0%BD%D0%B8%D0%BA%D0%BE%D0%B3%D0%BE.html?hl=&id=qS9yDwAAQBAJ', 'subtitle': 'Not available', 'averageRating': 'Not available', 'ratingsCount': 'Not available', 'seriesInfo': 'Not available'}, score: 0.12316541403254008), context=None, document_offset=ExtractedAnswer.Span(start=106, end=118), context_offset=None, meta={}) \n",
            "\n",
            "ExtractedAnswer(query='Who is the author of life expectancy?', score=0.34063205122947693, data='Foreign Language Study;\\nNumber of pages: 469;\\nPublished by: Litres', document=Document(id=e7589d9912517481ba7ca4862f0c2cedfa4c8a9fc11b30265e1d8c95fa8b4cdf, content: 'Title: And Then There Were None / И никого не стало. Книга для чтения на английском языке;\n",
            "Writer/Au...', meta: {'title': 'And Then There Were None / И никого не стало. Книга для чтения на английском языке', 'authors': 'Агата Кристи', 'publisher': 'Litres', 'publishedDate': '2018-10-09', 'industryIdentifiers': \"{'type': 'ISBN_13', 'identifier': '9785041375676'}, {'type': 'ISBN_10', 'identifier': '5041375674'}\", 'readingModes': {'text': True, 'image': True}, 'pageCount': 469, 'printType': 'BOOK', 'categories': 'Foreign Language Study', 'maturityRating': 'NOT_MATURE', 'allowAnonLogging': True, 'contentVersion': '1.6.6.0.preview.3', 'panelizationSummary': {'containsEpubBubbles': False, 'containsImageBubbles': False}, 'imageLinks': {'smallThumbnail': 'http://books.google.com/books/content?id=qS9yDwAAQBAJ&printsec=frontcover&img=1&zoom=5&edge=curl&source=gbs_api', 'thumbnail': 'http://books.google.com/books/content?id=qS9yDwAAQBAJ&printsec=frontcover&img=1&zoom=1&edge=curl&source=gbs_api'}, 'language': 'en', 'previewLink': 'http://books.google.it/books?id=qS9yDwAAQBAJ&printsec=frontcover&dq=intitle:None&hl=&cd=1&source=gbs_api', 'infoLink': 'http://books.google.it/books?id=qS9yDwAAQBAJ&dq=intitle:None&hl=&source=gbs_api', 'canonicalVolumeLink': 'https://books.google.com/books/about/And_Then_There_Were_None_%D0%98_%D0%BD%D0%B8%D0%BA%D0%BE%D0%B3%D0%BE.html?hl=&id=qS9yDwAAQBAJ', 'subtitle': 'Not available', 'averageRating': 'Not available', 'ratingsCount': 'Not available', 'seriesInfo': 'Not available'}, score: 0.12316541403254008), context=None, document_offset=ExtractedAnswer.Span(start=498, end=564), context_offset=None, meta={}) \n",
            "\n",
            "ExtractedAnswer(query='Who is the author of life expectancy?', score=0.32652518153190613, data='2018-10-09', document=Document(id=e7589d9912517481ba7ca4862f0c2cedfa4c8a9fc11b30265e1d8c95fa8b4cdf, content: 'Title: And Then There Were None / И никого не стало. Книга для чтения на английском языке;\n",
            "Writer/Au...', meta: {'title': 'And Then There Were None / И никого не стало. Книга для чтения на английском языке', 'authors': 'Агата Кристи', 'publisher': 'Litres', 'publishedDate': '2018-10-09', 'industryIdentifiers': \"{'type': 'ISBN_13', 'identifier': '9785041375676'}, {'type': 'ISBN_10', 'identifier': '5041375674'}\", 'readingModes': {'text': True, 'image': True}, 'pageCount': 469, 'printType': 'BOOK', 'categories': 'Foreign Language Study', 'maturityRating': 'NOT_MATURE', 'allowAnonLogging': True, 'contentVersion': '1.6.6.0.preview.3', 'panelizationSummary': {'containsEpubBubbles': False, 'containsImageBubbles': False}, 'imageLinks': {'smallThumbnail': 'http://books.google.com/books/content?id=qS9yDwAAQBAJ&printsec=frontcover&img=1&zoom=5&edge=curl&source=gbs_api', 'thumbnail': 'http://books.google.com/books/content?id=qS9yDwAAQBAJ&printsec=frontcover&img=1&zoom=1&edge=curl&source=gbs_api'}, 'language': 'en', 'previewLink': 'http://books.google.it/books?id=qS9yDwAAQBAJ&printsec=frontcover&dq=intitle:None&hl=&cd=1&source=gbs_api', 'infoLink': 'http://books.google.it/books?id=qS9yDwAAQBAJ&dq=intitle:None&hl=&source=gbs_api', 'canonicalVolumeLink': 'https://books.google.com/books/about/And_Then_There_Were_None_%D0%98_%D0%BD%D0%B8%D0%BA%D0%BE%D0%B3%D0%BE.html?hl=&id=qS9yDwAAQBAJ', 'subtitle': 'Not available', 'averageRating': 'Not available', 'ratingsCount': 'Not available', 'seriesInfo': 'Not available'}, score: 0.12316541403254008), context=None, document_offset=ExtractedAnswer.Span(start=578, end=588), context_offset=None, meta={}) \n",
            "\n",
            "ExtractedAnswer(query='Who is the author of life expectancy?', score=0.24259199020215622, data=None, document=None, context=None, document_offset=None, context_offset=None, meta={}) \n",
            "\n",
            "['martian', None, None, 'kevin', None, 'eragon', None, '5', '1', '1', '2', None, 'five', None, None, 'american', 'titan', '3', 'percy jackson', '2666', '2', 'robert langdon', 'olive kitteridge', None, '1', '1', None, 'tehran', 'america', None, 'wolf hall', '1', 'hush', None, '4', '1', '4', None, '1', None, None, 'america', None, '1q84', 'hugo', '1', 'wolf', None, None, '1']\n",
            "book title is 1\n"
          ]
        },
        {
          "data": {
            "application/vnd.jupyter.widget-view+json": {
              "model_id": "bb269097beda4b29b5efd4d27d37ba84",
              "version_major": 2,
              "version_minor": 0
            },
            "text/plain": [
              "Batches:   0%|          | 0/1 [00:00<?, ?it/s]"
            ]
          },
          "metadata": {},
          "output_type": "display_data"
        },
        {
          "data": {
            "application/vnd.jupyter.widget-view+json": {
              "model_id": "6f613dcfb2f04af9bc480b7e2197e1ac",
              "version_major": 2,
              "version_minor": 0
            },
            "text/plain": [
              "Batches:   0%|          | 0/1 [00:00<?, ?it/s]"
            ]
          },
          "metadata": {},
          "output_type": "display_data"
        },
        {
          "name": "stdout",
          "output_type": "stream",
          "text": [
            "ExtractedAnswer(query='Who is the author of trust: a new beginning (trust trilogy, #1)?', score=0.6756419539451599, data='Giacomo Leopardi', document=Document(id=48eb59a7ddf02190e2da31a36a83e22189b0595bc280eb603ae9f4ea74c47f36, content: 'Title: Opere Di Giacomo Leopardi, Vol. 1 (Classic Reprint);\n",
            "Writer/Author: Giacomo Leopardi;\n",
            "Topic: ...', meta: {'title': 'Opere Di Giacomo Leopardi, Vol. 1 (Classic Reprint)', 'authors': 'Giacomo Leopardi', 'publisher': 'Forgotten Books', 'publishedDate': '2017-10-16', 'industryIdentifiers': \"{'type': 'ISBN_10', 'identifier': '0265393299'}, {'type': 'ISBN_13', 'identifier': '9780265393291'}\", 'readingModes': {'text': False, 'image': False}, 'pageCount': 366, 'printType': 'BOOK', 'categories': 'Poetry', 'maturityRating': 'NOT_MATURE', 'allowAnonLogging': False, 'contentVersion': 'preview-1.0.0', 'panelizationSummary': {'containsEpubBubbles': False, 'containsImageBubbles': False}, 'imageLinks': {'smallThumbnail': 'http://books.google.com/books/content?id=vcA9swEACAAJ&printsec=frontcover&img=1&zoom=5&source=gbs_api', 'thumbnail': 'http://books.google.com/books/content?id=vcA9swEACAAJ&printsec=frontcover&img=1&zoom=1&source=gbs_api'}, 'language': 'it', 'previewLink': 'http://books.google.it/books?id=vcA9swEACAAJ&dq=intitle:1&hl=&cd=1&source=gbs_api', 'infoLink': 'http://books.google.it/books?id=vcA9swEACAAJ&dq=intitle:1&hl=&source=gbs_api', 'canonicalVolumeLink': 'https://books.google.com/books/about/Opere_Di_Giacomo_Leopardi_Vol_1_Classic.html?hl=&id=vcA9swEACAAJ', 'subtitle': 'Not available', 'averageRating': 'Not available', 'ratingsCount': 'Not available', 'seriesInfo': 'Not available'}, score: 0.058359072861609296), context=None, document_offset=ExtractedAnswer.Span(start=75, end=91), context_offset=None, meta={}) \n",
            "\n",
            "ExtractedAnswer(query='Who is the author of trust: a new beginning (trust trilogy, #1)?', score=0.5513449311256409, data='Opere Di Giacomo Leopardi', document=Document(id=48eb59a7ddf02190e2da31a36a83e22189b0595bc280eb603ae9f4ea74c47f36, content: 'Title: Opere Di Giacomo Leopardi, Vol. 1 (Classic Reprint);\n",
            "Writer/Author: Giacomo Leopardi;\n",
            "Topic: ...', meta: {'title': 'Opere Di Giacomo Leopardi, Vol. 1 (Classic Reprint)', 'authors': 'Giacomo Leopardi', 'publisher': 'Forgotten Books', 'publishedDate': '2017-10-16', 'industryIdentifiers': \"{'type': 'ISBN_10', 'identifier': '0265393299'}, {'type': 'ISBN_13', 'identifier': '9780265393291'}\", 'readingModes': {'text': False, 'image': False}, 'pageCount': 366, 'printType': 'BOOK', 'categories': 'Poetry', 'maturityRating': 'NOT_MATURE', 'allowAnonLogging': False, 'contentVersion': 'preview-1.0.0', 'panelizationSummary': {'containsEpubBubbles': False, 'containsImageBubbles': False}, 'imageLinks': {'smallThumbnail': 'http://books.google.com/books/content?id=vcA9swEACAAJ&printsec=frontcover&img=1&zoom=5&source=gbs_api', 'thumbnail': 'http://books.google.com/books/content?id=vcA9swEACAAJ&printsec=frontcover&img=1&zoom=1&source=gbs_api'}, 'language': 'it', 'previewLink': 'http://books.google.it/books?id=vcA9swEACAAJ&dq=intitle:1&hl=&cd=1&source=gbs_api', 'infoLink': 'http://books.google.it/books?id=vcA9swEACAAJ&dq=intitle:1&hl=&source=gbs_api', 'canonicalVolumeLink': 'https://books.google.com/books/about/Opere_Di_Giacomo_Leopardi_Vol_1_Classic.html?hl=&id=vcA9swEACAAJ', 'subtitle': 'Not available', 'averageRating': 'Not available', 'ratingsCount': 'Not available', 'seriesInfo': 'Not available'}, score: 0.058359072861609296), context=None, document_offset=ExtractedAnswer.Span(start=7, end=32), context_offset=None, meta={}) \n",
            "\n",
            "ExtractedAnswer(query='Who is the author of trust: a new beginning (trust trilogy, #1)?', score=0.40086570382118225, data='Gaetano Turchi', document=Document(id=48eb59a7ddf02190e2da31a36a83e22189b0595bc280eb603ae9f4ea74c47f36, content: 'Title: Opere Di Giacomo Leopardi, Vol. 1 (Classic Reprint);\n",
            "Writer/Author: Giacomo Leopardi;\n",
            "Topic: ...', meta: {'title': 'Opere Di Giacomo Leopardi, Vol. 1 (Classic Reprint)', 'authors': 'Giacomo Leopardi', 'publisher': 'Forgotten Books', 'publishedDate': '2017-10-16', 'industryIdentifiers': \"{'type': 'ISBN_10', 'identifier': '0265393299'}, {'type': 'ISBN_13', 'identifier': '9780265393291'}\", 'readingModes': {'text': False, 'image': False}, 'pageCount': 366, 'printType': 'BOOK', 'categories': 'Poetry', 'maturityRating': 'NOT_MATURE', 'allowAnonLogging': False, 'contentVersion': 'preview-1.0.0', 'panelizationSummary': {'containsEpubBubbles': False, 'containsImageBubbles': False}, 'imageLinks': {'smallThumbnail': 'http://books.google.com/books/content?id=vcA9swEACAAJ&printsec=frontcover&img=1&zoom=5&source=gbs_api', 'thumbnail': 'http://books.google.com/books/content?id=vcA9swEACAAJ&printsec=frontcover&img=1&zoom=1&source=gbs_api'}, 'language': 'it', 'previewLink': 'http://books.google.it/books?id=vcA9swEACAAJ&dq=intitle:1&hl=&cd=1&source=gbs_api', 'infoLink': 'http://books.google.it/books?id=vcA9swEACAAJ&dq=intitle:1&hl=&source=gbs_api', 'canonicalVolumeLink': 'https://books.google.com/books/about/Opere_Di_Giacomo_Leopardi_Vol_1_Classic.html?hl=&id=vcA9swEACAAJ', 'subtitle': 'Not available', 'averageRating': 'Not available', 'ratingsCount': 'Not available', 'seriesInfo': 'Not available'}, score: 0.058359072861609296), context=None, document_offset=ExtractedAnswer.Span(start=946, end=960), context_offset=None, meta={}) \n",
            "\n",
            "ExtractedAnswer(query='Who is the author of trust: a new beginning (trust trilogy, #1)?', score=0.08718894744962678, data=None, document=None, context=None, document_offset=None, context_offset=None, meta={}) \n",
            "\n",
            "['martian', None, None, 'kevin', None, 'eragon', None, '5', '1', '1', '2', None, 'five', None, None, 'american', 'titan', '3', 'percy jackson', '2666', '2', 'robert langdon', 'olive kitteridge', None, '1', '1', None, 'tehran', 'america', None, 'wolf hall', '1', 'hush', None, '4', '1', '4', None, '1', None, None, 'america', None, '1q84', 'hugo', '1', 'wolf', None, None, '1', 'eight']\n",
            "book title is eight\n"
          ]
        },
        {
          "data": {
            "application/vnd.jupyter.widget-view+json": {
              "model_id": "bca0e0c31d5b487c81a37b39679f58b4",
              "version_major": 2,
              "version_minor": 0
            },
            "text/plain": [
              "Batches:   0%|          | 0/1 [00:00<?, ?it/s]"
            ]
          },
          "metadata": {},
          "output_type": "display_data"
        },
        {
          "data": {
            "application/vnd.jupyter.widget-view+json": {
              "model_id": "c7451c047b1a4f42a5a07c7c55b3d58c",
              "version_major": 2,
              "version_minor": 0
            },
            "text/plain": [
              "Batches:   0%|          | 0/1 [00:00<?, ?it/s]"
            ]
          },
          "metadata": {},
          "output_type": "display_data"
        },
        {
          "name": "stdout",
          "output_type": "stream",
          "text": [
            "ExtractedAnswer(query='Who is the author of hard eight (stephanie plum, #8)?', score=0.6226484775543213, data='Katherine Neville', document=Document(id=0a88f3918a8ec6195b4dd0ff3baf250e0b3642548a7f35269e630a1b41fc2aa7, content: 'Title: The Eight;\n",
            "Writer/Author: Katherine Neville;\n",
            "Topic: The “fascinating” #1 international bestse...', meta: {'title': 'The Eight', 'authors': 'Katherine Neville', 'publisher': 'Open Road Media', 'publishedDate': '2015-07-21', 'industryIdentifiers': \"{'type': 'ISBN_13', 'identifier': '9781504013673'}, {'type': 'ISBN_10', 'identifier': '1504013670'}\", 'readingModes': {'text': True, 'image': True}, 'pageCount': 523, 'printType': 'BOOK', 'categories': 'Fiction', 'maturityRating': 'NOT_MATURE', 'allowAnonLogging': True, 'contentVersion': '1.28.24.0.preview.3', 'panelizationSummary': {'containsEpubBubbles': False, 'containsImageBubbles': False}, 'imageLinks': {'smallThumbnail': 'http://books.google.com/books/content?id=QBDGCQAAQBAJ&printsec=frontcover&img=1&zoom=5&edge=curl&source=gbs_api', 'thumbnail': 'http://books.google.com/books/content?id=QBDGCQAAQBAJ&printsec=frontcover&img=1&zoom=1&edge=curl&source=gbs_api'}, 'language': 'en', 'previewLink': 'http://books.google.it/books?id=QBDGCQAAQBAJ&printsec=frontcover&dq=intitle:eight&hl=&cd=1&source=gbs_api', 'infoLink': 'https://play.google.com/store/books/details?id=QBDGCQAAQBAJ&source=gbs_api', 'canonicalVolumeLink': 'https://play.google.com/store/books/details?id=QBDGCQAAQBAJ', 'subtitle': 'Not available', 'averageRating': 'Not available', 'ratingsCount': 'Not available', 'seriesInfo': 'Not available'}, score: 0.3866844667613626), context=None, document_offset=ExtractedAnswer.Span(start=33, end=50), context_offset=None, meta={}) \n",
            "\n",
            "ExtractedAnswer(query='Who is the author of hard eight (stephanie plum, #8)?', score=0.3773515224456787, data=None, document=None, context=None, document_offset=None, context_offset=None, meta={}) \n",
            "\n",
            "['martian', None, None, 'kevin', None, 'eragon', None, '5', '1', '1', '2', None, 'five', None, None, 'american', 'titan', '3', 'percy jackson', '2666', '2', 'robert langdon', 'olive kitteridge', None, '1', '1', None, 'tehran', 'america', None, 'wolf hall', '1', 'hush', None, '4', '1', '4', None, '1', None, None, 'america', None, '1q84', 'hugo', '1', 'wolf', None, None, '1', 'eight', 'six']\n",
            "book title is six\n"
          ]
        },
        {
          "data": {
            "application/vnd.jupyter.widget-view+json": {
              "model_id": "211e79ceef874e97a53f052d40780e50",
              "version_major": 2,
              "version_minor": 0
            },
            "text/plain": [
              "Batches:   0%|          | 0/1 [00:00<?, ?it/s]"
            ]
          },
          "metadata": {},
          "output_type": "display_data"
        },
        {
          "data": {
            "application/vnd.jupyter.widget-view+json": {
              "model_id": "7a8f76cb1aa5473f9c2af50f7384789c",
              "version_major": 2,
              "version_minor": 0
            },
            "text/plain": [
              "Batches:   0%|          | 0/1 [00:00<?, ?it/s]"
            ]
          },
          "metadata": {},
          "output_type": "display_data"
        },
        {
          "name": "stdout",
          "output_type": "stream",
          "text": [
            "ExtractedAnswer(query='Who is the author of six of crows (six of crows, #1)?', score=0.6113425493240356, data='Italo Calvino', document=Document(id=56b99170a26280ef4e354acf926044ead910b7a66bad5c77942676615f1bb034, content: 'Title: Six Memos for the Next Millennium;\n",
            "Writer/Author: Italo Calvino;\n",
            "Topic: The celebrated author...', meta: {'title': 'Six Memos for the Next Millennium', 'authors': 'Italo Calvino', 'publisher': 'Houghton Mifflin Harcourt', 'publishedDate': '2016-08-02', 'industryIdentifiers': \"{'type': 'ISBN_13', 'identifier': '9780544230965'}, {'type': 'ISBN_10', 'identifier': '0544230965'}\", 'readingModes': {'text': True, 'image': True}, 'pageCount': 134, 'printType': 'BOOK', 'categories': 'Literary Collections', 'maturityRating': 'NOT_MATURE', 'allowAnonLogging': True, 'contentVersion': '1.5.5.0.preview.3', 'panelizationSummary': {'containsEpubBubbles': False, 'containsImageBubbles': False}, 'imageLinks': {'smallThumbnail': 'http://books.google.com/books/content?id=7rPqDwAAQBAJ&printsec=frontcover&img=1&zoom=5&edge=curl&source=gbs_api', 'thumbnail': 'http://books.google.com/books/content?id=7rPqDwAAQBAJ&printsec=frontcover&img=1&zoom=1&edge=curl&source=gbs_api'}, 'language': 'en', 'previewLink': 'http://books.google.it/books?id=7rPqDwAAQBAJ&printsec=frontcover&dq=intitle:six&hl=&cd=1&source=gbs_api', 'infoLink': 'https://play.google.com/store/books/details?id=7rPqDwAAQBAJ&source=gbs_api', 'canonicalVolumeLink': 'https://play.google.com/store/books/details?id=7rPqDwAAQBAJ', 'subtitle': 'Not available', 'averageRating': 'Not available', 'ratingsCount': 'Not available', 'seriesInfo': 'Not available'}, score: 0.36867337499331876), context=None, document_offset=ExtractedAnswer.Span(start=57, end=70), context_offset=None, meta={}) \n",
            "\n",
            "ExtractedAnswer(query='Who is the author of six of crows (six of crows, #1)?', score=0.49816763401031494, data='Italo Calvino', document=Document(id=56b99170a26280ef4e354acf926044ead910b7a66bad5c77942676615f1bb034, content: 'Title: Six Memos for the Next Millennium;\n",
            "Writer/Author: Italo Calvino;\n",
            "Topic: The celebrated author...', meta: {'title': 'Six Memos for the Next Millennium', 'authors': 'Italo Calvino', 'publisher': 'Houghton Mifflin Harcourt', 'publishedDate': '2016-08-02', 'industryIdentifiers': \"{'type': 'ISBN_13', 'identifier': '9780544230965'}, {'type': 'ISBN_10', 'identifier': '0544230965'}\", 'readingModes': {'text': True, 'image': True}, 'pageCount': 134, 'printType': 'BOOK', 'categories': 'Literary Collections', 'maturityRating': 'NOT_MATURE', 'allowAnonLogging': True, 'contentVersion': '1.5.5.0.preview.3', 'panelizationSummary': {'containsEpubBubbles': False, 'containsImageBubbles': False}, 'imageLinks': {'smallThumbnail': 'http://books.google.com/books/content?id=7rPqDwAAQBAJ&printsec=frontcover&img=1&zoom=5&edge=curl&source=gbs_api', 'thumbnail': 'http://books.google.com/books/content?id=7rPqDwAAQBAJ&printsec=frontcover&img=1&zoom=1&edge=curl&source=gbs_api'}, 'language': 'en', 'previewLink': 'http://books.google.it/books?id=7rPqDwAAQBAJ&printsec=frontcover&dq=intitle:six&hl=&cd=1&source=gbs_api', 'infoLink': 'https://play.google.com/store/books/details?id=7rPqDwAAQBAJ&source=gbs_api', 'canonicalVolumeLink': 'https://play.google.com/store/books/details?id=7rPqDwAAQBAJ', 'subtitle': 'Not available', 'averageRating': 'Not available', 'ratingsCount': 'Not available', 'seriesInfo': 'Not available'}, score: 0.36867337499331876), context=None, document_offset=ExtractedAnswer.Span(start=276, end=289), context_offset=None, meta={}) \n",
            "\n",
            "ExtractedAnswer(query='Who is the author of six of crows (six of crows, #1)?', score=0.1950408880322385, data=None, document=None, context=None, document_offset=None, context_offset=None, meta={}) \n",
            "\n",
            "['martian', None, None, 'kevin', None, 'eragon', None, '5', '1', '1', '2', None, 'five', None, None, 'american', 'titan', '3', 'percy jackson', '2666', '2', 'robert langdon', 'olive kitteridge', None, '1', '1', None, 'tehran', 'america', None, 'wolf hall', '1', 'hush', None, '4', '1', '4', None, '1', None, None, 'america', None, '1q84', 'hugo', '1', 'wolf', None, None, '1', 'eight', 'six', '1']\n",
            "book title is 1\n"
          ]
        },
        {
          "data": {
            "application/vnd.jupyter.widget-view+json": {
              "model_id": "f0930245ab8640729b237dedecaa7964",
              "version_major": 2,
              "version_minor": 0
            },
            "text/plain": [
              "Batches:   0%|          | 0/1 [00:00<?, ?it/s]"
            ]
          },
          "metadata": {},
          "output_type": "display_data"
        },
        {
          "data": {
            "application/vnd.jupyter.widget-view+json": {
              "model_id": "07292a8f07d9458c8cbfb9c0f6e73d84",
              "version_major": 2,
              "version_minor": 0
            },
            "text/plain": [
              "Batches:   0%|          | 0/1 [00:00<?, ?it/s]"
            ]
          },
          "metadata": {},
          "output_type": "display_data"
        },
        {
          "name": "stdout",
          "output_type": "stream",
          "text": [
            "ExtractedAnswer(query='Who is the author of across the nightingale floor (tales of the otori, #1)?', score=0.6429595351219177, data='Giacomo Leopardi', document=Document(id=48eb59a7ddf02190e2da31a36a83e22189b0595bc280eb603ae9f4ea74c47f36, content: 'Title: Opere Di Giacomo Leopardi, Vol. 1 (Classic Reprint);\n",
            "Writer/Author: Giacomo Leopardi;\n",
            "Topic: ...', meta: {'title': 'Opere Di Giacomo Leopardi, Vol. 1 (Classic Reprint)', 'authors': 'Giacomo Leopardi', 'publisher': 'Forgotten Books', 'publishedDate': '2017-10-16', 'industryIdentifiers': \"{'type': 'ISBN_10', 'identifier': '0265393299'}, {'type': 'ISBN_13', 'identifier': '9780265393291'}\", 'readingModes': {'text': False, 'image': False}, 'pageCount': 366, 'printType': 'BOOK', 'categories': 'Poetry', 'maturityRating': 'NOT_MATURE', 'allowAnonLogging': False, 'contentVersion': 'preview-1.0.0', 'panelizationSummary': {'containsEpubBubbles': False, 'containsImageBubbles': False}, 'imageLinks': {'smallThumbnail': 'http://books.google.com/books/content?id=vcA9swEACAAJ&printsec=frontcover&img=1&zoom=5&source=gbs_api', 'thumbnail': 'http://books.google.com/books/content?id=vcA9swEACAAJ&printsec=frontcover&img=1&zoom=1&source=gbs_api'}, 'language': 'it', 'previewLink': 'http://books.google.it/books?id=vcA9swEACAAJ&dq=intitle:1&hl=&cd=1&source=gbs_api', 'infoLink': 'http://books.google.it/books?id=vcA9swEACAAJ&dq=intitle:1&hl=&source=gbs_api', 'canonicalVolumeLink': 'https://books.google.com/books/about/Opere_Di_Giacomo_Leopardi_Vol_1_Classic.html?hl=&id=vcA9swEACAAJ', 'subtitle': 'Not available', 'averageRating': 'Not available', 'ratingsCount': 'Not available', 'seriesInfo': 'Not available'}, score: 0.17391654003180346), context=None, document_offset=ExtractedAnswer.Span(start=75, end=91), context_offset=None, meta={}) \n",
            "\n",
            "ExtractedAnswer(query='Who is the author of across the nightingale floor (tales of the otori, #1)?', score=0.5389730334281921, data='Opere Di Giacomo Leopardi', document=Document(id=48eb59a7ddf02190e2da31a36a83e22189b0595bc280eb603ae9f4ea74c47f36, content: 'Title: Opere Di Giacomo Leopardi, Vol. 1 (Classic Reprint);\n",
            "Writer/Author: Giacomo Leopardi;\n",
            "Topic: ...', meta: {'title': 'Opere Di Giacomo Leopardi, Vol. 1 (Classic Reprint)', 'authors': 'Giacomo Leopardi', 'publisher': 'Forgotten Books', 'publishedDate': '2017-10-16', 'industryIdentifiers': \"{'type': 'ISBN_10', 'identifier': '0265393299'}, {'type': 'ISBN_13', 'identifier': '9780265393291'}\", 'readingModes': {'text': False, 'image': False}, 'pageCount': 366, 'printType': 'BOOK', 'categories': 'Poetry', 'maturityRating': 'NOT_MATURE', 'allowAnonLogging': False, 'contentVersion': 'preview-1.0.0', 'panelizationSummary': {'containsEpubBubbles': False, 'containsImageBubbles': False}, 'imageLinks': {'smallThumbnail': 'http://books.google.com/books/content?id=vcA9swEACAAJ&printsec=frontcover&img=1&zoom=5&source=gbs_api', 'thumbnail': 'http://books.google.com/books/content?id=vcA9swEACAAJ&printsec=frontcover&img=1&zoom=1&source=gbs_api'}, 'language': 'it', 'previewLink': 'http://books.google.it/books?id=vcA9swEACAAJ&dq=intitle:1&hl=&cd=1&source=gbs_api', 'infoLink': 'http://books.google.it/books?id=vcA9swEACAAJ&dq=intitle:1&hl=&source=gbs_api', 'canonicalVolumeLink': 'https://books.google.com/books/about/Opere_Di_Giacomo_Leopardi_Vol_1_Classic.html?hl=&id=vcA9swEACAAJ', 'subtitle': 'Not available', 'averageRating': 'Not available', 'ratingsCount': 'Not available', 'seriesInfo': 'Not available'}, score: 0.17391654003180346), context=None, document_offset=ExtractedAnswer.Span(start=7, end=32), context_offset=None, meta={}) \n",
            "\n",
            "ExtractedAnswer(query='Who is the author of across the nightingale floor (tales of the otori, #1)?', score=0.36305227875709534, data='Michele Ruggiero', document=Document(id=48eb59a7ddf02190e2da31a36a83e22189b0595bc280eb603ae9f4ea74c47f36, content: 'Title: Opere Di Giacomo Leopardi, Vol. 1 (Classic Reprint);\n",
            "Writer/Author: Giacomo Leopardi;\n",
            "Topic: ...', meta: {'title': 'Opere Di Giacomo Leopardi, Vol. 1 (Classic Reprint)', 'authors': 'Giacomo Leopardi', 'publisher': 'Forgotten Books', 'publishedDate': '2017-10-16', 'industryIdentifiers': \"{'type': 'ISBN_10', 'identifier': '0265393299'}, {'type': 'ISBN_13', 'identifier': '9780265393291'}\", 'readingModes': {'text': False, 'image': False}, 'pageCount': 366, 'printType': 'BOOK', 'categories': 'Poetry', 'maturityRating': 'NOT_MATURE', 'allowAnonLogging': False, 'contentVersion': 'preview-1.0.0', 'panelizationSummary': {'containsEpubBubbles': False, 'containsImageBubbles': False}, 'imageLinks': {'smallThumbnail': 'http://books.google.com/books/content?id=vcA9swEACAAJ&printsec=frontcover&img=1&zoom=5&source=gbs_api', 'thumbnail': 'http://books.google.com/books/content?id=vcA9swEACAAJ&printsec=frontcover&img=1&zoom=1&source=gbs_api'}, 'language': 'it', 'previewLink': 'http://books.google.it/books?id=vcA9swEACAAJ&dq=intitle:1&hl=&cd=1&source=gbs_api', 'infoLink': 'http://books.google.it/books?id=vcA9swEACAAJ&dq=intitle:1&hl=&source=gbs_api', 'canonicalVolumeLink': 'https://books.google.com/books/about/Opere_Di_Giacomo_Leopardi_Vol_1_Classic.html?hl=&id=vcA9swEACAAJ', 'subtitle': 'Not available', 'averageRating': 'Not available', 'ratingsCount': 'Not available', 'seriesInfo': 'Not available'}, score: 0.17391654003180346), context=None, document_offset=ExtractedAnswer.Span(start=822, end=838), context_offset=None, meta={}) \n",
            "\n",
            "ExtractedAnswer(query='Who is the author of across the nightingale floor (tales of the otori, #1)?', score=0.10484495957134639, data=None, document=None, context=None, document_offset=None, context_offset=None, meta={}) \n",
            "\n",
            "['martian', None, None, 'kevin', None, 'eragon', None, '5', '1', '1', '2', None, 'five', None, None, 'american', 'titan', '3', 'percy jackson', '2666', '2', 'robert langdon', 'olive kitteridge', None, '1', '1', None, 'tehran', 'america', None, 'wolf hall', '1', 'hush', None, '4', '1', '4', None, '1', None, None, 'america', None, '1q84', 'hugo', '1', 'wolf', None, None, '1', 'eight', 'six', '1', None]\n",
            "book title is None\n"
          ]
        },
        {
          "data": {
            "application/vnd.jupyter.widget-view+json": {
              "model_id": "b8b015e3c43e4a939b374224a4f39447",
              "version_major": 2,
              "version_minor": 0
            },
            "text/plain": [
              "Batches:   0%|          | 0/1 [00:00<?, ?it/s]"
            ]
          },
          "metadata": {},
          "output_type": "display_data"
        },
        {
          "data": {
            "application/vnd.jupyter.widget-view+json": {
              "model_id": "d45b8741490e4b77a65870244c80045f",
              "version_major": 2,
              "version_minor": 0
            },
            "text/plain": [
              "Batches:   0%|          | 0/1 [00:00<?, ?it/s]"
            ]
          },
          "metadata": {},
          "output_type": "display_data"
        },
        {
          "name": "stdout",
          "output_type": "stream",
          "text": [
            "ExtractedAnswer(query='Who is the author of bossypants?', score=0.3927459120750427, data='Агата Кристи', document=Document(id=e7589d9912517481ba7ca4862f0c2cedfa4c8a9fc11b30265e1d8c95fa8b4cdf, content: 'Title: And Then There Were None / И никого не стало. Книга для чтения на английском языке;\n",
            "Writer/Au...', meta: {'title': 'And Then There Were None / И никого не стало. Книга для чтения на английском языке', 'authors': 'Агата Кристи', 'publisher': 'Litres', 'publishedDate': '2018-10-09', 'industryIdentifiers': \"{'type': 'ISBN_13', 'identifier': '9785041375676'}, {'type': 'ISBN_10', 'identifier': '5041375674'}\", 'readingModes': {'text': True, 'image': True}, 'pageCount': 469, 'printType': 'BOOK', 'categories': 'Foreign Language Study', 'maturityRating': 'NOT_MATURE', 'allowAnonLogging': True, 'contentVersion': '1.6.6.0.preview.3', 'panelizationSummary': {'containsEpubBubbles': False, 'containsImageBubbles': False}, 'imageLinks': {'smallThumbnail': 'http://books.google.com/books/content?id=qS9yDwAAQBAJ&printsec=frontcover&img=1&zoom=5&edge=curl&source=gbs_api', 'thumbnail': 'http://books.google.com/books/content?id=qS9yDwAAQBAJ&printsec=frontcover&img=1&zoom=1&edge=curl&source=gbs_api'}, 'language': 'en', 'previewLink': 'http://books.google.it/books?id=qS9yDwAAQBAJ&printsec=frontcover&dq=intitle:None&hl=&cd=1&source=gbs_api', 'infoLink': 'http://books.google.it/books?id=qS9yDwAAQBAJ&dq=intitle:None&hl=&source=gbs_api', 'canonicalVolumeLink': 'https://books.google.com/books/about/And_Then_There_Were_None_%D0%98_%D0%BD%D0%B8%D0%BA%D0%BE%D0%B3%D0%BE.html?hl=&id=qS9yDwAAQBAJ', 'subtitle': 'Not available', 'averageRating': 'Not available', 'ratingsCount': 'Not available', 'seriesInfo': 'Not available'}, score: 0.22191438775218103), context=None, document_offset=ExtractedAnswer.Span(start=106, end=118), context_offset=None, meta={}) \n",
            "\n",
            "ExtractedAnswer(query='Who is the author of bossypants?', score=0.3431234359741211, data='Foreign Language Study;\\nNumber of pages: 469;\\nPublished by: Litres', document=Document(id=e7589d9912517481ba7ca4862f0c2cedfa4c8a9fc11b30265e1d8c95fa8b4cdf, content: 'Title: And Then There Were None / И никого не стало. Книга для чтения на английском языке;\n",
            "Writer/Au...', meta: {'title': 'And Then There Were None / И никого не стало. Книга для чтения на английском языке', 'authors': 'Агата Кристи', 'publisher': 'Litres', 'publishedDate': '2018-10-09', 'industryIdentifiers': \"{'type': 'ISBN_13', 'identifier': '9785041375676'}, {'type': 'ISBN_10', 'identifier': '5041375674'}\", 'readingModes': {'text': True, 'image': True}, 'pageCount': 469, 'printType': 'BOOK', 'categories': 'Foreign Language Study', 'maturityRating': 'NOT_MATURE', 'allowAnonLogging': True, 'contentVersion': '1.6.6.0.preview.3', 'panelizationSummary': {'containsEpubBubbles': False, 'containsImageBubbles': False}, 'imageLinks': {'smallThumbnail': 'http://books.google.com/books/content?id=qS9yDwAAQBAJ&printsec=frontcover&img=1&zoom=5&edge=curl&source=gbs_api', 'thumbnail': 'http://books.google.com/books/content?id=qS9yDwAAQBAJ&printsec=frontcover&img=1&zoom=1&edge=curl&source=gbs_api'}, 'language': 'en', 'previewLink': 'http://books.google.it/books?id=qS9yDwAAQBAJ&printsec=frontcover&dq=intitle:None&hl=&cd=1&source=gbs_api', 'infoLink': 'http://books.google.it/books?id=qS9yDwAAQBAJ&dq=intitle:None&hl=&source=gbs_api', 'canonicalVolumeLink': 'https://books.google.com/books/about/And_Then_There_Were_None_%D0%98_%D0%BD%D0%B8%D0%BA%D0%BE%D0%B3%D0%BE.html?hl=&id=qS9yDwAAQBAJ', 'subtitle': 'Not available', 'averageRating': 'Not available', 'ratingsCount': 'Not available', 'seriesInfo': 'Not available'}, score: 0.22191438775218103), context=None, document_offset=ExtractedAnswer.Span(start=498, end=564), context_offset=None, meta={}) \n",
            "\n",
            "ExtractedAnswer(query='Who is the author of bossypants?', score=0.3058704137802124, data='2018-10-09', document=Document(id=e7589d9912517481ba7ca4862f0c2cedfa4c8a9fc11b30265e1d8c95fa8b4cdf, content: 'Title: And Then There Were None / И никого не стало. Книга для чтения на английском языке;\n",
            "Writer/Au...', meta: {'title': 'And Then There Were None / И никого не стало. Книга для чтения на английском языке', 'authors': 'Агата Кристи', 'publisher': 'Litres', 'publishedDate': '2018-10-09', 'industryIdentifiers': \"{'type': 'ISBN_13', 'identifier': '9785041375676'}, {'type': 'ISBN_10', 'identifier': '5041375674'}\", 'readingModes': {'text': True, 'image': True}, 'pageCount': 469, 'printType': 'BOOK', 'categories': 'Foreign Language Study', 'maturityRating': 'NOT_MATURE', 'allowAnonLogging': True, 'contentVersion': '1.6.6.0.preview.3', 'panelizationSummary': {'containsEpubBubbles': False, 'containsImageBubbles': False}, 'imageLinks': {'smallThumbnail': 'http://books.google.com/books/content?id=qS9yDwAAQBAJ&printsec=frontcover&img=1&zoom=5&edge=curl&source=gbs_api', 'thumbnail': 'http://books.google.com/books/content?id=qS9yDwAAQBAJ&printsec=frontcover&img=1&zoom=1&edge=curl&source=gbs_api'}, 'language': 'en', 'previewLink': 'http://books.google.it/books?id=qS9yDwAAQBAJ&printsec=frontcover&dq=intitle:None&hl=&cd=1&source=gbs_api', 'infoLink': 'http://books.google.it/books?id=qS9yDwAAQBAJ&dq=intitle:None&hl=&source=gbs_api', 'canonicalVolumeLink': 'https://books.google.com/books/about/And_Then_There_Were_None_%D0%98_%D0%BD%D0%B8%D0%BA%D0%BE%D0%B3%D0%BE.html?hl=&id=qS9yDwAAQBAJ', 'subtitle': 'Not available', 'averageRating': 'Not available', 'ratingsCount': 'Not available', 'seriesInfo': 'Not available'}, score: 0.22191438775218103), context=None, document_offset=ExtractedAnswer.Span(start=578, end=588), context_offset=None, meta={}) \n",
            "\n",
            "ExtractedAnswer(query='Who is the author of bossypants?', score=0.2768820300382153, data=None, document=None, context=None, document_offset=None, context_offset=None, meta={}) \n",
            "\n",
            "['martian', None, None, 'kevin', None, 'eragon', None, '5', '1', '1', '2', None, 'five', None, None, 'american', 'titan', '3', 'percy jackson', '2666', '2', 'robert langdon', 'olive kitteridge', None, '1', '1', None, 'tehran', 'america', None, 'wolf hall', '1', 'hush', None, '4', '1', '4', None, '1', None, None, 'america', None, '1q84', 'hugo', '1', 'wolf', None, None, '1', 'eight', 'six', '1', None, '1']\n",
            "book title is 1\n"
          ]
        },
        {
          "data": {
            "application/vnd.jupyter.widget-view+json": {
              "model_id": "afe2d9f12e3e484ab570b22fbb91e01a",
              "version_major": 2,
              "version_minor": 0
            },
            "text/plain": [
              "Batches:   0%|          | 0/1 [00:00<?, ?it/s]"
            ]
          },
          "metadata": {},
          "output_type": "display_data"
        },
        {
          "data": {
            "application/vnd.jupyter.widget-view+json": {
              "model_id": "3460c7d9837545f18313812c2183fb7f",
              "version_major": 2,
              "version_minor": 0
            },
            "text/plain": [
              "Batches:   0%|          | 0/1 [00:00<?, ?it/s]"
            ]
          },
          "metadata": {},
          "output_type": "display_data"
        },
        {
          "name": "stdout",
          "output_type": "stream",
          "text": [
            "ExtractedAnswer(query='Who is the author of dead witch walking (the hollows, #1)?', score=0.5724374055862427, data='Giacomo Leopardi', document=Document(id=48eb59a7ddf02190e2da31a36a83e22189b0595bc280eb603ae9f4ea74c47f36, content: 'Title: Opere Di Giacomo Leopardi, Vol. 1 (Classic Reprint);\n",
            "Writer/Author: Giacomo Leopardi;\n",
            "Topic: ...', meta: {'title': 'Opere Di Giacomo Leopardi, Vol. 1 (Classic Reprint)', 'authors': 'Giacomo Leopardi', 'publisher': 'Forgotten Books', 'publishedDate': '2017-10-16', 'industryIdentifiers': \"{'type': 'ISBN_10', 'identifier': '0265393299'}, {'type': 'ISBN_13', 'identifier': '9780265393291'}\", 'readingModes': {'text': False, 'image': False}, 'pageCount': 366, 'printType': 'BOOK', 'categories': 'Poetry', 'maturityRating': 'NOT_MATURE', 'allowAnonLogging': False, 'contentVersion': 'preview-1.0.0', 'panelizationSummary': {'containsEpubBubbles': False, 'containsImageBubbles': False}, 'imageLinks': {'smallThumbnail': 'http://books.google.com/books/content?id=vcA9swEACAAJ&printsec=frontcover&img=1&zoom=5&source=gbs_api', 'thumbnail': 'http://books.google.com/books/content?id=vcA9swEACAAJ&printsec=frontcover&img=1&zoom=1&source=gbs_api'}, 'language': 'it', 'previewLink': 'http://books.google.it/books?id=vcA9swEACAAJ&dq=intitle:1&hl=&cd=1&source=gbs_api', 'infoLink': 'http://books.google.it/books?id=vcA9swEACAAJ&dq=intitle:1&hl=&source=gbs_api', 'canonicalVolumeLink': 'https://books.google.com/books/about/Opere_Di_Giacomo_Leopardi_Vol_1_Classic.html?hl=&id=vcA9swEACAAJ', 'subtitle': 'Not available', 'averageRating': 'Not available', 'ratingsCount': 'Not available', 'seriesInfo': 'Not available'}, score: 0.10485373617912154), context=None, document_offset=ExtractedAnswer.Span(start=75, end=91), context_offset=None, meta={}) \n",
            "\n",
            "ExtractedAnswer(query='Who is the author of dead witch walking (the hollows, #1)?', score=0.4451497197151184, data='Opere Di Giacomo Leopardi', document=Document(id=48eb59a7ddf02190e2da31a36a83e22189b0595bc280eb603ae9f4ea74c47f36, content: 'Title: Opere Di Giacomo Leopardi, Vol. 1 (Classic Reprint);\n",
            "Writer/Author: Giacomo Leopardi;\n",
            "Topic: ...', meta: {'title': 'Opere Di Giacomo Leopardi, Vol. 1 (Classic Reprint)', 'authors': 'Giacomo Leopardi', 'publisher': 'Forgotten Books', 'publishedDate': '2017-10-16', 'industryIdentifiers': \"{'type': 'ISBN_10', 'identifier': '0265393299'}, {'type': 'ISBN_13', 'identifier': '9780265393291'}\", 'readingModes': {'text': False, 'image': False}, 'pageCount': 366, 'printType': 'BOOK', 'categories': 'Poetry', 'maturityRating': 'NOT_MATURE', 'allowAnonLogging': False, 'contentVersion': 'preview-1.0.0', 'panelizationSummary': {'containsEpubBubbles': False, 'containsImageBubbles': False}, 'imageLinks': {'smallThumbnail': 'http://books.google.com/books/content?id=vcA9swEACAAJ&printsec=frontcover&img=1&zoom=5&source=gbs_api', 'thumbnail': 'http://books.google.com/books/content?id=vcA9swEACAAJ&printsec=frontcover&img=1&zoom=1&source=gbs_api'}, 'language': 'it', 'previewLink': 'http://books.google.it/books?id=vcA9swEACAAJ&dq=intitle:1&hl=&cd=1&source=gbs_api', 'infoLink': 'http://books.google.it/books?id=vcA9swEACAAJ&dq=intitle:1&hl=&source=gbs_api', 'canonicalVolumeLink': 'https://books.google.com/books/about/Opere_Di_Giacomo_Leopardi_Vol_1_Classic.html?hl=&id=vcA9swEACAAJ', 'subtitle': 'Not available', 'averageRating': 'Not available', 'ratingsCount': 'Not available', 'seriesInfo': 'Not available'}, score: 0.10485373617912154), context=None, document_offset=ExtractedAnswer.Span(start=7, end=32), context_offset=None, meta={}) \n",
            "\n",
            "ExtractedAnswer(query='Who is the author of dead witch walking (the hollows, #1)?', score=0.395479291677475, data='Michele Ruggiero', document=Document(id=48eb59a7ddf02190e2da31a36a83e22189b0595bc280eb603ae9f4ea74c47f36, content: 'Title: Opere Di Giacomo Leopardi, Vol. 1 (Classic Reprint);\n",
            "Writer/Author: Giacomo Leopardi;\n",
            "Topic: ...', meta: {'title': 'Opere Di Giacomo Leopardi, Vol. 1 (Classic Reprint)', 'authors': 'Giacomo Leopardi', 'publisher': 'Forgotten Books', 'publishedDate': '2017-10-16', 'industryIdentifiers': \"{'type': 'ISBN_10', 'identifier': '0265393299'}, {'type': 'ISBN_13', 'identifier': '9780265393291'}\", 'readingModes': {'text': False, 'image': False}, 'pageCount': 366, 'printType': 'BOOK', 'categories': 'Poetry', 'maturityRating': 'NOT_MATURE', 'allowAnonLogging': False, 'contentVersion': 'preview-1.0.0', 'panelizationSummary': {'containsEpubBubbles': False, 'containsImageBubbles': False}, 'imageLinks': {'smallThumbnail': 'http://books.google.com/books/content?id=vcA9swEACAAJ&printsec=frontcover&img=1&zoom=5&source=gbs_api', 'thumbnail': 'http://books.google.com/books/content?id=vcA9swEACAAJ&printsec=frontcover&img=1&zoom=1&source=gbs_api'}, 'language': 'it', 'previewLink': 'http://books.google.it/books?id=vcA9swEACAAJ&dq=intitle:1&hl=&cd=1&source=gbs_api', 'infoLink': 'http://books.google.it/books?id=vcA9swEACAAJ&dq=intitle:1&hl=&source=gbs_api', 'canonicalVolumeLink': 'https://books.google.com/books/about/Opere_Di_Giacomo_Leopardi_Vol_1_Classic.html?hl=&id=vcA9swEACAAJ', 'subtitle': 'Not available', 'averageRating': 'Not available', 'ratingsCount': 'Not available', 'seriesInfo': 'Not available'}, score: 0.10485373617912154), context=None, document_offset=ExtractedAnswer.Span(start=822, end=838), context_offset=None, meta={}) \n",
            "\n",
            "ExtractedAnswer(query='Who is the author of dead witch walking (the hollows, #1)?', score=0.14341239742610096, data=None, document=None, context=None, document_offset=None, context_offset=None, meta={}) \n",
            "\n",
            "['martian', None, None, 'kevin', None, 'eragon', None, '5', '1', '1', '2', None, 'five', None, None, 'american', 'titan', '3', 'percy jackson', '2666', '2', 'robert langdon', 'olive kitteridge', None, '1', '1', None, 'tehran', 'america', None, 'wolf hall', '1', 'hush', None, '4', '1', '4', None, '1', None, None, 'america', None, '1q84', 'hugo', '1', 'wolf', None, None, '1', 'eight', 'six', '1', None, '1', 'iron kissed']\n",
            "book title is iron kissed\n"
          ]
        },
        {
          "data": {
            "application/vnd.jupyter.widget-view+json": {
              "model_id": "7e779b49d9b948aeaa2f23a22afdd290",
              "version_major": 2,
              "version_minor": 0
            },
            "text/plain": [
              "Batches:   0%|          | 0/1 [00:00<?, ?it/s]"
            ]
          },
          "metadata": {},
          "output_type": "display_data"
        },
        {
          "data": {
            "application/vnd.jupyter.widget-view+json": {
              "model_id": "b2b310ec75634f2e82d87283640ebd4b",
              "version_major": 2,
              "version_minor": 0
            },
            "text/plain": [
              "Batches:   0%|          | 0/1 [00:00<?, ?it/s]"
            ]
          },
          "metadata": {},
          "output_type": "display_data"
        },
        {
          "name": "stdout",
          "output_type": "stream",
          "text": [
            "ExtractedAnswer(query='Who is the author of iron kissed (mercy thompson, #3)?', score=0.7182195782661438, data='Patricia Briggs', document=Document(id=81db3487bd0c1cbfdaf1e6dee5c2be8388c1749f4be50a2cb4f55e6169be9855, content: 'Title: Iron Kissed;\n",
            "Writer/Author: Patricia Briggs;\n",
            "Topic: The third novel in the international No. ...', meta: {'title': 'Iron Kissed', 'subtitle': 'Mercy Thompson: Book 3', 'authors': 'Patricia Briggs', 'publisher': 'Hachette UK', 'publishedDate': '2010-11-04', 'industryIdentifiers': \"{'type': 'ISBN_13', 'identifier': '9780748124008'}, {'type': 'ISBN_10', 'identifier': '0748124004'}\", 'readingModes': {'text': True, 'image': False}, 'pageCount': 320, 'printType': 'BOOK', 'categories': 'Fiction', 'maturityRating': 'NOT_MATURE', 'allowAnonLogging': True, 'contentVersion': '2.8.3.0.preview.2', 'panelizationSummary': {'containsEpubBubbles': False, 'containsImageBubbles': False}, 'imageLinks': {'smallThumbnail': 'http://books.google.com/books/content?id=3Tv_65AygxgC&printsec=frontcover&img=1&zoom=5&edge=curl&source=gbs_api', 'thumbnail': 'http://books.google.com/books/content?id=3Tv_65AygxgC&printsec=frontcover&img=1&zoom=1&edge=curl&source=gbs_api'}, 'language': 'en', 'previewLink': 'http://books.google.it/books?id=3Tv_65AygxgC&printsec=frontcover&dq=intitle:iron+kissed&hl=&cd=1&source=gbs_api', 'infoLink': 'https://play.google.com/store/books/details?id=3Tv_65AygxgC&source=gbs_api', 'canonicalVolumeLink': 'https://play.google.com/store/books/details?id=3Tv_65AygxgC', 'averageRating': 'Not available', 'ratingsCount': 'Not available', 'seriesInfo': 'Not available'}, score: 0.6381963618660277), context=None, document_offset=ExtractedAnswer.Span(start=35, end=50), context_offset=None, meta={}) \n",
            "\n",
            "ExtractedAnswer(query='Who is the author of iron kissed (mercy thompson, #3)?', score=0.5070197582244873, data='Patricia Briggs', document=Document(id=81db3487bd0c1cbfdaf1e6dee5c2be8388c1749f4be50a2cb4f55e6169be9855, content: 'Title: Iron Kissed;\n",
            "Writer/Author: Patricia Briggs;\n",
            "Topic: The third novel in the international No. ...', meta: {'title': 'Iron Kissed', 'subtitle': 'Mercy Thompson: Book 3', 'authors': 'Patricia Briggs', 'publisher': 'Hachette UK', 'publishedDate': '2010-11-04', 'industryIdentifiers': \"{'type': 'ISBN_13', 'identifier': '9780748124008'}, {'type': 'ISBN_10', 'identifier': '0748124004'}\", 'readingModes': {'text': True, 'image': False}, 'pageCount': 320, 'printType': 'BOOK', 'categories': 'Fiction', 'maturityRating': 'NOT_MATURE', 'allowAnonLogging': True, 'contentVersion': '2.8.3.0.preview.2', 'panelizationSummary': {'containsEpubBubbles': False, 'containsImageBubbles': False}, 'imageLinks': {'smallThumbnail': 'http://books.google.com/books/content?id=3Tv_65AygxgC&printsec=frontcover&img=1&zoom=5&edge=curl&source=gbs_api', 'thumbnail': 'http://books.google.com/books/content?id=3Tv_65AygxgC&printsec=frontcover&img=1&zoom=1&edge=curl&source=gbs_api'}, 'language': 'en', 'previewLink': 'http://books.google.it/books?id=3Tv_65AygxgC&printsec=frontcover&dq=intitle:iron+kissed&hl=&cd=1&source=gbs_api', 'infoLink': 'https://play.google.com/store/books/details?id=3Tv_65AygxgC&source=gbs_api', 'canonicalVolumeLink': 'https://play.google.com/store/books/details?id=3Tv_65AygxgC', 'averageRating': 'Not available', 'ratingsCount': 'Not available', 'seriesInfo': 'Not available'}, score: 0.6381963618660277), context=None, document_offset=ExtractedAnswer.Span(start=1463, end=1478), context_offset=None, meta={}) \n",
            "\n",
            "ExtractedAnswer(query='Who is the author of iron kissed (mercy thompson, #3)?', score=0.35590022802352905, data='Fiction', document=Document(id=81db3487bd0c1cbfdaf1e6dee5c2be8388c1749f4be50a2cb4f55e6169be9855, content: 'Title: Iron Kissed;\n",
            "Writer/Author: Patricia Briggs;\n",
            "Topic: The third novel in the international No. ...', meta: {'title': 'Iron Kissed', 'subtitle': 'Mercy Thompson: Book 3', 'authors': 'Patricia Briggs', 'publisher': 'Hachette UK', 'publishedDate': '2010-11-04', 'industryIdentifiers': \"{'type': 'ISBN_13', 'identifier': '9780748124008'}, {'type': 'ISBN_10', 'identifier': '0748124004'}\", 'readingModes': {'text': True, 'image': False}, 'pageCount': 320, 'printType': 'BOOK', 'categories': 'Fiction', 'maturityRating': 'NOT_MATURE', 'allowAnonLogging': True, 'contentVersion': '2.8.3.0.preview.2', 'panelizationSummary': {'containsEpubBubbles': False, 'containsImageBubbles': False}, 'imageLinks': {'smallThumbnail': 'http://books.google.com/books/content?id=3Tv_65AygxgC&printsec=frontcover&img=1&zoom=5&edge=curl&source=gbs_api', 'thumbnail': 'http://books.google.com/books/content?id=3Tv_65AygxgC&printsec=frontcover&img=1&zoom=1&edge=curl&source=gbs_api'}, 'language': 'en', 'previewLink': 'http://books.google.it/books?id=3Tv_65AygxgC&printsec=frontcover&dq=intitle:iron+kissed&hl=&cd=1&source=gbs_api', 'infoLink': 'https://play.google.com/store/books/details?id=3Tv_65AygxgC&source=gbs_api', 'canonicalVolumeLink': 'https://play.google.com/store/books/details?id=3Tv_65AygxgC', 'averageRating': 'Not available', 'ratingsCount': 'Not available', 'seriesInfo': 'Not available'}, score: 0.6381963618660277), context=None, document_offset=ExtractedAnswer.Span(start=1727, end=1734), context_offset=None, meta={}) \n",
            "\n",
            "ExtractedAnswer(query='Who is the author of iron kissed (mercy thompson, #3)?', score=0.08947330374226954, data=None, document=None, context=None, document_offset=None, context_offset=None, meta={}) \n",
            "\n",
            "['martian', None, None, 'kevin', None, 'eragon', None, '5', '1', '1', '2', None, 'five', None, None, 'american', 'titan', '3', 'percy jackson', '2666', '2', 'robert langdon', 'olive kitteridge', None, '1', '1', None, 'tehran', 'america', None, 'wolf hall', '1', 'hush', None, '4', '1', '4', None, '1', None, None, 'america', None, '1q84', 'hugo', '1', 'wolf', None, None, '1', 'eight', 'six', '1', None, '1', 'iron kissed', None]\n",
            "book title is None\n"
          ]
        },
        {
          "data": {
            "application/vnd.jupyter.widget-view+json": {
              "model_id": "deb1b6f6363f4018a697a5a702c37dd4",
              "version_major": 2,
              "version_minor": 0
            },
            "text/plain": [
              "Batches:   0%|          | 0/1 [00:00<?, ?it/s]"
            ]
          },
          "metadata": {},
          "output_type": "display_data"
        },
        {
          "data": {
            "application/vnd.jupyter.widget-view+json": {
              "model_id": "6b9ef499dc904f0bae6e3acd07cab857",
              "version_major": 2,
              "version_minor": 0
            },
            "text/plain": [
              "Batches:   0%|          | 0/1 [00:00<?, ?it/s]"
            ]
          },
          "metadata": {},
          "output_type": "display_data"
        },
        {
          "name": "stdout",
          "output_type": "stream",
          "text": [
            "ExtractedAnswer(query='Who is the author of duma key?', score=0.5640503168106079, data='Агата Кристи', document=Document(id=e7589d9912517481ba7ca4862f0c2cedfa4c8a9fc11b30265e1d8c95fa8b4cdf, content: 'Title: And Then There Were None / И никого не стало. Книга для чтения на английском языке;\n",
            "Writer/Au...', meta: {'title': 'And Then There Were None / И никого не стало. Книга для чтения на английском языке', 'authors': 'Агата Кристи', 'publisher': 'Litres', 'publishedDate': '2018-10-09', 'industryIdentifiers': \"{'type': 'ISBN_13', 'identifier': '9785041375676'}, {'type': 'ISBN_10', 'identifier': '5041375674'}\", 'readingModes': {'text': True, 'image': True}, 'pageCount': 469, 'printType': 'BOOK', 'categories': 'Foreign Language Study', 'maturityRating': 'NOT_MATURE', 'allowAnonLogging': True, 'contentVersion': '1.6.6.0.preview.3', 'panelizationSummary': {'containsEpubBubbles': False, 'containsImageBubbles': False}, 'imageLinks': {'smallThumbnail': 'http://books.google.com/books/content?id=qS9yDwAAQBAJ&printsec=frontcover&img=1&zoom=5&edge=curl&source=gbs_api', 'thumbnail': 'http://books.google.com/books/content?id=qS9yDwAAQBAJ&printsec=frontcover&img=1&zoom=1&edge=curl&source=gbs_api'}, 'language': 'en', 'previewLink': 'http://books.google.it/books?id=qS9yDwAAQBAJ&printsec=frontcover&dq=intitle:None&hl=&cd=1&source=gbs_api', 'infoLink': 'http://books.google.it/books?id=qS9yDwAAQBAJ&dq=intitle:None&hl=&source=gbs_api', 'canonicalVolumeLink': 'https://books.google.com/books/about/And_Then_There_Were_None_%D0%98_%D0%BD%D0%B8%D0%BA%D0%BE%D0%B3%D0%BE.html?hl=&id=qS9yDwAAQBAJ', 'subtitle': 'Not available', 'averageRating': 'Not available', 'ratingsCount': 'Not available', 'seriesInfo': 'Not available'}, score: 0.07944426229037792), context=None, document_offset=ExtractedAnswer.Span(start=106, end=118), context_offset=None, meta={}) \n",
            "\n",
            "ExtractedAnswer(query='Who is the author of duma key?', score=0.38931697607040405, data='Litres', document=Document(id=e7589d9912517481ba7ca4862f0c2cedfa4c8a9fc11b30265e1d8c95fa8b4cdf, content: 'Title: And Then There Were None / И никого не стало. Книга для чтения на английском языке;\n",
            "Writer/Au...', meta: {'title': 'And Then There Were None / И никого не стало. Книга для чтения на английском языке', 'authors': 'Агата Кристи', 'publisher': 'Litres', 'publishedDate': '2018-10-09', 'industryIdentifiers': \"{'type': 'ISBN_13', 'identifier': '9785041375676'}, {'type': 'ISBN_10', 'identifier': '5041375674'}\", 'readingModes': {'text': True, 'image': True}, 'pageCount': 469, 'printType': 'BOOK', 'categories': 'Foreign Language Study', 'maturityRating': 'NOT_MATURE', 'allowAnonLogging': True, 'contentVersion': '1.6.6.0.preview.3', 'panelizationSummary': {'containsEpubBubbles': False, 'containsImageBubbles': False}, 'imageLinks': {'smallThumbnail': 'http://books.google.com/books/content?id=qS9yDwAAQBAJ&printsec=frontcover&img=1&zoom=5&edge=curl&source=gbs_api', 'thumbnail': 'http://books.google.com/books/content?id=qS9yDwAAQBAJ&printsec=frontcover&img=1&zoom=1&edge=curl&source=gbs_api'}, 'language': 'en', 'previewLink': 'http://books.google.it/books?id=qS9yDwAAQBAJ&printsec=frontcover&dq=intitle:None&hl=&cd=1&source=gbs_api', 'infoLink': 'http://books.google.it/books?id=qS9yDwAAQBAJ&dq=intitle:None&hl=&source=gbs_api', 'canonicalVolumeLink': 'https://books.google.com/books/about/And_Then_There_Were_None_%D0%98_%D0%BD%D0%B8%D0%BA%D0%BE%D0%B3%D0%BE.html?hl=&id=qS9yDwAAQBAJ', 'subtitle': 'Not available', 'averageRating': 'Not available', 'ratingsCount': 'Not available', 'seriesInfo': 'Not available'}, score: 0.07944426229037792), context=None, document_offset=ExtractedAnswer.Span(start=558, end=564), context_offset=None, meta={}) \n",
            "\n",
            "ExtractedAnswer(query='Who is the author of duma key?', score=0.35804328322410583, data='да', document=Document(id=e7589d9912517481ba7ca4862f0c2cedfa4c8a9fc11b30265e1d8c95fa8b4cdf, content: 'Title: And Then There Were None / И никого не стало. Книга для чтения на английском языке;\n",
            "Writer/Au...', meta: {'title': 'And Then There Were None / И никого не стало. Книга для чтения на английском языке', 'authors': 'Агата Кристи', 'publisher': 'Litres', 'publishedDate': '2018-10-09', 'industryIdentifiers': \"{'type': 'ISBN_13', 'identifier': '9785041375676'}, {'type': 'ISBN_10', 'identifier': '5041375674'}\", 'readingModes': {'text': True, 'image': True}, 'pageCount': 469, 'printType': 'BOOK', 'categories': 'Foreign Language Study', 'maturityRating': 'NOT_MATURE', 'allowAnonLogging': True, 'contentVersion': '1.6.6.0.preview.3', 'panelizationSummary': {'containsEpubBubbles': False, 'containsImageBubbles': False}, 'imageLinks': {'smallThumbnail': 'http://books.google.com/books/content?id=qS9yDwAAQBAJ&printsec=frontcover&img=1&zoom=5&edge=curl&source=gbs_api', 'thumbnail': 'http://books.google.com/books/content?id=qS9yDwAAQBAJ&printsec=frontcover&img=1&zoom=1&edge=curl&source=gbs_api'}, 'language': 'en', 'previewLink': 'http://books.google.it/books?id=qS9yDwAAQBAJ&printsec=frontcover&dq=intitle:None&hl=&cd=1&source=gbs_api', 'infoLink': 'http://books.google.it/books?id=qS9yDwAAQBAJ&dq=intitle:None&hl=&source=gbs_api', 'canonicalVolumeLink': 'https://books.google.com/books/about/And_Then_There_Were_None_%D0%98_%D0%BD%D0%B8%D0%BA%D0%BE%D0%B3%D0%BE.html?hl=&id=qS9yDwAAQBAJ', 'subtitle': 'Not available', 'averageRating': 'Not available', 'ratingsCount': 'Not available', 'seriesInfo': 'Not available'}, score: 0.07944426229037792), context=None, document_offset=ExtractedAnswer.Span(start=439, end=441), context_offset=None, meta={}) \n",
            "\n",
            "ExtractedAnswer(query='Who is the author of duma key?', score=0.17090625629485182, data=None, document=None, context=None, document_offset=None, context_offset=None, meta={}) \n",
            "\n",
            "['martian', None, None, 'kevin', None, 'eragon', None, '5', '1', '1', '2', None, 'five', None, None, 'american', 'titan', '3', 'percy jackson', '2666', '2', 'robert langdon', 'olive kitteridge', None, '1', '1', None, 'tehran', 'america', None, 'wolf hall', '1', 'hush', None, '4', '1', '4', None, '1', None, None, 'america', None, '1q84', 'hugo', '1', 'wolf', None, None, '1', 'eight', 'six', '1', None, '1', 'iron kissed', None, None]\n",
            "book title is None\n"
          ]
        },
        {
          "data": {
            "application/vnd.jupyter.widget-view+json": {
              "model_id": "9f9a05b029dd49919f140f76813975e8",
              "version_major": 2,
              "version_minor": 0
            },
            "text/plain": [
              "Batches:   0%|          | 0/1 [00:00<?, ?it/s]"
            ]
          },
          "metadata": {},
          "output_type": "display_data"
        },
        {
          "data": {
            "application/vnd.jupyter.widget-view+json": {
              "model_id": "3b725c43f96f4fc491575aef890f6eb6",
              "version_major": 2,
              "version_minor": 0
            },
            "text/plain": [
              "Batches:   0%|          | 0/1 [00:00<?, ?it/s]"
            ]
          },
          "metadata": {},
          "output_type": "display_data"
        },
        {
          "name": "stdout",
          "output_type": "stream",
          "text": [
            "ExtractedAnswer(query='Who is the author of the children of húrin?', score=0.4823785722255707, data='Агата Кристи', document=Document(id=e7589d9912517481ba7ca4862f0c2cedfa4c8a9fc11b30265e1d8c95fa8b4cdf, content: 'Title: And Then There Were None / И никого не стало. Книга для чтения на английском языке;\n",
            "Writer/Au...', meta: {'title': 'And Then There Were None / И никого не стало. Книга для чтения на английском языке', 'authors': 'Агата Кристи', 'publisher': 'Litres', 'publishedDate': '2018-10-09', 'industryIdentifiers': \"{'type': 'ISBN_13', 'identifier': '9785041375676'}, {'type': 'ISBN_10', 'identifier': '5041375674'}\", 'readingModes': {'text': True, 'image': True}, 'pageCount': 469, 'printType': 'BOOK', 'categories': 'Foreign Language Study', 'maturityRating': 'NOT_MATURE', 'allowAnonLogging': True, 'contentVersion': '1.6.6.0.preview.3', 'panelizationSummary': {'containsEpubBubbles': False, 'containsImageBubbles': False}, 'imageLinks': {'smallThumbnail': 'http://books.google.com/books/content?id=qS9yDwAAQBAJ&printsec=frontcover&img=1&zoom=5&edge=curl&source=gbs_api', 'thumbnail': 'http://books.google.com/books/content?id=qS9yDwAAQBAJ&printsec=frontcover&img=1&zoom=1&edge=curl&source=gbs_api'}, 'language': 'en', 'previewLink': 'http://books.google.it/books?id=qS9yDwAAQBAJ&printsec=frontcover&dq=intitle:None&hl=&cd=1&source=gbs_api', 'infoLink': 'http://books.google.it/books?id=qS9yDwAAQBAJ&dq=intitle:None&hl=&source=gbs_api', 'canonicalVolumeLink': 'https://books.google.com/books/about/And_Then_There_Were_None_%D0%98_%D0%BD%D0%B8%D0%BA%D0%BE%D0%B3%D0%BE.html?hl=&id=qS9yDwAAQBAJ', 'subtitle': 'Not available', 'averageRating': 'Not available', 'ratingsCount': 'Not available', 'seriesInfo': 'Not available'}, score: 0.12812195690804595), context=None, document_offset=ExtractedAnswer.Span(start=106, end=118), context_offset=None, meta={}) \n",
            "\n",
            "ExtractedAnswer(query='Who is the author of the children of húrin?', score=0.3551900088787079, data='Foreign Language Study;\\nNumber of pages: 469;\\nPublished by: Litres', document=Document(id=e7589d9912517481ba7ca4862f0c2cedfa4c8a9fc11b30265e1d8c95fa8b4cdf, content: 'Title: And Then There Were None / И никого не стало. Книга для чтения на английском языке;\n",
            "Writer/Au...', meta: {'title': 'And Then There Were None / И никого не стало. Книга для чтения на английском языке', 'authors': 'Агата Кристи', 'publisher': 'Litres', 'publishedDate': '2018-10-09', 'industryIdentifiers': \"{'type': 'ISBN_13', 'identifier': '9785041375676'}, {'type': 'ISBN_10', 'identifier': '5041375674'}\", 'readingModes': {'text': True, 'image': True}, 'pageCount': 469, 'printType': 'BOOK', 'categories': 'Foreign Language Study', 'maturityRating': 'NOT_MATURE', 'allowAnonLogging': True, 'contentVersion': '1.6.6.0.preview.3', 'panelizationSummary': {'containsEpubBubbles': False, 'containsImageBubbles': False}, 'imageLinks': {'smallThumbnail': 'http://books.google.com/books/content?id=qS9yDwAAQBAJ&printsec=frontcover&img=1&zoom=5&edge=curl&source=gbs_api', 'thumbnail': 'http://books.google.com/books/content?id=qS9yDwAAQBAJ&printsec=frontcover&img=1&zoom=1&edge=curl&source=gbs_api'}, 'language': 'en', 'previewLink': 'http://books.google.it/books?id=qS9yDwAAQBAJ&printsec=frontcover&dq=intitle:None&hl=&cd=1&source=gbs_api', 'infoLink': 'http://books.google.it/books?id=qS9yDwAAQBAJ&dq=intitle:None&hl=&source=gbs_api', 'canonicalVolumeLink': 'https://books.google.com/books/about/And_Then_There_Were_None_%D0%98_%D0%BD%D0%B8%D0%BA%D0%BE%D0%B3%D0%BE.html?hl=&id=qS9yDwAAQBAJ', 'subtitle': 'Not available', 'averageRating': 'Not available', 'ratingsCount': 'Not available', 'seriesInfo': 'Not available'}, score: 0.12812195690804595), context=None, document_offset=ExtractedAnswer.Span(start=498, end=564), context_offset=None, meta={}) \n",
            "\n",
            "ExtractedAnswer(query='Who is the author of the children of húrin?', score=0.31621652841567993, data='2018-10-09', document=Document(id=e7589d9912517481ba7ca4862f0c2cedfa4c8a9fc11b30265e1d8c95fa8b4cdf, content: 'Title: And Then There Were None / И никого не стало. Книга для чтения на английском языке;\n",
            "Writer/Au...', meta: {'title': 'And Then There Were None / И никого не стало. Книга для чтения на английском языке', 'authors': 'Агата Кристи', 'publisher': 'Litres', 'publishedDate': '2018-10-09', 'industryIdentifiers': \"{'type': 'ISBN_13', 'identifier': '9785041375676'}, {'type': 'ISBN_10', 'identifier': '5041375674'}\", 'readingModes': {'text': True, 'image': True}, 'pageCount': 469, 'printType': 'BOOK', 'categories': 'Foreign Language Study', 'maturityRating': 'NOT_MATURE', 'allowAnonLogging': True, 'contentVersion': '1.6.6.0.preview.3', 'panelizationSummary': {'containsEpubBubbles': False, 'containsImageBubbles': False}, 'imageLinks': {'smallThumbnail': 'http://books.google.com/books/content?id=qS9yDwAAQBAJ&printsec=frontcover&img=1&zoom=5&edge=curl&source=gbs_api', 'thumbnail': 'http://books.google.com/books/content?id=qS9yDwAAQBAJ&printsec=frontcover&img=1&zoom=1&edge=curl&source=gbs_api'}, 'language': 'en', 'previewLink': 'http://books.google.it/books?id=qS9yDwAAQBAJ&printsec=frontcover&dq=intitle:None&hl=&cd=1&source=gbs_api', 'infoLink': 'http://books.google.it/books?id=qS9yDwAAQBAJ&dq=intitle:None&hl=&source=gbs_api', 'canonicalVolumeLink': 'https://books.google.com/books/about/And_Then_There_Were_None_%D0%98_%D0%BD%D0%B8%D0%BA%D0%BE%D0%B3%D0%BE.html?hl=&id=qS9yDwAAQBAJ', 'subtitle': 'Not available', 'averageRating': 'Not available', 'ratingsCount': 'Not available', 'seriesInfo': 'Not available'}, score: 0.12812195690804595), context=None, document_offset=ExtractedAnswer.Span(start=578, end=588), context_offset=None, meta={}) \n",
            "\n",
            "ExtractedAnswer(query='Who is the author of the children of húrin?', score=0.2282246781401304, data=None, document=None, context=None, document_offset=None, context_offset=None, meta={}) \n",
            "\n",
            "['martian', None, None, 'kevin', None, 'eragon', None, '5', '1', '1', '2', None, 'five', None, None, 'american', 'titan', '3', 'percy jackson', '2666', '2', 'robert langdon', 'olive kitteridge', None, '1', '1', None, 'tehran', 'america', None, 'wolf hall', '1', 'hush', None, '4', '1', '4', None, '1', None, None, 'america', None, '1q84', 'hugo', '1', 'wolf', None, None, '1', 'eight', 'six', '1', None, '1', 'iron kissed', None, None, None]\n",
            "book title is None\n"
          ]
        },
        {
          "data": {
            "application/vnd.jupyter.widget-view+json": {
              "model_id": "b6ff60f4f2d143538c1415e49c55ab70",
              "version_major": 2,
              "version_minor": 0
            },
            "text/plain": [
              "Batches:   0%|          | 0/1 [00:00<?, ?it/s]"
            ]
          },
          "metadata": {},
          "output_type": "display_data"
        },
        {
          "data": {
            "application/vnd.jupyter.widget-view+json": {
              "model_id": "cbbc8e6d0c2d4330b7d7754d845480c1",
              "version_major": 2,
              "version_minor": 0
            },
            "text/plain": [
              "Batches:   0%|          | 0/1 [00:00<?, ?it/s]"
            ]
          },
          "metadata": {},
          "output_type": "display_data"
        },
        {
          "name": "stdout",
          "output_type": "stream",
          "text": [
            "ExtractedAnswer(query='Who is the author of the nix?', score=0.5078461170196533, data='Агата Кристи', document=Document(id=e7589d9912517481ba7ca4862f0c2cedfa4c8a9fc11b30265e1d8c95fa8b4cdf, content: 'Title: And Then There Were None / И никого не стало. Книга для чтения на английском языке;\n",
            "Writer/Au...', meta: {'title': 'And Then There Were None / И никого не стало. Книга для чтения на английском языке', 'authors': 'Агата Кристи', 'publisher': 'Litres', 'publishedDate': '2018-10-09', 'industryIdentifiers': \"{'type': 'ISBN_13', 'identifier': '9785041375676'}, {'type': 'ISBN_10', 'identifier': '5041375674'}\", 'readingModes': {'text': True, 'image': True}, 'pageCount': 469, 'printType': 'BOOK', 'categories': 'Foreign Language Study', 'maturityRating': 'NOT_MATURE', 'allowAnonLogging': True, 'contentVersion': '1.6.6.0.preview.3', 'panelizationSummary': {'containsEpubBubbles': False, 'containsImageBubbles': False}, 'imageLinks': {'smallThumbnail': 'http://books.google.com/books/content?id=qS9yDwAAQBAJ&printsec=frontcover&img=1&zoom=5&edge=curl&source=gbs_api', 'thumbnail': 'http://books.google.com/books/content?id=qS9yDwAAQBAJ&printsec=frontcover&img=1&zoom=1&edge=curl&source=gbs_api'}, 'language': 'en', 'previewLink': 'http://books.google.it/books?id=qS9yDwAAQBAJ&printsec=frontcover&dq=intitle:None&hl=&cd=1&source=gbs_api', 'infoLink': 'http://books.google.it/books?id=qS9yDwAAQBAJ&dq=intitle:None&hl=&source=gbs_api', 'canonicalVolumeLink': 'https://books.google.com/books/about/And_Then_There_Were_None_%D0%98_%D0%BD%D0%B8%D0%BA%D0%BE%D0%B3%D0%BE.html?hl=&id=qS9yDwAAQBAJ', 'subtitle': 'Not available', 'averageRating': 'Not available', 'ratingsCount': 'Not available', 'seriesInfo': 'Not available'}, score: 0.24422133001420196), context=None, document_offset=ExtractedAnswer.Span(start=106, end=118), context_offset=None, meta={}) \n",
            "\n",
            "ExtractedAnswer(query='Who is the author of the nix?', score=0.40965577960014343, data='Litres', document=Document(id=e7589d9912517481ba7ca4862f0c2cedfa4c8a9fc11b30265e1d8c95fa8b4cdf, content: 'Title: And Then There Were None / И никого не стало. Книга для чтения на английском языке;\n",
            "Writer/Au...', meta: {'title': 'And Then There Were None / И никого не стало. Книга для чтения на английском языке', 'authors': 'Агата Кристи', 'publisher': 'Litres', 'publishedDate': '2018-10-09', 'industryIdentifiers': \"{'type': 'ISBN_13', 'identifier': '9785041375676'}, {'type': 'ISBN_10', 'identifier': '5041375674'}\", 'readingModes': {'text': True, 'image': True}, 'pageCount': 469, 'printType': 'BOOK', 'categories': 'Foreign Language Study', 'maturityRating': 'NOT_MATURE', 'allowAnonLogging': True, 'contentVersion': '1.6.6.0.preview.3', 'panelizationSummary': {'containsEpubBubbles': False, 'containsImageBubbles': False}, 'imageLinks': {'smallThumbnail': 'http://books.google.com/books/content?id=qS9yDwAAQBAJ&printsec=frontcover&img=1&zoom=5&edge=curl&source=gbs_api', 'thumbnail': 'http://books.google.com/books/content?id=qS9yDwAAQBAJ&printsec=frontcover&img=1&zoom=1&edge=curl&source=gbs_api'}, 'language': 'en', 'previewLink': 'http://books.google.it/books?id=qS9yDwAAQBAJ&printsec=frontcover&dq=intitle:None&hl=&cd=1&source=gbs_api', 'infoLink': 'http://books.google.it/books?id=qS9yDwAAQBAJ&dq=intitle:None&hl=&source=gbs_api', 'canonicalVolumeLink': 'https://books.google.com/books/about/And_Then_There_Were_None_%D0%98_%D0%BD%D0%B8%D0%BA%D0%BE%D0%B3%D0%BE.html?hl=&id=qS9yDwAAQBAJ', 'subtitle': 'Not available', 'averageRating': 'Not available', 'ratingsCount': 'Not available', 'seriesInfo': 'Not available'}, score: 0.24422133001420196), context=None, document_offset=ExtractedAnswer.Span(start=558, end=564), context_offset=None, meta={}) \n",
            "\n",
            "ExtractedAnswer(query='Who is the author of the nix?', score=0.36179718375205994, data='2018-10-09', document=Document(id=e7589d9912517481ba7ca4862f0c2cedfa4c8a9fc11b30265e1d8c95fa8b4cdf, content: 'Title: And Then There Were None / И никого не стало. Книга для чтения на английском языке;\n",
            "Writer/Au...', meta: {'title': 'And Then There Were None / И никого не стало. Книга для чтения на английском языке', 'authors': 'Агата Кристи', 'publisher': 'Litres', 'publishedDate': '2018-10-09', 'industryIdentifiers': \"{'type': 'ISBN_13', 'identifier': '9785041375676'}, {'type': 'ISBN_10', 'identifier': '5041375674'}\", 'readingModes': {'text': True, 'image': True}, 'pageCount': 469, 'printType': 'BOOK', 'categories': 'Foreign Language Study', 'maturityRating': 'NOT_MATURE', 'allowAnonLogging': True, 'contentVersion': '1.6.6.0.preview.3', 'panelizationSummary': {'containsEpubBubbles': False, 'containsImageBubbles': False}, 'imageLinks': {'smallThumbnail': 'http://books.google.com/books/content?id=qS9yDwAAQBAJ&printsec=frontcover&img=1&zoom=5&edge=curl&source=gbs_api', 'thumbnail': 'http://books.google.com/books/content?id=qS9yDwAAQBAJ&printsec=frontcover&img=1&zoom=1&edge=curl&source=gbs_api'}, 'language': 'en', 'previewLink': 'http://books.google.it/books?id=qS9yDwAAQBAJ&printsec=frontcover&dq=intitle:None&hl=&cd=1&source=gbs_api', 'infoLink': 'http://books.google.it/books?id=qS9yDwAAQBAJ&dq=intitle:None&hl=&source=gbs_api', 'canonicalVolumeLink': 'https://books.google.com/books/about/And_Then_There_Were_None_%D0%98_%D0%BD%D0%B8%D0%BA%D0%BE%D0%B3%D0%BE.html?hl=&id=qS9yDwAAQBAJ', 'subtitle': 'Not available', 'averageRating': 'Not available', 'ratingsCount': 'Not available', 'seriesInfo': 'Not available'}, score: 0.24422133001420196), context=None, document_offset=ExtractedAnswer.Span(start=578, end=588), context_offset=None, meta={}) \n",
            "\n",
            "ExtractedAnswer(query='Who is the author of the nix?', score=0.18542357410605295, data=None, document=None, context=None, document_offset=None, context_offset=None, meta={}) \n",
            "\n",
            "['martian', None, None, 'kevin', None, 'eragon', None, '5', '1', '1', '2', None, 'five', None, None, 'american', 'titan', '3', 'percy jackson', '2666', '2', 'robert langdon', 'olive kitteridge', None, '1', '1', None, 'tehran', 'america', None, 'wolf hall', '1', 'hush', None, '4', '1', '4', None, '1', None, None, 'america', None, '1q84', 'hugo', '1', 'wolf', None, None, '1', 'eight', 'six', '1', None, '1', 'iron kissed', None, None, None, 'lirael (abhorsen']\n",
            "book title is lirael (abhorsen\n"
          ]
        },
        {
          "data": {
            "application/vnd.jupyter.widget-view+json": {
              "model_id": "3ddac59e108f4013853a571259c0f973",
              "version_major": 2,
              "version_minor": 0
            },
            "text/plain": [
              "Batches:   0%|          | 0/1 [00:00<?, ?it/s]"
            ]
          },
          "metadata": {},
          "output_type": "display_data"
        },
        {
          "data": {
            "application/vnd.jupyter.widget-view+json": {
              "model_id": "cca75c2ed9e84b8db752ca6658661209",
              "version_major": 2,
              "version_minor": 0
            },
            "text/plain": [
              "Batches:   0%|          | 0/1 [00:00<?, ?it/s]"
            ]
          },
          "metadata": {},
          "output_type": "display_data"
        },
        {
          "name": "stdout",
          "output_type": "stream",
          "text": [
            "ExtractedAnswer(query='Who is the author of lirael (abhorsen, #2)?', score=0.763603150844574, data='Garth Nix', document=Document(id=cf34a44f0167d7a68c0c785cb3cea711fe5520ffdfac39eca942b4dddce23131, content: 'Title: Lirael. La saga di Abhorsen;\n",
            "Writer/Author: Garth Nix;\n",
            "Topic: Sorry, I am unable to answer yo...', meta: {'title': 'Lirael. La saga di Abhorsen', 'authors': 'Garth Nix', 'publishedDate': '2007', 'industryIdentifiers': \"{'type': 'ISBN_10', 'identifier': '8850212534'}, {'type': 'ISBN_13', 'identifier': '9788850212538'}\", 'readingModes': {'text': False, 'image': False}, 'pageCount': 508, 'printType': 'BOOK', 'categories': 'Fiction', 'averageRating': 4, 'ratingsCount': 1, 'maturityRating': 'NOT_MATURE', 'allowAnonLogging': False, 'contentVersion': 'preview-1.0.0', 'imageLinks': {'smallThumbnail': 'http://books.google.com/books/content?id=Re4ZPQAACAAJ&printsec=frontcover&img=1&zoom=5&source=gbs_api', 'thumbnail': 'http://books.google.com/books/content?id=Re4ZPQAACAAJ&printsec=frontcover&img=1&zoom=1&source=gbs_api'}, 'language': 'it', 'previewLink': 'http://books.google.it/books?id=Re4ZPQAACAAJ&dq=intitle:lirael+(abhorsen&hl=&cd=1&source=gbs_api', 'infoLink': 'http://books.google.it/books?id=Re4ZPQAACAAJ&dq=intitle:lirael+(abhorsen&hl=&source=gbs_api', 'canonicalVolumeLink': 'https://books.google.com/books/about/Lirael_La_saga_di_Abhorsen.html?hl=&id=Re4ZPQAACAAJ', 'subtitle': 'Not available', 'publisher': 'Not available', 'panelizationSummary': 'Not available', 'seriesInfo': 'Not available'}, score: 0.6222549486177966), context=None, document_offset=ExtractedAnswer.Span(start=51, end=60), context_offset=None, meta={}) \n",
            "\n",
            "ExtractedAnswer(query='Who is the author of lirael (abhorsen, #2)?', score=0.23639684915542603, data=None, document=None, context=None, document_offset=None, context_offset=None, meta={}) \n",
            "\n",
            "['martian', None, None, 'kevin', None, 'eragon', None, '5', '1', '1', '2', None, 'five', None, None, 'american', 'titan', '3', 'percy jackson', '2666', '2', 'robert langdon', 'olive kitteridge', None, '1', '1', None, 'tehran', 'america', None, 'wolf hall', '1', 'hush', None, '4', '1', '4', None, '1', None, None, 'america', None, '1q84', 'hugo', '1', 'wolf', None, None, '1', 'eight', 'six', '1', None, '1', 'iron kissed', None, None, None, 'lirael (abhorsen', None]\n",
            "book title is None\n"
          ]
        },
        {
          "data": {
            "application/vnd.jupyter.widget-view+json": {
              "model_id": "4f128e4d906b4413abe7bd7eced9ffe0",
              "version_major": 2,
              "version_minor": 0
            },
            "text/plain": [
              "Batches:   0%|          | 0/1 [00:00<?, ?it/s]"
            ]
          },
          "metadata": {},
          "output_type": "display_data"
        },
        {
          "data": {
            "application/vnd.jupyter.widget-view+json": {
              "model_id": "416c1706c02d40528c237a1cd4fc0c80",
              "version_major": 2,
              "version_minor": 0
            },
            "text/plain": [
              "Batches:   0%|          | 0/1 [00:00<?, ?it/s]"
            ]
          },
          "metadata": {},
          "output_type": "display_data"
        },
        {
          "name": "stdout",
          "output_type": "stream",
          "text": [
            "ExtractedAnswer(query='Who is the author of peony in love?', score=0.3579373359680176, data='Агата Кристи', document=Document(id=e7589d9912517481ba7ca4862f0c2cedfa4c8a9fc11b30265e1d8c95fa8b4cdf, content: 'Title: And Then There Were None / И никого не стало. Книга для чтения на английском языке;\n",
            "Writer/Au...', meta: {'title': 'And Then There Were None / И никого не стало. Книга для чтения на английском языке', 'authors': 'Агата Кристи', 'publisher': 'Litres', 'publishedDate': '2018-10-09', 'industryIdentifiers': \"{'type': 'ISBN_13', 'identifier': '9785041375676'}, {'type': 'ISBN_10', 'identifier': '5041375674'}\", 'readingModes': {'text': True, 'image': True}, 'pageCount': 469, 'printType': 'BOOK', 'categories': 'Foreign Language Study', 'maturityRating': 'NOT_MATURE', 'allowAnonLogging': True, 'contentVersion': '1.6.6.0.preview.3', 'panelizationSummary': {'containsEpubBubbles': False, 'containsImageBubbles': False}, 'imageLinks': {'smallThumbnail': 'http://books.google.com/books/content?id=qS9yDwAAQBAJ&printsec=frontcover&img=1&zoom=5&edge=curl&source=gbs_api', 'thumbnail': 'http://books.google.com/books/content?id=qS9yDwAAQBAJ&printsec=frontcover&img=1&zoom=1&edge=curl&source=gbs_api'}, 'language': 'en', 'previewLink': 'http://books.google.it/books?id=qS9yDwAAQBAJ&printsec=frontcover&dq=intitle:None&hl=&cd=1&source=gbs_api', 'infoLink': 'http://books.google.it/books?id=qS9yDwAAQBAJ&dq=intitle:None&hl=&source=gbs_api', 'canonicalVolumeLink': 'https://books.google.com/books/about/And_Then_There_Were_None_%D0%98_%D0%BD%D0%B8%D0%BA%D0%BE%D0%B3%D0%BE.html?hl=&id=qS9yDwAAQBAJ', 'subtitle': 'Not available', 'averageRating': 'Not available', 'ratingsCount': 'Not available', 'seriesInfo': 'Not available'}, score: 0.08835647233861371), context=None, document_offset=ExtractedAnswer.Span(start=106, end=118), context_offset=None, meta={}) \n",
            "\n",
            "ExtractedAnswer(query='Who is the author of peony in love?', score=0.35467639565467834, data='Foreign Language Study;\\nNumber of pages: 469;\\nPublished by: Litres', document=Document(id=e7589d9912517481ba7ca4862f0c2cedfa4c8a9fc11b30265e1d8c95fa8b4cdf, content: 'Title: And Then There Were None / И никого не стало. Книга для чтения на английском языке;\n",
            "Writer/Au...', meta: {'title': 'And Then There Were None / И никого не стало. Книга для чтения на английском языке', 'authors': 'Агата Кристи', 'publisher': 'Litres', 'publishedDate': '2018-10-09', 'industryIdentifiers': \"{'type': 'ISBN_13', 'identifier': '9785041375676'}, {'type': 'ISBN_10', 'identifier': '5041375674'}\", 'readingModes': {'text': True, 'image': True}, 'pageCount': 469, 'printType': 'BOOK', 'categories': 'Foreign Language Study', 'maturityRating': 'NOT_MATURE', 'allowAnonLogging': True, 'contentVersion': '1.6.6.0.preview.3', 'panelizationSummary': {'containsEpubBubbles': False, 'containsImageBubbles': False}, 'imageLinks': {'smallThumbnail': 'http://books.google.com/books/content?id=qS9yDwAAQBAJ&printsec=frontcover&img=1&zoom=5&edge=curl&source=gbs_api', 'thumbnail': 'http://books.google.com/books/content?id=qS9yDwAAQBAJ&printsec=frontcover&img=1&zoom=1&edge=curl&source=gbs_api'}, 'language': 'en', 'previewLink': 'http://books.google.it/books?id=qS9yDwAAQBAJ&printsec=frontcover&dq=intitle:None&hl=&cd=1&source=gbs_api', 'infoLink': 'http://books.google.it/books?id=qS9yDwAAQBAJ&dq=intitle:None&hl=&source=gbs_api', 'canonicalVolumeLink': 'https://books.google.com/books/about/And_Then_There_Were_None_%D0%98_%D0%BD%D0%B8%D0%BA%D0%BE%D0%B3%D0%BE.html?hl=&id=qS9yDwAAQBAJ', 'subtitle': 'Not available', 'averageRating': 'Not available', 'ratingsCount': 'Not available', 'seriesInfo': 'Not available'}, score: 0.08835647233861371), context=None, document_offset=ExtractedAnswer.Span(start=498, end=564), context_offset=None, meta={}) \n",
            "\n",
            "ExtractedAnswer(query='Who is the author of peony in love?', score=0.33277273178100586, data='2018-10-09', document=Document(id=e7589d9912517481ba7ca4862f0c2cedfa4c8a9fc11b30265e1d8c95fa8b4cdf, content: 'Title: And Then There Were None / И никого не стало. Книга для чтения на английском языке;\n",
            "Writer/Au...', meta: {'title': 'And Then There Were None / И никого не стало. Книга для чтения на английском языке', 'authors': 'Агата Кристи', 'publisher': 'Litres', 'publishedDate': '2018-10-09', 'industryIdentifiers': \"{'type': 'ISBN_13', 'identifier': '9785041375676'}, {'type': 'ISBN_10', 'identifier': '5041375674'}\", 'readingModes': {'text': True, 'image': True}, 'pageCount': 469, 'printType': 'BOOK', 'categories': 'Foreign Language Study', 'maturityRating': 'NOT_MATURE', 'allowAnonLogging': True, 'contentVersion': '1.6.6.0.preview.3', 'panelizationSummary': {'containsEpubBubbles': False, 'containsImageBubbles': False}, 'imageLinks': {'smallThumbnail': 'http://books.google.com/books/content?id=qS9yDwAAQBAJ&printsec=frontcover&img=1&zoom=5&edge=curl&source=gbs_api', 'thumbnail': 'http://books.google.com/books/content?id=qS9yDwAAQBAJ&printsec=frontcover&img=1&zoom=1&edge=curl&source=gbs_api'}, 'language': 'en', 'previewLink': 'http://books.google.it/books?id=qS9yDwAAQBAJ&printsec=frontcover&dq=intitle:None&hl=&cd=1&source=gbs_api', 'infoLink': 'http://books.google.it/books?id=qS9yDwAAQBAJ&dq=intitle:None&hl=&source=gbs_api', 'canonicalVolumeLink': 'https://books.google.com/books/about/And_Then_There_Were_None_%D0%98_%D0%BD%D0%B8%D0%BA%D0%BE%D0%B3%D0%BE.html?hl=&id=qS9yDwAAQBAJ', 'subtitle': 'Not available', 'averageRating': 'Not available', 'ratingsCount': 'Not available', 'seriesInfo': 'Not available'}, score: 0.08835647233861371), context=None, document_offset=ExtractedAnswer.Span(start=578, end=588), context_offset=None, meta={}) \n",
            "\n",
            "ExtractedAnswer(query='Who is the author of peony in love?', score=0.2764577403463947, data=None, document=None, context=None, document_offset=None, context_offset=None, meta={}) \n",
            "\n",
            "['martian', None, None, 'kevin', None, 'eragon', None, '5', '1', '1', '2', None, 'five', None, None, 'american', 'titan', '3', 'percy jackson', '2666', '2', 'robert langdon', 'olive kitteridge', None, '1', '1', None, 'tehran', 'america', None, 'wolf hall', '1', 'hush', None, '4', '1', '4', None, '1', None, None, 'america', None, '1q84', 'hugo', '1', 'wolf', None, None, '1', 'eight', 'six', '1', None, '1', 'iron kissed', None, None, None, 'lirael (abhorsen', None, None]\n",
            "book title is None\n"
          ]
        },
        {
          "data": {
            "application/vnd.jupyter.widget-view+json": {
              "model_id": "18bbbff5eefb4cb183229c410c0c2fb7",
              "version_major": 2,
              "version_minor": 0
            },
            "text/plain": [
              "Batches:   0%|          | 0/1 [00:00<?, ?it/s]"
            ]
          },
          "metadata": {},
          "output_type": "display_data"
        },
        {
          "data": {
            "application/vnd.jupyter.widget-view+json": {
              "model_id": "07b5bea1b7684168aca50e971af7a75b",
              "version_major": 2,
              "version_minor": 0
            },
            "text/plain": [
              "Batches:   0%|          | 0/1 [00:00<?, ?it/s]"
            ]
          },
          "metadata": {},
          "output_type": "display_data"
        },
        {
          "name": "stdout",
          "output_type": "stream",
          "text": [
            "ExtractedAnswer(query='Who is the author of the purpose driven life: what on earth am i here for??', score=0.5068354606628418, data='Writer/Author: Агата Кристи', document=Document(id=e7589d9912517481ba7ca4862f0c2cedfa4c8a9fc11b30265e1d8c95fa8b4cdf, content: 'Title: And Then There Were None / И никого не стало. Книга для чтения на английском языке;\n",
            "Writer/Au...', meta: {'title': 'And Then There Were None / И никого не стало. Книга для чтения на английском языке', 'authors': 'Агата Кристи', 'publisher': 'Litres', 'publishedDate': '2018-10-09', 'industryIdentifiers': \"{'type': 'ISBN_13', 'identifier': '9785041375676'}, {'type': 'ISBN_10', 'identifier': '5041375674'}\", 'readingModes': {'text': True, 'image': True}, 'pageCount': 469, 'printType': 'BOOK', 'categories': 'Foreign Language Study', 'maturityRating': 'NOT_MATURE', 'allowAnonLogging': True, 'contentVersion': '1.6.6.0.preview.3', 'panelizationSummary': {'containsEpubBubbles': False, 'containsImageBubbles': False}, 'imageLinks': {'smallThumbnail': 'http://books.google.com/books/content?id=qS9yDwAAQBAJ&printsec=frontcover&img=1&zoom=5&edge=curl&source=gbs_api', 'thumbnail': 'http://books.google.com/books/content?id=qS9yDwAAQBAJ&printsec=frontcover&img=1&zoom=1&edge=curl&source=gbs_api'}, 'language': 'en', 'previewLink': 'http://books.google.it/books?id=qS9yDwAAQBAJ&printsec=frontcover&dq=intitle:None&hl=&cd=1&source=gbs_api', 'infoLink': 'http://books.google.it/books?id=qS9yDwAAQBAJ&dq=intitle:None&hl=&source=gbs_api', 'canonicalVolumeLink': 'https://books.google.com/books/about/And_Then_There_Were_None_%D0%98_%D0%BD%D0%B8%D0%BA%D0%BE%D0%B3%D0%BE.html?hl=&id=qS9yDwAAQBAJ', 'subtitle': 'Not available', 'averageRating': 'Not available', 'ratingsCount': 'Not available', 'seriesInfo': 'Not available'}, score: 0.029441356863112656), context=None, document_offset=ExtractedAnswer.Span(start=91, end=118), context_offset=None, meta={}) \n",
            "\n",
            "ExtractedAnswer(query='Who is the author of the purpose driven life: what on earth am i here for??', score=0.3773542046546936, data='Foreign Language Study', document=Document(id=e7589d9912517481ba7ca4862f0c2cedfa4c8a9fc11b30265e1d8c95fa8b4cdf, content: 'Title: And Then There Were None / И никого не стало. Книга для чтения на английском языке;\n",
            "Writer/Au...', meta: {'title': 'And Then There Were None / И никого не стало. Книга для чтения на английском языке', 'authors': 'Агата Кристи', 'publisher': 'Litres', 'publishedDate': '2018-10-09', 'industryIdentifiers': \"{'type': 'ISBN_13', 'identifier': '9785041375676'}, {'type': 'ISBN_10', 'identifier': '5041375674'}\", 'readingModes': {'text': True, 'image': True}, 'pageCount': 469, 'printType': 'BOOK', 'categories': 'Foreign Language Study', 'maturityRating': 'NOT_MATURE', 'allowAnonLogging': True, 'contentVersion': '1.6.6.0.preview.3', 'panelizationSummary': {'containsEpubBubbles': False, 'containsImageBubbles': False}, 'imageLinks': {'smallThumbnail': 'http://books.google.com/books/content?id=qS9yDwAAQBAJ&printsec=frontcover&img=1&zoom=5&edge=curl&source=gbs_api', 'thumbnail': 'http://books.google.com/books/content?id=qS9yDwAAQBAJ&printsec=frontcover&img=1&zoom=1&edge=curl&source=gbs_api'}, 'language': 'en', 'previewLink': 'http://books.google.it/books?id=qS9yDwAAQBAJ&printsec=frontcover&dq=intitle:None&hl=&cd=1&source=gbs_api', 'infoLink': 'http://books.google.it/books?id=qS9yDwAAQBAJ&dq=intitle:None&hl=&source=gbs_api', 'canonicalVolumeLink': 'https://books.google.com/books/about/And_Then_There_Were_None_%D0%98_%D0%BD%D0%B8%D0%BA%D0%BE%D0%B3%D0%BE.html?hl=&id=qS9yDwAAQBAJ', 'subtitle': 'Not available', 'averageRating': 'Not available', 'ratingsCount': 'Not available', 'seriesInfo': 'Not available'}, score: 0.029441356863112656), context=None, document_offset=ExtractedAnswer.Span(start=498, end=520), context_offset=None, meta={}) \n",
            "\n",
            "ExtractedAnswer(query='Who is the author of the purpose driven life: what on earth am i here for??', score=0.3425893783569336, data='2018-10-09', document=Document(id=e7589d9912517481ba7ca4862f0c2cedfa4c8a9fc11b30265e1d8c95fa8b4cdf, content: 'Title: And Then There Were None / И никого не стало. Книга для чтения на английском языке;\n",
            "Writer/Au...', meta: {'title': 'And Then There Were None / И никого не стало. Книга для чтения на английском языке', 'authors': 'Агата Кристи', 'publisher': 'Litres', 'publishedDate': '2018-10-09', 'industryIdentifiers': \"{'type': 'ISBN_13', 'identifier': '9785041375676'}, {'type': 'ISBN_10', 'identifier': '5041375674'}\", 'readingModes': {'text': True, 'image': True}, 'pageCount': 469, 'printType': 'BOOK', 'categories': 'Foreign Language Study', 'maturityRating': 'NOT_MATURE', 'allowAnonLogging': True, 'contentVersion': '1.6.6.0.preview.3', 'panelizationSummary': {'containsEpubBubbles': False, 'containsImageBubbles': False}, 'imageLinks': {'smallThumbnail': 'http://books.google.com/books/content?id=qS9yDwAAQBAJ&printsec=frontcover&img=1&zoom=5&edge=curl&source=gbs_api', 'thumbnail': 'http://books.google.com/books/content?id=qS9yDwAAQBAJ&printsec=frontcover&img=1&zoom=1&edge=curl&source=gbs_api'}, 'language': 'en', 'previewLink': 'http://books.google.it/books?id=qS9yDwAAQBAJ&printsec=frontcover&dq=intitle:None&hl=&cd=1&source=gbs_api', 'infoLink': 'http://books.google.it/books?id=qS9yDwAAQBAJ&dq=intitle:None&hl=&source=gbs_api', 'canonicalVolumeLink': 'https://books.google.com/books/about/And_Then_There_Were_None_%D0%98_%D0%BD%D0%B8%D0%BA%D0%BE%D0%B3%D0%BE.html?hl=&id=qS9yDwAAQBAJ', 'subtitle': 'Not available', 'averageRating': 'Not available', 'ratingsCount': 'Not available', 'seriesInfo': 'Not available'}, score: 0.029441356863112656), context=None, document_offset=ExtractedAnswer.Span(start=578, end=588), context_offset=None, meta={}) \n",
            "\n",
            "ExtractedAnswer(query='Who is the author of the purpose driven life: what on earth am i here for??', score=0.20186899351338286, data=None, document=None, context=None, document_offset=None, context_offset=None, meta={}) \n",
            "\n",
            "['martian', None, None, 'kevin', None, 'eragon', None, '5', '1', '1', '2', None, 'five', None, None, 'american', 'titan', '3', 'percy jackson', '2666', '2', 'robert langdon', 'olive kitteridge', None, '1', '1', None, 'tehran', 'america', None, 'wolf hall', '1', 'hush', None, '4', '1', '4', None, '1', None, None, 'america', None, '1q84', 'hugo', '1', 'wolf', None, None, '1', 'eight', 'six', '1', None, '1', 'iron kissed', None, None, None, 'lirael (abhorsen', None, None, 'half']\n",
            "book title is half\n"
          ]
        },
        {
          "data": {
            "application/vnd.jupyter.widget-view+json": {
              "model_id": "ce0e6404fe3341a9ad857267a39a3dcd",
              "version_major": 2,
              "version_minor": 0
            },
            "text/plain": [
              "Batches:   0%|          | 0/1 [00:00<?, ?it/s]"
            ]
          },
          "metadata": {},
          "output_type": "display_data"
        },
        {
          "data": {
            "application/vnd.jupyter.widget-view+json": {
              "model_id": "ea50a75e284f472f813fd033457f9828",
              "version_major": 2,
              "version_minor": 0
            },
            "text/plain": [
              "Batches:   0%|          | 0/1 [00:00<?, ?it/s]"
            ]
          },
          "metadata": {},
          "output_type": "display_data"
        },
        {
          "name": "stdout",
          "output_type": "stream",
          "text": [
            "ExtractedAnswer(query='Who is the author of half the sky: turning oppression into opportunity for women worldwide?', score=0.6349222660064697, data='Sally Green', document=Document(id=8dc881928d15a8b529614c062ea3601a91743c8fcd2065cec82d58b559cf5a7d, content: 'Title: Half Lost;\n",
            "Writer/Author: Sally Green;\n",
            "Topic: Nathan è ancora una volta in lotta contro il te...', meta: {'title': 'Half Lost', 'authors': 'Sally Green', 'publisher': 'Rizzoli', 'publishedDate': '2016-10-13', 'industryIdentifiers': \"{'type': 'ISBN_13', 'identifier': '9788858686263'}, {'type': 'ISBN_10', 'identifier': '8858686268'}\", 'readingModes': {'text': True, 'image': True}, 'pageCount': 352, 'printType': 'BOOK', 'categories': 'Fiction', 'maturityRating': 'NOT_MATURE', 'allowAnonLogging': True, 'contentVersion': '1.6.6.0.preview.3', 'panelizationSummary': {'containsEpubBubbles': False, 'containsImageBubbles': False}, 'imageLinks': {'smallThumbnail': 'http://books.google.com/books/content?id=ROo0DQAAQBAJ&printsec=frontcover&img=1&zoom=5&edge=curl&source=gbs_api', 'thumbnail': 'http://books.google.com/books/content?id=ROo0DQAAQBAJ&printsec=frontcover&img=1&zoom=1&edge=curl&source=gbs_api'}, 'language': 'it', 'previewLink': 'http://books.google.it/books?id=ROo0DQAAQBAJ&printsec=frontcover&dq=intitle:half&hl=&cd=1&source=gbs_api', 'infoLink': 'https://play.google.com/store/books/details?id=ROo0DQAAQBAJ&source=gbs_api', 'canonicalVolumeLink': 'https://play.google.com/store/books/details?id=ROo0DQAAQBAJ', 'subtitle': 'Not available', 'averageRating': 'Not available', 'ratingsCount': 'Not available', 'seriesInfo': 'Not available'}, score: 0.11857752522538806), context=None, document_offset=ExtractedAnswer.Span(start=33, end=44), context_offset=None, meta={}) \n",
            "\n",
            "ExtractedAnswer(query='Who is the author of half the sky: turning oppression into opportunity for women worldwide?', score=0.3650777339935303, data=None, document=None, context=None, document_offset=None, context_offset=None, meta={}) \n",
            "\n",
            "['martian', None, None, 'kevin', None, 'eragon', None, '5', '1', '1', '2', None, 'five', None, None, 'american', 'titan', '3', 'percy jackson', '2666', '2', 'robert langdon', 'olive kitteridge', None, '1', '1', None, 'tehran', 'america', None, 'wolf hall', '1', 'hush', None, '4', '1', '4', None, '1', None, None, 'america', None, '1q84', 'hugo', '1', 'wolf', None, None, '1', 'eight', 'six', '1', None, '1', 'iron kissed', None, None, None, 'lirael (abhorsen', None, None, 'half', '1']\n",
            "book title is 1\n"
          ]
        },
        {
          "data": {
            "application/vnd.jupyter.widget-view+json": {
              "model_id": "1e157964cf0446ad96cfad40c9e62a9c",
              "version_major": 2,
              "version_minor": 0
            },
            "text/plain": [
              "Batches:   0%|          | 0/1 [00:00<?, ?it/s]"
            ]
          },
          "metadata": {},
          "output_type": "display_data"
        },
        {
          "data": {
            "application/vnd.jupyter.widget-view+json": {
              "model_id": "d6e9442cd5904ded99d7f709fac4d552",
              "version_major": 2,
              "version_minor": 0
            },
            "text/plain": [
              "Batches:   0%|          | 0/1 [00:00<?, ?it/s]"
            ]
          },
          "metadata": {},
          "output_type": "display_data"
        },
        {
          "name": "stdout",
          "output_type": "stream",
          "text": [
            "ExtractedAnswer(query='Who is the author of the devil wears prada (the devil wears prada, #1)?', score=0.5957753658294678, data='Giacomo Leopardi', document=Document(id=48eb59a7ddf02190e2da31a36a83e22189b0595bc280eb603ae9f4ea74c47f36, content: 'Title: Opere Di Giacomo Leopardi, Vol. 1 (Classic Reprint);\n",
            "Writer/Author: Giacomo Leopardi;\n",
            "Topic: ...', meta: {'title': 'Opere Di Giacomo Leopardi, Vol. 1 (Classic Reprint)', 'authors': 'Giacomo Leopardi', 'publisher': 'Forgotten Books', 'publishedDate': '2017-10-16', 'industryIdentifiers': \"{'type': 'ISBN_10', 'identifier': '0265393299'}, {'type': 'ISBN_13', 'identifier': '9780265393291'}\", 'readingModes': {'text': False, 'image': False}, 'pageCount': 366, 'printType': 'BOOK', 'categories': 'Poetry', 'maturityRating': 'NOT_MATURE', 'allowAnonLogging': False, 'contentVersion': 'preview-1.0.0', 'panelizationSummary': {'containsEpubBubbles': False, 'containsImageBubbles': False}, 'imageLinks': {'smallThumbnail': 'http://books.google.com/books/content?id=vcA9swEACAAJ&printsec=frontcover&img=1&zoom=5&source=gbs_api', 'thumbnail': 'http://books.google.com/books/content?id=vcA9swEACAAJ&printsec=frontcover&img=1&zoom=1&source=gbs_api'}, 'language': 'it', 'previewLink': 'http://books.google.it/books?id=vcA9swEACAAJ&dq=intitle:1&hl=&cd=1&source=gbs_api', 'infoLink': 'http://books.google.it/books?id=vcA9swEACAAJ&dq=intitle:1&hl=&source=gbs_api', 'canonicalVolumeLink': 'https://books.google.com/books/about/Opere_Di_Giacomo_Leopardi_Vol_1_Classic.html?hl=&id=vcA9swEACAAJ', 'subtitle': 'Not available', 'averageRating': 'Not available', 'ratingsCount': 'Not available', 'seriesInfo': 'Not available'}, score: 0.16818672577833024), context=None, document_offset=ExtractedAnswer.Span(start=75, end=91), context_offset=None, meta={}) \n",
            "\n",
            "ExtractedAnswer(query='Who is the author of the devil wears prada (the devil wears prada, #1)?', score=0.5047838091850281, data='Opere Di Giacomo Leopardi', document=Document(id=48eb59a7ddf02190e2da31a36a83e22189b0595bc280eb603ae9f4ea74c47f36, content: 'Title: Opere Di Giacomo Leopardi, Vol. 1 (Classic Reprint);\n",
            "Writer/Author: Giacomo Leopardi;\n",
            "Topic: ...', meta: {'title': 'Opere Di Giacomo Leopardi, Vol. 1 (Classic Reprint)', 'authors': 'Giacomo Leopardi', 'publisher': 'Forgotten Books', 'publishedDate': '2017-10-16', 'industryIdentifiers': \"{'type': 'ISBN_10', 'identifier': '0265393299'}, {'type': 'ISBN_13', 'identifier': '9780265393291'}\", 'readingModes': {'text': False, 'image': False}, 'pageCount': 366, 'printType': 'BOOK', 'categories': 'Poetry', 'maturityRating': 'NOT_MATURE', 'allowAnonLogging': False, 'contentVersion': 'preview-1.0.0', 'panelizationSummary': {'containsEpubBubbles': False, 'containsImageBubbles': False}, 'imageLinks': {'smallThumbnail': 'http://books.google.com/books/content?id=vcA9swEACAAJ&printsec=frontcover&img=1&zoom=5&source=gbs_api', 'thumbnail': 'http://books.google.com/books/content?id=vcA9swEACAAJ&printsec=frontcover&img=1&zoom=1&source=gbs_api'}, 'language': 'it', 'previewLink': 'http://books.google.it/books?id=vcA9swEACAAJ&dq=intitle:1&hl=&cd=1&source=gbs_api', 'infoLink': 'http://books.google.it/books?id=vcA9swEACAAJ&dq=intitle:1&hl=&source=gbs_api', 'canonicalVolumeLink': 'https://books.google.com/books/about/Opere_Di_Giacomo_Leopardi_Vol_1_Classic.html?hl=&id=vcA9swEACAAJ', 'subtitle': 'Not available', 'averageRating': 'Not available', 'ratingsCount': 'Not available', 'seriesInfo': 'Not available'}, score: 0.16818672577833024), context=None, document_offset=ExtractedAnswer.Span(start=7, end=32), context_offset=None, meta={}) \n",
            "\n",
            "ExtractedAnswer(query='Who is the author of the devil wears prada (the devil wears prada, #1)?', score=0.35602590441703796, data='fir', document=Document(id=48eb59a7ddf02190e2da31a36a83e22189b0595bc280eb603ae9f4ea74c47f36, content: 'Title: Opere Di Giacomo Leopardi, Vol. 1 (Classic Reprint);\n",
            "Writer/Author: Giacomo Leopardi;\n",
            "Topic: ...', meta: {'title': 'Opere Di Giacomo Leopardi, Vol. 1 (Classic Reprint)', 'authors': 'Giacomo Leopardi', 'publisher': 'Forgotten Books', 'publishedDate': '2017-10-16', 'industryIdentifiers': \"{'type': 'ISBN_10', 'identifier': '0265393299'}, {'type': 'ISBN_13', 'identifier': '9780265393291'}\", 'readingModes': {'text': False, 'image': False}, 'pageCount': 366, 'printType': 'BOOK', 'categories': 'Poetry', 'maturityRating': 'NOT_MATURE', 'allowAnonLogging': False, 'contentVersion': 'preview-1.0.0', 'panelizationSummary': {'containsEpubBubbles': False, 'containsImageBubbles': False}, 'imageLinks': {'smallThumbnail': 'http://books.google.com/books/content?id=vcA9swEACAAJ&printsec=frontcover&img=1&zoom=5&source=gbs_api', 'thumbnail': 'http://books.google.com/books/content?id=vcA9swEACAAJ&printsec=frontcover&img=1&zoom=1&source=gbs_api'}, 'language': 'it', 'previewLink': 'http://books.google.it/books?id=vcA9swEACAAJ&dq=intitle:1&hl=&cd=1&source=gbs_api', 'infoLink': 'http://books.google.it/books?id=vcA9swEACAAJ&dq=intitle:1&hl=&source=gbs_api', 'canonicalVolumeLink': 'https://books.google.com/books/about/Opere_Di_Giacomo_Leopardi_Vol_1_Classic.html?hl=&id=vcA9swEACAAJ', 'subtitle': 'Not available', 'averageRating': 'Not available', 'ratingsCount': 'Not available', 'seriesInfo': 'Not available'}, score: 0.16818672577833024), context=None, document_offset=ExtractedAnswer.Span(start=673, end=676), context_offset=None, meta={}) \n",
            "\n",
            "ExtractedAnswer(query='Who is the author of the devil wears prada (the devil wears prada, #1)?', score=0.12890982230796338, data=None, document=None, context=None, document_offset=None, context_offset=None, meta={}) \n",
            "\n",
            "['martian', None, None, 'kevin', None, 'eragon', None, '5', '1', '1', '2', None, 'five', None, None, 'american', 'titan', '3', 'percy jackson', '2666', '2', 'robert langdon', 'olive kitteridge', None, '1', '1', None, 'tehran', 'america', None, 'wolf hall', '1', 'hush', None, '4', '1', '4', None, '1', None, None, 'america', None, '1q84', 'hugo', '1', 'wolf', None, None, '1', 'eight', 'six', '1', None, '1', 'iron kissed', None, None, None, 'lirael (abhorsen', None, None, 'half', '1', '5']\n",
            "book title is 5\n"
          ]
        },
        {
          "data": {
            "application/vnd.jupyter.widget-view+json": {
              "model_id": "05f83ce8a3304188915e52ec75c25a8c",
              "version_major": 2,
              "version_minor": 0
            },
            "text/plain": [
              "Batches:   0%|          | 0/1 [00:00<?, ?it/s]"
            ]
          },
          "metadata": {},
          "output_type": "display_data"
        },
        {
          "data": {
            "application/vnd.jupyter.widget-view+json": {
              "model_id": "9b1ab90938b34e47ba631b2cf3dc20ef",
              "version_major": 2,
              "version_minor": 0
            },
            "text/plain": [
              "Batches:   0%|          | 0/1 [00:00<?, ?it/s]"
            ]
          },
          "metadata": {},
          "output_type": "display_data"
        },
        {
          "name": "stdout",
          "output_type": "stream",
          "text": [
            "ExtractedAnswer(query='Who is the author of wolves of the calla (the dark tower, #5)?', score=0.7009820938110352, data='Kurt Vonnegut', document=Document(id=98c92c1bcc606939cebfb213e46b9f100fbddb6ec7ffddaefdce568feeb4e6e8, content: 'Title: Mattatoio n. 5;\n",
            "Writer/Author: Kurt Vonnegut;\n",
            "Topic: Sorry, I am unable to answer your query ...', meta: {'title': 'Mattatoio n. 5', 'authors': 'Kurt Vonnegut', 'publisher': 'Feltrinelli Editore', 'publishedDate': '2003', 'industryIdentifiers': \"{'type': 'ISBN_10', 'identifier': '8807016370'}, {'type': 'ISBN_13', 'identifier': '9788807016370'}\", 'readingModes': {'text': False, 'image': True}, 'pageCount': 208, 'printType': 'BOOK', 'categories': 'Fiction', 'averageRating': 5, 'ratingsCount': 4, 'maturityRating': 'NOT_MATURE', 'allowAnonLogging': False, 'contentVersion': '1.4.5.0.preview.1', 'panelizationSummary': {'containsEpubBubbles': False, 'containsImageBubbles': False}, 'imageLinks': {'smallThumbnail': 'http://books.google.com/books/content?id=gRwULyui60QC&printsec=frontcover&img=1&zoom=5&edge=curl&source=gbs_api', 'thumbnail': 'http://books.google.com/books/content?id=gRwULyui60QC&printsec=frontcover&img=1&zoom=1&edge=curl&source=gbs_api'}, 'language': 'it', 'previewLink': 'http://books.google.it/books?id=gRwULyui60QC&printsec=frontcover&dq=intitle:5&hl=&cd=1&source=gbs_api', 'infoLink': 'http://books.google.it/books?id=gRwULyui60QC&dq=intitle:5&hl=&source=gbs_api', 'canonicalVolumeLink': 'https://books.google.com/books/about/Mattatoio_n_5.html?hl=&id=gRwULyui60QC', 'subtitle': 'Not available', 'seriesInfo': 'Not available'}, score: 0.33066519228490454), context=None, document_offset=ExtractedAnswer.Span(start=38, end=51), context_offset=None, meta={}) \n",
            "\n",
            "ExtractedAnswer(query='Who is the author of wolves of the calla (the dark tower, #5)?', score=0.29901790618896484, data=None, document=None, context=None, document_offset=None, context_offset=None, meta={}) \n",
            "\n",
            "['martian', None, None, 'kevin', None, 'eragon', None, '5', '1', '1', '2', None, 'five', None, None, 'american', 'titan', '3', 'percy jackson', '2666', '2', 'robert langdon', 'olive kitteridge', None, '1', '1', None, 'tehran', 'america', None, 'wolf hall', '1', 'hush', None, '4', '1', '4', None, '1', None, None, 'america', None, '1q84', 'hugo', '1', 'wolf', None, None, '1', 'eight', 'six', '1', None, '1', 'iron kissed', None, None, None, 'lirael (abhorsen', None, None, 'half', '1', '5', 'american']\n",
            "book title is american\n"
          ]
        },
        {
          "data": {
            "application/vnd.jupyter.widget-view+json": {
              "model_id": "d5e0855e7ccd4e0ea3a92210b1489e0a",
              "version_major": 2,
              "version_minor": 0
            },
            "text/plain": [
              "Batches:   0%|          | 0/1 [00:00<?, ?it/s]"
            ]
          },
          "metadata": {},
          "output_type": "display_data"
        },
        {
          "data": {
            "application/vnd.jupyter.widget-view+json": {
              "model_id": "8f8e2a63fd4445209393d3dbd7ca6e1f",
              "version_major": 2,
              "version_minor": 0
            },
            "text/plain": [
              "Batches:   0%|          | 0/1 [00:00<?, ?it/s]"
            ]
          },
          "metadata": {},
          "output_type": "display_data"
        },
        {
          "name": "stdout",
          "output_type": "stream",
          "text": [
            "ExtractedAnswer(query='Who is the author of american born chinese?', score=0.5825718641281128, data='Alfred Dupont Chandler', document=Document(id=2535afc2f4eb1053c632815aef6e6f04572b236a945fb38695659c7b3e895e50, content: 'Title: The Visible Hand;\n",
            "Writer/Author: Alfred Dupont Chandler;\n",
            "Topic: The role of large-scale busin...', meta: {'title': 'The Visible Hand', 'authors': 'Alfred Dupont Chandler', 'publisher': 'Harvard University Press', 'publishedDate': '1977', 'industryIdentifiers': \"{'type': 'ISBN_10', 'identifier': '0674940520'}, {'type': 'ISBN_13', 'identifier': '9780674940529'}\", 'readingModes': {'text': False, 'image': True}, 'pageCount': 628, 'printType': 'BOOK', 'categories': 'Business & Economics', 'maturityRating': 'NOT_MATURE', 'allowAnonLogging': False, 'contentVersion': '0.6.3.0.preview.1', 'panelizationSummary': {'containsEpubBubbles': False, 'containsImageBubbles': False}, 'imageLinks': {'smallThumbnail': 'http://books.google.com/books/content?id=hUkqx76sF6oC&printsec=frontcover&img=1&zoom=5&edge=curl&source=gbs_api', 'thumbnail': 'http://books.google.com/books/content?id=hUkqx76sF6oC&printsec=frontcover&img=1&zoom=1&edge=curl&source=gbs_api'}, 'language': 'en', 'previewLink': 'http://books.google.it/books?id=hUkqx76sF6oC&printsec=frontcover&dq=intitle:american&hl=&cd=1&source=gbs_api', 'infoLink': 'http://books.google.it/books?id=hUkqx76sF6oC&dq=intitle:american&hl=&source=gbs_api', 'canonicalVolumeLink': 'https://books.google.com/books/about/The_Visible_Hand.html?hl=&id=hUkqx76sF6oC', 'subtitle': 'Not available', 'averageRating': 'Not available', 'ratingsCount': 'Not available', 'seriesInfo': 'Not available'}, score: 0.18135305386161066), context=None, document_offset=ExtractedAnswer.Span(start=40, end=62), context_offset=None, meta={}) \n",
            "\n",
            "ExtractedAnswer(query='Who is the author of american born chinese?', score=0.5164501070976257, data='Alfred Chandler, Jr.,', document=Document(id=2535afc2f4eb1053c632815aef6e6f04572b236a945fb38695659c7b3e895e50, content: 'Title: The Visible Hand;\n",
            "Writer/Author: Alfred Dupont Chandler;\n",
            "Topic: The role of large-scale busin...', meta: {'title': 'The Visible Hand', 'authors': 'Alfred Dupont Chandler', 'publisher': 'Harvard University Press', 'publishedDate': '1977', 'industryIdentifiers': \"{'type': 'ISBN_10', 'identifier': '0674940520'}, {'type': 'ISBN_13', 'identifier': '9780674940529'}\", 'readingModes': {'text': False, 'image': True}, 'pageCount': 628, 'printType': 'BOOK', 'categories': 'Business & Economics', 'maturityRating': 'NOT_MATURE', 'allowAnonLogging': False, 'contentVersion': '0.6.3.0.preview.1', 'panelizationSummary': {'containsEpubBubbles': False, 'containsImageBubbles': False}, 'imageLinks': {'smallThumbnail': 'http://books.google.com/books/content?id=hUkqx76sF6oC&printsec=frontcover&img=1&zoom=5&edge=curl&source=gbs_api', 'thumbnail': 'http://books.google.com/books/content?id=hUkqx76sF6oC&printsec=frontcover&img=1&zoom=1&edge=curl&source=gbs_api'}, 'language': 'en', 'previewLink': 'http://books.google.it/books?id=hUkqx76sF6oC&printsec=frontcover&dq=intitle:american&hl=&cd=1&source=gbs_api', 'infoLink': 'http://books.google.it/books?id=hUkqx76sF6oC&dq=intitle:american&hl=&source=gbs_api', 'canonicalVolumeLink': 'https://books.google.com/books/about/The_Visible_Hand.html?hl=&id=hUkqx76sF6oC', 'subtitle': 'Not available', 'averageRating': 'Not available', 'ratingsCount': 'Not available', 'seriesInfo': 'Not available'}, score: 0.18135305386161066), context=None, document_offset=ExtractedAnswer.Span(start=247, end=268), context_offset=None, meta={}) \n",
            "\n",
            "ExtractedAnswer(query='Who is the author of american born chinese?', score=0.2018473303952888, data=None, document=None, context=None, document_offset=None, context_offset=None, meta={}) \n",
            "\n",
            "['martian', None, None, 'kevin', None, 'eragon', None, '5', '1', '1', '2', None, 'five', None, None, 'american', 'titan', '3', 'percy jackson', '2666', '2', 'robert langdon', 'olive kitteridge', None, '1', '1', None, 'tehran', 'america', None, 'wolf hall', '1', 'hush', None, '4', '1', '4', None, '1', None, None, 'america', None, '1q84', 'hugo', '1', 'wolf', None, None, '1', 'eight', 'six', '1', None, '1', 'iron kissed', None, None, None, 'lirael (abhorsen', None, None, 'half', '1', '5', 'american', None]\n",
            "book title is None\n"
          ]
        },
        {
          "data": {
            "application/vnd.jupyter.widget-view+json": {
              "model_id": "9708caf45fd243b68607f95e1d11fbd5",
              "version_major": 2,
              "version_minor": 0
            },
            "text/plain": [
              "Batches:   0%|          | 0/1 [00:00<?, ?it/s]"
            ]
          },
          "metadata": {},
          "output_type": "display_data"
        },
        {
          "data": {
            "application/vnd.jupyter.widget-view+json": {
              "model_id": "7fef5ffb0db04fd79eda7e69159ffec7",
              "version_major": 2,
              "version_minor": 0
            },
            "text/plain": [
              "Batches:   0%|          | 0/1 [00:00<?, ?it/s]"
            ]
          },
          "metadata": {},
          "output_type": "display_data"
        },
        {
          "name": "stdout",
          "output_type": "stream",
          "text": [
            "ExtractedAnswer(query='Who is the author of the lace reader?', score=0.4686100482940674, data='Агата Кристи', document=Document(id=e7589d9912517481ba7ca4862f0c2cedfa4c8a9fc11b30265e1d8c95fa8b4cdf, content: 'Title: And Then There Were None / И никого не стало. Книга для чтения на английском языке;\n",
            "Writer/Au...', meta: {'title': 'And Then There Were None / И никого не стало. Книга для чтения на английском языке', 'authors': 'Агата Кристи', 'publisher': 'Litres', 'publishedDate': '2018-10-09', 'industryIdentifiers': \"{'type': 'ISBN_13', 'identifier': '9785041375676'}, {'type': 'ISBN_10', 'identifier': '5041375674'}\", 'readingModes': {'text': True, 'image': True}, 'pageCount': 469, 'printType': 'BOOK', 'categories': 'Foreign Language Study', 'maturityRating': 'NOT_MATURE', 'allowAnonLogging': True, 'contentVersion': '1.6.6.0.preview.3', 'panelizationSummary': {'containsEpubBubbles': False, 'containsImageBubbles': False}, 'imageLinks': {'smallThumbnail': 'http://books.google.com/books/content?id=qS9yDwAAQBAJ&printsec=frontcover&img=1&zoom=5&edge=curl&source=gbs_api', 'thumbnail': 'http://books.google.com/books/content?id=qS9yDwAAQBAJ&printsec=frontcover&img=1&zoom=1&edge=curl&source=gbs_api'}, 'language': 'en', 'previewLink': 'http://books.google.it/books?id=qS9yDwAAQBAJ&printsec=frontcover&dq=intitle:None&hl=&cd=1&source=gbs_api', 'infoLink': 'http://books.google.it/books?id=qS9yDwAAQBAJ&dq=intitle:None&hl=&source=gbs_api', 'canonicalVolumeLink': 'https://books.google.com/books/about/And_Then_There_Were_None_%D0%98_%D0%BD%D0%B8%D0%BA%D0%BE%D0%B3%D0%BE.html?hl=&id=qS9yDwAAQBAJ', 'subtitle': 'Not available', 'averageRating': 'Not available', 'ratingsCount': 'Not available', 'seriesInfo': 'Not available'}, score: 0.1383132903708676), context=None, document_offset=ExtractedAnswer.Span(start=106, end=118), context_offset=None, meta={}) \n",
            "\n",
            "ExtractedAnswer(query='Who is the author of the lace reader?', score=0.3612028658390045, data='Litres', document=Document(id=e7589d9912517481ba7ca4862f0c2cedfa4c8a9fc11b30265e1d8c95fa8b4cdf, content: 'Title: And Then There Were None / И никого не стало. Книга для чтения на английском языке;\n",
            "Writer/Au...', meta: {'title': 'And Then There Were None / И никого не стало. Книга для чтения на английском языке', 'authors': 'Агата Кристи', 'publisher': 'Litres', 'publishedDate': '2018-10-09', 'industryIdentifiers': \"{'type': 'ISBN_13', 'identifier': '9785041375676'}, {'type': 'ISBN_10', 'identifier': '5041375674'}\", 'readingModes': {'text': True, 'image': True}, 'pageCount': 469, 'printType': 'BOOK', 'categories': 'Foreign Language Study', 'maturityRating': 'NOT_MATURE', 'allowAnonLogging': True, 'contentVersion': '1.6.6.0.preview.3', 'panelizationSummary': {'containsEpubBubbles': False, 'containsImageBubbles': False}, 'imageLinks': {'smallThumbnail': 'http://books.google.com/books/content?id=qS9yDwAAQBAJ&printsec=frontcover&img=1&zoom=5&edge=curl&source=gbs_api', 'thumbnail': 'http://books.google.com/books/content?id=qS9yDwAAQBAJ&printsec=frontcover&img=1&zoom=1&edge=curl&source=gbs_api'}, 'language': 'en', 'previewLink': 'http://books.google.it/books?id=qS9yDwAAQBAJ&printsec=frontcover&dq=intitle:None&hl=&cd=1&source=gbs_api', 'infoLink': 'http://books.google.it/books?id=qS9yDwAAQBAJ&dq=intitle:None&hl=&source=gbs_api', 'canonicalVolumeLink': 'https://books.google.com/books/about/And_Then_There_Were_None_%D0%98_%D0%BD%D0%B8%D0%BA%D0%BE%D0%B3%D0%BE.html?hl=&id=qS9yDwAAQBAJ', 'subtitle': 'Not available', 'averageRating': 'Not available', 'ratingsCount': 'Not available', 'seriesInfo': 'Not available'}, score: 0.1383132903708676), context=None, document_offset=ExtractedAnswer.Span(start=558, end=564), context_offset=None, meta={}) \n",
            "\n",
            "ExtractedAnswer(query='Who is the author of the lace reader?', score=0.3271220624446869, data='2018-10-09', document=Document(id=e7589d9912517481ba7ca4862f0c2cedfa4c8a9fc11b30265e1d8c95fa8b4cdf, content: 'Title: And Then There Were None / И никого не стало. Книга для чтения на английском языке;\n",
            "Writer/Au...', meta: {'title': 'And Then There Were None / И никого не стало. Книга для чтения на английском языке', 'authors': 'Агата Кристи', 'publisher': 'Litres', 'publishedDate': '2018-10-09', 'industryIdentifiers': \"{'type': 'ISBN_13', 'identifier': '9785041375676'}, {'type': 'ISBN_10', 'identifier': '5041375674'}\", 'readingModes': {'text': True, 'image': True}, 'pageCount': 469, 'printType': 'BOOK', 'categories': 'Foreign Language Study', 'maturityRating': 'NOT_MATURE', 'allowAnonLogging': True, 'contentVersion': '1.6.6.0.preview.3', 'panelizationSummary': {'containsEpubBubbles': False, 'containsImageBubbles': False}, 'imageLinks': {'smallThumbnail': 'http://books.google.com/books/content?id=qS9yDwAAQBAJ&printsec=frontcover&img=1&zoom=5&edge=curl&source=gbs_api', 'thumbnail': 'http://books.google.com/books/content?id=qS9yDwAAQBAJ&printsec=frontcover&img=1&zoom=1&edge=curl&source=gbs_api'}, 'language': 'en', 'previewLink': 'http://books.google.it/books?id=qS9yDwAAQBAJ&printsec=frontcover&dq=intitle:None&hl=&cd=1&source=gbs_api', 'infoLink': 'http://books.google.it/books?id=qS9yDwAAQBAJ&dq=intitle:None&hl=&source=gbs_api', 'canonicalVolumeLink': 'https://books.google.com/books/about/And_Then_There_Were_None_%D0%98_%D0%BD%D0%B8%D0%BA%D0%BE%D0%B3%D0%BE.html?hl=&id=qS9yDwAAQBAJ', 'subtitle': 'Not available', 'averageRating': 'Not available', 'ratingsCount': 'Not available', 'seriesInfo': 'Not available'}, score: 0.1383132903708676), context=None, document_offset=ExtractedAnswer.Span(start=578, end=588), context_offset=None, meta={}) \n",
            "\n",
            "ExtractedAnswer(query='Who is the author of the lace reader?', score=0.22840867043383206, data=None, document=None, context=None, document_offset=None, context_offset=None, meta={}) \n",
            "\n",
            "['martian', None, None, 'kevin', None, 'eragon', None, '5', '1', '1', '2', None, 'five', None, None, 'american', 'titan', '3', 'percy jackson', '2666', '2', 'robert langdon', 'olive kitteridge', None, '1', '1', None, 'tehran', 'america', None, 'wolf hall', '1', 'hush', None, '4', '1', '4', None, '1', None, None, 'america', None, '1q84', 'hugo', '1', 'wolf', None, None, '1', 'eight', 'six', '1', None, '1', 'iron kissed', None, None, None, 'lirael (abhorsen', None, None, 'half', '1', '5', 'american', None, None]\n",
            "book title is None\n"
          ]
        },
        {
          "data": {
            "application/vnd.jupyter.widget-view+json": {
              "model_id": "8002c5de4a7c4932924a4673a62fb111",
              "version_major": 2,
              "version_minor": 0
            },
            "text/plain": [
              "Batches:   0%|          | 0/1 [00:00<?, ?it/s]"
            ]
          },
          "metadata": {},
          "output_type": "display_data"
        },
        {
          "data": {
            "application/vnd.jupyter.widget-view+json": {
              "model_id": "bad8c0f4a8094cc8a3a1b54c73f59271",
              "version_major": 2,
              "version_minor": 0
            },
            "text/plain": [
              "Batches:   0%|          | 0/1 [00:00<?, ?it/s]"
            ]
          },
          "metadata": {},
          "output_type": "display_data"
        },
        {
          "name": "stdout",
          "output_type": "stream",
          "text": [
            "ExtractedAnswer(query=\"Who is the author of heaven is for real: a little boy's astounding story of his trip to heaven and back?\", score=0.5100575089454651, data='Агата Кристи', document=Document(id=e7589d9912517481ba7ca4862f0c2cedfa4c8a9fc11b30265e1d8c95fa8b4cdf, content: 'Title: And Then There Were None / И никого не стало. Книга для чтения на английском языке;\n",
            "Writer/Au...', meta: {'title': 'And Then There Were None / И никого не стало. Книга для чтения на английском языке', 'authors': 'Агата Кристи', 'publisher': 'Litres', 'publishedDate': '2018-10-09', 'industryIdentifiers': \"{'type': 'ISBN_13', 'identifier': '9785041375676'}, {'type': 'ISBN_10', 'identifier': '5041375674'}\", 'readingModes': {'text': True, 'image': True}, 'pageCount': 469, 'printType': 'BOOK', 'categories': 'Foreign Language Study', 'maturityRating': 'NOT_MATURE', 'allowAnonLogging': True, 'contentVersion': '1.6.6.0.preview.3', 'panelizationSummary': {'containsEpubBubbles': False, 'containsImageBubbles': False}, 'imageLinks': {'smallThumbnail': 'http://books.google.com/books/content?id=qS9yDwAAQBAJ&printsec=frontcover&img=1&zoom=5&edge=curl&source=gbs_api', 'thumbnail': 'http://books.google.com/books/content?id=qS9yDwAAQBAJ&printsec=frontcover&img=1&zoom=1&edge=curl&source=gbs_api'}, 'language': 'en', 'previewLink': 'http://books.google.it/books?id=qS9yDwAAQBAJ&printsec=frontcover&dq=intitle:None&hl=&cd=1&source=gbs_api', 'infoLink': 'http://books.google.it/books?id=qS9yDwAAQBAJ&dq=intitle:None&hl=&source=gbs_api', 'canonicalVolumeLink': 'https://books.google.com/books/about/And_Then_There_Were_None_%D0%98_%D0%BD%D0%B8%D0%BA%D0%BE%D0%B3%D0%BE.html?hl=&id=qS9yDwAAQBAJ', 'subtitle': 'Not available', 'averageRating': 'Not available', 'ratingsCount': 'Not available', 'seriesInfo': 'Not available'}, score: 0.07195142587155666), context=None, document_offset=ExtractedAnswer.Span(start=106, end=118), context_offset=None, meta={}) \n",
            "\n",
            "ExtractedAnswer(query=\"Who is the author of heaven is for real: a little boy's astounding story of his trip to heaven and back?\", score=0.38137125968933105, data='Foreign Language Study;\\nNumber of pages: 469;\\nPublished by: Litres', document=Document(id=e7589d9912517481ba7ca4862f0c2cedfa4c8a9fc11b30265e1d8c95fa8b4cdf, content: 'Title: And Then There Were None / И никого не стало. Книга для чтения на английском языке;\n",
            "Writer/Au...', meta: {'title': 'And Then There Were None / И никого не стало. Книга для чтения на английском языке', 'authors': 'Агата Кристи', 'publisher': 'Litres', 'publishedDate': '2018-10-09', 'industryIdentifiers': \"{'type': 'ISBN_13', 'identifier': '9785041375676'}, {'type': 'ISBN_10', 'identifier': '5041375674'}\", 'readingModes': {'text': True, 'image': True}, 'pageCount': 469, 'printType': 'BOOK', 'categories': 'Foreign Language Study', 'maturityRating': 'NOT_MATURE', 'allowAnonLogging': True, 'contentVersion': '1.6.6.0.preview.3', 'panelizationSummary': {'containsEpubBubbles': False, 'containsImageBubbles': False}, 'imageLinks': {'smallThumbnail': 'http://books.google.com/books/content?id=qS9yDwAAQBAJ&printsec=frontcover&img=1&zoom=5&edge=curl&source=gbs_api', 'thumbnail': 'http://books.google.com/books/content?id=qS9yDwAAQBAJ&printsec=frontcover&img=1&zoom=1&edge=curl&source=gbs_api'}, 'language': 'en', 'previewLink': 'http://books.google.it/books?id=qS9yDwAAQBAJ&printsec=frontcover&dq=intitle:None&hl=&cd=1&source=gbs_api', 'infoLink': 'http://books.google.it/books?id=qS9yDwAAQBAJ&dq=intitle:None&hl=&source=gbs_api', 'canonicalVolumeLink': 'https://books.google.com/books/about/And_Then_There_Were_None_%D0%98_%D0%BD%D0%B8%D0%BA%D0%BE%D0%B3%D0%BE.html?hl=&id=qS9yDwAAQBAJ', 'subtitle': 'Not available', 'averageRating': 'Not available', 'ratingsCount': 'Not available', 'seriesInfo': 'Not available'}, score: 0.07195142587155666), context=None, document_offset=ExtractedAnswer.Span(start=498, end=564), context_offset=None, meta={}) \n",
            "\n",
            "ExtractedAnswer(query=\"Who is the author of heaven is for real: a little boy's astounding story of his trip to heaven and back?\", score=0.3510247468948364, data='2018-10-09', document=Document(id=e7589d9912517481ba7ca4862f0c2cedfa4c8a9fc11b30265e1d8c95fa8b4cdf, content: 'Title: And Then There Were None / И никого не стало. Книга для чтения на английском языке;\n",
            "Writer/Au...', meta: {'title': 'And Then There Were None / И никого не стало. Книга для чтения на английском языке', 'authors': 'Агата Кристи', 'publisher': 'Litres', 'publishedDate': '2018-10-09', 'industryIdentifiers': \"{'type': 'ISBN_13', 'identifier': '9785041375676'}, {'type': 'ISBN_10', 'identifier': '5041375674'}\", 'readingModes': {'text': True, 'image': True}, 'pageCount': 469, 'printType': 'BOOK', 'categories': 'Foreign Language Study', 'maturityRating': 'NOT_MATURE', 'allowAnonLogging': True, 'contentVersion': '1.6.6.0.preview.3', 'panelizationSummary': {'containsEpubBubbles': False, 'containsImageBubbles': False}, 'imageLinks': {'smallThumbnail': 'http://books.google.com/books/content?id=qS9yDwAAQBAJ&printsec=frontcover&img=1&zoom=5&edge=curl&source=gbs_api', 'thumbnail': 'http://books.google.com/books/content?id=qS9yDwAAQBAJ&printsec=frontcover&img=1&zoom=1&edge=curl&source=gbs_api'}, 'language': 'en', 'previewLink': 'http://books.google.it/books?id=qS9yDwAAQBAJ&printsec=frontcover&dq=intitle:None&hl=&cd=1&source=gbs_api', 'infoLink': 'http://books.google.it/books?id=qS9yDwAAQBAJ&dq=intitle:None&hl=&source=gbs_api', 'canonicalVolumeLink': 'https://books.google.com/books/about/And_Then_There_Were_None_%D0%98_%D0%BD%D0%B8%D0%BA%D0%BE%D0%B3%D0%BE.html?hl=&id=qS9yDwAAQBAJ', 'subtitle': 'Not available', 'averageRating': 'Not available', 'ratingsCount': 'Not available', 'seriesInfo': 'Not available'}, score: 0.07195142587155666), context=None, document_offset=ExtractedAnswer.Span(start=578, end=588), context_offset=None, meta={}) \n",
            "\n",
            "ExtractedAnswer(query=\"Who is the author of heaven is for real: a little boy's astounding story of his trip to heaven and back?\", score=0.19669953583829072, data=None, document=None, context=None, document_offset=None, context_offset=None, meta={}) \n",
            "\n",
            "['martian', None, None, 'kevin', None, 'eragon', None, '5', '1', '1', '2', None, 'five', None, None, 'american', 'titan', '3', 'percy jackson', '2666', '2', 'robert langdon', 'olive kitteridge', None, '1', '1', None, 'tehran', 'america', None, 'wolf hall', '1', 'hush', None, '4', '1', '4', None, '1', None, None, 'america', None, '1q84', 'hugo', '1', 'wolf', None, None, '1', 'eight', 'six', '1', None, '1', 'iron kissed', None, None, None, 'lirael (abhorsen', None, None, 'half', '1', '5', 'american', None, None, 'throne']\n",
            "book title is throne\n"
          ]
        },
        {
          "data": {
            "application/vnd.jupyter.widget-view+json": {
              "model_id": "da0a8108fa794676ac2ee12651bd5a40",
              "version_major": 2,
              "version_minor": 0
            },
            "text/plain": [
              "Batches:   0%|          | 0/1 [00:00<?, ?it/s]"
            ]
          },
          "metadata": {},
          "output_type": "display_data"
        },
        {
          "data": {
            "application/vnd.jupyter.widget-view+json": {
              "model_id": "6dcbde2a4bc54fe7b3159c55d1c58d98",
              "version_major": 2,
              "version_minor": 0
            },
            "text/plain": [
              "Batches:   0%|          | 0/1 [00:00<?, ?it/s]"
            ]
          },
          "metadata": {},
          "output_type": "display_data"
        },
        {
          "name": "stdout",
          "output_type": "stream",
          "text": [
            "ExtractedAnswer(query='Who is the author of throne of novoxos (van laven chronicles #1)?', score=0.7829581499099731, data='Tasha Suri', document=Document(id=d3d1ae4a30cc0117bab10a55ace75df4b44f9a8e2db841a20cb14bcf451b126e, content: 'Title: The Jasmine Throne. Il trono di gelsomino;\n",
            "Writer/Author: Tasha Suri;\n",
            "Topic: Esiliata dal dis...', meta: {'title': 'The Jasmine Throne. Il trono di gelsomino', 'authors': 'Tasha Suri', 'publisher': 'Fanucci Editore', 'publishedDate': '2023-03-31', 'industryIdentifiers': \"{'type': 'ISBN_13', 'identifier': '9788834743799'}, {'type': 'ISBN_10', 'identifier': '8834743792'}\", 'readingModes': {'text': True, 'image': True}, 'pageCount': 471, 'printType': 'BOOK', 'categories': 'Fiction', 'maturityRating': 'NOT_MATURE', 'allowAnonLogging': False, 'contentVersion': '1.3.2.0.preview.3', 'panelizationSummary': {'containsEpubBubbles': False, 'containsImageBubbles': False}, 'imageLinks': {'smallThumbnail': 'http://books.google.com/books/content?id=T_G1EAAAQBAJ&printsec=frontcover&img=1&zoom=5&edge=curl&source=gbs_api', 'thumbnail': 'http://books.google.com/books/content?id=T_G1EAAAQBAJ&printsec=frontcover&img=1&zoom=1&edge=curl&source=gbs_api'}, 'language': 'it', 'previewLink': 'http://books.google.it/books?id=T_G1EAAAQBAJ&printsec=frontcover&dq=intitle:throne&hl=&cd=1&source=gbs_api', 'infoLink': 'https://play.google.com/store/books/details?id=T_G1EAAAQBAJ&source=gbs_api', 'canonicalVolumeLink': 'https://play.google.com/store/books/details?id=T_G1EAAAQBAJ', 'subtitle': 'Not available', 'averageRating': 'Not available', 'ratingsCount': 'Not available', 'seriesInfo': 'Not available'}, score: 0.26204878581255503), context=None, document_offset=ExtractedAnswer.Span(start=65, end=75), context_offset=None, meta={}) \n",
            "\n",
            "ExtractedAnswer(query='Who is the author of throne of novoxos (van laven chronicles #1)?', score=0.6854791641235352, data='S.A. Chakraborty', document=Document(id=d3d1ae4a30cc0117bab10a55ace75df4b44f9a8e2db841a20cb14bcf451b126e, content: 'Title: The Jasmine Throne. Il trono di gelsomino;\n",
            "Writer/Author: Tasha Suri;\n",
            "Topic: Esiliata dal dis...', meta: {'title': 'The Jasmine Throne. Il trono di gelsomino', 'authors': 'Tasha Suri', 'publisher': 'Fanucci Editore', 'publishedDate': '2023-03-31', 'industryIdentifiers': \"{'type': 'ISBN_13', 'identifier': '9788834743799'}, {'type': 'ISBN_10', 'identifier': '8834743792'}\", 'readingModes': {'text': True, 'image': True}, 'pageCount': 471, 'printType': 'BOOK', 'categories': 'Fiction', 'maturityRating': 'NOT_MATURE', 'allowAnonLogging': False, 'contentVersion': '1.3.2.0.preview.3', 'panelizationSummary': {'containsEpubBubbles': False, 'containsImageBubbles': False}, 'imageLinks': {'smallThumbnail': 'http://books.google.com/books/content?id=T_G1EAAAQBAJ&printsec=frontcover&img=1&zoom=5&edge=curl&source=gbs_api', 'thumbnail': 'http://books.google.com/books/content?id=T_G1EAAAQBAJ&printsec=frontcover&img=1&zoom=1&edge=curl&source=gbs_api'}, 'language': 'it', 'previewLink': 'http://books.google.it/books?id=T_G1EAAAQBAJ&printsec=frontcover&dq=intitle:throne&hl=&cd=1&source=gbs_api', 'infoLink': 'https://play.google.com/store/books/details?id=T_G1EAAAQBAJ&source=gbs_api', 'canonicalVolumeLink': 'https://play.google.com/store/books/details?id=T_G1EAAAQBAJ', 'subtitle': 'Not available', 'averageRating': 'Not available', 'ratingsCount': 'Not available', 'seriesInfo': 'Not available'}, score: 0.26204878581255503), context=None, document_offset=ExtractedAnswer.Span(start=1013, end=1029), context_offset=None, meta={}) \n",
            "\n",
            "ExtractedAnswer(query='Who is the author of throne of novoxos (van laven chronicles #1)?', score=0.5231793522834778, data='The Jasmine Throne', document=Document(id=d3d1ae4a30cc0117bab10a55ace75df4b44f9a8e2db841a20cb14bcf451b126e, content: 'Title: The Jasmine Throne. Il trono di gelsomino;\n",
            "Writer/Author: Tasha Suri;\n",
            "Topic: Esiliata dal dis...', meta: {'title': 'The Jasmine Throne. Il trono di gelsomino', 'authors': 'Tasha Suri', 'publisher': 'Fanucci Editore', 'publishedDate': '2023-03-31', 'industryIdentifiers': \"{'type': 'ISBN_13', 'identifier': '9788834743799'}, {'type': 'ISBN_10', 'identifier': '8834743792'}\", 'readingModes': {'text': True, 'image': True}, 'pageCount': 471, 'printType': 'BOOK', 'categories': 'Fiction', 'maturityRating': 'NOT_MATURE', 'allowAnonLogging': False, 'contentVersion': '1.3.2.0.preview.3', 'panelizationSummary': {'containsEpubBubbles': False, 'containsImageBubbles': False}, 'imageLinks': {'smallThumbnail': 'http://books.google.com/books/content?id=T_G1EAAAQBAJ&printsec=frontcover&img=1&zoom=5&edge=curl&source=gbs_api', 'thumbnail': 'http://books.google.com/books/content?id=T_G1EAAAQBAJ&printsec=frontcover&img=1&zoom=1&edge=curl&source=gbs_api'}, 'language': 'it', 'previewLink': 'http://books.google.it/books?id=T_G1EAAAQBAJ&printsec=frontcover&dq=intitle:throne&hl=&cd=1&source=gbs_api', 'infoLink': 'https://play.google.com/store/books/details?id=T_G1EAAAQBAJ&source=gbs_api', 'canonicalVolumeLink': 'https://play.google.com/store/books/details?id=T_G1EAAAQBAJ', 'subtitle': 'Not available', 'averageRating': 'Not available', 'ratingsCount': 'Not available', 'seriesInfo': 'Not available'}, score: 0.26204878581255503), context=None, document_offset=ExtractedAnswer.Span(start=711, end=729), context_offset=None, meta={}) \n",
            "\n",
            "ExtractedAnswer(query='Who is the author of throne of novoxos (van laven chronicles #1)?', score=0.032549772483403586, data=None, document=None, context=None, document_offset=None, context_offset=None, meta={}) \n",
            "\n",
            "['martian', None, None, 'kevin', None, 'eragon', None, '5', '1', '1', '2', None, 'five', None, None, 'american', 'titan', '3', 'percy jackson', '2666', '2', 'robert langdon', 'olive kitteridge', None, '1', '1', None, 'tehran', 'america', None, 'wolf hall', '1', 'hush', None, '4', '1', '4', None, '1', None, None, 'america', None, '1q84', 'hugo', '1', 'wolf', None, None, '1', 'eight', 'six', '1', None, '1', 'iron kissed', None, None, None, 'lirael (abhorsen', None, None, 'half', '1', '5', 'american', None, None, 'throne', None]\n",
            "book title is None\n"
          ]
        },
        {
          "data": {
            "application/vnd.jupyter.widget-view+json": {
              "model_id": "c0c1b2ec90e54484ba37afbc15eaf2d7",
              "version_major": 2,
              "version_minor": 0
            },
            "text/plain": [
              "Batches:   0%|          | 0/1 [00:00<?, ?it/s]"
            ]
          },
          "metadata": {},
          "output_type": "display_data"
        },
        {
          "data": {
            "application/vnd.jupyter.widget-view+json": {
              "model_id": "7ff23f920feb4dfa8d4e7edefbf015cd",
              "version_major": 2,
              "version_minor": 0
            },
            "text/plain": [
              "Batches:   0%|          | 0/1 [00:00<?, ?it/s]"
            ]
          },
          "metadata": {},
          "output_type": "display_data"
        },
        {
          "name": "stdout",
          "output_type": "stream",
          "text": [
            "ExtractedAnswer(query='Who is the author of the lost city of z: a tale of deadly obsession in the amazon?', score=0.46331068873405457, data='Агата Кристи', document=Document(id=e7589d9912517481ba7ca4862f0c2cedfa4c8a9fc11b30265e1d8c95fa8b4cdf, content: 'Title: And Then There Were None / И никого не стало. Книга для чтения на английском языке;\n",
            "Writer/Au...', meta: {'title': 'And Then There Were None / И никого не стало. Книга для чтения на английском языке', 'authors': 'Агата Кристи', 'publisher': 'Litres', 'publishedDate': '2018-10-09', 'industryIdentifiers': \"{'type': 'ISBN_13', 'identifier': '9785041375676'}, {'type': 'ISBN_10', 'identifier': '5041375674'}\", 'readingModes': {'text': True, 'image': True}, 'pageCount': 469, 'printType': 'BOOK', 'categories': 'Foreign Language Study', 'maturityRating': 'NOT_MATURE', 'allowAnonLogging': True, 'contentVersion': '1.6.6.0.preview.3', 'panelizationSummary': {'containsEpubBubbles': False, 'containsImageBubbles': False}, 'imageLinks': {'smallThumbnail': 'http://books.google.com/books/content?id=qS9yDwAAQBAJ&printsec=frontcover&img=1&zoom=5&edge=curl&source=gbs_api', 'thumbnail': 'http://books.google.com/books/content?id=qS9yDwAAQBAJ&printsec=frontcover&img=1&zoom=1&edge=curl&source=gbs_api'}, 'language': 'en', 'previewLink': 'http://books.google.it/books?id=qS9yDwAAQBAJ&printsec=frontcover&dq=intitle:None&hl=&cd=1&source=gbs_api', 'infoLink': 'http://books.google.it/books?id=qS9yDwAAQBAJ&dq=intitle:None&hl=&source=gbs_api', 'canonicalVolumeLink': 'https://books.google.com/books/about/And_Then_There_Were_None_%D0%98_%D0%BD%D0%B8%D0%BA%D0%BE%D0%B3%D0%BE.html?hl=&id=qS9yDwAAQBAJ', 'subtitle': 'Not available', 'averageRating': 'Not available', 'ratingsCount': 'Not available', 'seriesInfo': 'Not available'}, score: 0.11363827527331113), context=None, document_offset=ExtractedAnswer.Span(start=106, end=118), context_offset=None, meta={}) \n",
            "\n",
            "ExtractedAnswer(query='Who is the author of the lost city of z: a tale of deadly obsession in the amazon?', score=0.4058679938316345, data='And Then There Were None', document=Document(id=e7589d9912517481ba7ca4862f0c2cedfa4c8a9fc11b30265e1d8c95fa8b4cdf, content: 'Title: And Then There Were None / И никого не стало. Книга для чтения на английском языке;\n",
            "Writer/Au...', meta: {'title': 'And Then There Were None / И никого не стало. Книга для чтения на английском языке', 'authors': 'Агата Кристи', 'publisher': 'Litres', 'publishedDate': '2018-10-09', 'industryIdentifiers': \"{'type': 'ISBN_13', 'identifier': '9785041375676'}, {'type': 'ISBN_10', 'identifier': '5041375674'}\", 'readingModes': {'text': True, 'image': True}, 'pageCount': 469, 'printType': 'BOOK', 'categories': 'Foreign Language Study', 'maturityRating': 'NOT_MATURE', 'allowAnonLogging': True, 'contentVersion': '1.6.6.0.preview.3', 'panelizationSummary': {'containsEpubBubbles': False, 'containsImageBubbles': False}, 'imageLinks': {'smallThumbnail': 'http://books.google.com/books/content?id=qS9yDwAAQBAJ&printsec=frontcover&img=1&zoom=5&edge=curl&source=gbs_api', 'thumbnail': 'http://books.google.com/books/content?id=qS9yDwAAQBAJ&printsec=frontcover&img=1&zoom=1&edge=curl&source=gbs_api'}, 'language': 'en', 'previewLink': 'http://books.google.it/books?id=qS9yDwAAQBAJ&printsec=frontcover&dq=intitle:None&hl=&cd=1&source=gbs_api', 'infoLink': 'http://books.google.it/books?id=qS9yDwAAQBAJ&dq=intitle:None&hl=&source=gbs_api', 'canonicalVolumeLink': 'https://books.google.com/books/about/And_Then_There_Were_None_%D0%98_%D0%BD%D0%B8%D0%BA%D0%BE%D0%B3%D0%BE.html?hl=&id=qS9yDwAAQBAJ', 'subtitle': 'Not available', 'averageRating': 'Not available', 'ratingsCount': 'Not available', 'seriesInfo': 'Not available'}, score: 0.11363827527331113), context=None, document_offset=ExtractedAnswer.Span(start=7, end=31), context_offset=None, meta={}) \n",
            "\n",
            "ExtractedAnswer(query='Who is the author of the lost city of z: a tale of deadly obsession in the amazon?', score=0.3954320251941681, data='Litres', document=Document(id=e7589d9912517481ba7ca4862f0c2cedfa4c8a9fc11b30265e1d8c95fa8b4cdf, content: 'Title: And Then There Were None / И никого не стало. Книга для чтения на английском языке;\n",
            "Writer/Au...', meta: {'title': 'And Then There Were None / И никого не стало. Книга для чтения на английском языке', 'authors': 'Агата Кристи', 'publisher': 'Litres', 'publishedDate': '2018-10-09', 'industryIdentifiers': \"{'type': 'ISBN_13', 'identifier': '9785041375676'}, {'type': 'ISBN_10', 'identifier': '5041375674'}\", 'readingModes': {'text': True, 'image': True}, 'pageCount': 469, 'printType': 'BOOK', 'categories': 'Foreign Language Study', 'maturityRating': 'NOT_MATURE', 'allowAnonLogging': True, 'contentVersion': '1.6.6.0.preview.3', 'panelizationSummary': {'containsEpubBubbles': False, 'containsImageBubbles': False}, 'imageLinks': {'smallThumbnail': 'http://books.google.com/books/content?id=qS9yDwAAQBAJ&printsec=frontcover&img=1&zoom=5&edge=curl&source=gbs_api', 'thumbnail': 'http://books.google.com/books/content?id=qS9yDwAAQBAJ&printsec=frontcover&img=1&zoom=1&edge=curl&source=gbs_api'}, 'language': 'en', 'previewLink': 'http://books.google.it/books?id=qS9yDwAAQBAJ&printsec=frontcover&dq=intitle:None&hl=&cd=1&source=gbs_api', 'infoLink': 'http://books.google.it/books?id=qS9yDwAAQBAJ&dq=intitle:None&hl=&source=gbs_api', 'canonicalVolumeLink': 'https://books.google.com/books/about/And_Then_There_Were_None_%D0%98_%D0%BD%D0%B8%D0%BA%D0%BE%D0%B3%D0%BE.html?hl=&id=qS9yDwAAQBAJ', 'subtitle': 'Not available', 'averageRating': 'Not available', 'ratingsCount': 'Not available', 'seriesInfo': 'Not available'}, score: 0.11363827527331113), context=None, document_offset=ExtractedAnswer.Span(start=558, end=564), context_offset=None, meta={}) \n",
            "\n",
            "ExtractedAnswer(query='Who is the author of the lost city of z: a tale of deadly obsession in the amazon?', score=0.19277514239098303, data=None, document=None, context=None, document_offset=None, context_offset=None, meta={}) \n",
            "\n",
            "['martian', None, None, 'kevin', None, 'eragon', None, '5', '1', '1', '2', None, 'five', None, None, 'american', 'titan', '3', 'percy jackson', '2666', '2', 'robert langdon', 'olive kitteridge', None, '1', '1', None, 'tehran', 'america', None, 'wolf hall', '1', 'hush', None, '4', '1', '4', None, '1', None, None, 'america', None, '1q84', 'hugo', '1', 'wolf', None, None, '1', 'eight', 'six', '1', None, '1', 'iron kissed', None, None, None, 'lirael (abhorsen', None, None, 'half', '1', '5', 'american', None, None, 'throne', None, '44']\n",
            "book title is 44\n"
          ]
        },
        {
          "data": {
            "application/vnd.jupyter.widget-view+json": {
              "model_id": "6348eee71afa46b8adad9a6c95d30000",
              "version_major": 2,
              "version_minor": 0
            },
            "text/plain": [
              "Batches:   0%|          | 0/1 [00:00<?, ?it/s]"
            ]
          },
          "metadata": {},
          "output_type": "display_data"
        },
        {
          "data": {
            "application/vnd.jupyter.widget-view+json": {
              "model_id": "cbac06d61b674651ac59c7f8cda09740",
              "version_major": 2,
              "version_minor": 0
            },
            "text/plain": [
              "Batches:   0%|          | 0/1 [00:00<?, ?it/s]"
            ]
          },
          "metadata": {},
          "output_type": "display_data"
        },
        {
          "name": "stdout",
          "output_type": "stream",
          "text": [
            "ExtractedAnswer(query='Who is the author of child 44 (leo demidov, #1)?', score=0.8386861681938171, data='Tom Rob Smith', document=Document(id=047d9e29d9df840ef809d9a28a8f2179ca0645ab6cea8b7a255e15028511e88f, content: 'Title: Child 44 - Il Bambino numero 44;\n",
            "Writer/Author: Tom Rob Smith;\n",
            "Topic: Il caso editoriale che ...', meta: {'title': 'Child 44 - Il Bambino numero 44', 'authors': 'Tom Rob Smith', 'publisher': 'SPERLING & KUPFER', 'publishedDate': '2011-08-04', 'industryIdentifiers': \"{'type': 'ISBN_13', 'identifier': '9788873394532'}, {'type': 'ISBN_10', 'identifier': '8873394531'}\", 'readingModes': {'text': True, 'image': True}, 'pageCount': 457, 'printType': 'BOOK', 'categories': 'Fiction', 'averageRating': 4.5, 'ratingsCount': 14, 'maturityRating': 'NOT_MATURE', 'allowAnonLogging': True, 'contentVersion': '4.28.29.0.preview.3', 'panelizationSummary': {'containsEpubBubbles': False, 'containsImageBubbles': False}, 'imageLinks': {'smallThumbnail': 'http://books.google.com/books/content?id=wwD5vn9AFbMC&printsec=frontcover&img=1&zoom=5&edge=curl&source=gbs_api', 'thumbnail': 'http://books.google.com/books/content?id=wwD5vn9AFbMC&printsec=frontcover&img=1&zoom=1&edge=curl&source=gbs_api'}, 'language': 'it', 'previewLink': 'http://books.google.it/books?id=wwD5vn9AFbMC&printsec=frontcover&dq=intitle:44&hl=&cd=1&source=gbs_api', 'infoLink': 'https://play.google.com/store/books/details?id=wwD5vn9AFbMC&source=gbs_api', 'canonicalVolumeLink': 'https://play.google.com/store/books/details?id=wwD5vn9AFbMC', 'subtitle': 'Not available', 'seriesInfo': 'Not available'}, score: 0.5305062265421208), context=None, document_offset=ExtractedAnswer.Span(start=55, end=68), context_offset=None, meta={}) \n",
            "\n",
            "ExtractedAnswer(query='Who is the author of child 44 (leo demidov, #1)?', score=0.16131383180618286, data=None, document=None, context=None, document_offset=None, context_offset=None, meta={}) \n",
            "\n",
            "['martian', None, None, 'kevin', None, 'eragon', None, '5', '1', '1', '2', None, 'five', None, None, 'american', 'titan', '3', 'percy jackson', '2666', '2', 'robert langdon', 'olive kitteridge', None, '1', '1', None, 'tehran', 'america', None, 'wolf hall', '1', 'hush', None, '4', '1', '4', None, '1', None, None, 'america', None, '1q84', 'hugo', '1', 'wolf', None, None, '1', 'eight', 'six', '1', None, '1', 'iron kissed', None, None, None, 'lirael (abhorsen', None, None, 'half', '1', '5', 'american', None, None, 'throne', None, '44', None]\n",
            "book title is None\n"
          ]
        },
        {
          "data": {
            "application/vnd.jupyter.widget-view+json": {
              "model_id": "a220be543de84d53810e298a6a6884b1",
              "version_major": 2,
              "version_minor": 0
            },
            "text/plain": [
              "Batches:   0%|          | 0/1 [00:00<?, ?it/s]"
            ]
          },
          "metadata": {},
          "output_type": "display_data"
        },
        {
          "data": {
            "application/vnd.jupyter.widget-view+json": {
              "model_id": "1ef20f6396c2488da24e095f9b1e8b0f",
              "version_major": 2,
              "version_minor": 0
            },
            "text/plain": [
              "Batches:   0%|          | 0/1 [00:00<?, ?it/s]"
            ]
          },
          "metadata": {},
          "output_type": "display_data"
        },
        {
          "name": "stdout",
          "output_type": "stream",
          "text": [
            "ExtractedAnswer(query='Who is the author of the silver linings playbook?', score=0.47609731554985046, data='Агата Кристи', document=Document(id=e7589d9912517481ba7ca4862f0c2cedfa4c8a9fc11b30265e1d8c95fa8b4cdf, content: 'Title: And Then There Were None / И никого не стало. Книга для чтения на английском языке;\n",
            "Writer/Au...', meta: {'title': 'And Then There Were None / И никого не стало. Книга для чтения на английском языке', 'authors': 'Агата Кристи', 'publisher': 'Litres', 'publishedDate': '2018-10-09', 'industryIdentifiers': \"{'type': 'ISBN_13', 'identifier': '9785041375676'}, {'type': 'ISBN_10', 'identifier': '5041375674'}\", 'readingModes': {'text': True, 'image': True}, 'pageCount': 469, 'printType': 'BOOK', 'categories': 'Foreign Language Study', 'maturityRating': 'NOT_MATURE', 'allowAnonLogging': True, 'contentVersion': '1.6.6.0.preview.3', 'panelizationSummary': {'containsEpubBubbles': False, 'containsImageBubbles': False}, 'imageLinks': {'smallThumbnail': 'http://books.google.com/books/content?id=qS9yDwAAQBAJ&printsec=frontcover&img=1&zoom=5&edge=curl&source=gbs_api', 'thumbnail': 'http://books.google.com/books/content?id=qS9yDwAAQBAJ&printsec=frontcover&img=1&zoom=1&edge=curl&source=gbs_api'}, 'language': 'en', 'previewLink': 'http://books.google.it/books?id=qS9yDwAAQBAJ&printsec=frontcover&dq=intitle:None&hl=&cd=1&source=gbs_api', 'infoLink': 'http://books.google.it/books?id=qS9yDwAAQBAJ&dq=intitle:None&hl=&source=gbs_api', 'canonicalVolumeLink': 'https://books.google.com/books/about/And_Then_There_Were_None_%D0%98_%D0%BD%D0%B8%D0%BA%D0%BE%D0%B3%D0%BE.html?hl=&id=qS9yDwAAQBAJ', 'subtitle': 'Not available', 'averageRating': 'Not available', 'ratingsCount': 'Not available', 'seriesInfo': 'Not available'}, score: 0.052517403880957), context=None, document_offset=ExtractedAnswer.Span(start=106, end=118), context_offset=None, meta={}) \n",
            "\n",
            "ExtractedAnswer(query='Who is the author of the silver linings playbook?', score=0.3974994122982025, data='Litres', document=Document(id=e7589d9912517481ba7ca4862f0c2cedfa4c8a9fc11b30265e1d8c95fa8b4cdf, content: 'Title: And Then There Were None / И никого не стало. Книга для чтения на английском языке;\n",
            "Writer/Au...', meta: {'title': 'And Then There Were None / И никого не стало. Книга для чтения на английском языке', 'authors': 'Агата Кристи', 'publisher': 'Litres', 'publishedDate': '2018-10-09', 'industryIdentifiers': \"{'type': 'ISBN_13', 'identifier': '9785041375676'}, {'type': 'ISBN_10', 'identifier': '5041375674'}\", 'readingModes': {'text': True, 'image': True}, 'pageCount': 469, 'printType': 'BOOK', 'categories': 'Foreign Language Study', 'maturityRating': 'NOT_MATURE', 'allowAnonLogging': True, 'contentVersion': '1.6.6.0.preview.3', 'panelizationSummary': {'containsEpubBubbles': False, 'containsImageBubbles': False}, 'imageLinks': {'smallThumbnail': 'http://books.google.com/books/content?id=qS9yDwAAQBAJ&printsec=frontcover&img=1&zoom=5&edge=curl&source=gbs_api', 'thumbnail': 'http://books.google.com/books/content?id=qS9yDwAAQBAJ&printsec=frontcover&img=1&zoom=1&edge=curl&source=gbs_api'}, 'language': 'en', 'previewLink': 'http://books.google.it/books?id=qS9yDwAAQBAJ&printsec=frontcover&dq=intitle:None&hl=&cd=1&source=gbs_api', 'infoLink': 'http://books.google.it/books?id=qS9yDwAAQBAJ&dq=intitle:None&hl=&source=gbs_api', 'canonicalVolumeLink': 'https://books.google.com/books/about/And_Then_There_Were_None_%D0%98_%D0%BD%D0%B8%D0%BA%D0%BE%D0%B3%D0%BE.html?hl=&id=qS9yDwAAQBAJ', 'subtitle': 'Not available', 'averageRating': 'Not available', 'ratingsCount': 'Not available', 'seriesInfo': 'Not available'}, score: 0.052517403880957), context=None, document_offset=ExtractedAnswer.Span(start=558, end=564), context_offset=None, meta={}) \n",
            "\n",
            "ExtractedAnswer(query='Who is the author of the silver linings playbook?', score=0.36761531233787537, data='2018-10-09', document=Document(id=e7589d9912517481ba7ca4862f0c2cedfa4c8a9fc11b30265e1d8c95fa8b4cdf, content: 'Title: And Then There Were None / И никого не стало. Книга для чтения на английском языке;\n",
            "Writer/Au...', meta: {'title': 'And Then There Were None / И никого не стало. Книга для чтения на английском языке', 'authors': 'Агата Кристи', 'publisher': 'Litres', 'publishedDate': '2018-10-09', 'industryIdentifiers': \"{'type': 'ISBN_13', 'identifier': '9785041375676'}, {'type': 'ISBN_10', 'identifier': '5041375674'}\", 'readingModes': {'text': True, 'image': True}, 'pageCount': 469, 'printType': 'BOOK', 'categories': 'Foreign Language Study', 'maturityRating': 'NOT_MATURE', 'allowAnonLogging': True, 'contentVersion': '1.6.6.0.preview.3', 'panelizationSummary': {'containsEpubBubbles': False, 'containsImageBubbles': False}, 'imageLinks': {'smallThumbnail': 'http://books.google.com/books/content?id=qS9yDwAAQBAJ&printsec=frontcover&img=1&zoom=5&edge=curl&source=gbs_api', 'thumbnail': 'http://books.google.com/books/content?id=qS9yDwAAQBAJ&printsec=frontcover&img=1&zoom=1&edge=curl&source=gbs_api'}, 'language': 'en', 'previewLink': 'http://books.google.it/books?id=qS9yDwAAQBAJ&printsec=frontcover&dq=intitle:None&hl=&cd=1&source=gbs_api', 'infoLink': 'http://books.google.it/books?id=qS9yDwAAQBAJ&dq=intitle:None&hl=&source=gbs_api', 'canonicalVolumeLink': 'https://books.google.com/books/about/And_Then_There_Were_None_%D0%98_%D0%BD%D0%B8%D0%BA%D0%BE%D0%B3%D0%BE.html?hl=&id=qS9yDwAAQBAJ', 'subtitle': 'Not available', 'averageRating': 'Not available', 'ratingsCount': 'Not available', 'seriesInfo': 'Not available'}, score: 0.052517403880957), context=None, document_offset=ExtractedAnswer.Span(start=578, end=588), context_offset=None, meta={}) \n",
            "\n",
            "ExtractedAnswer(query='Who is the author of the silver linings playbook?', score=0.19961328608182022, data=None, document=None, context=None, document_offset=None, context_offset=None, meta={}) \n",
            "\n",
            "['martian', None, None, 'kevin', None, 'eragon', None, '5', '1', '1', '2', None, 'five', None, None, 'american', 'titan', '3', 'percy jackson', '2666', '2', 'robert langdon', 'olive kitteridge', None, '1', '1', None, 'tehran', 'america', None, 'wolf hall', '1', 'hush', None, '4', '1', '4', None, '1', None, None, 'america', None, '1q84', 'hugo', '1', 'wolf', None, None, '1', 'eight', 'six', '1', None, '1', 'iron kissed', None, None, None, 'lirael (abhorsen', None, None, 'half', '1', '5', 'american', None, None, 'throne', None, '44', None, None]\n",
            "book title is None\n"
          ]
        },
        {
          "data": {
            "application/vnd.jupyter.widget-view+json": {
              "model_id": "cc4e6b928bac47a798f51f38d41ecd22",
              "version_major": 2,
              "version_minor": 0
            },
            "text/plain": [
              "Batches:   0%|          | 0/1 [00:00<?, ?it/s]"
            ]
          },
          "metadata": {},
          "output_type": "display_data"
        },
        {
          "data": {
            "application/vnd.jupyter.widget-view+json": {
              "model_id": "1788d05a39b340bfa85b3750c3868eba",
              "version_major": 2,
              "version_minor": 0
            },
            "text/plain": [
              "Batches:   0%|          | 0/1 [00:00<?, ?it/s]"
            ]
          },
          "metadata": {},
          "output_type": "display_data"
        },
        {
          "name": "stdout",
          "output_type": "stream",
          "text": [
            "ExtractedAnswer(query='Who is the author of the people of paper?', score=0.4863651990890503, data='Writer/Author: Агата Кристи', document=Document(id=e7589d9912517481ba7ca4862f0c2cedfa4c8a9fc11b30265e1d8c95fa8b4cdf, content: 'Title: And Then There Were None / И никого не стало. Книга для чтения на английском языке;\n",
            "Writer/Au...', meta: {'title': 'And Then There Were None / И никого не стало. Книга для чтения на английском языке', 'authors': 'Агата Кристи', 'publisher': 'Litres', 'publishedDate': '2018-10-09', 'industryIdentifiers': \"{'type': 'ISBN_13', 'identifier': '9785041375676'}, {'type': 'ISBN_10', 'identifier': '5041375674'}\", 'readingModes': {'text': True, 'image': True}, 'pageCount': 469, 'printType': 'BOOK', 'categories': 'Foreign Language Study', 'maturityRating': 'NOT_MATURE', 'allowAnonLogging': True, 'contentVersion': '1.6.6.0.preview.3', 'panelizationSummary': {'containsEpubBubbles': False, 'containsImageBubbles': False}, 'imageLinks': {'smallThumbnail': 'http://books.google.com/books/content?id=qS9yDwAAQBAJ&printsec=frontcover&img=1&zoom=5&edge=curl&source=gbs_api', 'thumbnail': 'http://books.google.com/books/content?id=qS9yDwAAQBAJ&printsec=frontcover&img=1&zoom=1&edge=curl&source=gbs_api'}, 'language': 'en', 'previewLink': 'http://books.google.it/books?id=qS9yDwAAQBAJ&printsec=frontcover&dq=intitle:None&hl=&cd=1&source=gbs_api', 'infoLink': 'http://books.google.it/books?id=qS9yDwAAQBAJ&dq=intitle:None&hl=&source=gbs_api', 'canonicalVolumeLink': 'https://books.google.com/books/about/And_Then_There_Were_None_%D0%98_%D0%BD%D0%B8%D0%BA%D0%BE%D0%B3%D0%BE.html?hl=&id=qS9yDwAAQBAJ', 'subtitle': 'Not available', 'averageRating': 'Not available', 'ratingsCount': 'Not available', 'seriesInfo': 'Not available'}, score: 0.14478762049941643), context=None, document_offset=ExtractedAnswer.Span(start=91, end=118), context_offset=None, meta={}) \n",
            "\n",
            "ExtractedAnswer(query='Who is the author of the people of paper?', score=0.40289247035980225, data='Litres', document=Document(id=e7589d9912517481ba7ca4862f0c2cedfa4c8a9fc11b30265e1d8c95fa8b4cdf, content: 'Title: And Then There Were None / И никого не стало. Книга для чтения на английском языке;\n",
            "Writer/Au...', meta: {'title': 'And Then There Were None / И никого не стало. Книга для чтения на английском языке', 'authors': 'Агата Кристи', 'publisher': 'Litres', 'publishedDate': '2018-10-09', 'industryIdentifiers': \"{'type': 'ISBN_13', 'identifier': '9785041375676'}, {'type': 'ISBN_10', 'identifier': '5041375674'}\", 'readingModes': {'text': True, 'image': True}, 'pageCount': 469, 'printType': 'BOOK', 'categories': 'Foreign Language Study', 'maturityRating': 'NOT_MATURE', 'allowAnonLogging': True, 'contentVersion': '1.6.6.0.preview.3', 'panelizationSummary': {'containsEpubBubbles': False, 'containsImageBubbles': False}, 'imageLinks': {'smallThumbnail': 'http://books.google.com/books/content?id=qS9yDwAAQBAJ&printsec=frontcover&img=1&zoom=5&edge=curl&source=gbs_api', 'thumbnail': 'http://books.google.com/books/content?id=qS9yDwAAQBAJ&printsec=frontcover&img=1&zoom=1&edge=curl&source=gbs_api'}, 'language': 'en', 'previewLink': 'http://books.google.it/books?id=qS9yDwAAQBAJ&printsec=frontcover&dq=intitle:None&hl=&cd=1&source=gbs_api', 'infoLink': 'http://books.google.it/books?id=qS9yDwAAQBAJ&dq=intitle:None&hl=&source=gbs_api', 'canonicalVolumeLink': 'https://books.google.com/books/about/And_Then_There_Were_None_%D0%98_%D0%BD%D0%B8%D0%BA%D0%BE%D0%B3%D0%BE.html?hl=&id=qS9yDwAAQBAJ', 'subtitle': 'Not available', 'averageRating': 'Not available', 'ratingsCount': 'Not available', 'seriesInfo': 'Not available'}, score: 0.14478762049941643), context=None, document_offset=ExtractedAnswer.Span(start=558, end=564), context_offset=None, meta={}) \n",
            "\n",
            "ExtractedAnswer(query='Who is the author of the people of paper?', score=0.35764506459236145, data='2018-10-09', document=Document(id=e7589d9912517481ba7ca4862f0c2cedfa4c8a9fc11b30265e1d8c95fa8b4cdf, content: 'Title: And Then There Were None / И никого не стало. Книга для чтения на английском языке;\n",
            "Writer/Au...', meta: {'title': 'And Then There Were None / И никого не стало. Книга для чтения на английском языке', 'authors': 'Агата Кристи', 'publisher': 'Litres', 'publishedDate': '2018-10-09', 'industryIdentifiers': \"{'type': 'ISBN_13', 'identifier': '9785041375676'}, {'type': 'ISBN_10', 'identifier': '5041375674'}\", 'readingModes': {'text': True, 'image': True}, 'pageCount': 469, 'printType': 'BOOK', 'categories': 'Foreign Language Study', 'maturityRating': 'NOT_MATURE', 'allowAnonLogging': True, 'contentVersion': '1.6.6.0.preview.3', 'panelizationSummary': {'containsEpubBubbles': False, 'containsImageBubbles': False}, 'imageLinks': {'smallThumbnail': 'http://books.google.com/books/content?id=qS9yDwAAQBAJ&printsec=frontcover&img=1&zoom=5&edge=curl&source=gbs_api', 'thumbnail': 'http://books.google.com/books/content?id=qS9yDwAAQBAJ&printsec=frontcover&img=1&zoom=1&edge=curl&source=gbs_api'}, 'language': 'en', 'previewLink': 'http://books.google.it/books?id=qS9yDwAAQBAJ&printsec=frontcover&dq=intitle:None&hl=&cd=1&source=gbs_api', 'infoLink': 'http://books.google.it/books?id=qS9yDwAAQBAJ&dq=intitle:None&hl=&source=gbs_api', 'canonicalVolumeLink': 'https://books.google.com/books/about/And_Then_There_Were_None_%D0%98_%D0%BD%D0%B8%D0%BA%D0%BE%D0%B3%D0%BE.html?hl=&id=qS9yDwAAQBAJ', 'subtitle': 'Not available', 'averageRating': 'Not available', 'ratingsCount': 'Not available', 'seriesInfo': 'Not available'}, score: 0.14478762049941643), context=None, document_offset=ExtractedAnswer.Span(start=578, end=588), context_offset=None, meta={}) \n",
            "\n",
            "ExtractedAnswer(query='Who is the author of the people of paper?', score=0.1970071799524445, data=None, document=None, context=None, document_offset=None, context_offset=None, meta={}) \n",
            "\n",
            "['martian', None, None, 'kevin', None, 'eragon', None, '5', '1', '1', '2', None, 'five', None, None, 'american', 'titan', '3', 'percy jackson', '2666', '2', 'robert langdon', 'olive kitteridge', None, '1', '1', None, 'tehran', 'america', None, 'wolf hall', '1', 'hush', None, '4', '1', '4', None, '1', None, None, 'america', None, '1q84', 'hugo', '1', 'wolf', None, None, '1', 'eight', 'six', '1', None, '1', 'iron kissed', None, None, None, 'lirael (abhorsen', None, None, 'half', '1', '5', 'american', None, None, 'throne', None, '44', None, None, '2']\n",
            "book title is 2\n"
          ]
        },
        {
          "data": {
            "application/vnd.jupyter.widget-view+json": {
              "model_id": "d2cb4ce893434a16ad484f00dde9a2ec",
              "version_major": 2,
              "version_minor": 0
            },
            "text/plain": [
              "Batches:   0%|          | 0/1 [00:00<?, ?it/s]"
            ]
          },
          "metadata": {},
          "output_type": "display_data"
        },
        {
          "data": {
            "application/vnd.jupyter.widget-view+json": {
              "model_id": "06ba2d2a67aa4f0bb5f15ddf79f2d39c",
              "version_major": 2,
              "version_minor": 0
            },
            "text/plain": [
              "Batches:   0%|          | 0/1 [00:00<?, ?it/s]"
            ]
          },
          "metadata": {},
          "output_type": "display_data"
        },
        {
          "name": "stdout",
          "output_type": "stream",
          "text": [
            "ExtractedAnswer(query='Who is the author of lover eternal (black dagger brotherhood, #2)?', score=0.6657328009605408, data='Angelo Pezzana', document=Document(id=01cdab9394850832927c46cc52f8160140eb174ce94b3c6b714e0705fa7c6b14, content: 'Title: Storia della citta di Parma continuata;\n",
            "Writer/Author: Angelo Pezzana;\n",
            "Topic: Sorry, I am una...', meta: {'title': 'Storia della citta di Parma continuata', 'subtitle': '1401 - 1449. 2', 'authors': 'Angelo Pezzana', 'publishedDate': '1842', 'industryIdentifiers': \"{'type': 'OTHER', 'identifier': 'ONB:+Z168004004'}\", 'readingModes': {'text': False, 'image': True}, 'pageCount': 882, 'printType': 'BOOK', 'maturityRating': 'NOT_MATURE', 'allowAnonLogging': False, 'contentVersion': '0.6.5.0.full.1', 'panelizationSummary': {'containsEpubBubbles': False, 'containsImageBubbles': False}, 'imageLinks': {'smallThumbnail': 'http://books.google.com/books/content?id=pc9TAAAAcAAJ&printsec=frontcover&img=1&zoom=5&edge=curl&source=gbs_api', 'thumbnail': 'http://books.google.com/books/content?id=pc9TAAAAcAAJ&printsec=frontcover&img=1&zoom=1&edge=curl&source=gbs_api'}, 'language': 'it', 'previewLink': 'http://books.google.it/books?id=pc9TAAAAcAAJ&printsec=frontcover&dq=intitle:2&hl=&cd=1&source=gbs_api', 'infoLink': 'https://play.google.com/store/books/details?id=pc9TAAAAcAAJ&source=gbs_api', 'canonicalVolumeLink': 'https://play.google.com/store/books/details?id=pc9TAAAAcAAJ', 'publisher': 'Not available', 'categories': 'Not available', 'averageRating': 'Not available', 'ratingsCount': 'Not available', 'seriesInfo': 'Not available'}, score: 0.39291430293392815), context=None, document_offset=ExtractedAnswer.Span(start=62, end=76), context_offset=None, meta={}) \n",
            "\n",
            "ExtractedAnswer(query='Who is the author of lover eternal (black dagger brotherhood, #2)?', score=0.33426719903945923, data=None, document=None, context=None, document_offset=None, context_offset=None, meta={}) \n",
            "\n",
            "['martian', None, None, 'kevin', None, 'eragon', None, '5', '1', '1', '2', None, 'five', None, None, 'american', 'titan', '3', 'percy jackson', '2666', '2', 'robert langdon', 'olive kitteridge', None, '1', '1', None, 'tehran', 'america', None, 'wolf hall', '1', 'hush', None, '4', '1', '4', None, '1', None, None, 'america', None, '1q84', 'hugo', '1', 'wolf', None, None, '1', 'eight', 'six', '1', None, '1', 'iron kissed', None, None, None, 'lirael (abhorsen', None, None, 'half', '1', '5', 'american', None, None, 'throne', None, '44', None, None, '2', '2']\n",
            "book title is 2\n"
          ]
        },
        {
          "data": {
            "application/vnd.jupyter.widget-view+json": {
              "model_id": "02eeab1a50c74c748a06c316fc04a4df",
              "version_major": 2,
              "version_minor": 0
            },
            "text/plain": [
              "Batches:   0%|          | 0/1 [00:00<?, ?it/s]"
            ]
          },
          "metadata": {},
          "output_type": "display_data"
        },
        {
          "data": {
            "application/vnd.jupyter.widget-view+json": {
              "model_id": "aa4fa316c087431eb48c3b1d525a8553",
              "version_major": 2,
              "version_minor": 0
            },
            "text/plain": [
              "Batches:   0%|          | 0/1 [00:00<?, ?it/s]"
            ]
          },
          "metadata": {},
          "output_type": "display_data"
        },
        {
          "name": "stdout",
          "output_type": "stream",
          "text": [
            "ExtractedAnswer(query='Who is the author of a court of mist and fury (a court of thorns and roses, #2)?', score=0.6537554264068604, data='Angelo Pezzana', document=Document(id=01cdab9394850832927c46cc52f8160140eb174ce94b3c6b714e0705fa7c6b14, content: 'Title: Storia della citta di Parma continuata;\n",
            "Writer/Author: Angelo Pezzana;\n",
            "Topic: Sorry, I am una...', meta: {'title': 'Storia della citta di Parma continuata', 'subtitle': '1401 - 1449. 2', 'authors': 'Angelo Pezzana', 'publishedDate': '1842', 'industryIdentifiers': \"{'type': 'OTHER', 'identifier': 'ONB:+Z168004004'}\", 'readingModes': {'text': False, 'image': True}, 'pageCount': 882, 'printType': 'BOOK', 'maturityRating': 'NOT_MATURE', 'allowAnonLogging': False, 'contentVersion': '0.6.5.0.full.1', 'panelizationSummary': {'containsEpubBubbles': False, 'containsImageBubbles': False}, 'imageLinks': {'smallThumbnail': 'http://books.google.com/books/content?id=pc9TAAAAcAAJ&printsec=frontcover&img=1&zoom=5&edge=curl&source=gbs_api', 'thumbnail': 'http://books.google.com/books/content?id=pc9TAAAAcAAJ&printsec=frontcover&img=1&zoom=1&edge=curl&source=gbs_api'}, 'language': 'it', 'previewLink': 'http://books.google.it/books?id=pc9TAAAAcAAJ&printsec=frontcover&dq=intitle:2&hl=&cd=1&source=gbs_api', 'infoLink': 'https://play.google.com/store/books/details?id=pc9TAAAAcAAJ&source=gbs_api', 'canonicalVolumeLink': 'https://play.google.com/store/books/details?id=pc9TAAAAcAAJ', 'publisher': 'Not available', 'categories': 'Not available', 'averageRating': 'Not available', 'ratingsCount': 'Not available', 'seriesInfo': 'Not available'}, score: 0.2547369050221981), context=None, document_offset=ExtractedAnswer.Span(start=62, end=76), context_offset=None, meta={}) \n",
            "\n",
            "ExtractedAnswer(query='Who is the author of a court of mist and fury (a court of thorns and roses, #2)?', score=0.34624457359313965, data=None, document=None, context=None, document_offset=None, context_offset=None, meta={}) \n",
            "\n",
            "['martian', None, None, 'kevin', None, 'eragon', None, '5', '1', '1', '2', None, 'five', None, None, 'american', 'titan', '3', 'percy jackson', '2666', '2', 'robert langdon', 'olive kitteridge', None, '1', '1', None, 'tehran', 'america', None, 'wolf hall', '1', 'hush', None, '4', '1', '4', None, '1', None, None, 'america', None, '1q84', 'hugo', '1', 'wolf', None, None, '1', 'eight', 'six', '1', None, '1', 'iron kissed', None, None, None, 'lirael (abhorsen', None, None, 'half', '1', '5', 'american', None, None, 'throne', None, '44', None, None, '2', '2', None]\n",
            "book title is None\n"
          ]
        },
        {
          "data": {
            "application/vnd.jupyter.widget-view+json": {
              "model_id": "42b645a17b6849a0b73beb6806c28a20",
              "version_major": 2,
              "version_minor": 0
            },
            "text/plain": [
              "Batches:   0%|          | 0/1 [00:00<?, ?it/s]"
            ]
          },
          "metadata": {},
          "output_type": "display_data"
        },
        {
          "data": {
            "application/vnd.jupyter.widget-view+json": {
              "model_id": "f70793044fc849478f637cb707086303",
              "version_major": 2,
              "version_minor": 0
            },
            "text/plain": [
              "Batches:   0%|          | 0/1 [00:00<?, ?it/s]"
            ]
          },
          "metadata": {},
          "output_type": "display_data"
        },
        {
          "name": "stdout",
          "output_type": "stream",
          "text": [
            "ExtractedAnswer(query='Who is the author of hotel on the corner of bitter and sweet?', score=0.4542523920536041, data='Агата Кристи', document=Document(id=e7589d9912517481ba7ca4862f0c2cedfa4c8a9fc11b30265e1d8c95fa8b4cdf, content: 'Title: And Then There Were None / И никого не стало. Книга для чтения на английском языке;\n",
            "Writer/Au...', meta: {'title': 'And Then There Were None / И никого не стало. Книга для чтения на английском языке', 'authors': 'Агата Кристи', 'publisher': 'Litres', 'publishedDate': '2018-10-09', 'industryIdentifiers': \"{'type': 'ISBN_13', 'identifier': '9785041375676'}, {'type': 'ISBN_10', 'identifier': '5041375674'}\", 'readingModes': {'text': True, 'image': True}, 'pageCount': 469, 'printType': 'BOOK', 'categories': 'Foreign Language Study', 'maturityRating': 'NOT_MATURE', 'allowAnonLogging': True, 'contentVersion': '1.6.6.0.preview.3', 'panelizationSummary': {'containsEpubBubbles': False, 'containsImageBubbles': False}, 'imageLinks': {'smallThumbnail': 'http://books.google.com/books/content?id=qS9yDwAAQBAJ&printsec=frontcover&img=1&zoom=5&edge=curl&source=gbs_api', 'thumbnail': 'http://books.google.com/books/content?id=qS9yDwAAQBAJ&printsec=frontcover&img=1&zoom=1&edge=curl&source=gbs_api'}, 'language': 'en', 'previewLink': 'http://books.google.it/books?id=qS9yDwAAQBAJ&printsec=frontcover&dq=intitle:None&hl=&cd=1&source=gbs_api', 'infoLink': 'http://books.google.it/books?id=qS9yDwAAQBAJ&dq=intitle:None&hl=&source=gbs_api', 'canonicalVolumeLink': 'https://books.google.com/books/about/And_Then_There_Were_None_%D0%98_%D0%BD%D0%B8%D0%BA%D0%BE%D0%B3%D0%BE.html?hl=&id=qS9yDwAAQBAJ', 'subtitle': 'Not available', 'averageRating': 'Not available', 'ratingsCount': 'Not available', 'seriesInfo': 'Not available'}, score: 0.04130223770037057), context=None, document_offset=ExtractedAnswer.Span(start=106, end=118), context_offset=None, meta={}) \n",
            "\n",
            "ExtractedAnswer(query='Who is the author of hotel on the corner of bitter and sweet?', score=0.327347069978714, data='Foreign Language Study;\\nNumber of pages: 469;\\nPublished by: Litres', document=Document(id=e7589d9912517481ba7ca4862f0c2cedfa4c8a9fc11b30265e1d8c95fa8b4cdf, content: 'Title: And Then There Were None / И никого не стало. Книга для чтения на английском языке;\n",
            "Writer/Au...', meta: {'title': 'And Then There Were None / И никого не стало. Книга для чтения на английском языке', 'authors': 'Агата Кристи', 'publisher': 'Litres', 'publishedDate': '2018-10-09', 'industryIdentifiers': \"{'type': 'ISBN_13', 'identifier': '9785041375676'}, {'type': 'ISBN_10', 'identifier': '5041375674'}\", 'readingModes': {'text': True, 'image': True}, 'pageCount': 469, 'printType': 'BOOK', 'categories': 'Foreign Language Study', 'maturityRating': 'NOT_MATURE', 'allowAnonLogging': True, 'contentVersion': '1.6.6.0.preview.3', 'panelizationSummary': {'containsEpubBubbles': False, 'containsImageBubbles': False}, 'imageLinks': {'smallThumbnail': 'http://books.google.com/books/content?id=qS9yDwAAQBAJ&printsec=frontcover&img=1&zoom=5&edge=curl&source=gbs_api', 'thumbnail': 'http://books.google.com/books/content?id=qS9yDwAAQBAJ&printsec=frontcover&img=1&zoom=1&edge=curl&source=gbs_api'}, 'language': 'en', 'previewLink': 'http://books.google.it/books?id=qS9yDwAAQBAJ&printsec=frontcover&dq=intitle:None&hl=&cd=1&source=gbs_api', 'infoLink': 'http://books.google.it/books?id=qS9yDwAAQBAJ&dq=intitle:None&hl=&source=gbs_api', 'canonicalVolumeLink': 'https://books.google.com/books/about/And_Then_There_Were_None_%D0%98_%D0%BD%D0%B8%D0%BA%D0%BE%D0%B3%D0%BE.html?hl=&id=qS9yDwAAQBAJ', 'subtitle': 'Not available', 'averageRating': 'Not available', 'ratingsCount': 'Not available', 'seriesInfo': 'Not available'}, score: 0.04130223770037057), context=None, document_offset=ExtractedAnswer.Span(start=498, end=564), context_offset=None, meta={}) \n",
            "\n",
            "ExtractedAnswer(query='Who is the author of hotel on the corner of bitter and sweet?', score=0.29330673813819885, data='2018-10-09', document=Document(id=e7589d9912517481ba7ca4862f0c2cedfa4c8a9fc11b30265e1d8c95fa8b4cdf, content: 'Title: And Then There Were None / И никого не стало. Книга для чтения на английском языке;\n",
            "Writer/Au...', meta: {'title': 'And Then There Were None / И никого не стало. Книга для чтения на английском языке', 'authors': 'Агата Кристи', 'publisher': 'Litres', 'publishedDate': '2018-10-09', 'industryIdentifiers': \"{'type': 'ISBN_13', 'identifier': '9785041375676'}, {'type': 'ISBN_10', 'identifier': '5041375674'}\", 'readingModes': {'text': True, 'image': True}, 'pageCount': 469, 'printType': 'BOOK', 'categories': 'Foreign Language Study', 'maturityRating': 'NOT_MATURE', 'allowAnonLogging': True, 'contentVersion': '1.6.6.0.preview.3', 'panelizationSummary': {'containsEpubBubbles': False, 'containsImageBubbles': False}, 'imageLinks': {'smallThumbnail': 'http://books.google.com/books/content?id=qS9yDwAAQBAJ&printsec=frontcover&img=1&zoom=5&edge=curl&source=gbs_api', 'thumbnail': 'http://books.google.com/books/content?id=qS9yDwAAQBAJ&printsec=frontcover&img=1&zoom=1&edge=curl&source=gbs_api'}, 'language': 'en', 'previewLink': 'http://books.google.it/books?id=qS9yDwAAQBAJ&printsec=frontcover&dq=intitle:None&hl=&cd=1&source=gbs_api', 'infoLink': 'http://books.google.it/books?id=qS9yDwAAQBAJ&dq=intitle:None&hl=&source=gbs_api', 'canonicalVolumeLink': 'https://books.google.com/books/about/And_Then_There_Were_None_%D0%98_%D0%BD%D0%B8%D0%BA%D0%BE%D0%B3%D0%BE.html?hl=&id=qS9yDwAAQBAJ', 'subtitle': 'Not available', 'averageRating': 'Not available', 'ratingsCount': 'Not available', 'seriesInfo': 'Not available'}, score: 0.04130223770037057), context=None, document_offset=ExtractedAnswer.Span(start=578, end=588), context_offset=None, meta={}) \n",
            "\n",
            "ExtractedAnswer(query='Who is the author of hotel on the corner of bitter and sweet?', score=0.2594261971886167, data=None, document=None, context=None, document_offset=None, context_offset=None, meta={}) \n",
            "\n",
            "['martian', None, None, 'kevin', None, 'eragon', None, '5', '1', '1', '2', None, 'five', None, None, 'american', 'titan', '3', 'percy jackson', '2666', '2', 'robert langdon', 'olive kitteridge', None, '1', '1', None, 'tehran', 'america', None, 'wolf hall', '1', 'hush', None, '4', '1', '4', None, '1', None, None, 'america', None, '1q84', 'hugo', '1', 'wolf', None, None, '1', 'eight', 'six', '1', None, '1', 'iron kissed', None, None, None, 'lirael (abhorsen', None, None, 'half', '1', '5', 'american', None, None, 'throne', None, '44', None, None, '2', '2', None, None]\n",
            "book title is None\n"
          ]
        },
        {
          "data": {
            "application/vnd.jupyter.widget-view+json": {
              "model_id": "b312fe6cd4b1473d95c88749fcc12ada",
              "version_major": 2,
              "version_minor": 0
            },
            "text/plain": [
              "Batches:   0%|          | 0/1 [00:00<?, ?it/s]"
            ]
          },
          "metadata": {},
          "output_type": "display_data"
        },
        {
          "data": {
            "application/vnd.jupyter.widget-view+json": {
              "model_id": "377f7698d05b421cb00b93285ac95355",
              "version_major": 2,
              "version_minor": 0
            },
            "text/plain": [
              "Batches:   0%|          | 0/1 [00:00<?, ?it/s]"
            ]
          },
          "metadata": {},
          "output_type": "display_data"
        },
        {
          "name": "stdout",
          "output_type": "stream",
          "text": [
            "ExtractedAnswer(query='Who is the author of oblivion: stories?', score=0.37373921275138855, data='Агата Кристи', document=Document(id=e7589d9912517481ba7ca4862f0c2cedfa4c8a9fc11b30265e1d8c95fa8b4cdf, content: 'Title: And Then There Were None / И никого не стало. Книга для чтения на английском языке;\n",
            "Writer/Au...', meta: {'title': 'And Then There Were None / И никого не стало. Книга для чтения на английском языке', 'authors': 'Агата Кристи', 'publisher': 'Litres', 'publishedDate': '2018-10-09', 'industryIdentifiers': \"{'type': 'ISBN_13', 'identifier': '9785041375676'}, {'type': 'ISBN_10', 'identifier': '5041375674'}\", 'readingModes': {'text': True, 'image': True}, 'pageCount': 469, 'printType': 'BOOK', 'categories': 'Foreign Language Study', 'maturityRating': 'NOT_MATURE', 'allowAnonLogging': True, 'contentVersion': '1.6.6.0.preview.3', 'panelizationSummary': {'containsEpubBubbles': False, 'containsImageBubbles': False}, 'imageLinks': {'smallThumbnail': 'http://books.google.com/books/content?id=qS9yDwAAQBAJ&printsec=frontcover&img=1&zoom=5&edge=curl&source=gbs_api', 'thumbnail': 'http://books.google.com/books/content?id=qS9yDwAAQBAJ&printsec=frontcover&img=1&zoom=1&edge=curl&source=gbs_api'}, 'language': 'en', 'previewLink': 'http://books.google.it/books?id=qS9yDwAAQBAJ&printsec=frontcover&dq=intitle:None&hl=&cd=1&source=gbs_api', 'infoLink': 'http://books.google.it/books?id=qS9yDwAAQBAJ&dq=intitle:None&hl=&source=gbs_api', 'canonicalVolumeLink': 'https://books.google.com/books/about/And_Then_There_Were_None_%D0%98_%D0%BD%D0%B8%D0%BA%D0%BE%D0%B3%D0%BE.html?hl=&id=qS9yDwAAQBAJ', 'subtitle': 'Not available', 'averageRating': 'Not available', 'ratingsCount': 'Not available', 'seriesInfo': 'Not available'}, score: 0.15108414258190883), context=None, document_offset=ExtractedAnswer.Span(start=106, end=118), context_offset=None, meta={}) \n",
            "\n",
            "ExtractedAnswer(query='Who is the author of oblivion: stories?', score=0.33053867169023, data=None, document=None, context=None, document_offset=None, context_offset=None, meta={}) \n",
            "\n",
            "ExtractedAnswer(query='Who is the author of oblivion: stories?', score=0.28727129101753235, data='Foreign Language Study;\\nNumber of pages: 469;\\nPublished by: Litres', document=Document(id=e7589d9912517481ba7ca4862f0c2cedfa4c8a9fc11b30265e1d8c95fa8b4cdf, content: 'Title: And Then There Were None / И никого не стало. Книга для чтения на английском языке;\n",
            "Writer/Au...', meta: {'title': 'And Then There Were None / И никого не стало. Книга для чтения на английском языке', 'authors': 'Агата Кристи', 'publisher': 'Litres', 'publishedDate': '2018-10-09', 'industryIdentifiers': \"{'type': 'ISBN_13', 'identifier': '9785041375676'}, {'type': 'ISBN_10', 'identifier': '5041375674'}\", 'readingModes': {'text': True, 'image': True}, 'pageCount': 469, 'printType': 'BOOK', 'categories': 'Foreign Language Study', 'maturityRating': 'NOT_MATURE', 'allowAnonLogging': True, 'contentVersion': '1.6.6.0.preview.3', 'panelizationSummary': {'containsEpubBubbles': False, 'containsImageBubbles': False}, 'imageLinks': {'smallThumbnail': 'http://books.google.com/books/content?id=qS9yDwAAQBAJ&printsec=frontcover&img=1&zoom=5&edge=curl&source=gbs_api', 'thumbnail': 'http://books.google.com/books/content?id=qS9yDwAAQBAJ&printsec=frontcover&img=1&zoom=1&edge=curl&source=gbs_api'}, 'language': 'en', 'previewLink': 'http://books.google.it/books?id=qS9yDwAAQBAJ&printsec=frontcover&dq=intitle:None&hl=&cd=1&source=gbs_api', 'infoLink': 'http://books.google.it/books?id=qS9yDwAAQBAJ&dq=intitle:None&hl=&source=gbs_api', 'canonicalVolumeLink': 'https://books.google.com/books/about/And_Then_There_Were_None_%D0%98_%D0%BD%D0%B8%D0%BA%D0%BE%D0%B3%D0%BE.html?hl=&id=qS9yDwAAQBAJ', 'subtitle': 'Not available', 'averageRating': 'Not available', 'ratingsCount': 'Not available', 'seriesInfo': 'Not available'}, score: 0.15108414258190883), context=None, document_offset=ExtractedAnswer.Span(start=498, end=564), context_offset=None, meta={}) \n",
            "\n",
            "ExtractedAnswer(query='Who is the author of oblivion: stories?', score=0.25946974754333496, data='2018-10-09', document=Document(id=e7589d9912517481ba7ca4862f0c2cedfa4c8a9fc11b30265e1d8c95fa8b4cdf, content: 'Title: And Then There Were None / И никого не стало. Книга для чтения на английском языке;\n",
            "Writer/Au...', meta: {'title': 'And Then There Were None / И никого не стало. Книга для чтения на английском языке', 'authors': 'Агата Кристи', 'publisher': 'Litres', 'publishedDate': '2018-10-09', 'industryIdentifiers': \"{'type': 'ISBN_13', 'identifier': '9785041375676'}, {'type': 'ISBN_10', 'identifier': '5041375674'}\", 'readingModes': {'text': True, 'image': True}, 'pageCount': 469, 'printType': 'BOOK', 'categories': 'Foreign Language Study', 'maturityRating': 'NOT_MATURE', 'allowAnonLogging': True, 'contentVersion': '1.6.6.0.preview.3', 'panelizationSummary': {'containsEpubBubbles': False, 'containsImageBubbles': False}, 'imageLinks': {'smallThumbnail': 'http://books.google.com/books/content?id=qS9yDwAAQBAJ&printsec=frontcover&img=1&zoom=5&edge=curl&source=gbs_api', 'thumbnail': 'http://books.google.com/books/content?id=qS9yDwAAQBAJ&printsec=frontcover&img=1&zoom=1&edge=curl&source=gbs_api'}, 'language': 'en', 'previewLink': 'http://books.google.it/books?id=qS9yDwAAQBAJ&printsec=frontcover&dq=intitle:None&hl=&cd=1&source=gbs_api', 'infoLink': 'http://books.google.it/books?id=qS9yDwAAQBAJ&dq=intitle:None&hl=&source=gbs_api', 'canonicalVolumeLink': 'https://books.google.com/books/about/And_Then_There_Were_None_%D0%98_%D0%BD%D0%B8%D0%BA%D0%BE%D0%B3%D0%BE.html?hl=&id=qS9yDwAAQBAJ', 'subtitle': 'Not available', 'averageRating': 'Not available', 'ratingsCount': 'Not available', 'seriesInfo': 'Not available'}, score: 0.15108414258190883), context=None, document_offset=ExtractedAnswer.Span(start=578, end=588), context_offset=None, meta={}) \n",
            "\n",
            "['martian', None, None, 'kevin', None, 'eragon', None, '5', '1', '1', '2', None, 'five', None, None, 'american', 'titan', '3', 'percy jackson', '2666', '2', 'robert langdon', 'olive kitteridge', None, '1', '1', None, 'tehran', 'america', None, 'wolf hall', '1', 'hush', None, '4', '1', '4', None, '1', None, None, 'america', None, '1q84', 'hugo', '1', 'wolf', None, None, '1', 'eight', 'six', '1', None, '1', 'iron kissed', None, None, None, 'lirael (abhorsen', None, None, 'half', '1', '5', 'american', None, None, 'throne', None, '44', None, None, '2', '2', None, None, None]\n",
            "book title is None\n"
          ]
        },
        {
          "data": {
            "application/vnd.jupyter.widget-view+json": {
              "model_id": "2220a445b30c4693a9181f07f18c17c1",
              "version_major": 2,
              "version_minor": 0
            },
            "text/plain": [
              "Batches:   0%|          | 0/1 [00:00<?, ?it/s]"
            ]
          },
          "metadata": {},
          "output_type": "display_data"
        },
        {
          "data": {
            "application/vnd.jupyter.widget-view+json": {
              "model_id": "8873862499c640d59258bd1217707ff1",
              "version_major": 2,
              "version_minor": 0
            },
            "text/plain": [
              "Batches:   0%|          | 0/1 [00:00<?, ?it/s]"
            ]
          },
          "metadata": {},
          "output_type": "display_data"
        },
        {
          "name": "stdout",
          "output_type": "stream",
          "text": [
            "ExtractedAnswer(query='Who is the author of suite française?', score=0.4879719018936157, data='Агата Кристи', document=Document(id=e7589d9912517481ba7ca4862f0c2cedfa4c8a9fc11b30265e1d8c95fa8b4cdf, content: 'Title: And Then There Were None / И никого не стало. Книга для чтения на английском языке;\n",
            "Writer/Au...', meta: {'title': 'And Then There Were None / И никого не стало. Книга для чтения на английском языке', 'authors': 'Агата Кристи', 'publisher': 'Litres', 'publishedDate': '2018-10-09', 'industryIdentifiers': \"{'type': 'ISBN_13', 'identifier': '9785041375676'}, {'type': 'ISBN_10', 'identifier': '5041375674'}\", 'readingModes': {'text': True, 'image': True}, 'pageCount': 469, 'printType': 'BOOK', 'categories': 'Foreign Language Study', 'maturityRating': 'NOT_MATURE', 'allowAnonLogging': True, 'contentVersion': '1.6.6.0.preview.3', 'panelizationSummary': {'containsEpubBubbles': False, 'containsImageBubbles': False}, 'imageLinks': {'smallThumbnail': 'http://books.google.com/books/content?id=qS9yDwAAQBAJ&printsec=frontcover&img=1&zoom=5&edge=curl&source=gbs_api', 'thumbnail': 'http://books.google.com/books/content?id=qS9yDwAAQBAJ&printsec=frontcover&img=1&zoom=1&edge=curl&source=gbs_api'}, 'language': 'en', 'previewLink': 'http://books.google.it/books?id=qS9yDwAAQBAJ&printsec=frontcover&dq=intitle:None&hl=&cd=1&source=gbs_api', 'infoLink': 'http://books.google.it/books?id=qS9yDwAAQBAJ&dq=intitle:None&hl=&source=gbs_api', 'canonicalVolumeLink': 'https://books.google.com/books/about/And_Then_There_Were_None_%D0%98_%D0%BD%D0%B8%D0%BA%D0%BE%D0%B3%D0%BE.html?hl=&id=qS9yDwAAQBAJ', 'subtitle': 'Not available', 'averageRating': 'Not available', 'ratingsCount': 'Not available', 'seriesInfo': 'Not available'}, score: 0.11220103077644103), context=None, document_offset=ExtractedAnswer.Span(start=106, end=118), context_offset=None, meta={}) \n",
            "\n",
            "ExtractedAnswer(query='Who is the author of suite française?', score=0.37928223609924316, data='Foreign Language Study;\\nNumber of pages: 469;\\nPublished by: Litres', document=Document(id=e7589d9912517481ba7ca4862f0c2cedfa4c8a9fc11b30265e1d8c95fa8b4cdf, content: 'Title: And Then There Were None / И никого не стало. Книга для чтения на английском языке;\n",
            "Writer/Au...', meta: {'title': 'And Then There Were None / И никого не стало. Книга для чтения на английском языке', 'authors': 'Агата Кристи', 'publisher': 'Litres', 'publishedDate': '2018-10-09', 'industryIdentifiers': \"{'type': 'ISBN_13', 'identifier': '9785041375676'}, {'type': 'ISBN_10', 'identifier': '5041375674'}\", 'readingModes': {'text': True, 'image': True}, 'pageCount': 469, 'printType': 'BOOK', 'categories': 'Foreign Language Study', 'maturityRating': 'NOT_MATURE', 'allowAnonLogging': True, 'contentVersion': '1.6.6.0.preview.3', 'panelizationSummary': {'containsEpubBubbles': False, 'containsImageBubbles': False}, 'imageLinks': {'smallThumbnail': 'http://books.google.com/books/content?id=qS9yDwAAQBAJ&printsec=frontcover&img=1&zoom=5&edge=curl&source=gbs_api', 'thumbnail': 'http://books.google.com/books/content?id=qS9yDwAAQBAJ&printsec=frontcover&img=1&zoom=1&edge=curl&source=gbs_api'}, 'language': 'en', 'previewLink': 'http://books.google.it/books?id=qS9yDwAAQBAJ&printsec=frontcover&dq=intitle:None&hl=&cd=1&source=gbs_api', 'infoLink': 'http://books.google.it/books?id=qS9yDwAAQBAJ&dq=intitle:None&hl=&source=gbs_api', 'canonicalVolumeLink': 'https://books.google.com/books/about/And_Then_There_Were_None_%D0%98_%D0%BD%D0%B8%D0%BA%D0%BE%D0%B3%D0%BE.html?hl=&id=qS9yDwAAQBAJ', 'subtitle': 'Not available', 'averageRating': 'Not available', 'ratingsCount': 'Not available', 'seriesInfo': 'Not available'}, score: 0.11220103077644103), context=None, document_offset=ExtractedAnswer.Span(start=498, end=564), context_offset=None, meta={}) \n",
            "\n",
            "ExtractedAnswer(query='Who is the author of suite française?', score=0.34500280022621155, data='2018-10-09', document=Document(id=e7589d9912517481ba7ca4862f0c2cedfa4c8a9fc11b30265e1d8c95fa8b4cdf, content: 'Title: And Then There Were None / И никого не стало. Книга для чтения на английском языке;\n",
            "Writer/Au...', meta: {'title': 'And Then There Were None / И никого не стало. Книга для чтения на английском языке', 'authors': 'Агата Кристи', 'publisher': 'Litres', 'publishedDate': '2018-10-09', 'industryIdentifiers': \"{'type': 'ISBN_13', 'identifier': '9785041375676'}, {'type': 'ISBN_10', 'identifier': '5041375674'}\", 'readingModes': {'text': True, 'image': True}, 'pageCount': 469, 'printType': 'BOOK', 'categories': 'Foreign Language Study', 'maturityRating': 'NOT_MATURE', 'allowAnonLogging': True, 'contentVersion': '1.6.6.0.preview.3', 'panelizationSummary': {'containsEpubBubbles': False, 'containsImageBubbles': False}, 'imageLinks': {'smallThumbnail': 'http://books.google.com/books/content?id=qS9yDwAAQBAJ&printsec=frontcover&img=1&zoom=5&edge=curl&source=gbs_api', 'thumbnail': 'http://books.google.com/books/content?id=qS9yDwAAQBAJ&printsec=frontcover&img=1&zoom=1&edge=curl&source=gbs_api'}, 'language': 'en', 'previewLink': 'http://books.google.it/books?id=qS9yDwAAQBAJ&printsec=frontcover&dq=intitle:None&hl=&cd=1&source=gbs_api', 'infoLink': 'http://books.google.it/books?id=qS9yDwAAQBAJ&dq=intitle:None&hl=&source=gbs_api', 'canonicalVolumeLink': 'https://books.google.com/books/about/And_Then_There_Were_None_%D0%98_%D0%BD%D0%B8%D0%BA%D0%BE%D0%B3%D0%BE.html?hl=&id=qS9yDwAAQBAJ', 'subtitle': 'Not available', 'averageRating': 'Not available', 'ratingsCount': 'Not available', 'seriesInfo': 'Not available'}, score: 0.11220103077644103), context=None, document_offset=ExtractedAnswer.Span(start=578, end=588), context_offset=None, meta={}) \n",
            "\n",
            "ExtractedAnswer(query='Who is the author of suite française?', score=0.2081744431709569, data=None, document=None, context=None, document_offset=None, context_offset=None, meta={}) \n",
            "\n",
            "['martian', None, None, 'kevin', None, 'eragon', None, '5', '1', '1', '2', None, 'five', None, None, 'american', 'titan', '3', 'percy jackson', '2666', '2', 'robert langdon', 'olive kitteridge', None, '1', '1', None, 'tehran', 'america', None, 'wolf hall', '1', 'hush', None, '4', '1', '4', None, '1', None, None, 'america', None, '1q84', 'hugo', '1', 'wolf', None, None, '1', 'eight', 'six', '1', None, '1', 'iron kissed', None, None, None, 'lirael (abhorsen', None, None, 'half', '1', '5', 'american', None, None, 'throne', None, '44', None, None, '2', '2', None, None, None, '1']\n",
            "book title is 1\n"
          ]
        },
        {
          "data": {
            "application/vnd.jupyter.widget-view+json": {
              "model_id": "5f6ebd77c0d84517998d8ebb3910cf52",
              "version_major": 2,
              "version_minor": 0
            },
            "text/plain": [
              "Batches:   0%|          | 0/1 [00:00<?, ?it/s]"
            ]
          },
          "metadata": {},
          "output_type": "display_data"
        },
        {
          "data": {
            "application/vnd.jupyter.widget-view+json": {
              "model_id": "df2769b302d04122808a9edd4b377626",
              "version_major": 2,
              "version_minor": 0
            },
            "text/plain": [
              "Batches:   0%|          | 0/1 [00:00<?, ?it/s]"
            ]
          },
          "metadata": {},
          "output_type": "display_data"
        },
        {
          "name": "stdout",
          "output_type": "stream",
          "text": [
            "ExtractedAnswer(query='Who is the author of the passage (the passage, #1)?', score=0.7897293567657471, data='Giacomo Leopardi', document=Document(id=48eb59a7ddf02190e2da31a36a83e22189b0595bc280eb603ae9f4ea74c47f36, content: 'Title: Opere Di Giacomo Leopardi, Vol. 1 (Classic Reprint);\n",
            "Writer/Author: Giacomo Leopardi;\n",
            "Topic: ...', meta: {'title': 'Opere Di Giacomo Leopardi, Vol. 1 (Classic Reprint)', 'authors': 'Giacomo Leopardi', 'publisher': 'Forgotten Books', 'publishedDate': '2017-10-16', 'industryIdentifiers': \"{'type': 'ISBN_10', 'identifier': '0265393299'}, {'type': 'ISBN_13', 'identifier': '9780265393291'}\", 'readingModes': {'text': False, 'image': False}, 'pageCount': 366, 'printType': 'BOOK', 'categories': 'Poetry', 'maturityRating': 'NOT_MATURE', 'allowAnonLogging': False, 'contentVersion': 'preview-1.0.0', 'panelizationSummary': {'containsEpubBubbles': False, 'containsImageBubbles': False}, 'imageLinks': {'smallThumbnail': 'http://books.google.com/books/content?id=vcA9swEACAAJ&printsec=frontcover&img=1&zoom=5&source=gbs_api', 'thumbnail': 'http://books.google.com/books/content?id=vcA9swEACAAJ&printsec=frontcover&img=1&zoom=1&source=gbs_api'}, 'language': 'it', 'previewLink': 'http://books.google.it/books?id=vcA9swEACAAJ&dq=intitle:1&hl=&cd=1&source=gbs_api', 'infoLink': 'http://books.google.it/books?id=vcA9swEACAAJ&dq=intitle:1&hl=&source=gbs_api', 'canonicalVolumeLink': 'https://books.google.com/books/about/Opere_Di_Giacomo_Leopardi_Vol_1_Classic.html?hl=&id=vcA9swEACAAJ', 'subtitle': 'Not available', 'averageRating': 'Not available', 'ratingsCount': 'Not available', 'seriesInfo': 'Not available'}, score: 0.24075089691973706), context=None, document_offset=ExtractedAnswer.Span(start=75, end=91), context_offset=None, meta={}) \n",
            "\n",
            "ExtractedAnswer(query='Who is the author of the passage (the passage, #1)?', score=0.5929098129272461, data='Opere Di Giacomo Leopardi', document=Document(id=48eb59a7ddf02190e2da31a36a83e22189b0595bc280eb603ae9f4ea74c47f36, content: 'Title: Opere Di Giacomo Leopardi, Vol. 1 (Classic Reprint);\n",
            "Writer/Author: Giacomo Leopardi;\n",
            "Topic: ...', meta: {'title': 'Opere Di Giacomo Leopardi, Vol. 1 (Classic Reprint)', 'authors': 'Giacomo Leopardi', 'publisher': 'Forgotten Books', 'publishedDate': '2017-10-16', 'industryIdentifiers': \"{'type': 'ISBN_10', 'identifier': '0265393299'}, {'type': 'ISBN_13', 'identifier': '9780265393291'}\", 'readingModes': {'text': False, 'image': False}, 'pageCount': 366, 'printType': 'BOOK', 'categories': 'Poetry', 'maturityRating': 'NOT_MATURE', 'allowAnonLogging': False, 'contentVersion': 'preview-1.0.0', 'panelizationSummary': {'containsEpubBubbles': False, 'containsImageBubbles': False}, 'imageLinks': {'smallThumbnail': 'http://books.google.com/books/content?id=vcA9swEACAAJ&printsec=frontcover&img=1&zoom=5&source=gbs_api', 'thumbnail': 'http://books.google.com/books/content?id=vcA9swEACAAJ&printsec=frontcover&img=1&zoom=1&source=gbs_api'}, 'language': 'it', 'previewLink': 'http://books.google.it/books?id=vcA9swEACAAJ&dq=intitle:1&hl=&cd=1&source=gbs_api', 'infoLink': 'http://books.google.it/books?id=vcA9swEACAAJ&dq=intitle:1&hl=&source=gbs_api', 'canonicalVolumeLink': 'https://books.google.com/books/about/Opere_Di_Giacomo_Leopardi_Vol_1_Classic.html?hl=&id=vcA9swEACAAJ', 'subtitle': 'Not available', 'averageRating': 'Not available', 'ratingsCount': 'Not available', 'seriesInfo': 'Not available'}, score: 0.24075089691973706), context=None, document_offset=ExtractedAnswer.Span(start=7, end=32), context_offset=None, meta={}) \n",
            "\n",
            "ExtractedAnswer(query='Who is the author of the passage (the passage, #1)?', score=0.46747860312461853, data='Gaetano Turchi', document=Document(id=48eb59a7ddf02190e2da31a36a83e22189b0595bc280eb603ae9f4ea74c47f36, content: 'Title: Opere Di Giacomo Leopardi, Vol. 1 (Classic Reprint);\n",
            "Writer/Author: Giacomo Leopardi;\n",
            "Topic: ...', meta: {'title': 'Opere Di Giacomo Leopardi, Vol. 1 (Classic Reprint)', 'authors': 'Giacomo Leopardi', 'publisher': 'Forgotten Books', 'publishedDate': '2017-10-16', 'industryIdentifiers': \"{'type': 'ISBN_10', 'identifier': '0265393299'}, {'type': 'ISBN_13', 'identifier': '9780265393291'}\", 'readingModes': {'text': False, 'image': False}, 'pageCount': 366, 'printType': 'BOOK', 'categories': 'Poetry', 'maturityRating': 'NOT_MATURE', 'allowAnonLogging': False, 'contentVersion': 'preview-1.0.0', 'panelizationSummary': {'containsEpubBubbles': False, 'containsImageBubbles': False}, 'imageLinks': {'smallThumbnail': 'http://books.google.com/books/content?id=vcA9swEACAAJ&printsec=frontcover&img=1&zoom=5&source=gbs_api', 'thumbnail': 'http://books.google.com/books/content?id=vcA9swEACAAJ&printsec=frontcover&img=1&zoom=1&source=gbs_api'}, 'language': 'it', 'previewLink': 'http://books.google.it/books?id=vcA9swEACAAJ&dq=intitle:1&hl=&cd=1&source=gbs_api', 'infoLink': 'http://books.google.it/books?id=vcA9swEACAAJ&dq=intitle:1&hl=&source=gbs_api', 'canonicalVolumeLink': 'https://books.google.com/books/about/Opere_Di_Giacomo_Leopardi_Vol_1_Classic.html?hl=&id=vcA9swEACAAJ', 'subtitle': 'Not available', 'averageRating': 'Not available', 'ratingsCount': 'Not available', 'seriesInfo': 'Not available'}, score: 0.24075089691973706), context=None, document_offset=ExtractedAnswer.Span(start=946, end=960), context_offset=None, meta={}) \n",
            "\n",
            "ExtractedAnswer(query='Who is the author of the passage (the passage, #1)?', score=0.04558336055210663, data=None, document=None, context=None, document_offset=None, context_offset=None, meta={}) \n",
            "\n",
            "['martian', None, None, 'kevin', None, 'eragon', None, '5', '1', '1', '2', None, 'five', None, None, 'american', 'titan', '3', 'percy jackson', '2666', '2', 'robert langdon', 'olive kitteridge', None, '1', '1', None, 'tehran', 'america', None, 'wolf hall', '1', 'hush', None, '4', '1', '4', None, '1', None, None, 'america', None, '1q84', 'hugo', '1', 'wolf', None, None, '1', 'eight', 'six', '1', None, '1', 'iron kissed', None, None, None, 'lirael (abhorsen', None, None, 'half', '1', '5', 'american', None, None, 'throne', None, '44', None, None, '2', '2', None, None, None, '1', None]\n",
            "book title is None\n"
          ]
        },
        {
          "data": {
            "application/vnd.jupyter.widget-view+json": {
              "model_id": "5606dd02c44c4d8fa4504797e05395a0",
              "version_major": 2,
              "version_minor": 0
            },
            "text/plain": [
              "Batches:   0%|          | 0/1 [00:00<?, ?it/s]"
            ]
          },
          "metadata": {},
          "output_type": "display_data"
        },
        {
          "data": {
            "application/vnd.jupyter.widget-view+json": {
              "model_id": "40112f0e19ef4963a2e9dec2c27b7a21",
              "version_major": 2,
              "version_minor": 0
            },
            "text/plain": [
              "Batches:   0%|          | 0/1 [00:00<?, ?it/s]"
            ]
          },
          "metadata": {},
          "output_type": "display_data"
        },
        {
          "name": "stdout",
          "output_type": "stream",
          "text": [
            "ExtractedAnswer(query='Who is the author of mystic river?', score=0.4372904896736145, data='Агата Кристи', document=Document(id=e7589d9912517481ba7ca4862f0c2cedfa4c8a9fc11b30265e1d8c95fa8b4cdf, content: 'Title: And Then There Were None / И никого не стало. Книга для чтения на английском языке;\n",
            "Writer/Au...', meta: {'title': 'And Then There Were None / И никого не стало. Книга для чтения на английском языке', 'authors': 'Агата Кристи', 'publisher': 'Litres', 'publishedDate': '2018-10-09', 'industryIdentifiers': \"{'type': 'ISBN_13', 'identifier': '9785041375676'}, {'type': 'ISBN_10', 'identifier': '5041375674'}\", 'readingModes': {'text': True, 'image': True}, 'pageCount': 469, 'printType': 'BOOK', 'categories': 'Foreign Language Study', 'maturityRating': 'NOT_MATURE', 'allowAnonLogging': True, 'contentVersion': '1.6.6.0.preview.3', 'panelizationSummary': {'containsEpubBubbles': False, 'containsImageBubbles': False}, 'imageLinks': {'smallThumbnail': 'http://books.google.com/books/content?id=qS9yDwAAQBAJ&printsec=frontcover&img=1&zoom=5&edge=curl&source=gbs_api', 'thumbnail': 'http://books.google.com/books/content?id=qS9yDwAAQBAJ&printsec=frontcover&img=1&zoom=1&edge=curl&source=gbs_api'}, 'language': 'en', 'previewLink': 'http://books.google.it/books?id=qS9yDwAAQBAJ&printsec=frontcover&dq=intitle:None&hl=&cd=1&source=gbs_api', 'infoLink': 'http://books.google.it/books?id=qS9yDwAAQBAJ&dq=intitle:None&hl=&source=gbs_api', 'canonicalVolumeLink': 'https://books.google.com/books/about/And_Then_There_Were_None_%D0%98_%D0%BD%D0%B8%D0%BA%D0%BE%D0%B3%D0%BE.html?hl=&id=qS9yDwAAQBAJ', 'subtitle': 'Not available', 'averageRating': 'Not available', 'ratingsCount': 'Not available', 'seriesInfo': 'Not available'}, score: 0.04712856600214144), context=None, document_offset=ExtractedAnswer.Span(start=106, end=118), context_offset=None, meta={}) \n",
            "\n",
            "ExtractedAnswer(query='Who is the author of mystic river?', score=0.31122177839279175, data='Foreign Language Study;\\nNumber of pages: 469;\\nPublished by: Litres', document=Document(id=e7589d9912517481ba7ca4862f0c2cedfa4c8a9fc11b30265e1d8c95fa8b4cdf, content: 'Title: And Then There Were None / И никого не стало. Книга для чтения на английском языке;\n",
            "Writer/Au...', meta: {'title': 'And Then There Were None / И никого не стало. Книга для чтения на английском языке', 'authors': 'Агата Кристи', 'publisher': 'Litres', 'publishedDate': '2018-10-09', 'industryIdentifiers': \"{'type': 'ISBN_13', 'identifier': '9785041375676'}, {'type': 'ISBN_10', 'identifier': '5041375674'}\", 'readingModes': {'text': True, 'image': True}, 'pageCount': 469, 'printType': 'BOOK', 'categories': 'Foreign Language Study', 'maturityRating': 'NOT_MATURE', 'allowAnonLogging': True, 'contentVersion': '1.6.6.0.preview.3', 'panelizationSummary': {'containsEpubBubbles': False, 'containsImageBubbles': False}, 'imageLinks': {'smallThumbnail': 'http://books.google.com/books/content?id=qS9yDwAAQBAJ&printsec=frontcover&img=1&zoom=5&edge=curl&source=gbs_api', 'thumbnail': 'http://books.google.com/books/content?id=qS9yDwAAQBAJ&printsec=frontcover&img=1&zoom=1&edge=curl&source=gbs_api'}, 'language': 'en', 'previewLink': 'http://books.google.it/books?id=qS9yDwAAQBAJ&printsec=frontcover&dq=intitle:None&hl=&cd=1&source=gbs_api', 'infoLink': 'http://books.google.it/books?id=qS9yDwAAQBAJ&dq=intitle:None&hl=&source=gbs_api', 'canonicalVolumeLink': 'https://books.google.com/books/about/And_Then_There_Were_None_%D0%98_%D0%BD%D0%B8%D0%BA%D0%BE%D0%B3%D0%BE.html?hl=&id=qS9yDwAAQBAJ', 'subtitle': 'Not available', 'averageRating': 'Not available', 'ratingsCount': 'Not available', 'seriesInfo': 'Not available'}, score: 0.04712856600214144), context=None, document_offset=ExtractedAnswer.Span(start=498, end=564), context_offset=None, meta={}) \n",
            "\n",
            "ExtractedAnswer(query='Who is the author of mystic river?', score=0.295149564743042, data='2018-10-09', document=Document(id=e7589d9912517481ba7ca4862f0c2cedfa4c8a9fc11b30265e1d8c95fa8b4cdf, content: 'Title: And Then There Were None / И никого не стало. Книга для чтения на английском языке;\n",
            "Writer/Au...', meta: {'title': 'And Then There Were None / И никого не стало. Книга для чтения на английском языке', 'authors': 'Агата Кристи', 'publisher': 'Litres', 'publishedDate': '2018-10-09', 'industryIdentifiers': \"{'type': 'ISBN_13', 'identifier': '9785041375676'}, {'type': 'ISBN_10', 'identifier': '5041375674'}\", 'readingModes': {'text': True, 'image': True}, 'pageCount': 469, 'printType': 'BOOK', 'categories': 'Foreign Language Study', 'maturityRating': 'NOT_MATURE', 'allowAnonLogging': True, 'contentVersion': '1.6.6.0.preview.3', 'panelizationSummary': {'containsEpubBubbles': False, 'containsImageBubbles': False}, 'imageLinks': {'smallThumbnail': 'http://books.google.com/books/content?id=qS9yDwAAQBAJ&printsec=frontcover&img=1&zoom=5&edge=curl&source=gbs_api', 'thumbnail': 'http://books.google.com/books/content?id=qS9yDwAAQBAJ&printsec=frontcover&img=1&zoom=1&edge=curl&source=gbs_api'}, 'language': 'en', 'previewLink': 'http://books.google.it/books?id=qS9yDwAAQBAJ&printsec=frontcover&dq=intitle:None&hl=&cd=1&source=gbs_api', 'infoLink': 'http://books.google.it/books?id=qS9yDwAAQBAJ&dq=intitle:None&hl=&source=gbs_api', 'canonicalVolumeLink': 'https://books.google.com/books/about/And_Then_There_Were_None_%D0%98_%D0%BD%D0%B8%D0%BA%D0%BE%D0%B3%D0%BE.html?hl=&id=qS9yDwAAQBAJ', 'subtitle': 'Not available', 'averageRating': 'Not available', 'ratingsCount': 'Not available', 'seriesInfo': 'Not available'}, score: 0.04712856600214144), context=None, document_offset=ExtractedAnswer.Span(start=578, end=588), context_offset=None, meta={}) \n",
            "\n",
            "ExtractedAnswer(query='Who is the author of mystic river?', score=0.2731873807312859, data=None, document=None, context=None, document_offset=None, context_offset=None, meta={}) \n",
            "\n",
            "['martian', None, None, 'kevin', None, 'eragon', None, '5', '1', '1', '2', None, 'five', None, None, 'american', 'titan', '3', 'percy jackson', '2666', '2', 'robert langdon', 'olive kitteridge', None, '1', '1', None, 'tehran', 'america', None, 'wolf hall', '1', 'hush', None, '4', '1', '4', None, '1', None, None, 'america', None, '1q84', 'hugo', '1', 'wolf', None, None, '1', 'eight', 'six', '1', None, '1', 'iron kissed', None, None, None, 'lirael (abhorsen', None, None, 'half', '1', '5', 'american', None, None, 'throne', None, '44', None, None, '2', '2', None, None, None, '1', None, None]\n",
            "book title is None\n"
          ]
        },
        {
          "data": {
            "application/vnd.jupyter.widget-view+json": {
              "model_id": "7ded194b52334042bd8256ff7eaab709",
              "version_major": 2,
              "version_minor": 0
            },
            "text/plain": [
              "Batches:   0%|          | 0/1 [00:00<?, ?it/s]"
            ]
          },
          "metadata": {},
          "output_type": "display_data"
        },
        {
          "data": {
            "application/vnd.jupyter.widget-view+json": {
              "model_id": "3bbfeeb487e24c2ea8ef5f27574c4c2d",
              "version_major": 2,
              "version_minor": 0
            },
            "text/plain": [
              "Batches:   0%|          | 0/1 [00:00<?, ?it/s]"
            ]
          },
          "metadata": {},
          "output_type": "display_data"
        },
        {
          "name": "stdout",
          "output_type": "stream",
          "text": [
            "ExtractedAnswer(query='Who is the author of the trigger: hunting the assassin who brought the world to war?', score=0.4593946933746338, data='Агата Кристи', document=Document(id=e7589d9912517481ba7ca4862f0c2cedfa4c8a9fc11b30265e1d8c95fa8b4cdf, content: 'Title: And Then There Were None / И никого не стало. Книга для чтения на английском языке;\n",
            "Writer/Au...', meta: {'title': 'And Then There Were None / И никого не стало. Книга для чтения на английском языке', 'authors': 'Агата Кристи', 'publisher': 'Litres', 'publishedDate': '2018-10-09', 'industryIdentifiers': \"{'type': 'ISBN_13', 'identifier': '9785041375676'}, {'type': 'ISBN_10', 'identifier': '5041375674'}\", 'readingModes': {'text': True, 'image': True}, 'pageCount': 469, 'printType': 'BOOK', 'categories': 'Foreign Language Study', 'maturityRating': 'NOT_MATURE', 'allowAnonLogging': True, 'contentVersion': '1.6.6.0.preview.3', 'panelizationSummary': {'containsEpubBubbles': False, 'containsImageBubbles': False}, 'imageLinks': {'smallThumbnail': 'http://books.google.com/books/content?id=qS9yDwAAQBAJ&printsec=frontcover&img=1&zoom=5&edge=curl&source=gbs_api', 'thumbnail': 'http://books.google.com/books/content?id=qS9yDwAAQBAJ&printsec=frontcover&img=1&zoom=1&edge=curl&source=gbs_api'}, 'language': 'en', 'previewLink': 'http://books.google.it/books?id=qS9yDwAAQBAJ&printsec=frontcover&dq=intitle:None&hl=&cd=1&source=gbs_api', 'infoLink': 'http://books.google.it/books?id=qS9yDwAAQBAJ&dq=intitle:None&hl=&source=gbs_api', 'canonicalVolumeLink': 'https://books.google.com/books/about/And_Then_There_Were_None_%D0%98_%D0%BD%D0%B8%D0%BA%D0%BE%D0%B3%D0%BE.html?hl=&id=qS9yDwAAQBAJ', 'subtitle': 'Not available', 'averageRating': 'Not available', 'ratingsCount': 'Not available', 'seriesInfo': 'Not available'}, score: 0.11945379914189345), context=None, document_offset=ExtractedAnswer.Span(start=106, end=118), context_offset=None, meta={}) \n",
            "\n",
            "ExtractedAnswer(query='Who is the author of the trigger: hunting the assassin who brought the world to war?', score=0.3536819490101948, data=None, document=None, context=None, document_offset=None, context_offset=None, meta={}) \n",
            "\n",
            "ExtractedAnswer(query='Who is the author of the trigger: hunting the assassin who brought the world to war?', score=0.3457667827606201, data='Foreign Language Study;\\nNumber of pages: 469;\\nPublished by: LitresPublish date: 2018-10-09', document=Document(id=e7589d9912517481ba7ca4862f0c2cedfa4c8a9fc11b30265e1d8c95fa8b4cdf, content: 'Title: And Then There Were None / И никого не стало. Книга для чтения на английском языке;\n",
            "Writer/Au...', meta: {'title': 'And Then There Were None / И никого не стало. Книга для чтения на английском языке', 'authors': 'Агата Кристи', 'publisher': 'Litres', 'publishedDate': '2018-10-09', 'industryIdentifiers': \"{'type': 'ISBN_13', 'identifier': '9785041375676'}, {'type': 'ISBN_10', 'identifier': '5041375674'}\", 'readingModes': {'text': True, 'image': True}, 'pageCount': 469, 'printType': 'BOOK', 'categories': 'Foreign Language Study', 'maturityRating': 'NOT_MATURE', 'allowAnonLogging': True, 'contentVersion': '1.6.6.0.preview.3', 'panelizationSummary': {'containsEpubBubbles': False, 'containsImageBubbles': False}, 'imageLinks': {'smallThumbnail': 'http://books.google.com/books/content?id=qS9yDwAAQBAJ&printsec=frontcover&img=1&zoom=5&edge=curl&source=gbs_api', 'thumbnail': 'http://books.google.com/books/content?id=qS9yDwAAQBAJ&printsec=frontcover&img=1&zoom=1&edge=curl&source=gbs_api'}, 'language': 'en', 'previewLink': 'http://books.google.it/books?id=qS9yDwAAQBAJ&printsec=frontcover&dq=intitle:None&hl=&cd=1&source=gbs_api', 'infoLink': 'http://books.google.it/books?id=qS9yDwAAQBAJ&dq=intitle:None&hl=&source=gbs_api', 'canonicalVolumeLink': 'https://books.google.com/books/about/And_Then_There_Were_None_%D0%98_%D0%BD%D0%B8%D0%BA%D0%BE%D0%B3%D0%BE.html?hl=&id=qS9yDwAAQBAJ', 'subtitle': 'Not available', 'averageRating': 'Not available', 'ratingsCount': 'Not available', 'seriesInfo': 'Not available'}, score: 0.11945379914189345), context=None, document_offset=ExtractedAnswer.Span(start=498, end=588), context_offset=None, meta={}) \n",
            "\n",
            "['martian', None, None, 'kevin', None, 'eragon', None, '5', '1', '1', '2', None, 'five', None, None, 'american', 'titan', '3', 'percy jackson', '2666', '2', 'robert langdon', 'olive kitteridge', None, '1', '1', None, 'tehran', 'america', None, 'wolf hall', '1', 'hush', None, '4', '1', '4', None, '1', None, None, 'america', None, '1q84', 'hugo', '1', 'wolf', None, None, '1', 'eight', 'six', '1', None, '1', 'iron kissed', None, None, None, 'lirael (abhorsen', None, None, 'half', '1', '5', 'american', None, None, 'throne', None, '44', None, None, '2', '2', None, None, None, '1', None, None, None]\n",
            "book title is None\n"
          ]
        },
        {
          "data": {
            "application/vnd.jupyter.widget-view+json": {
              "model_id": "6e3e4761d34042f9a571f86d32012041",
              "version_major": 2,
              "version_minor": 0
            },
            "text/plain": [
              "Batches:   0%|          | 0/1 [00:00<?, ?it/s]"
            ]
          },
          "metadata": {},
          "output_type": "display_data"
        },
        {
          "data": {
            "application/vnd.jupyter.widget-view+json": {
              "model_id": "9c9d4d87cda044a69129cf1db5ecf037",
              "version_major": 2,
              "version_minor": 0
            },
            "text/plain": [
              "Batches:   0%|          | 0/1 [00:00<?, ?it/s]"
            ]
          },
          "metadata": {},
          "output_type": "display_data"
        },
        {
          "name": "stdout",
          "output_type": "stream",
          "text": [
            "ExtractedAnswer(query='Who is the author of the book of salt?', score=0.47090354561805725, data='Агата Кристи', document=Document(id=e7589d9912517481ba7ca4862f0c2cedfa4c8a9fc11b30265e1d8c95fa8b4cdf, content: 'Title: And Then There Were None / И никого не стало. Книга для чтения на английском языке;\n",
            "Writer/Au...', meta: {'title': 'And Then There Were None / И никого не стало. Книга для чтения на английском языке', 'authors': 'Агата Кристи', 'publisher': 'Litres', 'publishedDate': '2018-10-09', 'industryIdentifiers': \"{'type': 'ISBN_13', 'identifier': '9785041375676'}, {'type': 'ISBN_10', 'identifier': '5041375674'}\", 'readingModes': {'text': True, 'image': True}, 'pageCount': 469, 'printType': 'BOOK', 'categories': 'Foreign Language Study', 'maturityRating': 'NOT_MATURE', 'allowAnonLogging': True, 'contentVersion': '1.6.6.0.preview.3', 'panelizationSummary': {'containsEpubBubbles': False, 'containsImageBubbles': False}, 'imageLinks': {'smallThumbnail': 'http://books.google.com/books/content?id=qS9yDwAAQBAJ&printsec=frontcover&img=1&zoom=5&edge=curl&source=gbs_api', 'thumbnail': 'http://books.google.com/books/content?id=qS9yDwAAQBAJ&printsec=frontcover&img=1&zoom=1&edge=curl&source=gbs_api'}, 'language': 'en', 'previewLink': 'http://books.google.it/books?id=qS9yDwAAQBAJ&printsec=frontcover&dq=intitle:None&hl=&cd=1&source=gbs_api', 'infoLink': 'http://books.google.it/books?id=qS9yDwAAQBAJ&dq=intitle:None&hl=&source=gbs_api', 'canonicalVolumeLink': 'https://books.google.com/books/about/And_Then_There_Were_None_%D0%98_%D0%BD%D0%B8%D0%BA%D0%BE%D0%B3%D0%BE.html?hl=&id=qS9yDwAAQBAJ', 'subtitle': 'Not available', 'averageRating': 'Not available', 'ratingsCount': 'Not available', 'seriesInfo': 'Not available'}, score: 0.13037544048210975), context=None, document_offset=ExtractedAnswer.Span(start=106, end=118), context_offset=None, meta={}) \n",
            "\n",
            "ExtractedAnswer(query='Who is the author of the book of salt?', score=0.40895533561706543, data='Litres', document=Document(id=e7589d9912517481ba7ca4862f0c2cedfa4c8a9fc11b30265e1d8c95fa8b4cdf, content: 'Title: And Then There Were None / И никого не стало. Книга для чтения на английском языке;\n",
            "Writer/Au...', meta: {'title': 'And Then There Were None / И никого не стало. Книга для чтения на английском языке', 'authors': 'Агата Кристи', 'publisher': 'Litres', 'publishedDate': '2018-10-09', 'industryIdentifiers': \"{'type': 'ISBN_13', 'identifier': '9785041375676'}, {'type': 'ISBN_10', 'identifier': '5041375674'}\", 'readingModes': {'text': True, 'image': True}, 'pageCount': 469, 'printType': 'BOOK', 'categories': 'Foreign Language Study', 'maturityRating': 'NOT_MATURE', 'allowAnonLogging': True, 'contentVersion': '1.6.6.0.preview.3', 'panelizationSummary': {'containsEpubBubbles': False, 'containsImageBubbles': False}, 'imageLinks': {'smallThumbnail': 'http://books.google.com/books/content?id=qS9yDwAAQBAJ&printsec=frontcover&img=1&zoom=5&edge=curl&source=gbs_api', 'thumbnail': 'http://books.google.com/books/content?id=qS9yDwAAQBAJ&printsec=frontcover&img=1&zoom=1&edge=curl&source=gbs_api'}, 'language': 'en', 'previewLink': 'http://books.google.it/books?id=qS9yDwAAQBAJ&printsec=frontcover&dq=intitle:None&hl=&cd=1&source=gbs_api', 'infoLink': 'http://books.google.it/books?id=qS9yDwAAQBAJ&dq=intitle:None&hl=&source=gbs_api', 'canonicalVolumeLink': 'https://books.google.com/books/about/And_Then_There_Were_None_%D0%98_%D0%BD%D0%B8%D0%BA%D0%BE%D0%B3%D0%BE.html?hl=&id=qS9yDwAAQBAJ', 'subtitle': 'Not available', 'averageRating': 'Not available', 'ratingsCount': 'Not available', 'seriesInfo': 'Not available'}, score: 0.13037544048210975), context=None, document_offset=ExtractedAnswer.Span(start=558, end=564), context_offset=None, meta={}) \n",
            "\n",
            "ExtractedAnswer(query='Who is the author of the book of salt?', score=0.3478444516658783, data='2018-10-09', document=Document(id=e7589d9912517481ba7ca4862f0c2cedfa4c8a9fc11b30265e1d8c95fa8b4cdf, content: 'Title: And Then There Were None / И никого не стало. Книга для чтения на английском языке;\n",
            "Writer/Au...', meta: {'title': 'And Then There Were None / И никого не стало. Книга для чтения на английском языке', 'authors': 'Агата Кристи', 'publisher': 'Litres', 'publishedDate': '2018-10-09', 'industryIdentifiers': \"{'type': 'ISBN_13', 'identifier': '9785041375676'}, {'type': 'ISBN_10', 'identifier': '5041375674'}\", 'readingModes': {'text': True, 'image': True}, 'pageCount': 469, 'printType': 'BOOK', 'categories': 'Foreign Language Study', 'maturityRating': 'NOT_MATURE', 'allowAnonLogging': True, 'contentVersion': '1.6.6.0.preview.3', 'panelizationSummary': {'containsEpubBubbles': False, 'containsImageBubbles': False}, 'imageLinks': {'smallThumbnail': 'http://books.google.com/books/content?id=qS9yDwAAQBAJ&printsec=frontcover&img=1&zoom=5&edge=curl&source=gbs_api', 'thumbnail': 'http://books.google.com/books/content?id=qS9yDwAAQBAJ&printsec=frontcover&img=1&zoom=1&edge=curl&source=gbs_api'}, 'language': 'en', 'previewLink': 'http://books.google.it/books?id=qS9yDwAAQBAJ&printsec=frontcover&dq=intitle:None&hl=&cd=1&source=gbs_api', 'infoLink': 'http://books.google.it/books?id=qS9yDwAAQBAJ&dq=intitle:None&hl=&source=gbs_api', 'canonicalVolumeLink': 'https://books.google.com/books/about/And_Then_There_Were_None_%D0%98_%D0%BD%D0%B8%D0%BA%D0%BE%D0%B3%D0%BE.html?hl=&id=qS9yDwAAQBAJ', 'subtitle': 'Not available', 'averageRating': 'Not available', 'ratingsCount': 'Not available', 'seriesInfo': 'Not available'}, score: 0.13037544048210975), context=None, document_offset=ExtractedAnswer.Span(start=578, end=588), context_offset=None, meta={}) \n",
            "\n",
            "ExtractedAnswer(query='Who is the author of the book of salt?', score=0.20394184589023176, data=None, document=None, context=None, document_offset=None, context_offset=None, meta={}) \n",
            "\n",
            "['martian', None, None, 'kevin', None, 'eragon', None, '5', '1', '1', '2', None, 'five', None, None, 'american', 'titan', '3', 'percy jackson', '2666', '2', 'robert langdon', 'olive kitteridge', None, '1', '1', None, 'tehran', 'america', None, 'wolf hall', '1', 'hush', None, '4', '1', '4', None, '1', None, None, 'america', None, '1q84', 'hugo', '1', 'wolf', None, None, '1', 'eight', 'six', '1', None, '1', 'iron kissed', None, None, None, 'lirael (abhorsen', None, None, 'half', '1', '5', 'american', None, None, 'throne', None, '44', None, None, '2', '2', None, None, None, '1', None, None, None, 'half']\n",
            "book title is half\n"
          ]
        },
        {
          "data": {
            "application/vnd.jupyter.widget-view+json": {
              "model_id": "a0fde56a8d604c9f835a86cebc8a76b3",
              "version_major": 2,
              "version_minor": 0
            },
            "text/plain": [
              "Batches:   0%|          | 0/1 [00:00<?, ?it/s]"
            ]
          },
          "metadata": {},
          "output_type": "display_data"
        },
        {
          "data": {
            "application/vnd.jupyter.widget-view+json": {
              "model_id": "11bc5d955b8f4d70828af9fc1e73c2b9",
              "version_major": 2,
              "version_minor": 0
            },
            "text/plain": [
              "Batches:   0%|          | 0/1 [00:00<?, ?it/s]"
            ]
          },
          "metadata": {},
          "output_type": "display_data"
        },
        {
          "name": "stdout",
          "output_type": "stream",
          "text": [
            "ExtractedAnswer(query='Who is the author of half of a yellow sun?', score=0.5875877141952515, data='Sally Green', document=Document(id=8dc881928d15a8b529614c062ea3601a91743c8fcd2065cec82d58b559cf5a7d, content: 'Title: Half Lost;\n",
            "Writer/Author: Sally Green;\n",
            "Topic: Nathan è ancora una volta in lotta contro il te...', meta: {'title': 'Half Lost', 'authors': 'Sally Green', 'publisher': 'Rizzoli', 'publishedDate': '2016-10-13', 'industryIdentifiers': \"{'type': 'ISBN_13', 'identifier': '9788858686263'}, {'type': 'ISBN_10', 'identifier': '8858686268'}\", 'readingModes': {'text': True, 'image': True}, 'pageCount': 352, 'printType': 'BOOK', 'categories': 'Fiction', 'maturityRating': 'NOT_MATURE', 'allowAnonLogging': True, 'contentVersion': '1.6.6.0.preview.3', 'panelizationSummary': {'containsEpubBubbles': False, 'containsImageBubbles': False}, 'imageLinks': {'smallThumbnail': 'http://books.google.com/books/content?id=ROo0DQAAQBAJ&printsec=frontcover&img=1&zoom=5&edge=curl&source=gbs_api', 'thumbnail': 'http://books.google.com/books/content?id=ROo0DQAAQBAJ&printsec=frontcover&img=1&zoom=1&edge=curl&source=gbs_api'}, 'language': 'it', 'previewLink': 'http://books.google.it/books?id=ROo0DQAAQBAJ&printsec=frontcover&dq=intitle:half&hl=&cd=1&source=gbs_api', 'infoLink': 'https://play.google.com/store/books/details?id=ROo0DQAAQBAJ&source=gbs_api', 'canonicalVolumeLink': 'https://play.google.com/store/books/details?id=ROo0DQAAQBAJ', 'subtitle': 'Not available', 'averageRating': 'Not available', 'ratingsCount': 'Not available', 'seriesInfo': 'Not available'}, score: 0.2948940068698222), context=None, document_offset=ExtractedAnswer.Span(start=33, end=44), context_offset=None, meta={}) \n",
            "\n",
            "ExtractedAnswer(query='Who is the author of half of a yellow sun?', score=0.41241228580474854, data=None, document=None, context=None, document_offset=None, context_offset=None, meta={}) \n",
            "\n",
            "['martian', None, None, 'kevin', None, 'eragon', None, '5', '1', '1', '2', None, 'five', None, None, 'american', 'titan', '3', 'percy jackson', '2666', '2', 'robert langdon', 'olive kitteridge', None, '1', '1', None, 'tehran', 'america', None, 'wolf hall', '1', 'hush', None, '4', '1', '4', None, '1', None, None, 'america', None, '1q84', 'hugo', '1', 'wolf', None, None, '1', 'eight', 'six', '1', None, '1', 'iron kissed', None, None, None, 'lirael (abhorsen', None, None, 'half', '1', '5', 'american', None, None, 'throne', None, '44', None, None, '2', '2', None, None, None, '1', None, None, None, 'half', None]\n",
            "book title is None\n"
          ]
        },
        {
          "data": {
            "application/vnd.jupyter.widget-view+json": {
              "model_id": "2c1d8fda98b14153bb4be8fd4c548703",
              "version_major": 2,
              "version_minor": 0
            },
            "text/plain": [
              "Batches:   0%|          | 0/1 [00:00<?, ?it/s]"
            ]
          },
          "metadata": {},
          "output_type": "display_data"
        },
        {
          "data": {
            "application/vnd.jupyter.widget-view+json": {
              "model_id": "80f29c2bbfa44a568e7e749ec952c0d1",
              "version_major": 2,
              "version_minor": 0
            },
            "text/plain": [
              "Batches:   0%|          | 0/1 [00:00<?, ?it/s]"
            ]
          },
          "metadata": {},
          "output_type": "display_data"
        },
        {
          "name": "stdout",
          "output_type": "stream",
          "text": [
            "ExtractedAnswer(query='Who is the author of shutter island?', score=0.5097478628158569, data='Агата Кристи', document=Document(id=e7589d9912517481ba7ca4862f0c2cedfa4c8a9fc11b30265e1d8c95fa8b4cdf, content: 'Title: And Then There Were None / И никого не стало. Книга для чтения на английском языке;\n",
            "Writer/Au...', meta: {'title': 'And Then There Were None / И никого не стало. Книга для чтения на английском языке', 'authors': 'Агата Кристи', 'publisher': 'Litres', 'publishedDate': '2018-10-09', 'industryIdentifiers': \"{'type': 'ISBN_13', 'identifier': '9785041375676'}, {'type': 'ISBN_10', 'identifier': '5041375674'}\", 'readingModes': {'text': True, 'image': True}, 'pageCount': 469, 'printType': 'BOOK', 'categories': 'Foreign Language Study', 'maturityRating': 'NOT_MATURE', 'allowAnonLogging': True, 'contentVersion': '1.6.6.0.preview.3', 'panelizationSummary': {'containsEpubBubbles': False, 'containsImageBubbles': False}, 'imageLinks': {'smallThumbnail': 'http://books.google.com/books/content?id=qS9yDwAAQBAJ&printsec=frontcover&img=1&zoom=5&edge=curl&source=gbs_api', 'thumbnail': 'http://books.google.com/books/content?id=qS9yDwAAQBAJ&printsec=frontcover&img=1&zoom=1&edge=curl&source=gbs_api'}, 'language': 'en', 'previewLink': 'http://books.google.it/books?id=qS9yDwAAQBAJ&printsec=frontcover&dq=intitle:None&hl=&cd=1&source=gbs_api', 'infoLink': 'http://books.google.it/books?id=qS9yDwAAQBAJ&dq=intitle:None&hl=&source=gbs_api', 'canonicalVolumeLink': 'https://books.google.com/books/about/And_Then_There_Were_None_%D0%98_%D0%BD%D0%B8%D0%BA%D0%BE%D0%B3%D0%BE.html?hl=&id=qS9yDwAAQBAJ', 'subtitle': 'Not available', 'averageRating': 'Not available', 'ratingsCount': 'Not available', 'seriesInfo': 'Not available'}, score: 0.0717668297295487), context=None, document_offset=ExtractedAnswer.Span(start=106, end=118), context_offset=None, meta={}) \n",
            "\n",
            "ExtractedAnswer(query='Who is the author of shutter island?', score=0.34910082817077637, data='Litres', document=Document(id=e7589d9912517481ba7ca4862f0c2cedfa4c8a9fc11b30265e1d8c95fa8b4cdf, content: 'Title: And Then There Were None / И никого не стало. Книга для чтения на английском языке;\n",
            "Writer/Au...', meta: {'title': 'And Then There Were None / И никого не стало. Книга для чтения на английском языке', 'authors': 'Агата Кристи', 'publisher': 'Litres', 'publishedDate': '2018-10-09', 'industryIdentifiers': \"{'type': 'ISBN_13', 'identifier': '9785041375676'}, {'type': 'ISBN_10', 'identifier': '5041375674'}\", 'readingModes': {'text': True, 'image': True}, 'pageCount': 469, 'printType': 'BOOK', 'categories': 'Foreign Language Study', 'maturityRating': 'NOT_MATURE', 'allowAnonLogging': True, 'contentVersion': '1.6.6.0.preview.3', 'panelizationSummary': {'containsEpubBubbles': False, 'containsImageBubbles': False}, 'imageLinks': {'smallThumbnail': 'http://books.google.com/books/content?id=qS9yDwAAQBAJ&printsec=frontcover&img=1&zoom=5&edge=curl&source=gbs_api', 'thumbnail': 'http://books.google.com/books/content?id=qS9yDwAAQBAJ&printsec=frontcover&img=1&zoom=1&edge=curl&source=gbs_api'}, 'language': 'en', 'previewLink': 'http://books.google.it/books?id=qS9yDwAAQBAJ&printsec=frontcover&dq=intitle:None&hl=&cd=1&source=gbs_api', 'infoLink': 'http://books.google.it/books?id=qS9yDwAAQBAJ&dq=intitle:None&hl=&source=gbs_api', 'canonicalVolumeLink': 'https://books.google.com/books/about/And_Then_There_Were_None_%D0%98_%D0%BD%D0%B8%D0%BA%D0%BE%D0%B3%D0%BE.html?hl=&id=qS9yDwAAQBAJ', 'subtitle': 'Not available', 'averageRating': 'Not available', 'ratingsCount': 'Not available', 'seriesInfo': 'Not available'}, score: 0.0717668297295487), context=None, document_offset=ExtractedAnswer.Span(start=558, end=564), context_offset=None, meta={}) \n",
            "\n",
            "ExtractedAnswer(query='Who is the author of shutter island?', score=0.3321792483329773, data='2018-10-09', document=Document(id=e7589d9912517481ba7ca4862f0c2cedfa4c8a9fc11b30265e1d8c95fa8b4cdf, content: 'Title: And Then There Were None / И никого не стало. Книга для чтения на английском языке;\n",
            "Writer/Au...', meta: {'title': 'And Then There Were None / И никого не стало. Книга для чтения на английском языке', 'authors': 'Агата Кристи', 'publisher': 'Litres', 'publishedDate': '2018-10-09', 'industryIdentifiers': \"{'type': 'ISBN_13', 'identifier': '9785041375676'}, {'type': 'ISBN_10', 'identifier': '5041375674'}\", 'readingModes': {'text': True, 'image': True}, 'pageCount': 469, 'printType': 'BOOK', 'categories': 'Foreign Language Study', 'maturityRating': 'NOT_MATURE', 'allowAnonLogging': True, 'contentVersion': '1.6.6.0.preview.3', 'panelizationSummary': {'containsEpubBubbles': False, 'containsImageBubbles': False}, 'imageLinks': {'smallThumbnail': 'http://books.google.com/books/content?id=qS9yDwAAQBAJ&printsec=frontcover&img=1&zoom=5&edge=curl&source=gbs_api', 'thumbnail': 'http://books.google.com/books/content?id=qS9yDwAAQBAJ&printsec=frontcover&img=1&zoom=1&edge=curl&source=gbs_api'}, 'language': 'en', 'previewLink': 'http://books.google.it/books?id=qS9yDwAAQBAJ&printsec=frontcover&dq=intitle:None&hl=&cd=1&source=gbs_api', 'infoLink': 'http://books.google.it/books?id=qS9yDwAAQBAJ&dq=intitle:None&hl=&source=gbs_api', 'canonicalVolumeLink': 'https://books.google.com/books/about/And_Then_There_Were_None_%D0%98_%D0%BD%D0%B8%D0%BA%D0%BE%D0%B3%D0%BE.html?hl=&id=qS9yDwAAQBAJ', 'subtitle': 'Not available', 'averageRating': 'Not available', 'ratingsCount': 'Not available', 'seriesInfo': 'Not available'}, score: 0.0717668297295487), context=None, document_offset=ExtractedAnswer.Span(start=578, end=588), context_offset=None, meta={}) \n",
            "\n",
            "ExtractedAnswer(query='Who is the author of shutter island?', score=0.2131047473465575, data=None, document=None, context=None, document_offset=None, context_offset=None, meta={}) \n",
            "\n",
            "['martian', None, None, 'kevin', None, 'eragon', None, '5', '1', '1', '2', None, 'five', None, None, 'american', 'titan', '3', 'percy jackson', '2666', '2', 'robert langdon', 'olive kitteridge', None, '1', '1', None, 'tehran', 'america', None, 'wolf hall', '1', 'hush', None, '4', '1', '4', None, '1', None, None, 'america', None, '1q84', 'hugo', '1', 'wolf', None, None, '1', 'eight', 'six', '1', None, '1', 'iron kissed', None, None, None, 'lirael (abhorsen', None, None, 'half', '1', '5', 'american', None, None, 'throne', None, '44', None, None, '2', '2', None, None, None, '1', None, None, None, 'half', None, 'one day']\n",
            "book title is one day\n"
          ]
        },
        {
          "data": {
            "application/vnd.jupyter.widget-view+json": {
              "model_id": "438defb57ab34e6084a6fd2d56d4838a",
              "version_major": 2,
              "version_minor": 0
            },
            "text/plain": [
              "Batches:   0%|          | 0/1 [00:00<?, ?it/s]"
            ]
          },
          "metadata": {},
          "output_type": "display_data"
        },
        {
          "data": {
            "application/vnd.jupyter.widget-view+json": {
              "model_id": "653291e1cedb4d689d3d88cce343e9a7",
              "version_major": 2,
              "version_minor": 0
            },
            "text/plain": [
              "Batches:   0%|          | 0/1 [00:00<?, ?it/s]"
            ]
          },
          "metadata": {},
          "output_type": "display_data"
        },
        {
          "name": "stdout",
          "output_type": "stream",
          "text": [
            "ExtractedAnswer(query='Who is the author of one day?', score=0.8247093558311462, data='David Nicholls', document=Document(id=d40cf20984cceda6989baf9a6dc97d612165a22bf9f6c53295a8fa8db4b92cfd, content: 'Title: One Day - Un giorno;\n",
            "Writer/Author: David Nicholls;\n",
            "Topic: È l’ultimo giorno di università, e...', meta: {'title': 'One Day - Un giorno', 'subtitle': \"Vent'anni. Due Persone\", 'authors': 'David Nicholls', 'publisher': 'Neri Pozza Editore', 'publishedDate': '2024-02-06T00:00:00+01:00', 'industryIdentifiers': \"{'type': 'ISBN_13', 'identifier': '9791255021858'}\", 'readingModes': {'text': True, 'image': True}, 'pageCount': 492, 'printType': 'BOOK', 'categories': 'Fiction', 'maturityRating': 'NOT_MATURE', 'allowAnonLogging': True, 'contentVersion': '0.1.1.0.preview.3', 'panelizationSummary': {'containsEpubBubbles': False, 'containsImageBubbles': False}, 'imageLinks': {'smallThumbnail': 'http://books.google.com/books/content?id=spDtEAAAQBAJ&printsec=frontcover&img=1&zoom=5&edge=curl&source=gbs_api', 'thumbnail': 'http://books.google.com/books/content?id=spDtEAAAQBAJ&printsec=frontcover&img=1&zoom=1&edge=curl&source=gbs_api'}, 'language': 'it', 'previewLink': 'http://books.google.it/books?id=spDtEAAAQBAJ&printsec=frontcover&dq=intitle:one+day&hl=&cd=1&source=gbs_api', 'infoLink': 'https://play.google.com/store/books/details?id=spDtEAAAQBAJ&source=gbs_api', 'canonicalVolumeLink': 'https://play.google.com/store/books/details?id=spDtEAAAQBAJ', 'averageRating': 'Not available', 'ratingsCount': 'Not available', 'seriesInfo': 'Not available'}, score: 0.27952629158203074), context=None, document_offset=ExtractedAnswer.Span(start=43, end=57), context_offset=None, meta={}) \n",
            "\n",
            "ExtractedAnswer(query='Who is the author of one day?', score=0.4653190076351166, data='Nick Hornby', document=Document(id=d40cf20984cceda6989baf9a6dc97d612165a22bf9f6c53295a8fa8db4b92cfd, content: 'Title: One Day - Un giorno;\n",
            "Writer/Author: David Nicholls;\n",
            "Topic: È l’ultimo giorno di università, e...', meta: {'title': 'One Day - Un giorno', 'subtitle': \"Vent'anni. Due Persone\", 'authors': 'David Nicholls', 'publisher': 'Neri Pozza Editore', 'publishedDate': '2024-02-06T00:00:00+01:00', 'industryIdentifiers': \"{'type': 'ISBN_13', 'identifier': '9791255021858'}\", 'readingModes': {'text': True, 'image': True}, 'pageCount': 492, 'printType': 'BOOK', 'categories': 'Fiction', 'maturityRating': 'NOT_MATURE', 'allowAnonLogging': True, 'contentVersion': '0.1.1.0.preview.3', 'panelizationSummary': {'containsEpubBubbles': False, 'containsImageBubbles': False}, 'imageLinks': {'smallThumbnail': 'http://books.google.com/books/content?id=spDtEAAAQBAJ&printsec=frontcover&img=1&zoom=5&edge=curl&source=gbs_api', 'thumbnail': 'http://books.google.com/books/content?id=spDtEAAAQBAJ&printsec=frontcover&img=1&zoom=1&edge=curl&source=gbs_api'}, 'language': 'it', 'previewLink': 'http://books.google.it/books?id=spDtEAAAQBAJ&printsec=frontcover&dq=intitle:one+day&hl=&cd=1&source=gbs_api', 'infoLink': 'https://play.google.com/store/books/details?id=spDtEAAAQBAJ&source=gbs_api', 'canonicalVolumeLink': 'https://play.google.com/store/books/details?id=spDtEAAAQBAJ', 'averageRating': 'Not available', 'ratingsCount': 'Not available', 'seriesInfo': 'Not available'}, score: 0.27952629158203074), context=None, document_offset=ExtractedAnswer.Span(start=1450, end=1461), context_offset=None, meta={}) \n",
            "\n",
            "ExtractedAnswer(query='Who is the author of one day?', score=0.46334242820739746, data='David Nicholls', document=Document(id=d40cf20984cceda6989baf9a6dc97d612165a22bf9f6c53295a8fa8db4b92cfd, content: 'Title: One Day - Un giorno;\n",
            "Writer/Author: David Nicholls;\n",
            "Topic: È l’ultimo giorno di università, e...', meta: {'title': 'One Day - Un giorno', 'subtitle': \"Vent'anni. Due Persone\", 'authors': 'David Nicholls', 'publisher': 'Neri Pozza Editore', 'publishedDate': '2024-02-06T00:00:00+01:00', 'industryIdentifiers': \"{'type': 'ISBN_13', 'identifier': '9791255021858'}\", 'readingModes': {'text': True, 'image': True}, 'pageCount': 492, 'printType': 'BOOK', 'categories': 'Fiction', 'maturityRating': 'NOT_MATURE', 'allowAnonLogging': True, 'contentVersion': '0.1.1.0.preview.3', 'panelizationSummary': {'containsEpubBubbles': False, 'containsImageBubbles': False}, 'imageLinks': {'smallThumbnail': 'http://books.google.com/books/content?id=spDtEAAAQBAJ&printsec=frontcover&img=1&zoom=5&edge=curl&source=gbs_api', 'thumbnail': 'http://books.google.com/books/content?id=spDtEAAAQBAJ&printsec=frontcover&img=1&zoom=1&edge=curl&source=gbs_api'}, 'language': 'it', 'previewLink': 'http://books.google.it/books?id=spDtEAAAQBAJ&printsec=frontcover&dq=intitle:one+day&hl=&cd=1&source=gbs_api', 'infoLink': 'https://play.google.com/store/books/details?id=spDtEAAAQBAJ&source=gbs_api', 'canonicalVolumeLink': 'https://play.google.com/store/books/details?id=spDtEAAAQBAJ', 'averageRating': 'Not available', 'ratingsCount': 'Not available', 'seriesInfo': 'Not available'}, score: 0.27952629158203074), context=None, document_offset=ExtractedAnswer.Span(start=1637, end=1651), context_offset=None, meta={}) \n",
            "\n",
            "ExtractedAnswer(query='Who is the author of one day?', score=0.0502980031461673, data=None, document=None, context=None, document_offset=None, context_offset=None, meta={}) \n",
            "\n",
            "['martian', None, None, 'kevin', None, 'eragon', None, '5', '1', '1', '2', None, 'five', None, None, 'american', 'titan', '3', 'percy jackson', '2666', '2', 'robert langdon', 'olive kitteridge', None, '1', '1', None, 'tehran', 'america', None, 'wolf hall', '1', 'hush', None, '4', '1', '4', None, '1', None, None, 'america', None, '1q84', 'hugo', '1', 'wolf', None, None, '1', 'eight', 'six', '1', None, '1', 'iron kissed', None, None, None, 'lirael (abhorsen', None, None, 'half', '1', '5', 'american', None, None, 'throne', None, '44', None, None, '2', '2', None, None, None, '1', None, None, None, 'half', None, 'one day', 'thursday']\n",
            "book title is thursday\n"
          ]
        },
        {
          "data": {
            "application/vnd.jupyter.widget-view+json": {
              "model_id": "6cf47a4890274ebba50357ba2baa4923",
              "version_major": 2,
              "version_minor": 0
            },
            "text/plain": [
              "Batches:   0%|          | 0/1 [00:00<?, ?it/s]"
            ]
          },
          "metadata": {},
          "output_type": "display_data"
        },
        {
          "data": {
            "application/vnd.jupyter.widget-view+json": {
              "model_id": "b533d9db473248ccb2dac7db2772c84e",
              "version_major": 2,
              "version_minor": 0
            },
            "text/plain": [
              "Batches:   0%|          | 0/1 [00:00<?, ?it/s]"
            ]
          },
          "metadata": {},
          "output_type": "display_data"
        },
        {
          "name": "stdout",
          "output_type": "stream",
          "text": [
            "ExtractedAnswer(query='Who is the author of the eyre affair (thursday next, #1)?', score=0.6984133124351501, data='Richard Osman', document=Document(id=8ce085a9b170bd056df8398d138ed83c081616c99646e7555e40c306396b827b, content: 'Title: The Thursday Murder Club;\n",
            "Writer/Author: Richard Osman;\n",
            "Topic: THE FIRST NOVEL IN THE RECORD-...', meta: {'title': 'The Thursday Murder Club', 'subtitle': '(The Thursday Murder Club 1)', 'authors': 'Richard Osman', 'publisher': 'Penguin UK', 'publishedDate': '2020-09-03', 'industryIdentifiers': \"{'type': 'ISBN_13', 'identifier': '9780241988275'}, {'type': 'ISBN_10', 'identifier': '0241988276'}\", 'readingModes': {'text': True, 'image': False}, 'pageCount': 356, 'printType': 'BOOK', 'categories': 'Fiction', 'averageRating': 4.5, 'ratingsCount': 3, 'maturityRating': 'NOT_MATURE', 'allowAnonLogging': True, 'contentVersion': '2.16.13.0.preview.2', 'panelizationSummary': {'containsEpubBubbles': False, 'containsImageBubbles': False}, 'imageLinks': {'smallThumbnail': 'http://books.google.com/books/content?id=q7yZDwAAQBAJ&printsec=frontcover&img=1&zoom=5&edge=curl&source=gbs_api', 'thumbnail': 'http://books.google.com/books/content?id=q7yZDwAAQBAJ&printsec=frontcover&img=1&zoom=1&edge=curl&source=gbs_api'}, 'language': 'en', 'previewLink': 'http://books.google.it/books?id=q7yZDwAAQBAJ&printsec=frontcover&dq=intitle:thursday&hl=&cd=1&source=gbs_api', 'infoLink': 'https://play.google.com/store/books/details?id=q7yZDwAAQBAJ&source=gbs_api', 'canonicalVolumeLink': 'https://play.google.com/store/books/details?id=q7yZDwAAQBAJ', 'seriesInfo': 'Not available'}, score: 0.4546908862900607), context=None, document_offset=ExtractedAnswer.Span(start=48, end=61), context_offset=None, meta={}) \n",
            "\n",
            "ExtractedAnswer(query='Who is the author of the eyre affair (thursday next, #1)?', score=0.5482575297355652, data='RICHARD OSMAN', document=Document(id=8ce085a9b170bd056df8398d138ed83c081616c99646e7555e40c306396b827b, content: 'Title: The Thursday Murder Club;\n",
            "Writer/Author: Richard Osman;\n",
            "Topic: THE FIRST NOVEL IN THE RECORD-...', meta: {'title': 'The Thursday Murder Club', 'subtitle': '(The Thursday Murder Club 1)', 'authors': 'Richard Osman', 'publisher': 'Penguin UK', 'publishedDate': '2020-09-03', 'industryIdentifiers': \"{'type': 'ISBN_13', 'identifier': '9780241988275'}, {'type': 'ISBN_10', 'identifier': '0241988276'}\", 'readingModes': {'text': True, 'image': False}, 'pageCount': 356, 'printType': 'BOOK', 'categories': 'Fiction', 'averageRating': 4.5, 'ratingsCount': 3, 'maturityRating': 'NOT_MATURE', 'allowAnonLogging': True, 'contentVersion': '2.16.13.0.preview.2', 'panelizationSummary': {'containsEpubBubbles': False, 'containsImageBubbles': False}, 'imageLinks': {'smallThumbnail': 'http://books.google.com/books/content?id=q7yZDwAAQBAJ&printsec=frontcover&img=1&zoom=5&edge=curl&source=gbs_api', 'thumbnail': 'http://books.google.com/books/content?id=q7yZDwAAQBAJ&printsec=frontcover&img=1&zoom=1&edge=curl&source=gbs_api'}, 'language': 'en', 'previewLink': 'http://books.google.it/books?id=q7yZDwAAQBAJ&printsec=frontcover&dq=intitle:thursday&hl=&cd=1&source=gbs_api', 'infoLink': 'https://play.google.com/store/books/details?id=q7yZDwAAQBAJ&source=gbs_api', 'canonicalVolumeLink': 'https://play.google.com/store/books/details?id=q7yZDwAAQBAJ', 'seriesInfo': 'Not available'}, score: 0.4546908862900607), context=None, document_offset=ExtractedAnswer.Span(start=166, end=179), context_offset=None, meta={}) \n",
            "\n",
            "ExtractedAnswer(query='Who is the author of the eyre affair (thursday next, #1)?', score=0.13623951523941358, data=None, document=None, context=None, document_offset=None, context_offset=None, meta={}) \n",
            "\n",
            "['martian', None, None, 'kevin', None, 'eragon', None, '5', '1', '1', '2', None, 'five', None, None, 'american', 'titan', '3', 'percy jackson', '2666', '2', 'robert langdon', 'olive kitteridge', None, '1', '1', None, 'tehran', 'america', None, 'wolf hall', '1', 'hush', None, '4', '1', '4', None, '1', None, None, 'america', None, '1q84', 'hugo', '1', 'wolf', None, None, '1', 'eight', 'six', '1', None, '1', 'iron kissed', None, None, None, 'lirael (abhorsen', None, None, 'half', '1', '5', 'american', None, None, 'throne', None, '44', None, None, '2', '2', None, None, None, '1', None, None, None, 'half', None, 'one day', 'thursday', None]\n",
            "book title is None\n"
          ]
        },
        {
          "data": {
            "application/vnd.jupyter.widget-view+json": {
              "model_id": "622c7e7ab8364744b165802a059908d5",
              "version_major": 2,
              "version_minor": 0
            },
            "text/plain": [
              "Batches:   0%|          | 0/1 [00:00<?, ?it/s]"
            ]
          },
          "metadata": {},
          "output_type": "display_data"
        },
        {
          "data": {
            "application/vnd.jupyter.widget-view+json": {
              "model_id": "c7646af81a454bed9fcbc46618ca1348",
              "version_major": 2,
              "version_minor": 0
            },
            "text/plain": [
              "Batches:   0%|          | 0/1 [00:00<?, ?it/s]"
            ]
          },
          "metadata": {},
          "output_type": "display_data"
        },
        {
          "name": "stdout",
          "output_type": "stream",
          "text": [
            "ExtractedAnswer(query='Who is the author of black swan green?', score=0.40774776433253496, data=None, document=None, context=None, document_offset=None, context_offset=None, meta={}) \n",
            "\n",
            "ExtractedAnswer(query='Who is the author of black swan green?', score=0.26808032393455505, data='напряжении до самого финала', document=Document(id=e7589d9912517481ba7ca4862f0c2cedfa4c8a9fc11b30265e1d8c95fa8b4cdf, content: 'Title: And Then There Were None / И никого не стало. Книга для чтения на английском языке;\n",
            "Writer/Au...', meta: {'title': 'And Then There Were None / И никого не стало. Книга для чтения на английском языке', 'authors': 'Агата Кристи', 'publisher': 'Litres', 'publishedDate': '2018-10-09', 'industryIdentifiers': \"{'type': 'ISBN_13', 'identifier': '9785041375676'}, {'type': 'ISBN_10', 'identifier': '5041375674'}\", 'readingModes': {'text': True, 'image': True}, 'pageCount': 469, 'printType': 'BOOK', 'categories': 'Foreign Language Study', 'maturityRating': 'NOT_MATURE', 'allowAnonLogging': True, 'contentVersion': '1.6.6.0.preview.3', 'panelizationSummary': {'containsEpubBubbles': False, 'containsImageBubbles': False}, 'imageLinks': {'smallThumbnail': 'http://books.google.com/books/content?id=qS9yDwAAQBAJ&printsec=frontcover&img=1&zoom=5&edge=curl&source=gbs_api', 'thumbnail': 'http://books.google.com/books/content?id=qS9yDwAAQBAJ&printsec=frontcover&img=1&zoom=1&edge=curl&source=gbs_api'}, 'language': 'en', 'previewLink': 'http://books.google.it/books?id=qS9yDwAAQBAJ&printsec=frontcover&dq=intitle:None&hl=&cd=1&source=gbs_api', 'infoLink': 'http://books.google.it/books?id=qS9yDwAAQBAJ&dq=intitle:None&hl=&source=gbs_api', 'canonicalVolumeLink': 'https://books.google.com/books/about/And_Then_There_Were_None_%D0%98_%D0%BD%D0%B8%D0%BA%D0%BE%D0%B3%D0%BE.html?hl=&id=qS9yDwAAQBAJ', 'subtitle': 'Not available', 'averageRating': 'Not available', 'ratingsCount': 'Not available', 'seriesInfo': 'Not available'}, score: 0.06587967560917085), context=None, document_offset=ExtractedAnswer.Span(start=319, end=346), context_offset=None, meta={}) \n",
            "\n",
            "ExtractedAnswer(query='Who is the author of black swan green?', score=0.2606586217880249, data='Foreign Language Study;\\nNumber of pages: 469;\\nPublished by: Litres', document=Document(id=e7589d9912517481ba7ca4862f0c2cedfa4c8a9fc11b30265e1d8c95fa8b4cdf, content: 'Title: And Then There Were None / И никого не стало. Книга для чтения на английском языке;\n",
            "Writer/Au...', meta: {'title': 'And Then There Were None / И никого не стало. Книга для чтения на английском языке', 'authors': 'Агата Кристи', 'publisher': 'Litres', 'publishedDate': '2018-10-09', 'industryIdentifiers': \"{'type': 'ISBN_13', 'identifier': '9785041375676'}, {'type': 'ISBN_10', 'identifier': '5041375674'}\", 'readingModes': {'text': True, 'image': True}, 'pageCount': 469, 'printType': 'BOOK', 'categories': 'Foreign Language Study', 'maturityRating': 'NOT_MATURE', 'allowAnonLogging': True, 'contentVersion': '1.6.6.0.preview.3', 'panelizationSummary': {'containsEpubBubbles': False, 'containsImageBubbles': False}, 'imageLinks': {'smallThumbnail': 'http://books.google.com/books/content?id=qS9yDwAAQBAJ&printsec=frontcover&img=1&zoom=5&edge=curl&source=gbs_api', 'thumbnail': 'http://books.google.com/books/content?id=qS9yDwAAQBAJ&printsec=frontcover&img=1&zoom=1&edge=curl&source=gbs_api'}, 'language': 'en', 'previewLink': 'http://books.google.it/books?id=qS9yDwAAQBAJ&printsec=frontcover&dq=intitle:None&hl=&cd=1&source=gbs_api', 'infoLink': 'http://books.google.it/books?id=qS9yDwAAQBAJ&dq=intitle:None&hl=&source=gbs_api', 'canonicalVolumeLink': 'https://books.google.com/books/about/And_Then_There_Were_None_%D0%98_%D0%BD%D0%B8%D0%BA%D0%BE%D0%B3%D0%BE.html?hl=&id=qS9yDwAAQBAJ', 'subtitle': 'Not available', 'averageRating': 'Not available', 'ratingsCount': 'Not available', 'seriesInfo': 'Not available'}, score: 0.06587967560917085), context=None, document_offset=ExtractedAnswer.Span(start=498, end=564), context_offset=None, meta={}) \n",
            "\n",
            "ExtractedAnswer(query='Who is the author of black swan green?', score=0.2465001791715622, data='2018-10-09', document=Document(id=e7589d9912517481ba7ca4862f0c2cedfa4c8a9fc11b30265e1d8c95fa8b4cdf, content: 'Title: And Then There Were None / И никого не стало. Книга для чтения на английском языке;\n",
            "Writer/Au...', meta: {'title': 'And Then There Were None / И никого не стало. Книга для чтения на английском языке', 'authors': 'Агата Кристи', 'publisher': 'Litres', 'publishedDate': '2018-10-09', 'industryIdentifiers': \"{'type': 'ISBN_13', 'identifier': '9785041375676'}, {'type': 'ISBN_10', 'identifier': '5041375674'}\", 'readingModes': {'text': True, 'image': True}, 'pageCount': 469, 'printType': 'BOOK', 'categories': 'Foreign Language Study', 'maturityRating': 'NOT_MATURE', 'allowAnonLogging': True, 'contentVersion': '1.6.6.0.preview.3', 'panelizationSummary': {'containsEpubBubbles': False, 'containsImageBubbles': False}, 'imageLinks': {'smallThumbnail': 'http://books.google.com/books/content?id=qS9yDwAAQBAJ&printsec=frontcover&img=1&zoom=5&edge=curl&source=gbs_api', 'thumbnail': 'http://books.google.com/books/content?id=qS9yDwAAQBAJ&printsec=frontcover&img=1&zoom=1&edge=curl&source=gbs_api'}, 'language': 'en', 'previewLink': 'http://books.google.it/books?id=qS9yDwAAQBAJ&printsec=frontcover&dq=intitle:None&hl=&cd=1&source=gbs_api', 'infoLink': 'http://books.google.it/books?id=qS9yDwAAQBAJ&dq=intitle:None&hl=&source=gbs_api', 'canonicalVolumeLink': 'https://books.google.com/books/about/And_Then_There_Were_None_%D0%98_%D0%BD%D0%B8%D0%BA%D0%BE%D0%B3%D0%BE.html?hl=&id=qS9yDwAAQBAJ', 'subtitle': 'Not available', 'averageRating': 'Not available', 'ratingsCount': 'Not available', 'seriesInfo': 'Not available'}, score: 0.06587967560917085), context=None, document_offset=ExtractedAnswer.Span(start=578, end=588), context_offset=None, meta={}) \n",
            "\n",
            "['martian', None, None, 'kevin', None, 'eragon', None, '5', '1', '1', '2', None, 'five', None, None, 'american', 'titan', '3', 'percy jackson', '2666', '2', 'robert langdon', 'olive kitteridge', None, '1', '1', None, 'tehran', 'america', None, 'wolf hall', '1', 'hush', None, '4', '1', '4', None, '1', None, None, 'america', None, '1q84', 'hugo', '1', 'wolf', None, None, '1', 'eight', 'six', '1', None, '1', 'iron kissed', None, None, None, 'lirael (abhorsen', None, None, 'half', '1', '5', 'american', None, None, 'throne', None, '44', None, None, '2', '2', None, None, None, '1', None, None, None, 'half', None, 'one day', 'thursday', None, '2']\n",
            "book title is 2\n"
          ]
        },
        {
          "data": {
            "application/vnd.jupyter.widget-view+json": {
              "model_id": "e76bb9a8cf3e4eb3af2ccce57ea8b73a",
              "version_major": 2,
              "version_minor": 0
            },
            "text/plain": [
              "Batches:   0%|          | 0/1 [00:00<?, ?it/s]"
            ]
          },
          "metadata": {},
          "output_type": "display_data"
        },
        {
          "data": {
            "application/vnd.jupyter.widget-view+json": {
              "model_id": "1a74eb63d2b049cc8f96398a11721b34",
              "version_major": 2,
              "version_minor": 0
            },
            "text/plain": [
              "Batches:   0%|          | 0/1 [00:00<?, ?it/s]"
            ]
          },
          "metadata": {},
          "output_type": "display_data"
        },
        {
          "name": "stdout",
          "output_type": "stream",
          "text": [
            "ExtractedAnswer(query=\"Who is the author of the wise man's fear (the kingkiller chronicle, #2)?\", score=0.6229766011238098, data='Angelo Pezzana', document=Document(id=01cdab9394850832927c46cc52f8160140eb174ce94b3c6b714e0705fa7c6b14, content: 'Title: Storia della citta di Parma continuata;\n",
            "Writer/Author: Angelo Pezzana;\n",
            "Topic: Sorry, I am una...', meta: {'title': 'Storia della citta di Parma continuata', 'subtitle': '1401 - 1449. 2', 'authors': 'Angelo Pezzana', 'publishedDate': '1842', 'industryIdentifiers': \"{'type': 'OTHER', 'identifier': 'ONB:+Z168004004'}\", 'readingModes': {'text': False, 'image': True}, 'pageCount': 882, 'printType': 'BOOK', 'maturityRating': 'NOT_MATURE', 'allowAnonLogging': False, 'contentVersion': '0.6.5.0.full.1', 'panelizationSummary': {'containsEpubBubbles': False, 'containsImageBubbles': False}, 'imageLinks': {'smallThumbnail': 'http://books.google.com/books/content?id=pc9TAAAAcAAJ&printsec=frontcover&img=1&zoom=5&edge=curl&source=gbs_api', 'thumbnail': 'http://books.google.com/books/content?id=pc9TAAAAcAAJ&printsec=frontcover&img=1&zoom=1&edge=curl&source=gbs_api'}, 'language': 'it', 'previewLink': 'http://books.google.it/books?id=pc9TAAAAcAAJ&printsec=frontcover&dq=intitle:2&hl=&cd=1&source=gbs_api', 'infoLink': 'https://play.google.com/store/books/details?id=pc9TAAAAcAAJ&source=gbs_api', 'canonicalVolumeLink': 'https://play.google.com/store/books/details?id=pc9TAAAAcAAJ', 'publisher': 'Not available', 'categories': 'Not available', 'averageRating': 'Not available', 'ratingsCount': 'Not available', 'seriesInfo': 'Not available'}, score: 0.251141368090365), context=None, document_offset=ExtractedAnswer.Span(start=62, end=76), context_offset=None, meta={}) \n",
            "\n",
            "ExtractedAnswer(query=\"Who is the author of the wise man's fear (the kingkiller chronicle, #2)?\", score=0.3770233988761902, data=None, document=None, context=None, document_offset=None, context_offset=None, meta={}) \n",
            "\n",
            "['martian', None, None, 'kevin', None, 'eragon', None, '5', '1', '1', '2', None, 'five', None, None, 'american', 'titan', '3', 'percy jackson', '2666', '2', 'robert langdon', 'olive kitteridge', None, '1', '1', None, 'tehran', 'america', None, 'wolf hall', '1', 'hush', None, '4', '1', '4', None, '1', None, None, 'america', None, '1q84', 'hugo', '1', 'wolf', None, None, '1', 'eight', 'six', '1', None, '1', 'iron kissed', None, None, None, 'lirael (abhorsen', None, None, 'half', '1', '5', 'american', None, None, 'throne', None, '44', None, None, '2', '2', None, None, None, '1', None, None, None, 'half', None, 'one day', 'thursday', None, '2', '5']\n",
            "book title is 5\n"
          ]
        },
        {
          "data": {
            "application/vnd.jupyter.widget-view+json": {
              "model_id": "62832c541e5d434f82f7057e5918381b",
              "version_major": 2,
              "version_minor": 0
            },
            "text/plain": [
              "Batches:   0%|          | 0/1 [00:00<?, ?it/s]"
            ]
          },
          "metadata": {},
          "output_type": "display_data"
        },
        {
          "data": {
            "application/vnd.jupyter.widget-view+json": {
              "model_id": "8b57c4f086c54580b28ccf56a03a69c8",
              "version_major": 2,
              "version_minor": 0
            },
            "text/plain": [
              "Batches:   0%|          | 0/1 [00:00<?, ?it/s]"
            ]
          },
          "metadata": {},
          "output_type": "display_data"
        },
        {
          "name": "stdout",
          "output_type": "stream",
          "text": [
            "ExtractedAnswer(query='Who is the author of spirit bound (vampire academy, #5)?', score=0.6772300004959106, data='Kurt Vonnegut', document=Document(id=98c92c1bcc606939cebfb213e46b9f100fbddb6ec7ffddaefdce568feeb4e6e8, content: 'Title: Mattatoio n. 5;\n",
            "Writer/Author: Kurt Vonnegut;\n",
            "Topic: Sorry, I am unable to answer your query ...', meta: {'title': 'Mattatoio n. 5', 'authors': 'Kurt Vonnegut', 'publisher': 'Feltrinelli Editore', 'publishedDate': '2003', 'industryIdentifiers': \"{'type': 'ISBN_10', 'identifier': '8807016370'}, {'type': 'ISBN_13', 'identifier': '9788807016370'}\", 'readingModes': {'text': False, 'image': True}, 'pageCount': 208, 'printType': 'BOOK', 'categories': 'Fiction', 'averageRating': 5, 'ratingsCount': 4, 'maturityRating': 'NOT_MATURE', 'allowAnonLogging': False, 'contentVersion': '1.4.5.0.preview.1', 'panelizationSummary': {'containsEpubBubbles': False, 'containsImageBubbles': False}, 'imageLinks': {'smallThumbnail': 'http://books.google.com/books/content?id=gRwULyui60QC&printsec=frontcover&img=1&zoom=5&edge=curl&source=gbs_api', 'thumbnail': 'http://books.google.com/books/content?id=gRwULyui60QC&printsec=frontcover&img=1&zoom=1&edge=curl&source=gbs_api'}, 'language': 'it', 'previewLink': 'http://books.google.it/books?id=gRwULyui60QC&printsec=frontcover&dq=intitle:5&hl=&cd=1&source=gbs_api', 'infoLink': 'http://books.google.it/books?id=gRwULyui60QC&dq=intitle:5&hl=&source=gbs_api', 'canonicalVolumeLink': 'https://books.google.com/books/about/Mattatoio_n_5.html?hl=&id=gRwULyui60QC', 'subtitle': 'Not available', 'seriesInfo': 'Not available'}, score: 0.3715525391463117), context=None, document_offset=ExtractedAnswer.Span(start=38, end=51), context_offset=None, meta={}) \n",
            "\n",
            "ExtractedAnswer(query='Who is the author of spirit bound (vampire academy, #5)?', score=0.32276999950408936, data=None, document=None, context=None, document_offset=None, context_offset=None, meta={}) \n",
            "\n",
            "['martian', None, None, 'kevin', None, 'eragon', None, '5', '1', '1', '2', None, 'five', None, None, 'american', 'titan', '3', 'percy jackson', '2666', '2', 'robert langdon', 'olive kitteridge', None, '1', '1', None, 'tehran', 'america', None, 'wolf hall', '1', 'hush', None, '4', '1', '4', None, '1', None, None, 'america', None, '1q84', 'hugo', '1', 'wolf', None, None, '1', 'eight', 'six', '1', None, '1', 'iron kissed', None, None, None, 'lirael (abhorsen', None, None, 'half', '1', '5', 'american', None, None, 'throne', None, '44', None, None, '2', '2', None, None, None, '1', None, None, None, 'half', None, 'one day', 'thursday', None, '2', '5', None]\n",
            "book title is None\n"
          ]
        },
        {
          "data": {
            "application/vnd.jupyter.widget-view+json": {
              "model_id": "a1b78fd70998431faae0a4421ee4b6f5",
              "version_major": 2,
              "version_minor": 0
            },
            "text/plain": [
              "Batches:   0%|          | 0/1 [00:00<?, ?it/s]"
            ]
          },
          "metadata": {},
          "output_type": "display_data"
        },
        {
          "data": {
            "application/vnd.jupyter.widget-view+json": {
              "model_id": "b5676eaad37e40c086e248dc06ebc4ea",
              "version_major": 2,
              "version_minor": 0
            },
            "text/plain": [
              "Batches:   0%|          | 0/1 [00:00<?, ?it/s]"
            ]
          },
          "metadata": {},
          "output_type": "display_data"
        },
        {
          "name": "stdout",
          "output_type": "stream",
          "text": [
            "ExtractedAnswer(query='Who is the author of the girl on the train?', score=0.48483043909072876, data='Агата Кристи', document=Document(id=e7589d9912517481ba7ca4862f0c2cedfa4c8a9fc11b30265e1d8c95fa8b4cdf, content: 'Title: And Then There Were None / И никого не стало. Книга для чтения на английском языке;\n",
            "Writer/Au...', meta: {'title': 'And Then There Were None / И никого не стало. Книга для чтения на английском языке', 'authors': 'Агата Кристи', 'publisher': 'Litres', 'publishedDate': '2018-10-09', 'industryIdentifiers': \"{'type': 'ISBN_13', 'identifier': '9785041375676'}, {'type': 'ISBN_10', 'identifier': '5041375674'}\", 'readingModes': {'text': True, 'image': True}, 'pageCount': 469, 'printType': 'BOOK', 'categories': 'Foreign Language Study', 'maturityRating': 'NOT_MATURE', 'allowAnonLogging': True, 'contentVersion': '1.6.6.0.preview.3', 'panelizationSummary': {'containsEpubBubbles': False, 'containsImageBubbles': False}, 'imageLinks': {'smallThumbnail': 'http://books.google.com/books/content?id=qS9yDwAAQBAJ&printsec=frontcover&img=1&zoom=5&edge=curl&source=gbs_api', 'thumbnail': 'http://books.google.com/books/content?id=qS9yDwAAQBAJ&printsec=frontcover&img=1&zoom=1&edge=curl&source=gbs_api'}, 'language': 'en', 'previewLink': 'http://books.google.it/books?id=qS9yDwAAQBAJ&printsec=frontcover&dq=intitle:None&hl=&cd=1&source=gbs_api', 'infoLink': 'http://books.google.it/books?id=qS9yDwAAQBAJ&dq=intitle:None&hl=&source=gbs_api', 'canonicalVolumeLink': 'https://books.google.com/books/about/And_Then_There_Were_None_%D0%98_%D0%BD%D0%B8%D0%BA%D0%BE%D0%B3%D0%BE.html?hl=&id=qS9yDwAAQBAJ', 'subtitle': 'Not available', 'averageRating': 'Not available', 'ratingsCount': 'Not available', 'seriesInfo': 'Not available'}, score: 0.17586490949318495), context=None, document_offset=ExtractedAnswer.Span(start=106, end=118), context_offset=None, meta={}) \n",
            "\n",
            "ExtractedAnswer(query='Who is the author of the girl on the train?', score=0.33418208360671997, data='Foreign Language Study;\\nNumber of pages: 469;\\nPublished by: Litres', document=Document(id=e7589d9912517481ba7ca4862f0c2cedfa4c8a9fc11b30265e1d8c95fa8b4cdf, content: 'Title: And Then There Were None / И никого не стало. Книга для чтения на английском языке;\n",
            "Writer/Au...', meta: {'title': 'And Then There Were None / И никого не стало. Книга для чтения на английском языке', 'authors': 'Агата Кристи', 'publisher': 'Litres', 'publishedDate': '2018-10-09', 'industryIdentifiers': \"{'type': 'ISBN_13', 'identifier': '9785041375676'}, {'type': 'ISBN_10', 'identifier': '5041375674'}\", 'readingModes': {'text': True, 'image': True}, 'pageCount': 469, 'printType': 'BOOK', 'categories': 'Foreign Language Study', 'maturityRating': 'NOT_MATURE', 'allowAnonLogging': True, 'contentVersion': '1.6.6.0.preview.3', 'panelizationSummary': {'containsEpubBubbles': False, 'containsImageBubbles': False}, 'imageLinks': {'smallThumbnail': 'http://books.google.com/books/content?id=qS9yDwAAQBAJ&printsec=frontcover&img=1&zoom=5&edge=curl&source=gbs_api', 'thumbnail': 'http://books.google.com/books/content?id=qS9yDwAAQBAJ&printsec=frontcover&img=1&zoom=1&edge=curl&source=gbs_api'}, 'language': 'en', 'previewLink': 'http://books.google.it/books?id=qS9yDwAAQBAJ&printsec=frontcover&dq=intitle:None&hl=&cd=1&source=gbs_api', 'infoLink': 'http://books.google.it/books?id=qS9yDwAAQBAJ&dq=intitle:None&hl=&source=gbs_api', 'canonicalVolumeLink': 'https://books.google.com/books/about/And_Then_There_Were_None_%D0%98_%D0%BD%D0%B8%D0%BA%D0%BE%D0%B3%D0%BE.html?hl=&id=qS9yDwAAQBAJ', 'subtitle': 'Not available', 'averageRating': 'Not available', 'ratingsCount': 'Not available', 'seriesInfo': 'Not available'}, score: 0.17586490949318495), context=None, document_offset=ExtractedAnswer.Span(start=498, end=564), context_offset=None, meta={}) \n",
            "\n",
            "ExtractedAnswer(query='Who is the author of the girl on the train?', score=0.30556732416152954, data='2018-10-09', document=Document(id=e7589d9912517481ba7ca4862f0c2cedfa4c8a9fc11b30265e1d8c95fa8b4cdf, content: 'Title: And Then There Were None / И никого не стало. Книга для чтения на английском языке;\n",
            "Writer/Au...', meta: {'title': 'And Then There Were None / И никого не стало. Книга для чтения на английском языке', 'authors': 'Агата Кристи', 'publisher': 'Litres', 'publishedDate': '2018-10-09', 'industryIdentifiers': \"{'type': 'ISBN_13', 'identifier': '9785041375676'}, {'type': 'ISBN_10', 'identifier': '5041375674'}\", 'readingModes': {'text': True, 'image': True}, 'pageCount': 469, 'printType': 'BOOK', 'categories': 'Foreign Language Study', 'maturityRating': 'NOT_MATURE', 'allowAnonLogging': True, 'contentVersion': '1.6.6.0.preview.3', 'panelizationSummary': {'containsEpubBubbles': False, 'containsImageBubbles': False}, 'imageLinks': {'smallThumbnail': 'http://books.google.com/books/content?id=qS9yDwAAQBAJ&printsec=frontcover&img=1&zoom=5&edge=curl&source=gbs_api', 'thumbnail': 'http://books.google.com/books/content?id=qS9yDwAAQBAJ&printsec=frontcover&img=1&zoom=1&edge=curl&source=gbs_api'}, 'language': 'en', 'previewLink': 'http://books.google.it/books?id=qS9yDwAAQBAJ&printsec=frontcover&dq=intitle:None&hl=&cd=1&source=gbs_api', 'infoLink': 'http://books.google.it/books?id=qS9yDwAAQBAJ&dq=intitle:None&hl=&source=gbs_api', 'canonicalVolumeLink': 'https://books.google.com/books/about/And_Then_There_Were_None_%D0%98_%D0%BD%D0%B8%D0%BA%D0%BE%D0%B3%D0%BE.html?hl=&id=qS9yDwAAQBAJ', 'subtitle': 'Not available', 'averageRating': 'Not available', 'ratingsCount': 'Not available', 'seriesInfo': 'Not available'}, score: 0.17586490949318495), context=None, document_offset=ExtractedAnswer.Span(start=578, end=588), context_offset=None, meta={}) \n",
            "\n",
            "ExtractedAnswer(query='Who is the author of the girl on the train?', score=0.23819674356206455, data=None, document=None, context=None, document_offset=None, context_offset=None, meta={}) \n",
            "\n",
            "['martian', None, None, 'kevin', None, 'eragon', None, '5', '1', '1', '2', None, 'five', None, None, 'american', 'titan', '3', 'percy jackson', '2666', '2', 'robert langdon', 'olive kitteridge', None, '1', '1', None, 'tehran', 'america', None, 'wolf hall', '1', 'hush', None, '4', '1', '4', None, '1', None, None, 'america', None, '1q84', 'hugo', '1', 'wolf', None, None, '1', 'eight', 'six', '1', None, '1', 'iron kissed', None, None, None, 'lirael (abhorsen', None, None, 'half', '1', '5', 'american', None, None, 'throne', None, '44', None, None, '2', '2', None, None, None, '1', None, None, None, 'half', None, 'one day', 'thursday', None, '2', '5', None, None]\n",
            "book title is None\n"
          ]
        },
        {
          "data": {
            "application/vnd.jupyter.widget-view+json": {
              "model_id": "7a0940a1b6964c749c77e5bca4b21203",
              "version_major": 2,
              "version_minor": 0
            },
            "text/plain": [
              "Batches:   0%|          | 0/1 [00:00<?, ?it/s]"
            ]
          },
          "metadata": {},
          "output_type": "display_data"
        },
        {
          "data": {
            "application/vnd.jupyter.widget-view+json": {
              "model_id": "72b28514156e4940928fa197cbe82bf7",
              "version_major": 2,
              "version_minor": 0
            },
            "text/plain": [
              "Batches:   0%|          | 0/1 [00:00<?, ?it/s]"
            ]
          },
          "metadata": {},
          "output_type": "display_data"
        },
        {
          "name": "stdout",
          "output_type": "stream",
          "text": [
            "ExtractedAnswer(query='Who is the author of the forgotten garden?', score=0.3824712038040161, data='Агата Кристи', document=Document(id=e7589d9912517481ba7ca4862f0c2cedfa4c8a9fc11b30265e1d8c95fa8b4cdf, content: 'Title: And Then There Were None / И никого не стало. Книга для чтения на английском языке;\n",
            "Writer/Au...', meta: {'title': 'And Then There Were None / И никого не стало. Книга для чтения на английском языке', 'authors': 'Агата Кристи', 'publisher': 'Litres', 'publishedDate': '2018-10-09', 'industryIdentifiers': \"{'type': 'ISBN_13', 'identifier': '9785041375676'}, {'type': 'ISBN_10', 'identifier': '5041375674'}\", 'readingModes': {'text': True, 'image': True}, 'pageCount': 469, 'printType': 'BOOK', 'categories': 'Foreign Language Study', 'maturityRating': 'NOT_MATURE', 'allowAnonLogging': True, 'contentVersion': '1.6.6.0.preview.3', 'panelizationSummary': {'containsEpubBubbles': False, 'containsImageBubbles': False}, 'imageLinks': {'smallThumbnail': 'http://books.google.com/books/content?id=qS9yDwAAQBAJ&printsec=frontcover&img=1&zoom=5&edge=curl&source=gbs_api', 'thumbnail': 'http://books.google.com/books/content?id=qS9yDwAAQBAJ&printsec=frontcover&img=1&zoom=1&edge=curl&source=gbs_api'}, 'language': 'en', 'previewLink': 'http://books.google.it/books?id=qS9yDwAAQBAJ&printsec=frontcover&dq=intitle:None&hl=&cd=1&source=gbs_api', 'infoLink': 'http://books.google.it/books?id=qS9yDwAAQBAJ&dq=intitle:None&hl=&source=gbs_api', 'canonicalVolumeLink': 'https://books.google.com/books/about/And_Then_There_Were_None_%D0%98_%D0%BD%D0%B8%D0%BA%D0%BE%D0%B3%D0%BE.html?hl=&id=qS9yDwAAQBAJ', 'subtitle': 'Not available', 'averageRating': 'Not available', 'ratingsCount': 'Not available', 'seriesInfo': 'Not available'}, score: 0.1119141413536994), context=None, document_offset=ExtractedAnswer.Span(start=106, end=118), context_offset=None, meta={}) \n",
            "\n",
            "ExtractedAnswer(query='Who is the author of the forgotten garden?', score=0.3149130921858264, data=None, document=None, context=None, document_offset=None, context_offset=None, meta={}) \n",
            "\n",
            "ExtractedAnswer(query='Who is the author of the forgotten garden?', score=0.2981874942779541, data='Foreign Language Study;\\nNumber of pages: 469;\\nPublished by: Litres', document=Document(id=e7589d9912517481ba7ca4862f0c2cedfa4c8a9fc11b30265e1d8c95fa8b4cdf, content: 'Title: And Then There Were None / И никого не стало. Книга для чтения на английском языке;\n",
            "Writer/Au...', meta: {'title': 'And Then There Were None / И никого не стало. Книга для чтения на английском языке', 'authors': 'Агата Кристи', 'publisher': 'Litres', 'publishedDate': '2018-10-09', 'industryIdentifiers': \"{'type': 'ISBN_13', 'identifier': '9785041375676'}, {'type': 'ISBN_10', 'identifier': '5041375674'}\", 'readingModes': {'text': True, 'image': True}, 'pageCount': 469, 'printType': 'BOOK', 'categories': 'Foreign Language Study', 'maturityRating': 'NOT_MATURE', 'allowAnonLogging': True, 'contentVersion': '1.6.6.0.preview.3', 'panelizationSummary': {'containsEpubBubbles': False, 'containsImageBubbles': False}, 'imageLinks': {'smallThumbnail': 'http://books.google.com/books/content?id=qS9yDwAAQBAJ&printsec=frontcover&img=1&zoom=5&edge=curl&source=gbs_api', 'thumbnail': 'http://books.google.com/books/content?id=qS9yDwAAQBAJ&printsec=frontcover&img=1&zoom=1&edge=curl&source=gbs_api'}, 'language': 'en', 'previewLink': 'http://books.google.it/books?id=qS9yDwAAQBAJ&printsec=frontcover&dq=intitle:None&hl=&cd=1&source=gbs_api', 'infoLink': 'http://books.google.it/books?id=qS9yDwAAQBAJ&dq=intitle:None&hl=&source=gbs_api', 'canonicalVolumeLink': 'https://books.google.com/books/about/And_Then_There_Were_None_%D0%98_%D0%BD%D0%B8%D0%BA%D0%BE%D0%B3%D0%BE.html?hl=&id=qS9yDwAAQBAJ', 'subtitle': 'Not available', 'averageRating': 'Not available', 'ratingsCount': 'Not available', 'seriesInfo': 'Not available'}, score: 0.1119141413536994), context=None, document_offset=ExtractedAnswer.Span(start=498, end=564), context_offset=None, meta={}) \n",
            "\n",
            "ExtractedAnswer(query='Who is the author of the forgotten garden?', score=0.27337154746055603, data='2018-10-09', document=Document(id=e7589d9912517481ba7ca4862f0c2cedfa4c8a9fc11b30265e1d8c95fa8b4cdf, content: 'Title: And Then There Were None / И никого не стало. Книга для чтения на английском языке;\n",
            "Writer/Au...', meta: {'title': 'And Then There Were None / И никого не стало. Книга для чтения на английском языке', 'authors': 'Агата Кристи', 'publisher': 'Litres', 'publishedDate': '2018-10-09', 'industryIdentifiers': \"{'type': 'ISBN_13', 'identifier': '9785041375676'}, {'type': 'ISBN_10', 'identifier': '5041375674'}\", 'readingModes': {'text': True, 'image': True}, 'pageCount': 469, 'printType': 'BOOK', 'categories': 'Foreign Language Study', 'maturityRating': 'NOT_MATURE', 'allowAnonLogging': True, 'contentVersion': '1.6.6.0.preview.3', 'panelizationSummary': {'containsEpubBubbles': False, 'containsImageBubbles': False}, 'imageLinks': {'smallThumbnail': 'http://books.google.com/books/content?id=qS9yDwAAQBAJ&printsec=frontcover&img=1&zoom=5&edge=curl&source=gbs_api', 'thumbnail': 'http://books.google.com/books/content?id=qS9yDwAAQBAJ&printsec=frontcover&img=1&zoom=1&edge=curl&source=gbs_api'}, 'language': 'en', 'previewLink': 'http://books.google.it/books?id=qS9yDwAAQBAJ&printsec=frontcover&dq=intitle:None&hl=&cd=1&source=gbs_api', 'infoLink': 'http://books.google.it/books?id=qS9yDwAAQBAJ&dq=intitle:None&hl=&source=gbs_api', 'canonicalVolumeLink': 'https://books.google.com/books/about/And_Then_There_Were_None_%D0%98_%D0%BD%D0%B8%D0%BA%D0%BE%D0%B3%D0%BE.html?hl=&id=qS9yDwAAQBAJ', 'subtitle': 'Not available', 'averageRating': 'Not available', 'ratingsCount': 'Not available', 'seriesInfo': 'Not available'}, score: 0.1119141413536994), context=None, document_offset=ExtractedAnswer.Span(start=578, end=588), context_offset=None, meta={}) \n",
            "\n",
            "['martian', None, None, 'kevin', None, 'eragon', None, '5', '1', '1', '2', None, 'five', None, None, 'american', 'titan', '3', 'percy jackson', '2666', '2', 'robert langdon', 'olive kitteridge', None, '1', '1', None, 'tehran', 'america', None, 'wolf hall', '1', 'hush', None, '4', '1', '4', None, '1', None, None, 'america', None, '1q84', 'hugo', '1', 'wolf', None, None, '1', 'eight', 'six', '1', None, '1', 'iron kissed', None, None, None, 'lirael (abhorsen', None, None, 'half', '1', '5', 'american', None, None, 'throne', None, '44', None, None, '2', '2', None, None, None, '1', None, None, None, 'half', None, 'one day', 'thursday', None, '2', '5', None, None, None]\n",
            "book title is None\n"
          ]
        },
        {
          "data": {
            "application/vnd.jupyter.widget-view+json": {
              "model_id": "c80fe90bab2b453881ea1b726855673e",
              "version_major": 2,
              "version_minor": 0
            },
            "text/plain": [
              "Batches:   0%|          | 0/1 [00:00<?, ?it/s]"
            ]
          },
          "metadata": {},
          "output_type": "display_data"
        },
        {
          "data": {
            "application/vnd.jupyter.widget-view+json": {
              "model_id": "d9d3ad8494954fbca88462770f489d42",
              "version_major": 2,
              "version_minor": 0
            },
            "text/plain": [
              "Batches:   0%|          | 0/1 [00:00<?, ?it/s]"
            ]
          },
          "metadata": {},
          "output_type": "display_data"
        },
        {
          "name": "stdout",
          "output_type": "stream",
          "text": [
            "ExtractedAnswer(query='Who is the author of fast food nation: the dark side of the all-american meal?', score=0.44084593653678894, data='Агата Кристи', document=Document(id=e7589d9912517481ba7ca4862f0c2cedfa4c8a9fc11b30265e1d8c95fa8b4cdf, content: 'Title: And Then There Were None / И никого не стало. Книга для чтения на английском языке;\n",
            "Writer/Au...', meta: {'title': 'And Then There Were None / И никого не стало. Книга для чтения на английском языке', 'authors': 'Агата Кристи', 'publisher': 'Litres', 'publishedDate': '2018-10-09', 'industryIdentifiers': \"{'type': 'ISBN_13', 'identifier': '9785041375676'}, {'type': 'ISBN_10', 'identifier': '5041375674'}\", 'readingModes': {'text': True, 'image': True}, 'pageCount': 469, 'printType': 'BOOK', 'categories': 'Foreign Language Study', 'maturityRating': 'NOT_MATURE', 'allowAnonLogging': True, 'contentVersion': '1.6.6.0.preview.3', 'panelizationSummary': {'containsEpubBubbles': False, 'containsImageBubbles': False}, 'imageLinks': {'smallThumbnail': 'http://books.google.com/books/content?id=qS9yDwAAQBAJ&printsec=frontcover&img=1&zoom=5&edge=curl&source=gbs_api', 'thumbnail': 'http://books.google.com/books/content?id=qS9yDwAAQBAJ&printsec=frontcover&img=1&zoom=1&edge=curl&source=gbs_api'}, 'language': 'en', 'previewLink': 'http://books.google.it/books?id=qS9yDwAAQBAJ&printsec=frontcover&dq=intitle:None&hl=&cd=1&source=gbs_api', 'infoLink': 'http://books.google.it/books?id=qS9yDwAAQBAJ&dq=intitle:None&hl=&source=gbs_api', 'canonicalVolumeLink': 'https://books.google.com/books/about/And_Then_There_Were_None_%D0%98_%D0%BD%D0%B8%D0%BA%D0%BE%D0%B3%D0%BE.html?hl=&id=qS9yDwAAQBAJ', 'subtitle': 'Not available', 'averageRating': 'Not available', 'ratingsCount': 'Not available', 'seriesInfo': 'Not available'}, score: 0.04178478469091126), context=None, document_offset=ExtractedAnswer.Span(start=106, end=118), context_offset=None, meta={}) \n",
            "\n",
            "ExtractedAnswer(query='Who is the author of fast food nation: the dark side of the all-american meal?', score=0.35932016372680664, data='Foreign Language Study;\\nNumber of pages: 469;\\nPublished by: Litres', document=Document(id=e7589d9912517481ba7ca4862f0c2cedfa4c8a9fc11b30265e1d8c95fa8b4cdf, content: 'Title: And Then There Were None / И никого не стало. Книга для чтения на английском языке;\n",
            "Writer/Au...', meta: {'title': 'And Then There Were None / И никого не стало. Книга для чтения на английском языке', 'authors': 'Агата Кристи', 'publisher': 'Litres', 'publishedDate': '2018-10-09', 'industryIdentifiers': \"{'type': 'ISBN_13', 'identifier': '9785041375676'}, {'type': 'ISBN_10', 'identifier': '5041375674'}\", 'readingModes': {'text': True, 'image': True}, 'pageCount': 469, 'printType': 'BOOK', 'categories': 'Foreign Language Study', 'maturityRating': 'NOT_MATURE', 'allowAnonLogging': True, 'contentVersion': '1.6.6.0.preview.3', 'panelizationSummary': {'containsEpubBubbles': False, 'containsImageBubbles': False}, 'imageLinks': {'smallThumbnail': 'http://books.google.com/books/content?id=qS9yDwAAQBAJ&printsec=frontcover&img=1&zoom=5&edge=curl&source=gbs_api', 'thumbnail': 'http://books.google.com/books/content?id=qS9yDwAAQBAJ&printsec=frontcover&img=1&zoom=1&edge=curl&source=gbs_api'}, 'language': 'en', 'previewLink': 'http://books.google.it/books?id=qS9yDwAAQBAJ&printsec=frontcover&dq=intitle:None&hl=&cd=1&source=gbs_api', 'infoLink': 'http://books.google.it/books?id=qS9yDwAAQBAJ&dq=intitle:None&hl=&source=gbs_api', 'canonicalVolumeLink': 'https://books.google.com/books/about/And_Then_There_Were_None_%D0%98_%D0%BD%D0%B8%D0%BA%D0%BE%D0%B3%D0%BE.html?hl=&id=qS9yDwAAQBAJ', 'subtitle': 'Not available', 'averageRating': 'Not available', 'ratingsCount': 'Not available', 'seriesInfo': 'Not available'}, score: 0.04178478469091126), context=None, document_offset=ExtractedAnswer.Span(start=498, end=564), context_offset=None, meta={}) \n",
            "\n",
            "ExtractedAnswer(query='Who is the author of fast food nation: the dark side of the all-american meal?', score=0.3192581832408905, data='2018-10-09', document=Document(id=e7589d9912517481ba7ca4862f0c2cedfa4c8a9fc11b30265e1d8c95fa8b4cdf, content: 'Title: And Then There Were None / И никого не стало. Книга для чтения на английском языке;\n",
            "Writer/Au...', meta: {'title': 'And Then There Were None / И никого не стало. Книга для чтения на английском языке', 'authors': 'Агата Кристи', 'publisher': 'Litres', 'publishedDate': '2018-10-09', 'industryIdentifiers': \"{'type': 'ISBN_13', 'identifier': '9785041375676'}, {'type': 'ISBN_10', 'identifier': '5041375674'}\", 'readingModes': {'text': True, 'image': True}, 'pageCount': 469, 'printType': 'BOOK', 'categories': 'Foreign Language Study', 'maturityRating': 'NOT_MATURE', 'allowAnonLogging': True, 'contentVersion': '1.6.6.0.preview.3', 'panelizationSummary': {'containsEpubBubbles': False, 'containsImageBubbles': False}, 'imageLinks': {'smallThumbnail': 'http://books.google.com/books/content?id=qS9yDwAAQBAJ&printsec=frontcover&img=1&zoom=5&edge=curl&source=gbs_api', 'thumbnail': 'http://books.google.com/books/content?id=qS9yDwAAQBAJ&printsec=frontcover&img=1&zoom=1&edge=curl&source=gbs_api'}, 'language': 'en', 'previewLink': 'http://books.google.it/books?id=qS9yDwAAQBAJ&printsec=frontcover&dq=intitle:None&hl=&cd=1&source=gbs_api', 'infoLink': 'http://books.google.it/books?id=qS9yDwAAQBAJ&dq=intitle:None&hl=&source=gbs_api', 'canonicalVolumeLink': 'https://books.google.com/books/about/And_Then_There_Were_None_%D0%98_%D0%BD%D0%B8%D0%BA%D0%BE%D0%B3%D0%BE.html?hl=&id=qS9yDwAAQBAJ', 'subtitle': 'Not available', 'averageRating': 'Not available', 'ratingsCount': 'Not available', 'seriesInfo': 'Not available'}, score: 0.04178478469091126), context=None, document_offset=ExtractedAnswer.Span(start=578, end=588), context_offset=None, meta={}) \n",
            "\n",
            "ExtractedAnswer(query='Who is the author of fast food nation: the dark side of the all-american meal?', score=0.24386808650166664, data=None, document=None, context=None, document_offset=None, context_offset=None, meta={}) \n",
            "\n",
            "['martian', None, None, 'kevin', None, 'eragon', None, '5', '1', '1', '2', None, 'five', None, None, 'american', 'titan', '3', 'percy jackson', '2666', '2', 'robert langdon', 'olive kitteridge', None, '1', '1', None, 'tehran', 'america', None, 'wolf hall', '1', 'hush', None, '4', '1', '4', None, '1', None, None, 'america', None, '1q84', 'hugo', '1', 'wolf', None, None, '1', 'eight', 'six', '1', None, '1', 'iron kissed', None, None, None, 'lirael (abhorsen', None, None, 'half', '1', '5', 'american', None, None, 'throne', None, '44', None, None, '2', '2', None, None, None, '1', None, None, None, 'half', None, 'one day', 'thursday', None, '2', '5', None, None, None, None]\n",
            "book title is None\n"
          ]
        },
        {
          "data": {
            "application/vnd.jupyter.widget-view+json": {
              "model_id": "def171a64c1241969ce847457a75fee2",
              "version_major": 2,
              "version_minor": 0
            },
            "text/plain": [
              "Batches:   0%|          | 0/1 [00:00<?, ?it/s]"
            ]
          },
          "metadata": {},
          "output_type": "display_data"
        },
        {
          "data": {
            "application/vnd.jupyter.widget-view+json": {
              "model_id": "60b52301be834e6c9c54a0eb55cffbfc",
              "version_major": 2,
              "version_minor": 0
            },
            "text/plain": [
              "Batches:   0%|          | 0/1 [00:00<?, ?it/s]"
            ]
          },
          "metadata": {},
          "output_type": "display_data"
        },
        {
          "name": "stdout",
          "output_type": "stream",
          "text": [
            "ExtractedAnswer(query='Who is the author of little bee?', score=0.4473460912704468, data='Writer/Author: Агата Кристи', document=Document(id=e7589d9912517481ba7ca4862f0c2cedfa4c8a9fc11b30265e1d8c95fa8b4cdf, content: 'Title: And Then There Were None / И никого не стало. Книга для чтения на английском языке;\n",
            "Writer/Au...', meta: {'title': 'And Then There Were None / И никого не стало. Книга для чтения на английском языке', 'authors': 'Агата Кристи', 'publisher': 'Litres', 'publishedDate': '2018-10-09', 'industryIdentifiers': \"{'type': 'ISBN_13', 'identifier': '9785041375676'}, {'type': 'ISBN_10', 'identifier': '5041375674'}\", 'readingModes': {'text': True, 'image': True}, 'pageCount': 469, 'printType': 'BOOK', 'categories': 'Foreign Language Study', 'maturityRating': 'NOT_MATURE', 'allowAnonLogging': True, 'contentVersion': '1.6.6.0.preview.3', 'panelizationSummary': {'containsEpubBubbles': False, 'containsImageBubbles': False}, 'imageLinks': {'smallThumbnail': 'http://books.google.com/books/content?id=qS9yDwAAQBAJ&printsec=frontcover&img=1&zoom=5&edge=curl&source=gbs_api', 'thumbnail': 'http://books.google.com/books/content?id=qS9yDwAAQBAJ&printsec=frontcover&img=1&zoom=1&edge=curl&source=gbs_api'}, 'language': 'en', 'previewLink': 'http://books.google.it/books?id=qS9yDwAAQBAJ&printsec=frontcover&dq=intitle:None&hl=&cd=1&source=gbs_api', 'infoLink': 'http://books.google.it/books?id=qS9yDwAAQBAJ&dq=intitle:None&hl=&source=gbs_api', 'canonicalVolumeLink': 'https://books.google.com/books/about/And_Then_There_Were_None_%D0%98_%D0%BD%D0%B8%D0%BA%D0%BE%D0%B3%D0%BE.html?hl=&id=qS9yDwAAQBAJ', 'subtitle': 'Not available', 'averageRating': 'Not available', 'ratingsCount': 'Not available', 'seriesInfo': 'Not available'}, score: 0.10525205613693464), context=None, document_offset=ExtractedAnswer.Span(start=91, end=118), context_offset=None, meta={}) \n",
            "\n",
            "ExtractedAnswer(query='Who is the author of little bee?', score=0.33545851707458496, data='Foreign Language Study;\\nNumber of pages: 469;\\nPublished by: Litres', document=Document(id=e7589d9912517481ba7ca4862f0c2cedfa4c8a9fc11b30265e1d8c95fa8b4cdf, content: 'Title: And Then There Were None / И никого не стало. Книга для чтения на английском языке;\n",
            "Writer/Au...', meta: {'title': 'And Then There Were None / И никого не стало. Книга для чтения на английском языке', 'authors': 'Агата Кристи', 'publisher': 'Litres', 'publishedDate': '2018-10-09', 'industryIdentifiers': \"{'type': 'ISBN_13', 'identifier': '9785041375676'}, {'type': 'ISBN_10', 'identifier': '5041375674'}\", 'readingModes': {'text': True, 'image': True}, 'pageCount': 469, 'printType': 'BOOK', 'categories': 'Foreign Language Study', 'maturityRating': 'NOT_MATURE', 'allowAnonLogging': True, 'contentVersion': '1.6.6.0.preview.3', 'panelizationSummary': {'containsEpubBubbles': False, 'containsImageBubbles': False}, 'imageLinks': {'smallThumbnail': 'http://books.google.com/books/content?id=qS9yDwAAQBAJ&printsec=frontcover&img=1&zoom=5&edge=curl&source=gbs_api', 'thumbnail': 'http://books.google.com/books/content?id=qS9yDwAAQBAJ&printsec=frontcover&img=1&zoom=1&edge=curl&source=gbs_api'}, 'language': 'en', 'previewLink': 'http://books.google.it/books?id=qS9yDwAAQBAJ&printsec=frontcover&dq=intitle:None&hl=&cd=1&source=gbs_api', 'infoLink': 'http://books.google.it/books?id=qS9yDwAAQBAJ&dq=intitle:None&hl=&source=gbs_api', 'canonicalVolumeLink': 'https://books.google.com/books/about/And_Then_There_Were_None_%D0%98_%D0%BD%D0%B8%D0%BA%D0%BE%D0%B3%D0%BE.html?hl=&id=qS9yDwAAQBAJ', 'subtitle': 'Not available', 'averageRating': 'Not available', 'ratingsCount': 'Not available', 'seriesInfo': 'Not available'}, score: 0.10525205613693464), context=None, document_offset=ExtractedAnswer.Span(start=498, end=564), context_offset=None, meta={}) \n",
            "\n",
            "ExtractedAnswer(query='Who is the author of little bee?', score=0.31064093112945557, data='2018-10-09', document=Document(id=e7589d9912517481ba7ca4862f0c2cedfa4c8a9fc11b30265e1d8c95fa8b4cdf, content: 'Title: And Then There Were None / И никого не стало. Книга для чтения на английском языке;\n",
            "Writer/Au...', meta: {'title': 'And Then There Were None / И никого не стало. Книга для чтения на английском языке', 'authors': 'Агата Кристи', 'publisher': 'Litres', 'publishedDate': '2018-10-09', 'industryIdentifiers': \"{'type': 'ISBN_13', 'identifier': '9785041375676'}, {'type': 'ISBN_10', 'identifier': '5041375674'}\", 'readingModes': {'text': True, 'image': True}, 'pageCount': 469, 'printType': 'BOOK', 'categories': 'Foreign Language Study', 'maturityRating': 'NOT_MATURE', 'allowAnonLogging': True, 'contentVersion': '1.6.6.0.preview.3', 'panelizationSummary': {'containsEpubBubbles': False, 'containsImageBubbles': False}, 'imageLinks': {'smallThumbnail': 'http://books.google.com/books/content?id=qS9yDwAAQBAJ&printsec=frontcover&img=1&zoom=5&edge=curl&source=gbs_api', 'thumbnail': 'http://books.google.com/books/content?id=qS9yDwAAQBAJ&printsec=frontcover&img=1&zoom=1&edge=curl&source=gbs_api'}, 'language': 'en', 'previewLink': 'http://books.google.it/books?id=qS9yDwAAQBAJ&printsec=frontcover&dq=intitle:None&hl=&cd=1&source=gbs_api', 'infoLink': 'http://books.google.it/books?id=qS9yDwAAQBAJ&dq=intitle:None&hl=&source=gbs_api', 'canonicalVolumeLink': 'https://books.google.com/books/about/And_Then_There_Were_None_%D0%98_%D0%BD%D0%B8%D0%BA%D0%BE%D0%B3%D0%BE.html?hl=&id=qS9yDwAAQBAJ', 'subtitle': 'Not available', 'averageRating': 'Not available', 'ratingsCount': 'Not available', 'seriesInfo': 'Not available'}, score: 0.10525205613693464), context=None, document_offset=ExtractedAnswer.Span(start=578, end=588), context_offset=None, meta={}) \n",
            "\n",
            "ExtractedAnswer(query='Who is the author of little bee?', score=0.2531750098609431, data=None, document=None, context=None, document_offset=None, context_offset=None, meta={}) \n",
            "\n",
            "['martian', None, None, 'kevin', None, 'eragon', None, '5', '1', '1', '2', None, 'five', None, None, 'american', 'titan', '3', 'percy jackson', '2666', '2', 'robert langdon', 'olive kitteridge', None, '1', '1', None, 'tehran', 'america', None, 'wolf hall', '1', 'hush', None, '4', '1', '4', None, '1', None, None, 'america', None, '1q84', 'hugo', '1', 'wolf', None, None, '1', 'eight', 'six', '1', None, '1', 'iron kissed', None, None, None, 'lirael (abhorsen', None, None, 'half', '1', '5', 'american', None, None, 'throne', None, '44', None, None, '2', '2', None, None, None, '1', None, None, None, 'half', None, 'one day', 'thursday', None, '2', '5', None, None, None, None, None]\n",
            "book title is None\n"
          ]
        },
        {
          "data": {
            "application/vnd.jupyter.widget-view+json": {
              "model_id": "ad42b9dd782340319e29239e63d7e23e",
              "version_major": 2,
              "version_minor": 0
            },
            "text/plain": [
              "Batches:   0%|          | 0/1 [00:00<?, ?it/s]"
            ]
          },
          "metadata": {},
          "output_type": "display_data"
        },
        {
          "data": {
            "application/vnd.jupyter.widget-view+json": {
              "model_id": "1d5f9f4e63274ce69d135b3a9d046f79",
              "version_major": 2,
              "version_minor": 0
            },
            "text/plain": [
              "Batches:   0%|          | 0/1 [00:00<?, ?it/s]"
            ]
          },
          "metadata": {},
          "output_type": "display_data"
        },
        {
          "name": "stdout",
          "output_type": "stream",
          "text": [
            "ExtractedAnswer(query='Who is the author of fingersmith?', score=0.4903477728366852, data='Агата Кристи', document=Document(id=e7589d9912517481ba7ca4862f0c2cedfa4c8a9fc11b30265e1d8c95fa8b4cdf, content: 'Title: And Then There Were None / И никого не стало. Книга для чтения на английском языке;\n",
            "Writer/Au...', meta: {'title': 'And Then There Were None / И никого не стало. Книга для чтения на английском языке', 'authors': 'Агата Кристи', 'publisher': 'Litres', 'publishedDate': '2018-10-09', 'industryIdentifiers': \"{'type': 'ISBN_13', 'identifier': '9785041375676'}, {'type': 'ISBN_10', 'identifier': '5041375674'}\", 'readingModes': {'text': True, 'image': True}, 'pageCount': 469, 'printType': 'BOOK', 'categories': 'Foreign Language Study', 'maturityRating': 'NOT_MATURE', 'allowAnonLogging': True, 'contentVersion': '1.6.6.0.preview.3', 'panelizationSummary': {'containsEpubBubbles': False, 'containsImageBubbles': False}, 'imageLinks': {'smallThumbnail': 'http://books.google.com/books/content?id=qS9yDwAAQBAJ&printsec=frontcover&img=1&zoom=5&edge=curl&source=gbs_api', 'thumbnail': 'http://books.google.com/books/content?id=qS9yDwAAQBAJ&printsec=frontcover&img=1&zoom=1&edge=curl&source=gbs_api'}, 'language': 'en', 'previewLink': 'http://books.google.it/books?id=qS9yDwAAQBAJ&printsec=frontcover&dq=intitle:None&hl=&cd=1&source=gbs_api', 'infoLink': 'http://books.google.it/books?id=qS9yDwAAQBAJ&dq=intitle:None&hl=&source=gbs_api', 'canonicalVolumeLink': 'https://books.google.com/books/about/And_Then_There_Were_None_%D0%98_%D0%BD%D0%B8%D0%BA%D0%BE%D0%B3%D0%BE.html?hl=&id=qS9yDwAAQBAJ', 'subtitle': 'Not available', 'averageRating': 'Not available', 'ratingsCount': 'Not available', 'seriesInfo': 'Not available'}, score: 0.15719952866795928), context=None, document_offset=ExtractedAnswer.Span(start=106, end=118), context_offset=None, meta={}) \n",
            "\n",
            "ExtractedAnswer(query='Who is the author of fingersmith?', score=0.3681192696094513, data='Foreign Language Study;\\nNumber of pages: 469;\\nPublished by: Litres', document=Document(id=e7589d9912517481ba7ca4862f0c2cedfa4c8a9fc11b30265e1d8c95fa8b4cdf, content: 'Title: And Then There Were None / И никого не стало. Книга для чтения на английском языке;\n",
            "Writer/Au...', meta: {'title': 'And Then There Were None / И никого не стало. Книга для чтения на английском языке', 'authors': 'Агата Кристи', 'publisher': 'Litres', 'publishedDate': '2018-10-09', 'industryIdentifiers': \"{'type': 'ISBN_13', 'identifier': '9785041375676'}, {'type': 'ISBN_10', 'identifier': '5041375674'}\", 'readingModes': {'text': True, 'image': True}, 'pageCount': 469, 'printType': 'BOOK', 'categories': 'Foreign Language Study', 'maturityRating': 'NOT_MATURE', 'allowAnonLogging': True, 'contentVersion': '1.6.6.0.preview.3', 'panelizationSummary': {'containsEpubBubbles': False, 'containsImageBubbles': False}, 'imageLinks': {'smallThumbnail': 'http://books.google.com/books/content?id=qS9yDwAAQBAJ&printsec=frontcover&img=1&zoom=5&edge=curl&source=gbs_api', 'thumbnail': 'http://books.google.com/books/content?id=qS9yDwAAQBAJ&printsec=frontcover&img=1&zoom=1&edge=curl&source=gbs_api'}, 'language': 'en', 'previewLink': 'http://books.google.it/books?id=qS9yDwAAQBAJ&printsec=frontcover&dq=intitle:None&hl=&cd=1&source=gbs_api', 'infoLink': 'http://books.google.it/books?id=qS9yDwAAQBAJ&dq=intitle:None&hl=&source=gbs_api', 'canonicalVolumeLink': 'https://books.google.com/books/about/And_Then_There_Were_None_%D0%98_%D0%BD%D0%B8%D0%BA%D0%BE%D0%B3%D0%BE.html?hl=&id=qS9yDwAAQBAJ', 'subtitle': 'Not available', 'averageRating': 'Not available', 'ratingsCount': 'Not available', 'seriesInfo': 'Not available'}, score: 0.15719952866795928), context=None, document_offset=ExtractedAnswer.Span(start=498, end=564), context_offset=None, meta={}) \n",
            "\n",
            "ExtractedAnswer(query='Who is the author of fingersmith?', score=0.3257485032081604, data='2018-10-09', document=Document(id=e7589d9912517481ba7ca4862f0c2cedfa4c8a9fc11b30265e1d8c95fa8b4cdf, content: 'Title: And Then There Were None / И никого не стало. Книга для чтения на английском языке;\n",
            "Writer/Au...', meta: {'title': 'And Then There Were None / И никого не стало. Книга для чтения на английском языке', 'authors': 'Агата Кристи', 'publisher': 'Litres', 'publishedDate': '2018-10-09', 'industryIdentifiers': \"{'type': 'ISBN_13', 'identifier': '9785041375676'}, {'type': 'ISBN_10', 'identifier': '5041375674'}\", 'readingModes': {'text': True, 'image': True}, 'pageCount': 469, 'printType': 'BOOK', 'categories': 'Foreign Language Study', 'maturityRating': 'NOT_MATURE', 'allowAnonLogging': True, 'contentVersion': '1.6.6.0.preview.3', 'panelizationSummary': {'containsEpubBubbles': False, 'containsImageBubbles': False}, 'imageLinks': {'smallThumbnail': 'http://books.google.com/books/content?id=qS9yDwAAQBAJ&printsec=frontcover&img=1&zoom=5&edge=curl&source=gbs_api', 'thumbnail': 'http://books.google.com/books/content?id=qS9yDwAAQBAJ&printsec=frontcover&img=1&zoom=1&edge=curl&source=gbs_api'}, 'language': 'en', 'previewLink': 'http://books.google.it/books?id=qS9yDwAAQBAJ&printsec=frontcover&dq=intitle:None&hl=&cd=1&source=gbs_api', 'infoLink': 'http://books.google.it/books?id=qS9yDwAAQBAJ&dq=intitle:None&hl=&source=gbs_api', 'canonicalVolumeLink': 'https://books.google.com/books/about/And_Then_There_Were_None_%D0%98_%D0%BD%D0%B8%D0%BA%D0%BE%D0%B3%D0%BE.html?hl=&id=qS9yDwAAQBAJ', 'subtitle': 'Not available', 'averageRating': 'Not available', 'ratingsCount': 'Not available', 'seriesInfo': 'Not available'}, score: 0.15719952866795928), context=None, document_offset=ExtractedAnswer.Span(start=578, end=588), context_offset=None, meta={}) \n",
            "\n",
            "ExtractedAnswer(query='Who is the author of fingersmith?', score=0.21713556200277886, data=None, document=None, context=None, document_offset=None, context_offset=None, meta={}) \n",
            "\n",
            "['martian', None, None, 'kevin', None, 'eragon', None, '5', '1', '1', '2', None, 'five', None, None, 'american', 'titan', '3', 'percy jackson', '2666', '2', 'robert langdon', 'olive kitteridge', None, '1', '1', None, 'tehran', 'america', None, 'wolf hall', '1', 'hush', None, '4', '1', '4', None, '1', None, None, 'america', None, '1q84', 'hugo', '1', 'wolf', None, None, '1', 'eight', 'six', '1', None, '1', 'iron kissed', None, None, None, 'lirael (abhorsen', None, None, 'half', '1', '5', 'american', None, None, 'throne', None, '44', None, None, '2', '2', None, None, None, '1', None, None, None, 'half', None, 'one day', 'thursday', None, '2', '5', None, None, None, None, None, None]\n",
            "book title is None\n"
          ]
        },
        {
          "data": {
            "application/vnd.jupyter.widget-view+json": {
              "model_id": "b8ccac19d16b4682a274f6d28ea5ddb7",
              "version_major": 2,
              "version_minor": 0
            },
            "text/plain": [
              "Batches:   0%|          | 0/1 [00:00<?, ?it/s]"
            ]
          },
          "metadata": {},
          "output_type": "display_data"
        },
        {
          "data": {
            "application/vnd.jupyter.widget-view+json": {
              "model_id": "79bf3b7818d24b679977b781b05a440c",
              "version_major": 2,
              "version_minor": 0
            },
            "text/plain": [
              "Batches:   0%|          | 0/1 [00:00<?, ?it/s]"
            ]
          },
          "metadata": {},
          "output_type": "display_data"
        },
        {
          "name": "stdout",
          "output_type": "stream",
          "text": [
            "ExtractedAnswer(query='Who is the author of let the right one in?', score=0.44003790616989136, data='Агата Кристи', document=Document(id=e7589d9912517481ba7ca4862f0c2cedfa4c8a9fc11b30265e1d8c95fa8b4cdf, content: 'Title: And Then There Were None / И никого не стало. Книга для чтения на английском языке;\n",
            "Writer/Au...', meta: {'title': 'And Then There Were None / И никого не стало. Книга для чтения на английском языке', 'authors': 'Агата Кристи', 'publisher': 'Litres', 'publishedDate': '2018-10-09', 'industryIdentifiers': \"{'type': 'ISBN_13', 'identifier': '9785041375676'}, {'type': 'ISBN_10', 'identifier': '5041375674'}\", 'readingModes': {'text': True, 'image': True}, 'pageCount': 469, 'printType': 'BOOK', 'categories': 'Foreign Language Study', 'maturityRating': 'NOT_MATURE', 'allowAnonLogging': True, 'contentVersion': '1.6.6.0.preview.3', 'panelizationSummary': {'containsEpubBubbles': False, 'containsImageBubbles': False}, 'imageLinks': {'smallThumbnail': 'http://books.google.com/books/content?id=qS9yDwAAQBAJ&printsec=frontcover&img=1&zoom=5&edge=curl&source=gbs_api', 'thumbnail': 'http://books.google.com/books/content?id=qS9yDwAAQBAJ&printsec=frontcover&img=1&zoom=1&edge=curl&source=gbs_api'}, 'language': 'en', 'previewLink': 'http://books.google.it/books?id=qS9yDwAAQBAJ&printsec=frontcover&dq=intitle:None&hl=&cd=1&source=gbs_api', 'infoLink': 'http://books.google.it/books?id=qS9yDwAAQBAJ&dq=intitle:None&hl=&source=gbs_api', 'canonicalVolumeLink': 'https://books.google.com/books/about/And_Then_There_Were_None_%D0%98_%D0%BD%D0%B8%D0%BA%D0%BE%D0%B3%D0%BE.html?hl=&id=qS9yDwAAQBAJ', 'subtitle': 'Not available', 'averageRating': 'Not available', 'ratingsCount': 'Not available', 'seriesInfo': 'Not available'}, score: 0.1118639720709576), context=None, document_offset=ExtractedAnswer.Span(start=106, end=118), context_offset=None, meta={}) \n",
            "\n",
            "ExtractedAnswer(query='Who is the author of let the right one in?', score=0.34314703941345215, data='Foreign Language Study;\\nNumber of pages: 469;\\nPublished by: Litres', document=Document(id=e7589d9912517481ba7ca4862f0c2cedfa4c8a9fc11b30265e1d8c95fa8b4cdf, content: 'Title: And Then There Were None / И никого не стало. Книга для чтения на английском языке;\n",
            "Writer/Au...', meta: {'title': 'And Then There Were None / И никого не стало. Книга для чтения на английском языке', 'authors': 'Агата Кристи', 'publisher': 'Litres', 'publishedDate': '2018-10-09', 'industryIdentifiers': \"{'type': 'ISBN_13', 'identifier': '9785041375676'}, {'type': 'ISBN_10', 'identifier': '5041375674'}\", 'readingModes': {'text': True, 'image': True}, 'pageCount': 469, 'printType': 'BOOK', 'categories': 'Foreign Language Study', 'maturityRating': 'NOT_MATURE', 'allowAnonLogging': True, 'contentVersion': '1.6.6.0.preview.3', 'panelizationSummary': {'containsEpubBubbles': False, 'containsImageBubbles': False}, 'imageLinks': {'smallThumbnail': 'http://books.google.com/books/content?id=qS9yDwAAQBAJ&printsec=frontcover&img=1&zoom=5&edge=curl&source=gbs_api', 'thumbnail': 'http://books.google.com/books/content?id=qS9yDwAAQBAJ&printsec=frontcover&img=1&zoom=1&edge=curl&source=gbs_api'}, 'language': 'en', 'previewLink': 'http://books.google.it/books?id=qS9yDwAAQBAJ&printsec=frontcover&dq=intitle:None&hl=&cd=1&source=gbs_api', 'infoLink': 'http://books.google.it/books?id=qS9yDwAAQBAJ&dq=intitle:None&hl=&source=gbs_api', 'canonicalVolumeLink': 'https://books.google.com/books/about/And_Then_There_Were_None_%D0%98_%D0%BD%D0%B8%D0%BA%D0%BE%D0%B3%D0%BE.html?hl=&id=qS9yDwAAQBAJ', 'subtitle': 'Not available', 'averageRating': 'Not available', 'ratingsCount': 'Not available', 'seriesInfo': 'Not available'}, score: 0.1118639720709576), context=None, document_offset=ExtractedAnswer.Span(start=498, end=564), context_offset=None, meta={}) \n",
            "\n",
            "ExtractedAnswer(query='Who is the author of let the right one in?', score=0.3129432797431946, data='2018-10-09', document=Document(id=e7589d9912517481ba7ca4862f0c2cedfa4c8a9fc11b30265e1d8c95fa8b4cdf, content: 'Title: And Then There Were None / И никого не стало. Книга для чтения на английском языке;\n",
            "Writer/Au...', meta: {'title': 'And Then There Were None / И никого не стало. Книга для чтения на английском языке', 'authors': 'Агата Кристи', 'publisher': 'Litres', 'publishedDate': '2018-10-09', 'industryIdentifiers': \"{'type': 'ISBN_13', 'identifier': '9785041375676'}, {'type': 'ISBN_10', 'identifier': '5041375674'}\", 'readingModes': {'text': True, 'image': True}, 'pageCount': 469, 'printType': 'BOOK', 'categories': 'Foreign Language Study', 'maturityRating': 'NOT_MATURE', 'allowAnonLogging': True, 'contentVersion': '1.6.6.0.preview.3', 'panelizationSummary': {'containsEpubBubbles': False, 'containsImageBubbles': False}, 'imageLinks': {'smallThumbnail': 'http://books.google.com/books/content?id=qS9yDwAAQBAJ&printsec=frontcover&img=1&zoom=5&edge=curl&source=gbs_api', 'thumbnail': 'http://books.google.com/books/content?id=qS9yDwAAQBAJ&printsec=frontcover&img=1&zoom=1&edge=curl&source=gbs_api'}, 'language': 'en', 'previewLink': 'http://books.google.it/books?id=qS9yDwAAQBAJ&printsec=frontcover&dq=intitle:None&hl=&cd=1&source=gbs_api', 'infoLink': 'http://books.google.it/books?id=qS9yDwAAQBAJ&dq=intitle:None&hl=&source=gbs_api', 'canonicalVolumeLink': 'https://books.google.com/books/about/And_Then_There_Were_None_%D0%98_%D0%BD%D0%B8%D0%BA%D0%BE%D0%B3%D0%BE.html?hl=&id=qS9yDwAAQBAJ', 'subtitle': 'Not available', 'averageRating': 'Not available', 'ratingsCount': 'Not available', 'seriesInfo': 'Not available'}, score: 0.1118639720709576), context=None, document_offset=ExtractedAnswer.Span(start=578, end=588), context_offset=None, meta={}) \n",
            "\n",
            "ExtractedAnswer(query='Who is the author of let the right one in?', score=0.2527082279692085, data=None, document=None, context=None, document_offset=None, context_offset=None, meta={}) \n",
            "\n",
            "['martian', None, None, 'kevin', None, 'eragon', None, '5', '1', '1', '2', None, 'five', None, None, 'american', 'titan', '3', 'percy jackson', '2666', '2', 'robert langdon', 'olive kitteridge', None, '1', '1', None, 'tehran', 'america', None, 'wolf hall', '1', 'hush', None, '4', '1', '4', None, '1', None, None, 'america', None, '1q84', 'hugo', '1', 'wolf', None, None, '1', 'eight', 'six', '1', None, '1', 'iron kissed', None, None, None, 'lirael (abhorsen', None, None, 'half', '1', '5', 'american', None, None, 'throne', None, '44', None, None, '2', '2', None, None, None, '1', None, None, None, 'half', None, 'one day', 'thursday', None, '2', '5', None, None, None, None, None, None, '1']\n",
            "book title is 1\n"
          ]
        },
        {
          "data": {
            "application/vnd.jupyter.widget-view+json": {
              "model_id": "651e34a3ba2d46fba3ed6cbbd42edb94",
              "version_major": 2,
              "version_minor": 0
            },
            "text/plain": [
              "Batches:   0%|          | 0/1 [00:00<?, ?it/s]"
            ]
          },
          "metadata": {},
          "output_type": "display_data"
        },
        {
          "data": {
            "application/vnd.jupyter.widget-view+json": {
              "model_id": "6db6f98630fc4467a6aa7209f712b5be",
              "version_major": 2,
              "version_minor": 0
            },
            "text/plain": [
              "Batches:   0%|          | 0/1 [00:00<?, ?it/s]"
            ]
          },
          "metadata": {},
          "output_type": "display_data"
        },
        {
          "name": "stdout",
          "output_type": "stream",
          "text": [
            "ExtractedAnswer(query='Who is the author of delirium (delirium, #1)?', score=0.7606597542762756, data='Giacomo Leopardi', document=Document(id=48eb59a7ddf02190e2da31a36a83e22189b0595bc280eb603ae9f4ea74c47f36, content: 'Title: Opere Di Giacomo Leopardi, Vol. 1 (Classic Reprint);\n",
            "Writer/Author: Giacomo Leopardi;\n",
            "Topic: ...', meta: {'title': 'Opere Di Giacomo Leopardi, Vol. 1 (Classic Reprint)', 'authors': 'Giacomo Leopardi', 'publisher': 'Forgotten Books', 'publishedDate': '2017-10-16', 'industryIdentifiers': \"{'type': 'ISBN_10', 'identifier': '0265393299'}, {'type': 'ISBN_13', 'identifier': '9780265393291'}\", 'readingModes': {'text': False, 'image': False}, 'pageCount': 366, 'printType': 'BOOK', 'categories': 'Poetry', 'maturityRating': 'NOT_MATURE', 'allowAnonLogging': False, 'contentVersion': 'preview-1.0.0', 'panelizationSummary': {'containsEpubBubbles': False, 'containsImageBubbles': False}, 'imageLinks': {'smallThumbnail': 'http://books.google.com/books/content?id=vcA9swEACAAJ&printsec=frontcover&img=1&zoom=5&source=gbs_api', 'thumbnail': 'http://books.google.com/books/content?id=vcA9swEACAAJ&printsec=frontcover&img=1&zoom=1&source=gbs_api'}, 'language': 'it', 'previewLink': 'http://books.google.it/books?id=vcA9swEACAAJ&dq=intitle:1&hl=&cd=1&source=gbs_api', 'infoLink': 'http://books.google.it/books?id=vcA9swEACAAJ&dq=intitle:1&hl=&source=gbs_api', 'canonicalVolumeLink': 'https://books.google.com/books/about/Opere_Di_Giacomo_Leopardi_Vol_1_Classic.html?hl=&id=vcA9swEACAAJ', 'subtitle': 'Not available', 'averageRating': 'Not available', 'ratingsCount': 'Not available', 'seriesInfo': 'Not available'}, score: 0.1775527803842396), context=None, document_offset=ExtractedAnswer.Span(start=75, end=91), context_offset=None, meta={}) \n",
            "\n",
            "ExtractedAnswer(query='Who is the author of delirium (delirium, #1)?', score=0.5779533386230469, data='Opere Di Giacomo Leopardi', document=Document(id=48eb59a7ddf02190e2da31a36a83e22189b0595bc280eb603ae9f4ea74c47f36, content: 'Title: Opere Di Giacomo Leopardi, Vol. 1 (Classic Reprint);\n",
            "Writer/Author: Giacomo Leopardi;\n",
            "Topic: ...', meta: {'title': 'Opere Di Giacomo Leopardi, Vol. 1 (Classic Reprint)', 'authors': 'Giacomo Leopardi', 'publisher': 'Forgotten Books', 'publishedDate': '2017-10-16', 'industryIdentifiers': \"{'type': 'ISBN_10', 'identifier': '0265393299'}, {'type': 'ISBN_13', 'identifier': '9780265393291'}\", 'readingModes': {'text': False, 'image': False}, 'pageCount': 366, 'printType': 'BOOK', 'categories': 'Poetry', 'maturityRating': 'NOT_MATURE', 'allowAnonLogging': False, 'contentVersion': 'preview-1.0.0', 'panelizationSummary': {'containsEpubBubbles': False, 'containsImageBubbles': False}, 'imageLinks': {'smallThumbnail': 'http://books.google.com/books/content?id=vcA9swEACAAJ&printsec=frontcover&img=1&zoom=5&source=gbs_api', 'thumbnail': 'http://books.google.com/books/content?id=vcA9swEACAAJ&printsec=frontcover&img=1&zoom=1&source=gbs_api'}, 'language': 'it', 'previewLink': 'http://books.google.it/books?id=vcA9swEACAAJ&dq=intitle:1&hl=&cd=1&source=gbs_api', 'infoLink': 'http://books.google.it/books?id=vcA9swEACAAJ&dq=intitle:1&hl=&source=gbs_api', 'canonicalVolumeLink': 'https://books.google.com/books/about/Opere_Di_Giacomo_Leopardi_Vol_1_Classic.html?hl=&id=vcA9swEACAAJ', 'subtitle': 'Not available', 'averageRating': 'Not available', 'ratingsCount': 'Not available', 'seriesInfo': 'Not available'}, score: 0.1775527803842396), context=None, document_offset=ExtractedAnswer.Span(start=7, end=32), context_offset=None, meta={}) \n",
            "\n",
            "ExtractedAnswer(query='Who is the author of delirium (delirium, #1)?', score=0.46777838468551636, data='Plotino e di Por firio', document=Document(id=48eb59a7ddf02190e2da31a36a83e22189b0595bc280eb603ae9f4ea74c47f36, content: 'Title: Opere Di Giacomo Leopardi, Vol. 1 (Classic Reprint);\n",
            "Writer/Author: Giacomo Leopardi;\n",
            "Topic: ...', meta: {'title': 'Opere Di Giacomo Leopardi, Vol. 1 (Classic Reprint)', 'authors': 'Giacomo Leopardi', 'publisher': 'Forgotten Books', 'publishedDate': '2017-10-16', 'industryIdentifiers': \"{'type': 'ISBN_10', 'identifier': '0265393299'}, {'type': 'ISBN_13', 'identifier': '9780265393291'}\", 'readingModes': {'text': False, 'image': False}, 'pageCount': 366, 'printType': 'BOOK', 'categories': 'Poetry', 'maturityRating': 'NOT_MATURE', 'allowAnonLogging': False, 'contentVersion': 'preview-1.0.0', 'panelizationSummary': {'containsEpubBubbles': False, 'containsImageBubbles': False}, 'imageLinks': {'smallThumbnail': 'http://books.google.com/books/content?id=vcA9swEACAAJ&printsec=frontcover&img=1&zoom=5&source=gbs_api', 'thumbnail': 'http://books.google.com/books/content?id=vcA9swEACAAJ&printsec=frontcover&img=1&zoom=1&source=gbs_api'}, 'language': 'it', 'previewLink': 'http://books.google.it/books?id=vcA9swEACAAJ&dq=intitle:1&hl=&cd=1&source=gbs_api', 'infoLink': 'http://books.google.it/books?id=vcA9swEACAAJ&dq=intitle:1&hl=&source=gbs_api', 'canonicalVolumeLink': 'https://books.google.com/books/about/Opere_Di_Giacomo_Leopardi_Vol_1_Classic.html?hl=&id=vcA9swEACAAJ', 'subtitle': 'Not available', 'averageRating': 'Not available', 'ratingsCount': 'Not available', 'seriesInfo': 'Not available'}, score: 0.1775527803842396), context=None, document_offset=ExtractedAnswer.Span(start=656, end=678), context_offset=None, meta={}) \n",
            "\n",
            "ExtractedAnswer(query='Who is the author of delirium (delirium, #1)?', score=0.053761169845647265, data=None, document=None, context=None, document_offset=None, context_offset=None, meta={}) \n",
            "\n",
            "['martian', None, None, 'kevin', None, 'eragon', None, '5', '1', '1', '2', None, 'five', None, None, 'american', 'titan', '3', 'percy jackson', '2666', '2', 'robert langdon', 'olive kitteridge', None, '1', '1', None, 'tehran', 'america', None, 'wolf hall', '1', 'hush', None, '4', '1', '4', None, '1', None, None, 'america', None, '1q84', 'hugo', '1', 'wolf', None, None, '1', 'eight', 'six', '1', None, '1', 'iron kissed', None, None, None, 'lirael (abhorsen', None, None, 'half', '1', '5', 'american', None, None, 'throne', None, '44', None, None, '2', '2', None, None, None, '1', None, None, None, 'half', None, 'one day', 'thursday', None, '2', '5', None, None, None, None, None, None, '1', '1']\n",
            "book title is 1\n"
          ]
        },
        {
          "data": {
            "application/vnd.jupyter.widget-view+json": {
              "model_id": "be2099d326ad4de385a9953cda775068",
              "version_major": 2,
              "version_minor": 0
            },
            "text/plain": [
              "Batches:   0%|          | 0/1 [00:00<?, ?it/s]"
            ]
          },
          "metadata": {},
          "output_type": "display_data"
        },
        {
          "data": {
            "application/vnd.jupyter.widget-view+json": {
              "model_id": "02062db2a3d04dfc958c8ddaf5086666",
              "version_major": 2,
              "version_minor": 0
            },
            "text/plain": [
              "Batches:   0%|          | 0/1 [00:00<?, ?it/s]"
            ]
          },
          "metadata": {},
          "output_type": "display_data"
        },
        {
          "name": "stdout",
          "output_type": "stream",
          "text": [
            "ExtractedAnswer(query='Who is the author of the final empire (mistborn, #1)?', score=0.678237795829773, data='Giacomo Leopardi', document=Document(id=48eb59a7ddf02190e2da31a36a83e22189b0595bc280eb603ae9f4ea74c47f36, content: 'Title: Opere Di Giacomo Leopardi, Vol. 1 (Classic Reprint);\n",
            "Writer/Author: Giacomo Leopardi;\n",
            "Topic: ...', meta: {'title': 'Opere Di Giacomo Leopardi, Vol. 1 (Classic Reprint)', 'authors': 'Giacomo Leopardi', 'publisher': 'Forgotten Books', 'publishedDate': '2017-10-16', 'industryIdentifiers': \"{'type': 'ISBN_10', 'identifier': '0265393299'}, {'type': 'ISBN_13', 'identifier': '9780265393291'}\", 'readingModes': {'text': False, 'image': False}, 'pageCount': 366, 'printType': 'BOOK', 'categories': 'Poetry', 'maturityRating': 'NOT_MATURE', 'allowAnonLogging': False, 'contentVersion': 'preview-1.0.0', 'panelizationSummary': {'containsEpubBubbles': False, 'containsImageBubbles': False}, 'imageLinks': {'smallThumbnail': 'http://books.google.com/books/content?id=vcA9swEACAAJ&printsec=frontcover&img=1&zoom=5&source=gbs_api', 'thumbnail': 'http://books.google.com/books/content?id=vcA9swEACAAJ&printsec=frontcover&img=1&zoom=1&source=gbs_api'}, 'language': 'it', 'previewLink': 'http://books.google.it/books?id=vcA9swEACAAJ&dq=intitle:1&hl=&cd=1&source=gbs_api', 'infoLink': 'http://books.google.it/books?id=vcA9swEACAAJ&dq=intitle:1&hl=&source=gbs_api', 'canonicalVolumeLink': 'https://books.google.com/books/about/Opere_Di_Giacomo_Leopardi_Vol_1_Classic.html?hl=&id=vcA9swEACAAJ', 'subtitle': 'Not available', 'averageRating': 'Not available', 'ratingsCount': 'Not available', 'seriesInfo': 'Not available'}, score: 0.18838592530472975), context=None, document_offset=ExtractedAnswer.Span(start=75, end=91), context_offset=None, meta={}) \n",
            "\n",
            "ExtractedAnswer(query='Who is the author of the final empire (mistborn, #1)?', score=0.5709664821624756, data='Opere Di Giacomo Leopardi', document=Document(id=48eb59a7ddf02190e2da31a36a83e22189b0595bc280eb603ae9f4ea74c47f36, content: 'Title: Opere Di Giacomo Leopardi, Vol. 1 (Classic Reprint);\n",
            "Writer/Author: Giacomo Leopardi;\n",
            "Topic: ...', meta: {'title': 'Opere Di Giacomo Leopardi, Vol. 1 (Classic Reprint)', 'authors': 'Giacomo Leopardi', 'publisher': 'Forgotten Books', 'publishedDate': '2017-10-16', 'industryIdentifiers': \"{'type': 'ISBN_10', 'identifier': '0265393299'}, {'type': 'ISBN_13', 'identifier': '9780265393291'}\", 'readingModes': {'text': False, 'image': False}, 'pageCount': 366, 'printType': 'BOOK', 'categories': 'Poetry', 'maturityRating': 'NOT_MATURE', 'allowAnonLogging': False, 'contentVersion': 'preview-1.0.0', 'panelizationSummary': {'containsEpubBubbles': False, 'containsImageBubbles': False}, 'imageLinks': {'smallThumbnail': 'http://books.google.com/books/content?id=vcA9swEACAAJ&printsec=frontcover&img=1&zoom=5&source=gbs_api', 'thumbnail': 'http://books.google.com/books/content?id=vcA9swEACAAJ&printsec=frontcover&img=1&zoom=1&source=gbs_api'}, 'language': 'it', 'previewLink': 'http://books.google.it/books?id=vcA9swEACAAJ&dq=intitle:1&hl=&cd=1&source=gbs_api', 'infoLink': 'http://books.google.it/books?id=vcA9swEACAAJ&dq=intitle:1&hl=&source=gbs_api', 'canonicalVolumeLink': 'https://books.google.com/books/about/Opere_Di_Giacomo_Leopardi_Vol_1_Classic.html?hl=&id=vcA9swEACAAJ', 'subtitle': 'Not available', 'averageRating': 'Not available', 'ratingsCount': 'Not available', 'seriesInfo': 'Not available'}, score: 0.18838592530472975), context=None, document_offset=ExtractedAnswer.Span(start=7, end=32), context_offset=None, meta={}) \n",
            "\n",
            "ExtractedAnswer(query='Who is the author of the final empire (mistborn, #1)?', score=0.4326443076133728, data='Pietro Giordani', document=Document(id=48eb59a7ddf02190e2da31a36a83e22189b0595bc280eb603ae9f4ea74c47f36, content: 'Title: Opere Di Giacomo Leopardi, Vol. 1 (Classic Reprint);\n",
            "Writer/Author: Giacomo Leopardi;\n",
            "Topic: ...', meta: {'title': 'Opere Di Giacomo Leopardi, Vol. 1 (Classic Reprint)', 'authors': 'Giacomo Leopardi', 'publisher': 'Forgotten Books', 'publishedDate': '2017-10-16', 'industryIdentifiers': \"{'type': 'ISBN_10', 'identifier': '0265393299'}, {'type': 'ISBN_13', 'identifier': '9780265393291'}\", 'readingModes': {'text': False, 'image': False}, 'pageCount': 366, 'printType': 'BOOK', 'categories': 'Poetry', 'maturityRating': 'NOT_MATURE', 'allowAnonLogging': False, 'contentVersion': 'preview-1.0.0', 'panelizationSummary': {'containsEpubBubbles': False, 'containsImageBubbles': False}, 'imageLinks': {'smallThumbnail': 'http://books.google.com/books/content?id=vcA9swEACAAJ&printsec=frontcover&img=1&zoom=5&source=gbs_api', 'thumbnail': 'http://books.google.com/books/content?id=vcA9swEACAAJ&printsec=frontcover&img=1&zoom=1&source=gbs_api'}, 'language': 'it', 'previewLink': 'http://books.google.it/books?id=vcA9swEACAAJ&dq=intitle:1&hl=&cd=1&source=gbs_api', 'infoLink': 'http://books.google.it/books?id=vcA9swEACAAJ&dq=intitle:1&hl=&source=gbs_api', 'canonicalVolumeLink': 'https://books.google.com/books/about/Opere_Di_Giacomo_Leopardi_Vol_1_Classic.html?hl=&id=vcA9swEACAAJ', 'subtitle': 'Not available', 'averageRating': 'Not available', 'ratingsCount': 'Not available', 'seriesInfo': 'Not available'}, score: 0.18838592530472975), context=None, document_offset=ExtractedAnswer.Span(start=1107, end=1122), context_offset=None, meta={}) \n",
            "\n",
            "ExtractedAnswer(query='Who is the author of the final empire (mistborn, #1)?', score=0.07832162098064514, data=None, document=None, context=None, document_offset=None, context_offset=None, meta={}) \n",
            "\n",
            "['martian', None, None, 'kevin', None, 'eragon', None, '5', '1', '1', '2', None, 'five', None, None, 'american', 'titan', '3', 'percy jackson', '2666', '2', 'robert langdon', 'olive kitteridge', None, '1', '1', None, 'tehran', 'america', None, 'wolf hall', '1', 'hush', None, '4', '1', '4', None, '1', None, None, 'america', None, '1q84', 'hugo', '1', 'wolf', None, None, '1', 'eight', 'six', '1', None, '1', 'iron kissed', None, None, None, 'lirael (abhorsen', None, None, 'half', '1', '5', 'american', None, None, 'throne', None, '44', None, None, '2', '2', None, None, None, '1', None, None, None, 'half', None, 'one day', 'thursday', None, '2', '5', None, None, None, None, None, None, '1', '1', 'fifty']\n",
            "book title is fifty\n"
          ]
        },
        {
          "data": {
            "application/vnd.jupyter.widget-view+json": {
              "model_id": "669b81c7b100494b8193ddcc9e3cbfd7",
              "version_major": 2,
              "version_minor": 0
            },
            "text/plain": [
              "Batches:   0%|          | 0/1 [00:00<?, ?it/s]"
            ]
          },
          "metadata": {},
          "output_type": "display_data"
        },
        {
          "data": {
            "application/vnd.jupyter.widget-view+json": {
              "model_id": "cf964d1861a245139f8ef5a6cc1d796f",
              "version_major": 2,
              "version_minor": 0
            },
            "text/plain": [
              "Batches:   0%|          | 0/1 [00:00<?, ?it/s]"
            ]
          },
          "metadata": {},
          "output_type": "display_data"
        },
        {
          "name": "stdout",
          "output_type": "stream",
          "text": [
            "ExtractedAnswer(query='Who is the author of fifty shades of grey (fifty shades, #1)?', score=0.6050356030464172, data='Stanley Meisler', document=Document(id=7ed5220a78604222cce508a157443fa3d8d8a0c615a6e20d6034f71986b93fe9, content: 'Title: United Nations;\n",
            "Writer/Author: Stanley Meisler;\n",
            "Topic: Beginning with the birth of the U.N., ...', meta: {'title': 'United Nations', 'subtitle': 'The First Fifty Years', 'authors': 'Stanley Meisler', 'publisher': 'Atlantic Monthly Press', 'publishedDate': '1995', 'industryIdentifiers': \"{'type': 'ISBN_10', 'identifier': '0871136562'}, {'type': 'ISBN_13', 'identifier': '9780871136565'}\", 'readingModes': {'text': True, 'image': True}, 'pageCount': 420, 'printType': 'BOOK', 'categories': 'History', 'maturityRating': 'NOT_MATURE', 'allowAnonLogging': False, 'contentVersion': '1.6.7.0.preview.3', 'panelizationSummary': {'containsEpubBubbles': False, 'containsImageBubbles': False}, 'imageLinks': {'smallThumbnail': 'http://books.google.com/books/content?id=vnfy4oBBHIoC&printsec=frontcover&img=1&zoom=5&edge=curl&source=gbs_api', 'thumbnail': 'http://books.google.com/books/content?id=vnfy4oBBHIoC&printsec=frontcover&img=1&zoom=1&edge=curl&source=gbs_api'}, 'language': 'en', 'previewLink': 'http://books.google.it/books?id=vnfy4oBBHIoC&printsec=frontcover&dq=intitle:fifty&hl=&cd=1&source=gbs_api', 'infoLink': 'http://books.google.it/books?id=vnfy4oBBHIoC&dq=intitle:fifty&hl=&source=gbs_api', 'canonicalVolumeLink': 'https://books.google.com/books/about/United_Nations.html?hl=&id=vnfy4oBBHIoC', 'averageRating': 'Not available', 'ratingsCount': 'Not available', 'seriesInfo': 'Not available'}, score: 0.13501801100951782), context=None, document_offset=ExtractedAnswer.Span(start=38, end=53), context_offset=None, meta={}) \n",
            "\n",
            "ExtractedAnswer(query='Who is the author of fifty shades of grey (fifty shades, #1)?', score=0.39496439695358276, data=None, document=None, context=None, document_offset=None, context_offset=None, meta={}) \n",
            "\n",
            "['martian', None, None, 'kevin', None, 'eragon', None, '5', '1', '1', '2', None, 'five', None, None, 'american', 'titan', '3', 'percy jackson', '2666', '2', 'robert langdon', 'olive kitteridge', None, '1', '1', None, 'tehran', 'america', None, 'wolf hall', '1', 'hush', None, '4', '1', '4', None, '1', None, None, 'america', None, '1q84', 'hugo', '1', 'wolf', None, None, '1', 'eight', 'six', '1', None, '1', 'iron kissed', None, None, None, 'lirael (abhorsen', None, None, 'half', '1', '5', 'american', None, None, 'throne', None, '44', None, None, '2', '2', None, None, None, '1', None, None, None, 'half', None, 'one day', 'thursday', None, '2', '5', None, None, None, None, None, None, '1', '1', 'fifty', '2']\n",
            "book title is 2\n"
          ]
        },
        {
          "data": {
            "application/vnd.jupyter.widget-view+json": {
              "model_id": "dac1ee1c107d4f9f9da93cbdbbe06d2d",
              "version_major": 2,
              "version_minor": 0
            },
            "text/plain": [
              "Batches:   0%|          | 0/1 [00:00<?, ?it/s]"
            ]
          },
          "metadata": {},
          "output_type": "display_data"
        },
        {
          "data": {
            "application/vnd.jupyter.widget-view+json": {
              "model_id": "ad38244ce328493ab18335a33e9ac63e",
              "version_major": 2,
              "version_minor": 0
            },
            "text/plain": [
              "Batches:   0%|          | 0/1 [00:00<?, ?it/s]"
            ]
          },
          "metadata": {},
          "output_type": "display_data"
        },
        {
          "name": "stdout",
          "output_type": "stream",
          "text": [
            "ExtractedAnswer(query='Who is the author of clockwork prince (the infernal devices, #2)?', score=0.6311920285224915, data='Angelo Pezzana', document=Document(id=01cdab9394850832927c46cc52f8160140eb174ce94b3c6b714e0705fa7c6b14, content: 'Title: Storia della citta di Parma continuata;\n",
            "Writer/Author: Angelo Pezzana;\n",
            "Topic: Sorry, I am una...', meta: {'title': 'Storia della citta di Parma continuata', 'subtitle': '1401 - 1449. 2', 'authors': 'Angelo Pezzana', 'publishedDate': '1842', 'industryIdentifiers': \"{'type': 'OTHER', 'identifier': 'ONB:+Z168004004'}\", 'readingModes': {'text': False, 'image': True}, 'pageCount': 882, 'printType': 'BOOK', 'maturityRating': 'NOT_MATURE', 'allowAnonLogging': False, 'contentVersion': '0.6.5.0.full.1', 'panelizationSummary': {'containsEpubBubbles': False, 'containsImageBubbles': False}, 'imageLinks': {'smallThumbnail': 'http://books.google.com/books/content?id=pc9TAAAAcAAJ&printsec=frontcover&img=1&zoom=5&edge=curl&source=gbs_api', 'thumbnail': 'http://books.google.com/books/content?id=pc9TAAAAcAAJ&printsec=frontcover&img=1&zoom=1&edge=curl&source=gbs_api'}, 'language': 'it', 'previewLink': 'http://books.google.it/books?id=pc9TAAAAcAAJ&printsec=frontcover&dq=intitle:2&hl=&cd=1&source=gbs_api', 'infoLink': 'https://play.google.com/store/books/details?id=pc9TAAAAcAAJ&source=gbs_api', 'canonicalVolumeLink': 'https://play.google.com/store/books/details?id=pc9TAAAAcAAJ', 'publisher': 'Not available', 'categories': 'Not available', 'averageRating': 'Not available', 'ratingsCount': 'Not available', 'seriesInfo': 'Not available'}, score: 0.2538221010358109), context=None, document_offset=ExtractedAnswer.Span(start=62, end=76), context_offset=None, meta={}) \n",
            "\n",
            "ExtractedAnswer(query='Who is the author of clockwork prince (the infernal devices, #2)?', score=0.36880797147750854, data=None, document=None, context=None, document_offset=None, context_offset=None, meta={}) \n",
            "\n",
            "['martian', None, None, 'kevin', None, 'eragon', None, '5', '1', '1', '2', None, 'five', None, None, 'american', 'titan', '3', 'percy jackson', '2666', '2', 'robert langdon', 'olive kitteridge', None, '1', '1', None, 'tehran', 'america', None, 'wolf hall', '1', 'hush', None, '4', '1', '4', None, '1', None, None, 'america', None, '1q84', 'hugo', '1', 'wolf', None, None, '1', 'eight', 'six', '1', None, '1', 'iron kissed', None, None, None, 'lirael (abhorsen', None, None, 'half', '1', '5', 'american', None, None, 'throne', None, '44', None, None, '2', '2', None, None, None, '1', None, None, None, 'half', None, 'one day', 'thursday', None, '2', '5', None, None, None, None, None, None, '1', '1', 'fifty', '2', 'saturday']\n",
            "book title is saturday\n"
          ]
        },
        {
          "data": {
            "application/vnd.jupyter.widget-view+json": {
              "model_id": "f9925fcad38d4b5991c85635622a1c9d",
              "version_major": 2,
              "version_minor": 0
            },
            "text/plain": [
              "Batches:   0%|          | 0/1 [00:00<?, ?it/s]"
            ]
          },
          "metadata": {},
          "output_type": "display_data"
        },
        {
          "data": {
            "application/vnd.jupyter.widget-view+json": {
              "model_id": "3d55fd4020ad4732a3586ac57291e08e",
              "version_major": 2,
              "version_minor": 0
            },
            "text/plain": [
              "Batches:   0%|          | 0/1 [00:00<?, ?it/s]"
            ]
          },
          "metadata": {},
          "output_type": "display_data"
        },
        {
          "name": "stdout",
          "output_type": "stream",
          "text": [
            "ExtractedAnswer(query='Who is the author of saturday?', score=0.820523738861084, data='Robert Burns', document=Document(id=f8db19f23fbeb1ad7b58637364d19d1fb51cab38babfd6bb55869079ca50e977, content: 'Title: The Cotter's Saturday Night;\n",
            "Writer/Author: Robert Burns;\n",
            "Topic: Sorry, I am unable to answer...', meta: {'title': \"The Cotter's Saturday Night\", 'authors': 'Robert Burns', 'publishedDate': '1803', 'industryIdentifiers': \"{'type': 'OTHER', 'identifier': 'NLS:B900060635'}\", 'readingModes': {'text': False, 'image': True}, 'pageCount': 20, 'printType': 'BOOK', 'maturityRating': 'NOT_MATURE', 'allowAnonLogging': False, 'contentVersion': '0.1.2.0.full.1', 'panelizationSummary': {'containsEpubBubbles': False, 'containsImageBubbles': False}, 'imageLinks': {'smallThumbnail': 'http://books.google.com/books/content?id=LsRp-Iool2IC&printsec=frontcover&img=1&zoom=5&edge=curl&source=gbs_api', 'thumbnail': 'http://books.google.com/books/content?id=LsRp-Iool2IC&printsec=frontcover&img=1&zoom=1&edge=curl&source=gbs_api'}, 'language': 'en', 'previewLink': 'http://books.google.it/books?id=LsRp-Iool2IC&printsec=frontcover&dq=intitle:saturday&hl=&cd=1&source=gbs_api', 'infoLink': 'https://play.google.com/store/books/details?id=LsRp-Iool2IC&source=gbs_api', 'canonicalVolumeLink': 'https://play.google.com/store/books/details?id=LsRp-Iool2IC', 'subtitle': 'Not available', 'publisher': 'Not available', 'categories': 'Not available', 'averageRating': 'Not available', 'ratingsCount': 'Not available', 'seriesInfo': 'Not available'}, score: 0.6034924276114881), context=None, document_offset=ExtractedAnswer.Span(start=51, end=63), context_offset=None, meta={}) \n",
            "\n",
            "ExtractedAnswer(query='Who is the author of saturday?', score=0.6066962480545044, data=\"The Cotter's Saturday Night\", document=Document(id=f8db19f23fbeb1ad7b58637364d19d1fb51cab38babfd6bb55869079ca50e977, content: 'Title: The Cotter's Saturday Night;\n",
            "Writer/Author: Robert Burns;\n",
            "Topic: Sorry, I am unable to answer...', meta: {'title': \"The Cotter's Saturday Night\", 'authors': 'Robert Burns', 'publishedDate': '1803', 'industryIdentifiers': \"{'type': 'OTHER', 'identifier': 'NLS:B900060635'}\", 'readingModes': {'text': False, 'image': True}, 'pageCount': 20, 'printType': 'BOOK', 'maturityRating': 'NOT_MATURE', 'allowAnonLogging': False, 'contentVersion': '0.1.2.0.full.1', 'panelizationSummary': {'containsEpubBubbles': False, 'containsImageBubbles': False}, 'imageLinks': {'smallThumbnail': 'http://books.google.com/books/content?id=LsRp-Iool2IC&printsec=frontcover&img=1&zoom=5&edge=curl&source=gbs_api', 'thumbnail': 'http://books.google.com/books/content?id=LsRp-Iool2IC&printsec=frontcover&img=1&zoom=1&edge=curl&source=gbs_api'}, 'language': 'en', 'previewLink': 'http://books.google.it/books?id=LsRp-Iool2IC&printsec=frontcover&dq=intitle:saturday&hl=&cd=1&source=gbs_api', 'infoLink': 'https://play.google.com/store/books/details?id=LsRp-Iool2IC&source=gbs_api', 'canonicalVolumeLink': 'https://play.google.com/store/books/details?id=LsRp-Iool2IC', 'subtitle': 'Not available', 'publisher': 'Not available', 'categories': 'Not available', 'averageRating': 'Not available', 'ratingsCount': 'Not available', 'seriesInfo': 'Not available'}, score: 0.6034924276114881), context=None, document_offset=ExtractedAnswer.Span(start=7, end=34), context_offset=None, meta={}) \n",
            "\n",
            "ExtractedAnswer(query='Who is the author of saturday?', score=0.07058868689108522, data=None, document=None, context=None, document_offset=None, context_offset=None, meta={}) \n",
            "\n"
          ]
        }
      ],
      "source": [
        "authors=[]\n",
        "for title,author in unique_titles_and_authors:\n",
        "    authors.append(author)\n",
        "\n",
        "titles = []\n",
        "for title, author in unique_titles_and_authors:\n",
        "    titles.append(title)\n",
        "\n",
        "questions = []\n",
        "\n",
        "for title in titles:\n",
        "    questions.append(f\"Who is the author of {title.lower()}?\")\n",
        "\n",
        "#IMPORTANT: set the model to \"en_core_web_sm\" to test the standard NER model, otherwise \"custom_ner_model_with_bert\".\n",
        "predictions = []\n",
        "for question in questions:\n",
        "    predictions.append(main(question,\"custom_ner_model_with_bert\"))"
      ]
    },
    {
      "cell_type": "code",
      "execution_count": 63,
      "metadata": {
        "id": "m95ZWCVtkbTH"
      },
      "outputs": [],
      "source": [
        "from sklearn.metrics import accuracy_score, precision_score, recall_score, f1_score, classification_report\n",
        "from haystack import Pipeline\n",
        "from haystack.components.evaluators import SASEvaluator\n",
        "\n",
        "def ner_eval_pipeline(titles, book_titles):\n",
        "    # Flatten the lists and join tokens within each sublist\n",
        "    y_true = [''.join(sublist).lower() for sublist in titles]\n",
        "    print(y_true)\n",
        "    y_pred = [''.join(sublist) for sublist in book_titles]\n",
        "\n",
        "    eval_pipeline = Pipeline()\n",
        "    sas_evaluator = SASEvaluator()\n",
        "\n",
        "    eval_pipeline.add_component(\"sas_evaluator\", sas_evaluator)\n",
        "    result = eval_pipeline.run(\n",
        "        {\n",
        "            \"sas_evaluator\": {\n",
        "                \"ground_truth_answers\": titles,\n",
        "                \"predicted_answers\": book_titles\n",
        "            }\n",
        "        }\n",
        "    )\n",
        "\n",
        "    # Print individual scores and overall score from SAS Evaluator\n",
        "    for evaluator in result:\n",
        "        print(result[evaluator][\"individual_scores\"])\n",
        "\n",
        "    for evaluator in result:\n",
        "        print(result[evaluator][\"score\"])\n",
        "\n",
        "    # Calculate and print standard performance metrics\n",
        "    print(\"Accuracy: \", accuracy_score(y_true, y_pred))\n",
        "    print(\"Precision: \", precision_score(y_true, y_pred, average='macro'))\n",
        "    print(\"Recall: \", recall_score(y_true, y_pred, average='macro'))\n",
        "    print(\"F1 Score: \", f1_score(y_true, y_pred, average='macro'))\n",
        "    \n",
        "    print(\"\\nClassification Report:\\n\", classification_report(y_true, y_pred))\n",
        "    \n",
        "    return result\n"
      ]
    },
    {
      "cell_type": "code",
      "execution_count": 71,
      "metadata": {},
      "outputs": [],
      "source": [
        "from sklearn.metrics import accuracy_score, precision_score, recall_score, f1_score, classification_report\n",
        "from haystack import Pipeline\n",
        "from haystack.components.evaluators import SASEvaluator\n",
        "\n",
        "def standard_ner_eval_pipeline(titles, book_titles):\n",
        "    # Filter out None values from predicted answers and corresponding entries from ground truth\n",
        "    filtered_titles = []\n",
        "    filtered_book_titles = []\n",
        "    for title, book_title in zip(titles, book_titles):\n",
        "        if book_title is not None:\n",
        "            filtered_titles.append(title)\n",
        "            filtered_book_titles.append(book_title)\n",
        "\n",
        "    # Flatten the filtered lists and join tokens within each sublist\n",
        "    y_true = [''.join(sublist).lower() for sublist in filtered_titles]\n",
        "    y_pred = [''.join(sublist) for sublist in filtered_book_titles]\n",
        "\n",
        "    eval_pipeline = Pipeline()\n",
        "    sas_evaluator = SASEvaluator()\n",
        "\n",
        "    eval_pipeline.add_component(\"sas_evaluator\", sas_evaluator)\n",
        "    result = eval_pipeline.run(\n",
        "        {\n",
        "            \"sas_evaluator\": {\n",
        "                \"ground_truth_answers\": filtered_titles,\n",
        "                \"predicted_answers\": filtered_book_titles\n",
        "            }\n",
        "        }\n",
        "    )\n",
        "\n",
        "    # Print individual scores and overall score from SAS Evaluator\n",
        "    for evaluator in result:\n",
        "        print(result[evaluator][\"individual_scores\"])\n",
        "\n",
        "    for evaluator in result:\n",
        "        print(result[evaluator][\"score\"])\n",
        "\n",
        "    # Calculate and print standard performance metrics\n",
        "    print(\"Accuracy: \", accuracy_score(y_true, y_pred))\n",
        "    print(\"Precision: \", precision_score(y_true, y_pred, average='macro'))\n",
        "    print(\"Recall: \", recall_score(y_true, y_pred, average='macro'))\n",
        "    print(\"F1 Score: \", f1_score(y_true, y_pred, average='macro'))\n",
        "    \n",
        "    print(\"\\nClassification Report:\\n\", classification_report(y_true, y_pred))\n",
        "    \n",
        "    return result\n"
      ]
    },
    {
      "cell_type": "code",
      "execution_count": 72,
      "metadata": {},
      "outputs": [
        {
          "name": "stdout",
          "output_type": "stream",
          "text": [
            "[0.8962118625640869, 0.7029730081558228, 0.6668420433998108, 0.36934199929237366, 0.45133787393569946, 0.3472628593444824, 0.4344772398471832, 0.5271625518798828, 0.33469951152801514, 0.4629645347595215, 0.4121271073818207, 0.5116442441940308, 1.0, 0.37526556849479675, 0.5676705837249756, 0.8062781095504761, 0.375021755695343, 0.5266337394714355, 0.2887517213821411, 0.6829578876495361, 0.6377651691436768, 0.6947778463363647, 0.8427202105522156, 0.42410367727279663, 0.4340893030166626, 0.4038134217262268, 0.38636699318885803, 0.4247820973396301, 0.9086362719535828, 0.4459054172039032, 0.4057459831237793, 0.665999710559845, 0.2889268398284912, 0.6377964019775391, 0.7100322842597961, 0.4482833445072174, 0.3545823395252228, 0.5833338499069214, 0.833564817905426, 0.23471270501613617, 0.4767560362815857, 0.42838698625564575, 0.5907237529754639, 0.5314612984657288, 0.4397408664226532, 0.39759430289268494, 0.43822333216667175, 0.5637582540512085, 0.5222235918045044, 0.976972222328186, 0.4453718066215515, 0.3488962650299072, 0.40682822465896606, 0.45522958040237427, 0.4570794701576233, 0.6070104837417603, 0.38739392161369324, 0.9853386878967285]\n",
            "0.533871585695908\n",
            "Accuracy:  0.05172413793103448\n",
            "Precision:  0.03409090909090909\n",
            "Recall:  0.03409090909090909\n",
            "F1 Score:  0.03409090909090909\n",
            "\n",
            "Classification Report:\n",
            "                                                                                       precision    recall  f1-score   support\n",
            "\n",
            "                                                                                   1       0.00      0.00      0.00         0\n",
            "                                                                                1q84       0.00      0.00      0.00         0\n",
            "                                                                    1q84 (1q84 #1-3)       0.00      0.00      0.00         1\n",
            "                                                                                   2       0.00      0.00      0.00         0\n",
            "                                                                                2666       1.00      1.00      1.00         1\n",
            "                                                                                   3       0.00      0.00      0.00         0\n",
            "                                                                                   4       0.00      0.00      0.00         0\n",
            "                                                                                  44       0.00      0.00      0.00         0\n",
            "                                                                                   5       0.00      0.00      0.00         0\n",
            "                          a court of mist and fury (a court of thorns and roses, #2)       0.00      0.00      0.00         1\n",
            "                                   a dance with dragons (a song of ice and fire, #5)       0.00      0.00      0.00         1\n",
            "                               across the nightingale floor (tales of the otori, #1)       0.00      0.00      0.00         1\n",
            "                                                                             america       0.00      0.00      0.00         0\n",
            "                                                                            american       0.00      0.00      0.00         0\n",
            "                                                               american born chinese       0.00      0.00      0.00         1\n",
            "                                                 blood promise (vampire academy, #4)       0.00      0.00      0.00         1\n",
            "                                                          child 44 (leo demidov, #1)       0.00      0.00      0.00         1\n",
            "                                  city of fallen angels (the mortal instruments, #4)       0.00      0.00      0.00         1\n",
            "                                          clockwork angel (the infernal devices, #1)       0.00      0.00      0.00         1\n",
            "                                         clockwork prince (the infernal devices, #2)       0.00      0.00      0.00         1\n",
            "                                             dead until dark (sookie stackhouse, #1)       0.00      0.00      0.00         1\n",
            "                                                dead witch walking (the hollows, #1)       0.00      0.00      0.00         1\n",
            "                                                             delirium (delirium, #1)       0.00      0.00      0.00         1\n",
            "                                                                               eight       0.00      0.00      0.00         0\n",
            "                                                                              eragon       0.00      0.00      0.00         0\n",
            "                                                  eragon (the inheritance cycle, #1)       0.00      0.00      0.00         1\n",
            "                                                                               fifty       0.00      0.00      0.00         0\n",
            "                                             fifty shades of grey (fifty shades, #1)       0.00      0.00      0.00         1\n",
            "                                                                                five       0.00      0.00      0.00         0\n",
            "                                                     frostbite (vampire academy, #2)       0.00      0.00      0.00         1\n",
            "                                                                                half       0.00      0.00      0.00         0\n",
            "                                                                half of a yellow sun       0.00      0.00      0.00         1\n",
            "               half the sky: turning oppression into opportunity for women worldwide       0.00      0.00      0.00         1\n",
            "                                                     hard eight (stephanie plum, #8)       0.00      0.00      0.00         1\n",
            "                                                                                hugo       0.00      0.00      0.00         0\n",
            "                                                                                hush       0.00      0.00      0.00         0\n",
            "                                                         hush, hush (hush, hush, #1)       0.00      0.00      0.00         1\n",
            "                                                             inkheart (inkworld, #1)       0.00      0.00      0.00         1\n",
            "                                                                         iron kissed       0.00      0.00      0.00         0\n",
            "                                                    iron kissed (mercy thompson, #3)       0.00      0.00      0.00         1\n",
            "                                                                               kevin       0.00      0.00      0.00         0\n",
            "                                                                    lirael (abhorsen       0.00      0.00      0.00         0\n",
            "                                                               lirael (abhorsen, #2)       0.00      0.00      0.00         1\n",
            "                                        lover eternal (black dagger brotherhood, #2)       0.00      0.00      0.00         1\n",
            "                                                                             martian       0.00      0.00      0.00         0\n",
            "                                                   me before you (me before you, #1)       0.00      0.00      0.00         1\n",
            "miss peregrine's home for peculiar children (miss peregrine's peculiar children, #1)       0.00      0.00      0.00         1\n",
            "                                    nickel and dimed: on (not) getting by in america       0.00      0.00      0.00         1\n",
            "                                                                    olive kitteridge       0.00      0.00      0.00         0\n",
            "                                             olive kitteridge (olive kitteridge, #1)       0.00      0.00      0.00         1\n",
            "                                                                             one day       1.00      1.00      1.00         1\n",
            "                                                                       percy jackson       0.00      0.00      0.00         0\n",
            "                                                     phantom wolf (phantom wolf, #1)       0.00      0.00      0.00         1\n",
            "                                         reading lolita in tehran: a memoir in books       0.00      0.00      0.00         1\n",
            "                                                                      robert langdon       0.00      0.00      0.00         0\n",
            "                                                                            saturday       1.00      1.00      1.00         1\n",
            "                                                      seabiscuit: an american legend       0.00      0.00      0.00         1\n",
            "                                                   shadow kiss (vampire academy, #3)       0.00      0.00      0.00         1\n",
            "                                                                                 six       0.00      0.00      0.00         0\n",
            "                                                     six of crows (six of crows, #1)       0.00      0.00      0.00         1\n",
            "                                                  spirit bound (vampire academy, #5)       0.00      0.00      0.00         1\n",
            "                                                                              tehran       0.00      0.00      0.00         0\n",
            "                   the battle of the labyrinth (percy jackson and the olympians, #4)       0.00      0.00      0.00         1\n",
            "                                   the devil wears prada (the devil wears prada, #1)       0.00      0.00      0.00         1\n",
            "                                                 the eyre affair (thursday next, #1)       0.00      0.00      0.00         1\n",
            "                                                     the final empire (mistborn, #1)       0.00      0.00      0.00         1\n",
            "                                                  the five people you meet in heaven       0.00      0.00      0.00         1\n",
            "                                                        the invention of hugo cabret       0.00      0.00      0.00         1\n",
            "                                           the lost hero (the heroes of olympus, #1)       0.00      0.00      0.00         1\n",
            "                                                the lost symbol (robert langdon, #3)       0.00      0.00      0.00         1\n",
            "                                                                         the martian       0.00      0.00      0.00         1\n",
            "                                                the outlands  (the outlands saga #1)       0.00      0.00      0.00         1\n",
            "                                                       the passage (the passage, #1)       0.00      0.00      0.00         1\n",
            "                                                            the plot against america       0.00      0.00      0.00         1\n",
            "                             the titan's curse (percy jackson and the olympians, #3)       0.00      0.00      0.00         1\n",
            "                                  the wise man's fear (the kingkiller chronicle, #2)       0.00      0.00      0.00         1\n",
            "                                                                              throne       0.00      0.00      0.00         0\n",
            "                                         throne of novoxos (van laven chronicles #1)       0.00      0.00      0.00         1\n",
            "                                                                            thursday       0.00      0.00      0.00         0\n",
            "                                                                               titan       0.00      0.00      0.00         0\n",
            "                                          trust: a new beginning (trust trilogy, #1)       0.00      0.00      0.00         1\n",
            "                                                                 uglies (uglies, #1)       0.00      0.00      0.00         1\n",
            "                                                         we need to talk about kevin       0.00      0.00      0.00         1\n",
            "                                                                                wolf       0.00      0.00      0.00         0\n",
            "                                                                           wolf hall       0.00      0.00      0.00         0\n",
            "                                                     wolf hall (thomas cromwell, #1)       0.00      0.00      0.00         1\n",
            "                                            wolves of the calla (the dark tower, #5)       0.00      0.00      0.00         1\n",
            "                                                 world without end (kingsbridge, #2)       0.00      0.00      0.00         1\n",
            "\n",
            "                                                                            accuracy                           0.05        58\n",
            "                                                                           macro avg       0.03      0.03      0.03        58\n",
            "                                                                        weighted avg       0.05      0.05      0.05        58\n",
            "\n"
          ]
        },
        {
          "name": "stderr",
          "output_type": "stream",
          "text": [
            "c:\\Users\\Adib\\AppData\\Local\\Programs\\Python\\Python310\\lib\\site-packages\\sklearn\\metrics\\_classification.py:1509: UndefinedMetricWarning: Precision is ill-defined and being set to 0.0 in labels with no predicted samples. Use `zero_division` parameter to control this behavior.\n",
            "  _warn_prf(average, modifier, f\"{metric.capitalize()} is\", len(result))\n",
            "c:\\Users\\Adib\\AppData\\Local\\Programs\\Python\\Python310\\lib\\site-packages\\sklearn\\metrics\\_classification.py:1509: UndefinedMetricWarning: Recall is ill-defined and being set to 0.0 in labels with no true samples. Use `zero_division` parameter to control this behavior.\n",
            "  _warn_prf(average, modifier, f\"{metric.capitalize()} is\", len(result))\n",
            "c:\\Users\\Adib\\AppData\\Local\\Programs\\Python\\Python310\\lib\\site-packages\\sklearn\\metrics\\_classification.py:1509: UndefinedMetricWarning: Precision is ill-defined and being set to 0.0 in labels with no predicted samples. Use `zero_division` parameter to control this behavior.\n",
            "  _warn_prf(average, modifier, f\"{metric.capitalize()} is\", len(result))\n",
            "c:\\Users\\Adib\\AppData\\Local\\Programs\\Python\\Python310\\lib\\site-packages\\sklearn\\metrics\\_classification.py:1509: UndefinedMetricWarning: Recall is ill-defined and being set to 0.0 in labels with no true samples. Use `zero_division` parameter to control this behavior.\n",
            "  _warn_prf(average, modifier, f\"{metric.capitalize()} is\", len(result))\n",
            "c:\\Users\\Adib\\AppData\\Local\\Programs\\Python\\Python310\\lib\\site-packages\\sklearn\\metrics\\_classification.py:1509: UndefinedMetricWarning: Precision is ill-defined and being set to 0.0 in labels with no predicted samples. Use `zero_division` parameter to control this behavior.\n",
            "  _warn_prf(average, modifier, f\"{metric.capitalize()} is\", len(result))\n",
            "c:\\Users\\Adib\\AppData\\Local\\Programs\\Python\\Python310\\lib\\site-packages\\sklearn\\metrics\\_classification.py:1509: UndefinedMetricWarning: Recall is ill-defined and being set to 0.0 in labels with no true samples. Use `zero_division` parameter to control this behavior.\n",
            "  _warn_prf(average, modifier, f\"{metric.capitalize()} is\", len(result))\n",
            "c:\\Users\\Adib\\AppData\\Local\\Programs\\Python\\Python310\\lib\\site-packages\\sklearn\\metrics\\_classification.py:1509: UndefinedMetricWarning: Precision is ill-defined and being set to 0.0 in labels with no predicted samples. Use `zero_division` parameter to control this behavior.\n",
            "  _warn_prf(average, modifier, f\"{metric.capitalize()} is\", len(result))\n",
            "c:\\Users\\Adib\\AppData\\Local\\Programs\\Python\\Python310\\lib\\site-packages\\sklearn\\metrics\\_classification.py:1509: UndefinedMetricWarning: Recall is ill-defined and being set to 0.0 in labels with no true samples. Use `zero_division` parameter to control this behavior.\n",
            "  _warn_prf(average, modifier, f\"{metric.capitalize()} is\", len(result))\n"
          ]
        }
      ],
      "source": [
        "result_standard_ner = standard_ner_eval_pipeline(titles,book_titles)"
      ]
    },
    {
      "cell_type": "code",
      "execution_count": 64,
      "metadata": {
        "id": "CXYXnfQMke0O"
      },
      "outputs": [
        {
          "name": "stdout",
          "output_type": "stream",
          "text": [
            "['the martian', 'under the banner of heaven: a story of violent faith', 'cutting for stone', 'we need to talk about kevin', 'the immortal life of henrietta lacks', 'eragon (the inheritance cycle, #1)', 'unaccustomed earth', 'a dance with dragons (a song of ice and fire, #5)', 'the outlands  (the outlands saga #1)', 'clockwork angel (the infernal devices, #1)', 'world without end (kingsbridge, #2)', 'animal, vegetable, miracle: a year of food life', 'the five people you meet in heaven', 'on beauty', 'shantaram', 'seabiscuit: an american legend', \"the titan's curse (percy jackson and the olympians, #3)\", 'shadow kiss (vampire academy, #3)', 'the battle of the labyrinth (percy jackson and the olympians, #4)', '2666', 'frostbite (vampire academy, #2)', 'the lost symbol (robert langdon, #3)', 'olive kitteridge (olive kitteridge, #1)', 'the last lecture', \"miss peregrine's home for peculiar children (miss peregrine's peculiar children, #1)\", 'me before you (me before you, #1)', 'the tales of beedle the bard', 'reading lolita in tehran: a memoir in books', 'the plot against america', 'the ocean at the end of the lane', 'wolf hall (thomas cromwell, #1)', 'uglies (uglies, #1)', 'hush, hush (hush, hush, #1)', 'a visit from the goon squad', 'city of fallen angels (the mortal instruments, #4)', 'inkheart (inkworld, #1)', 'blood promise (vampire academy, #4)', 'peace like a river', 'dead until dark (sookie stackhouse, #1)', 'let the great world spin', \"the yiddish policemen's union\", 'nickel and dimed: on (not) getting by in america', 'running with scissors', '1q84 (1q84 #1-3)', 'the invention of hugo cabret', 'the lost hero (the heroes of olympus, #1)', 'phantom wolf (phantom wolf, #1)', 'saving ceecee honeycutt', 'life expectancy', 'trust: a new beginning (trust trilogy, #1)', 'hard eight (stephanie plum, #8)', 'six of crows (six of crows, #1)', 'across the nightingale floor (tales of the otori, #1)', 'bossypants', 'dead witch walking (the hollows, #1)', 'iron kissed (mercy thompson, #3)', 'duma key', 'the children of húrin', 'the nix', 'lirael (abhorsen, #2)', 'peony in love', 'the purpose driven life: what on earth am i here for?', 'half the sky: turning oppression into opportunity for women worldwide', 'the devil wears prada (the devil wears prada, #1)', 'wolves of the calla (the dark tower, #5)', 'american born chinese', 'the lace reader', \"heaven is for real: a little boy's astounding story of his trip to heaven and back\", 'throne of novoxos (van laven chronicles #1)', 'the lost city of z: a tale of deadly obsession in the amazon', 'child 44 (leo demidov, #1)', 'the silver linings playbook', 'the people of paper', 'lover eternal (black dagger brotherhood, #2)', 'a court of mist and fury (a court of thorns and roses, #2)', 'hotel on the corner of bitter and sweet', 'oblivion: stories', 'suite française', 'the passage (the passage, #1)', 'mystic river', 'the trigger: hunting the assassin who brought the world to war', 'the book of salt', 'half of a yellow sun', 'shutter island', 'one day', 'the eyre affair (thursday next, #1)', 'black swan green', \"the wise man's fear (the kingkiller chronicle, #2)\", 'spirit bound (vampire academy, #5)', 'the girl on the train', 'the forgotten garden', 'fast food nation: the dark side of the all-american meal', 'little bee', 'fingersmith', 'let the right one in', 'delirium (delirium, #1)', 'the final empire (mistborn, #1)', 'fifty shades of grey (fifty shades, #1)', 'clockwork prince (the infernal devices, #2)', 'saturday']\n",
            "[0.9478012323379517, 0.9920874834060669, 0.9972553849220276, 0.9525779485702515, 0.8027487993240356, 0.9827615022659302, 0.9847913980484009, 0.9893358945846558, 0.9902063608169556, 0.9921494722366333, 0.9831928014755249, 0.9966685771942139, 0.9983453154563904, 0.9970754384994507, 0.9730479121208191, 0.9969043731689453, 0.9692215919494629, 0.9792185425758362, 0.9687843322753906, 0.9999998807907104, 0.9560916423797607, 0.9406168460845947, 0.8926680088043213, 0.9918463230133057, 0.9161853790283203, 0.9945705533027649, 0.9061542749404907, 0.8560923337936401, 0.9926567673683167, 0.994357705116272, 0.9515306353569031, 0.9463217258453369, 0.9819817543029785, 0.9857213497161865, 0.9867709875106812, 0.9851016998291016, 0.984886646270752, 0.9972901344299316, 0.9489535093307495, 0.9957351088523865, 0.9707839488983154, 0.985832691192627, 0.9830496907234192, 0.9937509298324585, 0.9549132585525513, 0.9213120937347412, 0.9440862536430359, 0.9801160097122192, 0.9916828870773315, 0.9897817373275757, 0.9723106622695923, 0.9894700050354004, 0.9602851867675781, 0.9784421920776367, 0.9922996163368225, 0.9548799395561218, 0.9853227138519287, 0.8954707384109497, 0.9429854154586792, 0.9374099969863892, 0.9823293685913086, 0.8653790950775146, 0.991290807723999, 0.9903925061225891, 0.9955875277519226, 0.9927526712417603, 0.9858464002609253, 0.9961897134780884, 0.9505653977394104, 0.9159193634986877, 0.964583158493042, 0.9620580077171326, 0.9970258474349976, 0.9863029718399048, 0.9851292967796326, 0.9892133474349976, 0.9552471041679382, 0.9472248554229736, 0.9214096665382385, 0.9934117794036865, 0.9847822785377502, 0.796389102935791, 0.9967423677444458, 0.9847576022148132, 0.9769723415374756, 0.765779972076416, 0.9847455024719238, 0.9905575513839722, 0.9834185242652893, 0.9983841776847839, 0.9958137273788452, 0.9874260425567627, 0.9942225217819214, 0.9950518012046814, 0.9898109436035156, 0.9246360063552856, 0.944553017616272, 0.9242922067642212, 0.9873717427253723, 0.985338568687439]\n",
            "0.9658279848098755\n",
            "Accuracy:  0.98\n",
            "Precision:  0.9607843137254902\n",
            "Recall:  0.9607843137254902\n",
            "F1 Score:  0.9607843137254902\n",
            "\n",
            "Classification Report:\n",
            "                                                                                       precision    recall  f1-score   support\n",
            "\n",
            "                                                                    1q84 (1q84 #1-3)       1.00      1.00      1.00         1\n",
            "                                                                                2666       1.00      1.00      1.00         1\n",
            "                          a court of mist and fury (a court of thorns and roses, #2)       1.00      1.00      1.00         1\n",
            "                                   a dance with dragons (a song of ice and fire, #5)       1.00      1.00      1.00         1\n",
            "                                                         a visit from the goon squad       1.00      1.00      1.00         1\n",
            "                               across the nightingale floor (tales of the otori, #1)       1.00      1.00      1.00         1\n",
            "                                                               american born chinese       1.00      1.00      1.00         1\n",
            "                                     animal, vegetable, miracle: a year of food life       1.00      1.00      1.00         1\n",
            "                                                                    black swan green       1.00      1.00      1.00         1\n",
            "                                                 blood promise (vampire academy, #4)       1.00      1.00      1.00         1\n",
            "                                                                          bossypants       1.00      1.00      1.00         1\n",
            "                                                          child 44 (leo demidov, #1)       1.00      1.00      1.00         1\n",
            "                                  city of fallen angels (the mortal instruments, #4)       1.00      1.00      1.00         1\n",
            "                                          clockwork angel (the infernal devices, #1)       1.00      1.00      1.00         1\n",
            "                                         clockwork prince (the infernal devices, #2)       1.00      1.00      1.00         1\n",
            "                                                                   cutting for stone       1.00      1.00      1.00         1\n",
            "                                             dead until dark (sookie stackhouse, #1)       1.00      1.00      1.00         1\n",
            "                                                dead witch walking (the hollows, #1)       1.00      1.00      1.00         1\n",
            "                                                             delirium (delirium, #1)       1.00      1.00      1.00         1\n",
            "                                                                            duma key       1.00      1.00      1.00         1\n",
            "                                                  eragon (the inheritance cycle, #1)       1.00      1.00      1.00         1\n",
            "                            fast food nation: the dark side of the all-american meal       1.00      1.00      1.00         1\n",
            "                                             fifty shades of grey (fifty shades, #1)       1.00      1.00      1.00         1\n",
            "                                                                         fingersmith       1.00      1.00      1.00         1\n",
            "                                                     frostbite (vampire academy, #2)       1.00      1.00      1.00         1\n",
            "                                                                half of a yellow sun       1.00      1.00      1.00         1\n",
            "               half the sky: turning oppression into opportunity for women worldwide       1.00      1.00      1.00         1\n",
            "                                                     hard eight (stephanie plum, #8)       1.00      1.00      1.00         1\n",
            "  heaven is for real: a little boy's astounding story of his trip to heaven and back       1.00      1.00      1.00         1\n",
            "                                             hotel on the corner of bitter and sweet       1.00      1.00      1.00         1\n",
            "                                                         hush, hush (hush, hush, #1)       1.00      1.00      1.00         1\n",
            "                                                             inkheart (inkworld, #1)       1.00      1.00      1.00         1\n",
            "                                                    iron kissed (mercy thompson, #3)       1.00      1.00      1.00         1\n",
            "                                                            let the great world spin       1.00      1.00      1.00         1\n",
            "                                                                let the right one in       1.00      1.00      1.00         1\n",
            "                                                                     life expectancy       1.00      1.00      1.00         1\n",
            "                                                               lirael (abhorsen, #2)       1.00      1.00      1.00         1\n",
            "                                                                          little bee       1.00      1.00      1.00         1\n",
            "                                        lover eternal (black dagger brotherhood, #2)       1.00      1.00      1.00         1\n",
            "                                                   me before you (me before you, #1)       1.00      1.00      1.00         1\n",
            "miss peregrine's home for peculiar children (miss peregrine's peculiar children, #1)       1.00      1.00      1.00         1\n",
            "                                                                        mystic river       1.00      1.00      1.00         1\n",
            "                                    nickel and dimed: on (not) getting by in america       1.00      1.00      1.00         1\n",
            "                                                                   oblivion: stories       1.00      1.00      1.00         1\n",
            "                                             olive kitteridge (olive kitteridge, #1)       1.00      1.00      1.00         1\n",
            "                                                                           on beauty       1.00      1.00      1.00         1\n",
            "                                                                             one day       1.00      1.00      1.00         1\n",
            "                                                                  peace like a river       1.00      1.00      1.00         1\n",
            "                                                                       peony in love       1.00      1.00      1.00         1\n",
            "                                                     phantom wolf (phantom wolf, #1)       1.00      1.00      1.00         1\n",
            "                                         reading lolita in tehran: a memoir in books       1.00      1.00      1.00         1\n",
            "                                                               running with scissors       1.00      1.00      1.00         1\n",
            "                                                                                salt       0.00      0.00      0.00         0\n",
            "                                                                            saturday       1.00      1.00      1.00         1\n",
            "                                                             saving ceecee honeycutt       1.00      1.00      1.00         1\n",
            "                                                      seabiscuit: an american legend       1.00      1.00      1.00         1\n",
            "                                                   shadow kiss (vampire academy, #3)       1.00      1.00      1.00         1\n",
            "                                                                           shantaram       1.00      1.00      1.00         1\n",
            "                                                                      shutter island       1.00      1.00      1.00         1\n",
            "                                                     six of crows (six of crows, #1)       1.00      1.00      1.00         1\n",
            "                                                  spirit bound (vampire academy, #5)       1.00      1.00      1.00         1\n",
            "                                                                     suite française       1.00      1.00      1.00         1\n",
            "                   the battle of the labyrinth (percy jackson and the olympians, #4)       1.00      1.00      1.00         1\n",
            "                                                                    the book of salt       0.00      0.00      0.00         1\n",
            "                                                               the children of húrin       1.00      1.00      1.00         1\n",
            "                                   the devil wears prada (the devil wears prada, #1)       1.00      1.00      1.00         1\n",
            "                                                 the eyre affair (thursday next, #1)       1.00      1.00      1.00         1\n",
            "                                                     the final empire (mistborn, #1)       1.00      1.00      1.00         1\n",
            "                                                  the five people you meet in heaven       1.00      1.00      1.00         1\n",
            "                                                                the forgotten garden       1.00      1.00      1.00         1\n",
            "                                                               the girl on the train       1.00      1.00      1.00         1\n",
            "                                                the immortal life of henrietta lacks       1.00      1.00      1.00         1\n",
            "                                                        the invention of hugo cabret       1.00      1.00      1.00         1\n",
            "                                                                     the lace reader       1.00      1.00      1.00         1\n",
            "                                                                    the last lecture       1.00      1.00      1.00         1\n",
            "                        the lost city of z: a tale of deadly obsession in the amazon       1.00      1.00      1.00         1\n",
            "                                           the lost hero (the heroes of olympus, #1)       1.00      1.00      1.00         1\n",
            "                                                the lost symbol (robert langdon, #3)       1.00      1.00      1.00         1\n",
            "                                                                         the martian       1.00      1.00      1.00         1\n",
            "                                                                             the nix       1.00      1.00      1.00         1\n",
            "                                                    the ocean at the end of the lane       1.00      1.00      1.00         1\n",
            "                                                the outlands  (the outlands saga #1)       1.00      1.00      1.00         1\n",
            "                                                       the passage (the passage, #1)       1.00      1.00      1.00         1\n",
            "                                                                 the people of paper       1.00      1.00      1.00         1\n",
            "                                                            the plot against america       1.00      1.00      1.00         1\n",
            "                                                             the purpose driven life       0.00      0.00      0.00         0\n",
            "                               the purpose driven life: what on earth am i here for?       0.00      0.00      0.00         1\n",
            "                                                         the silver linings playbook       1.00      1.00      1.00         1\n",
            "                                                        the tales of beedle the bard       1.00      1.00      1.00         1\n",
            "                             the titan's curse (percy jackson and the olympians, #3)       1.00      1.00      1.00         1\n",
            "                      the trigger: hunting the assassin who brought the world to war       1.00      1.00      1.00         1\n",
            "                                  the wise man's fear (the kingkiller chronicle, #2)       1.00      1.00      1.00         1\n",
            "                                                       the yiddish policemen's union       1.00      1.00      1.00         1\n",
            "                                         throne of novoxos (van laven chronicles #1)       1.00      1.00      1.00         1\n",
            "                                          trust: a new beginning (trust trilogy, #1)       1.00      1.00      1.00         1\n",
            "                                                                 uglies (uglies, #1)       1.00      1.00      1.00         1\n",
            "                                                                  unaccustomed earth       1.00      1.00      1.00         1\n",
            "                                under the banner of heaven: a story of violent faith       1.00      1.00      1.00         1\n",
            "                                                         we need to talk about kevin       1.00      1.00      1.00         1\n",
            "                                                     wolf hall (thomas cromwell, #1)       1.00      1.00      1.00         1\n",
            "                                            wolves of the calla (the dark tower, #5)       1.00      1.00      1.00         1\n",
            "                                                 world without end (kingsbridge, #2)       1.00      1.00      1.00         1\n",
            "\n",
            "                                                                            accuracy                           0.98       100\n",
            "                                                                           macro avg       0.96      0.96      0.96       100\n",
            "                                                                        weighted avg       0.98      0.98      0.98       100\n",
            "\n"
          ]
        },
        {
          "name": "stderr",
          "output_type": "stream",
          "text": [
            "c:\\Users\\Adib\\AppData\\Local\\Programs\\Python\\Python310\\lib\\site-packages\\sklearn\\metrics\\_classification.py:1509: UndefinedMetricWarning: Precision is ill-defined and being set to 0.0 in labels with no predicted samples. Use `zero_division` parameter to control this behavior.\n",
            "  _warn_prf(average, modifier, f\"{metric.capitalize()} is\", len(result))\n",
            "c:\\Users\\Adib\\AppData\\Local\\Programs\\Python\\Python310\\lib\\site-packages\\sklearn\\metrics\\_classification.py:1509: UndefinedMetricWarning: Recall is ill-defined and being set to 0.0 in labels with no true samples. Use `zero_division` parameter to control this behavior.\n",
            "  _warn_prf(average, modifier, f\"{metric.capitalize()} is\", len(result))\n",
            "c:\\Users\\Adib\\AppData\\Local\\Programs\\Python\\Python310\\lib\\site-packages\\sklearn\\metrics\\_classification.py:1509: UndefinedMetricWarning: Precision is ill-defined and being set to 0.0 in labels with no predicted samples. Use `zero_division` parameter to control this behavior.\n",
            "  _warn_prf(average, modifier, f\"{metric.capitalize()} is\", len(result))\n",
            "c:\\Users\\Adib\\AppData\\Local\\Programs\\Python\\Python310\\lib\\site-packages\\sklearn\\metrics\\_classification.py:1509: UndefinedMetricWarning: Recall is ill-defined and being set to 0.0 in labels with no true samples. Use `zero_division` parameter to control this behavior.\n",
            "  _warn_prf(average, modifier, f\"{metric.capitalize()} is\", len(result))\n",
            "c:\\Users\\Adib\\AppData\\Local\\Programs\\Python\\Python310\\lib\\site-packages\\sklearn\\metrics\\_classification.py:1509: UndefinedMetricWarning: Precision is ill-defined and being set to 0.0 in labels with no predicted samples. Use `zero_division` parameter to control this behavior.\n",
            "  _warn_prf(average, modifier, f\"{metric.capitalize()} is\", len(result))\n",
            "c:\\Users\\Adib\\AppData\\Local\\Programs\\Python\\Python310\\lib\\site-packages\\sklearn\\metrics\\_classification.py:1509: UndefinedMetricWarning: Recall is ill-defined and being set to 0.0 in labels with no true samples. Use `zero_division` parameter to control this behavior.\n",
            "  _warn_prf(average, modifier, f\"{metric.capitalize()} is\", len(result))\n",
            "c:\\Users\\Adib\\AppData\\Local\\Programs\\Python\\Python310\\lib\\site-packages\\sklearn\\metrics\\_classification.py:1509: UndefinedMetricWarning: Precision is ill-defined and being set to 0.0 in labels with no predicted samples. Use `zero_division` parameter to control this behavior.\n",
            "  _warn_prf(average, modifier, f\"{metric.capitalize()} is\", len(result))\n",
            "c:\\Users\\Adib\\AppData\\Local\\Programs\\Python\\Python310\\lib\\site-packages\\sklearn\\metrics\\_classification.py:1509: UndefinedMetricWarning: Recall is ill-defined and being set to 0.0 in labels with no true samples. Use `zero_division` parameter to control this behavior.\n",
            "  _warn_prf(average, modifier, f\"{metric.capitalize()} is\", len(result))\n"
          ]
        }
      ],
      "source": [
        "result_ner = ner_eval_pipeline(titles,book_titles)"
      ]
    },
    {
      "cell_type": "markdown",
      "metadata": {},
      "source": [
        "## QA Evaluation"
      ]
    },
    {
      "cell_type": "code",
      "execution_count": null,
      "metadata": {
        "id": "S_rMOeuzkSzu"
      },
      "outputs": [],
      "source": [
        "from haystack import Pipeline\n",
        "from haystack.components.evaluators import SASEvaluator\n",
        "\n",
        "def setup_eval_pipeline(authors, predictions):\n",
        "\n",
        "    eval_pipeline = Pipeline()\n",
        "    sas_evaluator = SASEvaluator()\n",
        "\n",
        "    eval_pipeline.add_component(\"sas_evaluator\", sas_evaluator)\n",
        "    result = eval_pipeline.run(\n",
        "            {\n",
        "            \"sas_evaluator\": {\"ground_truth_answers\": authors,\n",
        "            \"predicted_answers\": predictions}\n",
        "        }\n",
        "    )\n",
        "\n",
        "    for evaluator in result:\n",
        "        print(result[evaluator][\"individual_scores\"])\n",
        "\n",
        "    for evaluator in result:\n",
        "        print(result[evaluator][\"score\"])\n",
        "\n",
        "\n",
        "    return result"
      ]
    },
    {
      "cell_type": "code",
      "execution_count": null,
      "metadata": {
        "id": "qzIsGL0skh4s"
      },
      "outputs": [],
      "source": [
        "result = setup_eval_pipeline(authors,predictions)"
      ]
    },
    {
      "cell_type": "markdown",
      "metadata": {},
      "source": [
        "The evaluation of the the recommendation systems is conducted in the notebook bookworm_rec_eval.ipynb."
      ]
    }
  ],
  "metadata": {
    "colab": {
      "provenance": []
    },
    "kernelspec": {
      "display_name": "Python 3",
      "name": "python3"
    },
    "language_info": {
      "codemirror_mode": {
        "name": "ipython",
        "version": 3
      },
      "file_extension": ".py",
      "mimetype": "text/x-python",
      "name": "python",
      "nbconvert_exporter": "python",
      "pygments_lexer": "ipython3",
      "version": "3.10.0"
    }
  },
  "nbformat": 4,
  "nbformat_minor": 0
}
