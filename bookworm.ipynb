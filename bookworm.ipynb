{
  "cells": [
    {
      "cell_type": "markdown",
      "metadata": {
        "id": "2ErVy6A2NisJ"
      },
      "source": [
        " ## Tutorial: Build an Extractive QA Pipeline\n",
        "\n",
        "- **Level**: Beginner\n",
        "- **Time to complete**: 15 minutes\n",
        "- **Components Used**: [`ExtractiveReader`](https://docs.haystack.deepset.ai/v2.0/docs/extractivereader), [`InMemoryDocumentStore`](https://docs.haystack.deepset.ai/v2.0/docs/inmemorydocumentstore), [`InMemoryEmbeddingRetriever`](https://docs.haystack.deepset.ai/v2.0/docs/inmemoryembeddingretriever), [`DocumentWriter`](https://docs.haystack.deepset.ai/v2.0/docs/documentwriter), [`SentenceTransformersDocumentEmbedder`](https://docs.haystack.deepset.ai/v2.0/docs/sentencetransformersdocumentembedder), [`SentenceTransformersTextEmbedder`](https://docs.haystack.deepset.ai/v2.0/docs/sentencetransformerstextembedder)\n",
        "- **Goal**: After completing this tutorial, you'll have learned how to build a Haystack pipeline that uses an extractive model to display where the answer to your query is.\n",
        "\n",
        "> This tutorial uses Haystack 2.0. To learn more, read the [Haystack 2.0 announcement](https://haystack.deepset.ai/blog/haystack-2-release) or visit the [Haystack 2.0 Documentation](https://docs.haystack.deepset.ai/docs/intro).\n",
        "\n"
      ]
    },
    {
      "cell_type": "markdown",
      "metadata": {
        "id": "uClfTB7jN6g-"
      },
      "source": [
        "## Overview\n",
        "\n",
        "What is extractive question answering? So glad you asked! The short answer is that extractive models pull verbatim answers out of text. It's good for use cases where accuracy is paramount, and you need to know exactly where in the text that the answer came from. If you want additional context, here's [a deep dive on extractive versus generative language models](https://haystack.deepset.ai/blog/generative-vs-extractive-models).\n",
        "\n",
        "In this tutorial you'll create a Haystack pipeline that extracts answers to questions, based on the provided documents.\n",
        "\n",
        "To get data into the extractive pipeline, you'll also build an indexing pipeline to ingest the [Wikipedia pages of Seven Wonders of the Ancient World dataset](https://en.wikipedia.org/wiki/Wonders_of_the_World)."
      ]
    },
    {
      "cell_type": "markdown",
      "metadata": {
        "id": "eF_hnatJUEHq"
      },
      "source": [
        "## Preparing the Colab Environment\n",
        "\n",
        "- [Enable GPU Runtime in Colab](https://docs.haystack.deepset.ai/v2.0/docs/enabling-gpu-acceleration)\n",
        "- [Set logging level to INFO](https://docs.haystack.deepset.ai/v2.0/docs/logging)"
      ]
    },
    {
      "cell_type": "markdown",
      "metadata": {
        "id": "zQnSZtyyUJVF"
      },
      "source": [
        "#Installation\n"
      ]
    },
    {
      "cell_type": "code",
      "execution_count": 1,
      "metadata": {
        "colab": {
          "base_uri": "https://localhost:8080/"
        },
        "id": "rwgpwV4eHVoo",
        "outputId": "9b2c2567-f357-4039-8d08-517ca5b98a2a"
      },
      "outputs": [
        {
          "name": "stdout",
          "output_type": "stream",
          "text": [
            "Collecting haystack-ai\n",
            "  Using cached haystack_ai-2.0.0-py3-none-any.whl.metadata (12 kB)\n",
            "Requirement already satisfied: accelerate in c:\\users\\adib\\appdata\\local\\programs\\python\\python311\\lib\\site-packages (0.27.2)\n",
            "Collecting sentence-transformers\n",
            "  Using cached sentence_transformers-2.6.1-py3-none-any.whl.metadata (11 kB)\n",
            "Collecting boilerpy3 (from haystack-ai)\n",
            "  Using cached boilerpy3-1.0.7-py3-none-any.whl.metadata (5.8 kB)\n",
            "Collecting haystack-bm25 (from haystack-ai)\n",
            "  Using cached haystack_bm25-1.0.2-py2.py3-none-any.whl.metadata (3.9 kB)\n",
            "Requirement already satisfied: jinja2 in c:\\users\\adib\\appdata\\local\\programs\\python\\python311\\lib\\site-packages (from haystack-ai) (3.1.3)\n",
            "Collecting lazy-imports (from haystack-ai)\n",
            "  Using cached lazy_imports-0.3.1-py3-none-any.whl.metadata (10 kB)\n",
            "Collecting more-itertools (from haystack-ai)\n",
            "  Using cached more_itertools-10.2.0-py3-none-any.whl.metadata (34 kB)\n",
            "Requirement already satisfied: networkx in c:\\users\\adib\\appdata\\local\\programs\\python\\python311\\lib\\site-packages (from haystack-ai) (3.2.1)\n",
            "Requirement already satisfied: numpy in c:\\users\\adib\\appdata\\local\\programs\\python\\python311\\lib\\site-packages (from haystack-ai) (1.24.2)\n",
            "Collecting openai>=1.1.0 (from haystack-ai)\n",
            "  Downloading openai-1.16.1-py3-none-any.whl.metadata (21 kB)\n",
            "Requirement already satisfied: pandas in c:\\users\\adib\\appdata\\local\\programs\\python\\python311\\lib\\site-packages (from haystack-ai) (1.5.3)\n",
            "Collecting posthog (from haystack-ai)\n",
            "  Using cached posthog-3.5.0-py2.py3-none-any.whl.metadata (2.0 kB)\n",
            "Requirement already satisfied: python-dateutil in c:\\users\\adib\\appdata\\local\\programs\\python\\python311\\lib\\site-packages (from haystack-ai) (2.8.2)\n",
            "Requirement already satisfied: pyyaml in c:\\users\\adib\\appdata\\local\\programs\\python\\python311\\lib\\site-packages (from haystack-ai) (6.0.1)\n",
            "Requirement already satisfied: requests in c:\\users\\adib\\appdata\\local\\programs\\python\\python311\\lib\\site-packages (from haystack-ai) (2.31.0)\n",
            "Requirement already satisfied: tenacity in c:\\users\\adib\\appdata\\local\\programs\\python\\python311\\lib\\site-packages (from haystack-ai) (8.2.3)\n",
            "Requirement already satisfied: tqdm in c:\\users\\adib\\appdata\\local\\programs\\python\\python311\\lib\\site-packages (from haystack-ai) (4.66.2)\n",
            "Requirement already satisfied: typing-extensions>=4.7 in c:\\users\\adib\\appdata\\local\\programs\\python\\python311\\lib\\site-packages (from haystack-ai) (4.9.0)\n",
            "Requirement already satisfied: packaging>=20.0 in c:\\users\\adib\\appdata\\roaming\\python\\python311\\site-packages (from accelerate) (23.0)\n",
            "Requirement already satisfied: psutil in c:\\users\\adib\\appdata\\roaming\\python\\python311\\site-packages (from accelerate) (5.9.4)\n",
            "Requirement already satisfied: torch>=1.10.0 in c:\\users\\adib\\appdata\\local\\programs\\python\\python311\\lib\\site-packages (from accelerate) (2.2.1+cu118)\n",
            "Requirement already satisfied: huggingface-hub in c:\\users\\adib\\appdata\\local\\programs\\python\\python311\\lib\\site-packages (from accelerate) (0.20.3)\n",
            "Requirement already satisfied: safetensors>=0.3.1 in c:\\users\\adib\\appdata\\local\\programs\\python\\python311\\lib\\site-packages (from accelerate) (0.4.2)\n",
            "Requirement already satisfied: transformers<5.0.0,>=4.32.0 in c:\\users\\adib\\appdata\\local\\programs\\python\\python311\\lib\\site-packages (from sentence-transformers) (4.36.2)\n",
            "Requirement already satisfied: scikit-learn in c:\\users\\adib\\appdata\\local\\programs\\python\\python311\\lib\\site-packages (from sentence-transformers) (1.2.1)\n",
            "Requirement already satisfied: scipy in c:\\users\\adib\\appdata\\local\\programs\\python\\python311\\lib\\site-packages (from sentence-transformers) (1.10.0)\n",
            "Requirement already satisfied: Pillow in c:\\users\\adib\\appdata\\local\\programs\\python\\python311\\lib\\site-packages (from sentence-transformers) (9.5.0)\n",
            "Requirement already satisfied: filelock in c:\\users\\adib\\appdata\\local\\programs\\python\\python311\\lib\\site-packages (from huggingface-hub->accelerate) (3.13.1)\n",
            "Requirement already satisfied: fsspec>=2023.5.0 in c:\\users\\adib\\appdata\\local\\programs\\python\\python311\\lib\\site-packages (from huggingface-hub->accelerate) (2023.10.0)\n",
            "Requirement already satisfied: anyio<5,>=3.5.0 in c:\\users\\adib\\appdata\\local\\programs\\python\\python311\\lib\\site-packages (from openai>=1.1.0->haystack-ai) (4.3.0)\n",
            "Collecting distro<2,>=1.7.0 (from openai>=1.1.0->haystack-ai)\n",
            "  Using cached distro-1.9.0-py3-none-any.whl.metadata (6.8 kB)\n",
            "Requirement already satisfied: httpx<1,>=0.23.0 in c:\\users\\adib\\appdata\\local\\programs\\python\\python311\\lib\\site-packages (from openai>=1.1.0->haystack-ai) (0.27.0)\n",
            "Requirement already satisfied: pydantic<3,>=1.9.0 in c:\\users\\adib\\appdata\\local\\programs\\python\\python311\\lib\\site-packages (from openai>=1.1.0->haystack-ai) (2.6.1)\n",
            "Requirement already satisfied: sniffio in c:\\users\\adib\\appdata\\local\\programs\\python\\python311\\lib\\site-packages (from openai>=1.1.0->haystack-ai) (1.3.1)\n",
            "Requirement already satisfied: sympy in c:\\users\\adib\\appdata\\local\\programs\\python\\python311\\lib\\site-packages (from torch>=1.10.0->accelerate) (1.12)\n",
            "Requirement already satisfied: colorama in c:\\users\\adib\\appdata\\roaming\\python\\python311\\site-packages (from tqdm->haystack-ai) (0.4.6)\n",
            "Requirement already satisfied: regex!=2019.12.17 in c:\\users\\adib\\appdata\\local\\programs\\python\\python311\\lib\\site-packages (from transformers<5.0.0,>=4.32.0->sentence-transformers) (2023.12.25)\n",
            "Requirement already satisfied: tokenizers<0.19,>=0.14 in c:\\users\\adib\\appdata\\local\\programs\\python\\python311\\lib\\site-packages (from transformers<5.0.0,>=4.32.0->sentence-transformers) (0.15.2)\n",
            "Requirement already satisfied: MarkupSafe>=2.0 in c:\\users\\adib\\appdata\\local\\programs\\python\\python311\\lib\\site-packages (from jinja2->haystack-ai) (2.1.5)\n",
            "Requirement already satisfied: pytz>=2020.1 in c:\\users\\adib\\appdata\\local\\programs\\python\\python311\\lib\\site-packages (from pandas->haystack-ai) (2022.7.1)\n",
            "Requirement already satisfied: six>=1.5 in c:\\users\\adib\\appdata\\local\\programs\\python\\python311\\lib\\site-packages (from python-dateutil->haystack-ai) (1.16.0)\n",
            "Collecting monotonic>=1.5 (from posthog->haystack-ai)\n",
            "  Using cached monotonic-1.6-py2.py3-none-any.whl.metadata (1.5 kB)\n",
            "Collecting backoff>=1.10.0 (from posthog->haystack-ai)\n",
            "  Using cached backoff-2.2.1-py3-none-any.whl.metadata (14 kB)\n",
            "Requirement already satisfied: charset-normalizer<4,>=2 in c:\\users\\adib\\appdata\\local\\programs\\python\\python311\\lib\\site-packages (from requests->haystack-ai) (3.3.2)\n",
            "Requirement already satisfied: idna<4,>=2.5 in c:\\users\\adib\\appdata\\local\\programs\\python\\python311\\lib\\site-packages (from requests->haystack-ai) (3.6)\n",
            "Requirement already satisfied: urllib3<3,>=1.21.1 in c:\\users\\adib\\appdata\\local\\programs\\python\\python311\\lib\\site-packages (from requests->haystack-ai) (2.2.0)\n",
            "Requirement already satisfied: certifi>=2017.4.17 in c:\\users\\adib\\appdata\\local\\programs\\python\\python311\\lib\\site-packages (from requests->haystack-ai) (2024.2.2)\n",
            "Requirement already satisfied: joblib>=1.1.1 in c:\\users\\adib\\appdata\\local\\programs\\python\\python311\\lib\\site-packages (from scikit-learn->sentence-transformers) (1.2.0)\n",
            "Requirement already satisfied: threadpoolctl>=2.0.0 in c:\\users\\adib\\appdata\\local\\programs\\python\\python311\\lib\\site-packages (from scikit-learn->sentence-transformers) (3.1.0)\n",
            "Requirement already satisfied: httpcore==1.* in c:\\users\\adib\\appdata\\local\\programs\\python\\python311\\lib\\site-packages (from httpx<1,>=0.23.0->openai>=1.1.0->haystack-ai) (1.0.4)\n",
            "Requirement already satisfied: h11<0.15,>=0.13 in c:\\users\\adib\\appdata\\local\\programs\\python\\python311\\lib\\site-packages (from httpcore==1.*->httpx<1,>=0.23.0->openai>=1.1.0->haystack-ai) (0.14.0)\n",
            "Requirement already satisfied: annotated-types>=0.4.0 in c:\\users\\adib\\appdata\\local\\programs\\python\\python311\\lib\\site-packages (from pydantic<3,>=1.9.0->openai>=1.1.0->haystack-ai) (0.6.0)\n",
            "Requirement already satisfied: pydantic-core==2.16.2 in c:\\users\\adib\\appdata\\local\\programs\\python\\python311\\lib\\site-packages (from pydantic<3,>=1.9.0->openai>=1.1.0->haystack-ai) (2.16.2)\n",
            "Requirement already satisfied: mpmath>=0.19 in c:\\users\\adib\\appdata\\local\\programs\\python\\python311\\lib\\site-packages (from sympy->torch>=1.10.0->accelerate) (1.3.0)\n",
            "Using cached haystack_ai-2.0.0-py3-none-any.whl (265 kB)\n",
            "Using cached sentence_transformers-2.6.1-py3-none-any.whl (163 kB)\n",
            "Downloading openai-1.16.1-py3-none-any.whl (266 kB)\n",
            "   ---------------------------------------- 0.0/266.9 kB ? eta -:--:--\n",
            "   ---------------- ----------------------- 112.6/266.9 kB 2.2 MB/s eta 0:00:01\n",
            "   ---------------------------------------- 266.9/266.9 kB 2.7 MB/s eta 0:00:00\n",
            "Using cached boilerpy3-1.0.7-py3-none-any.whl (22 kB)\n",
            "Using cached haystack_bm25-1.0.2-py2.py3-none-any.whl (8.8 kB)\n",
            "Using cached lazy_imports-0.3.1-py3-none-any.whl (12 kB)\n",
            "Using cached more_itertools-10.2.0-py3-none-any.whl (57 kB)\n",
            "Using cached posthog-3.5.0-py2.py3-none-any.whl (41 kB)\n",
            "Using cached backoff-2.2.1-py3-none-any.whl (15 kB)\n",
            "Using cached distro-1.9.0-py3-none-any.whl (20 kB)\n",
            "Using cached monotonic-1.6-py2.py3-none-any.whl (8.2 kB)\n",
            "Installing collected packages: monotonic, more-itertools, lazy-imports, haystack-bm25, distro, boilerpy3, backoff, posthog, openai, haystack-ai, sentence-transformers\n",
            "Successfully installed backoff-2.2.1 boilerpy3-1.0.7 distro-1.9.0 haystack-ai-2.0.0 haystack-bm25-1.0.2 lazy-imports-0.3.1 monotonic-1.6 more-itertools-10.2.0 openai-1.16.1 posthog-3.5.0 sentence-transformers-2.6.1\n"
          ]
        }
      ],
      "source": [
        "!pip install haystack-ai accelerate sentence-transformers"
      ]
    },
    {
      "cell_type": "code",
      "execution_count": null,
      "metadata": {
        "colab": {
          "base_uri": "https://localhost:8080/"
        },
        "id": "0Ra0j9V8QFh5",
        "outputId": "d8a56e53-e24e-4b07-f25e-50595a061efe"
      },
      "outputs": [
        {
          "name": "stdout",
          "output_type": "stream",
          "text": [
            "Collecting sentence-transformers>=2.2.0\n",
            "  Using cached sentence_transformers-2.6.1-py3-none-any.whl (163 kB)\n",
            "Requirement already satisfied: transformers<5.0.0,>=4.32.0 in /usr/local/lib/python3.10/dist-packages (from sentence-transformers>=2.2.0) (4.38.2)\n",
            "Requirement already satisfied: tqdm in /usr/local/lib/python3.10/dist-packages (from sentence-transformers>=2.2.0) (4.66.2)\n",
            "Requirement already satisfied: torch>=1.11.0 in /usr/local/lib/python3.10/dist-packages (from sentence-transformers>=2.2.0) (2.2.1+cu121)\n",
            "Requirement already satisfied: numpy in /usr/local/lib/python3.10/dist-packages (from sentence-transformers>=2.2.0) (1.25.2)\n",
            "Requirement already satisfied: scikit-learn in /usr/local/lib/python3.10/dist-packages (from sentence-transformers>=2.2.0) (1.2.2)\n",
            "Requirement already satisfied: scipy in /usr/local/lib/python3.10/dist-packages (from sentence-transformers>=2.2.0) (1.11.4)\n",
            "Requirement already satisfied: huggingface-hub>=0.15.1 in /usr/local/lib/python3.10/dist-packages (from sentence-transformers>=2.2.0) (0.20.3)\n",
            "Requirement already satisfied: Pillow in /usr/local/lib/python3.10/dist-packages (from sentence-transformers>=2.2.0) (9.4.0)\n",
            "Requirement already satisfied: filelock in /usr/local/lib/python3.10/dist-packages (from huggingface-hub>=0.15.1->sentence-transformers>=2.2.0) (3.13.3)\n",
            "Requirement already satisfied: fsspec>=2023.5.0 in /usr/local/lib/python3.10/dist-packages (from huggingface-hub>=0.15.1->sentence-transformers>=2.2.0) (2023.6.0)\n",
            "Requirement already satisfied: requests in /usr/local/lib/python3.10/dist-packages (from huggingface-hub>=0.15.1->sentence-transformers>=2.2.0) (2.31.0)\n",
            "Requirement already satisfied: pyyaml>=5.1 in /usr/local/lib/python3.10/dist-packages (from huggingface-hub>=0.15.1->sentence-transformers>=2.2.0) (6.0.1)\n",
            "Requirement already satisfied: typing-extensions>=3.7.4.3 in /usr/local/lib/python3.10/dist-packages (from huggingface-hub>=0.15.1->sentence-transformers>=2.2.0) (4.10.0)\n",
            "Requirement already satisfied: packaging>=20.9 in /usr/local/lib/python3.10/dist-packages (from huggingface-hub>=0.15.1->sentence-transformers>=2.2.0) (24.0)\n",
            "Requirement already satisfied: sympy in /usr/local/lib/python3.10/dist-packages (from torch>=1.11.0->sentence-transformers>=2.2.0) (1.12)\n",
            "Requirement already satisfied: networkx in /usr/local/lib/python3.10/dist-packages (from torch>=1.11.0->sentence-transformers>=2.2.0) (3.2.1)\n",
            "Requirement already satisfied: jinja2 in /usr/local/lib/python3.10/dist-packages (from torch>=1.11.0->sentence-transformers>=2.2.0) (3.1.3)\n",
            "Collecting nvidia-cuda-nvrtc-cu12==12.1.105 (from torch>=1.11.0->sentence-transformers>=2.2.0)\n",
            "  Using cached nvidia_cuda_nvrtc_cu12-12.1.105-py3-none-manylinux1_x86_64.whl (23.7 MB)\n",
            "Collecting nvidia-cuda-runtime-cu12==12.1.105 (from torch>=1.11.0->sentence-transformers>=2.2.0)\n",
            "  Using cached nvidia_cuda_runtime_cu12-12.1.105-py3-none-manylinux1_x86_64.whl (823 kB)\n",
            "Collecting nvidia-cuda-cupti-cu12==12.1.105 (from torch>=1.11.0->sentence-transformers>=2.2.0)\n",
            "  Using cached nvidia_cuda_cupti_cu12-12.1.105-py3-none-manylinux1_x86_64.whl (14.1 MB)\n",
            "Collecting nvidia-cudnn-cu12==8.9.2.26 (from torch>=1.11.0->sentence-transformers>=2.2.0)\n",
            "  Using cached nvidia_cudnn_cu12-8.9.2.26-py3-none-manylinux1_x86_64.whl (731.7 MB)\n",
            "Collecting nvidia-cublas-cu12==12.1.3.1 (from torch>=1.11.0->sentence-transformers>=2.2.0)\n",
            "  Using cached nvidia_cublas_cu12-12.1.3.1-py3-none-manylinux1_x86_64.whl (410.6 MB)\n",
            "Collecting nvidia-cufft-cu12==11.0.2.54 (from torch>=1.11.0->sentence-transformers>=2.2.0)\n",
            "  Downloading nvidia_cufft_cu12-11.0.2.54-py3-none-manylinux1_x86_64.whl (121.6 MB)\n",
            "\u001b[2K     \u001b[90m━━━━━━━━━━━━━━━━━━━━━━━━━━━━━━━━━━━━━━━━\u001b[0m \u001b[32m121.6/121.6 MB\u001b[0m \u001b[31m8.4 MB/s\u001b[0m eta \u001b[36m0:00:00\u001b[0m\n",
            "\u001b[?25hCollecting nvidia-curand-cu12==10.3.2.106 (from torch>=1.11.0->sentence-transformers>=2.2.0)\n",
            "  Downloading nvidia_curand_cu12-10.3.2.106-py3-none-manylinux1_x86_64.whl (56.5 MB)\n",
            "\u001b[2K     \u001b[90m━━━━━━━━━━━━━━━━━━━━━━━━━━━━━━━━━━━━━━━━\u001b[0m \u001b[32m56.5/56.5 MB\u001b[0m \u001b[31m9.7 MB/s\u001b[0m eta \u001b[36m0:00:00\u001b[0m\n",
            "\u001b[?25hCollecting nvidia-cusolver-cu12==11.4.5.107 (from torch>=1.11.0->sentence-transformers>=2.2.0)\n",
            "  Downloading nvidia_cusolver_cu12-11.4.5.107-py3-none-manylinux1_x86_64.whl (124.2 MB)\n",
            "\u001b[2K     \u001b[90m━━━━━━━━━━━━━━━━━━━━━━━━━━━━━━━━━━━━━━━━\u001b[0m \u001b[32m124.2/124.2 MB\u001b[0m \u001b[31m6.3 MB/s\u001b[0m eta \u001b[36m0:00:00\u001b[0m\n",
            "\u001b[?25hCollecting nvidia-cusparse-cu12==12.1.0.106 (from torch>=1.11.0->sentence-transformers>=2.2.0)\n",
            "  Downloading nvidia_cusparse_cu12-12.1.0.106-py3-none-manylinux1_x86_64.whl (196.0 MB)\n",
            "\u001b[2K     \u001b[90m━━━━━━━━━━━━━━━━━━━━━━━━━━━━━━━━━━━━━━━━\u001b[0m \u001b[32m196.0/196.0 MB\u001b[0m \u001b[31m1.8 MB/s\u001b[0m eta \u001b[36m0:00:00\u001b[0m\n",
            "\u001b[?25hCollecting nvidia-nccl-cu12==2.19.3 (from torch>=1.11.0->sentence-transformers>=2.2.0)\n",
            "  Downloading nvidia_nccl_cu12-2.19.3-py3-none-manylinux1_x86_64.whl (166.0 MB)\n",
            "\u001b[2K     \u001b[90m━━━━━━━━━━━━━━━━━━━━━━━━━━━━━━━━━━━━━━━━\u001b[0m \u001b[32m166.0/166.0 MB\u001b[0m \u001b[31m1.8 MB/s\u001b[0m eta \u001b[36m0:00:00\u001b[0m\n",
            "\u001b[?25hCollecting nvidia-nvtx-cu12==12.1.105 (from torch>=1.11.0->sentence-transformers>=2.2.0)\n",
            "  Downloading nvidia_nvtx_cu12-12.1.105-py3-none-manylinux1_x86_64.whl (99 kB)\n",
            "\u001b[2K     \u001b[90m━━━━━━━━━━━━━━━━━━━━━━━━━━━━━━━━━━━━━━━━\u001b[0m \u001b[32m99.1/99.1 kB\u001b[0m \u001b[31m1.8 MB/s\u001b[0m eta \u001b[36m0:00:00\u001b[0m\n",
            "\u001b[?25hRequirement already satisfied: triton==2.2.0 in /usr/local/lib/python3.10/dist-packages (from torch>=1.11.0->sentence-transformers>=2.2.0) (2.2.0)\n",
            "Collecting nvidia-nvjitlink-cu12 (from nvidia-cusolver-cu12==11.4.5.107->torch>=1.11.0->sentence-transformers>=2.2.0)\n",
            "  Downloading nvidia_nvjitlink_cu12-12.4.99-py3-none-manylinux2014_x86_64.whl (21.1 MB)\n",
            "\u001b[2K     \u001b[90m━━━━━━━━━━━━━━━━━━━━━━━━━━━━━━━━━━━━━━━━\u001b[0m \u001b[32m21.1/21.1 MB\u001b[0m \u001b[31m3.8 MB/s\u001b[0m eta \u001b[36m0:00:00\u001b[0m\n",
            "\u001b[?25hRequirement already satisfied: regex!=2019.12.17 in /usr/local/lib/python3.10/dist-packages (from transformers<5.0.0,>=4.32.0->sentence-transformers>=2.2.0) (2023.12.25)\n",
            "Requirement already satisfied: tokenizers<0.19,>=0.14 in /usr/local/lib/python3.10/dist-packages (from transformers<5.0.0,>=4.32.0->sentence-transformers>=2.2.0) (0.15.2)\n",
            "Requirement already satisfied: safetensors>=0.4.1 in /usr/local/lib/python3.10/dist-packages (from transformers<5.0.0,>=4.32.0->sentence-transformers>=2.2.0) (0.4.2)\n",
            "Requirement already satisfied: joblib>=1.1.1 in /usr/local/lib/python3.10/dist-packages (from scikit-learn->sentence-transformers>=2.2.0) (1.3.2)\n",
            "Requirement already satisfied: threadpoolctl>=2.0.0 in /usr/local/lib/python3.10/dist-packages (from scikit-learn->sentence-transformers>=2.2.0) (3.4.0)\n",
            "Requirement already satisfied: MarkupSafe>=2.0 in /usr/local/lib/python3.10/dist-packages (from jinja2->torch>=1.11.0->sentence-transformers>=2.2.0) (2.1.5)\n",
            "Requirement already satisfied: charset-normalizer<4,>=2 in /usr/local/lib/python3.10/dist-packages (from requests->huggingface-hub>=0.15.1->sentence-transformers>=2.2.0) (3.3.2)\n",
            "Requirement already satisfied: idna<4,>=2.5 in /usr/local/lib/python3.10/dist-packages (from requests->huggingface-hub>=0.15.1->sentence-transformers>=2.2.0) (3.6)\n",
            "Requirement already satisfied: urllib3<3,>=1.21.1 in /usr/local/lib/python3.10/dist-packages (from requests->huggingface-hub>=0.15.1->sentence-transformers>=2.2.0) (2.0.7)\n",
            "Requirement already satisfied: certifi>=2017.4.17 in /usr/local/lib/python3.10/dist-packages (from requests->huggingface-hub>=0.15.1->sentence-transformers>=2.2.0) (2024.2.2)\n",
            "Requirement already satisfied: mpmath>=0.19 in /usr/local/lib/python3.10/dist-packages (from sympy->torch>=1.11.0->sentence-transformers>=2.2.0) (1.3.0)\n",
            "Installing collected packages: nvidia-nvtx-cu12, nvidia-nvjitlink-cu12, nvidia-nccl-cu12, nvidia-curand-cu12, nvidia-cufft-cu12, nvidia-cuda-runtime-cu12, nvidia-cuda-nvrtc-cu12, nvidia-cuda-cupti-cu12, nvidia-cublas-cu12, nvidia-cusparse-cu12, nvidia-cudnn-cu12, nvidia-cusolver-cu12, sentence-transformers\n",
            "Successfully installed nvidia-cublas-cu12-12.1.3.1 nvidia-cuda-cupti-cu12-12.1.105 nvidia-cuda-nvrtc-cu12-12.1.105 nvidia-cuda-runtime-cu12-12.1.105 nvidia-cudnn-cu12-8.9.2.26 nvidia-cufft-cu12-11.0.2.54 nvidia-curand-cu12-10.3.2.106 nvidia-cusolver-cu12-11.4.5.107 nvidia-cusparse-cu12-12.1.0.106 nvidia-nccl-cu12-2.19.3 nvidia-nvjitlink-cu12-12.4.99 nvidia-nvtx-cu12-12.1.105 sentence-transformers-2.6.1\n"
          ]
        }
      ],
      "source": [
        "pip install 'sentence-transformers>=2.2.0'\n"
      ]
    },
    {
      "cell_type": "markdown",
      "metadata": {
        "id": "bo6LztWXURaA"
      },
      "source": [
        "Knowing you’re using this tutorial helps us decide where to invest our efforts to build a better product but you can always opt out by commenting the following line. See [Telemetry](https://docs.haystack.deepset.ai/v2.0/docs/enabling-telemetry) for more details."
      ]
    },
    {
      "cell_type": "code",
      "execution_count": null,
      "metadata": {},
      "outputs": [],
      "source": [
        "pip "
      ]
    },
    {
      "cell_type": "code",
      "execution_count": 11,
      "metadata": {
        "colab": {
          "base_uri": "https://localhost:8080/",
          "height": 593
        },
        "id": "oZVnWHVzMGOX",
        "outputId": "f84e1980-aacf-4fe1-d0a6-7e92a03b0133"
      },
      "outputs": [
        {
          "data": {
            "image/png": "[encoded data removed]",
            "text/plain": [
              "<IPython.core.display.Image object>"
            ]
          },
          "metadata": {},
          "output_type": "display_data"
        },
        {
          "data": {
            "text/plain": []
          },
          "execution_count": 11,
          "metadata": {},
          "output_type": "execute_result"
        }
      ],
      "source": [
        "from haystack import Pipeline\n",
        "from haystack.document_stores.in_memory import InMemoryDocumentStore\n",
        "from haystack.components.embedders import SentenceTransformersDocumentEmbedder\n",
        "from haystack.components.writers import DocumentWriter\n",
        "\n",
        "model = \"sentence-transformers/multi-qa-mpnet-base-dot-v1\"\n",
        "\n",
        "document_store = InMemoryDocumentStore()\n",
        "\n",
        "indexing_pipeline = Pipeline()\n",
        "\n",
        "indexing_pipeline.add_component(instance=SentenceTransformersDocumentEmbedder(model=model), name=\"embedder\")\n",
        "indexing_pipeline.add_component(instance=DocumentWriter(document_store=document_store), name=\"writer\")\n",
        "indexing_pipeline.connect(\"embedder.documents\", \"writer.documents\")"
      ]
    },
    {
      "cell_type": "markdown",
      "metadata": {
        "id": "B2EG2pEQKBCc"
      },
      "source": [
        "NER IMPLEMENTATION"
      ]
    },
    {
      "cell_type": "code",
      "execution_count": 16,
      "metadata": {
        "colab": {
          "base_uri": "https://localhost:8080/"
        },
        "id": "y_btxLmYUUM9",
        "outputId": "0535f11e-4318-476f-f92e-6b27cac9cfc7"
      },
      "outputs": [],
      "source": [
        "import requests\n",
        "from haystack import Document\n",
        "import spacy\n",
        "\n",
        "\n",
        "documents = []\n",
        "\n",
        "# Load the NER model\n",
        "nlp = spacy.load(\"custom_ner_model_with_bert\")\n",
        "\n",
        "# Function to fetch book data from Google Books API\n",
        "def fetch_book_data(book_title):\n",
        "    api_url = f\"https://www.googleapis.com/books/v1/volumes?q={book_title}&maxResults=1&langRestrict=en&printType=books\"\n",
        "    response = requests.get(api_url)\n",
        "    if response.status_code == 200:\n",
        "        book_data = response.json()\n",
        "        if \"items\" in book_data:\n",
        "            return book_data[\"items\"]\n",
        "    return None\n",
        "\n",
        "# Function to extract book title from user input using NER\n",
        "def extract_book_title(question):\n",
        "    entities = nlp(question)\n",
        "    for ent in entities.ents:  # Iterate over recognized entities\n",
        "        if ent.label_ == 'BOOK_TITLE':  # Check if the entity is a book title\n",
        "            return ent.text\n",
        "    return None\n",
        "\n",
        "# Prompt user for a question about a book\n",
        "user_question = input(\"Ask a question about a book: \")\n",
        "\n",
        "# Extract book title from user input\n",
        "book_title = extract_book_title(user_question)\n",
        "book_items = fetch_book_data(book_title)\n",
        "\n",
        "if book_items:\n",
        "        # Create Document objects for each book item and aggregate descriptions\n",
        "        descriptions = []  # List to aggregate descriptions from all items\n",
        "        for item in book_items:\n",
        "            meta = item.get(\"volumeInfo\", {})\n",
        "\n",
        "            # Ensure all keys are present and set their value to \"Not available\" if missing\n",
        "            all_keys = ['subtitle', 'authors', 'publisher', 'publishedDate',\n",
        "                        'industryIdentifiers', 'readingModes', 'pageCount', 'printType', 'categories',\n",
        "                        'averageRating', 'ratingsCount', 'maturityRating', 'allowAnonLogging',\n",
        "                        'contentVersion', 'panelizationSummary', 'imageLinks', 'language',\n",
        "                        'previewLink', 'infoLink', 'canonicalVolumeLink', 'seriesInfo']\n",
        "            for key in all_keys:\n",
        "                if key not in meta:\n",
        "                    meta[key] = \"Not available\"\n",
        "                elif isinstance(meta[key], list):\n",
        "                    # Convert each item in the list to string\n",
        "                    meta[key] = \", \".join(str(item) for item in meta[key])\n",
        "\n",
        "            # Create content with title and description\n",
        "            content = f\"Title: {meta.get('title', 'Not available')}\\n\"\n",
        "            content += f\"Description: {meta.get('description', 'Not available')}\\n\"\n",
        "            content += f\"Number of pages: {meta.get('pageCount', 'Not available')}\"\n",
        "\n",
        "            # Remove title and description from meta\n",
        "            meta.pop('description', None)\n",
        "\n",
        "            document = Document(content=content, meta=meta)\n",
        "            documents.append(document)\n",
        "else:\n",
        "    print(\"Book data not found.\")\n"
      ]
    },
    {
      "cell_type": "code",
      "execution_count": 17,
      "metadata": {},
      "outputs": [
        {
          "name": "stdout",
          "output_type": "stream",
          "text": [
            "educated\n"
          ]
        }
      ],
      "source": [
        "print(book_title)"
      ]
    },
    {
      "cell_type": "code",
      "execution_count": 18,
      "metadata": {
        "colab": {
          "base_uri": "https://localhost:8080/",
          "height": 67,
          "referenced_widgets": [
            "a132cf9dd99746d68b0c91c69143f5c5",
            "38562780aeb74cdfafe80c0c7ab7a29d",
            "725b963b8cea4715878ecc386702d479",
            "8dd96ee3a3ed48418054e14f94bd9e2d",
            "6f5f2dae012c4c9f87bde613a80a007d",
            "75ef524111bf416fa116ac7bd19e4ee1",
            "2d55e17d141d46c2a6c222d2930ca17d",
            "35ca6f8ba1794cb99f06f473207e9955",
            "82f16094d5524fadad19fcdd8138a44f",
            "eadd98fc9f1d48f9b7c1d67314928197",
            "1074a621bf2442be997f99cd15a75fd3"
          ]
        },
        "id": "3lPn00LZLx7l",
        "outputId": "0d510139-b4be-4b44-8ad7-53bb11c850f1"
      },
      "outputs": [
        {
          "data": {
            "application/vnd.jupyter.widget-view+json": {
              "model_id": "6cd1110d7aa94d3e9b58cf2c01d8e947",
              "version_major": 2,
              "version_minor": 0
            },
            "text/plain": [
              "Batches:   0%|          | 0/1 [00:00<?, ?it/s]"
            ]
          },
          "metadata": {},
          "output_type": "display_data"
        },
        {
          "data": {
            "text/plain": [
              "{'writer': {'documents_written': 1}}"
            ]
          },
          "execution_count": 18,
          "metadata": {},
          "output_type": "execute_result"
        }
      ],
      "source": [
        "indexing_pipeline.run({\"documents\": documents})"
      ]
    },
    {
      "cell_type": "code",
      "execution_count": 19,
      "metadata": {
        "colab": {
          "base_uri": "https://localhost:8080/",
          "height": 975
        },
        "id": "jSLWZSKaMoOI",
        "outputId": "8403347d-4b00-4269-cbfd-b4c30b63f6a8"
      },
      "outputs": [
        {
          "data": {
            "image/png": "[encoded data removed]",
            "text/plain": [
              "<IPython.core.display.Image object>"
            ]
          },
          "metadata": {},
          "output_type": "display_data"
        },
        {
          "data": {
            "text/plain": []
          },
          "execution_count": 19,
          "metadata": {},
          "output_type": "execute_result"
        }
      ],
      "source": [
        "from haystack.components.retrievers.in_memory import InMemoryEmbeddingRetriever\n",
        "from haystack.components.readers import ExtractiveReader\n",
        "from haystack.components.embedders import SentenceTransformersTextEmbedder\n",
        "\n",
        "\n",
        "retriever = InMemoryEmbeddingRetriever(document_store=document_store)\n",
        "reader = ExtractiveReader(model='deepset/roberta-base-squad2')\n",
        "reader.warm_up()\n",
        "\n",
        "extractive_qa_pipeline = Pipeline()\n",
        "\n",
        "extractive_qa_pipeline.add_component(instance=SentenceTransformersTextEmbedder(model=model), name=\"embedder\")\n",
        "extractive_qa_pipeline.add_component(instance=retriever, name=\"retriever\")\n",
        "extractive_qa_pipeline.add_component(instance=reader, name=\"reader\")\n",
        "\n",
        "extractive_qa_pipeline.connect(\"embedder.embedding\", \"retriever.query_embedding\")\n",
        "extractive_qa_pipeline.connect(\"retriever.documents\", \"reader.documents\")"
      ]
    },
    {
      "cell_type": "code",
      "execution_count": 20,
      "metadata": {
        "colab": {
          "base_uri": "https://localhost:8080/",
          "height": 49,
          "referenced_widgets": [
            "6df7ccf2bf1547308508cbf578d018c9",
            "0f15ff14a11941cb9c13a4dc92cef713",
            "981fe101183e469c8ea8d14bb835dfc4",
            "b0d753979ee44a1986cf66594077fa97",
            "8efe028f21ea4920862b0d8c11ce2196",
            "260ca97745c8406b8ec18275773529ed",
            "051b7da1e4a14e318a2dd0776a0517e9",
            "5b30fc9025d649c2b55ada24ff7c4575",
            "3d7afbfa03bf431dae04b8b4e1ecf148",
            "54d0ac472602472fa469f7c42217a7d9",
            "025fa00d10a740c9aaecc341a67d5aee"
          ]
        },
        "id": "EGniyToqNAll",
        "outputId": "9cc25ed4-681a-4bfe-be81-e4187a935e72"
      },
      "outputs": [
        {
          "data": {
            "application/vnd.jupyter.widget-view+json": {
              "model_id": "7c7dc4026c764b068235c8b6168ce29d",
              "version_major": 2,
              "version_minor": 0
            },
            "text/plain": [
              "Batches:   0%|          | 0/1 [00:00<?, ?it/s]"
            ]
          },
          "metadata": {},
          "output_type": "display_data"
        }
      ],
      "source": [
        "response = extractive_qa_pipeline.run(\n",
        "    data={\"embedder\": {\"text\": user_question}, \"retriever\": {\"top_k\": 3}, \"reader\": {\"query\": user_question, \"top_k\": 1}}\n",
        ")"
      ]
    },
    {
      "cell_type": "code",
      "execution_count": 21,
      "metadata": {
        "colab": {
          "base_uri": "https://localhost:8080/"
        },
        "id": "mOcBPkAUY13P",
        "outputId": "6b00f97e-87c8-469d-a187-307c407ca028"
      },
      "outputs": [
        {
          "data": {
            "text/plain": [
              "{'reader': {'answers': [ExtractedAnswer(query='what is educated about?', score=0.5995774269104004, data='ignorance', document=Document(id=83d6430675c823ccc37abc1695f0f0766f19177971074c7aed74820b608a297c, content: 'Title: The Educated Franchisee\n",
              "   Description: There is nothing more expensive than ignorance – let The...', meta: {'title': 'The Educated Franchisee', 'subtitle': 'The How-to Book for Choosing a Winning Franchise', 'authors': 'Rick Bisio, Mike Kohler', 'publisher': 'Hillcrest Publishing Group', 'publishedDate': '2011', 'industryIdentifiers': \"{'type': 'ISBN_13', 'identifier': '9781935098539'}, {'type': 'ISBN_10', 'identifier': '1935098535'}\", 'readingModes': {'text': False, 'image': True}, 'pageCount': 219, 'printType': 'BOOK', 'categories': 'Business & Economics', 'maturityRating': 'NOT_MATURE', 'allowAnonLogging': False, 'contentVersion': '0.1.1.0.preview.1', 'panelizationSummary': {'containsEpubBubbles': False, 'containsImageBubbles': False}, 'imageLinks': {'smallThumbnail': 'http://books.google.com/books/content?id=hy7Vz5RYRCAC&printsec=frontcover&img=1&zoom=5&edge=curl&source=gbs_api', 'thumbnail': 'http://books.google.com/books/content?id=hy7Vz5RYRCAC&printsec=frontcover&img=1&zoom=1&edge=curl&source=gbs_api'}, 'language': 'en', 'previewLink': 'http://books.google.it/books?id=hy7Vz5RYRCAC&pg=PA76&dq=educated&hl=&as_pt=BOOKS&cd=1&source=gbs_api', 'infoLink': 'http://books.google.it/books?id=hy7Vz5RYRCAC&dq=educated&hl=&as_pt=BOOKS&source=gbs_api', 'canonicalVolumeLink': 'https://books.google.com/books/about/The_Educated_Franchisee.html?hl=&id=hy7Vz5RYRCAC', 'averageRating': 'Not available', 'ratingsCount': 'Not available', 'seriesInfo': 'Not available'}, score: 19.59916624539918), context=None, document_offset=ExtractedAnswer.Span(start=81, end=90), context_offset=None, meta={}),\n",
              "   ExtractedAnswer(query='what is educated about?', score=0.4004225730895996, data=None, document=None, context=None, document_offset=None, context_offset=None, meta={})]}}"
            ]
          },
          "execution_count": 21,
          "metadata": {},
          "output_type": "execute_result"
        }
      ],
      "source": [
        "response"
      ]
    },
    {
      "cell_type": "code",
      "execution_count": 22,
      "metadata": {
        "colab": {
          "base_uri": "https://localhost:8080/"
        },
        "id": "X3KG8euBSZTM",
        "outputId": "526af0cd-118a-45a4-9194-9bce0ca2882b"
      },
      "outputs": [
        {
          "name": "stdout",
          "output_type": "stream",
          "text": [
            "Best Answer: ignorance\n"
          ]
        }
      ],
      "source": [
        "answers = response['reader']['answers']\n",
        "\n",
        "# Filter out answers with None data\n",
        "valid_answers = [answer for answer in answers if answer.data is not None]\n",
        "\n",
        "# Find the answer with the highest score among valid answers\n",
        "best_answer = max(valid_answers, key=lambda x: x.score)\n",
        "\n",
        "print(\"Best Answer:\", best_answer.data)"
      ]
    },
    {
      "cell_type": "code",
      "execution_count": 2,
      "metadata": {},
      "outputs": [
        {
          "name": "stdout",
          "output_type": "stream",
          "text": [
            "Collecting gradioNote: you may need to restart the kernel to use updated packages.\n"
          ]
        },
        {
          "name": "stderr",
          "output_type": "stream",
          "text": [
            "  WARNING: The scripts fonttools.exe, pyftmerge.exe, pyftsubset.exe and ttx.exe are installed in 'c:\\Users\\Adib\\AppData\\Local\\Programs\\Python\\Python310\\Scripts' which is not on PATH.\n",
            "  Consider adding this directory to PATH or, if you prefer to suppress this warning, use --no-warn-script-location.\n",
            "  WARNING: The script uvicorn.exe is installed in 'c:\\Users\\Adib\\AppData\\Local\\Programs\\Python\\Python310\\Scripts' which is not on PATH.\n",
            "  Consider adding this directory to PATH or, if you prefer to suppress this warning, use --no-warn-script-location.\n",
            "  WARNING: The scripts gradio.exe and upload_theme.exe are installed in 'c:\\Users\\Adib\\AppData\\Local\\Programs\\Python\\Python310\\Scripts' which is not on PATH.\n",
            "  Consider adding this directory to PATH or, if you prefer to suppress this warning, use --no-warn-script-location.\n"
          ]
        },
        {
          "name": "stdout",
          "output_type": "stream",
          "text": [
            "\n",
            "  Using cached gradio-4.25.0-py3-none-any.whl.metadata (15 kB)\n",
            "Collecting aiofiles<24.0,>=22.0 (from gradio)\n",
            "  Using cached aiofiles-23.2.1-py3-none-any.whl.metadata (9.7 kB)\n",
            "Collecting altair<6.0,>=4.2.0 (from gradio)\n",
            "  Downloading altair-5.3.0-py3-none-any.whl.metadata (9.2 kB)\n",
            "Collecting fastapi (from gradio)\n",
            "  Using cached fastapi-0.110.1-py3-none-any.whl.metadata (24 kB)\n",
            "Collecting ffmpy (from gradio)\n",
            "  Using cached ffmpy-0.3.2.tar.gz (5.5 kB)\n",
            "  Installing build dependencies: started\n",
            "  Installing build dependencies: finished with status 'done'\n",
            "  Getting requirements to build wheel: started\n",
            "  Getting requirements to build wheel: finished with status 'done'\n",
            "  Installing backend dependencies: started\n",
            "  Installing backend dependencies: finished with status 'done'\n",
            "  Preparing metadata (pyproject.toml): started\n",
            "  Preparing metadata (pyproject.toml): finished with status 'done'\n",
            "Collecting gradio-client==0.15.0 (from gradio)\n",
            "  Using cached gradio_client-0.15.0-py3-none-any.whl.metadata (7.1 kB)\n",
            "Requirement already satisfied: httpx>=0.24.1 in c:\\users\\adib\\appdata\\local\\programs\\python\\python310\\lib\\site-packages (from gradio) (0.27.0)\n",
            "Requirement already satisfied: huggingface-hub>=0.19.3 in c:\\users\\adib\\appdata\\local\\programs\\python\\python310\\lib\\site-packages (from gradio) (0.22.2)\n",
            "Collecting importlib-resources<7.0,>=1.3 (from gradio)\n",
            "  Using cached importlib_resources-6.4.0-py3-none-any.whl.metadata (3.9 kB)\n",
            "Requirement already satisfied: jinja2<4.0 in c:\\users\\adib\\appdata\\local\\programs\\python\\python310\\lib\\site-packages (from gradio) (3.1.3)\n",
            "Requirement already satisfied: markupsafe~=2.0 in c:\\users\\adib\\appdata\\local\\programs\\python\\python310\\lib\\site-packages (from gradio) (2.1.5)\n",
            "Collecting matplotlib~=3.0 (from gradio)\n",
            "  Downloading matplotlib-3.8.3-cp310-cp310-win_amd64.whl.metadata (5.9 kB)\n",
            "Requirement already satisfied: numpy~=1.0 in c:\\users\\adib\\appdata\\local\\programs\\python\\python310\\lib\\site-packages (from gradio) (1.26.4)\n",
            "Collecting orjson~=3.0 (from gradio)\n",
            "  Downloading orjson-3.10.0-cp310-none-win_amd64.whl.metadata (50 kB)\n",
            "     ---------------------------------------- 0.0/50.7 kB ? eta -:--:--\n",
            "     ---------------------------------------- 50.7/50.7 kB 2.5 MB/s eta 0:00:00\n",
            "Requirement already satisfied: packaging in c:\\users\\adib\\appdata\\roaming\\python\\python310\\site-packages (from gradio) (24.0)\n",
            "Requirement already satisfied: pandas<3.0,>=1.0 in c:\\users\\adib\\appdata\\local\\programs\\python\\python310\\lib\\site-packages (from gradio) (2.2.1)\n",
            "Requirement already satisfied: pillow<11.0,>=8.0 in c:\\users\\adib\\appdata\\local\\programs\\python\\python310\\lib\\site-packages (from gradio) (9.0.0)\n",
            "Collecting pydantic>=2.0 (from gradio)\n",
            "  Downloading pydantic-2.6.4-py3-none-any.whl.metadata (85 kB)\n",
            "     ---------------------------------------- 0.0/85.1 kB ? eta -:--:--\n",
            "     ---------------------------------------- 85.1/85.1 kB 4.7 MB/s eta 0:00:00\n",
            "Collecting pydub (from gradio)\n",
            "  Using cached pydub-0.25.1-py2.py3-none-any.whl.metadata (1.4 kB)\n",
            "Collecting python-multipart>=0.0.9 (from gradio)\n",
            "  Using cached python_multipart-0.0.9-py3-none-any.whl.metadata (2.5 kB)\n",
            "Requirement already satisfied: pyyaml<7.0,>=5.0 in c:\\users\\adib\\appdata\\local\\programs\\python\\python310\\lib\\site-packages (from gradio) (6.0.1)\n",
            "Collecting ruff>=0.2.2 (from gradio)\n",
            "  Using cached ruff-0.3.5-py3-none-win_amd64.whl.metadata (24 kB)\n",
            "Collecting semantic-version~=2.0 (from gradio)\n",
            "  Using cached semantic_version-2.10.0-py2.py3-none-any.whl.metadata (9.7 kB)\n",
            "Collecting tomlkit==0.12.0 (from gradio)\n",
            "  Using cached tomlkit-0.12.0-py3-none-any.whl.metadata (2.7 kB)\n",
            "Requirement already satisfied: typer<1.0,>=0.9 in c:\\users\\adib\\appdata\\local\\programs\\python\\python310\\lib\\site-packages (from typer[all]<1.0,>=0.9; sys_platform != \"emscripten\"->gradio) (0.9.4)\n",
            "Requirement already satisfied: typing-extensions~=4.0 in c:\\users\\adib\\appdata\\local\\programs\\python\\python310\\lib\\site-packages (from gradio) (4.10.0)\n",
            "Collecting uvicorn>=0.14.0 (from gradio)\n",
            "  Using cached uvicorn-0.29.0-py3-none-any.whl.metadata (6.3 kB)\n",
            "Requirement already satisfied: fsspec in c:\\users\\adib\\appdata\\local\\programs\\python\\python310\\lib\\site-packages (from gradio-client==0.15.0->gradio) (2024.2.0)\n",
            "Collecting websockets<12.0,>=10.0 (from gradio-client==0.15.0->gradio)\n",
            "  Downloading websockets-11.0.3-cp310-cp310-win_amd64.whl.metadata (6.8 kB)\n",
            "Requirement already satisfied: jsonschema>=3.0 in c:\\users\\adib\\appdata\\local\\programs\\python\\python310\\lib\\site-packages (from altair<6.0,>=4.2.0->gradio) (4.21.1)\n",
            "Collecting toolz (from altair<6.0,>=4.2.0->gradio)\n",
            "  Using cached toolz-0.12.1-py3-none-any.whl.metadata (5.1 kB)\n",
            "Requirement already satisfied: anyio in c:\\users\\adib\\appdata\\local\\programs\\python\\python310\\lib\\site-packages (from httpx>=0.24.1->gradio) (4.3.0)\n",
            "Requirement already satisfied: certifi in c:\\users\\adib\\appdata\\local\\programs\\python\\python310\\lib\\site-packages (from httpx>=0.24.1->gradio) (2024.2.2)\n",
            "Requirement already satisfied: httpcore==1.* in c:\\users\\adib\\appdata\\local\\programs\\python\\python310\\lib\\site-packages (from httpx>=0.24.1->gradio) (1.0.5)\n",
            "Requirement already satisfied: idna in c:\\users\\adib\\appdata\\local\\programs\\python\\python310\\lib\\site-packages (from httpx>=0.24.1->gradio) (3.6)\n",
            "Requirement already satisfied: sniffio in c:\\users\\adib\\appdata\\local\\programs\\python\\python310\\lib\\site-packages (from httpx>=0.24.1->gradio) (1.3.1)\n",
            "Requirement already satisfied: h11<0.15,>=0.13 in c:\\users\\adib\\appdata\\local\\programs\\python\\python310\\lib\\site-packages (from httpcore==1.*->httpx>=0.24.1->gradio) (0.14.0)\n",
            "Requirement already satisfied: filelock in c:\\users\\adib\\appdata\\local\\programs\\python\\python310\\lib\\site-packages (from huggingface-hub>=0.19.3->gradio) (3.13.3)\n",
            "Requirement already satisfied: requests in c:\\users\\adib\\appdata\\local\\programs\\python\\python310\\lib\\site-packages (from huggingface-hub>=0.19.3->gradio) (2.31.0)\n",
            "Requirement already satisfied: tqdm>=4.42.1 in c:\\users\\adib\\appdata\\local\\programs\\python\\python310\\lib\\site-packages (from huggingface-hub>=0.19.3->gradio) (4.66.2)\n",
            "Collecting contourpy>=1.0.1 (from matplotlib~=3.0->gradio)\n",
            "  Downloading contourpy-1.2.1-cp310-cp310-win_amd64.whl.metadata (5.8 kB)\n",
            "Collecting cycler>=0.10 (from matplotlib~=3.0->gradio)\n",
            "  Downloading cycler-0.12.1-py3-none-any.whl.metadata (3.8 kB)\n",
            "Collecting fonttools>=4.22.0 (from matplotlib~=3.0->gradio)\n",
            "  Downloading fonttools-4.50.0-cp310-cp310-win_amd64.whl.metadata (162 kB)\n",
            "     ---------------------------------------- 0.0/162.6 kB ? eta -:--:--\n",
            "     -------------------------------------- 162.6/162.6 kB 9.5 MB/s eta 0:00:00\n",
            "Collecting kiwisolver>=1.3.1 (from matplotlib~=3.0->gradio)\n",
            "  Downloading kiwisolver-1.4.5-cp310-cp310-win_amd64.whl.metadata (6.5 kB)\n",
            "Collecting pyparsing>=2.3.1 (from matplotlib~=3.0->gradio)\n",
            "  Downloading pyparsing-3.1.2-py3-none-any.whl.metadata (5.1 kB)\n",
            "Requirement already satisfied: python-dateutil>=2.7 in c:\\users\\adib\\appdata\\roaming\\python\\python310\\site-packages (from matplotlib~=3.0->gradio) (2.9.0.post0)\n",
            "Requirement already satisfied: pytz>=2020.1 in c:\\users\\adib\\appdata\\local\\programs\\python\\python310\\lib\\site-packages (from pandas<3.0,>=1.0->gradio) (2024.1)\n",
            "Requirement already satisfied: tzdata>=2022.7 in c:\\users\\adib\\appdata\\local\\programs\\python\\python310\\lib\\site-packages (from pandas<3.0,>=1.0->gradio) (2024.1)\n",
            "Collecting annotated-types>=0.4.0 (from pydantic>=2.0->gradio)\n",
            "  Using cached annotated_types-0.6.0-py3-none-any.whl.metadata (12 kB)\n",
            "Collecting pydantic-core==2.16.3 (from pydantic>=2.0->gradio)\n",
            "  Downloading pydantic_core-2.16.3-cp310-none-win_amd64.whl.metadata (6.6 kB)\n",
            "Requirement already satisfied: click<9.0.0,>=7.1.1 in c:\\users\\adib\\appdata\\local\\programs\\python\\python310\\lib\\site-packages (from typer<1.0,>=0.9->typer[all]<1.0,>=0.9; sys_platform != \"emscripten\"->gradio) (8.1.7)\n",
            "Requirement already satisfied: colorama<0.5.0,>=0.4.3 in c:\\users\\adib\\appdata\\roaming\\python\\python310\\site-packages (from typer[all]<1.0,>=0.9; sys_platform != \"emscripten\"->gradio) (0.4.6)\n",
            "Collecting shellingham<2.0.0,>=1.3.0 (from typer[all]<1.0,>=0.9; sys_platform != \"emscripten\"->gradio)\n",
            "  Using cached shellingham-1.5.4-py2.py3-none-any.whl.metadata (3.5 kB)\n",
            "Collecting rich<14.0.0,>=10.11.0 (from typer[all]<1.0,>=0.9; sys_platform != \"emscripten\"->gradio)\n",
            "  Downloading rich-13.7.1-py3-none-any.whl.metadata (18 kB)\n",
            "Collecting starlette<0.38.0,>=0.37.2 (from fastapi->gradio)\n",
            "  Using cached starlette-0.37.2-py3-none-any.whl.metadata (5.9 kB)\n",
            "Requirement already satisfied: attrs>=22.2.0 in c:\\users\\adib\\appdata\\local\\programs\\python\\python310\\lib\\site-packages (from jsonschema>=3.0->altair<6.0,>=4.2.0->gradio) (23.2.0)\n",
            "Requirement already satisfied: jsonschema-specifications>=2023.03.6 in c:\\users\\adib\\appdata\\local\\programs\\python\\python310\\lib\\site-packages (from jsonschema>=3.0->altair<6.0,>=4.2.0->gradio) (2023.12.1)\n",
            "Requirement already satisfied: referencing>=0.28.4 in c:\\users\\adib\\appdata\\local\\programs\\python\\python310\\lib\\site-packages (from jsonschema>=3.0->altair<6.0,>=4.2.0->gradio) (0.34.0)\n",
            "Requirement already satisfied: rpds-py>=0.7.1 in c:\\users\\adib\\appdata\\local\\programs\\python\\python310\\lib\\site-packages (from jsonschema>=3.0->altair<6.0,>=4.2.0->gradio) (0.18.0)\n",
            "Requirement already satisfied: six>=1.5 in c:\\users\\adib\\appdata\\roaming\\python\\python310\\site-packages (from python-dateutil>=2.7->matplotlib~=3.0->gradio) (1.16.0)\n",
            "Requirement already satisfied: markdown-it-py>=2.2.0 in c:\\users\\adib\\appdata\\local\\programs\\python\\python310\\lib\\site-packages (from rich<14.0.0,>=10.11.0->typer[all]<1.0,>=0.9; sys_platform != \"emscripten\"->gradio) (3.0.0)\n",
            "Requirement already satisfied: pygments<3.0.0,>=2.13.0 in c:\\users\\adib\\appdata\\roaming\\python\\python310\\site-packages (from rich<14.0.0,>=10.11.0->typer[all]<1.0,>=0.9; sys_platform != \"emscripten\"->gradio) (2.17.2)\n",
            "Requirement already satisfied: exceptiongroup>=1.0.2 in c:\\users\\adib\\appdata\\roaming\\python\\python310\\site-packages (from anyio->httpx>=0.24.1->gradio) (1.2.0)\n",
            "Requirement already satisfied: charset-normalizer<4,>=2 in c:\\users\\adib\\appdata\\local\\programs\\python\\python310\\lib\\site-packages (from requests->huggingface-hub>=0.19.3->gradio) (3.3.2)\n",
            "Requirement already satisfied: urllib3<3,>=1.21.1 in c:\\users\\adib\\appdata\\local\\programs\\python\\python310\\lib\\site-packages (from requests->huggingface-hub>=0.19.3->gradio) (2.2.1)\n",
            "Requirement already satisfied: mdurl~=0.1 in c:\\users\\adib\\appdata\\local\\programs\\python\\python310\\lib\\site-packages (from markdown-it-py>=2.2.0->rich<14.0.0,>=10.11.0->typer[all]<1.0,>=0.9; sys_platform != \"emscripten\"->gradio) (0.1.2)\n",
            "Using cached gradio-4.25.0-py3-none-any.whl (17.1 MB)\n",
            "Using cached gradio_client-0.15.0-py3-none-any.whl (313 kB)\n",
            "Using cached tomlkit-0.12.0-py3-none-any.whl (37 kB)\n",
            "Using cached aiofiles-23.2.1-py3-none-any.whl (15 kB)\n",
            "Downloading altair-5.3.0-py3-none-any.whl (857 kB)\n",
            "   ---------------------------------------- 0.0/857.8 kB ? eta -:--:--\n",
            "   ------------------------ -------------- 542.7/857.8 kB 11.3 MB/s eta 0:00:01\n",
            "   --------------------------------------- 857.8/857.8 kB 10.9 MB/s eta 0:00:00\n",
            "Using cached importlib_resources-6.4.0-py3-none-any.whl (38 kB)\n",
            "Downloading matplotlib-3.8.3-cp310-cp310-win_amd64.whl (7.6 MB)\n",
            "   ---------------------------------------- 0.0/7.6 MB ? eta -:--:--\n",
            "   -- ------------------------------------- 0.5/7.6 MB 16.5 MB/s eta 0:00:01\n",
            "   -- ------------------------------------- 0.5/7.6 MB 16.5 MB/s eta 0:00:01\n",
            "   ---------- ----------------------------- 2.1/7.6 MB 14.8 MB/s eta 0:00:01\n",
            "   ------------ --------------------------- 2.4/7.6 MB 13.0 MB/s eta 0:00:01\n",
            "   --------------- ------------------------ 3.0/7.6 MB 13.9 MB/s eta 0:00:01\n",
            "   --------------- ------------------------ 3.0/7.6 MB 13.9 MB/s eta 0:00:01\n",
            "   --------------- ------------------------ 3.0/7.6 MB 13.9 MB/s eta 0:00:01\n",
            "   --------------- ------------------------ 3.0/7.6 MB 13.9 MB/s eta 0:00:01\n",
            "   ------------------------ --------------- 4.6/7.6 MB 11.0 MB/s eta 0:00:01\n",
            "   ------------------------- -------------- 4.8/7.6 MB 10.6 MB/s eta 0:00:01\n",
            "   ---------------------------- ----------- 5.5/7.6 MB 10.9 MB/s eta 0:00:01\n",
            "   ------------------------------- -------- 5.9/7.6 MB 10.9 MB/s eta 0:00:01\n",
            "   ------------------------------- -------- 6.0/7.6 MB 10.4 MB/s eta 0:00:01\n",
            "   --------------------------------- ------ 6.5/7.6 MB 10.1 MB/s eta 0:00:01\n",
            "   ---------------------------------- ----- 6.6/7.6 MB 9.8 MB/s eta 0:00:01\n",
            "   ------------------------------------ --- 7.1/7.6 MB 9.6 MB/s eta 0:00:01\n",
            "   -------------------------------------- - 7.3/7.6 MB 9.5 MB/s eta 0:00:01\n",
            "   -------------------------------------- - 7.3/7.6 MB 9.5 MB/s eta 0:00:01\n",
            "   ---------------------------------------  7.6/7.6 MB 8.9 MB/s eta 0:00:01\n",
            "   ---------------------------------------- 7.6/7.6 MB 8.6 MB/s eta 0:00:00\n",
            "Downloading orjson-3.10.0-cp310-none-win_amd64.whl (139 kB)\n",
            "   ---------------------------------------- 0.0/139.2 kB ? eta -:--:--\n",
            "   ---------------------------------------- 139.2/139.2 kB 4.2 MB/s eta 0:00:00\n",
            "Downloading pydantic-2.6.4-py3-none-any.whl (394 kB)\n",
            "   ---------------------------------------- 0.0/394.9 kB ? eta -:--:--\n",
            "   ----------------------------- ---------- 286.7/394.9 kB 5.9 MB/s eta 0:00:01\n",
            "   ---------------------------------------- 394.9/394.9 kB 6.2 MB/s eta 0:00:00\n",
            "Downloading pydantic_core-2.16.3-cp310-none-win_amd64.whl (1.9 MB)\n",
            "   ---------------------------------------- 0.0/1.9 MB ? eta -:--:--\n",
            "   ---- ----------------------------------- 0.2/1.9 MB 5.8 MB/s eta 0:00:01\n",
            "   --------- ------------------------------ 0.4/1.9 MB 5.4 MB/s eta 0:00:01\n",
            "   --------------- ------------------------ 0.7/1.9 MB 5.7 MB/s eta 0:00:01\n",
            "   --------------------- ------------------ 1.0/1.9 MB 5.7 MB/s eta 0:00:01\n",
            "   --------------------------- ------------ 1.3/1.9 MB 5.8 MB/s eta 0:00:01\n",
            "   ---------------------------------- ----- 1.6/1.9 MB 5.7 MB/s eta 0:00:01\n",
            "   ---------------------------------------  1.8/1.9 MB 5.9 MB/s eta 0:00:01\n",
            "   ---------------------------------------- 1.9/1.9 MB 5.4 MB/s eta 0:00:00\n",
            "Using cached python_multipart-0.0.9-py3-none-any.whl (22 kB)\n",
            "Using cached ruff-0.3.5-py3-none-win_amd64.whl (8.5 MB)\n",
            "Using cached semantic_version-2.10.0-py2.py3-none-any.whl (15 kB)\n",
            "Using cached uvicorn-0.29.0-py3-none-any.whl (60 kB)\n",
            "Using cached fastapi-0.110.1-py3-none-any.whl (91 kB)\n",
            "Using cached pydub-0.25.1-py2.py3-none-any.whl (32 kB)\n",
            "Using cached annotated_types-0.6.0-py3-none-any.whl (12 kB)\n",
            "Downloading contourpy-1.2.1-cp310-cp310-win_amd64.whl (187 kB)\n",
            "   ---------------------------------------- 0.0/187.5 kB ? eta -:--:--\n",
            "   ---------------------------------------- 187.5/187.5 kB 5.5 MB/s eta 0:00:00\n",
            "Downloading cycler-0.12.1-py3-none-any.whl (8.3 kB)\n",
            "Downloading fonttools-4.50.0-cp310-cp310-win_amd64.whl (2.2 MB)\n",
            "   ---------------------------------------- 0.0/2.2 MB ? eta -:--:--\n",
            "   ------ --------------------------------- 0.4/2.2 MB 7.4 MB/s eta 0:00:01\n",
            "   ----------- ---------------------------- 0.6/2.2 MB 6.5 MB/s eta 0:00:01\n",
            "   ----------------- ---------------------- 1.0/2.2 MB 6.7 MB/s eta 0:00:01\n",
            "   ---------------------- ----------------- 1.2/2.2 MB 6.5 MB/s eta 0:00:01\n",
            "   --------------------------- ------------ 1.5/2.2 MB 6.3 MB/s eta 0:00:01\n",
            "   ------------------------------- -------- 1.7/2.2 MB 6.1 MB/s eta 0:00:01\n",
            "   ---------------------------------- ----- 1.9/2.2 MB 5.6 MB/s eta 0:00:01\n",
            "   -------------------------------------- - 2.1/2.2 MB 5.8 MB/s eta 0:00:01\n",
            "   ---------------------------------------  2.2/2.2 MB 5.6 MB/s eta 0:00:01\n",
            "   ---------------------------------------- 2.2/2.2 MB 5.0 MB/s eta 0:00:00\n",
            "Downloading kiwisolver-1.4.5-cp310-cp310-win_amd64.whl (56 kB)\n",
            "   ---------------------------------------- 0.0/56.1 kB ? eta -:--:--\n",
            "   ---------------------------------------- 56.1/56.1 kB 2.9 MB/s eta 0:00:00\n",
            "Downloading pyparsing-3.1.2-py3-none-any.whl (103 kB)\n",
            "   ---------------------------------------- 0.0/103.2 kB ? eta -:--:--\n",
            "   ---------------------------------------- 103.2/103.2 kB 5.8 MB/s eta 0:00:00\n",
            "Downloading rich-13.7.1-py3-none-any.whl (240 kB)\n",
            "   ---------------------------------------- 0.0/240.7 kB ? eta -:--:--\n",
            "   ---------------------------------------  235.5/240.7 kB 4.8 MB/s eta 0:00:01\n",
            "   ---------------------------------------- 240.7/240.7 kB 4.9 MB/s eta 0:00:00\n",
            "Using cached shellingham-1.5.4-py2.py3-none-any.whl (9.8 kB)\n",
            "Using cached starlette-0.37.2-py3-none-any.whl (71 kB)\n",
            "Downloading websockets-11.0.3-cp310-cp310-win_amd64.whl (124 kB)\n",
            "   ---------------------------------------- 0.0/124.7 kB ? eta -:--:--\n",
            "   ------------------------------------ --- 112.6/124.7 kB 6.4 MB/s eta 0:00:01\n",
            "   ---------------------------------------- 124.7/124.7 kB 1.8 MB/s eta 0:00:00\n",
            "Using cached toolz-0.12.1-py3-none-any.whl (56 kB)\n",
            "Building wheels for collected packages: ffmpy\n",
            "  Building wheel for ffmpy (pyproject.toml): started\n",
            "  Building wheel for ffmpy (pyproject.toml): finished with status 'done'\n",
            "  Created wheel for ffmpy: filename=ffmpy-0.3.2-py3-none-any.whl size=5607 sha256=71e784db10af10b56146b05bde4370a7925325638c787e4147d1ff08ade86e90\n",
            "  Stored in directory: c:\\users\\adib\\appdata\\local\\pip\\cache\\wheels\\bd\\65\\9a\\671fc6dcde07d4418df0c592f8df512b26d7a0029c2a23dd81\n",
            "Successfully built ffmpy\n",
            "Installing collected packages: pydub, ffmpy, websockets, toolz, tomlkit, shellingham, semantic-version, ruff, python-multipart, pyparsing, pydantic-core, orjson, kiwisolver, importlib-resources, fonttools, cycler, contourpy, annotated-types, aiofiles, uvicorn, starlette, rich, pydantic, matplotlib, gradio-client, fastapi, altair, gradio\n",
            "  Attempting uninstall: pydantic\n",
            "    Found existing installation: pydantic 1.10.14\n",
            "    Uninstalling pydantic-1.10.14:\n",
            "      Successfully uninstalled pydantic-1.10.14\n",
            "Successfully installed aiofiles-23.2.1 altair-5.3.0 annotated-types-0.6.0 contourpy-1.2.1 cycler-0.12.1 fastapi-0.110.1 ffmpy-0.3.2 fonttools-4.50.0 gradio-4.25.0 gradio-client-0.15.0 importlib-resources-6.4.0 kiwisolver-1.4.5 matplotlib-3.8.3 orjson-3.10.0 pydantic-2.6.4 pydantic-core-2.16.3 pydub-0.25.1 pyparsing-3.1.2 python-multipart-0.0.9 rich-13.7.1 ruff-0.3.5 semantic-version-2.10.0 shellingham-1.5.4 starlette-0.37.2 tomlkit-0.12.0 toolz-0.12.1 uvicorn-0.29.0 websockets-11.0.3\n"
          ]
        }
      ],
      "source": [
        "%pip install gradio"
      ]
    },
    {
      "cell_type": "code",
      "execution_count": 1,
      "metadata": {},
      "outputs": [
        {
          "name": "stdout",
          "output_type": "stream",
          "text": [
            "Running on local URL:  http://127.0.0.1:7860\n",
            "\n",
            "To create a public link, set `share=True` in `launch()`.\n"
          ]
        },
        {
          "data": {
            "text/html": [
              "<div><iframe src=\"http://127.0.0.1:7860/\" width=\"100%\" height=\"500\" allow=\"autoplay; camera; microphone; clipboard-read; clipboard-write;\" frameborder=\"0\" allowfullscreen></iframe></div>"
            ],
            "text/plain": [
              "<IPython.core.display.HTML object>"
            ]
          },
          "metadata": {},
          "output_type": "display_data"
        },
        {
          "data": {
            "text/plain": []
          },
          "execution_count": 1,
          "metadata": {},
          "output_type": "execute_result"
        },
        {
          "name": "stdout",
          "output_type": "stream",
          "text": [
            "book title is a man called ove\n",
            "[Document(id=73ee1afaee1033ab05df44d037e7db9e5358bf8e6b25eb5d0b98a339eb2e7ff2, content: 'Title: A Man Called Ove\n",
            "Genre , Category: Fiction\n",
            "Description , What the book is about: Now a major ...', meta: {'title': 'A Man Called Ove', 'subtitle': 'A Novel', 'authors': 'Fredrik Backman', 'publisher': 'Simon and Schuster', 'publishedDate': '2014-07-15', 'industryIdentifiers': \"{'type': 'ISBN_13', 'identifier': '9781476738031'}, {'type': 'ISBN_10', 'identifier': '1476738033'}\", 'readingModes': {'text': True, 'image': False}, 'pageCount': 368, 'printType': 'BOOK', 'categories': 'Fiction', 'averageRating': 5, 'ratingsCount': 2, 'maturityRating': 'NOT_MATURE', 'allowAnonLogging': True, 'contentVersion': '1.68.54.0.preview.2', 'panelizationSummary': {'containsEpubBubbles': False, 'containsImageBubbles': False}, 'imageLinks': {'smallThumbnail': 'http://books.google.com/books/content?id=7mtNAgAAQBAJ&printsec=frontcover&img=1&zoom=5&edge=curl&source=gbs_api', 'thumbnail': 'http://books.google.com/books/content?id=7mtNAgAAQBAJ&printsec=frontcover&img=1&zoom=1&edge=curl&source=gbs_api'}, 'language': 'en', 'previewLink': 'http://books.google.it/books?id=7mtNAgAAQBAJ&printsec=frontcover&dq=a+man+called+ove&hl=&as_pt=BOOKS&cd=1&source=gbs_api', 'infoLink': 'http://books.google.it/books?id=7mtNAgAAQBAJ&dq=a+man+called+ove&hl=&as_pt=BOOKS&source=gbs_api', 'canonicalVolumeLink': 'https://books.google.com/books/about/A_Man_Called_Ove.html?hl=&id=7mtNAgAAQBAJ', 'seriesInfo': 'Not available'})]\n"
          ]
        },
        {
          "data": {
            "application/vnd.jupyter.widget-view+json": {
              "model_id": "32e9cda773174e1591e87eaad1559d17",
              "version_major": 2,
              "version_minor": 0
            },
            "text/plain": [
              "Batches:   0%|          | 0/1 [00:00<?, ?it/s]"
            ]
          },
          "metadata": {},
          "output_type": "display_data"
        },
        {
          "data": {
            "application/vnd.jupyter.widget-view+json": {
              "model_id": "fb0fa4a308534dc7a3389bdd3e9e22ef",
              "version_major": 2,
              "version_minor": 0
            },
            "text/plain": [
              "Batches:   0%|          | 0/1 [00:00<?, ?it/s]"
            ]
          },
          "metadata": {},
          "output_type": "display_data"
        },
        {
          "name": "stdout",
          "output_type": "stream",
          "text": [
            "book title is thinking fast and slow\n",
            "[Document(id=7fd9184f1111fc319b690434c8049726f44ff0ee2495c72643b384e67fe2057d, content: 'Title: Thinking, Fast and Slow\n",
            "Genre , Category: Psychology\n",
            "Description , What the book is about: Ma...', meta: {'title': 'Thinking, Fast and Slow', 'authors': 'Daniel Kahneman', 'publisher': 'Farrar, Straus and Giroux', 'publishedDate': '2011-10-25', 'industryIdentifiers': \"{'type': 'ISBN_13', 'identifier': '9781429969352'}, {'type': 'ISBN_10', 'identifier': '1429969350'}\", 'readingModes': {'text': True, 'image': False}, 'pageCount': 511, 'printType': 'BOOK', 'categories': 'Psychology', 'averageRating': 4, 'ratingsCount': 36, 'maturityRating': 'NOT_MATURE', 'allowAnonLogging': True, 'contentVersion': '6.39.31.0.preview.2', 'panelizationSummary': {'containsEpubBubbles': False, 'containsImageBubbles': False}, 'imageLinks': {'smallThumbnail': 'http://books.google.com/books/content?id=ZuKTvERuPG8C&printsec=frontcover&img=1&zoom=5&edge=curl&source=gbs_api', 'thumbnail': 'http://books.google.com/books/content?id=ZuKTvERuPG8C&printsec=frontcover&img=1&zoom=1&edge=curl&source=gbs_api'}, 'language': 'en', 'previewLink': 'http://books.google.it/books?id=ZuKTvERuPG8C&printsec=frontcover&dq=thinking+fast+and+slow&hl=&as_pt=BOOKS&cd=1&source=gbs_api', 'infoLink': 'https://play.google.com/store/books/details?id=ZuKTvERuPG8C&source=gbs_api', 'canonicalVolumeLink': 'https://play.google.com/store/books/details?id=ZuKTvERuPG8C', 'subtitle': 'Not available', 'seriesInfo': 'Not available'})]\n"
          ]
        },
        {
          "data": {
            "application/vnd.jupyter.widget-view+json": {
              "model_id": "cbda4e2c6fa44cfa9ccb92cc69c96d79",
              "version_major": 2,
              "version_minor": 0
            },
            "text/plain": [
              "Batches:   0%|          | 0/1 [00:00<?, ?it/s]"
            ]
          },
          "metadata": {},
          "output_type": "display_data"
        },
        {
          "data": {
            "application/vnd.jupyter.widget-view+json": {
              "model_id": "b1139006ff784a2897a3688be7d91baf",
              "version_major": 2,
              "version_minor": 0
            },
            "text/plain": [
              "Batches:   0%|          | 0/1 [00:00<?, ?it/s]"
            ]
          },
          "metadata": {},
          "output_type": "display_data"
        },
        {
          "name": "stdout",
          "output_type": "stream",
          "text": [
            "book title is to kill a mockingbird\n",
            "[Document(id=c768cfa5904c1bb1aa1ced8d27bedd9c2d58a776f3e238d5fe046ad53cb2a215, content: 'Title: To Kill a Mockingbird\n",
            "Genre , Category: Fiction\n",
            "Description , What the book is about: A novel...', meta: {'title': 'To Kill a Mockingbird', 'authors': 'Harper Lee', 'publisher': 'Random House', 'publishedDate': '2010', 'industryIdentifiers': \"{'type': 'ISBN_13', 'identifier': '9780099549482'}, {'type': 'ISBN_10', 'identifier': '0099549484'}\", 'readingModes': {'text': False, 'image': False}, 'pageCount': 322, 'printType': 'BOOK', 'categories': 'Fiction', 'maturityRating': 'NOT_MATURE', 'allowAnonLogging': False, 'contentVersion': '0.2.0.0.preview.0', 'panelizationSummary': {'containsEpubBubbles': False, 'containsImageBubbles': False}, 'imageLinks': {'smallThumbnail': 'http://books.google.com/books/content?id=st6EqikLVKoC&printsec=frontcover&img=1&zoom=5&source=gbs_api', 'thumbnail': 'http://books.google.com/books/content?id=st6EqikLVKoC&printsec=frontcover&img=1&zoom=1&source=gbs_api'}, 'language': 'en', 'previewLink': 'http://books.google.it/books?id=st6EqikLVKoC&dq=to+kill+a+mockingbird&hl=&as_pt=BOOKS&cd=1&source=gbs_api', 'infoLink': 'http://books.google.it/books?id=st6EqikLVKoC&dq=to+kill+a+mockingbird&hl=&as_pt=BOOKS&source=gbs_api', 'canonicalVolumeLink': 'https://books.google.com/books/about/To_Kill_a_Mockingbird.html?hl=&id=st6EqikLVKoC', 'subtitle': 'Not available', 'averageRating': 'Not available', 'ratingsCount': 'Not available', 'seriesInfo': 'Not available'})]\n"
          ]
        },
        {
          "data": {
            "application/vnd.jupyter.widget-view+json": {
              "model_id": "2595f99092764697a913cd798a5caf88",
              "version_major": 2,
              "version_minor": 0
            },
            "text/plain": [
              "Batches:   0%|          | 0/1 [00:00<?, ?it/s]"
            ]
          },
          "metadata": {},
          "output_type": "display_data"
        },
        {
          "data": {
            "application/vnd.jupyter.widget-view+json": {
              "model_id": "3c5f8181bf594a7ab8661f85d36dd745",
              "version_major": 2,
              "version_minor": 0
            },
            "text/plain": [
              "Batches:   0%|          | 0/1 [00:00<?, ?it/s]"
            ]
          },
          "metadata": {},
          "output_type": "display_data"
        },
        {
          "name": "stdout",
          "output_type": "stream",
          "text": [
            "book title is thinking fast and slow\n",
            "[Document(id=7fd9184f1111fc319b690434c8049726f44ff0ee2495c72643b384e67fe2057d, content: 'Title: Thinking, Fast and Slow\n",
            "Genre , Category: Psychology\n",
            "Description , What the book is about: Ma...', meta: {'title': 'Thinking, Fast and Slow', 'authors': 'Daniel Kahneman', 'publisher': 'Farrar, Straus and Giroux', 'publishedDate': '2011-10-25', 'industryIdentifiers': \"{'type': 'ISBN_13', 'identifier': '9781429969352'}, {'type': 'ISBN_10', 'identifier': '1429969350'}\", 'readingModes': {'text': True, 'image': False}, 'pageCount': 511, 'printType': 'BOOK', 'categories': 'Psychology', 'averageRating': 4, 'ratingsCount': 36, 'maturityRating': 'NOT_MATURE', 'allowAnonLogging': True, 'contentVersion': '6.39.31.0.preview.2', 'panelizationSummary': {'containsEpubBubbles': False, 'containsImageBubbles': False}, 'imageLinks': {'smallThumbnail': 'http://books.google.com/books/content?id=ZuKTvERuPG8C&printsec=frontcover&img=1&zoom=5&edge=curl&source=gbs_api', 'thumbnail': 'http://books.google.com/books/content?id=ZuKTvERuPG8C&printsec=frontcover&img=1&zoom=1&edge=curl&source=gbs_api'}, 'language': 'en', 'previewLink': 'http://books.google.it/books?id=ZuKTvERuPG8C&printsec=frontcover&dq=thinking+fast+and+slow&hl=&as_pt=BOOKS&cd=1&source=gbs_api', 'infoLink': 'https://play.google.com/store/books/details?id=ZuKTvERuPG8C&source=gbs_api', 'canonicalVolumeLink': 'https://play.google.com/store/books/details?id=ZuKTvERuPG8C', 'subtitle': 'Not available', 'seriesInfo': 'Not available'})]\n"
          ]
        },
        {
          "data": {
            "application/vnd.jupyter.widget-view+json": {
              "model_id": "24cdc35d7edd410a8591af834c326931",
              "version_major": 2,
              "version_minor": 0
            },
            "text/plain": [
              "Batches:   0%|          | 0/1 [00:00<?, ?it/s]"
            ]
          },
          "metadata": {},
          "output_type": "display_data"
        },
        {
          "data": {
            "application/vnd.jupyter.widget-view+json": {
              "model_id": "bf0ebcc229f04dbfa40be6fba7741512",
              "version_major": 2,
              "version_minor": 0
            },
            "text/plain": [
              "Batches:   0%|          | 0/1 [00:00<?, ?it/s]"
            ]
          },
          "metadata": {},
          "output_type": "display_data"
        },
        {
          "name": "stdout",
          "output_type": "stream",
          "text": [
            "book title is it ends with us\n",
            "[Document(id=e5165b40d2214d4ee183482aa8784e149f973a63db480b3981062a5d2fb986f9, content: 'Title: It Ends With Us (versione italiana)\n",
            "Genre , Category: Fiction\n",
            "Description , What the book is ...', meta: {'title': 'It Ends With Us (versione italiana)', 'authors': 'Colleen Hoover', 'publisher': 'SPERLING & KUPFER', 'publishedDate': '2022-03-01', 'industryIdentifiers': \"{'type': 'ISBN_13', 'identifier': '9788892742444'}, {'type': 'ISBN_10', 'identifier': '8892742442'}\", 'readingModes': {'text': True, 'image': True}, 'pageCount': 298, 'printType': 'BOOK', 'categories': 'Fiction', 'averageRating': 3.5, 'ratingsCount': 4, 'maturityRating': 'NOT_MATURE', 'allowAnonLogging': True, 'contentVersion': '1.3.3.0.preview.3', 'panelizationSummary': {'containsEpubBubbles': False, 'containsImageBubbles': False}, 'imageLinks': {'smallThumbnail': 'http://books.google.com/books/content?id=rmdcEAAAQBAJ&printsec=frontcover&img=1&zoom=5&edge=curl&source=gbs_api', 'thumbnail': 'http://books.google.com/books/content?id=rmdcEAAAQBAJ&printsec=frontcover&img=1&zoom=1&edge=curl&source=gbs_api'}, 'language': 'it', 'previewLink': 'http://books.google.it/books?id=rmdcEAAAQBAJ&printsec=frontcover&dq=it+ends+with+us&hl=&as_pt=BOOKS&cd=1&source=gbs_api', 'infoLink': 'https://play.google.com/store/books/details?id=rmdcEAAAQBAJ&source=gbs_api', 'canonicalVolumeLink': 'https://play.google.com/store/books/details?id=rmdcEAAAQBAJ', 'subtitle': 'Not available', 'seriesInfo': 'Not available'})]\n"
          ]
        },
        {
          "data": {
            "application/vnd.jupyter.widget-view+json": {
              "model_id": "74ad967f8ed74c07876f827c8f813436",
              "version_major": 2,
              "version_minor": 0
            },
            "text/plain": [
              "Batches:   0%|          | 0/1 [00:00<?, ?it/s]"
            ]
          },
          "metadata": {},
          "output_type": "display_data"
        },
        {
          "data": {
            "application/vnd.jupyter.widget-view+json": {
              "model_id": "33df3c6a22f54d02bd5bab9b2e5722fc",
              "version_major": 2,
              "version_minor": 0
            },
            "text/plain": [
              "Batches:   0%|          | 0/1 [00:00<?, ?it/s]"
            ]
          },
          "metadata": {},
          "output_type": "display_data"
        }
      ],
      "source": [
        "import gradio as gr\n",
        "import os\n",
        "import time\n",
        "from bookworm_ai import setup_indexing_pipeline, fetch_book_data, extract_book_title, create_document_objects, setup_qa_pipeline, get_best_answer\n",
        "import spacy\n",
        "\n",
        "# Chatbot demo with multimodal input (text, markdown, LaTeX, code blocks, image, audio, & video). Plus shows support for streaming text.\n",
        "\n",
        "\n",
        "def print_like_dislike(x: gr.LikeData):\n",
        "    print(x.index, x.value, x.liked)\n",
        "    \n",
        "def main(user_question):\n",
        "    \n",
        "    # Setup indexing pipeline\n",
        "    indexing_pipeline, document_store = setup_indexing_pipeline()\n",
        "\n",
        "    # Load the NER model\n",
        "    nlp = spacy.load(\"custom_ner_model_with_bert\")\n",
        "\n",
        "    # Extract book title from user input\n",
        "    book_title = extract_book_title(user_question, nlp)\n",
        "    print(\"book title is\", book_title)\n",
        "\n",
        "    book_items = fetch_book_data(book_title)\n",
        "    # Create document objects for each book item and aggregate descriptions\n",
        "    documents = create_document_objects(book_items)\n",
        "\n",
        "    if documents:\n",
        "        indexing_pipeline.run({\"documents\": documents})\n",
        "    else:\n",
        "        print(\"Book data not found.\")\n",
        "\n",
        "    # Setup QA pipeline\n",
        "    qa_pipeline = setup_qa_pipeline(document_store)\n",
        "\n",
        "    # Get best answer\n",
        "    best_answer = get_best_answer(qa_pipeline, user_question)\n",
        "\n",
        "    return(best_answer.data)\n",
        "    \n",
        "def add_message(history, message):\n",
        "    for x in message[\"files\"]:\n",
        "        history.append(((x,), None))\n",
        "    if message[\"text\"] is not None:\n",
        "        history.append((message[\"text\"], None))\n",
        "    return history, gr.MultimodalTextbox(value=None, interactive=False)\n",
        "\n",
        "def bot(history):\n",
        "    user_input = history[-1][0]\n",
        "    response = main(user_input)\n",
        "    history[-1][1] = \"\"\n",
        "    for character in response:\n",
        "        history[-1][1] += character\n",
        "        time.sleep(0.05)\n",
        "        yield history\n",
        "\n",
        "\n",
        "with gr.Blocks() as demo:\n",
        "    chatbot = gr.Chatbot(\n",
        "        [],\n",
        "        elem_id=\"chatbot\",\n",
        "        bubble_full_width=False,\n",
        "    )\n",
        "\n",
        "    chat_input = gr.MultimodalTextbox(interactive=True, file_types=[\"image\"], placeholder=\"Enter message or upload file...\", show_label=False)\n",
        "\n",
        "    chat_msg = chat_input.submit(add_message, [chatbot, chat_input], [chatbot, chat_input])\n",
        "    bot_msg = chat_msg.then(bot, chatbot, chatbot, api_name=\"bot_response\")\n",
        "    bot_msg.then(lambda: gr.MultimodalTextbox(interactive=True), None, [chat_input])\n",
        "\n",
        "    chatbot.like(print_like_dislike, None, None)\n",
        "\n",
        "demo.queue()\n",
        "demo.launch()\n"
      ]
    },
    {
      "cell_type": "code",
      "execution_count": 5,
      "metadata": {},
      "outputs": [
        {
          "data": {
            "application/vnd.jupyter.widget-view+json": {
              "model_id": "55cccda3ca524a8d917c1fe408c6bf14",
              "version_major": 2,
              "version_minor": 0
            },
            "text/plain": [
              "Batches:   0%|          | 0/1 [00:00<?, ?it/s]"
            ]
          },
          "metadata": {},
          "output_type": "display_data"
        },
        {
          "data": {
            "application/vnd.jupyter.widget-view+json": {
              "model_id": "cdb8145620f5483f8a8942c2ce3d2b25",
              "version_major": 2,
              "version_minor": 0
            },
            "text/plain": [
              "Batches:   0%|          | 0/1 [00:00<?, ?it/s]"
            ]
          },
          "metadata": {},
          "output_type": "display_data"
        },
        {
          "name": "stdout",
          "output_type": "stream",
          "text": [
            "Best Answer: ignorance\n"
          ]
        }
      ],
      "source": [
        "from haystack import Pipeline\n",
        "from haystack.document_stores.in_memory import InMemoryDocumentStore\n",
        "from haystack.components.embedders import SentenceTransformersDocumentEmbedder\n",
        "from haystack.components.writers import DocumentWriter\n",
        "from haystack.components.retrievers.in_memory import InMemoryEmbeddingRetriever\n",
        "from haystack.components.readers import ExtractiveReader\n",
        "from haystack.components.embedders import SentenceTransformersTextEmbedder\n",
        "from haystack import Document\n",
        "import requests\n",
        "import spacy\n",
        "\n",
        "\n",
        "def setup_indexing_pipeline(model=\"sentence-transformers/multi-qa-mpnet-base-dot-v1\"):\n",
        "    document_store = InMemoryDocumentStore()\n",
        "\n",
        "    indexing_pipeline = Pipeline()\n",
        "\n",
        "    indexing_pipeline.add_component(instance=SentenceTransformersDocumentEmbedder(model=model), name=\"embedder\")\n",
        "    indexing_pipeline.add_component(instance=DocumentWriter(document_store=document_store), name=\"writer\")\n",
        "    indexing_pipeline.connect(\"embedder.documents\", \"writer.documents\")\n",
        "\n",
        "    return indexing_pipeline, document_store\n",
        "\n",
        "\n",
        "def fetch_book_data(book_title):\n",
        "    api_url = f\"https://www.googleapis.com/books/v1/volumes?q={book_title}&maxResults=1&langRestrict=en&printType=books\"\n",
        "    response = requests.get(api_url)\n",
        "    if response.status_code == 200:\n",
        "        book_data = response.json()\n",
        "        if \"items\" in book_data:\n",
        "            return book_data[\"items\"]\n",
        "    return None\n",
        "\n",
        "\n",
        "def extract_book_title(question, ner_model):\n",
        "    entities = ner_model(question)\n",
        "    for ent in entities.ents:  # Iterate over recognized entities\n",
        "        if ent.label_ == 'BOOK_TITLE':  # Check if the entity is a book title\n",
        "            return ent.text\n",
        "    return None\n",
        "\n",
        "\n",
        "def create_document_objects(book_items):\n",
        "    documents = []\n",
        "    if book_items:\n",
        "        for item in book_items:\n",
        "            meta = item.get(\"volumeInfo\", {})\n",
        "\n",
        "            # Ensure all keys are present and set their value to \"Not available\" if missing\n",
        "            all_keys = ['subtitle', 'authors', 'publisher', 'publishedDate',\n",
        "                        'industryIdentifiers', 'readingModes', 'pageCount', 'printType', 'categories',\n",
        "                        'averageRating', 'ratingsCount', 'maturityRating', 'allowAnonLogging',\n",
        "                        'contentVersion', 'panelizationSummary', 'imageLinks', 'language',\n",
        "                        'previewLink', 'infoLink', 'canonicalVolumeLink', 'seriesInfo']\n",
        "            for key in all_keys:\n",
        "                if key not in meta:\n",
        "                    meta[key] = \"Not available\"\n",
        "                elif isinstance(meta[key], list):\n",
        "                    # Convert each item in the list to string\n",
        "                    meta[key] = \", \".join(str(item) for item in meta[key])\n",
        "\n",
        "            # Create content with title and description\n",
        "            content = f\"Title: {meta.get('title', 'Not available')}\\n\"\n",
        "            content += f\"Description: {meta.get('description', 'Not available')}\\n\"\n",
        "            content += f\"Number of pages: {meta.get('pageCount', 'Not available')}\"\n",
        "\n",
        "            # Remove title and description from meta\n",
        "            meta.pop('description', None)\n",
        "\n",
        "            document = Document(content=content, meta=meta)\n",
        "            documents.append(document)\n",
        "    return documents\n",
        "\n",
        "\n",
        "def setup_qa_pipeline(document_store, model='sentence-transformers/multi-qa-mpnet-base-dot-v1'):\n",
        "    retriever = InMemoryEmbeddingRetriever(document_store=document_store)\n",
        "    reader = ExtractiveReader(model='deepset/roberta-base-squad2')\n",
        "    reader.warm_up()\n",
        "\n",
        "    extractive_qa_pipeline = Pipeline()\n",
        "\n",
        "    extractive_qa_pipeline.add_component(instance=SentenceTransformersTextEmbedder(model=model), name=\"embedder\")\n",
        "    extractive_qa_pipeline.add_component(instance=retriever, name=\"retriever\")\n",
        "    extractive_qa_pipeline.add_component(instance=reader, name=\"reader\")\n",
        "\n",
        "    extractive_qa_pipeline.connect(\"embedder.embedding\", \"retriever.query_embedding\")\n",
        "    extractive_qa_pipeline.connect(\"retriever.documents\", \"reader.documents\")\n",
        "\n",
        "    return extractive_qa_pipeline\n",
        "\n",
        "\n",
        "def get_best_answer(qa_pipeline, user_question):\n",
        "    response = qa_pipeline.run(\n",
        "        data={\"embedder\": {\"text\": user_question}, \"retriever\": {\"top_k\": 3},\n",
        "              \"reader\": {\"query\": user_question, \"top_k\": 1}}\n",
        "    )\n",
        "\n",
        "    answers = response['reader']['answers']\n",
        "\n",
        "    # Filter out answers with None data\n",
        "    valid_answers = [answer for answer in answers if answer.data is not None]\n",
        "\n",
        "    # Find the answer with the highest score among valid answers\n",
        "    best_answer = max(valid_answers, key=lambda x: x.score)\n",
        "\n",
        "    return best_answer\n",
        "\n",
        "\n",
        "def main():\n",
        "    \n",
        "    # Setup indexing pipeline\n",
        "    indexing_pipeline, document_store = setup_indexing_pipeline()\n",
        "\n",
        "    # Load the NER model\n",
        "    nlp = spacy.load(\"custom_ner_model_with_bert\")\n",
        "\n",
        "    # Prompt user for a question about a book\n",
        "    user_question = input(\"Ask a question about a book: \")\n",
        "\n",
        "    # Extract book title from user input\n",
        "    book_title = extract_book_title(user_question, nlp)\n",
        "    book_items = fetch_book_data(book_title)\n",
        "\n",
        "    # Create document objects for each book item and aggregate descriptions\n",
        "    documents = create_document_objects(book_items)\n",
        "\n",
        "    if documents:\n",
        "        indexing_pipeline.run({\"documents\": documents})\n",
        "    else:\n",
        "        print(\"Book data not found.\")\n",
        "\n",
        "    # Setup QA pipeline\n",
        "    qa_pipeline = setup_qa_pipeline(document_store)\n",
        "\n",
        "    # Get best answer\n",
        "    best_answer = get_best_answer(qa_pipeline, user_question)\n",
        "\n",
        "    print(\"Best Answer:\", best_answer.data)\n",
        "    \n",
        "if __name__ == \"__main__\":\n",
        "    main()\n"
      ]
    },
    {
      "cell_type": "markdown",
      "metadata": {
        "id": "U8I641xobh_w"
      },
      "source": [
        "## Load data into the `DocumentStore`"
      ]
    },
    {
      "cell_type": "markdown",
      "metadata": {
        "id": "b2HaHlBrSvLa"
      },
      "source": [
        "Before you can use this data in the extractive pipeline, you'll use an indexing pipeline to fetch it, process it, and load it into the document store.\n",
        "\n",
        "\n",
        "The data has already been cleaned and preprocessed, so turning it into Haystack `Documents` is fairly straightfoward.\n",
        "\n",
        "Using an `InMemoryDocumentStore` here keeps things simple. However, this general approach would work with [any document store that Haystack 2.0 supports](https://docs.haystack.deepset.ai/v2.0/docs/document-store).\n",
        "\n",
        "The `SentenceTransformersDocumentEmbedder` transforms each `Document` into a vector. Here we've used [`sentence-transformers/multi-qa-mpnet-base-dot-v1`](https://huggingface.co/sentence-transformers/multi-qa-mpnet-base-dot-v1). You can substitute any embedding model you like, as long as you use the same one in your extractive pipeline.\n",
        "\n",
        "Lastly, the `DocumentWriter` writes the vectorized documents to the `DocumentStore`.\n"
      ]
    },
    {
      "cell_type": "markdown",
      "metadata": {
        "id": "dtiZ0XMfLcHq"
      },
      "source": [
        "Model implementation for local document_store (cached)"
      ]
    },
    {
      "cell_type": "code",
      "execution_count": null,
      "metadata": {
        "colab": {
          "base_uri": "https://localhost:8080/",
          "height": 67,
          "referenced_widgets": [
            "b48207fff6544b25afd5fa6e8ad679f6",
            "70f0838a34de4dc6a8e2911b599b7001",
            "a3b5c86a38754281bbd211ef1743428d",
            "c0f8e756b3574f549729adadf9724eff",
            "ede88cf051f94cc284ae8869755478cc",
            "97c9e6b0d85b4b21b6b4cb879758cec1",
            "d706260a667145129dfa5838ae7b5b47",
            "aa1d7bdf68fe4902a7b92c18055a48ca",
            "31b983f9cdbc43e980b7eb96d532ad16",
            "b3bf4c71ccfa404d975a0f8c3f9bda96",
            "edbbe5863433463595a3997f965431d0"
          ]
        },
        "id": "ttuq7kLtaV5b",
        "outputId": "50cdd2d9-f34b-400f-d3b7-d1e5a502cffd"
      },
      "outputs": [
        {
          "data": {
            "application/vnd.jupyter.widget-view+json": {
              "model_id": "b48207fff6544b25afd5fa6e8ad679f6",
              "version_major": 2,
              "version_minor": 0
            },
            "text/plain": [
              "Batches:   0%|          | 0/1 [00:00<?, ?it/s]"
            ]
          },
          "metadata": {},
          "output_type": "display_data"
        },
        {
          "data": {
            "text/plain": [
              "{'writer': {'documents_written': 15}}"
            ]
          },
          "execution_count": 110,
          "metadata": {},
          "output_type": "execute_result"
        }
      ],
      "source": [
        "from haystack import Document\n",
        "from haystack import Pipeline\n",
        "from haystack.document_stores.in_memory import InMemoryDocumentStore\n",
        "from haystack.components.retrievers.in_memory import InMemoryEmbeddingRetriever\n",
        "from haystack.components.readers import ExtractiveReader\n",
        "from haystack.components.embedders import SentenceTransformersDocumentEmbedder\n",
        "from haystack.components.writers import DocumentWriter\n",
        "\n",
        "\n",
        "import requests\n",
        "from haystack import Document\n",
        "from transformers import pipeline\n",
        "import random\n",
        "import csv\n",
        "\n",
        "# Function to fetch book data from Google Books API\n",
        "def fetch_book_data(book_title):\n",
        "    api_url = f\"https://www.googleapis.com/books/v1/volumes?q={book_title}&maxResults=3&langRestrict=en&printType=books\"\n",
        "    response = requests.get(api_url)\n",
        "    if response.status_code == 200:\n",
        "        book_data = response.json()\n",
        "        if \"items\" in book_data:\n",
        "            return book_data[\"items\"]\n",
        "    return None\n",
        "\n",
        "# List of preset book titles\n",
        "titles = []\n",
        "\n",
        "# Read the CSV file and extract the \"title\" field\n",
        "with open('bestsellers.csv', newline='', encoding='utf-8') as csvfile:\n",
        "    reader = csv.DictReader(csvfile)\n",
        "    for row in reader:\n",
        "        titles.append(row['title'])\n",
        "\n",
        "# Sample 500 unique titles without duplicates\n",
        "sampled_titles = []\n",
        "while len(sampled_titles) < 5:\n",
        "    sampled_title = random.choice(titles)\n",
        "    if sampled_title not in sampled_titles:\n",
        "        sampled_titles.append(sampled_title)\n",
        "\n",
        "documents = []  # List to store all documents\n",
        "\n",
        "# Iterate over the sampled titles\n",
        "for book_title in sampled_titles:\n",
        "    # Fetch book data from Google Books API\n",
        "    book_items = fetch_book_data(book_title)\n",
        "    if book_items:\n",
        "        # Create Document objects for each book item and aggregate descriptions\n",
        "        descriptions = []  # List to aggregate descriptions from all items\n",
        "        for item in book_items:\n",
        "            meta = item.get(\"volumeInfo\", {})\n",
        "\n",
        "            # Ensure all keys are present and set their value to \"Not available\" if missing\n",
        "            all_keys = ['subtitle', 'authors', 'publisher', 'publishedDate',\n",
        "                        'industryIdentifiers', 'readingModes', 'pageCount', 'printType', 'categories',\n",
        "                        'averageRating', 'ratingsCount', 'maturityRating', 'allowAnonLogging',\n",
        "                        'contentVersion', 'panelizationSummary', 'imageLinks', 'language',\n",
        "                        'previewLink', 'infoLink', 'canonicalVolumeLink', 'seriesInfo']\n",
        "            for key in all_keys:\n",
        "                if key not in meta:\n",
        "                    meta[key] = \"Not available\"\n",
        "                elif isinstance(meta[key], list):\n",
        "                    # Convert each item in the list to string\n",
        "                    meta[key] = \", \".join(str(item) for item in meta[key])\n",
        "\n",
        "            # Create content with title and description\n",
        "            content = f\"Title: {meta.get('title', 'Not available')}\\n\"\n",
        "            content += f\"Description: {meta.get('description', 'Not available')}\\n\"\n",
        "            content += f\"Number of pages: {meta.get('pageCount', 'Not available')}\"\n",
        "\n",
        "            # Remove title and description from meta\n",
        "            meta.pop('description', None)\n",
        "\n",
        "            document = Document(content=content, meta=meta)\n",
        "            documents.append(document)\n",
        "\n",
        "model = \"sentence-transformers/multi-qa-mpnet-base-dot-v1\"\n",
        "\n",
        "document_store = InMemoryDocumentStore()\n",
        "\n",
        "indexing_pipeline = Pipeline()\n",
        "\n",
        "indexing_pipeline.add_component(instance=SentenceTransformersDocumentEmbedder(model=model), name=\"embedder\")\n",
        "indexing_pipeline.add_component(instance=DocumentWriter(document_store=document_store), name=\"writer\")\n",
        "indexing_pipeline.connect(\"embedder.documents\", \"writer.documents\")\n",
        "\n",
        "indexing_pipeline.run({\"documents\": documents})"
      ]
    },
    {
      "cell_type": "markdown",
      "metadata": {
        "id": "r5CL5VXaVQqE"
      },
      "source": [
        "## Build an Extractive QA Pipeline\n",
        "\n",
        "Your extractive QA pipeline will consist of three components: an embedder, retriever, and reader.\n",
        "\n",
        "- The `SentenceTransformersTextEmbedder` turns a query into a vector, usaing the same embedding model defined above.\n",
        "\n",
        "- Vector search allows the retriever to efficiently return relevant documents from the document store. Retrievers are tightly coupled with document stores; thus, you'll use an `InMemoryEmbeddingRetriever`to go with the `InMemoryDocumentStore`.\n",
        "\n",
        "- The `ExtractiveReader` returns answers to that query, as well as their location in the source document, and a confidence score.\n"
      ]
    },
    {
      "cell_type": "code",
      "execution_count": null,
      "metadata": {
        "colab": {
          "base_uri": "https://localhost:8080/",
          "height": 975
        },
        "id": "xZGGv8yaHZtV",
        "outputId": "62b9f7a4-74d7-4d40-d033-f21e057f3136"
      },
      "outputs": [
        {
          "data": {
            "image/png": "[encoded data removed]",
            "text/plain": [
              "<IPython.core.display.Image object>"
            ]
          },
          "metadata": {},
          "output_type": "display_data"
        },
        {
          "data": {
            "text/plain": []
          },
          "execution_count": 111,
          "metadata": {},
          "output_type": "execute_result"
        }
      ],
      "source": [
        "from haystack.components.retrievers.in_memory import InMemoryEmbeddingRetriever\n",
        "from haystack.components.readers import ExtractiveReader\n",
        "from haystack.components.embedders import SentenceTransformersTextEmbedder\n",
        "\n",
        "\n",
        "retriever = InMemoryEmbeddingRetriever(document_store=document_store)\n",
        "reader = ExtractiveReader(model='deepset/roberta-base-squad2')\n",
        "reader.warm_up()\n",
        "\n",
        "extractive_qa_pipeline = Pipeline()\n",
        "\n",
        "extractive_qa_pipeline.add_component(instance=SentenceTransformersTextEmbedder(model=model), name=\"embedder\")\n",
        "extractive_qa_pipeline.add_component(instance=retriever, name=\"retriever\")\n",
        "extractive_qa_pipeline.add_component(instance=reader, name=\"reader\")\n",
        "\n",
        "extractive_qa_pipeline.connect(\"embedder.embedding\", \"retriever.query_embedding\")\n",
        "extractive_qa_pipeline.connect(\"retriever.documents\", \"reader.documents\")"
      ]
    },
    {
      "cell_type": "code",
      "execution_count": null,
      "metadata": {
        "colab": {
          "base_uri": "https://localhost:8080/"
        },
        "id": "O9eNuT4mjbjZ",
        "outputId": "69e9194e-ee6a-425b-9788-d267882d6169"
      },
      "outputs": [
        {
          "name": "stdout",
          "output_type": "stream",
          "text": [
            "Document(id=088eaa6a1fa1b155d6cad3c995d44cb84506e1662dd0d24a2c674eb3c47c46f3, content: 'Title: Joyland\n",
            "Description: Welcome to 1984 and the town of South Wakefield. Chris Lane is 14 and he...', meta: {'title': 'Joyland', 'authors': 'Emily Schultz', 'publisher': 'ECW Press', 'publishedDate': '2006-04', 'industryIdentifiers': \"{'type': 'ISBN_13', 'identifier': '9781554902651'}, {'type': 'ISBN_10', 'identifier': '1554902657'}\", 'readingModes': {'text': True, 'image': True}, 'pageCount': 301, 'printType': 'BOOK', 'categories': 'Fiction', 'maturityRating': 'NOT_MATURE', 'allowAnonLogging': True, 'contentVersion': '0.5.4.0.preview.3', 'panelizationSummary': {'containsEpubBubbles': False, 'containsImageBubbles': False}, 'imageLinks': {'smallThumbnail': 'http://books.google.com/books/content?id=A_d0uAikdR4C&printsec=frontcover&img=1&zoom=5&edge=curl&source=gbs_api', 'thumbnail': 'http://books.google.com/books/content?id=A_d0uAikdR4C&printsec=frontcover&img=1&zoom=1&edge=curl&source=gbs_api'}, 'language': 'en', 'previewLink': 'http://books.google.com/books?id=A_d0uAikdR4C&printsec=frontcover&dq=JOYLAND&hl=&as_pt=BOOKS&cd=1&source=gbs_api', 'infoLink': 'https://play.google.com/store/books/details?id=A_d0uAikdR4C&source=gbs_api', 'canonicalVolumeLink': 'https://play.google.com/store/books/details?id=A_d0uAikdR4C', 'subtitle': 'Not available', 'averageRating': 'Not available', 'ratingsCount': 'Not available', 'seriesInfo': 'Not available'})\n",
            "Document(id=8403e0d8dcbd712470111c05787afe9ed7f9157c8b96ea8c23fdba44437adde5, content: 'Title: Sacramento's Oak Park\n",
            "Description: The history of American cities is a history of suburbs. It...', meta: {'title': \"Sacramento's Oak Park\", 'authors': 'Lee M. A. Simpson', 'publisher': 'Arcadia Publishing', 'publishedDate': '2004', 'industryIdentifiers': \"{'type': 'ISBN_10', 'identifier': '073852932X'}, {'type': 'ISBN_13', 'identifier': '9780738529325'}\", 'readingModes': {'text': False, 'image': True}, 'pageCount': 132, 'printType': 'BOOK', 'categories': 'History', 'maturityRating': 'NOT_MATURE', 'allowAnonLogging': False, 'contentVersion': '1.4.6.0.preview.1', 'panelizationSummary': {'containsEpubBubbles': False, 'containsImageBubbles': False}, 'imageLinks': {'smallThumbnail': 'http://books.google.com/books/content?id=BtxKudtqQ5QC&printsec=frontcover&img=1&zoom=5&edge=curl&source=gbs_api', 'thumbnail': 'http://books.google.com/books/content?id=BtxKudtqQ5QC&printsec=frontcover&img=1&zoom=1&edge=curl&source=gbs_api'}, 'language': 'en', 'previewLink': 'http://books.google.com/books?id=BtxKudtqQ5QC&pg=PA67&dq=JOYLAND&hl=&as_pt=BOOKS&cd=2&source=gbs_api', 'infoLink': 'http://books.google.com/books?id=BtxKudtqQ5QC&dq=JOYLAND&hl=&as_pt=BOOKS&source=gbs_api', 'canonicalVolumeLink': 'https://books.google.com/books/about/Sacramento_s_Oak_Park.html?hl=&id=BtxKudtqQ5QC', 'subtitle': 'Not available', 'averageRating': 'Not available', 'ratingsCount': 'Not available', 'seriesInfo': 'Not available'})\n",
            "Document(id=3857b7aa42fdf01fabd90da3a33b4f019a77aac3bcd715d167488d56fdfc8757, content: 'Title: Joyland\n",
            "Description: A STUNNING NEW NOVEL FROM ONE OF THE BEST-SELLING AUTHORS OF ALL TIME! T...', meta: {'title': 'Joyland', 'authors': 'Stephen King', 'publisher': 'Titan Books (US, CA)', 'publishedDate': '2014-04-08', 'industryIdentifiers': \"{'type': 'ISBN_13', 'identifier': '9781781168493'}, {'type': 'ISBN_10', 'identifier': '1781168490'}\", 'readingModes': {'text': True, 'image': True}, 'pageCount': 288, 'printType': 'BOOK', 'categories': 'Fiction', 'maturityRating': 'NOT_MATURE', 'allowAnonLogging': True, 'contentVersion': '0.2.1.0.preview.3', 'panelizationSummary': {'containsEpubBubbles': False, 'containsImageBubbles': False}, 'imageLinks': {'smallThumbnail': 'http://books.google.com/books/content?id=_Vg4CgAAQBAJ&printsec=frontcover&img=1&zoom=5&edge=curl&source=gbs_api', 'thumbnail': 'http://books.google.com/books/content?id=_Vg4CgAAQBAJ&printsec=frontcover&img=1&zoom=1&edge=curl&source=gbs_api'}, 'language': 'en', 'previewLink': 'http://books.google.com/books?id=_Vg4CgAAQBAJ&pg=PT128&dq=JOYLAND&hl=&as_pt=BOOKS&cd=3&source=gbs_api', 'infoLink': 'https://play.google.com/store/books/details?id=_Vg4CgAAQBAJ&source=gbs_api', 'canonicalVolumeLink': 'https://play.google.com/store/books/details?id=_Vg4CgAAQBAJ', 'subtitle': 'Not available', 'averageRating': 'Not available', 'ratingsCount': 'Not available', 'seriesInfo': 'Not available'})\n",
            "Document(id=fee1de5dc81684f88b0214e131c0391552d3010c9b498d77e8694dbc68e393ad, content: 'Title: Think Better, Live Better\n",
            "Description: Change your life, reprogram negative thinking, and lea...', meta: {'title': 'Think Better, Live Better', 'subtitle': 'A Victorious Life Begins in Your Mind', 'authors': 'Joel Osteen', 'publisher': 'FaithWords', 'publishedDate': '2017-08-08', 'industryIdentifiers': \"{'type': 'ISBN_10', 'identifier': '0892969571'}, {'type': 'ISBN_13', 'identifier': '9780892969579'}\", 'readingModes': {'text': False, 'image': False}, 'pageCount': 0, 'printType': 'BOOK', 'categories': 'Religion', 'maturityRating': 'NOT_MATURE', 'allowAnonLogging': False, 'contentVersion': 'preview-1.0.0', 'panelizationSummary': {'containsEpubBubbles': False, 'containsImageBubbles': False}, 'imageLinks': {'smallThumbnail': 'http://books.google.com/books/content?id=Q1UOMQAACAAJ&printsec=frontcover&img=1&zoom=5&source=gbs_api', 'thumbnail': 'http://books.google.com/books/content?id=Q1UOMQAACAAJ&printsec=frontcover&img=1&zoom=1&source=gbs_api'}, 'language': 'en', 'previewLink': 'http://books.google.com/books?id=Q1UOMQAACAAJ&dq=THINK+BETTER,+LIVE+BETTER&hl=&as_pt=BOOKS&cd=1&source=gbs_api', 'infoLink': 'http://books.google.com/books?id=Q1UOMQAACAAJ&dq=THINK+BETTER,+LIVE+BETTER&hl=&as_pt=BOOKS&source=gbs_api', 'canonicalVolumeLink': 'https://books.google.com/books/about/Think_Better_Live_Better.html?hl=&id=Q1UOMQAACAAJ', 'averageRating': 'Not available', 'ratingsCount': 'Not available', 'seriesInfo': 'Not available'})\n",
            "Document(id=c52943a8e0d5e84e966d8b829985c350fdd7bc144d8c2fc1e270b8172a53815e, content: 'Title: Think Better. Live Better.\n",
            "Description: Francine Huss spent years working with the best and b...', meta: {'title': 'Think Better. Live Better.', 'subtitle': '5 Steps to Create the Life You Deserve', 'authors': 'Francine Huss', 'publisher': 'She Writes Press', 'publishedDate': '2014-04-22', 'industryIdentifiers': \"{'type': 'ISBN_13', 'identifier': '9781938314674'}, {'type': 'ISBN_10', 'identifier': '1938314670'}\", 'readingModes': {'text': True, 'image': True}, 'pageCount': 317, 'printType': 'BOOK', 'categories': 'Self-Help', 'maturityRating': 'NOT_MATURE', 'allowAnonLogging': False, 'contentVersion': '1.3.4.0.preview.3', 'panelizationSummary': {'containsEpubBubbles': False, 'containsImageBubbles': False}, 'imageLinks': {'smallThumbnail': 'http://books.google.com/books/content?id=hMKfDQAAQBAJ&printsec=frontcover&img=1&zoom=5&edge=curl&source=gbs_api', 'thumbnail': 'http://books.google.com/books/content?id=hMKfDQAAQBAJ&printsec=frontcover&img=1&zoom=1&edge=curl&source=gbs_api'}, 'language': 'en', 'previewLink': 'http://books.google.com/books?id=hMKfDQAAQBAJ&printsec=frontcover&dq=THINK+BETTER,+LIVE+BETTER&hl=&as_pt=BOOKS&cd=2&source=gbs_api', 'infoLink': 'https://play.google.com/store/books/details?id=hMKfDQAAQBAJ&source=gbs_api', 'canonicalVolumeLink': 'https://play.google.com/store/books/details?id=hMKfDQAAQBAJ', 'averageRating': 'Not available', 'ratingsCount': 'Not available', 'seriesInfo': 'Not available'})\n",
            "Document(id=5db278972535bd5a307f6b2226642bab64050ed61498a9c855919282fa7e68ef, content: 'Title: Think Better, Live Better Study Guide\n",
            "Description: Challenge yourself to enhance your blessed...', meta: {'title': 'Think Better, Live Better Study Guide', 'subtitle': 'A Victorious Life Begins in Your Mind', 'authors': 'Joel Osteen', 'publisher': 'FaithWords', 'publishedDate': '2016-10-04', 'industryIdentifiers': \"{'type': 'ISBN_10', 'identifier': '145559587X'}, {'type': 'ISBN_13', 'identifier': '9781455595877'}\", 'readingModes': {'text': False, 'image': False}, 'pageCount': 0, 'printType': 'BOOK', 'categories': 'Religion', 'maturityRating': 'NOT_MATURE', 'allowAnonLogging': False, 'contentVersion': 'preview-1.0.0', 'panelizationSummary': {'containsEpubBubbles': False, 'containsImageBubbles': False}, 'imageLinks': {'smallThumbnail': 'http://books.google.com/books/content?id=WCt-jwEACAAJ&printsec=frontcover&img=1&zoom=5&source=gbs_api', 'thumbnail': 'http://books.google.com/books/content?id=WCt-jwEACAAJ&printsec=frontcover&img=1&zoom=1&source=gbs_api'}, 'language': 'en', 'previewLink': 'http://books.google.com/books?id=WCt-jwEACAAJ&dq=THINK+BETTER,+LIVE+BETTER&hl=&as_pt=BOOKS&cd=3&source=gbs_api', 'infoLink': 'http://books.google.com/books?id=WCt-jwEACAAJ&dq=THINK+BETTER,+LIVE+BETTER&hl=&as_pt=BOOKS&source=gbs_api', 'canonicalVolumeLink': 'https://books.google.com/books/about/Think_Better_Live_Better_Study_Guide.html?hl=&id=WCt-jwEACAAJ', 'averageRating': 'Not available', 'ratingsCount': 'Not available', 'seriesInfo': 'Not available'})\n",
            "Document(id=7108a24c4c4fe8098fa25fe0c93e1ff474201e8b1426f1bcdeb7d7c7f1b1911b, content: 'Title: Batman: The Killing Joke\n",
            "Description: A NEW YORK TIMES Bestseller! Presented for the first ti...', meta: {'title': 'Batman: The Killing Joke', 'authors': 'Alan Moore, Brian Bolland', 'publisher': 'DC', 'publishedDate': '2008-03-19', 'industryIdentifiers': \"{'type': 'ISBN_13', 'identifier': '9781401242282'}, {'type': 'ISBN_10', 'identifier': '1401242286'}\", 'readingModes': {'text': True, 'image': True}, 'pageCount': 68, 'printType': 'BOOK', 'categories': 'Comics & Graphic Novels', 'maturityRating': 'NOT_MATURE', 'allowAnonLogging': True, 'contentVersion': '2.5.5.0.preview.3', 'panelizationSummary': {'containsEpubBubbles': True, 'containsImageBubbles': True, 'epubBubbleVersion': 'e13386d1eea90dfa', 'imageBubbleVersion': 'e13386d1eea90dfa'}, 'imageLinks': {'smallThumbnail': 'http://books.google.com/books/content?id=dejeAAAAQBAJ&printsec=frontcover&img=1&zoom=5&edge=curl&source=gbs_api', 'thumbnail': 'http://books.google.com/books/content?id=dejeAAAAQBAJ&printsec=frontcover&img=1&zoom=1&edge=curl&source=gbs_api'}, 'language': 'en', 'previewLink': 'http://books.google.com/books?id=dejeAAAAQBAJ&printsec=frontcover&dq=BATMAN:+THE+KILLING+JOKE&hl=&as_pt=BOOKS&cd=1&source=gbs_api', 'infoLink': 'https://play.google.com/store/books/details?id=dejeAAAAQBAJ&source=gbs_api', 'canonicalVolumeLink': 'https://play.google.com/store/books/details?id=dejeAAAAQBAJ', 'seriesInfo': {'kind': 'books#volume_series_info', 'bookDisplayNumber': '1', 'volumeSeries': [{'seriesId': 'SV3YFwAAABCQSM', 'seriesBookType': 'ISSUE', 'orderNumber': 1}]}, 'subtitle': 'Not available', 'averageRating': 'Not available', 'ratingsCount': 'Not available'})\n",
            "Document(id=b7f0f1a3709faea029843960a799ddb4e98d0ea2bf6d6d0d8422c92c73fb8ed5, content: 'Title: Batman Beyond 2.0: Rewired\n",
            "Description: Batman Beyond 2.0 launches with a new direction for T...', meta: {'title': 'Batman Beyond 2.0: Rewired', 'authors': 'Kyle Higgins', 'publisher': 'DC', 'publishedDate': '2014-11-11', 'industryIdentifiers': \"{'type': 'ISBN_13', 'identifier': '9781401256449'}, {'type': 'ISBN_10', 'identifier': '1401256449'}\", 'readingModes': {'text': True, 'image': True}, 'pageCount': 180, 'printType': 'BOOK', 'categories': 'Comics & Graphic Novels', 'maturityRating': 'NOT_MATURE', 'allowAnonLogging': True, 'contentVersion': '1.5.3.0.preview.3', 'panelizationSummary': {'containsEpubBubbles': True, 'containsImageBubbles': True, 'epubBubbleVersion': '8d370ff81666feca', 'imageBubbleVersion': '8d370ff81666feca'}, 'imageLinks': {'smallThumbnail': 'http://books.google.com/books/content?id=tPqqBAAAQBAJ&printsec=frontcover&img=1&zoom=5&edge=curl&source=gbs_api', 'thumbnail': 'http://books.google.com/books/content?id=tPqqBAAAQBAJ&printsec=frontcover&img=1&zoom=1&edge=curl&source=gbs_api'}, 'language': 'en', 'previewLink': 'http://books.google.com/books?id=tPqqBAAAQBAJ&printsec=frontcover&dq=BATMAN:+THE+KILLING+JOKE&hl=&as_pt=BOOKS&cd=2&source=gbs_api', 'infoLink': 'https://play.google.com/store/books/details?id=tPqqBAAAQBAJ&source=gbs_api', 'canonicalVolumeLink': 'https://play.google.com/store/books/details?id=tPqqBAAAQBAJ', 'subtitle': 'Not available', 'averageRating': 'Not available', 'ratingsCount': 'Not available', 'seriesInfo': 'Not available'})\n",
            "Document(id=87b7fb69ec05e049638031abb8e4b681e30aa2d46b3a3d3a6c2ae8ee7b98ddaa, content: 'Title: Batman: The Killing Joke Deluxe (New Edition)\n",
            "Description: Critically acclaimed author Alan M...', meta: {'title': 'Batman: The Killing Joke Deluxe (New Edition)', 'authors': 'Alan Moore', 'publisher': 'National Geographic Books', 'publishedDate': '2019-09-17', 'industryIdentifiers': \"{'type': 'ISBN_13', 'identifier': '9781401294052'}, {'type': 'ISBN_10', 'identifier': '1401294057'}\", 'readingModes': {'text': True, 'image': False}, 'pageCount': 0, 'printType': 'BOOK', 'categories': 'Comics & Graphic Novels', 'maturityRating': 'NOT_MATURE', 'allowAnonLogging': False, 'contentVersion': 'preview-1.0.0', 'panelizationSummary': {'containsEpubBubbles': False, 'containsImageBubbles': False}, 'imageLinks': {'smallThumbnail': 'http://books.google.com/books/content?id=s3yPEAAAQBAJ&printsec=frontcover&img=1&zoom=5&source=gbs_api', 'thumbnail': 'http://books.google.com/books/content?id=s3yPEAAAQBAJ&printsec=frontcover&img=1&zoom=1&source=gbs_api'}, 'language': 'en', 'previewLink': 'http://books.google.com/books?id=s3yPEAAAQBAJ&dq=BATMAN:+THE+KILLING+JOKE&hl=&as_pt=BOOKS&cd=3&source=gbs_api', 'infoLink': 'http://books.google.com/books?id=s3yPEAAAQBAJ&dq=BATMAN:+THE+KILLING+JOKE&hl=&as_pt=BOOKS&source=gbs_api', 'canonicalVolumeLink': 'https://books.google.com/books/about/Batman_The_Killing_Joke_Deluxe_New_Editi.html?hl=&id=s3yPEAAAQBAJ', 'subtitle': 'Not available', 'averageRating': 'Not available', 'ratingsCount': 'Not available', 'seriesInfo': 'Not available'})\n",
            "Document(id=b9d4a6dcf787c53f5a1e911b665be9c947d7b6333a88b978d1ac828fd3efa9dd, content: 'Title: Beautiful Ruins\n",
            "Description: In 1962, on a rocky patch of sun-drenched Italian coastline, a y...', meta: {'title': 'Beautiful Ruins', 'authors': 'Jess Walter', 'publisher': 'Center Point', 'publishedDate': '2012', 'industryIdentifiers': \"{'type': 'ISBN_10', 'identifier': '161173536X'}, {'type': 'ISBN_13', 'identifier': '9781611735369'}\", 'readingModes': {'text': False, 'image': False}, 'pageCount': 0, 'printType': 'BOOK', 'categories': 'Actors and actresses', 'maturityRating': 'NOT_MATURE', 'allowAnonLogging': False, 'contentVersion': 'preview-1.0.0', 'panelizationSummary': {'containsEpubBubbles': False, 'containsImageBubbles': False}, 'imageLinks': {'smallThumbnail': 'http://books.google.com/books/content?id=Eu0uMAEACAAJ&printsec=frontcover&img=1&zoom=5&source=gbs_api', 'thumbnail': 'http://books.google.com/books/content?id=Eu0uMAEACAAJ&printsec=frontcover&img=1&zoom=1&source=gbs_api'}, 'language': 'en', 'previewLink': 'http://books.google.com/books?id=Eu0uMAEACAAJ&dq=BEAUTIFUL+RUINS&hl=&as_pt=BOOKS&cd=1&source=gbs_api', 'infoLink': 'http://books.google.com/books?id=Eu0uMAEACAAJ&dq=BEAUTIFUL+RUINS&hl=&as_pt=BOOKS&source=gbs_api', 'canonicalVolumeLink': 'https://books.google.com/books/about/Beautiful_Ruins.html?hl=&id=Eu0uMAEACAAJ', 'subtitle': 'Not available', 'averageRating': 'Not available', 'ratingsCount': 'Not available', 'seriesInfo': 'Not available'})\n",
            "Document(id=00404b8a4eb42aee66d7a000ca21b9f5750e40a622770f223047ef534500d345, content: 'Title: Beautiful Ruins\n",
            "Description: The No. 1 New York Times Bestseller Jess Walter's Beautiful Ruin...', meta: {'title': 'Beautiful Ruins', 'authors': 'Jess Walter', 'publisher': 'Penguin UK', 'publishedDate': '2013-04-02', 'industryIdentifiers': \"{'type': 'ISBN_13', 'identifier': '9780241963005'}, {'type': 'ISBN_10', 'identifier': '0241963001'}\", 'readingModes': {'text': True, 'image': False}, 'pageCount': 352, 'printType': 'BOOK', 'categories': 'Fiction', 'maturityRating': 'NOT_MATURE', 'allowAnonLogging': True, 'contentVersion': '1.7.10.0.preview.2', 'panelizationSummary': {'containsEpubBubbles': False, 'containsImageBubbles': False}, 'imageLinks': {'smallThumbnail': 'http://books.google.com/books/content?id=LfEH-MV9Td0C&printsec=frontcover&img=1&zoom=5&edge=curl&source=gbs_api', 'thumbnail': 'http://books.google.com/books/content?id=LfEH-MV9Td0C&printsec=frontcover&img=1&zoom=1&edge=curl&source=gbs_api'}, 'language': 'en', 'previewLink': 'http://books.google.com/books?id=LfEH-MV9Td0C&printsec=frontcover&dq=BEAUTIFUL+RUINS&hl=&as_pt=BOOKS&cd=2&source=gbs_api', 'infoLink': 'http://books.google.com/books?id=LfEH-MV9Td0C&dq=BEAUTIFUL+RUINS&hl=&as_pt=BOOKS&source=gbs_api', 'canonicalVolumeLink': 'https://books.google.com/books/about/Beautiful_Ruins.html?hl=&id=LfEH-MV9Td0C', 'subtitle': 'Not available', 'averageRating': 'Not available', 'ratingsCount': 'Not available', 'seriesInfo': 'Not available'})\n",
            "Document(id=78963244a46f333a31b98676313b11846d41f6c41603595eb0401cab9a0bb777, content: 'Title: Beautiful Terrible Ruins\n",
            "Description: Once the manufacturing powerhouse of the nation, Detroi...', meta: {'title': 'Beautiful Terrible Ruins', 'subtitle': 'Detroit and the Anxiety of Decline', 'authors': 'Dora Apel', 'publisher': 'Rutgers University Press', 'publishedDate': '2015-06-23', 'industryIdentifiers': \"{'type': 'ISBN_13', 'identifier': '9780813574097'}, {'type': 'ISBN_10', 'identifier': '0813574099'}\", 'readingModes': {'text': False, 'image': True}, 'pageCount': 229, 'printType': 'BOOK', 'categories': 'Architecture', 'maturityRating': 'NOT_MATURE', 'allowAnonLogging': False, 'contentVersion': 'preview-1.0.0', 'panelizationSummary': {'containsEpubBubbles': False, 'containsImageBubbles': False}, 'imageLinks': {'smallThumbnail': 'http://books.google.com/books/content?id=teF6CgAAQBAJ&printsec=frontcover&img=1&zoom=5&edge=curl&source=gbs_api', 'thumbnail': 'http://books.google.com/books/content?id=teF6CgAAQBAJ&printsec=frontcover&img=1&zoom=1&edge=curl&source=gbs_api'}, 'language': 'en', 'previewLink': 'http://books.google.com/books?id=teF6CgAAQBAJ&printsec=frontcover&dq=BEAUTIFUL+RUINS&hl=&as_pt=BOOKS&cd=3&source=gbs_api', 'infoLink': 'http://books.google.com/books?id=teF6CgAAQBAJ&dq=BEAUTIFUL+RUINS&hl=&as_pt=BOOKS&source=gbs_api', 'canonicalVolumeLink': 'https://books.google.com/books/about/Beautiful_Terrible_Ruins.html?hl=&id=teF6CgAAQBAJ', 'averageRating': 'Not available', 'ratingsCount': 'Not available', 'seriesInfo': 'Not available'})\n",
            "Document(id=d76101887d6ed9ac5c8b0741ad1bc12f11c22d8f284aeeff307fc23af60386ff, content: 'Title: A Game of Thrones\n",
            "Description: NOW THE ACCLAIMED HBO SERIES GAME OF THRONES—THE MASTERPIECE T...', meta: {'title': 'A Game of Thrones', 'subtitle': 'A Song of Ice and Fire: Book One', 'authors': 'George R. R. Martin', 'publisher': 'Bantam', 'publishedDate': '1997-08-04', 'industryIdentifiers': \"{'type': 'ISBN_13', 'identifier': '9780553573404'}, {'type': 'ISBN_10', 'identifier': '0553573403'}\", 'readingModes': {'text': True, 'image': False}, 'pageCount': 865, 'printType': 'BOOK', 'categories': 'Fiction', 'averageRating': 4, 'ratingsCount': 492, 'maturityRating': 'NOT_MATURE', 'allowAnonLogging': True, 'contentVersion': '4.10.8.0.preview.2', 'panelizationSummary': {'containsEpubBubbles': False, 'containsImageBubbles': False}, 'imageLinks': {'smallThumbnail': 'http://books.google.com/books/content?id=btpIkZ6X6egC&printsec=frontcover&img=1&zoom=5&edge=curl&source=gbs_api', 'thumbnail': 'http://books.google.com/books/content?id=btpIkZ6X6egC&printsec=frontcover&img=1&zoom=1&edge=curl&source=gbs_api'}, 'language': 'en', 'previewLink': 'http://books.google.com/books?id=btpIkZ6X6egC&printsec=frontcover&dq=A+GAME+OF+THRONES&hl=&as_pt=BOOKS&cd=1&source=gbs_api', 'infoLink': 'http://books.google.com/books?id=btpIkZ6X6egC&dq=A+GAME+OF+THRONES&hl=&as_pt=BOOKS&source=gbs_api', 'canonicalVolumeLink': 'https://books.google.com/books/about/A_Game_of_Thrones.html?hl=&id=btpIkZ6X6egC', 'seriesInfo': 'Not available'})\n",
            "Document(id=63514d7df8613ae060934df5355203f377e18f59f78ec193dce3450bac7f89f6, content: 'Title: A Game of Thrones\n",
            "Description: NOW THE ACCLAIMED HBO SERIES GAME OF THRONES—THE MASTERPIECE T...', meta: {'title': 'A Game of Thrones', 'subtitle': 'A Song of Ice and Fire: Book One', 'authors': 'George R. R. Martin', 'publisher': 'Bantam', 'publishedDate': '2003-01-01', 'industryIdentifiers': \"{'type': 'ISBN_13', 'identifier': '9780553897845'}, {'type': 'ISBN_10', 'identifier': '0553897845'}\", 'readingModes': {'text': True, 'image': False}, 'pageCount': 835, 'printType': 'BOOK', 'categories': 'Fiction', 'averageRating': 4, 'ratingsCount': 157, 'maturityRating': 'NOT_MATURE', 'allowAnonLogging': True, 'contentVersion': '2.44.39.0.preview.2', 'panelizationSummary': {'containsEpubBubbles': False, 'containsImageBubbles': False}, 'imageLinks': {'smallThumbnail': 'http://books.google.com/books/content?id=5NomkK4EV68C&printsec=frontcover&img=1&zoom=5&edge=curl&source=gbs_api', 'thumbnail': 'http://books.google.com/books/content?id=5NomkK4EV68C&printsec=frontcover&img=1&zoom=1&edge=curl&source=gbs_api'}, 'language': 'en', 'previewLink': 'http://books.google.com/books?id=5NomkK4EV68C&printsec=frontcover&dq=A+GAME+OF+THRONES&hl=&as_pt=BOOKS&cd=2&source=gbs_api', 'infoLink': 'https://play.google.com/store/books/details?id=5NomkK4EV68C&source=gbs_api', 'canonicalVolumeLink': 'https://play.google.com/store/books/details?id=5NomkK4EV68C', 'seriesInfo': 'Not available'})\n",
            "Document(id=ba5811717cdec08963ed444a68e303237a9e9de3a0cb8c1efd48fb5a413f1c8c, content: 'Title: A Game of Thrones 4-Book Bundle\n",
            "Description: The perfect gift for fans of HBO's Game of Thron...', meta: {'title': 'A Game of Thrones 4-Book Bundle', 'subtitle': 'A Song of Ice and Fire Series: A Game of Thrones, A Clash of Kings, A Storm of Swords, and A Feast for Crows', 'authors': 'George R. R. Martin', 'publisher': 'Bantam', 'publishedDate': '2011-03-22', 'industryIdentifiers': \"{'type': 'ISBN_13', 'identifier': '9780345529060'}, {'type': 'ISBN_10', 'identifier': '0345529065'}\", 'readingModes': {'text': True, 'image': False}, 'pageCount': 3441, 'printType': 'BOOK', 'categories': 'Fiction', 'averageRating': 4, 'ratingsCount': 305, 'maturityRating': 'NOT_MATURE', 'allowAnonLogging': True, 'contentVersion': '5.26.16.0.preview.2', 'panelizationSummary': {'containsEpubBubbles': False, 'containsImageBubbles': False}, 'imageLinks': {'smallThumbnail': 'http://books.google.com/books/content?id=mA8A4BYWB1IC&printsec=frontcover&img=1&zoom=5&edge=curl&source=gbs_api', 'thumbnail': 'http://books.google.com/books/content?id=mA8A4BYWB1IC&printsec=frontcover&img=1&zoom=1&edge=curl&source=gbs_api'}, 'language': 'en', 'previewLink': 'http://books.google.com/books?id=mA8A4BYWB1IC&printsec=frontcover&dq=A+GAME+OF+THRONES&hl=&as_pt=BOOKS&cd=3&source=gbs_api', 'infoLink': 'http://books.google.com/books?id=mA8A4BYWB1IC&dq=A+GAME+OF+THRONES&hl=&as_pt=BOOKS&source=gbs_api', 'canonicalVolumeLink': 'https://books.google.com/books/about/A_Game_of_Thrones_4_Book_Bundle.html?hl=&id=mA8A4BYWB1IC', 'seriesInfo': 'Not available'})\n"
          ]
        }
      ],
      "source": [
        "for doc in documents:\n",
        "  print (doc)"
      ]
    },
    {
      "cell_type": "markdown",
      "metadata": {
        "id": "Yxi6IYXPZMFw"
      },
      "source": [
        "Try extracting some answers."
      ]
    },
    {
      "cell_type": "code",
      "execution_count": null,
      "metadata": {
        "colab": {
          "base_uri": "https://localhost:8080/",
          "height": 339,
          "referenced_widgets": [
            "a0c2b09151fd4b6c9366bb7699d01c98",
            "aad4a5b69ce142ec83c6120656cff44e",
            "0cf0be42767945da95012e1a683cdfbd",
            "12c98e0d8c4a48c4898e2815d1daf0b6",
            "0da9739bb1b74849a762d613f9551399",
            "c5fa997d5716460b82309294b381013c",
            "addd65d4a73545c0b88438415d98eee8",
            "ca531c033de54aea8683f90bcf2481d0",
            "2c8b926016944c5a9ea75d2f5371da54",
            "9453502532654e0f99157acad685d399",
            "d8ca7dff4dee4d32bccbe3e70d738069"
          ]
        },
        "id": "mvG3XJOtZR79",
        "outputId": "6034ee92-9cae-4b89-e64c-a35d55f3b866"
      },
      "outputs": [
        {
          "data": {
            "application/vnd.jupyter.widget-view+json": {
              "model_id": "a0c2b09151fd4b6c9366bb7699d01c98",
              "version_major": 2,
              "version_minor": 0
            },
            "text/plain": [
              "Batches:   0%|          | 0/1 [00:00<?, ?it/s]"
            ]
          },
          "metadata": {},
          "output_type": "display_data"
        },
        {
          "data": {
            "text/plain": [
              "{'reader': {'answers': [ExtractedAnswer(query='what is Beautiful Ruins about?', score=0.727833092212677, data='a story of flawed yet fascinating people', document=Document(id=b9d4a6dcf787c53f5a1e911b665be9c947d7b6333a88b978d1ac828fd3efa9dd, content: 'Title: Beautiful Ruins\n",
              "   Description: In 1962, on a rocky patch of sun-drenched Italian coastline, a y...', meta: {'title': 'Beautiful Ruins', 'authors': 'Jess Walter', 'publisher': 'Center Point', 'publishedDate': '2012', 'industryIdentifiers': \"{'type': 'ISBN_10', 'identifier': '161173536X'}, {'type': 'ISBN_13', 'identifier': '9781611735369'}\", 'readingModes': {'text': False, 'image': False}, 'pageCount': 0, 'printType': 'BOOK', 'categories': 'Actors and actresses', 'maturityRating': 'NOT_MATURE', 'allowAnonLogging': False, 'contentVersion': 'preview-1.0.0', 'panelizationSummary': {'containsEpubBubbles': False, 'containsImageBubbles': False}, 'imageLinks': {'smallThumbnail': 'http://books.google.com/books/content?id=Eu0uMAEACAAJ&printsec=frontcover&img=1&zoom=5&source=gbs_api', 'thumbnail': 'http://books.google.com/books/content?id=Eu0uMAEACAAJ&printsec=frontcover&img=1&zoom=1&source=gbs_api'}, 'language': 'en', 'previewLink': 'http://books.google.com/books?id=Eu0uMAEACAAJ&dq=BEAUTIFUL+RUINS&hl=&as_pt=BOOKS&cd=1&source=gbs_api', 'infoLink': 'http://books.google.com/books?id=Eu0uMAEACAAJ&dq=BEAUTIFUL+RUINS&hl=&as_pt=BOOKS&source=gbs_api', 'canonicalVolumeLink': 'https://books.google.com/books/about/Beautiful_Ruins.html?hl=&id=Eu0uMAEACAAJ', 'subtitle': 'Not available', 'averageRating': 'Not available', 'ratingsCount': 'Not available', 'seriesInfo': 'Not available'}, score: 25.19805982403987), context=None, document_offset=ExtractedAnswer.Span(start=963, end=1003), context_offset=None, meta={}),\n",
              "   ExtractedAnswer(query='what is Beautiful Ruins about?', score=0.272166907787323, data=None, document=None, context=None, document_offset=None, context_offset=None, meta={})]}}"
            ]
          },
          "execution_count": 113,
          "metadata": {},
          "output_type": "execute_result"
        }
      ],
      "source": [
        "query = \"what is Beautiful Ruins about?\"\n",
        "extractive_qa_pipeline.run(\n",
        "    data={\"embedder\": {\"text\": query}, \"retriever\": {\"top_k\": 3}, \"reader\": {\"query\": query, \"top_k\": 1}}\n",
        ")"
      ]
    },
    {
      "cell_type": "code",
      "execution_count": null,
      "metadata": {
        "colab": {
          "base_uri": "https://localhost:8080/"
        },
        "id": "BpuMSCC757bu",
        "outputId": "cd10a989-f6f5-4282-8f39-64934611ff2e"
      },
      "outputs": [
        {
          "name": "stdout",
          "output_type": "stream",
          "text": [
            "Collecting chroma-haystack\n",
            "  Downloading chroma_haystack-0.15.0-py3-none-any.whl (13 kB)\n",
            "Collecting chromadb<0.4.20 (from chroma-haystack)\n",
            "  Downloading chromadb-0.4.19-py3-none-any.whl (505 kB)\n",
            "\u001b[2K     \u001b[90m━━━━━━━━━━━━━━━━━━━━━━━━━━━━━━━━━━━━━━━━\u001b[0m \u001b[32m506.0/506.0 kB\u001b[0m \u001b[31m3.8 MB/s\u001b[0m eta \u001b[36m0:00:00\u001b[0m\n",
            "\u001b[?25hRequirement already satisfied: haystack-ai in /usr/local/lib/python3.10/dist-packages (from chroma-haystack) (2.0.0)\n",
            "Requirement already satisfied: typing-extensions>=4.8.0 in /usr/local/lib/python3.10/dist-packages (from chroma-haystack) (4.10.0)\n",
            "Requirement already satisfied: requests>=2.28 in /usr/local/lib/python3.10/dist-packages (from chromadb<0.4.20->chroma-haystack) (2.31.0)\n",
            "Requirement already satisfied: pydantic>=1.9 in /usr/local/lib/python3.10/dist-packages (from chromadb<0.4.20->chroma-haystack) (2.6.4)\n",
            "Collecting chroma-hnswlib==0.7.3 (from chromadb<0.4.20->chroma-haystack)\n",
            "  Downloading chroma_hnswlib-0.7.3-cp310-cp310-manylinux_2_17_x86_64.manylinux2014_x86_64.whl (2.4 MB)\n",
            "\u001b[2K     \u001b[90m━━━━━━━━━━━━━━━━━━━━━━━━━━━━━━━━━━━━━━━━\u001b[0m \u001b[32m2.4/2.4 MB\u001b[0m \u001b[31m21.6 MB/s\u001b[0m eta \u001b[36m0:00:00\u001b[0m\n",
            "\u001b[?25hCollecting fastapi>=0.95.2 (from chromadb<0.4.20->chroma-haystack)\n",
            "  Downloading fastapi-0.110.1-py3-none-any.whl (91 kB)\n",
            "\u001b[2K     \u001b[90m━━━━━━━━━━━━━━━━━━━━━━━━━━━━━━━━━━━━━━━━\u001b[0m \u001b[32m91.9/91.9 kB\u001b[0m \u001b[31m7.3 MB/s\u001b[0m eta \u001b[36m0:00:00\u001b[0m\n",
            "\u001b[?25hCollecting uvicorn[standard]>=0.18.3 (from chromadb<0.4.20->chroma-haystack)\n",
            "  Downloading uvicorn-0.29.0-py3-none-any.whl (60 kB)\n",
            "\u001b[2K     \u001b[90m━━━━━━━━━━━━━━━━━━━━━━━━━━━━━━━━━━━━━━━━\u001b[0m \u001b[32m60.8/60.8 kB\u001b[0m \u001b[31m6.5 MB/s\u001b[0m eta \u001b[36m0:00:00\u001b[0m\n",
            "\u001b[?25hRequirement already satisfied: numpy>=1.22.5 in /usr/local/lib/python3.10/dist-packages (from chromadb<0.4.20->chroma-haystack) (1.25.2)\n",
            "Requirement already satisfied: posthog>=2.4.0 in /usr/local/lib/python3.10/dist-packages (from chromadb<0.4.20->chroma-haystack) (3.5.0)\n",
            "Collecting pulsar-client>=3.1.0 (from chromadb<0.4.20->chroma-haystack)\n",
            "  Downloading pulsar_client-3.4.0-cp310-cp310-manylinux_2_17_x86_64.manylinux2014_x86_64.whl (5.4 MB)\n",
            "\u001b[2K     \u001b[90m━━━━━━━━━━━━━━━━━━━━━━━━━━━━━━━━━━━━━━━━\u001b[0m \u001b[32m5.4/5.4 MB\u001b[0m \u001b[31m30.0 MB/s\u001b[0m eta \u001b[36m0:00:00\u001b[0m\n",
            "\u001b[?25hCollecting onnxruntime>=1.14.1 (from chromadb<0.4.20->chroma-haystack)\n",
            "  Downloading onnxruntime-1.17.1-cp310-cp310-manylinux_2_27_x86_64.manylinux_2_28_x86_64.whl (6.8 MB)\n",
            "\u001b[2K     \u001b[90m━━━━━━━━━━━━━━━━━━━━━━━━━━━━━━━━━━━━━━━━\u001b[0m \u001b[32m6.8/6.8 MB\u001b[0m \u001b[31m28.5 MB/s\u001b[0m eta \u001b[36m0:00:00\u001b[0m\n",
            "\u001b[?25hCollecting opentelemetry-api>=1.2.0 (from chromadb<0.4.20->chroma-haystack)\n",
            "  Downloading opentelemetry_api-1.24.0-py3-none-any.whl (60 kB)\n",
            "\u001b[2K     \u001b[90m━━━━━━━━━━━━━━━━━━━━━━━━━━━━━━━━━━━━━━━━\u001b[0m \u001b[32m60.1/60.1 kB\u001b[0m \u001b[31m4.8 MB/s\u001b[0m eta \u001b[36m0:00:00\u001b[0m\n",
            "\u001b[?25hCollecting opentelemetry-exporter-otlp-proto-grpc>=1.2.0 (from chromadb<0.4.20->chroma-haystack)\n",
            "  Downloading opentelemetry_exporter_otlp_proto_grpc-1.24.0-py3-none-any.whl (18 kB)\n",
            "Collecting opentelemetry-instrumentation-fastapi>=0.41b0 (from chromadb<0.4.20->chroma-haystack)\n",
            "  Downloading opentelemetry_instrumentation_fastapi-0.45b0-py3-none-any.whl (11 kB)\n",
            "Collecting opentelemetry-sdk>=1.2.0 (from chromadb<0.4.20->chroma-haystack)\n",
            "  Downloading opentelemetry_sdk-1.24.0-py3-none-any.whl (106 kB)\n",
            "\u001b[2K     \u001b[90m━━━━━━━━━━━━━━━━━━━━━━━━━━━━━━━━━━━━━━━━\u001b[0m \u001b[32m106.1/106.1 kB\u001b[0m \u001b[31m9.1 MB/s\u001b[0m eta \u001b[36m0:00:00\u001b[0m\n",
            "\u001b[?25hRequirement already satisfied: tokenizers>=0.13.2 in /usr/local/lib/python3.10/dist-packages (from chromadb<0.4.20->chroma-haystack) (0.15.2)\n",
            "Collecting pypika>=0.48.9 (from chromadb<0.4.20->chroma-haystack)\n",
            "  Downloading PyPika-0.48.9.tar.gz (67 kB)\n",
            "\u001b[2K     \u001b[90m━━━━━━━━━━━━━━━━━━━━━━━━━━━━━━━━━━━━━━━━\u001b[0m \u001b[32m67.3/67.3 kB\u001b[0m \u001b[31m7.0 MB/s\u001b[0m eta \u001b[36m0:00:00\u001b[0m\n",
            "\u001b[?25h  Installing build dependencies ... \u001b[?25l\u001b[?25hdone\n",
            "  Getting requirements to build wheel ... \u001b[?25l\u001b[?25hdone\n",
            "  Preparing metadata (pyproject.toml) ... \u001b[?25l\u001b[?25hdone\n",
            "Requirement already satisfied: tqdm>=4.65.0 in /usr/local/lib/python3.10/dist-packages (from chromadb<0.4.20->chroma-haystack) (4.66.2)\n",
            "Collecting overrides>=7.3.1 (from chromadb<0.4.20->chroma-haystack)\n",
            "  Downloading overrides-7.7.0-py3-none-any.whl (17 kB)\n",
            "Requirement already satisfied: importlib-resources in /usr/local/lib/python3.10/dist-packages (from chromadb<0.4.20->chroma-haystack) (6.4.0)\n",
            "Requirement already satisfied: grpcio>=1.58.0 in /usr/local/lib/python3.10/dist-packages (from chromadb<0.4.20->chroma-haystack) (1.62.1)\n",
            "Collecting bcrypt>=4.0.1 (from chromadb<0.4.20->chroma-haystack)\n",
            "  Downloading bcrypt-4.1.2-cp39-abi3-manylinux_2_28_x86_64.whl (698 kB)\n",
            "\u001b[2K     \u001b[90m━━━━━━━━━━━━━━━━━━━━━━━━━━━━━━━━━━━━━━━━\u001b[0m \u001b[32m698.9/698.9 kB\u001b[0m \u001b[31m48.2 MB/s\u001b[0m eta \u001b[36m0:00:00\u001b[0m\n",
            "\u001b[?25hRequirement already satisfied: typer>=0.9.0 in /usr/local/lib/python3.10/dist-packages (from chromadb<0.4.20->chroma-haystack) (0.9.4)\n",
            "Collecting kubernetes>=28.1.0 (from chromadb<0.4.20->chroma-haystack)\n",
            "  Downloading kubernetes-29.0.0-py2.py3-none-any.whl (1.6 MB)\n",
            "\u001b[2K     \u001b[90m━━━━━━━━━━━━━━━━━━━━━━━━━━━━━━━━━━━━━━━━\u001b[0m \u001b[32m1.6/1.6 MB\u001b[0m \u001b[31m45.0 MB/s\u001b[0m eta \u001b[36m0:00:00\u001b[0m\n",
            "\u001b[?25hRequirement already satisfied: tenacity>=8.2.3 in /usr/local/lib/python3.10/dist-packages (from chromadb<0.4.20->chroma-haystack) (8.2.3)\n",
            "Requirement already satisfied: PyYAML>=6.0.0 in /usr/local/lib/python3.10/dist-packages (from chromadb<0.4.20->chroma-haystack) (6.0.1)\n",
            "Collecting mmh3>=4.0.1 (from chromadb<0.4.20->chroma-haystack)\n",
            "  Downloading mmh3-4.1.0-cp310-cp310-manylinux_2_5_x86_64.manylinux1_x86_64.manylinux_2_17_x86_64.manylinux2014_x86_64.whl (67 kB)\n",
            "\u001b[2K     \u001b[90m━━━━━━━━━━━━━━━━━━━━━━━━━━━━━━━━━━━━━━━━\u001b[0m \u001b[32m67.6/67.6 kB\u001b[0m \u001b[31m7.7 MB/s\u001b[0m eta \u001b[36m0:00:00\u001b[0m\n",
            "\u001b[?25hRequirement already satisfied: boilerpy3 in /usr/local/lib/python3.10/dist-packages (from haystack-ai->chroma-haystack) (1.0.7)\n",
            "Requirement already satisfied: haystack-bm25 in /usr/local/lib/python3.10/dist-packages (from haystack-ai->chroma-haystack) (1.0.2)\n",
            "Requirement already satisfied: jinja2 in /usr/local/lib/python3.10/dist-packages (from haystack-ai->chroma-haystack) (3.1.3)\n",
            "Requirement already satisfied: lazy-imports in /usr/local/lib/python3.10/dist-packages (from haystack-ai->chroma-haystack) (0.3.1)\n",
            "Requirement already satisfied: more-itertools in /usr/local/lib/python3.10/dist-packages (from haystack-ai->chroma-haystack) (10.1.0)\n",
            "Requirement already satisfied: networkx in /usr/local/lib/python3.10/dist-packages (from haystack-ai->chroma-haystack) (3.2.1)\n",
            "Requirement already satisfied: openai>=1.1.0 in /usr/local/lib/python3.10/dist-packages (from haystack-ai->chroma-haystack) (1.16.1)\n",
            "Requirement already satisfied: pandas in /usr/local/lib/python3.10/dist-packages (from haystack-ai->chroma-haystack) (1.5.3)\n",
            "Requirement already satisfied: python-dateutil in /usr/local/lib/python3.10/dist-packages (from haystack-ai->chroma-haystack) (2.8.2)\n",
            "Collecting starlette<0.38.0,>=0.37.2 (from fastapi>=0.95.2->chromadb<0.4.20->chroma-haystack)\n",
            "  Downloading starlette-0.37.2-py3-none-any.whl (71 kB)\n",
            "\u001b[2K     \u001b[90m━━━━━━━━━━━━━━━━━━━━━━━━━━━━━━━━━━━━━━━━\u001b[0m \u001b[32m71.9/71.9 kB\u001b[0m \u001b[31m7.9 MB/s\u001b[0m eta \u001b[36m0:00:00\u001b[0m\n",
            "\u001b[?25hRequirement already satisfied: certifi>=14.05.14 in /usr/local/lib/python3.10/dist-packages (from kubernetes>=28.1.0->chromadb<0.4.20->chroma-haystack) (2024.2.2)\n",
            "Requirement already satisfied: six>=1.9.0 in /usr/local/lib/python3.10/dist-packages (from kubernetes>=28.1.0->chromadb<0.4.20->chroma-haystack) (1.16.0)\n",
            "Requirement already satisfied: google-auth>=1.0.1 in /usr/local/lib/python3.10/dist-packages (from kubernetes>=28.1.0->chromadb<0.4.20->chroma-haystack) (2.27.0)\n",
            "Requirement already satisfied: websocket-client!=0.40.0,!=0.41.*,!=0.42.*,>=0.32.0 in /usr/local/lib/python3.10/dist-packages (from kubernetes>=28.1.0->chromadb<0.4.20->chroma-haystack) (1.7.0)\n",
            "Requirement already satisfied: requests-oauthlib in /usr/local/lib/python3.10/dist-packages (from kubernetes>=28.1.0->chromadb<0.4.20->chroma-haystack) (1.4.1)\n",
            "Requirement already satisfied: oauthlib>=3.2.2 in /usr/local/lib/python3.10/dist-packages (from kubernetes>=28.1.0->chromadb<0.4.20->chroma-haystack) (3.2.2)\n",
            "Requirement already satisfied: urllib3>=1.24.2 in /usr/local/lib/python3.10/dist-packages (from kubernetes>=28.1.0->chromadb<0.4.20->chroma-haystack) (2.0.7)\n",
            "Collecting coloredlogs (from onnxruntime>=1.14.1->chromadb<0.4.20->chroma-haystack)\n",
            "  Downloading coloredlogs-15.0.1-py2.py3-none-any.whl (46 kB)\n",
            "\u001b[2K     \u001b[90m━━━━━━━━━━━━━━━━━━━━━━━━━━━━━━━━━━━━━━━━\u001b[0m \u001b[32m46.0/46.0 kB\u001b[0m \u001b[31m5.1 MB/s\u001b[0m eta \u001b[36m0:00:00\u001b[0m\n",
            "\u001b[?25hRequirement already satisfied: flatbuffers in /usr/local/lib/python3.10/dist-packages (from onnxruntime>=1.14.1->chromadb<0.4.20->chroma-haystack) (24.3.25)\n",
            "Requirement already satisfied: packaging in /usr/local/lib/python3.10/dist-packages (from onnxruntime>=1.14.1->chromadb<0.4.20->chroma-haystack) (24.0)\n",
            "Requirement already satisfied: protobuf in /usr/local/lib/python3.10/dist-packages (from onnxruntime>=1.14.1->chromadb<0.4.20->chroma-haystack) (3.20.3)\n",
            "Requirement already satisfied: sympy in /usr/local/lib/python3.10/dist-packages (from onnxruntime>=1.14.1->chromadb<0.4.20->chroma-haystack) (1.12)\n",
            "Requirement already satisfied: anyio<5,>=3.5.0 in /usr/local/lib/python3.10/dist-packages (from openai>=1.1.0->haystack-ai->chroma-haystack) (3.7.1)\n",
            "Requirement already satisfied: distro<2,>=1.7.0 in /usr/lib/python3/dist-packages (from openai>=1.1.0->haystack-ai->chroma-haystack) (1.7.0)\n",
            "Requirement already satisfied: httpx<1,>=0.23.0 in /usr/local/lib/python3.10/dist-packages (from openai>=1.1.0->haystack-ai->chroma-haystack) (0.27.0)\n",
            "Requirement already satisfied: sniffio in /usr/local/lib/python3.10/dist-packages (from openai>=1.1.0->haystack-ai->chroma-haystack) (1.3.1)\n",
            "Collecting deprecated>=1.2.6 (from opentelemetry-api>=1.2.0->chromadb<0.4.20->chroma-haystack)\n",
            "  Downloading Deprecated-1.2.14-py2.py3-none-any.whl (9.6 kB)\n",
            "Collecting importlib-metadata<=7.0,>=6.0 (from opentelemetry-api>=1.2.0->chromadb<0.4.20->chroma-haystack)\n",
            "  Downloading importlib_metadata-7.0.0-py3-none-any.whl (23 kB)\n",
            "Requirement already satisfied: googleapis-common-protos~=1.52 in /usr/local/lib/python3.10/dist-packages (from opentelemetry-exporter-otlp-proto-grpc>=1.2.0->chromadb<0.4.20->chroma-haystack) (1.63.0)\n",
            "Collecting opentelemetry-exporter-otlp-proto-common==1.24.0 (from opentelemetry-exporter-otlp-proto-grpc>=1.2.0->chromadb<0.4.20->chroma-haystack)\n",
            "  Downloading opentelemetry_exporter_otlp_proto_common-1.24.0-py3-none-any.whl (17 kB)\n",
            "Collecting opentelemetry-proto==1.24.0 (from opentelemetry-exporter-otlp-proto-grpc>=1.2.0->chromadb<0.4.20->chroma-haystack)\n",
            "  Downloading opentelemetry_proto-1.24.0-py3-none-any.whl (50 kB)\n",
            "\u001b[2K     \u001b[90m━━━━━━━━━━━━━━━━━━━━━━━━━━━━━━━━━━━━━━━━\u001b[0m \u001b[32m50.8/50.8 kB\u001b[0m \u001b[31m5.3 MB/s\u001b[0m eta \u001b[36m0:00:00\u001b[0m\n",
            "\u001b[?25hCollecting opentelemetry-instrumentation-asgi==0.45b0 (from opentelemetry-instrumentation-fastapi>=0.41b0->chromadb<0.4.20->chroma-haystack)\n",
            "  Downloading opentelemetry_instrumentation_asgi-0.45b0-py3-none-any.whl (14 kB)\n",
            "Collecting opentelemetry-instrumentation==0.45b0 (from opentelemetry-instrumentation-fastapi>=0.41b0->chromadb<0.4.20->chroma-haystack)\n",
            "  Downloading opentelemetry_instrumentation-0.45b0-py3-none-any.whl (28 kB)\n",
            "Collecting opentelemetry-semantic-conventions==0.45b0 (from opentelemetry-instrumentation-fastapi>=0.41b0->chromadb<0.4.20->chroma-haystack)\n",
            "  Downloading opentelemetry_semantic_conventions-0.45b0-py3-none-any.whl (36 kB)\n",
            "Collecting opentelemetry-util-http==0.45b0 (from opentelemetry-instrumentation-fastapi>=0.41b0->chromadb<0.4.20->chroma-haystack)\n",
            "  Downloading opentelemetry_util_http-0.45b0-py3-none-any.whl (6.9 kB)\n",
            "Requirement already satisfied: setuptools>=16.0 in /usr/local/lib/python3.10/dist-packages (from opentelemetry-instrumentation==0.45b0->opentelemetry-instrumentation-fastapi>=0.41b0->chromadb<0.4.20->chroma-haystack) (67.7.2)\n",
            "Requirement already satisfied: wrapt<2.0.0,>=1.0.0 in /usr/local/lib/python3.10/dist-packages (from opentelemetry-instrumentation==0.45b0->opentelemetry-instrumentation-fastapi>=0.41b0->chromadb<0.4.20->chroma-haystack) (1.14.1)\n",
            "Collecting asgiref~=3.0 (from opentelemetry-instrumentation-asgi==0.45b0->opentelemetry-instrumentation-fastapi>=0.41b0->chromadb<0.4.20->chroma-haystack)\n",
            "  Downloading asgiref-3.8.1-py3-none-any.whl (23 kB)\n",
            "Requirement already satisfied: monotonic>=1.5 in /usr/local/lib/python3.10/dist-packages (from posthog>=2.4.0->chromadb<0.4.20->chroma-haystack) (1.6)\n",
            "Requirement already satisfied: backoff>=1.10.0 in /usr/local/lib/python3.10/dist-packages (from posthog>=2.4.0->chromadb<0.4.20->chroma-haystack) (2.2.1)\n",
            "Requirement already satisfied: annotated-types>=0.4.0 in /usr/local/lib/python3.10/dist-packages (from pydantic>=1.9->chromadb<0.4.20->chroma-haystack) (0.6.0)\n",
            "Requirement already satisfied: pydantic-core==2.16.3 in /usr/local/lib/python3.10/dist-packages (from pydantic>=1.9->chromadb<0.4.20->chroma-haystack) (2.16.3)\n",
            "Requirement already satisfied: charset-normalizer<4,>=2 in /usr/local/lib/python3.10/dist-packages (from requests>=2.28->chromadb<0.4.20->chroma-haystack) (3.3.2)\n",
            "Requirement already satisfied: idna<4,>=2.5 in /usr/local/lib/python3.10/dist-packages (from requests>=2.28->chromadb<0.4.20->chroma-haystack) (3.6)\n",
            "Requirement already satisfied: huggingface_hub<1.0,>=0.16.4 in /usr/local/lib/python3.10/dist-packages (from tokenizers>=0.13.2->chromadb<0.4.20->chroma-haystack) (0.20.3)\n",
            "Requirement already satisfied: click<9.0.0,>=7.1.1 in /usr/local/lib/python3.10/dist-packages (from typer>=0.9.0->chromadb<0.4.20->chroma-haystack) (8.1.7)\n",
            "Requirement already satisfied: h11>=0.8 in /usr/local/lib/python3.10/dist-packages (from uvicorn[standard]>=0.18.3->chromadb<0.4.20->chroma-haystack) (0.14.0)\n",
            "Collecting httptools>=0.5.0 (from uvicorn[standard]>=0.18.3->chromadb<0.4.20->chroma-haystack)\n",
            "  Downloading httptools-0.6.1-cp310-cp310-manylinux_2_5_x86_64.manylinux1_x86_64.manylinux_2_17_x86_64.manylinux2014_x86_64.whl (341 kB)\n",
            "\u001b[2K     \u001b[90m━━━━━━━━━━━━━━━━━━━━━━━━━━━━━━━━━━━━━━━━\u001b[0m \u001b[32m341.4/341.4 kB\u001b[0m \u001b[31m28.0 MB/s\u001b[0m eta \u001b[36m0:00:00\u001b[0m\n",
            "\u001b[?25hCollecting python-dotenv>=0.13 (from uvicorn[standard]>=0.18.3->chromadb<0.4.20->chroma-haystack)\n",
            "  Downloading python_dotenv-1.0.1-py3-none-any.whl (19 kB)\n",
            "Collecting uvloop!=0.15.0,!=0.15.1,>=0.14.0 (from uvicorn[standard]>=0.18.3->chromadb<0.4.20->chroma-haystack)\n",
            "  Downloading uvloop-0.19.0-cp310-cp310-manylinux_2_17_x86_64.manylinux2014_x86_64.whl (3.4 MB)\n",
            "\u001b[2K     \u001b[90m━━━━━━━━━━━━━━━━━━━━━━━━━━━━━━━━━━━━━━━━\u001b[0m \u001b[32m3.4/3.4 MB\u001b[0m \u001b[31m50.6 MB/s\u001b[0m eta \u001b[36m0:00:00\u001b[0m\n",
            "\u001b[?25hCollecting watchfiles>=0.13 (from uvicorn[standard]>=0.18.3->chromadb<0.4.20->chroma-haystack)\n",
            "  Downloading watchfiles-0.21.0-cp310-cp310-manylinux_2_17_x86_64.manylinux2014_x86_64.whl (1.3 MB)\n",
            "\u001b[2K     \u001b[90m━━━━━━━━━━━━━━━━━━━━━━━━━━━━━━━━━━━━━━━━\u001b[0m \u001b[32m1.3/1.3 MB\u001b[0m \u001b[31m43.1 MB/s\u001b[0m eta \u001b[36m0:00:00\u001b[0m\n",
            "\u001b[?25hCollecting websockets>=10.4 (from uvicorn[standard]>=0.18.3->chromadb<0.4.20->chroma-haystack)\n",
            "  Downloading websockets-12.0-cp310-cp310-manylinux_2_5_x86_64.manylinux1_x86_64.manylinux_2_17_x86_64.manylinux2014_x86_64.whl (130 kB)\n",
            "\u001b[2K     \u001b[90m━━━━━━━━━━━━━━━━━━━━━━━━━━━━━━━━━━━━━━━━\u001b[0m \u001b[32m130.2/130.2 kB\u001b[0m \u001b[31m13.6 MB/s\u001b[0m eta \u001b[36m0:00:00\u001b[0m\n",
            "\u001b[?25hRequirement already satisfied: MarkupSafe>=2.0 in /usr/local/lib/python3.10/dist-packages (from jinja2->haystack-ai->chroma-haystack) (2.1.5)\n",
            "Requirement already satisfied: pytz>=2020.1 in /usr/local/lib/python3.10/dist-packages (from pandas->haystack-ai->chroma-haystack) (2023.4)\n",
            "Requirement already satisfied: exceptiongroup in /usr/local/lib/python3.10/dist-packages (from anyio<5,>=3.5.0->openai>=1.1.0->haystack-ai->chroma-haystack) (1.2.0)\n",
            "Requirement already satisfied: cachetools<6.0,>=2.0.0 in /usr/local/lib/python3.10/dist-packages (from google-auth>=1.0.1->kubernetes>=28.1.0->chromadb<0.4.20->chroma-haystack) (5.3.3)\n",
            "Requirement already satisfied: pyasn1-modules>=0.2.1 in /usr/local/lib/python3.10/dist-packages (from google-auth>=1.0.1->kubernetes>=28.1.0->chromadb<0.4.20->chroma-haystack) (0.4.0)\n",
            "Requirement already satisfied: rsa<5,>=3.1.4 in /usr/local/lib/python3.10/dist-packages (from google-auth>=1.0.1->kubernetes>=28.1.0->chromadb<0.4.20->chroma-haystack) (4.9)\n",
            "Requirement already satisfied: httpcore==1.* in /usr/local/lib/python3.10/dist-packages (from httpx<1,>=0.23.0->openai>=1.1.0->haystack-ai->chroma-haystack) (1.0.5)\n",
            "Requirement already satisfied: filelock in /usr/local/lib/python3.10/dist-packages (from huggingface_hub<1.0,>=0.16.4->tokenizers>=0.13.2->chromadb<0.4.20->chroma-haystack) (3.13.3)\n",
            "Requirement already satisfied: fsspec>=2023.5.0 in /usr/local/lib/python3.10/dist-packages (from huggingface_hub<1.0,>=0.16.4->tokenizers>=0.13.2->chromadb<0.4.20->chroma-haystack) (2023.6.0)\n",
            "Requirement already satisfied: zipp>=0.5 in /usr/local/lib/python3.10/dist-packages (from importlib-metadata<=7.0,>=6.0->opentelemetry-api>=1.2.0->chromadb<0.4.20->chroma-haystack) (3.18.1)\n",
            "Collecting humanfriendly>=9.1 (from coloredlogs->onnxruntime>=1.14.1->chromadb<0.4.20->chroma-haystack)\n",
            "  Downloading humanfriendly-10.0-py2.py3-none-any.whl (86 kB)\n",
            "\u001b[2K     \u001b[90m━━━━━━━━━━━━━━━━━━━━━━━━━━━━━━━━━━━━━━━━\u001b[0m \u001b[32m86.8/86.8 kB\u001b[0m \u001b[31m9.8 MB/s\u001b[0m eta \u001b[36m0:00:00\u001b[0m\n",
            "\u001b[?25hRequirement already satisfied: mpmath>=0.19 in /usr/local/lib/python3.10/dist-packages (from sympy->onnxruntime>=1.14.1->chromadb<0.4.20->chroma-haystack) (1.3.0)\n",
            "Requirement already satisfied: pyasn1<0.7.0,>=0.4.6 in /usr/local/lib/python3.10/dist-packages (from pyasn1-modules>=0.2.1->google-auth>=1.0.1->kubernetes>=28.1.0->chromadb<0.4.20->chroma-haystack) (0.6.0)\n",
            "Building wheels for collected packages: pypika\n",
            "  Building wheel for pypika (pyproject.toml) ... \u001b[?25l\u001b[?25hdone\n",
            "  Created wheel for pypika: filename=PyPika-0.48.9-py2.py3-none-any.whl size=53724 sha256=779fe7ef5d3a1f20d3fd669457894357acdbb882bd8fbd3ba9c4b47e8db85b06\n",
            "  Stored in directory: /root/.cache/pip/wheels/e1/26/51/d0bffb3d2fd82256676d7ad3003faea3bd6dddc9577af665f4\n",
            "Successfully built pypika\n",
            "Installing collected packages: pypika, mmh3, websockets, uvloop, uvicorn, python-dotenv, pulsar-client, overrides, opentelemetry-util-http, opentelemetry-semantic-conventions, opentelemetry-proto, importlib-metadata, humanfriendly, httptools, deprecated, chroma-hnswlib, bcrypt, asgiref, watchfiles, starlette, opentelemetry-exporter-otlp-proto-common, opentelemetry-api, coloredlogs, opentelemetry-sdk, opentelemetry-instrumentation, onnxruntime, kubernetes, fastapi, opentelemetry-instrumentation-asgi, opentelemetry-exporter-otlp-proto-grpc, opentelemetry-instrumentation-fastapi, chromadb, chroma-haystack\n",
            "  Attempting uninstall: importlib-metadata\n",
            "    Found existing installation: importlib_metadata 7.1.0\n",
            "    Uninstalling importlib_metadata-7.1.0:\n",
            "      Successfully uninstalled importlib_metadata-7.1.0\n",
            "Successfully installed asgiref-3.8.1 bcrypt-4.1.2 chroma-haystack-0.15.0 chroma-hnswlib-0.7.3 chromadb-0.4.19 coloredlogs-15.0.1 deprecated-1.2.14 fastapi-0.110.1 httptools-0.6.1 humanfriendly-10.0 importlib-metadata-7.0.0 kubernetes-29.0.0 mmh3-4.1.0 onnxruntime-1.17.1 opentelemetry-api-1.24.0 opentelemetry-exporter-otlp-proto-common-1.24.0 opentelemetry-exporter-otlp-proto-grpc-1.24.0 opentelemetry-instrumentation-0.45b0 opentelemetry-instrumentation-asgi-0.45b0 opentelemetry-instrumentation-fastapi-0.45b0 opentelemetry-proto-1.24.0 opentelemetry-sdk-1.24.0 opentelemetry-semantic-conventions-0.45b0 opentelemetry-util-http-0.45b0 overrides-7.7.0 pulsar-client-3.4.0 pypika-0.48.9 python-dotenv-1.0.1 starlette-0.37.2 uvicorn-0.29.0 uvloop-0.19.0 watchfiles-0.21.0 websockets-12.0\n"
          ]
        }
      ],
      "source": [
        "pip install chroma-haystack"
      ]
    },
    {
      "cell_type": "markdown",
      "metadata": {
        "id": "GOKWgMDCWGRd"
      },
      "source": [
        "## `ExtractiveReader`: a closer look\n",
        "\n",
        "Here's an example answer:\n",
        "```python\n",
        "[ExtractedAnswer(query='Who was Pliny the Elder?', score=0.8306006193161011, data='Roman writer', document=Document(id=bb2c5f3d2e2e2bf28d599c7b686ab47ba10fbc13c07279e612d8632af81e5d71, content: 'The Roman writer Pliny the Elder, writing in the first century AD, argued that the Great Pyramid had...', meta: {'url': 'https://en.wikipedia.org/wiki/Great_Pyramid_of_Giza', '_split_id': 16}\n",
        "```\n",
        "\n",
        "The confidence score ranges from 0 to 1. Higher scores mean the model has more confidence in the answer's relevance.\n",
        "\n",
        "The Reader sorts the answers based on their probability scores, with higher probability listed first. You can limit the number of answers the Reader returns in the optional `top_k` parameter.\n",
        "\n",
        "By default, the Reader sets a `no_answer=True` parameter. This param returns an `ExtractedAnswer` with no text, and the probability that none of the returned answers are correct.\n",
        "\n",
        "```python\n",
        "ExtractedAnswer(query='Who was Pliny the Elder?', score=0.04606167031102615, data=None, document=None, context=None, document_offset=None, context_offset=None, meta={})]}}\n",
        "```\n",
        "\n",
        "`.0.04606167031102615` means the model is fairly confident the provided answers are correct in this case. You can disable this behavio and return only answers by setting the `no_answer` param to `False` when initializing your `ExtractiveReader`.\n"
      ]
    },
    {
      "cell_type": "markdown",
      "metadata": {
        "id": "e8EQJuGVY_GG"
      },
      "source": [
        "## Wrapping it up\n",
        "\n",
        "If you've been following along, now you know how to build an extractive question answering pipeline with Haystack 2.0. 🎉 Thanks for reading!\n",
        "\n",
        "\n",
        "If you liked this tutorial, there's more to learn about Haystack 2.0:\n",
        "- [Classifying Documents & Queries by Language](https://haystack.deepset.ai/tutorials/32_classifying_documents_and_queries_by_language)\n",
        "-  [Generating Structured Output with Loop-Based Auto-Correction](https://haystack.deepset.ai/tutorials/28_structured_output_with_loop)\n",
        "- [Preprocessing Different File Types](https://haystack.deepset.ai/tutorials/30_file_type_preprocessing_index_pipeline)\n",
        "\n",
        "To stay up to date on the latest Haystack developments, you can [sign up for our newsletter](https://landing.deepset.ai/haystack-community-updates?utm_campaign=developer-relations&utm_source=extractive_qa_tutorial)."
      ]
    }
  ],
  "metadata": {
    "accelerator": "GPU",
    "colab": {
      "gpuType": "T4",
      "provenance": []
    },
    "kernelspec": {
      "display_name": "Python 3",
      "name": "python3"
    },
    "language_info": {
      "codemirror_mode": {
        "name": "ipython",
        "version": 3
      },
      "file_extension": ".py",
      "mimetype": "text/x-python",
      "name": "python",
      "nbconvert_exporter": "python",
      "pygments_lexer": "ipython3",
      "version": "3.10.0"
    },
    "widgets": {
      "application/vnd.jupyter.widget-state+json": {
        "025fa00d10a740c9aaecc341a67d5aee": {
          "model_module": "@jupyter-widgets/controls",
          "model_module_version": "1.5.0",
          "model_name": "DescriptionStyleModel",
          "state": {
            "_model_module": "@jupyter-widgets/controls",
            "_model_module_version": "1.5.0",
            "_model_name": "DescriptionStyleModel",
            "_view_count": null,
            "_view_module": "@jupyter-widgets/base",
            "_view_module_version": "1.2.0",
            "_view_name": "StyleView",
            "description_width": ""
          }
        },
        "051b7da1e4a14e318a2dd0776a0517e9": {
          "model_module": "@jupyter-widgets/controls",
          "model_module_version": "1.5.0",
          "model_name": "DescriptionStyleModel",
          "state": {
            "_model_module": "@jupyter-widgets/controls",
            "_model_module_version": "1.5.0",
            "_model_name": "DescriptionStyleModel",
            "_view_count": null,
            "_view_module": "@jupyter-widgets/base",
            "_view_module_version": "1.2.0",
            "_view_name": "StyleView",
            "description_width": ""
          }
        },
        "0cf0be42767945da95012e1a683cdfbd": {
          "model_module": "@jupyter-widgets/controls",
          "model_module_version": "1.5.0",
          "model_name": "FloatProgressModel",
          "state": {
            "_dom_classes": [],
            "_model_module": "@jupyter-widgets/controls",
            "_model_module_version": "1.5.0",
            "_model_name": "FloatProgressModel",
            "_view_count": null,
            "_view_module": "@jupyter-widgets/controls",
            "_view_module_version": "1.5.0",
            "_view_name": "ProgressView",
            "bar_style": "success",
            "description": "",
            "description_tooltip": null,
            "layout": "IPY_MODEL_ca531c033de54aea8683f90bcf2481d0",
            "max": 1,
            "min": 0,
            "orientation": "horizontal",
            "style": "IPY_MODEL_2c8b926016944c5a9ea75d2f5371da54",
            "value": 1
          }
        },
        "0da9739bb1b74849a762d613f9551399": {
          "model_module": "@jupyter-widgets/base",
          "model_module_version": "1.2.0",
          "model_name": "LayoutModel",
          "state": {
            "_model_module": "@jupyter-widgets/base",
            "_model_module_version": "1.2.0",
            "_model_name": "LayoutModel",
            "_view_count": null,
            "_view_module": "@jupyter-widgets/base",
            "_view_module_version": "1.2.0",
            "_view_name": "LayoutView",
            "align_content": null,
            "align_items": null,
            "align_self": null,
            "border": null,
            "bottom": null,
            "display": null,
            "flex": null,
            "flex_flow": null,
            "grid_area": null,
            "grid_auto_columns": null,
            "grid_auto_flow": null,
            "grid_auto_rows": null,
            "grid_column": null,
            "grid_gap": null,
            "grid_row": null,
            "grid_template_areas": null,
            "grid_template_columns": null,
            "grid_template_rows": null,
            "height": null,
            "justify_content": null,
            "justify_items": null,
            "left": null,
            "margin": null,
            "max_height": null,
            "max_width": null,
            "min_height": null,
            "min_width": null,
            "object_fit": null,
            "object_position": null,
            "order": null,
            "overflow": null,
            "overflow_x": null,
            "overflow_y": null,
            "padding": null,
            "right": null,
            "top": null,
            "visibility": null,
            "width": null
          }
        },
        "0f15ff14a11941cb9c13a4dc92cef713": {
          "model_module": "@jupyter-widgets/controls",
          "model_module_version": "1.5.0",
          "model_name": "HTMLModel",
          "state": {
            "_dom_classes": [],
            "_model_module": "@jupyter-widgets/controls",
            "_model_module_version": "1.5.0",
            "_model_name": "HTMLModel",
            "_view_count": null,
            "_view_module": "@jupyter-widgets/controls",
            "_view_module_version": "1.5.0",
            "_view_name": "HTMLView",
            "description": "",
            "description_tooltip": null,
            "layout": "IPY_MODEL_260ca97745c8406b8ec18275773529ed",
            "placeholder": "​",
            "style": "IPY_MODEL_051b7da1e4a14e318a2dd0776a0517e9",
            "value": "Batches: 100%"
          }
        },
        "1074a621bf2442be997f99cd15a75fd3": {
          "model_module": "@jupyter-widgets/controls",
          "model_module_version": "1.5.0",
          "model_name": "DescriptionStyleModel",
          "state": {
            "_model_module": "@jupyter-widgets/controls",
            "_model_module_version": "1.5.0",
            "_model_name": "DescriptionStyleModel",
            "_view_count": null,
            "_view_module": "@jupyter-widgets/base",
            "_view_module_version": "1.2.0",
            "_view_name": "StyleView",
            "description_width": ""
          }
        },
        "12c98e0d8c4a48c4898e2815d1daf0b6": {
          "model_module": "@jupyter-widgets/controls",
          "model_module_version": "1.5.0",
          "model_name": "HTMLModel",
          "state": {
            "_dom_classes": [],
            "_model_module": "@jupyter-widgets/controls",
            "_model_module_version": "1.5.0",
            "_model_name": "HTMLModel",
            "_view_count": null,
            "_view_module": "@jupyter-widgets/controls",
            "_view_module_version": "1.5.0",
            "_view_name": "HTMLView",
            "description": "",
            "description_tooltip": null,
            "layout": "IPY_MODEL_9453502532654e0f99157acad685d399",
            "placeholder": "​",
            "style": "IPY_MODEL_d8ca7dff4dee4d32bccbe3e70d738069",
            "value": " 1/1 [00:00&lt;00:00,  6.00it/s]"
          }
        },
        "260ca97745c8406b8ec18275773529ed": {
          "model_module": "@jupyter-widgets/base",
          "model_module_version": "1.2.0",
          "model_name": "LayoutModel",
          "state": {
            "_model_module": "@jupyter-widgets/base",
            "_model_module_version": "1.2.0",
            "_model_name": "LayoutModel",
            "_view_count": null,
            "_view_module": "@jupyter-widgets/base",
            "_view_module_version": "1.2.0",
            "_view_name": "LayoutView",
            "align_content": null,
            "align_items": null,
            "align_self": null,
            "border": null,
            "bottom": null,
            "display": null,
            "flex": null,
            "flex_flow": null,
            "grid_area": null,
            "grid_auto_columns": null,
            "grid_auto_flow": null,
            "grid_auto_rows": null,
            "grid_column": null,
            "grid_gap": null,
            "grid_row": null,
            "grid_template_areas": null,
            "grid_template_columns": null,
            "grid_template_rows": null,
            "height": null,
            "justify_content": null,
            "justify_items": null,
            "left": null,
            "margin": null,
            "max_height": null,
            "max_width": null,
            "min_height": null,
            "min_width": null,
            "object_fit": null,
            "object_position": null,
            "order": null,
            "overflow": null,
            "overflow_x": null,
            "overflow_y": null,
            "padding": null,
            "right": null,
            "top": null,
            "visibility": null,
            "width": null
          }
        },
        "2c8b926016944c5a9ea75d2f5371da54": {
          "model_module": "@jupyter-widgets/controls",
          "model_module_version": "1.5.0",
          "model_name": "ProgressStyleModel",
          "state": {
            "_model_module": "@jupyter-widgets/controls",
            "_model_module_version": "1.5.0",
            "_model_name": "ProgressStyleModel",
            "_view_count": null,
            "_view_module": "@jupyter-widgets/base",
            "_view_module_version": "1.2.0",
            "_view_name": "StyleView",
            "bar_color": null,
            "description_width": ""
          }
        },
        "2d55e17d141d46c2a6c222d2930ca17d": {
          "model_module": "@jupyter-widgets/controls",
          "model_module_version": "1.5.0",
          "model_name": "DescriptionStyleModel",
          "state": {
            "_model_module": "@jupyter-widgets/controls",
            "_model_module_version": "1.5.0",
            "_model_name": "DescriptionStyleModel",
            "_view_count": null,
            "_view_module": "@jupyter-widgets/base",
            "_view_module_version": "1.2.0",
            "_view_name": "StyleView",
            "description_width": ""
          }
        },
        "31b983f9cdbc43e980b7eb96d532ad16": {
          "model_module": "@jupyter-widgets/controls",
          "model_module_version": "1.5.0",
          "model_name": "ProgressStyleModel",
          "state": {
            "_model_module": "@jupyter-widgets/controls",
            "_model_module_version": "1.5.0",
            "_model_name": "ProgressStyleModel",
            "_view_count": null,
            "_view_module": "@jupyter-widgets/base",
            "_view_module_version": "1.2.0",
            "_view_name": "StyleView",
            "bar_color": null,
            "description_width": ""
          }
        },
        "35ca6f8ba1794cb99f06f473207e9955": {
          "model_module": "@jupyter-widgets/base",
          "model_module_version": "1.2.0",
          "model_name": "LayoutModel",
          "state": {
            "_model_module": "@jupyter-widgets/base",
            "_model_module_version": "1.2.0",
            "_model_name": "LayoutModel",
            "_view_count": null,
            "_view_module": "@jupyter-widgets/base",
            "_view_module_version": "1.2.0",
            "_view_name": "LayoutView",
            "align_content": null,
            "align_items": null,
            "align_self": null,
            "border": null,
            "bottom": null,
            "display": null,
            "flex": null,
            "flex_flow": null,
            "grid_area": null,
            "grid_auto_columns": null,
            "grid_auto_flow": null,
            "grid_auto_rows": null,
            "grid_column": null,
            "grid_gap": null,
            "grid_row": null,
            "grid_template_areas": null,
            "grid_template_columns": null,
            "grid_template_rows": null,
            "height": null,
            "justify_content": null,
            "justify_items": null,
            "left": null,
            "margin": null,
            "max_height": null,
            "max_width": null,
            "min_height": null,
            "min_width": null,
            "object_fit": null,
            "object_position": null,
            "order": null,
            "overflow": null,
            "overflow_x": null,
            "overflow_y": null,
            "padding": null,
            "right": null,
            "top": null,
            "visibility": null,
            "width": null
          }
        },
        "38562780aeb74cdfafe80c0c7ab7a29d": {
          "model_module": "@jupyter-widgets/controls",
          "model_module_version": "1.5.0",
          "model_name": "HTMLModel",
          "state": {
            "_dom_classes": [],
            "_model_module": "@jupyter-widgets/controls",
            "_model_module_version": "1.5.0",
            "_model_name": "HTMLModel",
            "_view_count": null,
            "_view_module": "@jupyter-widgets/controls",
            "_view_module_version": "1.5.0",
            "_view_name": "HTMLView",
            "description": "",
            "description_tooltip": null,
            "layout": "IPY_MODEL_75ef524111bf416fa116ac7bd19e4ee1",
            "placeholder": "​",
            "style": "IPY_MODEL_2d55e17d141d46c2a6c222d2930ca17d",
            "value": "Batches: 100%"
          }
        },
        "3d7afbfa03bf431dae04b8b4e1ecf148": {
          "model_module": "@jupyter-widgets/controls",
          "model_module_version": "1.5.0",
          "model_name": "ProgressStyleModel",
          "state": {
            "_model_module": "@jupyter-widgets/controls",
            "_model_module_version": "1.5.0",
            "_model_name": "ProgressStyleModel",
            "_view_count": null,
            "_view_module": "@jupyter-widgets/base",
            "_view_module_version": "1.2.0",
            "_view_name": "StyleView",
            "bar_color": null,
            "description_width": ""
          }
        },
        "54d0ac472602472fa469f7c42217a7d9": {
          "model_module": "@jupyter-widgets/base",
          "model_module_version": "1.2.0",
          "model_name": "LayoutModel",
          "state": {
            "_model_module": "@jupyter-widgets/base",
            "_model_module_version": "1.2.0",
            "_model_name": "LayoutModel",
            "_view_count": null,
            "_view_module": "@jupyter-widgets/base",
            "_view_module_version": "1.2.0",
            "_view_name": "LayoutView",
            "align_content": null,
            "align_items": null,
            "align_self": null,
            "border": null,
            "bottom": null,
            "display": null,
            "flex": null,
            "flex_flow": null,
            "grid_area": null,
            "grid_auto_columns": null,
            "grid_auto_flow": null,
            "grid_auto_rows": null,
            "grid_column": null,
            "grid_gap": null,
            "grid_row": null,
            "grid_template_areas": null,
            "grid_template_columns": null,
            "grid_template_rows": null,
            "height": null,
            "justify_content": null,
            "justify_items": null,
            "left": null,
            "margin": null,
            "max_height": null,
            "max_width": null,
            "min_height": null,
            "min_width": null,
            "object_fit": null,
            "object_position": null,
            "order": null,
            "overflow": null,
            "overflow_x": null,
            "overflow_y": null,
            "padding": null,
            "right": null,
            "top": null,
            "visibility": null,
            "width": null
          }
        },
        "5b30fc9025d649c2b55ada24ff7c4575": {
          "model_module": "@jupyter-widgets/base",
          "model_module_version": "1.2.0",
          "model_name": "LayoutModel",
          "state": {
            "_model_module": "@jupyter-widgets/base",
            "_model_module_version": "1.2.0",
            "_model_name": "LayoutModel",
            "_view_count": null,
            "_view_module": "@jupyter-widgets/base",
            "_view_module_version": "1.2.0",
            "_view_name": "LayoutView",
            "align_content": null,
            "align_items": null,
            "align_self": null,
            "border": null,
            "bottom": null,
            "display": null,
            "flex": null,
            "flex_flow": null,
            "grid_area": null,
            "grid_auto_columns": null,
            "grid_auto_flow": null,
            "grid_auto_rows": null,
            "grid_column": null,
            "grid_gap": null,
            "grid_row": null,
            "grid_template_areas": null,
            "grid_template_columns": null,
            "grid_template_rows": null,
            "height": null,
            "justify_content": null,
            "justify_items": null,
            "left": null,
            "margin": null,
            "max_height": null,
            "max_width": null,
            "min_height": null,
            "min_width": null,
            "object_fit": null,
            "object_position": null,
            "order": null,
            "overflow": null,
            "overflow_x": null,
            "overflow_y": null,
            "padding": null,
            "right": null,
            "top": null,
            "visibility": null,
            "width": null
          }
        },
        "6df7ccf2bf1547308508cbf578d018c9": {
          "model_module": "@jupyter-widgets/controls",
          "model_module_version": "1.5.0",
          "model_name": "HBoxModel",
          "state": {
            "_dom_classes": [],
            "_model_module": "@jupyter-widgets/controls",
            "_model_module_version": "1.5.0",
            "_model_name": "HBoxModel",
            "_view_count": null,
            "_view_module": "@jupyter-widgets/controls",
            "_view_module_version": "1.5.0",
            "_view_name": "HBoxView",
            "box_style": "",
            "children": [
              "IPY_MODEL_0f15ff14a11941cb9c13a4dc92cef713",
              "IPY_MODEL_981fe101183e469c8ea8d14bb835dfc4",
              "IPY_MODEL_b0d753979ee44a1986cf66594077fa97"
            ],
            "layout": "IPY_MODEL_8efe028f21ea4920862b0d8c11ce2196"
          }
        },
        "6f5f2dae012c4c9f87bde613a80a007d": {
          "model_module": "@jupyter-widgets/base",
          "model_module_version": "1.2.0",
          "model_name": "LayoutModel",
          "state": {
            "_model_module": "@jupyter-widgets/base",
            "_model_module_version": "1.2.0",
            "_model_name": "LayoutModel",
            "_view_count": null,
            "_view_module": "@jupyter-widgets/base",
            "_view_module_version": "1.2.0",
            "_view_name": "LayoutView",
            "align_content": null,
            "align_items": null,
            "align_self": null,
            "border": null,
            "bottom": null,
            "display": null,
            "flex": null,
            "flex_flow": null,
            "grid_area": null,
            "grid_auto_columns": null,
            "grid_auto_flow": null,
            "grid_auto_rows": null,
            "grid_column": null,
            "grid_gap": null,
            "grid_row": null,
            "grid_template_areas": null,
            "grid_template_columns": null,
            "grid_template_rows": null,
            "height": null,
            "justify_content": null,
            "justify_items": null,
            "left": null,
            "margin": null,
            "max_height": null,
            "max_width": null,
            "min_height": null,
            "min_width": null,
            "object_fit": null,
            "object_position": null,
            "order": null,
            "overflow": null,
            "overflow_x": null,
            "overflow_y": null,
            "padding": null,
            "right": null,
            "top": null,
            "visibility": null,
            "width": null
          }
        },
        "70f0838a34de4dc6a8e2911b599b7001": {
          "model_module": "@jupyter-widgets/controls",
          "model_module_version": "1.5.0",
          "model_name": "HTMLModel",
          "state": {
            "_dom_classes": [],
            "_model_module": "@jupyter-widgets/controls",
            "_model_module_version": "1.5.0",
            "_model_name": "HTMLModel",
            "_view_count": null,
            "_view_module": "@jupyter-widgets/controls",
            "_view_module_version": "1.5.0",
            "_view_name": "HTMLView",
            "description": "",
            "description_tooltip": null,
            "layout": "IPY_MODEL_97c9e6b0d85b4b21b6b4cb879758cec1",
            "placeholder": "​",
            "style": "IPY_MODEL_d706260a667145129dfa5838ae7b5b47",
            "value": "Batches: 100%"
          }
        },
        "725b963b8cea4715878ecc386702d479": {
          "model_module": "@jupyter-widgets/controls",
          "model_module_version": "1.5.0",
          "model_name": "FloatProgressModel",
          "state": {
            "_dom_classes": [],
            "_model_module": "@jupyter-widgets/controls",
            "_model_module_version": "1.5.0",
            "_model_name": "FloatProgressModel",
            "_view_count": null,
            "_view_module": "@jupyter-widgets/controls",
            "_view_module_version": "1.5.0",
            "_view_name": "ProgressView",
            "bar_style": "success",
            "description": "",
            "description_tooltip": null,
            "layout": "IPY_MODEL_35ca6f8ba1794cb99f06f473207e9955",
            "max": 1,
            "min": 0,
            "orientation": "horizontal",
            "style": "IPY_MODEL_82f16094d5524fadad19fcdd8138a44f",
            "value": 1
          }
        },
        "75ef524111bf416fa116ac7bd19e4ee1": {
          "model_module": "@jupyter-widgets/base",
          "model_module_version": "1.2.0",
          "model_name": "LayoutModel",
          "state": {
            "_model_module": "@jupyter-widgets/base",
            "_model_module_version": "1.2.0",
            "_model_name": "LayoutModel",
            "_view_count": null,
            "_view_module": "@jupyter-widgets/base",
            "_view_module_version": "1.2.0",
            "_view_name": "LayoutView",
            "align_content": null,
            "align_items": null,
            "align_self": null,
            "border": null,
            "bottom": null,
            "display": null,
            "flex": null,
            "flex_flow": null,
            "grid_area": null,
            "grid_auto_columns": null,
            "grid_auto_flow": null,
            "grid_auto_rows": null,
            "grid_column": null,
            "grid_gap": null,
            "grid_row": null,
            "grid_template_areas": null,
            "grid_template_columns": null,
            "grid_template_rows": null,
            "height": null,
            "justify_content": null,
            "justify_items": null,
            "left": null,
            "margin": null,
            "max_height": null,
            "max_width": null,
            "min_height": null,
            "min_width": null,
            "object_fit": null,
            "object_position": null,
            "order": null,
            "overflow": null,
            "overflow_x": null,
            "overflow_y": null,
            "padding": null,
            "right": null,
            "top": null,
            "visibility": null,
            "width": null
          }
        },
        "82f16094d5524fadad19fcdd8138a44f": {
          "model_module": "@jupyter-widgets/controls",
          "model_module_version": "1.5.0",
          "model_name": "ProgressStyleModel",
          "state": {
            "_model_module": "@jupyter-widgets/controls",
            "_model_module_version": "1.5.0",
            "_model_name": "ProgressStyleModel",
            "_view_count": null,
            "_view_module": "@jupyter-widgets/base",
            "_view_module_version": "1.2.0",
            "_view_name": "StyleView",
            "bar_color": null,
            "description_width": ""
          }
        },
        "8dd96ee3a3ed48418054e14f94bd9e2d": {
          "model_module": "@jupyter-widgets/controls",
          "model_module_version": "1.5.0",
          "model_name": "HTMLModel",
          "state": {
            "_dom_classes": [],
            "_model_module": "@jupyter-widgets/controls",
            "_model_module_version": "1.5.0",
            "_model_name": "HTMLModel",
            "_view_count": null,
            "_view_module": "@jupyter-widgets/controls",
            "_view_module_version": "1.5.0",
            "_view_name": "HTMLView",
            "description": "",
            "description_tooltip": null,
            "layout": "IPY_MODEL_eadd98fc9f1d48f9b7c1d67314928197",
            "placeholder": "​",
            "style": "IPY_MODEL_1074a621bf2442be997f99cd15a75fd3",
            "value": " 1/1 [00:01&lt;00:00,  1.92s/it]"
          }
        },
        "8efe028f21ea4920862b0d8c11ce2196": {
          "model_module": "@jupyter-widgets/base",
          "model_module_version": "1.2.0",
          "model_name": "LayoutModel",
          "state": {
            "_model_module": "@jupyter-widgets/base",
            "_model_module_version": "1.2.0",
            "_model_name": "LayoutModel",
            "_view_count": null,
            "_view_module": "@jupyter-widgets/base",
            "_view_module_version": "1.2.0",
            "_view_name": "LayoutView",
            "align_content": null,
            "align_items": null,
            "align_self": null,
            "border": null,
            "bottom": null,
            "display": null,
            "flex": null,
            "flex_flow": null,
            "grid_area": null,
            "grid_auto_columns": null,
            "grid_auto_flow": null,
            "grid_auto_rows": null,
            "grid_column": null,
            "grid_gap": null,
            "grid_row": null,
            "grid_template_areas": null,
            "grid_template_columns": null,
            "grid_template_rows": null,
            "height": null,
            "justify_content": null,
            "justify_items": null,
            "left": null,
            "margin": null,
            "max_height": null,
            "max_width": null,
            "min_height": null,
            "min_width": null,
            "object_fit": null,
            "object_position": null,
            "order": null,
            "overflow": null,
            "overflow_x": null,
            "overflow_y": null,
            "padding": null,
            "right": null,
            "top": null,
            "visibility": null,
            "width": null
          }
        },
        "9453502532654e0f99157acad685d399": {
          "model_module": "@jupyter-widgets/base",
          "model_module_version": "1.2.0",
          "model_name": "LayoutModel",
          "state": {
            "_model_module": "@jupyter-widgets/base",
            "_model_module_version": "1.2.0",
            "_model_name": "LayoutModel",
            "_view_count": null,
            "_view_module": "@jupyter-widgets/base",
            "_view_module_version": "1.2.0",
            "_view_name": "LayoutView",
            "align_content": null,
            "align_items": null,
            "align_self": null,
            "border": null,
            "bottom": null,
            "display": null,
            "flex": null,
            "flex_flow": null,
            "grid_area": null,
            "grid_auto_columns": null,
            "grid_auto_flow": null,
            "grid_auto_rows": null,
            "grid_column": null,
            "grid_gap": null,
            "grid_row": null,
            "grid_template_areas": null,
            "grid_template_columns": null,
            "grid_template_rows": null,
            "height": null,
            "justify_content": null,
            "justify_items": null,
            "left": null,
            "margin": null,
            "max_height": null,
            "max_width": null,
            "min_height": null,
            "min_width": null,
            "object_fit": null,
            "object_position": null,
            "order": null,
            "overflow": null,
            "overflow_x": null,
            "overflow_y": null,
            "padding": null,
            "right": null,
            "top": null,
            "visibility": null,
            "width": null
          }
        },
        "97c9e6b0d85b4b21b6b4cb879758cec1": {
          "model_module": "@jupyter-widgets/base",
          "model_module_version": "1.2.0",
          "model_name": "LayoutModel",
          "state": {
            "_model_module": "@jupyter-widgets/base",
            "_model_module_version": "1.2.0",
            "_model_name": "LayoutModel",
            "_view_count": null,
            "_view_module": "@jupyter-widgets/base",
            "_view_module_version": "1.2.0",
            "_view_name": "LayoutView",
            "align_content": null,
            "align_items": null,
            "align_self": null,
            "border": null,
            "bottom": null,
            "display": null,
            "flex": null,
            "flex_flow": null,
            "grid_area": null,
            "grid_auto_columns": null,
            "grid_auto_flow": null,
            "grid_auto_rows": null,
            "grid_column": null,
            "grid_gap": null,
            "grid_row": null,
            "grid_template_areas": null,
            "grid_template_columns": null,
            "grid_template_rows": null,
            "height": null,
            "justify_content": null,
            "justify_items": null,
            "left": null,
            "margin": null,
            "max_height": null,
            "max_width": null,
            "min_height": null,
            "min_width": null,
            "object_fit": null,
            "object_position": null,
            "order": null,
            "overflow": null,
            "overflow_x": null,
            "overflow_y": null,
            "padding": null,
            "right": null,
            "top": null,
            "visibility": null,
            "width": null
          }
        },
        "981fe101183e469c8ea8d14bb835dfc4": {
          "model_module": "@jupyter-widgets/controls",
          "model_module_version": "1.5.0",
          "model_name": "FloatProgressModel",
          "state": {
            "_dom_classes": [],
            "_model_module": "@jupyter-widgets/controls",
            "_model_module_version": "1.5.0",
            "_model_name": "FloatProgressModel",
            "_view_count": null,
            "_view_module": "@jupyter-widgets/controls",
            "_view_module_version": "1.5.0",
            "_view_name": "ProgressView",
            "bar_style": "success",
            "description": "",
            "description_tooltip": null,
            "layout": "IPY_MODEL_5b30fc9025d649c2b55ada24ff7c4575",
            "max": 1,
            "min": 0,
            "orientation": "horizontal",
            "style": "IPY_MODEL_3d7afbfa03bf431dae04b8b4e1ecf148",
            "value": 1
          }
        },
        "a0c2b09151fd4b6c9366bb7699d01c98": {
          "model_module": "@jupyter-widgets/controls",
          "model_module_version": "1.5.0",
          "model_name": "HBoxModel",
          "state": {
            "_dom_classes": [],
            "_model_module": "@jupyter-widgets/controls",
            "_model_module_version": "1.5.0",
            "_model_name": "HBoxModel",
            "_view_count": null,
            "_view_module": "@jupyter-widgets/controls",
            "_view_module_version": "1.5.0",
            "_view_name": "HBoxView",
            "box_style": "",
            "children": [
              "IPY_MODEL_aad4a5b69ce142ec83c6120656cff44e",
              "IPY_MODEL_0cf0be42767945da95012e1a683cdfbd",
              "IPY_MODEL_12c98e0d8c4a48c4898e2815d1daf0b6"
            ],
            "layout": "IPY_MODEL_0da9739bb1b74849a762d613f9551399"
          }
        },
        "a132cf9dd99746d68b0c91c69143f5c5": {
          "model_module": "@jupyter-widgets/controls",
          "model_module_version": "1.5.0",
          "model_name": "HBoxModel",
          "state": {
            "_dom_classes": [],
            "_model_module": "@jupyter-widgets/controls",
            "_model_module_version": "1.5.0",
            "_model_name": "HBoxModel",
            "_view_count": null,
            "_view_module": "@jupyter-widgets/controls",
            "_view_module_version": "1.5.0",
            "_view_name": "HBoxView",
            "box_style": "",
            "children": [
              "IPY_MODEL_38562780aeb74cdfafe80c0c7ab7a29d",
              "IPY_MODEL_725b963b8cea4715878ecc386702d479",
              "IPY_MODEL_8dd96ee3a3ed48418054e14f94bd9e2d"
            ],
            "layout": "IPY_MODEL_6f5f2dae012c4c9f87bde613a80a007d"
          }
        },
        "a3b5c86a38754281bbd211ef1743428d": {
          "model_module": "@jupyter-widgets/controls",
          "model_module_version": "1.5.0",
          "model_name": "FloatProgressModel",
          "state": {
            "_dom_classes": [],
            "_model_module": "@jupyter-widgets/controls",
            "_model_module_version": "1.5.0",
            "_model_name": "FloatProgressModel",
            "_view_count": null,
            "_view_module": "@jupyter-widgets/controls",
            "_view_module_version": "1.5.0",
            "_view_name": "ProgressView",
            "bar_style": "success",
            "description": "",
            "description_tooltip": null,
            "layout": "IPY_MODEL_aa1d7bdf68fe4902a7b92c18055a48ca",
            "max": 1,
            "min": 0,
            "orientation": "horizontal",
            "style": "IPY_MODEL_31b983f9cdbc43e980b7eb96d532ad16",
            "value": 1
          }
        },
        "aa1d7bdf68fe4902a7b92c18055a48ca": {
          "model_module": "@jupyter-widgets/base",
          "model_module_version": "1.2.0",
          "model_name": "LayoutModel",
          "state": {
            "_model_module": "@jupyter-widgets/base",
            "_model_module_version": "1.2.0",
            "_model_name": "LayoutModel",
            "_view_count": null,
            "_view_module": "@jupyter-widgets/base",
            "_view_module_version": "1.2.0",
            "_view_name": "LayoutView",
            "align_content": null,
            "align_items": null,
            "align_self": null,
            "border": null,
            "bottom": null,
            "display": null,
            "flex": null,
            "flex_flow": null,
            "grid_area": null,
            "grid_auto_columns": null,
            "grid_auto_flow": null,
            "grid_auto_rows": null,
            "grid_column": null,
            "grid_gap": null,
            "grid_row": null,
            "grid_template_areas": null,
            "grid_template_columns": null,
            "grid_template_rows": null,
            "height": null,
            "justify_content": null,
            "justify_items": null,
            "left": null,
            "margin": null,
            "max_height": null,
            "max_width": null,
            "min_height": null,
            "min_width": null,
            "object_fit": null,
            "object_position": null,
            "order": null,
            "overflow": null,
            "overflow_x": null,
            "overflow_y": null,
            "padding": null,
            "right": null,
            "top": null,
            "visibility": null,
            "width": null
          }
        },
        "aad4a5b69ce142ec83c6120656cff44e": {
          "model_module": "@jupyter-widgets/controls",
          "model_module_version": "1.5.0",
          "model_name": "HTMLModel",
          "state": {
            "_dom_classes": [],
            "_model_module": "@jupyter-widgets/controls",
            "_model_module_version": "1.5.0",
            "_model_name": "HTMLModel",
            "_view_count": null,
            "_view_module": "@jupyter-widgets/controls",
            "_view_module_version": "1.5.0",
            "_view_name": "HTMLView",
            "description": "",
            "description_tooltip": null,
            "layout": "IPY_MODEL_c5fa997d5716460b82309294b381013c",
            "placeholder": "​",
            "style": "IPY_MODEL_addd65d4a73545c0b88438415d98eee8",
            "value": "Batches: 100%"
          }
        },
        "addd65d4a73545c0b88438415d98eee8": {
          "model_module": "@jupyter-widgets/controls",
          "model_module_version": "1.5.0",
          "model_name": "DescriptionStyleModel",
          "state": {
            "_model_module": "@jupyter-widgets/controls",
            "_model_module_version": "1.5.0",
            "_model_name": "DescriptionStyleModel",
            "_view_count": null,
            "_view_module": "@jupyter-widgets/base",
            "_view_module_version": "1.2.0",
            "_view_name": "StyleView",
            "description_width": ""
          }
        },
        "b0d753979ee44a1986cf66594077fa97": {
          "model_module": "@jupyter-widgets/controls",
          "model_module_version": "1.5.0",
          "model_name": "HTMLModel",
          "state": {
            "_dom_classes": [],
            "_model_module": "@jupyter-widgets/controls",
            "_model_module_version": "1.5.0",
            "_model_name": "HTMLModel",
            "_view_count": null,
            "_view_module": "@jupyter-widgets/controls",
            "_view_module_version": "1.5.0",
            "_view_name": "HTMLView",
            "description": "",
            "description_tooltip": null,
            "layout": "IPY_MODEL_54d0ac472602472fa469f7c42217a7d9",
            "placeholder": "​",
            "style": "IPY_MODEL_025fa00d10a740c9aaecc341a67d5aee",
            "value": " 1/1 [00:00&lt;00:00,  3.86it/s]"
          }
        },
        "b3bf4c71ccfa404d975a0f8c3f9bda96": {
          "model_module": "@jupyter-widgets/base",
          "model_module_version": "1.2.0",
          "model_name": "LayoutModel",
          "state": {
            "_model_module": "@jupyter-widgets/base",
            "_model_module_version": "1.2.0",
            "_model_name": "LayoutModel",
            "_view_count": null,
            "_view_module": "@jupyter-widgets/base",
            "_view_module_version": "1.2.0",
            "_view_name": "LayoutView",
            "align_content": null,
            "align_items": null,
            "align_self": null,
            "border": null,
            "bottom": null,
            "display": null,
            "flex": null,
            "flex_flow": null,
            "grid_area": null,
            "grid_auto_columns": null,
            "grid_auto_flow": null,
            "grid_auto_rows": null,
            "grid_column": null,
            "grid_gap": null,
            "grid_row": null,
            "grid_template_areas": null,
            "grid_template_columns": null,
            "grid_template_rows": null,
            "height": null,
            "justify_content": null,
            "justify_items": null,
            "left": null,
            "margin": null,
            "max_height": null,
            "max_width": null,
            "min_height": null,
            "min_width": null,
            "object_fit": null,
            "object_position": null,
            "order": null,
            "overflow": null,
            "overflow_x": null,
            "overflow_y": null,
            "padding": null,
            "right": null,
            "top": null,
            "visibility": null,
            "width": null
          }
        },
        "b48207fff6544b25afd5fa6e8ad679f6": {
          "model_module": "@jupyter-widgets/controls",
          "model_module_version": "1.5.0",
          "model_name": "HBoxModel",
          "state": {
            "_dom_classes": [],
            "_model_module": "@jupyter-widgets/controls",
            "_model_module_version": "1.5.0",
            "_model_name": "HBoxModel",
            "_view_count": null,
            "_view_module": "@jupyter-widgets/controls",
            "_view_module_version": "1.5.0",
            "_view_name": "HBoxView",
            "box_style": "",
            "children": [
              "IPY_MODEL_70f0838a34de4dc6a8e2911b599b7001",
              "IPY_MODEL_a3b5c86a38754281bbd211ef1743428d",
              "IPY_MODEL_c0f8e756b3574f549729adadf9724eff"
            ],
            "layout": "IPY_MODEL_ede88cf051f94cc284ae8869755478cc"
          }
        },
        "c0f8e756b3574f549729adadf9724eff": {
          "model_module": "@jupyter-widgets/controls",
          "model_module_version": "1.5.0",
          "model_name": "HTMLModel",
          "state": {
            "_dom_classes": [],
            "_model_module": "@jupyter-widgets/controls",
            "_model_module_version": "1.5.0",
            "_model_name": "HTMLModel",
            "_view_count": null,
            "_view_module": "@jupyter-widgets/controls",
            "_view_module_version": "1.5.0",
            "_view_name": "HTMLView",
            "description": "",
            "description_tooltip": null,
            "layout": "IPY_MODEL_b3bf4c71ccfa404d975a0f8c3f9bda96",
            "placeholder": "​",
            "style": "IPY_MODEL_edbbe5863433463595a3997f965431d0",
            "value": " 1/1 [00:17&lt;00:00, 17.97s/it]"
          }
        },
        "c5fa997d5716460b82309294b381013c": {
          "model_module": "@jupyter-widgets/base",
          "model_module_version": "1.2.0",
          "model_name": "LayoutModel",
          "state": {
            "_model_module": "@jupyter-widgets/base",
            "_model_module_version": "1.2.0",
            "_model_name": "LayoutModel",
            "_view_count": null,
            "_view_module": "@jupyter-widgets/base",
            "_view_module_version": "1.2.0",
            "_view_name": "LayoutView",
            "align_content": null,
            "align_items": null,
            "align_self": null,
            "border": null,
            "bottom": null,
            "display": null,
            "flex": null,
            "flex_flow": null,
            "grid_area": null,
            "grid_auto_columns": null,
            "grid_auto_flow": null,
            "grid_auto_rows": null,
            "grid_column": null,
            "grid_gap": null,
            "grid_row": null,
            "grid_template_areas": null,
            "grid_template_columns": null,
            "grid_template_rows": null,
            "height": null,
            "justify_content": null,
            "justify_items": null,
            "left": null,
            "margin": null,
            "max_height": null,
            "max_width": null,
            "min_height": null,
            "min_width": null,
            "object_fit": null,
            "object_position": null,
            "order": null,
            "overflow": null,
            "overflow_x": null,
            "overflow_y": null,
            "padding": null,
            "right": null,
            "top": null,
            "visibility": null,
            "width": null
          }
        },
        "ca531c033de54aea8683f90bcf2481d0": {
          "model_module": "@jupyter-widgets/base",
          "model_module_version": "1.2.0",
          "model_name": "LayoutModel",
          "state": {
            "_model_module": "@jupyter-widgets/base",
            "_model_module_version": "1.2.0",
            "_model_name": "LayoutModel",
            "_view_count": null,
            "_view_module": "@jupyter-widgets/base",
            "_view_module_version": "1.2.0",
            "_view_name": "LayoutView",
            "align_content": null,
            "align_items": null,
            "align_self": null,
            "border": null,
            "bottom": null,
            "display": null,
            "flex": null,
            "flex_flow": null,
            "grid_area": null,
            "grid_auto_columns": null,
            "grid_auto_flow": null,
            "grid_auto_rows": null,
            "grid_column": null,
            "grid_gap": null,
            "grid_row": null,
            "grid_template_areas": null,
            "grid_template_columns": null,
            "grid_template_rows": null,
            "height": null,
            "justify_content": null,
            "justify_items": null,
            "left": null,
            "margin": null,
            "max_height": null,
            "max_width": null,
            "min_height": null,
            "min_width": null,
            "object_fit": null,
            "object_position": null,
            "order": null,
            "overflow": null,
            "overflow_x": null,
            "overflow_y": null,
            "padding": null,
            "right": null,
            "top": null,
            "visibility": null,
            "width": null
          }
        },
        "d706260a667145129dfa5838ae7b5b47": {
          "model_module": "@jupyter-widgets/controls",
          "model_module_version": "1.5.0",
          "model_name": "DescriptionStyleModel",
          "state": {
            "_model_module": "@jupyter-widgets/controls",
            "_model_module_version": "1.5.0",
            "_model_name": "DescriptionStyleModel",
            "_view_count": null,
            "_view_module": "@jupyter-widgets/base",
            "_view_module_version": "1.2.0",
            "_view_name": "StyleView",
            "description_width": ""
          }
        },
        "d8ca7dff4dee4d32bccbe3e70d738069": {
          "model_module": "@jupyter-widgets/controls",
          "model_module_version": "1.5.0",
          "model_name": "DescriptionStyleModel",
          "state": {
            "_model_module": "@jupyter-widgets/controls",
            "_model_module_version": "1.5.0",
            "_model_name": "DescriptionStyleModel",
            "_view_count": null,
            "_view_module": "@jupyter-widgets/base",
            "_view_module_version": "1.2.0",
            "_view_name": "StyleView",
            "description_width": ""
          }
        },
        "eadd98fc9f1d48f9b7c1d67314928197": {
          "model_module": "@jupyter-widgets/base",
          "model_module_version": "1.2.0",
          "model_name": "LayoutModel",
          "state": {
            "_model_module": "@jupyter-widgets/base",
            "_model_module_version": "1.2.0",
            "_model_name": "LayoutModel",
            "_view_count": null,
            "_view_module": "@jupyter-widgets/base",
            "_view_module_version": "1.2.0",
            "_view_name": "LayoutView",
            "align_content": null,
            "align_items": null,
            "align_self": null,
            "border": null,
            "bottom": null,
            "display": null,
            "flex": null,
            "flex_flow": null,
            "grid_area": null,
            "grid_auto_columns": null,
            "grid_auto_flow": null,
            "grid_auto_rows": null,
            "grid_column": null,
            "grid_gap": null,
            "grid_row": null,
            "grid_template_areas": null,
            "grid_template_columns": null,
            "grid_template_rows": null,
            "height": null,
            "justify_content": null,
            "justify_items": null,
            "left": null,
            "margin": null,
            "max_height": null,
            "max_width": null,
            "min_height": null,
            "min_width": null,
            "object_fit": null,
            "object_position": null,
            "order": null,
            "overflow": null,
            "overflow_x": null,
            "overflow_y": null,
            "padding": null,
            "right": null,
            "top": null,
            "visibility": null,
            "width": null
          }
        },
        "edbbe5863433463595a3997f965431d0": {
          "model_module": "@jupyter-widgets/controls",
          "model_module_version": "1.5.0",
          "model_name": "DescriptionStyleModel",
          "state": {
            "_model_module": "@jupyter-widgets/controls",
            "_model_module_version": "1.5.0",
            "_model_name": "DescriptionStyleModel",
            "_view_count": null,
            "_view_module": "@jupyter-widgets/base",
            "_view_module_version": "1.2.0",
            "_view_name": "StyleView",
            "description_width": ""
          }
        },
        "ede88cf051f94cc284ae8869755478cc": {
          "model_module": "@jupyter-widgets/base",
          "model_module_version": "1.2.0",
          "model_name": "LayoutModel",
          "state": {
            "_model_module": "@jupyter-widgets/base",
            "_model_module_version": "1.2.0",
            "_model_name": "LayoutModel",
            "_view_count": null,
            "_view_module": "@jupyter-widgets/base",
            "_view_module_version": "1.2.0",
            "_view_name": "LayoutView",
            "align_content": null,
            "align_items": null,
            "align_self": null,
            "border": null,
            "bottom": null,
            "display": null,
            "flex": null,
            "flex_flow": null,
            "grid_area": null,
            "grid_auto_columns": null,
            "grid_auto_flow": null,
            "grid_auto_rows": null,
            "grid_column": null,
            "grid_gap": null,
            "grid_row": null,
            "grid_template_areas": null,
            "grid_template_columns": null,
            "grid_template_rows": null,
            "height": null,
            "justify_content": null,
            "justify_items": null,
            "left": null,
            "margin": null,
            "max_height": null,
            "max_width": null,
            "min_height": null,
            "min_width": null,
            "object_fit": null,
            "object_position": null,
            "order": null,
            "overflow": null,
            "overflow_x": null,
            "overflow_y": null,
            "padding": null,
            "right": null,
            "top": null,
            "visibility": null,
            "width": null
          }
        }
      }
    }
  },
  "nbformat": 4,
  "nbformat_minor": 0
}
