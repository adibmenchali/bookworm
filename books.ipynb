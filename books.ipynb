{
 "cells": [
  {
   "cell_type": "code",
   "execution_count": 16,
   "metadata": {},
   "outputs": [],
   "source": [
    "import requests\n",
    "\n",
    "def fetch_book_titles(api_key, num_books):\n",
    "    url = f\"https://api.nytimes.com/svc/books/v3/lists.json?list-name=hardcover-fiction&api-key={api_key}&offset={num_books}\"\n",
    "    \n",
    "    try:\n",
    "        response = requests.get(url)\n",
    "        response.raise_for_status()  # Raise an exception for 4xx and 5xx status codes\n",
    "        \n",
    "        data = response.json()\n",
    "        book_titles = [book['book_details'][0]['title'] for book in data['results']]\n",
    "        \n",
    "        return book_titles\n",
    "    except requests.exceptions.RequestException as e:\n",
    "        print(f\"Error fetching data: {e}\")\n",
    "        return None\n",
    "\n",
    "# Provide your NY Times API key here\n",
    "api_key = \"OJKKgPaBu9Apywo3vA1loh12EQ01AbrL\"\n",
    "num_books = 20  # Number of books to fetch\n",
    "\n",
    "book_titles = fetch_book_titles(api_key, num_books)\n",
    "if book_titles:\n",
    "    for title in book_titles:\n",
    "        print(title)\n"
   ]
  },
  {
   "cell_type": "code",
   "execution_count": 15,
   "metadata": {},
   "outputs": [
    {
     "data": {
      "text/plain": [
       "[]"
      ]
     },
     "execution_count": 15,
     "metadata": {},
     "output_type": "execute_result"
    }
   ],
   "source": [
    "book_titles"
   ]
  },
  {
   "cell_type": "code",
   "execution_count": null,
   "metadata": {},
   "outputs": [],
   "source": []
  }
 ],
 "metadata": {
  "kernelspec": {
   "display_name": "Python 3",
   "language": "python",
   "name": "python3"
  },
  "language_info": {
   "codemirror_mode": {
    "name": "ipython",
    "version": 3
   },
   "file_extension": ".py",
   "mimetype": "text/x-python",
   "name": "python",
   "nbconvert_exporter": "python",
   "pygments_lexer": "ipython3",
   "version": "3.10.0"
  }
 },
 "nbformat": 4,
 "nbformat_minor": 2
}
